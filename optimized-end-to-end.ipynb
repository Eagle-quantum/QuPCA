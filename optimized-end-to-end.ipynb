{
 "cells": [
  {
   "cell_type": "markdown",
   "metadata": {},
   "source": [
    "# Custom implementation of *A Low-Complexity Quantum Principal Component Analysis Algorithm*\n",
    "https://doi.org/10.1109/TQE.2021.3140152"
   ]
  },
  {
   "cell_type": "code",
   "execution_count": 1,
   "metadata": {},
   "outputs": [],
   "source": [
    "import numpy as np\n",
    "import pandas as pd\n",
    "import itertools\n",
    "\n",
    "from qiskit import Aer, transpile, QuantumRegister, QuantumCircuit\n",
    "from qiskit.visualization import plot_histogram\n",
    "from qiskit.algorithms.linear_solvers.matrices.numpy_matrix import NumPyMatrix\n",
    "from qiskit.circuit.library import PhaseEstimation\n",
    "from qiskit.circuit.library.standard_gates import RYGate\n",
    "from qiskit.circuit.library.data_preparation import StatePreparation\n",
    "\n",
    "import warnings\n",
    "warnings.filterwarnings(\"ignore\")"
   ]
  },
  {
   "cell_type": "markdown",
   "metadata": {},
   "source": [
    "### Utils"
   ]
  },
  {
   "cell_type": "code",
   "execution_count": 15,
   "metadata": {},
   "outputs": [],
   "source": [
    "def Generate_matrix(replicate_paper, matrix_dimension, eig_values_list=None):\n",
    "    \"\"\"\n",
    "    Synthetic matrix generator through input parameters: \n",
    "        -   replicate_paper: boolean parameter, recreate 2x2 matrix used in reference paper\n",
    "        -   matrix_dimension: int parameter for synthetic matrix generation\n",
    "        -   eig_values_list: optional eigenvalues list. if not provided, it will be calculated from generated matrix.\n",
    "    Output :\n",
    "        - synthetic matrix as numpy matrix.\n",
    "        - normalization factor\n",
    "    \"\"\"\n",
    "\n",
    "    if replicate_paper == False:\n",
    "        # Generate hermitian matrix\n",
    "        random_matrix=np.random.rand(matrix_dimension, matrix_dimension) \n",
    "        hermitian_matrix=np.dot(random_matrix, random_matrix.T)\n",
    "\n",
    "        eig, e_v = np.linalg.eig(hermitian_matrix)\n",
    "        if eig_values_list is None:\n",
    "            eig_values_list = np.array(eig)\n",
    "            print(eig_values_list)\n",
    "        example_matrix = e_v @ np.diag(eig_values_list) @ e_v.T\n",
    "\n",
    "    else:\n",
    "        example_matrix = np.array([[1.5, 0.5],[0.5, 1.5]])\n",
    "    \n",
    "    norm_factor = np.trace(example_matrix)\n",
    "    normalized_example_matrix = example_matrix/norm_factor\n",
    "\n",
    "    print(f'Matrix:\\n {example_matrix.round(2)}\\n')\n",
    "    for eigenval, eigenvec in zip(np.linalg.eig(example_matrix)[0][::-1], np.rot90(np.linalg.eig(example_matrix)[1])):\n",
    "        print(f'eigenvalue: {eigenval:.0f} - eigenvector: {eigenvec.round(3)}')\n",
    "    return normalized_example_matrix, norm_factor"
   ]
  },
  {
   "cell_type": "code",
   "execution_count": 3,
   "metadata": {},
   "outputs": [],
   "source": [
    "def generate_qram_circuit(example_matrix):\n",
    "    \"\"\"\n",
    "    For a generic matrix, the corrisponding qram circuit for matrix preprocessing into corrisponding quantum state. \n",
    "\n",
    "    Input parameters: \n",
    "        - example_matrix: generic matrix as numpy matrix.\n",
    "    Output :\n",
    "        - qc : preprocessing circuit.\n",
    "    \"\"\"\n",
    "\n",
    "    flattened_matrix = example_matrix.flatten()\n",
    "    norm = np.linalg.norm(flattened_matrix)\n",
    "    state_preparation = StatePreparation(flattened_matrix / norm)\n",
    "\n",
    "    num_qubits=int(np.ceil(np.log2(len(flattened_matrix))))\n",
    "    qc = QuantumCircuit(num_qubits)\n",
    "\n",
    "    qc.append(state_preparation, [i for i in range(num_qubits-1,-1,-1)])\n",
    "\n",
    "    return qc"
   ]
  },
  {
   "cell_type": "code",
   "execution_count": 4,
   "metadata": {},
   "outputs": [],
   "source": [
    "def phase_estimation(matrix, qram_circuit, resolution):\n",
    "    \"\"\"\n",
    "    For a generic 2**n matrix, the corrisponding Quantum Phase Estimation for integer eigenvalues extraction \n",
    "\n",
    "    Input parameters: \n",
    "        - matrix: generic matrix as numpy matrix ( 2^N shape )\n",
    "        - qram_circuit: preprocessing circuit\n",
    "        - replicate_paper: boolean parameter, recreate 2x2 matrix used in reference paper\n",
    "        - eigval_list: list of eigenvalues generated for testing purposes\n",
    "    Output :\n",
    "        - resolution: number of qubits used to represent the computed eigenvalues\n",
    "        - pe : phase estimation circuit\n",
    "    \"\"\"\n",
    "\n",
    "    #Unitary Operator for PE\n",
    "    u_circuit = NumPyMatrix(matrix, evolution_time=2*np.pi)\n",
    "\n",
    "    #PE circuit\n",
    "    pe = PhaseEstimation(resolution, u_circuit, name = \"PE\")\n",
    "\n",
    "    num_qubit = resolution+int(np.ceil(np.log2(len(matrix)**2)))\n",
    "\n",
    "    pe_register = QuantumRegister(num_qubit, 'total')\n",
    "\n",
    "    pe_circuit = QuantumCircuit(pe_register)\n",
    "\n",
    "    pe_circuit.append(qram_circuit.to_gate(), pe_register[resolution:])\n",
    "    pe_circuit.append(pe.to_gate(), pe_register[0:pe.num_qubits])\n",
    "\n",
    "    return pe_circuit\n",
    "\n",
    "def check_statevector(backend, pe_circuit, resolution, example_matrix):\n",
    "    pe_job = backend.run(transpile(pe_circuit, backend=backend))\n",
    "    statevector = np.asarray(pe_job.result().get_statevector()).round(3)\n",
    "\n",
    "    bitstrings = [''.join([''.join(str(j)) for j in i]) for i in list(map(list, itertools.product([0, 1], repeat=resolution+len(example_matrix))))]\n",
    "    statevector_dict = {}\n",
    "    for bitstring, amplitude in zip(bitstrings, statevector):\n",
    "        statevector_dict[bitstring] = amplitude\n",
    "    return statevector_dict"
   ]
  },
  {
   "cell_type": "code",
   "execution_count": 28,
   "metadata": {},
   "outputs": [],
   "source": [
    "from scipy.signal import find_peaks\n",
    "\n",
    "def eigen_estimation(probabilities, sign_dictionary, resolution, debug=False):\n",
    "    \"\"\"\n",
    "    Estimate eigenvalues and eigenvectors from the input matrix and the relative output of state tomography \n",
    "\n",
    "    Input parameters: \n",
    "        - probabilities: the probabilities for each state obtained from tomography\n",
    "        - sign dictionary: the signs of the reconstructed (via tomography) statevector\n",
    "        - resolution: number of qubits used to represent the computed eigenvalues\n",
    "    Output :\n",
    "        - eigenvalues: eigenvalues of the input matrix\n",
    "        - eigenvectors: eigenvectors of the input matrix\n",
    "    \"\"\"\n",
    "\n",
    "    df = pd.DataFrame.from_dict(probabilities, orient='index')\n",
    "    df.reset_index(inplace=True)\n",
    "    df.columns=['state', 'module']\n",
    "\n",
    "    df['lambda']=df['state'].apply(lambda x: x[-resolution:])\n",
    "    df1=df.groupby('lambda').agg({'module':'sum'})\n",
    "    #df1['module_new']=df1['module'].apply(lambda x: np.sqrt(x.real**2 + x.imag**2))\n",
    "    df1=df1.sort_values('module',ascending=False)\n",
    "    df1.reset_index(inplace=True)\n",
    "    df1['num']=df1['lambda'].apply(lambda x :int(x[::-1],base=2)/(2**resolution))\n",
    "\n",
    "    peaks=[]\n",
    "    nums_peaks=[]\n",
    "\n",
    "    for i in find_peaks(df1.sort_values(['num'])['module'], threshold=0.001)[0]:\n",
    "        el = df1.sort_values(['num']).iloc[i]\n",
    "        nums_peaks.append(el['num'])\n",
    "        peaks.append(el['lambda'])\n",
    "\n",
    "    if debug == True:\n",
    "        print(peaks, nums_peaks)\n",
    "        df1[['num','module']].sort_values('num').set_index('num').plot(style='-*',figsize=(15,10))\n",
    "\n",
    "    df.columns=['state','module','lambda']\n",
    "    df['sign']=np.array(list(sign_dictionary.values()))\n",
    "    df['module']=df['module'].multiply(np.array(list(sign_dictionary.values())), axis=0)\n",
    "    df=df.fillna(0)\n",
    "\n",
    "    a=[]\n",
    "    save_sign=[]\n",
    "    eigenvalues=[]\n",
    "    for l in peaks:\n",
    "        eigenvalues.append(int(l[::-1],base=2)/(2**resolution))\n",
    "        a_=np.array(df.query(\"state.str.endswith(@l)\")['module'].values)\n",
    "        #print(a_)\n",
    "        save_sign.append(np.sign(a_))\n",
    "        #print(save_sign)\n",
    "        \n",
    "        a.append(np.sqrt(abs(a_)))\n",
    "\n",
    "    #a=[a1,a2]\n",
    "\n",
    "    for i in range(len(a)):\n",
    "        # print(a[i])\n",
    "        normalization_factor=np.sqrt((1/(sum(a[i]**2))))\n",
    "        # print(normalization_factor)\n",
    "        a[i]*=normalization_factor\n",
    "        a[i]*=save_sign[i]\n",
    "    \n",
    "    print(a)\n",
    "    len_eigenvector = len(list(probabilities.keys())[0])-resolution\n",
    "    eigenvectors=[]\n",
    "    for ll, eig in zip(a, eigenvalues):\n",
    "        \n",
    "        eigenvector=np.zeros(len_eigenvector) #put length of eigenvector\n",
    "        save_sign=np.sign(ll)\n",
    "        sv=abs(ll)\n",
    "        max_list=[]\n",
    "        scaled_statevectors=[]\n",
    "        for e,i in enumerate(range(0,len(sv), len_eigenvector)):\n",
    "            max_list.append(max(sv[i:i+len_eigenvector]))\n",
    "            scaled_statevectors.append(sv[i:i+len_eigenvector]/max_list[e])\n",
    "            #print(max_list,scaled_statevectors)\n",
    "        idx_max=np.argmax(max_list)\n",
    "        #print(idx_max)\n",
    "        max_max=max_list[idx_max]\n",
    "        #print(max_max)\n",
    "        value=np.sqrt(max_max)\n",
    "        #eigenvector=scaled_statevectors[idx_max]*value*save_sign[:len(example_matrix)]\n",
    "        eigenvector=scaled_statevectors[idx_max]*value*save_sign[len_eigenvector*idx_max:len_eigenvector*idx_max+len_eigenvector]\n",
    "        eigenvectors.append((eig, eigenvector))\n",
    "\n",
    "    return eigenvectors\n"
   ]
  },
  {
   "cell_type": "code",
   "execution_count": 29,
   "metadata": {},
   "outputs": [],
   "source": [
    "def sign_estimation(pe_circuit, probabilities, n_shots):\n",
    "    \"\"\"\n",
    "    Estimate signs for the circuit's statevector\n",
    "\n",
    "    Input parameters: \n",
    "        - pe_circuit: circuit that performs phase estimation\n",
    "        - probabilities: the probabilities for each state obtained from tomography\n",
    "        - n_shots: number of shots\n",
    "    Output :\n",
    "        - sign_dictionary: dictionary containing the signs\n",
    "    \"\"\"\n",
    "\n",
    "    # Create the first operator for tomography\n",
    "    pe_circuit.remove_final_measurements()\n",
    "    op_U = pe_circuit.to_gate(label='op_U').control()\n",
    "    #Create the second operator for tomography\n",
    "    op_V = StatePreparation(np.sqrt(list(probabilities.values())),label='c_V').control()\n",
    "\n",
    "    qr_target = QuantumRegister(pe_circuit.num_qubits, 'target')\n",
    "    qr_control = QuantumRegister(1, 'control_qubit')\n",
    "\n",
    "    sign_estimation_circuit = QuantumCircuit(qr_target, qr_control, name='sign_estimation')\n",
    "    sign_estimation_circuit.h(qr_control)\n",
    "    sign_estimation_circuit.x(qr_control)\n",
    "\n",
    "    sign_estimation_circuit.append(op_U, qr_control[:]+qr_target[:])\n",
    "    sign_estimation_circuit.x(qr_control)\n",
    "    sign_estimation_circuit.append(op_V, qr_control[:]+qr_target[:])\n",
    "    sign_estimation_circuit.h(qr_control)\n",
    "    sign_estimation_circuit.measure_all()\n",
    "\n",
    "    backend_simulation = Aer.get_backend(\"qasm_simulator\")\n",
    "    job_for_sign = backend_simulation.run(transpile(sign_estimation_circuit, backend=backend_simulation), shots=n_shots)\n",
    "    counts_for_sign = job_for_sign.result().get_counts()\n",
    "\n",
    "    #Take only counts with control qubits equal to 0\n",
    "    tmp=np.zeros(2**pe_circuit.num_qubits)\n",
    "    for c in counts_for_sign:\n",
    "        if c[0]=='0':\n",
    "            tmp[int(c[1:],2)]=counts_for_sign[c]\n",
    "\n",
    "    #Sign estimation\n",
    "    sign_dictionary={}\n",
    "    sign=0\n",
    "    for e, (count, prob) in enumerate(zip(tmp, probabilities.values())):\n",
    "        if count>0.4*prob*n_shots:\n",
    "            sign=1\n",
    "        else:\n",
    "            sign=-1\n",
    "        if prob==0:\n",
    "            sign=1\n",
    "        sign_dictionary.update({bin(e)[2:].zfill(pe_circuit.num_qubits):sign})\n",
    "    \n",
    "    return sign_dictionary"
   ]
  },
  {
   "cell_type": "code",
   "execution_count": 7,
   "metadata": {},
   "outputs": [],
   "source": [
    "# Function constructed from the scipy pca class\n",
    "def transform(original_matrix, eigenvalues, components):\n",
    "    \n",
    "    components = np.array(components)\n",
    "    X_transformed = np.dot(original_matrix, components.T)\n",
    "    X_transformed /= np.sqrt(eigenvalues)\n",
    "\n",
    "    return X_transformed"
   ]
  },
  {
   "cell_type": "markdown",
   "metadata": {},
   "source": [
    "## Main"
   ]
  },
  {
   "cell_type": "markdown",
   "metadata": {},
   "source": [
    "#### Generate synthetic data"
   ]
  },
  {
   "cell_type": "code",
   "execution_count": 17,
   "metadata": {},
   "outputs": [
    {
     "name": "stdout",
     "output_type": "stream",
     "text": [
      "[1.69723927 0.18604055]\n",
      "Matrix:\n",
      " [[1.49 0.52]\n",
      " [0.52 0.4 ]]\n",
      "\n",
      "eigenvalue: 0 - eigenvector: [-0.372  0.928]\n",
      "eigenvalue: 2 - eigenvector: [0.928 0.372]\n"
     ]
    }
   ],
   "source": [
    "# Change this to False to generate a random matrix with choosen eigenvalues\n",
    "replicate_paper = False\n",
    "# Desired eigenvalues for the synthetic matrix\n",
    "eigval_list = np.array([1, 4])\n",
    "example_matrix, norm_factor = Generate_matrix(replicate_paper, matrix_dimension = 2)#, eig_values_list = eigval_list)"
   ]
  },
  {
   "cell_type": "markdown",
   "metadata": {},
   "source": [
    "as an example, we take the 2x2 matrix used in the original paper\n",
    "$$\n",
    "A_0=\\left[\\begin{array}{ll}\n",
    "1.5 & 0.5 \\\\\n",
    "0.5 & 1.5\n",
    "\\end{array}\\right]\n",
    "$$\n",
    "\n",
    "whose quantum state is given by\n",
    "$$\\left|\\psi_{A_0}\\right\\rangle=\\frac{3}{\\sqrt{20}}|00\\rangle+\\frac{1}{\\sqrt{20}}|01\\rangle+\\frac{1}{\\sqrt{20}}|10\\rangle+\\frac{3}{\\sqrt{20}}|11\\rangle .$$\n",
    "\n",
    "$20$ derives from $3^2 + 1^2 + 1^2 + 3^2$ and is necessary for normalization"
   ]
  },
  {
   "cell_type": "markdown",
   "metadata": {},
   "source": [
    "#### Preprocessing "
   ]
  },
  {
   "cell_type": "code",
   "execution_count": 18,
   "metadata": {},
   "outputs": [
    {
     "data": {
      "image/png": "[encoded data removed]",
      "text/plain": [
       "<Figure size 387.452x144.48 with 1 Axes>"
      ]
     },
     "execution_count": 18,
     "metadata": {},
     "output_type": "execute_result"
    }
   ],
   "source": [
    "# Preprocessing circuit\n",
    "matrix_circuit = generate_qram_circuit(example_matrix)\n",
    "matrix_circuit.decompose(reps=4).draw(\"mpl\")"
   ]
  },
  {
   "cell_type": "code",
   "execution_count": 19,
   "metadata": {},
   "outputs": [
    {
     "data": {
      "text/plain": [
       "{'00': 0.759277269808268,\n",
       " '01': 0.093532393790006,\n",
       " '10': 0.093532393790006,\n",
       " '11': 0.053657942611719}"
      ]
     },
     "execution_count": 19,
     "metadata": {},
     "output_type": "execute_result"
    }
   ],
   "source": [
    "#Check matrix encoding into quantum state\n",
    "backend = Aer.get_backend(\"statevector_simulator\")\n",
    "job = backend.run(transpile(matrix_circuit, backend=backend))\n",
    "job.result().get_counts()"
   ]
  },
  {
   "cell_type": "markdown",
   "metadata": {},
   "source": [
    "#### Phase Estimation"
   ]
  },
  {
   "cell_type": "code",
   "execution_count": 49,
   "metadata": {},
   "outputs": [],
   "source": [
    "# Create and Add Phase estimation block to circuit\n",
    "resolution = 8\n",
    "pe_circuit = phase_estimation(example_matrix, matrix_circuit, resolution)"
   ]
  },
  {
   "cell_type": "code",
   "execution_count": 50,
   "metadata": {},
   "outputs": [
    {
     "data": {
      "image/png": "[encoded data removed]",
      "text/plain": [
       "<Figure size 1024.07x686.28 with 1 Axes>"
      ]
     },
     "execution_count": 50,
     "metadata": {},
     "output_type": "execute_result"
    }
   ],
   "source": [
    "# Check that the circuit correctly estimates the eigenvalues \n",
    "# (only the states associated to the correct eigenvalues have probability amplitude different from 0)\n",
    "# exact_statevector = check_statevector(backend,pe_circuit,resolution,example_matrix)\n",
    "pe_circuit.measure_all()\n",
    "# print(exact_statevector)\n",
    "pe_circuit.decompose(reps=1).draw(\"mpl\")"
   ]
  },
  {
   "cell_type": "markdown",
   "metadata": {},
   "source": [
    "#### Quantum State Tomography"
   ]
  },
  {
   "cell_type": "code",
   "execution_count": 51,
   "metadata": {},
   "outputs": [],
   "source": [
    "# Run the circuit using qiskit simulator\n",
    "\n",
    "n_shots = 50000 # Increase to achieve higher accuracy\n",
    "backend_simulation = Aer.get_backend(\"qasm_simulator\")\n",
    "job = backend_simulation.run(transpile(pe_circuit, backend=backend_simulation), shots=n_shots)\n",
    "counts = job.result().get_counts()\n",
    "# plot_histogram(counts)"
   ]
  },
  {
   "cell_type": "code",
   "execution_count": 52,
   "metadata": {},
   "outputs": [],
   "source": [
    "# Reconstruct the probabilities of observing each state from the counts provided by the simulation, plus perform the sign tomography\n",
    "\n",
    "probabilities = {}\n",
    "\n",
    "for i in range(2**pe_circuit.num_qubits):\n",
    "    binary_i = bin(i)[2:].zfill(pe_circuit.num_qubits)\n",
    "    try:\n",
    "        # Will approximate the modulus two of the values seen in exact_statevector, two cells above\n",
    "        probabilities[binary_i] = counts[binary_i]/n_shots\n",
    "    except KeyError:\n",
    "        probabilities[binary_i] = 0.0\n",
    "\n",
    "sign_dictionary = sign_estimation(pe_circuit, probabilities, n_shots)"
   ]
  },
  {
   "cell_type": "markdown",
   "metadata": {},
   "source": [
    "#### Results"
   ]
  },
  {
   "cell_type": "code",
   "execution_count": 53,
   "metadata": {},
   "outputs": [
    {
     "name": "stdout",
     "output_type": "stream",
     "text": [
      "Quantum method results:\n",
      "[array([ 0.1880887 , -0.33995005, -0.34340141,  0.85506261]), array([0.86188628, 0.34358239, 0.34630034, 0.13848919])]\n",
      "eigenvalue: 0.1839140456593473 - eigenvector: [-0.371  0.925]\n",
      "eigenvalue: 1.699365781892369 - eigenvector: [0.928 0.37 ]\n"
     ]
    }
   ],
   "source": [
    "print(\"Quantum method results:\")\n",
    "result = eigen_estimation(probabilities, sign_dictionary, resolution, debug=False)\n",
    "eigenvalues = []\n",
    "eigenvectors = []\n",
    "for eig, eigenvector in result:\n",
    "    print(f'eigenvalue: {eig*norm_factor} - eigenvector: {np.real(eigenvector).round(3)}')\n",
    "    eigenvalues.append(eig*norm_factor)\n",
    "    eigenvectors.append(list(eigenvector))"
   ]
  },
  {
   "cell_type": "code",
   "execution_count": 59,
   "metadata": {},
   "outputs": [
    {
     "data": {
      "text/plain": [
       "(0.9363643575019288, 0.4336919413593017, 0.3667390874596512)"
      ]
     },
     "execution_count": 59,
     "metadata": {},
     "output_type": "execute_result"
    }
   ],
   "source": [
    "np.sqrt(0.87677821),np.sqrt(0.1880887),0.34340141/np.sqrt(0.87677821)"
   ]
  },
  {
   "cell_type": "code",
   "execution_count": 48,
   "metadata": {},
   "outputs": [
    {
     "data": {
      "text/plain": [
       "(0.9285378506016866, 0.37815003636123057, 0.371894780354119)"
      ]
     },
     "execution_count": 48,
     "metadata": {},
     "output_type": "execute_result"
    }
   ],
   "source": [
    "np.sqrt(0.86218254),np.sqrt(0.14299745),.34531838/np.sqrt(0.86218254)"
   ]
  },
  {
   "cell_type": "code",
   "execution_count": 25,
   "metadata": {},
   "outputs": [
    {
     "data": {
      "text/plain": [
       "array([[0.122, 1.205],\n",
       "       [0.511, 0.483]])"
      ]
     },
     "execution_count": 25,
     "metadata": {},
     "output_type": "execute_result"
    }
   ],
   "source": [
    "original_matrix = example_matrix*norm_factor\n",
    "reduced_matrix = transform(original_matrix, eigenvalues, eigenvectors)\n",
    "reduced_matrix.round(3)"
   ]
  },
  {
   "cell_type": "markdown",
   "metadata": {},
   "source": [
    "Note: \n",
    "\n",
    "1) The signs of the eigenvectors are arbitrary. \n",
    "You can flip them without changing the meaning of ther result; only their direction matters.\n",
    "\n",
    "2) One can improve the accuracy of the algorithm increasing the *resolution* parameter and the number of shots"
   ]
  },
  {
   "cell_type": "code",
   "execution_count": 26,
   "metadata": {},
   "outputs": [
    {
     "name": "stdout",
     "output_type": "stream",
     "text": [
      "Classically computed values:\n",
      "eigenvalue: 0 - eigenvector: [-0.372  0.928]\n",
      "eigenvalue: 2 - eigenvector: [0.928 0.372]\n"
     ]
    }
   ],
   "source": [
    "print(\"Classically computed values:\")\n",
    "zipped_list = list(zip(np.linalg.eig(original_matrix)[0][::-1], np.rot90(np.linalg.eig(original_matrix)[1])))\n",
    "cl_eigenvalues = []\n",
    "cl_eigenvectors = []\n",
    "for eigenval, eigenvec in sorted(zipped_list, key = lambda x: x[0]):\n",
    "    print(f'eigenvalue: {eigenval:.0f} - eigenvector: {eigenvec.round(3)}')\n",
    "    cl_eigenvalues.append(eigenval)\n",
    "    cl_eigenvectors.append(list(eigenvec))"
   ]
  },
  {
   "cell_type": "code",
   "execution_count": 27,
   "metadata": {},
   "outputs": [
    {
     "data": {
      "text/plain": [
       "array([[-0.161,  1.209],\n",
       "       [ 0.4  ,  0.485]])"
      ]
     },
     "execution_count": 27,
     "metadata": {},
     "output_type": "execute_result"
    }
   ],
   "source": [
    "classically_reduced_matrix = transform(original_matrix, cl_eigenvalues, cl_eigenvectors)\n",
    "classically_reduced_matrix.round(3)"
   ]
  },
  {
   "cell_type": "code",
   "execution_count": null,
   "metadata": {},
   "outputs": [],
   "source": []
  }
 ],
 "metadata": {
  "kernelspec": {
   "display_name": "Python 3 (ipykernel)",
   "language": "python",
   "name": "python3"
  },
  "language_info": {
   "codemirror_mode": {
    "name": "ipython",
    "version": 3
   },
   "file_extension": ".py",
   "mimetype": "text/x-python",
   "name": "python",
   "nbconvert_exporter": "python",
   "pygments_lexer": "ipython3",
   "version": "3.8.11"
  },
  "vscode": {
   "interpreter": {
    "hash": "3820477eeda6a2056d25dbf35341ad4ea495fec12a885dc74045ce43b88b4168"
   }
  }
 },
 "nbformat": 4,
 "nbformat_minor": 4
}
