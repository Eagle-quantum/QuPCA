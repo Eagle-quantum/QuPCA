{
 "cells": [
  {
   "cell_type": "code",
   "execution_count": 1,
   "id": "51ede2f2",
   "metadata": {},
   "outputs": [],
   "source": [
    "from QPCA.decomposition.Qpca import QPCA\n",
    "import numpy as np\n",
    "from qiskit import QuantumRegister, ClassicalRegister, QuantumCircuit\n",
    "from qiskit import Aer, transpile, execute,assemble\n",
    "from qiskit.visualization import plot_bloch_multivector,plot_histogram,array_to_latex\n",
    "import matplotlib.pyplot as plt\n",
    "import random\n",
    "from qiskit.extensions import UnitaryGate\n",
    "from QPCA.preprocessingUtilities.preprocessing_matrix_utilities import generate_matrix\n",
    "from QPCA.quantumUtilities.quantum_utilities import thetas_computation,from_binary_tree_to_qcircuit,state_vector_tomography"
   ]
  },
  {
   "cell_type": "markdown",
   "id": "666b185b",
   "metadata": {},
   "source": [
    "# General use case of tomography "
   ]
  },
  {
   "cell_type": "markdown",
   "id": "80e49299",
   "metadata": {},
   "source": [
    "Here we show that our tomography implementation can be used in general to estimate any quantum circuit' statevectors."
   ]
  },
  {
   "cell_type": "code",
   "execution_count": 2,
   "id": "6cbd03dc",
   "metadata": {},
   "outputs": [
    {
     "data": {
      "text/html": [
       "<pre style=\"word-wrap: normal;white-space: pre;background: #fff0;line-height: 1.1;font-family: &quot;Courier New&quot;,Courier,monospace\">     ┌───┐┌───┐\n",
       "q_0: ┤ X ├┤ H ├\n",
       "     ├───┤└───┘\n",
       "q_1: ┤ H ├─────\n",
       "     └───┘     </pre>"
      ],
      "text/plain": [
       "     ┌───┐┌───┐\n",
       "q_0: ┤ X ├┤ H ├\n",
       "     ├───┤└───┘\n",
       "q_1: ┤ H ├─────\n",
       "     └───┘     "
      ]
     },
     "execution_count": 2,
     "metadata": {},
     "output_type": "execute_result"
    }
   ],
   "source": [
    "qc=QuantumCircuit(2)\n",
    "qc.x(0)\n",
    "qc.h(0)\n",
    "qc.h(1)\n",
    "\n",
    "qc.draw()"
   ]
  },
  {
   "cell_type": "code",
   "execution_count": 4,
   "id": "5b1053fa",
   "metadata": {},
   "outputs": [
    {
     "data": {
      "text/latex": [
       "$$\n",
       "\n",
       "\\begin{bmatrix}\n",
       "\\tfrac{1}{2} & -\\tfrac{1}{2} & \\tfrac{1}{2} & -\\tfrac{1}{2}  \\\\\n",
       " \\end{bmatrix}\n",
       "$$"
      ],
      "text/plain": [
       "<IPython.core.display.Latex object>"
      ]
     },
     "execution_count": 4,
     "metadata": {},
     "output_type": "execute_result"
    }
   ],
   "source": [
    "aer=Aer.get_backend('statevector_simulator')\n",
    "statevector=aer.run(transpile(qc,aer)).result().get_statevector()\n",
    "array_to_latex(statevector)"
   ]
  },
  {
   "cell_type": "code",
   "execution_count": 6,
   "id": "135156c2",
   "metadata": {},
   "outputs": [
    {
     "data": {
      "text/plain": [
       "{'0': 0.7075485849042453, '1': -0.7066647012551285}"
      ]
     },
     "execution_count": 6,
     "metadata": {},
     "output_type": "execute_result"
    }
   ],
   "source": [
    "state_vector_tomography(qc,n_shots=8000,qubits_to_be_measured=[0])"
   ]
  },
  {
   "cell_type": "markdown",
   "id": "4e719322",
   "metadata": {},
   "source": [
    "We can specify the qubits that you want to reconstruct (or measure) and if drawing the circuit that implements the tomography"
   ]
  },
  {
   "cell_type": "code",
   "execution_count": 7,
   "id": "4a8374fd",
   "metadata": {},
   "outputs": [
    {
     "data": {
      "image/png": "[encoded data removed]",
      "text/plain": [
       "<Figure size 388.825x204.68 with 1 Axes>"
      ]
     },
     "metadata": {},
     "output_type": "display_data"
    },
    {
     "data": {
      "image/png": "[encoded data removed]",
      "text/plain": [
       "<Figure size 919.191x264.88 with 1 Axes>"
      ]
     },
     "metadata": {},
     "output_type": "display_data"
    },
    {
     "data": {
      "text/plain": [
       "{'00': 0.4930770730829005,\n",
       " '01': -0.501373114556415,\n",
       " '10': 0.50658168146904,\n",
       " '11': -0.4988737315193094}"
      ]
     },
     "execution_count": 7,
     "metadata": {},
     "output_type": "execute_result"
    }
   ],
   "source": [
    "state_vector_tomography(qc,n_shots=8000,drawing_amplitude_circuit=True,drawing_sign_circuit=True)"
   ]
  },
  {
   "cell_type": "markdown",
   "id": "41a2d030",
   "metadata": {},
   "source": [
    "# Qpca class usability"
   ]
  },
  {
   "cell_type": "code",
   "execution_count": 2,
   "id": "8748e1e6",
   "metadata": {},
   "outputs": [],
   "source": [
    "resolution=8\n",
    "matrix_dimension=3\n",
    "lista=list(range(0,2**resolution))\n",
    "eigenvalues_list=[0.65,0.25,0.06,0.04]\n"
   ]
  },
  {
   "cell_type": "code",
   "execution_count": 3,
   "id": "5f551390",
   "metadata": {},
   "outputs": [
    {
     "name": "stdout",
     "output_type": "stream",
     "text": [
      "Matrix:\n",
      " [[0.65 0.29 0.92]\n",
      " [0.29 0.14 0.44]\n",
      " [0.92 0.44 2.07]]\n",
      "\n",
      "eigenvalue: 0.007045038872204365 - eigenvector: [ 0.359 -0.933  0.039]\n",
      "eigenvalue: 0.21492893761037152 - eigenvector: [-0.825 -0.297  0.481]\n",
      "eigenvalue: 2.6317728594982777 - eigenvector: [-0.437 -0.205 -0.876]\n"
     ]
    }
   ],
   "source": [
    "#4747\n",
    "seed=19\n",
    "input_matrix=generate_matrix(matrix_dimension=matrix_dimension,replicate_paper=False,seed=seed)#,eigenvalues_list=eigenvalues_list)"
   ]
  },
  {
   "cell_type": "code",
   "execution_count": 4,
   "id": "fb02173d",
   "metadata": {},
   "outputs": [],
   "source": [
    "qpca=QPCA().fit(input_matrix,resolution=resolution)"
   ]
  },
  {
   "cell_type": "code",
   "execution_count": 5,
   "id": "e90f596f",
   "metadata": {},
   "outputs": [
    {
     "data": {
      "text/plain": [
       "((array([0.92221665, 0.07531465, 0.0024687 , 0.        ]),\n",
       "  array([[-0.43714001, -0.82468914,  0.35888219,  0.        ],\n",
       "         [-0.2051187 , -0.29709624, -0.93255571,  0.        ],\n",
       "         [-0.87569112,  0.48127086,  0.03928651,  0.        ],\n",
       "         [ 0.        ,  0.        ,  0.        ,  1.        ]])),\n",
       " array([[0.22776803, 0.10031788, 0.3231667 , 0.        ],\n",
       "        [0.10031788, 0.04759571, 0.15478991, 0.        ],\n",
       "        [0.3231667 , 0.15478991, 0.72463626, 0.        ],\n",
       "        [0.        , 0.        , 0.        , 0.        ]]))"
      ]
     },
     "execution_count": 5,
     "metadata": {},
     "output_type": "execute_result"
    }
   ],
   "source": [
    "np.linalg.eig(qpca.input_matrix),qpca.input_matrix"
   ]
  },
  {
   "cell_type": "code",
   "execution_count": 6,
   "id": "1fc2171b",
   "metadata": {},
   "outputs": [
    {
     "name": "stderr",
     "output_type": "stream",
     "text": [
      "/opt/miniconda3/envs/EAGLE_environment/lib/python3.8/site-packages/numpy/linalg/linalg.py:2154: RuntimeWarning: divide by zero encountered in det\n",
      "  r = _umath_linalg.det(a, signature=signature)\n",
      "/opt/miniconda3/envs/EAGLE_environment/lib/python3.8/site-packages/numpy/linalg/linalg.py:2154: RuntimeWarning: invalid value encountered in det\n",
      "  r = _umath_linalg.det(a, signature=signature)\n",
      "/Users/tommasofioravanti/Desktop/Intesa/Quantum/Esperimenti/QuPCA/QPCA/postprocessingUtilities/postprocessing_eig_reconstruction.py:84: RuntimeWarning: invalid value encountered in divide\n",
      "  scaled_statevectors.append(statevector[i:i+len_input_matrix]/max_list[e])\n"
     ]
    },
    {
     "data": {
      "text/plain": [
       "(array([0.921875  , 0.00390625, 0.07421875]),\n",
       " array([[ 0.43142806, -0.35735004,  0.83494356],\n",
       "        [ 0.20596829,  0.92456083,  0.29541018],\n",
       "        [ 0.85362861, -0.03957747, -0.4871319 ]]))"
      ]
     },
     "execution_count": 6,
     "metadata": {},
     "output_type": "execute_result"
    },
    {
     "data": {
      "image/png": "[encoded data removed]",
      "text/plain": [
       "<Figure size 1080x720 with 1 Axes>"
      ]
     },
     "metadata": {
      "needs_background": "light"
     },
     "output_type": "display_data"
    }
   ],
   "source": [
    "qpca.eigenvectors_reconstruction(n_shots=1000000,n_repetitions=1,plot_peaks=True)"
   ]
  },
  {
   "cell_type": "code",
   "execution_count": 7,
   "id": "e333b04f",
   "metadata": {},
   "outputs": [
    {
     "data": {
      "text/plain": [
       "array([[0.63874773, 0.28233201, 0.88288061],\n",
       "       [0.28233201, 0.13961847, 0.43166107],\n",
       "       [0.88288061, 0.43166107, 1.96729196]])"
      ]
     },
     "execution_count": 7,
     "metadata": {},
     "output_type": "execute_result"
    }
   ],
   "source": [
    "qpca.quantum_input_matrix_reconstruction()"
   ]
  },
  {
   "cell_type": "code",
   "execution_count": 8,
   "id": "ecdc80e1",
   "metadata": {},
   "outputs": [
    {
     "data": {
      "text/plain": [
       "(array([[0.6499923 , 0.28628183, 0.92223594],\n",
       "        [0.28628183, 0.13582612, 0.44173122],\n",
       "        [0.92223594, 0.44173122, 2.06792842]]),\n",
       " (array([0.92221665, 0.07531465, 0.0024687 , 0.        ]),\n",
       "  array([[-0.43714001, -0.82468914,  0.35888219,  0.        ],\n",
       "         [-0.2051187 , -0.29709624, -0.93255571,  0.        ],\n",
       "         [-0.87569112,  0.48127086,  0.03928651,  0.        ],\n",
       "         [ 0.        ,  0.        ,  0.        ,  1.        ]])))"
      ]
     },
     "execution_count": 8,
     "metadata": {},
     "output_type": "execute_result"
    }
   ],
   "source": [
    "qpca.true_input_matrix,np.linalg.eig(qpca.input_matrix)"
   ]
  },
  {
   "cell_type": "code",
   "execution_count": null,
   "id": "73cf15dd",
   "metadata": {},
   "outputs": [],
   "source": []
  }
 ],
 "metadata": {
  "kernelspec": {
   "display_name": "Python 3 (ipykernel)",
   "language": "python",
   "name": "python3"
  },
  "language_info": {
   "codemirror_mode": {
    "name": "ipython",
    "version": 3
   },
   "file_extension": ".py",
   "mimetype": "text/x-python",
   "name": "python",
   "nbconvert_exporter": "python",
   "pygments_lexer": "ipython3",
   "version": "3.8.11"
  }
 },
 "nbformat": 4,
 "nbformat_minor": 5
}
