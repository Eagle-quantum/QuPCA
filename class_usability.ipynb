{
 "cells": [
  {
   "cell_type": "code",
   "execution_count": 1,
   "id": "8d6abccf",
   "metadata": {},
   "outputs": [],
   "source": [
    "from QPCA.decomposition.Qpca import QPCA\n",
    "import numpy as np\n",
    "from qiskit import QuantumRegister, ClassicalRegister, QuantumCircuit\n",
    "from qiskit import Aer, transpile, execute,assemble\n",
    "from qiskit.visualization import plot_bloch_multivector,plot_histogram,array_to_latex\n",
    "import matplotlib.pyplot as plt\n",
    "from QPCA.quantumUtilities.Tomography import StateVectorTomography\n",
    "import random\n",
    "from qiskit.extensions import UnitaryGate\n",
    "from QPCA.preprocessingUtilities.preprocessing import generate_matrix\n",
    "from QPCA.quantumUtilities.quantum_utilities import thetas_computation,from_binary_tree_to_qcircuit"
   ]
  },
  {
   "cell_type": "markdown",
   "id": "eb1d86fd",
   "metadata": {},
   "source": [
    "# General use case of tomography "
   ]
  },
  {
   "cell_type": "markdown",
   "id": "6bc68177",
   "metadata": {},
   "source": [
    "Here we show that our tomography implementation can be used in general to estimate any quantum circuit' statevectors."
   ]
  },
  {
   "cell_type": "code",
   "execution_count": 2,
   "id": "1b9ab71c",
   "metadata": {},
   "outputs": [
    {
     "data": {
      "text/html": [
       "<pre style=\"word-wrap: normal;white-space: pre;background: #fff0;line-height: 1.1;font-family: &quot;Courier New&quot;,Courier,monospace\">     ┌───┐┌───┐\n",
       "q_0: ┤ X ├┤ H ├\n",
       "     ├───┤└───┘\n",
       "q_1: ┤ H ├─────\n",
       "     └───┘     </pre>"
      ],
      "text/plain": [
       "     ┌───┐┌───┐\n",
       "q_0: ┤ X ├┤ H ├\n",
       "     ├───┤└───┘\n",
       "q_1: ┤ H ├─────\n",
       "     └───┘     "
      ]
     },
     "execution_count": 2,
     "metadata": {},
     "output_type": "execute_result"
    }
   ],
   "source": [
    "qc=QuantumCircuit(2)\n",
    "qc.x(0)\n",
    "qc.h(0)\n",
    "qc.h(1)\n",
    "\n",
    "qc.draw()"
   ]
  },
  {
   "cell_type": "code",
   "execution_count": 3,
   "id": "8d3bf511",
   "metadata": {},
   "outputs": [
    {
     "name": "stderr",
     "output_type": "stream",
     "text": [
      "/opt/miniconda3/envs/EAGLE_environment/lib/python3.8/site-packages/numpy/linalg/linalg.py:2139: RuntimeWarning: divide by zero encountered in det\n",
      "  r = _umath_linalg.det(a, signature=signature)\n",
      "/opt/miniconda3/envs/EAGLE_environment/lib/python3.8/site-packages/numpy/linalg/linalg.py:2139: RuntimeWarning: invalid value encountered in det\n",
      "  r = _umath_linalg.det(a, signature=signature)\n"
     ]
    },
    {
     "data": {
      "text/latex": [
       "$$\n",
       "\n",
       "\\begin{bmatrix}\n",
       "\\tfrac{1}{2} & -\\tfrac{1}{2} & \\tfrac{1}{2} & -\\tfrac{1}{2}  \\\\\n",
       " \\end{bmatrix}\n",
       "$$"
      ],
      "text/plain": [
       "<IPython.core.display.Latex object>"
      ]
     },
     "execution_count": 3,
     "metadata": {},
     "output_type": "execute_result"
    }
   ],
   "source": [
    "aer=Aer.get_backend('statevector_simulator')\n",
    "statevector=aer.run(transpile(qc,aer)).result().get_statevector()\n",
    "array_to_latex(statevector)"
   ]
  },
  {
   "cell_type": "code",
   "execution_count": 4,
   "id": "7f86fe99",
   "metadata": {},
   "outputs": [
    {
     "data": {
      "text/plain": [
       "{'00': 0.49383701764853555,\n",
       " '01': -0.5024937810560445,\n",
       " '10': 0.50386009963084,\n",
       " '11': -0.4997499374687305}"
      ]
     },
     "execution_count": 4,
     "metadata": {},
     "output_type": "execute_result"
    }
   ],
   "source": [
    "StateVectorTomography.state_vector_tomography(qc,n_shots=8000,n_repetitions=1)"
   ]
  },
  {
   "cell_type": "markdown",
   "id": "c20229d9",
   "metadata": {},
   "source": [
    "We can specify the qubits that you want to reconstruct (or measure) and if drawing the circuit that implements the tomography"
   ]
  },
  {
   "cell_type": "code",
   "execution_count": 5,
   "id": "b6ac5a6e",
   "metadata": {},
   "outputs": [
    {
     "data": {
      "image/png": "[encoded data removed]",
      "text/plain": [
       "<Figure size 388.825x204.68 with 1 Axes>"
      ]
     },
     "metadata": {},
     "output_type": "display_data"
    },
    {
     "data": {
      "image/png": "[encoded data removed]",
      "text/plain": [
       "<Figure size 919.191x264.88 with 1 Axes>"
      ]
     },
     "metadata": {},
     "output_type": "display_data"
    },
    {
     "data": {
      "text/plain": [
       "{'00': 0.5119814449762804,\n",
       " '01': -0.5069516742254631,\n",
       " '10': 0.4914264950122246,\n",
       " '11': -0.48925964476952316}"
      ]
     },
     "execution_count": 5,
     "metadata": {},
     "output_type": "execute_result"
    }
   ],
   "source": [
    "StateVectorTomography.state_vector_tomography(qc,n_shots=8000,n_repetitions=1,drawing_amplitude_circuit=True,drawing_sign_circuit=True)"
   ]
  },
  {
   "cell_type": "markdown",
   "id": "e8873549",
   "metadata": {},
   "source": [
    "# Qpca class usability"
   ]
  },
  {
   "cell_type": "code",
   "execution_count": 2,
   "id": "af728b4a",
   "metadata": {},
   "outputs": [],
   "source": [
    "resolution=8\n",
    "matrix_dimension=4\n",
    "lista=list(range(0,2**resolution))\n",
    "#eigenvalues_list=[0.65,0.25,0.06,0.04]\n"
   ]
  },
  {
   "cell_type": "code",
   "execution_count": 3,
   "id": "0f4d239d",
   "metadata": {},
   "outputs": [
    {
     "name": "stdout",
     "output_type": "stream",
     "text": [
      "Matrix:\n",
      " [[0.6  0.48 0.62 0.42]\n",
      " [0.48 0.54 0.43 0.44]\n",
      " [0.62 0.43 1.03 0.5 ]\n",
      " [0.42 0.44 0.5  0.45]]\n",
      "\n",
      "eigenvalue: 0.027247404850062114 - eigenvector: [ 0.412 -0.648 -0.272  0.58 ]\n",
      "eigenvalue: 0.10008154552014045 - eigenvector: [ 0.75  -0.047 -0.13  -0.647]\n",
      "eigenvalue: 0.34856039638600744 - eigenvector: [ 0.142  0.628 -0.719  0.264]\n",
      "eigenvalue: 2.152199520475261 - eigenvector: [0.498 0.429 0.627 0.419]\n"
     ]
    }
   ],
   "source": [
    "#4747\n",
    "seed=900\n",
    "input_matrix=generate_matrix(matrix_dimension=matrix_dimension,replicate_paper=False,seed=seed)#,eigenvalues_list=eigenvalues_list)"
   ]
  },
  {
   "cell_type": "code",
   "execution_count": 4,
   "id": "ec3d6df5",
   "metadata": {},
   "outputs": [],
   "source": [
    "qpca=QPCA().fit(input_matrix,resolution=resolution)"
   ]
  },
  {
   "cell_type": "code",
   "execution_count": 5,
   "id": "9cbf0dc9",
   "metadata": {},
   "outputs": [
    {
     "data": {
      "text/plain": [
       "((array([0.8189219 , 0.13262885, 0.03808149, 0.01036776]),\n",
       "  array([[ 0.49767392,  0.14173162,  0.74992357,  0.41212554],\n",
       "         [ 0.42879739,  0.62775433, -0.04712204, -0.64794816],\n",
       "         [ 0.62656256, -0.71859259, -0.13048335, -0.27206277],\n",
       "         [ 0.41937194,  0.26355521, -0.64681393,  0.57991169]])),\n",
       " array([[0.22867167, 0.18244503, 0.23696264, 0.15987783],\n",
       "        [0.18244503, 0.20727599, 0.16225141, 0.16647126],\n",
       "        [0.23696264, 0.16225141, 0.39139492, 0.19164203],\n",
       "        [0.15987783, 0.16647126, 0.19164203, 0.17265743]]))"
      ]
     },
     "execution_count": 5,
     "metadata": {},
     "output_type": "execute_result"
    }
   ],
   "source": [
    "np.linalg.eig(qpca.input_matrix),qpca.input_matrix"
   ]
  },
  {
   "cell_type": "code",
   "execution_count": 7,
   "id": "da6005d0",
   "metadata": {},
   "outputs": [
    {
     "name": "stderr",
     "output_type": "stream",
     "text": [
      "/opt/miniconda3/envs/EAGLE_environment/lib/python3.8/site-packages/numpy/linalg/linalg.py:2139: RuntimeWarning: divide by zero encountered in det\n",
      "  r = _umath_linalg.det(a, signature=signature)\n",
      "/opt/miniconda3/envs/EAGLE_environment/lib/python3.8/site-packages/numpy/linalg/linalg.py:2139: RuntimeWarning: invalid value encountered in det\n",
      "  r = _umath_linalg.det(a, signature=signature)\n"
     ]
    },
    {
     "name": "stdout",
     "output_type": "stream",
     "text": [
      "[0.4728715 0.085235  0.006611  0.002074 ]\n",
      "[0.4728715 0.085235 ]\n"
     ]
    },
    {
     "data": {
      "text/plain": [
       "(array([0.8203125, 0.1328125]),\n",
       " array([[ 0.48646311,  0.16427382],\n",
       "        [ 0.41483178,  0.70489864],\n",
       "        [ 0.60950684, -0.78947257],\n",
       "        [ 0.41015815,  0.29474251]]))"
      ]
     },
     "execution_count": 7,
     "metadata": {},
     "output_type": "execute_result"
    },
    {
     "data": {
      "image/png": "[encoded data removed]",
      "text/plain": [
       "<Figure size 1080x720 with 1 Axes>"
      ]
     },
     "metadata": {
      "needs_background": "light"
     },
     "output_type": "display_data"
    }
   ],
   "source": [
    "qpca.eigenvectors_reconstruction(n_shots=1000000,n_repetitions=1,plot_peaks=True,eigenvalue_threshold=0.1)"
   ]
  },
  {
   "cell_type": "code",
   "execution_count": 15,
   "id": "ad183a9a",
   "metadata": {},
   "outputs": [
    {
     "data": {
      "text/plain": [
       "array([[0.58174466, 0.46030112, 0.58215168, 0.40290834],\n",
       "       [0.46030112, 0.56290443, 0.36262917, 0.4212889 ],\n",
       "       [0.58215168, 0.36262917, 1.02685202, 0.45641505],\n",
       "       [0.40290834, 0.4212889 , 0.45641505, 0.44800626]])"
      ]
     },
     "execution_count": 15,
     "metadata": {},
     "output_type": "execute_result"
    }
   ],
   "source": [
    "qpca.quantum_input_matrix_reconstruction()"
   ]
  },
  {
   "cell_type": "code",
   "execution_count": 16,
   "id": "6c10bff1",
   "metadata": {},
   "outputs": [
    {
     "data": {
      "text/plain": [
       "array([[ 1.04254796,  0.0584915 ,  0.03989419,  0.14216342],\n",
       "       [ 0.89809689,  0.2456005 ,  0.06746102,  0.05332968],\n",
       "       [ 1.31297446, -0.27235538,  0.07743111,  0.07284986],\n",
       "       [ 0.87861703,  0.10488006,  0.02648678, -0.00887352]])"
      ]
     },
     "execution_count": 16,
     "metadata": {},
     "output_type": "execute_result"
    }
   ],
   "source": [
    "qpca.transform(input_matrix=input_matrix)"
   ]
  },
  {
   "cell_type": "code",
   "execution_count": 8,
   "id": "eb572ecb",
   "metadata": {},
   "outputs": [
    {
     "data": {
      "text/plain": [
       "(array([[0.22867167, 0.18244503, 0.23696264, 0.15987783],\n",
       "        [0.18244503, 0.20727599, 0.16225141, 0.16647126],\n",
       "        [0.23696264, 0.16225141, 0.39139492, 0.19164203],\n",
       "        [0.15987783, 0.16647126, 0.19164203, 0.17265743]]),\n",
       " (array([0.8189219 , 0.13262885, 0.03808149, 0.01036776]),\n",
       "  array([[ 0.49767392,  0.14173162,  0.74992357,  0.41212554],\n",
       "         [ 0.42879739,  0.62775433, -0.04712204, -0.64794816],\n",
       "         [ 0.62656256, -0.71859259, -0.13048335, -0.27206277],\n",
       "         [ 0.41937194,  0.26355521, -0.64681393,  0.57991169]])))"
      ]
     },
     "execution_count": 8,
     "metadata": {},
     "output_type": "execute_result"
    }
   ],
   "source": [
    "qpca.true_input_matrix,np.linalg.eig(qpca.input_matrix)"
   ]
  },
  {
   "cell_type": "code",
   "execution_count": null,
   "id": "548de38c",
   "metadata": {},
   "outputs": [],
   "source": []
  }
 ],
 "metadata": {
  "kernelspec": {
   "display_name": "Python 3 (ipykernel)",
   "language": "python",
   "name": "python3"
  },
  "language_info": {
   "codemirror_mode": {
    "name": "ipython",
    "version": 3
   },
   "file_extension": ".py",
   "mimetype": "text/x-python",
   "name": "python",
   "nbconvert_exporter": "python",
   "pygments_lexer": "ipython3",
   "version": "3.8.11"
  }
 },
 "nbformat": 4,
 "nbformat_minor": 5
}
