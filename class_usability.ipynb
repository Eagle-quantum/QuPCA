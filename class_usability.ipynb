{
 "cells": [
  {
   "cell_type": "code",
   "execution_count": 1,
   "id": "145604f3",
   "metadata": {},
   "outputs": [],
   "source": [
    "from QPCA.decomposition.Qpca import QPCA\n",
    "import numpy as np\n",
    "from qiskit import QuantumRegister, ClassicalRegister, QuantumCircuit\n",
    "from qiskit import Aer, transpile, execute,assemble\n",
    "from qiskit.visualization import plot_bloch_multivector,plot_histogram,array_to_latex\n",
    "import matplotlib.pyplot as plt\n",
    "import random\n",
    "from qiskit.extensions import UnitaryGate\n",
    "from numpyarray_to_latex.jupyter import to_jup\n",
    "from QPCA.preprocessingUtilities.preprocessing_matrix_utilities import generate_matrix\n",
    "from QPCA.quantumUtilities.quantum_utilities import thetas_computation,from_binary_tree_to_qcircuit,state_vector_tomography"
   ]
  },
  {
   "cell_type": "markdown",
   "id": "029e5a89",
   "metadata": {},
   "source": [
    "# General use case of tomography "
   ]
  },
  {
   "cell_type": "markdown",
   "id": "1a72e724",
   "metadata": {},
   "source": [
    "Here we show that our tomography implementation can be used in general to estimate any quantum circuit' statevectors."
   ]
  },
  {
   "cell_type": "code",
   "execution_count": 2,
   "id": "3410da62",
   "metadata": {},
   "outputs": [
    {
     "data": {
      "text/html": [
       "<pre style=\"word-wrap: normal;white-space: pre;background: #fff0;line-height: 1.1;font-family: &quot;Courier New&quot;,Courier,monospace\">     ┌───┐┌───┐\n",
       "q_0: ┤ X ├┤ H ├\n",
       "     ├───┤└───┘\n",
       "q_1: ┤ H ├─────\n",
       "     └───┘     </pre>"
      ],
      "text/plain": [
       "     ┌───┐┌───┐\n",
       "q_0: ┤ X ├┤ H ├\n",
       "     ├───┤└───┘\n",
       "q_1: ┤ H ├─────\n",
       "     └───┘     "
      ]
     },
     "execution_count": 2,
     "metadata": {},
     "output_type": "execute_result"
    }
   ],
   "source": [
    "qc=QuantumCircuit(2)\n",
    "qc.x(0)\n",
    "qc.h(0)\n",
    "qc.h(1)\n",
    "\n",
    "qc.draw()"
   ]
  },
  {
   "cell_type": "code",
   "execution_count": 3,
   "id": "78d4ed37",
   "metadata": {},
   "outputs": [
    {
     "name": "stderr",
     "output_type": "stream",
     "text": [
      "/opt/miniconda3/envs/EAGLE_environment/lib/python3.8/site-packages/numpy/linalg/linalg.py:2139: RuntimeWarning: divide by zero encountered in det\n",
      "  r = _umath_linalg.det(a, signature=signature)\n",
      "/opt/miniconda3/envs/EAGLE_environment/lib/python3.8/site-packages/numpy/linalg/linalg.py:2139: RuntimeWarning: invalid value encountered in det\n",
      "  r = _umath_linalg.det(a, signature=signature)\n"
     ]
    },
    {
     "data": {
      "text/latex": [
       "$$\n",
       "\n",
       "\\begin{bmatrix}\n",
       "\\tfrac{1}{2} & -\\tfrac{1}{2} & \\tfrac{1}{2} & -\\tfrac{1}{2}  \\\\\n",
       " \\end{bmatrix}\n",
       "$$"
      ],
      "text/plain": [
       "<IPython.core.display.Latex object>"
      ]
     },
     "execution_count": 3,
     "metadata": {},
     "output_type": "execute_result"
    }
   ],
   "source": [
    "aer=Aer.get_backend('statevector_simulator')\n",
    "statevector=aer.run(transpile(qc,aer)).result().get_statevector()\n",
    "array_to_latex(statevector)"
   ]
  },
  {
   "cell_type": "code",
   "execution_count": 4,
   "id": "d0733c39",
   "metadata": {},
   "outputs": [
    {
     "data": {
      "text/plain": [
       "{'0': 0.7101936355670896, '1': -0.7040063920164361}"
      ]
     },
     "execution_count": 4,
     "metadata": {},
     "output_type": "execute_result"
    }
   ],
   "source": [
    "state_vector_tomography(qc,n_shots=8000,qubits_to_be_measured=[0])"
   ]
  },
  {
   "cell_type": "markdown",
   "id": "c8d6a5fb",
   "metadata": {},
   "source": [
    "We can specify the qubits that you want to reconstruct (or measure) and if drawing the circuit that implements the tomography"
   ]
  },
  {
   "cell_type": "code",
   "execution_count": 5,
   "id": "4097df51",
   "metadata": {},
   "outputs": [
    {
     "data": {
      "image/png": "[encoded data removed]",
      "text/plain": [
       "<Figure size 388.825x204.68 with 1 Axes>"
      ]
     },
     "metadata": {},
     "output_type": "display_data"
    },
    {
     "data": {
      "image/png": "[encoded data removed]",
      "text/plain": [
       "<Figure size 919.191x264.88 with 1 Axes>"
      ]
     },
     "metadata": {},
     "output_type": "display_data"
    },
    {
     "data": {
      "text/plain": [
       "{'00': 0.5076908508137604,\n",
       " '01': -0.49168079075758087,\n",
       " '10': 0.4952272205765753,\n",
       " '11': -0.5052227231627651}"
      ]
     },
     "execution_count": 5,
     "metadata": {},
     "output_type": "execute_result"
    }
   ],
   "source": [
    "state_vector_tomography(qc,n_shots=8000,drawing_amplitude_circuit=True,drawing_sign_circuit=True)"
   ]
  },
  {
   "cell_type": "markdown",
   "id": "fe78e0db",
   "metadata": {},
   "source": [
    "# Qpca class usability"
   ]
  },
  {
   "cell_type": "code",
   "execution_count": 2,
   "id": "48fd9d40",
   "metadata": {},
   "outputs": [],
   "source": [
    "resolution=8\n",
    "matrix_dimension=3\n",
    "lista=list(range(0,2**resolution))\n",
    "#eigenvalues_list=[0.65,0.25,0.06,0.04]\n"
   ]
  },
  {
   "cell_type": "code",
   "execution_count": 3,
   "id": "68396154",
   "metadata": {},
   "outputs": [
    {
     "name": "stdout",
     "output_type": "stream",
     "text": [
      "Matrix:\n",
      "\n"
     ]
    },
    {
     "data": {
      "text/latex": [
       "$\\displaystyle \\left(\n",
       "\\begin{array}{}\n",
       "    0.58 &    0.49 &    0.27\\\\\n",
       "    0.49 &    0.49 &    0.21\\\\\n",
       "    0.27 &    0.21 &    0.14\n",
       "\\end{array}\n",
       "\\right)$"
      ],
      "text/plain": [
       "<IPython.core.display.Math object>"
      ]
     },
     "metadata": {},
     "output_type": "display_data"
    },
    {
     "name": "stdout",
     "output_type": "stream",
     "text": [
      "eigenvalue: 0.05825170182999686 - eigenvector: [ 0.409 -0.735  0.541]\n",
      "eigenvalue: 0.003030981753346985 - eigenvector: [-0.581  0.247  0.776]\n",
      "eigenvalue: 1.1456672711010396 - eigenvector: [-0.704 -0.631 -0.326]\n"
     ]
    }
   ],
   "source": [
    "#4747\n",
    "seed=900\n",
    "input_matrix=generate_matrix(matrix_dimension=matrix_dimension,replicate_paper=False,seed=seed)#,eigenvalues_list=eigenvalues_list)"
   ]
  },
  {
   "cell_type": "code",
   "execution_count": 4,
   "id": "8ad8de5d",
   "metadata": {},
   "outputs": [],
   "source": [
    "qpca=QPCA().fit(input_matrix,resolution=resolution)"
   ]
  },
  {
   "cell_type": "code",
   "execution_count": 5,
   "id": "4f665bb1",
   "metadata": {},
   "outputs": [],
   "source": [
    "orig_eigenvalue,orig_eigenvectors=np.linalg.eig(qpca.input_matrix)#,qpca.input_matrix"
   ]
  },
  {
   "cell_type": "code",
   "execution_count": 6,
   "id": "03f38cbc",
   "metadata": {},
   "outputs": [
    {
     "data": {
      "text/latex": [
       "$\\displaystyle \\left(\n",
       "\\begin{array}{}\n",
       "  0.479312 &  0.406891 &  0.227153 &  0.000000\\\\\n",
       "  0.406891 &  0.404400 &  0.176415 &  0.000000\\\\\n",
       "  0.227153 &  0.176415 &  0.116288 &  0.000000\\\\\n",
       "  0.000000 &  0.000000 &  0.000000 &  0.000000\n",
       "\\end{array}\n",
       "\\right)$"
      ],
      "text/plain": [
       "<IPython.core.display.Math object>"
      ]
     },
     "metadata": {},
     "output_type": "display_data"
    }
   ],
   "source": [
    "to_jup(qpca.input_matrix,fmt='{:3f}')"
   ]
  },
  {
   "cell_type": "code",
   "execution_count": 7,
   "id": "2c4c54b8",
   "metadata": {},
   "outputs": [],
   "source": [
    "k = orig_eigenvalue.argsort()[::-1]   \n",
    "orig_eigenvalue = orig_eigenvalue[k]\n",
    "orig_eigenvectors = orig_eigenvectors[:,k]"
   ]
  },
  {
   "cell_type": "code",
   "execution_count": 8,
   "id": "07ffaf0a",
   "metadata": {},
   "outputs": [
    {
     "data": {
      "text/latex": [
       "$\\displaystyle \\left(\n",
       "\\begin{array}{}\n",
       "  0.949225 &  0.048264 &  0.002511 &  0.000000\n",
       "\\end{array}\n",
       "\\right)$"
      ],
      "text/plain": [
       "<IPython.core.display.Math object>"
      ]
     },
     "metadata": {},
     "output_type": "display_data"
    },
    {
     "data": {
      "text/latex": [
       "$\\displaystyle \\left(\n",
       "\\begin{array}{}\n",
       " -0.703955 &  0.409023 & -0.580644 &  0.000000\\\\\n",
       " -0.631183 & -0.735126 &  0.247382 &  0.000000\\\\\n",
       " -0.325662 &  0.540638 &  0.775664 &  0.000000\\\\\n",
       "  0.000000 &  0.000000 &  0.000000 &  1.000000\n",
       "\\end{array}\n",
       "\\right)$"
      ],
      "text/plain": [
       "<IPython.core.display.Math object>"
      ]
     },
     "metadata": {},
     "output_type": "display_data"
    },
    {
     "data": {
      "text/plain": [
       "(None, None)"
      ]
     },
     "execution_count": 8,
     "metadata": {},
     "output_type": "execute_result"
    }
   ],
   "source": [
    "to_jup(orig_eigenvalue,fmt='{:3f}'),to_jup(orig_eigenvectors,fmt='{:3f}')"
   ]
  },
  {
   "cell_type": "code",
   "execution_count": 9,
   "id": "38c727ea",
   "metadata": {},
   "outputs": [
    {
     "name": "stderr",
     "output_type": "stream",
     "text": [
      "/opt/miniconda3/envs/EAGLE_environment/lib/python3.8/site-packages/numpy/linalg/linalg.py:2139: RuntimeWarning: divide by zero encountered in det\n",
      "  r = _umath_linalg.det(a, signature=signature)\n",
      "/opt/miniconda3/envs/EAGLE_environment/lib/python3.8/site-packages/numpy/linalg/linalg.py:2139: RuntimeWarning: invalid value encountered in det\n",
      "  r = _umath_linalg.det(a, signature=signature)\n",
      "/Users/tommasofioravanti/Desktop/Intesa/Quantum/Esperimenti/QuPCA/QPCA/postprocessingUtilities/postprocessing_eig_reconstruction.py:129: RuntimeWarning: invalid value encountered in divide\n",
      "  scaled_statevectors.append(statevector[i:i+len_input_matrix]/max_list[e])\n"
     ]
    },
    {
     "data": {
      "image/png": "[encoded data removed]",
      "text/plain": [
       "<Figure size 1080x720 with 1 Axes>"
      ]
     },
     "metadata": {
      "needs_background": "light"
     },
     "output_type": "display_data"
    }
   ],
   "source": [
    "eigenvalues,eigenvectors=qpca.eigenvectors_reconstruction(n_shots=1000000,n_repetitions=1,plot_peaks=True)"
   ]
  },
  {
   "cell_type": "code",
   "execution_count": 10,
   "id": "847322a9",
   "metadata": {},
   "outputs": [],
   "source": [
    "k = eigenvalues.argsort()[::-1]   \n",
    "eigenvalues = eigenvalues[k]\n",
    "eigenvectors = eigenvectors[:,k]"
   ]
  },
  {
   "cell_type": "code",
   "execution_count": 11,
   "id": "e06422a0",
   "metadata": {},
   "outputs": [
    {
     "data": {
      "text/latex": [
       "$\\displaystyle \\left(\n",
       "\\begin{array}{}\n",
       "  0.949219 &  0.046875 &  0.003906\n",
       "\\end{array}\n",
       "\\right)$"
      ],
      "text/plain": [
       "<IPython.core.display.Math object>"
      ]
     },
     "metadata": {},
     "output_type": "display_data"
    },
    {
     "data": {
      "text/latex": [
       "$\\displaystyle \\left(\n",
       "\\begin{array}{}\n",
       "  0.709154 &  0.398822 & -0.590014\\\\\n",
       "  0.631714 & -0.713432 &  0.271556\\\\\n",
       "  0.327145 &  0.515349 &  0.764463\n",
       "\\end{array}\n",
       "\\right)$"
      ],
      "text/plain": [
       "<IPython.core.display.Math object>"
      ]
     },
     "metadata": {},
     "output_type": "display_data"
    },
    {
     "data": {
      "text/plain": [
       "(None, None)"
      ]
     },
     "execution_count": 11,
     "metadata": {},
     "output_type": "execute_result"
    }
   ],
   "source": [
    "to_jup(eigenvalues,fmt='{:3f}'),to_jup(eigenvectors,fmt='{:3f}')"
   ]
  },
  {
   "cell_type": "code",
   "execution_count": 12,
   "id": "3431e045",
   "metadata": {},
   "outputs": [
    {
     "data": {
      "text/plain": [
       "array([[0.58679192, 0.49638236, 0.27529064],\n",
       "       [0.49638236, 0.48633339, 0.21694231],\n",
       "       [0.27529064, 0.21694231, 0.14039406]])"
      ]
     },
     "execution_count": 12,
     "metadata": {},
     "output_type": "execute_result"
    }
   ],
   "source": [
    "qpca.quantum_input_matrix_reconstruction()"
   ]
  },
  {
   "cell_type": "code",
   "execution_count": 13,
   "id": "e9398cf7",
   "metadata": {},
   "outputs": [
    {
     "data": {
      "text/plain": [
       "(array([[0.4793119 , 0.40689113, 0.2271525 ],\n",
       "        [0.40689113, 0.40439972, 0.17641538],\n",
       "        [0.2271525 , 0.17641538, 0.11628838]]),\n",
       " (array([0.94922517, 0.00251127, 0.04826356, 0.        ]),\n",
       "  array([[-0.70395477, -0.58064408,  0.4090234 ,  0.        ],\n",
       "         [-0.63118319,  0.24738171, -0.73512588,  0.        ],\n",
       "         [-0.32566158,  0.77566406,  0.54063832,  0.        ],\n",
       "         [ 0.        ,  0.        ,  0.        ,  1.        ]])))"
      ]
     },
     "execution_count": 13,
     "metadata": {},
     "output_type": "execute_result"
    }
   ],
   "source": [
    "qpca.true_input_matrix,np.linalg.eig(qpca.input_matrix)"
   ]
  },
  {
   "cell_type": "code",
   "execution_count": null,
   "id": "af684bc2",
   "metadata": {},
   "outputs": [],
   "source": []
  }
 ],
 "metadata": {
  "kernelspec": {
   "display_name": "Python 3 (ipykernel)",
   "language": "python",
   "name": "python3"
  },
  "language_info": {
   "codemirror_mode": {
    "name": "ipython",
    "version": 3
   },
   "file_extension": ".py",
   "mimetype": "text/x-python",
   "name": "python",
   "nbconvert_exporter": "python",
   "pygments_lexer": "ipython3",
   "version": "3.8.11"
  }
 },
 "nbformat": 4,
 "nbformat_minor": 5
}
