{
 "cells": [
  {
   "cell_type": "code",
   "execution_count": 1,
   "id": "d1ff4867",
   "metadata": {},
   "outputs": [],
   "source": [
    "from QPCA.decomposition.Qpca import QPCA\n",
    "import numpy as np\n",
    "from qiskit import QuantumRegister, ClassicalRegister, QuantumCircuit\n",
    "from qiskit import Aer, transpile, execute,assemble\n",
    "from qiskit.visualization import plot_bloch_multivector,plot_histogram,array_to_latex\n",
    "import matplotlib.pyplot as plt\n",
    "import random\n",
    "from qiskit.extensions import UnitaryGate\n",
    "from QPCA.preprocessingUtilities.preprocessing_matrix_utilities import generate_matrix\n",
    "from QPCA.quantumUtilities.quantum_utilities import thetas_computation,from_binary_tree_to_qcircuit,state_vector_tomography"
   ]
  },
  {
   "cell_type": "markdown",
   "id": "e2d69d59",
   "metadata": {},
   "source": [
    "# General use case of tomography "
   ]
  },
  {
   "cell_type": "markdown",
   "id": "7328d90f",
   "metadata": {},
   "source": [
    "Here we show that our tomography implementation can be used in general to estimate any quantum circuit' statevectors."
   ]
  },
  {
   "cell_type": "code",
   "execution_count": 2,
   "id": "c7a6d8e9",
   "metadata": {},
   "outputs": [
    {
     "data": {
      "text/html": [
       "<pre style=\"word-wrap: normal;white-space: pre;background: #fff0;line-height: 1.1;font-family: &quot;Courier New&quot;,Courier,monospace\">     ┌───┐┌───┐\n",
       "q_0: ┤ X ├┤ H ├\n",
       "     ├───┤└───┘\n",
       "q_1: ┤ H ├─────\n",
       "     └───┘     </pre>"
      ],
      "text/plain": [
       "     ┌───┐┌───┐\n",
       "q_0: ┤ X ├┤ H ├\n",
       "     ├───┤└───┘\n",
       "q_1: ┤ H ├─────\n",
       "     └───┘     "
      ]
     },
     "execution_count": 2,
     "metadata": {},
     "output_type": "execute_result"
    }
   ],
   "source": [
    "qc=QuantumCircuit(2)\n",
    "qc.x(0)\n",
    "qc.h(0)\n",
    "qc.h(1)\n",
    "\n",
    "qc.draw()"
   ]
  },
  {
   "cell_type": "code",
   "execution_count": 4,
   "id": "dc6f0db5",
   "metadata": {},
   "outputs": [
    {
     "data": {
      "text/latex": [
       "$$\n",
       "\n",
       "\\begin{bmatrix}\n",
       "\\tfrac{1}{2} & -\\tfrac{1}{2} & \\tfrac{1}{2} & -\\tfrac{1}{2}  \\\\\n",
       " \\end{bmatrix}\n",
       "$$"
      ],
      "text/plain": [
       "<IPython.core.display.Latex object>"
      ]
     },
     "execution_count": 4,
     "metadata": {},
     "output_type": "execute_result"
    }
   ],
   "source": [
    "aer=Aer.get_backend('statevector_simulator')\n",
    "statevector=aer.run(transpile(qc,aer)).result().get_statevector()\n",
    "array_to_latex(statevector)"
   ]
  },
  {
   "cell_type": "code",
   "execution_count": 6,
   "id": "b6650f49",
   "metadata": {},
   "outputs": [
    {
     "data": {
      "text/plain": [
       "{'0': 0.7075485849042453, '1': -0.7066647012551285}"
      ]
     },
     "execution_count": 6,
     "metadata": {},
     "output_type": "execute_result"
    }
   ],
   "source": [
    "state_vector_tomography(qc,n_shots=8000,qubits_to_be_measured=[0])"
   ]
  },
  {
   "cell_type": "markdown",
   "id": "b06b8108",
   "metadata": {},
   "source": [
    "We can specify the qubits that you want to reconstruct (or measure) and if drawing the circuit that implements the tomography"
   ]
  },
  {
   "cell_type": "code",
   "execution_count": 7,
   "id": "0481faed",
   "metadata": {},
   "outputs": [
    {
     "data": {
      "image/png": "[encoded data removed]",
      "text/plain": [
       "<Figure size 388.825x204.68 with 1 Axes>"
      ]
     },
     "metadata": {},
     "output_type": "display_data"
    },
    {
     "data": {
      "image/png": "[encoded data removed]",
      "text/plain": [
       "<Figure size 919.191x264.88 with 1 Axes>"
      ]
     },
     "metadata": {},
     "output_type": "display_data"
    },
    {
     "data": {
      "text/plain": [
       "{'00': 0.4930770730829005,\n",
       " '01': -0.501373114556415,\n",
       " '10': 0.50658168146904,\n",
       " '11': -0.4988737315193094}"
      ]
     },
     "execution_count": 7,
     "metadata": {},
     "output_type": "execute_result"
    }
   ],
   "source": [
    "state_vector_tomography(qc,n_shots=8000,drawing_amplitude_circuit=True,drawing_sign_circuit=True)"
   ]
  },
  {
   "cell_type": "markdown",
   "id": "28dc9dd7",
   "metadata": {},
   "source": [
    "# Qpca class usability"
   ]
  },
  {
   "cell_type": "code",
   "execution_count": 3,
   "id": "da461add",
   "metadata": {},
   "outputs": [],
   "source": [
    "resolution=8\n",
    "matrix_dimension=3\n",
    "lista=list(range(0,2**resolution))\n",
    "#eigenvalues_list=[0.65,0.25,0.06,0.04]\n"
   ]
  },
  {
   "cell_type": "code",
   "execution_count": 4,
   "id": "6e9b5fbe",
   "metadata": {},
   "outputs": [
    {
     "name": "stdout",
     "output_type": "stream",
     "text": [
      "Matrix:\n",
      " [[0.58 0.49 0.27]\n",
      " [0.49 0.49 0.21]\n",
      " [0.27 0.21 0.14]]\n",
      "\n",
      "eigenvalue: 0.05825170182999686 - eigenvector: [ 0.409 -0.735  0.541]\n",
      "eigenvalue: 0.003030981753346985 - eigenvector: [-0.581  0.247  0.776]\n",
      "eigenvalue: 1.1456672711010396 - eigenvector: [-0.704 -0.631 -0.326]\n"
     ]
    }
   ],
   "source": [
    "#4747\n",
    "seed=900\n",
    "input_matrix=generate_matrix(matrix_dimension=matrix_dimension,replicate_paper=False,seed=seed)#,eigenvalues_list=eigenvalues_list)"
   ]
  },
  {
   "cell_type": "code",
   "execution_count": 5,
   "id": "9eae8f3f",
   "metadata": {},
   "outputs": [],
   "source": [
    "qpca=QPCA().fit(input_matrix,resolution=resolution)"
   ]
  },
  {
   "cell_type": "code",
   "execution_count": 6,
   "id": "821f7fc8",
   "metadata": {},
   "outputs": [
    {
     "data": {
      "text/plain": [
       "((array([0.94922517, 0.00251127, 0.04826356, 0.        ]),\n",
       "  array([[-0.70395477, -0.58064408,  0.4090234 ,  0.        ],\n",
       "         [-0.63118319,  0.24738171, -0.73512588,  0.        ],\n",
       "         [-0.32566158,  0.77566406,  0.54063832,  0.        ],\n",
       "         [ 0.        ,  0.        ,  0.        ,  1.        ]])),\n",
       " array([[0.4793119 , 0.40689113, 0.2271525 , 0.        ],\n",
       "        [0.40689113, 0.40439972, 0.17641538, 0.        ],\n",
       "        [0.2271525 , 0.17641538, 0.11628838, 0.        ],\n",
       "        [0.        , 0.        , 0.        , 0.        ]]))"
      ]
     },
     "execution_count": 6,
     "metadata": {},
     "output_type": "execute_result"
    }
   ],
   "source": [
    "np.linalg.eig(qpca.input_matrix),qpca.input_matrix"
   ]
  },
  {
   "cell_type": "code",
   "execution_count": 7,
   "id": "9b600522",
   "metadata": {},
   "outputs": [
    {
     "name": "stderr",
     "output_type": "stream",
     "text": [
      "/opt/miniconda3/envs/EAGLE_environment/lib/python3.8/site-packages/numpy/linalg/linalg.py:2154: RuntimeWarning: divide by zero encountered in det\n",
      "  r = _umath_linalg.det(a, signature=signature)\n",
      "/opt/miniconda3/envs/EAGLE_environment/lib/python3.8/site-packages/numpy/linalg/linalg.py:2154: RuntimeWarning: invalid value encountered in det\n",
      "  r = _umath_linalg.det(a, signature=signature)\n"
     ]
    },
    {
     "name": "stdout",
     "output_type": "stream",
     "text": [
      "[0.8206230000000001, 0.0795985, 0.014217999999999998] [(0.94921875, array([0.70884345, 0.63216018, 0.32871542, 0.        ])), (0.046875, array([ 0.39986351, -0.71139247,  0.51927554,  0.        ])), (0.00390625, array([-0.59858509,  0.27954225,  0.76543195,  0.        ]))]\n"
     ]
    },
    {
     "name": "stderr",
     "output_type": "stream",
     "text": [
      "/Users/tommasofioravanti/Desktop/Intesa/Quantum/Esperimenti/QuPCA/QPCA/postprocessingUtilities/postprocessing_eig_reconstruction.py:84: RuntimeWarning: invalid value encountered in divide\n",
      "  scaled_statevectors.append(statevector[i:i+len_input_matrix]/max_list[e])\n"
     ]
    },
    {
     "data": {
      "text/plain": [
       "(array([0.94921875, 0.046875  , 0.00390625]),\n",
       " array([[ 0.70884345,  0.39986351, -0.59858509],\n",
       "        [ 0.63216018, -0.71139247,  0.27954225],\n",
       "        [ 0.32871542,  0.51927554,  0.76543195]]))"
      ]
     },
     "execution_count": 7,
     "metadata": {},
     "output_type": "execute_result"
    },
    {
     "data": {
      "image/png": "[encoded data removed]",
      "text/plain": [
       "<Figure size 1080x720 with 1 Axes>"
      ]
     },
     "metadata": {
      "needs_background": "light"
     },
     "output_type": "display_data"
    }
   ],
   "source": [
    "qpca.eigenvectors_reconstruction(n_shots=1000000,n_repetitions=1,plot_peaks=True)"
   ]
  },
  {
   "cell_type": "code",
   "execution_count": 12,
   "id": "570404c8",
   "metadata": {},
   "outputs": [
    {
     "data": {
      "text/plain": [
       "array([[1.36780216, 1.59321697, 1.29460802],\n",
       "       [1.59321697, 1.89242608, 1.56191731],\n",
       "       [1.29460802, 1.56191731, 1.36063532]])"
      ]
     },
     "execution_count": 12,
     "metadata": {},
     "output_type": "execute_result"
    }
   ],
   "source": [
    "qpca.quantum_input_matrix_reconstruction()"
   ]
  },
  {
   "cell_type": "code",
   "execution_count": 13,
   "id": "27532046",
   "metadata": {},
   "outputs": [
    {
     "data": {
      "text/plain": [
       "(array([[0.29666337, 0.34422543, 0.27702034],\n",
       "        [0.34422543, 0.4084675 , 0.33558223],\n",
       "        [0.27702034, 0.33558223, 0.29486913]]),\n",
       " (array([0.97831668, 0.00196037, 0.01972296, 0.        ]),\n",
       "  array([[-0.54387379, -0.61004165, -0.57623822,  0.        ],\n",
       "         [-0.64480462,  0.74326569, -0.17827818,  0.        ],\n",
       "         [-0.53705522, -0.27460023,  0.7976004 ,  0.        ],\n",
       "         [ 0.        ,  0.        ,  0.        ,  1.        ]])))"
      ]
     },
     "execution_count": 13,
     "metadata": {},
     "output_type": "execute_result"
    }
   ],
   "source": [
    "qpca.true_input_matrix,np.linalg.eig(qpca.input_matrix)"
   ]
  },
  {
   "cell_type": "code",
   "execution_count": null,
   "id": "9b933cdd",
   "metadata": {},
   "outputs": [],
   "source": []
  }
 ],
 "metadata": {
  "kernelspec": {
   "display_name": "Python 3 (ipykernel)",
   "language": "python",
   "name": "python3"
  },
  "language_info": {
   "codemirror_mode": {
    "name": "ipython",
    "version": 3
   },
   "file_extension": ".py",
   "mimetype": "text/x-python",
   "name": "python",
   "nbconvert_exporter": "python",
   "pygments_lexer": "ipython3",
   "version": "3.8.11"
  }
 },
 "nbformat": 4,
 "nbformat_minor": 5
}
