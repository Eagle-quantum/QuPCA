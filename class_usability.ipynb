{
 "cells": [
  {
   "cell_type": "code",
   "execution_count": 1,
   "id": "2a2c3d70",
   "metadata": {},
   "outputs": [],
   "source": [
    "from QPCA.decomposition.Qpca import QPCA\n",
    "import numpy as np\n",
    "from qiskit import QuantumRegister, ClassicalRegister, QuantumCircuit\n",
    "from qiskit import Aer, transpile, execute,assemble\n",
    "from qiskit.visualization import plot_bloch_multivector,plot_histogram,array_to_latex\n",
    "import matplotlib.pyplot as plt\n",
    "import random\n",
    "from qiskit.extensions import UnitaryGate\n",
    "from QPCA.preprocessingUtilities.preprocessing_matrix_utilities import generate_matrix\n",
    "from QPCA.quantumUtilities.quantum_utilities import thetas_computation,from_binary_tree_to_qcircuit,state_vector_tomography"
   ]
  },
  {
   "cell_type": "markdown",
   "id": "2d3b31d9",
   "metadata": {},
   "source": [
    "# General use case of tomography "
   ]
  },
  {
   "cell_type": "markdown",
   "id": "145b2b8c",
   "metadata": {},
   "source": [
    "Here we show that our tomography implementation can be used in general to estimate any quantum circuit' statevectors."
   ]
  },
  {
   "cell_type": "code",
   "execution_count": 2,
   "id": "4db4ef41",
   "metadata": {},
   "outputs": [
    {
     "data": {
      "text/html": [
       "<pre style=\"word-wrap: normal;white-space: pre;background: #fff0;line-height: 1.1;font-family: &quot;Courier New&quot;,Courier,monospace\">     ┌───┐┌───┐\n",
       "q_0: ┤ X ├┤ H ├\n",
       "     ├───┤└───┘\n",
       "q_1: ┤ H ├─────\n",
       "     └───┘     </pre>"
      ],
      "text/plain": [
       "     ┌───┐┌───┐\n",
       "q_0: ┤ X ├┤ H ├\n",
       "     ├───┤└───┘\n",
       "q_1: ┤ H ├─────\n",
       "     └───┘     "
      ]
     },
     "execution_count": 2,
     "metadata": {},
     "output_type": "execute_result"
    }
   ],
   "source": [
    "qc=QuantumCircuit(2)\n",
    "qc.x(0)\n",
    "qc.h(0)\n",
    "qc.h(1)\n",
    "\n",
    "qc.draw()"
   ]
  },
  {
   "cell_type": "code",
   "execution_count": 4,
   "id": "a7f7b703",
   "metadata": {},
   "outputs": [
    {
     "data": {
      "text/latex": [
       "$$\n",
       "\n",
       "\\begin{bmatrix}\n",
       "\\tfrac{1}{2} & -\\tfrac{1}{2} & \\tfrac{1}{2} & -\\tfrac{1}{2}  \\\\\n",
       " \\end{bmatrix}\n",
       "$$"
      ],
      "text/plain": [
       "<IPython.core.display.Latex object>"
      ]
     },
     "execution_count": 4,
     "metadata": {},
     "output_type": "execute_result"
    }
   ],
   "source": [
    "aer=Aer.get_backend('statevector_simulator')\n",
    "statevector=aer.run(transpile(qc,aer)).result().get_statevector()\n",
    "array_to_latex(statevector)"
   ]
  },
  {
   "cell_type": "code",
   "execution_count": 6,
   "id": "246a6903",
   "metadata": {},
   "outputs": [
    {
     "data": {
      "text/plain": [
       "{'0': 0.7075485849042453, '1': -0.7066647012551285}"
      ]
     },
     "execution_count": 6,
     "metadata": {},
     "output_type": "execute_result"
    }
   ],
   "source": [
    "state_vector_tomography(qc,n_shots=8000,qubits_to_be_measured=[0])"
   ]
  },
  {
   "cell_type": "markdown",
   "id": "894e1ddd",
   "metadata": {},
   "source": [
    "We can specify the qubits that you want to reconstruct (or measure) and if drawing the circuit that implements the tomography"
   ]
  },
  {
   "cell_type": "code",
   "execution_count": 7,
   "id": "ccd27435",
   "metadata": {},
   "outputs": [
    {
     "data": {
      "image/png": "[encoded data removed]",
      "text/plain": [
       "<Figure size 388.825x204.68 with 1 Axes>"
      ]
     },
     "metadata": {},
     "output_type": "display_data"
    },
    {
     "data": {
      "image/png": "[encoded data removed]",
      "text/plain": [
       "<Figure size 919.191x264.88 with 1 Axes>"
      ]
     },
     "metadata": {},
     "output_type": "display_data"
    },
    {
     "data": {
      "text/plain": [
       "{'00': 0.4930770730829005,\n",
       " '01': -0.501373114556415,\n",
       " '10': 0.50658168146904,\n",
       " '11': -0.4988737315193094}"
      ]
     },
     "execution_count": 7,
     "metadata": {},
     "output_type": "execute_result"
    }
   ],
   "source": [
    "state_vector_tomography(qc,n_shots=8000,drawing_amplitude_circuit=True,drawing_sign_circuit=True)"
   ]
  },
  {
   "cell_type": "markdown",
   "id": "b2a15b1f",
   "metadata": {},
   "source": [
    "# Qpca class usability"
   ]
  },
  {
   "cell_type": "code",
   "execution_count": 7,
   "id": "1078c910",
   "metadata": {},
   "outputs": [],
   "source": [
    "resolution=10\n",
    "matrix_dimension=3\n",
    "lista=list(range(0,2**resolution))\n",
    "#eigenvalues_list=[0.65,0.25,0.06,0.04]\n"
   ]
  },
  {
   "cell_type": "code",
   "execution_count": 8,
   "id": "3423fea2",
   "metadata": {},
   "outputs": [
    {
     "name": "stdout",
     "output_type": "stream",
     "text": [
      "Matrix:\n",
      " [[1.38 1.6  1.29]\n",
      " [1.6  1.9  1.56]\n",
      " [1.29 1.56 1.37]]\n",
      "\n",
      "eigenvalue: 0.09156843360568682 - eigenvector: [-0.576 -0.178  0.798]\n",
      "eigenvalue: 0.009101458142892491 - eigenvector: [-0.61   0.743 -0.275]\n",
      "eigenvalue: 4.5420634695246465 - eigenvector: [-0.544 -0.645 -0.537]\n"
     ]
    }
   ],
   "source": [
    "#4747\n",
    "seed=190\n",
    "input_matrix=generate_matrix(matrix_dimension=matrix_dimension,replicate_paper=False,seed=seed)#,eigenvalues_list=eigenvalues_list)"
   ]
  },
  {
   "cell_type": "code",
   "execution_count": 9,
   "id": "7dbe741b",
   "metadata": {},
   "outputs": [],
   "source": [
    "qpca=QPCA().fit(input_matrix,resolution=resolution)"
   ]
  },
  {
   "cell_type": "code",
   "execution_count": 10,
   "id": "f1bd6b00",
   "metadata": {},
   "outputs": [
    {
     "data": {
      "text/plain": [
       "((array([0.97831668, 0.00196037, 0.01972296, 0.        ]),\n",
       "  array([[-0.54387379, -0.61004165, -0.57623822,  0.        ],\n",
       "         [-0.64480462,  0.74326569, -0.17827818,  0.        ],\n",
       "         [-0.53705522, -0.27460023,  0.7976004 ,  0.        ],\n",
       "         [ 0.        ,  0.        ,  0.        ,  1.        ]])),\n",
       " array([[0.29666337, 0.34422543, 0.27702034, 0.        ],\n",
       "        [0.34422543, 0.4084675 , 0.33558223, 0.        ],\n",
       "        [0.27702034, 0.33558223, 0.29486913, 0.        ],\n",
       "        [0.        , 0.        , 0.        , 0.        ]]))"
      ]
     },
     "execution_count": 10,
     "metadata": {},
     "output_type": "execute_result"
    }
   ],
   "source": [
    "np.linalg.eig(qpca.input_matrix),qpca.input_matrix"
   ]
  },
  {
   "cell_type": "code",
   "execution_count": 11,
   "id": "3a155094",
   "metadata": {},
   "outputs": [
    {
     "name": "stdout",
     "output_type": "stream",
     "text": [
      "[0.810145, 0.012503, 0.0091465, 3.300000000000001e-05] [(0.978515625, array([0.54332029, 0.64437925, 0.53737015, 0.        ])), (0.001953125, array([ 0.61530722, -0.68412429,  0.29560615,  0.        ])), (0.01953125, array([-0.50683006, -0.14175019,  0.72740549,  0.        ])), (0.9599609375, array([-0.58309519, -0.63245553, -0.54772256,  0.        ]))]\n"
     ]
    },
    {
     "data": {
      "text/plain": [
       "(array([0.97851562, 0.00195312, 0.01953125]),\n",
       " array([[ 0.54332029,  0.61530722, -0.50683006],\n",
       "        [ 0.64437925, -0.68412429, -0.14175019],\n",
       "        [ 0.53737015,  0.29560615,  0.72740549]]))"
      ]
     },
     "execution_count": 11,
     "metadata": {},
     "output_type": "execute_result"
    },
    {
     "data": {
      "image/png": "[encoded data removed]",
      "text/plain": [
       "<Figure size 1080x720 with 1 Axes>"
      ]
     },
     "metadata": {
      "needs_background": "light"
     },
     "output_type": "display_data"
    }
   ],
   "source": [
    "qpca.eigenvectors_reconstruction(n_shots=1000000,n_repetitions=1,plot_peaks=True)"
   ]
  },
  {
   "cell_type": "code",
   "execution_count": 12,
   "id": "aeed844f",
   "metadata": {},
   "outputs": [
    {
     "data": {
      "text/plain": [
       "array([[1.36780216, 1.59321697, 1.29460802],\n",
       "       [1.59321697, 1.89242608, 1.56191731],\n",
       "       [1.29460802, 1.56191731, 1.36063532]])"
      ]
     },
     "execution_count": 12,
     "metadata": {},
     "output_type": "execute_result"
    }
   ],
   "source": [
    "qpca.quantum_input_matrix_reconstruction()"
   ]
  },
  {
   "cell_type": "code",
   "execution_count": 13,
   "id": "f69130f9",
   "metadata": {},
   "outputs": [
    {
     "data": {
      "text/plain": [
       "(array([[0.29666337, 0.34422543, 0.27702034],\n",
       "        [0.34422543, 0.4084675 , 0.33558223],\n",
       "        [0.27702034, 0.33558223, 0.29486913]]),\n",
       " (array([0.97831668, 0.00196037, 0.01972296, 0.        ]),\n",
       "  array([[-0.54387379, -0.61004165, -0.57623822,  0.        ],\n",
       "         [-0.64480462,  0.74326569, -0.17827818,  0.        ],\n",
       "         [-0.53705522, -0.27460023,  0.7976004 ,  0.        ],\n",
       "         [ 0.        ,  0.        ,  0.        ,  1.        ]])))"
      ]
     },
     "execution_count": 13,
     "metadata": {},
     "output_type": "execute_result"
    }
   ],
   "source": [
    "qpca.true_input_matrix,np.linalg.eig(qpca.input_matrix)"
   ]
  },
  {
   "cell_type": "code",
   "execution_count": null,
   "id": "863edc59",
   "metadata": {},
   "outputs": [],
   "source": []
  }
 ],
 "metadata": {
  "kernelspec": {
   "display_name": "Python 3 (ipykernel)",
   "language": "python",
   "name": "python3"
  },
  "language_info": {
   "codemirror_mode": {
    "name": "ipython",
    "version": 3
   },
   "file_extension": ".py",
   "mimetype": "text/x-python",
   "name": "python",
   "nbconvert_exporter": "python",
   "pygments_lexer": "ipython3",
   "version": "3.8.11"
  }
 },
 "nbformat": 4,
 "nbformat_minor": 5
}
