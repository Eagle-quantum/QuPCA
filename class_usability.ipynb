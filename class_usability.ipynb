{
 "cells": [
  {
   "cell_type": "code",
   "execution_count": 1,
   "id": "a2cee23d",
   "metadata": {},
   "outputs": [],
   "source": [
    "from QPCA.decomposition.Qpca import QPCA\n",
    "import numpy as np\n",
    "from qiskit import QuantumRegister, ClassicalRegister, QuantumCircuit\n",
    "from qiskit import Aer, transpile, execute,assemble\n",
    "from qiskit.visualization import plot_bloch_multivector,plot_histogram,array_to_latex\n",
    "import matplotlib.pyplot as plt\n",
    "import random\n",
    "from qiskit.extensions import UnitaryGate\n",
    "from QPCA.preprocessingUtilities.preprocessing_matrix_utilities import generate_matrix\n",
    "from QPCA.quantumUtilities.quantum_utilities import thetas_computation,from_binary_tree_to_qcircuit,state_vector_tomography"
   ]
  },
  {
   "cell_type": "markdown",
   "id": "19bf1a58",
   "metadata": {},
   "source": [
    "# General use case of tomography "
   ]
  },
  {
   "cell_type": "markdown",
   "id": "cb6d30de",
   "metadata": {},
   "source": [
    "Here we show that our tomography implementation can be used in general to estimate any quantum circuit' statevectors."
   ]
  },
  {
   "cell_type": "code",
   "execution_count": 2,
   "id": "741f02ad",
   "metadata": {},
   "outputs": [
    {
     "data": {
      "text/html": [
       "<pre style=\"word-wrap: normal;white-space: pre;background: #fff0;line-height: 1.1;font-family: &quot;Courier New&quot;,Courier,monospace\">     ┌───┐┌───┐\n",
       "q_0: ┤ X ├┤ H ├\n",
       "     ├───┤└───┘\n",
       "q_1: ┤ H ├─────\n",
       "     └───┘     </pre>"
      ],
      "text/plain": [
       "     ┌───┐┌───┐\n",
       "q_0: ┤ X ├┤ H ├\n",
       "     ├───┤└───┘\n",
       "q_1: ┤ H ├─────\n",
       "     └───┘     "
      ]
     },
     "execution_count": 2,
     "metadata": {},
     "output_type": "execute_result"
    }
   ],
   "source": [
    "qc=QuantumCircuit(2)\n",
    "qc.x(0)\n",
    "qc.h(0)\n",
    "qc.h(1)\n",
    "\n",
    "qc.draw()"
   ]
  },
  {
   "cell_type": "code",
   "execution_count": 4,
   "id": "38ab4416",
   "metadata": {},
   "outputs": [
    {
     "data": {
      "text/latex": [
       "$$\n",
       "\n",
       "\\begin{bmatrix}\n",
       "\\tfrac{1}{2} & -\\tfrac{1}{2} & \\tfrac{1}{2} & -\\tfrac{1}{2}  \\\\\n",
       " \\end{bmatrix}\n",
       "$$"
      ],
      "text/plain": [
       "<IPython.core.display.Latex object>"
      ]
     },
     "execution_count": 4,
     "metadata": {},
     "output_type": "execute_result"
    }
   ],
   "source": [
    "aer=Aer.get_backend('statevector_simulator')\n",
    "statevector=aer.run(transpile(qc,aer)).result().get_statevector()\n",
    "array_to_latex(statevector)"
   ]
  },
  {
   "cell_type": "code",
   "execution_count": 6,
   "id": "6f938fe4",
   "metadata": {},
   "outputs": [
    {
     "data": {
      "text/plain": [
       "{'0': 0.7075485849042453, '1': -0.7066647012551285}"
      ]
     },
     "execution_count": 6,
     "metadata": {},
     "output_type": "execute_result"
    }
   ],
   "source": [
    "state_vector_tomography(qc,n_shots=8000,qubits_to_be_measured=[0])"
   ]
  },
  {
   "cell_type": "markdown",
   "id": "e649667f",
   "metadata": {},
   "source": [
    "We can specify the qubits that you want to reconstruct (or measure) and if drawing the circuit that implements the tomography"
   ]
  },
  {
   "cell_type": "code",
   "execution_count": 7,
   "id": "1248a708",
   "metadata": {},
   "outputs": [
    {
     "data": {
      "image/png": "[encoded data removed]",
      "text/plain": [
       "<Figure size 388.825x204.68 with 1 Axes>"
      ]
     },
     "metadata": {},
     "output_type": "display_data"
    },
    {
     "data": {
      "image/png": "[encoded data removed]",
      "text/plain": [
       "<Figure size 919.191x264.88 with 1 Axes>"
      ]
     },
     "metadata": {},
     "output_type": "display_data"
    },
    {
     "data": {
      "text/plain": [
       "{'00': 0.4930770730829005,\n",
       " '01': -0.501373114556415,\n",
       " '10': 0.50658168146904,\n",
       " '11': -0.4988737315193094}"
      ]
     },
     "execution_count": 7,
     "metadata": {},
     "output_type": "execute_result"
    }
   ],
   "source": [
    "state_vector_tomography(qc,n_shots=8000,drawing_amplitude_circuit=True,drawing_sign_circuit=True)"
   ]
  },
  {
   "cell_type": "markdown",
   "id": "d80a3ab1",
   "metadata": {},
   "source": [
    "# Qpca class usability"
   ]
  },
  {
   "cell_type": "code",
   "execution_count": 8,
   "id": "53e1947c",
   "metadata": {},
   "outputs": [],
   "source": [
    "resolution=8\n",
    "matrix_dimension=4\n",
    "lista=list(range(0,2**resolution))\n",
    "eigenvalues_list=[0.65,0.25,0.06,0.04]\n"
   ]
  },
  {
   "cell_type": "code",
   "execution_count": 9,
   "id": "08a12d80",
   "metadata": {},
   "outputs": [
    {
     "name": "stdout",
     "output_type": "stream",
     "text": [
      "Matrix:\n",
      " [[0.12 0.04 0.06 0.14]\n",
      " [0.04 0.31 0.16 0.11]\n",
      " [0.06 0.16 0.18 0.18]\n",
      " [0.14 0.11 0.18 0.39]]\n",
      "\n",
      "eigenvalue: 0.03999999999999994 - eigenvector: [ 0.23  -0.357  0.812 -0.4  ]\n",
      "eigenvalue: 0.059999999999999984 - eigenvector: [-0.882 -0.207  0.303  0.295]\n",
      "eigenvalue: 0.24999999999999994 - eigenvector: [-0.304  0.772  0.163 -0.534]\n",
      "eigenvalue: 0.6500000000000001 - eigenvector: [-0.277 -0.483 -0.471 -0.685]\n"
     ]
    }
   ],
   "source": [
    "#4747\n",
    "seed=4747\n",
    "input_matrix=generate_matrix(matrix_dimension=matrix_dimension,replicate_paper=False,seed=seed,eigenvalues_list=eigenvalues_list)"
   ]
  },
  {
   "cell_type": "code",
   "execution_count": 10,
   "id": "38cb66b9",
   "metadata": {},
   "outputs": [],
   "source": [
    "qpca=QPCA().fit(input_matrix,resolution=resolution)"
   ]
  },
  {
   "cell_type": "code",
   "execution_count": 11,
   "id": "a51f0a44",
   "metadata": {},
   "outputs": [
    {
     "data": {
      "text/plain": [
       "((array([0.65, 0.25, 0.06, 0.04]),\n",
       "  array([[-0.27669967, -0.30381059, -0.88229208,  0.2295585 ],\n",
       "         [-0.48274483,  0.77216236, -0.20746302, -0.35732594],\n",
       "         [-0.47083591,  0.16297368,  0.30291613,  0.81240073],\n",
       "         [-0.68462272, -0.53376399,  0.29455322, -0.39953239]])),\n",
       " array([[0.12165522, 0.03587768, 0.06372792, 0.1444119 ],\n",
       "        [0.03587768, 0.30822607, 0.16381907, 0.11382963],\n",
       "        [0.06372792, 0.16381907, 0.18264159, 0.18014713],\n",
       "        [0.1444119 , 0.11382963, 0.18014713, 0.38747712]]))"
      ]
     },
     "execution_count": 11,
     "metadata": {},
     "output_type": "execute_result"
    }
   ],
   "source": [
    "np.linalg.eig(qpca.input_matrix),qpca.input_matrix"
   ]
  },
  {
   "cell_type": "code",
   "execution_count": 12,
   "id": "5e554d1a",
   "metadata": {},
   "outputs": [
    {
     "data": {
      "text/plain": [
       "[(0.6484375, array([0.27612205, 0.483505  , 0.4720242 , 0.68505039])),\n",
       " (0.25, array([-0.27598433,  0.71215321,  0.15491924, -0.48451338])),\n",
       " (0.0390625, array([ 0.21593879, -0.36422478,  0.83371788, -0.39885974])),\n",
       " (0.05859375, array([ 0.79695487,  0.1777956 , -0.26038023, -0.27639449]))]"
      ]
     },
     "execution_count": 12,
     "metadata": {},
     "output_type": "execute_result"
    },
    {
     "data": {
      "image/png": "[encoded data removed]",
      "text/plain": [
       "<Figure size 1080x720 with 1 Axes>"
      ]
     },
     "metadata": {
      "needs_background": "light"
     },
     "output_type": "display_data"
    }
   ],
   "source": [
    "qpca.eigenvectors_reconstruction(n_shots=1000000,n_repetitions=1,plot_peaks=True)"
   ]
  },
  {
   "cell_type": "code",
   "execution_count": 14,
   "id": "92c0b7d0",
   "metadata": {},
   "outputs": [
    {
     "data": {
      "text/plain": [
       "array([[0.10751744, 0.04266494, 0.06869975, 0.13981525],\n",
       "       [0.04266494, 0.28541462, 0.16099758, 0.13131235],\n",
       "       [0.06869975, 0.16099758, 0.18160061, 0.18214102],\n",
       "       [0.13981525, 0.13131235, 0.18214102, 0.37368678]])"
      ]
     },
     "execution_count": 14,
     "metadata": {},
     "output_type": "execute_result"
    }
   ],
   "source": [
    "qpca.quantum_input_matrix_reconstruction()"
   ]
  }
 ],
 "metadata": {
  "kernelspec": {
   "display_name": "Python 3 (ipykernel)",
   "language": "python",
   "name": "python3"
  },
  "language_info": {
   "codemirror_mode": {
    "name": "ipython",
    "version": 3
   },
   "file_extension": ".py",
   "mimetype": "text/x-python",
   "name": "python",
   "nbconvert_exporter": "python",
   "pygments_lexer": "ipython3",
   "version": "3.8.11"
  }
 },
 "nbformat": 4,
 "nbformat_minor": 5
}
