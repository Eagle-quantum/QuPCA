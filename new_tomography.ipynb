{
 "cells": [
  {
   "cell_type": "markdown",
   "metadata": {},
   "source": [
    "### Example taken from *A Low-Complexity Quantum Principal Component Analysis Algorithm*\n",
    "https://doi.org/10.1109/TQE.2021.3140152"
   ]
  },
  {
   "cell_type": "code",
   "execution_count": 4,
   "metadata": {},
   "outputs": [
    {
     "name": "stdout",
     "output_type": "stream",
     "text": [
      "[0.060594   0.01175441 0.12198243 0.01175441 0.00264594 0.02798526\n",
      " 0.12198243 0.02798526 0.61331586]\n"
     ]
    }
   ],
   "source": [
    "import numpy as np\n",
    "import itertools\n",
    "from qiskit_experiments.library import StateTomography\n",
    "from qiskit.visualization import plot_state_city,array_to_latex\n",
    "import qiskit.quantum_info as qi\n",
    "from qiskit.visualization import plot_histogram\n",
    "from qiskit.circuit.library.standard_gates import RYGate\n",
    "from qiskit import Aer, transpile, execute\n",
    "from qiskit import QuantumRegister, ClassicalRegister, QuantumCircuit\n",
    "from qiskit.algorithms.linear_solvers.matrices.numpy_matrix import NumPyMatrix\n",
    "from qiskit.circuit.library import PhaseEstimation\n",
    "import matplotlib.pyplot as plt\n",
    "from qiskit import BasicAer, execute\n",
    "import scipy as sc\n",
    "import pandas as pd\n",
    "from QPCA.decomposition.Qpca import QPCA\n",
    "from qiskit.circuit.library.data_preparation.state_preparation import *\n",
    "from QPCA.preprocessingUtilities.preprocessing_matrix_utilities import generate_matrix\n",
    "#9329 con 6 res\n",
    "#seed 10 con resolution 5\n",
    "#6476 cambiando eigenvalues a 0.55 e 0.45 ris=7\n",
    "# 12 con 4x4 matrix e risoluzione 7\n",
    "#500  4x4 cambiando autovalori.\n",
    "#4524\n",
    "#8908\n",
    "#4747 res 8\n",
    "#6752\n",
    "np.random.seed(19)\n",
    "\n",
    "example_matrix=np.random.rand(3,3)\n",
    "\n",
    "\n",
    "example_matrix=np.dot(example_matrix,example_matrix.T)\n",
    "#example_matrix=np.array([[1.5,0.5],[0.5,1.5]])\n",
    "#example_matrix=np.array([[0,0,0,0],[0.,1.,0,0],[0.,0.,2,0],[0.,0,0,3]])\n",
    "sum_squares = (example_matrix**2).sum()\n",
    "input_probabilities = (example_matrix**2/sum_squares).flatten()\n",
    "\n",
    "print(input_probabilities)"
   ]
  },
  {
   "cell_type": "code",
   "execution_count": 33,
   "metadata": {},
   "outputs": [
    {
     "name": "stdout",
     "output_type": "stream",
     "text": [
      "Matrix:\n",
      " [[0.65 0.29 0.92]\n",
      " [0.29 0.14 0.44]\n",
      " [0.92 0.44 2.07]]\n",
      "\n",
      "eigenvalue: 0.007045038872204365 - eigenvector: [ 0.359 -0.933  0.039]\n",
      "eigenvalue: 0.21492893761037152 - eigenvector: [-0.825 -0.297  0.481]\n",
      "eigenvalue: 2.6317728594982777 - eigenvector: [-0.437 -0.205 -0.876]\n"
     ]
    }
   ],
   "source": [
    "example_matrix=generate_matrix(matrix_dimension=3,replicate_paper=False,seed=19)"
   ]
  },
  {
   "cell_type": "code",
   "execution_count": 50,
   "metadata": {},
   "outputs": [
    {
     "data": {
      "text/plain": [
       "(array([[-0.43714001, -0.82468914,  0.35888219],\n",
       "        [-0.2051187 , -0.29709624, -0.93255571],\n",
       "        [-0.87569112,  0.48127086,  0.03928651]]),\n",
       " array([[-0.43714001, -0.82468914,  0.35888219,  0.        ],\n",
       "        [-0.2051187 , -0.29709624, -0.93255571,  0.        ],\n",
       "        [-0.87569112,  0.48127086,  0.03928651,  0.        ],\n",
       "        [ 0.        ,  0.        ,  0.        ,  1.        ]]))"
      ]
     },
     "execution_count": 50,
     "metadata": {},
     "output_type": "execute_result"
    }
   ],
   "source": [
    "np.linalg.eig(qpca.input_matrix)[1][:3,:3],np.linalg.eig(qpca.input_matrix)[1]"
   ]
  },
  {
   "cell_type": "code",
   "execution_count": 35,
   "metadata": {},
   "outputs": [],
   "source": [
    "qpca=QPCA().fit(example_matrix,resolution=4)"
   ]
  },
  {
   "cell_type": "code",
   "execution_count": 36,
   "metadata": {},
   "outputs": [
    {
     "data": {
      "text/plain": [
       "(array([[0.22776803, 0.10031788, 0.3231667 , 0.        ],\n",
       "        [0.10031788, 0.04759571, 0.15478991, 0.        ],\n",
       "        [0.3231667 , 0.15478991, 0.72463626, 0.        ],\n",
       "        [0.        , 0.        , 0.        , 0.        ]]),\n",
       " (array([0.92221665, 0.07531465, 0.0024687 , 0.        ]),\n",
       "  array([[-0.43714001, -0.82468914,  0.35888219,  0.        ],\n",
       "         [-0.2051187 , -0.29709624, -0.93255571,  0.        ],\n",
       "         [-0.87569112,  0.48127086,  0.03928651,  0.        ],\n",
       "         [ 0.        ,  0.        ,  0.        ,  1.        ]])),\n",
       " (4, 4))"
      ]
     },
     "execution_count": 36,
     "metadata": {},
     "output_type": "execute_result"
    }
   ],
   "source": [
    "qpca.input_matrix,np.linalg.eig(qpca.input_matrix),qpca.input_matrix.shape"
   ]
  },
  {
   "cell_type": "code",
   "execution_count": 28,
   "metadata": {
    "collapsed": true,
    "jupyter": {
     "outputs_hidden": true
    }
   },
   "outputs": [
    {
     "data": {
      "text/plain": [
       "(array([[1.88796517, 1.38860006, 1.825929  , 1.47331672, 1.89708609,\n",
       "         1.35769167, 2.47043632, 2.17540535],\n",
       "        [1.38860006, 2.33292044, 1.76670854, 2.15775772, 1.82123014,\n",
       "         1.48235879, 2.64618214, 2.44772407],\n",
       "        [1.825929  , 1.76670854, 2.9387448 , 2.30432077, 1.95711824,\n",
       "         1.93800394, 3.49640564, 2.26477754],\n",
       "        [1.47331672, 2.15775772, 2.30432077, 2.49234932, 1.65452611,\n",
       "         1.74401937, 2.92734044, 2.14919239],\n",
       "        [1.89708609, 1.82123014, 1.95711824, 1.65452611, 2.24502304,\n",
       "         1.49121429, 2.75600582, 2.73392703],\n",
       "        [1.35769167, 1.48235879, 1.93800394, 1.74401937, 1.49121429,\n",
       "         2.2671822 , 2.44974725, 1.76615927],\n",
       "        [2.47043632, 2.64618214, 3.49640564, 2.92734044, 2.75600582,\n",
       "         2.44974725, 4.72922312, 3.309951  ],\n",
       "        [2.17540535, 2.44772407, 2.26477754, 2.14919239, 2.73392703,\n",
       "         1.76615927, 3.309951  , 3.59664424]]),\n",
       " (array([1.83781469e+01, 1.67581986e+00, 1.09391764e+00, 7.80909114e-01,\n",
       "         2.92381804e-01, 2.06761011e-01, 1.56105783e-03, 6.05548894e-02]),\n",
       "  array([[ 0.28225638,  0.20072071, -0.41499864,  0.04742486, -0.68336614,\n",
       "           0.3682185 , -0.28162211,  0.1538973 ],\n",
       "         [ 0.31293749,  0.15075576,  0.65329335, -0.03032427,  0.03190771,\n",
       "           0.29052719, -0.45947793, -0.39381081],\n",
       "         [ 0.3637871 , -0.41784965, -0.27953989, -0.27129268, -0.03914687,\n",
       "          -0.56022326, -0.36851774, -0.30021732],\n",
       "         [ 0.32993393, -0.28538135,  0.49037213, -0.13444162, -0.48095799,\n",
       "          -0.16967831,  0.47099796,  0.26308041],\n",
       "         [ 0.32350565,  0.38401609, -0.20494323,  0.07291549, -0.01602861,\n",
       "          -0.04089491,  0.55716258, -0.62305528],\n",
       "         [ 0.2800517 , -0.35549889, -0.02752747,  0.88326461,  0.1139824 ,\n",
       "           0.0252427 , -0.01625618,  0.0195964 ],\n",
       "         [ 0.48822636, -0.24223569, -0.19231709, -0.33631961,  0.47815518,\n",
       "           0.49886984,  0.15808667,  0.22442204],\n",
       "         [ 0.39969259,  0.59026867,  0.05129521,  0.0810749 ,  0.23928701,\n",
       "          -0.43149455, -0.12743156,  0.47216498]])))"
      ]
     },
     "execution_count": 28,
     "metadata": {},
     "output_type": "execute_result"
    }
   ],
   "source": [
    "example_matrix,np.linalg.eig(example_matrix)"
   ]
  },
  {
   "cell_type": "code",
   "execution_count": 29,
   "metadata": {},
   "outputs": [
    {
     "data": {
      "text/plain": [
       "(array([[0.08394668, 0.06174286, 0.08118829, 0.06550971, 0.08435223,\n",
       "         0.06036854, 0.10984573, 0.09672745],\n",
       "        [0.06174286, 0.10373121, 0.07855511, 0.09594276, 0.08097936,\n",
       "         0.06591175, 0.11766011, 0.10883585],\n",
       "        [0.08118829, 0.07855511, 0.13066865, 0.10245956, 0.08702151,\n",
       "         0.08617161, 0.15546454, 0.1007013 ],\n",
       "        [0.06550971, 0.09594276, 0.10245956, 0.11082008, 0.07356702,\n",
       "         0.07754626, 0.13016157, 0.09556191],\n",
       "        [0.08435223, 0.08097936, 0.08702151, 0.07356702, 0.09982294,\n",
       "         0.06630551, 0.12254333, 0.12156161],\n",
       "        [0.06036854, 0.06591175, 0.08617161, 0.07754626, 0.06630551,\n",
       "         0.10080822, 0.10892581, 0.07853069],\n",
       "        [0.10984573, 0.11766011, 0.15546454, 0.13016157, 0.12254333,\n",
       "         0.10892581, 0.21028066, 0.147174  ],\n",
       "        [0.09672745, 0.10883585, 0.1007013 , 0.09556191, 0.12156161,\n",
       "         0.07853069, 0.147174  , 0.15992156]]),\n",
       " (array([8.17167816e-01, 7.45138266e-02, 4.86400666e-02, 3.47224232e-02,\n",
       "         1.30004946e-02, 9.19344287e-03, 6.94110360e-05, 2.69251883e-03]),\n",
       "  array([[ 0.28225638,  0.20072071, -0.41499864,  0.04742486, -0.68336614,\n",
       "           0.3682185 , -0.28162211,  0.1538973 ],\n",
       "         [ 0.31293749,  0.15075576,  0.65329335, -0.03032427,  0.03190771,\n",
       "           0.29052719, -0.45947793, -0.39381081],\n",
       "         [ 0.3637871 , -0.41784965, -0.27953989, -0.27129268, -0.03914687,\n",
       "          -0.56022326, -0.36851774, -0.30021732],\n",
       "         [ 0.32993393, -0.28538135,  0.49037213, -0.13444162, -0.48095799,\n",
       "          -0.16967831,  0.47099796,  0.26308041],\n",
       "         [ 0.32350565,  0.38401609, -0.20494323,  0.07291549, -0.01602861,\n",
       "          -0.04089491,  0.55716258, -0.62305528],\n",
       "         [ 0.2800517 , -0.35549889, -0.02752747,  0.88326461,  0.1139824 ,\n",
       "           0.0252427 , -0.01625618,  0.0195964 ],\n",
       "         [ 0.48822636, -0.24223569, -0.19231709, -0.33631961,  0.47815518,\n",
       "           0.49886984,  0.15808667,  0.22442204],\n",
       "         [ 0.39969259,  0.59026867,  0.05129521,  0.0810749 ,  0.23928701,\n",
       "          -0.43149455, -0.12743156,  0.47216498]])))"
      ]
     },
     "execution_count": 29,
     "metadata": {},
     "output_type": "execute_result"
    }
   ],
   "source": [
    "example_matrix1=example_matrix/np.trace(example_matrix)\n",
    "example_matrix1,np.linalg.eig(example_matrix1)"
   ]
  },
  {
   "cell_type": "code",
   "execution_count": 203,
   "metadata": {},
   "outputs": [
    {
     "ename": "ValueError",
     "evalue": "matmul: Input operand 1 has a mismatch in its core dimension 0, with gufunc signature (n?,k),(k,m?)->(n?,m?) (size 2 is different from 4)",
     "output_type": "error",
     "traceback": [
      "\u001b[0;31m---------------------------------------------------------------------------\u001b[0m",
      "\u001b[0;31mValueError\u001b[0m                                Traceback (most recent call last)",
      "Input \u001b[0;32mIn [203]\u001b[0m, in \u001b[0;36m<cell line: 6>\u001b[0;34m()\u001b[0m\n\u001b[1;32m      4\u001b[0m b\u001b[38;5;241m=\u001b[39mnp\u001b[38;5;241m.\u001b[39marray([\u001b[38;5;241m9.37\u001b[39m,\u001b[38;5;241m4.42\u001b[39m])\n\u001b[1;32m      5\u001b[0m \u001b[38;5;66;03m#b=np.array([.7,.2,.06,0.04])\u001b[39;00m\n\u001b[0;32m----> 6\u001b[0m BB \u001b[38;5;241m=\u001b[39m \u001b[43me_v\u001b[49m\u001b[38;5;129;43m@np\u001b[39;49m\u001b[38;5;241;43m.\u001b[39;49m\u001b[43mdiag\u001b[49m\u001b[43m(\u001b[49m\u001b[43mb\u001b[49m\u001b[43m)\u001b[49m\u001b[38;5;129m@e_v\u001b[39m\u001b[38;5;241m.\u001b[39mT\n\u001b[1;32m      7\u001b[0m BB, np\u001b[38;5;241m.\u001b[39mlinalg\u001b[38;5;241m.\u001b[39meig(BB)\n\u001b[1;32m      8\u001b[0m example_matrix2\u001b[38;5;241m=\u001b[39mBB\n",
      "\u001b[0;31mValueError\u001b[0m: matmul: Input operand 1 has a mismatch in its core dimension 0, with gufunc signature (n?,k),(k,m?)->(n?,m?) (size 2 is different from 4)"
     ]
    }
   ],
   "source": [
    "eig,e_v=np.linalg.eig(example_matrix)\n",
    "#b=np.array([3,1])\n",
    "#b=np.array([.6,.3,.07,0.03])\n",
    "b=np.array([9.37,4.42])\n",
    "#b=np.array([.7,.2,.06,0.04])\n",
    "BB = e_v@np.diag(b)@e_v.T\n",
    "BB, np.linalg.eig(BB)\n",
    "example_matrix2=BB\n",
    "\n",
    "sum_squares = (example_matrix2**2).sum()\n",
    "input_probabilities = (example_matrix2**2/sum_squares).flatten()\n",
    "example_matrix2=example_matrix2/np.trace(example_matrix2)\n",
    "print(input_probabilities)"
   ]
  },
  {
   "cell_type": "code",
   "execution_count": 204,
   "metadata": {},
   "outputs": [
    {
     "ename": "NameError",
     "evalue": "name 'example_matrix2' is not defined",
     "output_type": "error",
     "traceback": [
      "\u001b[0;31m---------------------------------------------------------------------------\u001b[0m",
      "\u001b[0;31mNameError\u001b[0m                                 Traceback (most recent call last)",
      "Input \u001b[0;32mIn [204]\u001b[0m, in \u001b[0;36m<cell line: 1>\u001b[0;34m()\u001b[0m\n\u001b[0;32m----> 1\u001b[0m \u001b[43mexample_matrix2\u001b[49m,np\u001b[38;5;241m.\u001b[39mlinalg\u001b[38;5;241m.\u001b[39meig(example_matrix2)\n",
      "\u001b[0;31mNameError\u001b[0m: name 'example_matrix2' is not defined"
     ]
    }
   ],
   "source": [
    "example_matrix2,np.linalg.eig(example_matrix2)"
   ]
  },
  {
   "cell_type": "code",
   "execution_count": 5,
   "metadata": {},
   "outputs": [
    {
     "data": {
      "text/plain": [
       "array([2.63177286, 0.21492894, 0.00704504, 0.        ])"
      ]
     },
     "execution_count": 5,
     "metadata": {},
     "output_type": "execute_result"
    }
   ],
   "source": [
    "np.trace(example_matrix)*np.linalg.eig(example_matrix1)[0]"
   ]
  },
  {
   "cell_type": "code",
   "execution_count": 6,
   "metadata": {},
   "outputs": [],
   "source": [
    "#Tommaso's great code for computing the thetas\n",
    "def thetas_computation(example_matrix):\n",
    "    lst_combination=[]\n",
    "\n",
    "    for k in range(1, int(np.ceil(np.log2(len(example_matrix)**2)))+1):\n",
    "        lst_combination.append(list(map(list, itertools.product([0, 1], repeat=k))))\n",
    "    container=[]\n",
    "    for lst in lst_combination:\n",
    "        container.append([''.join([''.join(str(j)) for j in i]) for i in lst])\n",
    "    all_combinations=[item for c in container for item in c]\n",
    "\n",
    "    general_bitstring=[''.join([''.join(str(j)) for j in i]) for i in list(map(list, itertools.product([0, 1], repeat=int(np.ceil(np.log2(len(example_matrix)**2))))))][:len(input_probabilities)]\n",
    "    \n",
    "    #Nodes contains all the values of the tree (except for the root)\n",
    "    nodes=[]\n",
    "    for st in all_combinations:\n",
    "        #print(st)\n",
    "        starts = [general_bitstring.index(l) for l in general_bitstring if l.startswith(st)]\n",
    "        #print(starts)\n",
    "        print(st,'->',np.sqrt(input_probabilities[starts].sum()))\n",
    "        nodes.append(np.sqrt(input_probabilities[starts].sum()))\n",
    "    \n",
    "    #add root tree\n",
    "    nodes.insert(0, 1)\n",
    "    thetas=[]\n",
    "\n",
    "    idx=0\n",
    "    for i in range(1,len(nodes),2):\n",
    "        \n",
    "        right_node=i\n",
    "        left_node=right_node+1\n",
    "        if nodes[idx]!=0:\n",
    "            thetas.append(2*np.arccos(nodes[right_node]/nodes[idx]))\n",
    "            thetas.append(2*np.arcsin(nodes[left_node]/nodes[idx]))\n",
    "        else:\n",
    "            thetas.append(0)\n",
    "            thetas.append(0)\n",
    "\n",
    "        idx+=1\n",
    "    return thetas, all_combinations\n",
    "\n",
    "# SUB = str.maketrans(\"0123456789\", \"₀₁₂₃₄₅₆₇₈₉\")\n",
    "\n",
    "# for idx,th in zip(all_combinations,thetas):\n",
    "#     print('\\u03F4(R{})'.format((str(idx).translate(SUB))),'->', th)\n",
    "#thetas"
   ]
  },
  {
   "cell_type": "code",
   "execution_count": 7,
   "metadata": {},
   "outputs": [],
   "source": [
    "def generate_qram_circuit(thetas, all_combinations):\n",
    "    \n",
    "    right_nodes_indexes=list(range(0,len(thetas),2))\n",
    "    rotations_list=list(zip(np.array(all_combinations)[right_nodes_indexes],np.array(thetas)[right_nodes_indexes]))\n",
    "\n",
    "    #qc=QuantumCircuit(len(example_matrix))\n",
    "    qc=QuantumCircuit(int(np.ceil(np.log2(len(example_matrix)**2))))\n",
    "\n",
    "    for r_l in rotations_list:\n",
    "        target_qubit=len(r_l[0])-1\n",
    "        \n",
    "        #First case of R_0\n",
    "        if target_qubit==0:\n",
    "            qc.ry(theta=r_l[1],qubit=target_qubit)\n",
    "            continue\n",
    "            \n",
    "        not_gate=[]\n",
    "        for qb in range(target_qubit):\n",
    "            if r_l[0][qb]=='0':\n",
    "                not_gate.append(qb)\n",
    "                \n",
    "        c_t_qubits=list(range(len(r_l[0])))\n",
    "        n_controls=len(range(target_qubit))\n",
    "        \n",
    "        if len(not_gate)>0:\n",
    "            qc.x(not_gate)\n",
    "            c_ry = RYGate(r_l[1]).control(n_controls)\n",
    "            qc.append(c_ry, c_t_qubits)\n",
    "            qc.x(not_gate)\n",
    "        else:\n",
    "            c_ry = RYGate(r_l[1]).control(n_controls)\n",
    "            qc.append(c_ry, c_t_qubits)\n",
    "    return qc"
   ]
  },
  {
   "cell_type": "code",
   "execution_count": 8,
   "metadata": {},
   "outputs": [
    {
     "name": "stdout",
     "output_type": "stream",
     "text": [
      "0 -> 0.6218393178827792\n",
      "1 -> 0.7831448542479735\n",
      "00 -> 0.45396612641051726\n",
      "01 -> 0.42496928516864657\n",
      "10 -> 0.7831448542479735\n",
      "11 -> 0.0\n",
      "000 -> 0.2689765907534711\n",
      "001 -> 0.3657004751908445\n",
      "010 -> 0.17501771644426584\n",
      "011 -> 0.387256623271165\n",
      "100 -> 0.7831448542479735\n",
      "101 -> 0.0\n",
      "110 -> 0.0\n",
      "111 -> 0.0\n",
      "0000 -> 0.24615848258712142\n",
      "0001 -> 0.10841774681188547\n",
      "0010 -> 0.3492598312589688\n",
      "0011 -> 0.10841774681188547\n",
      "0100 -> 0.0514386871238349\n",
      "0101 -> 0.1672879629152727\n",
      "0110 -> 0.3492598312589688\n",
      "0111 -> 0.1672879629152727\n",
      "1000 -> 0.7831448542479735\n",
      "1001 -> 0.0\n",
      "1010 -> 0.0\n",
      "1011 -> 0.0\n",
      "1100 -> 0.0\n",
      "1101 -> 0.0\n",
      "1110 -> 0.0\n",
      "1111 -> 0.0\n"
     ]
    },
    {
     "data": {
      "image/png": "[encoded data removed]",
      "text/plain": [
       "<Figure size 1591.6x565.88 with 1 Axes>"
      ]
     },
     "execution_count": 8,
     "metadata": {},
     "output_type": "execute_result"
    }
   ],
   "source": [
    "thetas, all_combinations = thetas_computation(example_matrix1)\n",
    "matrix_circuit = generate_qram_circuit(thetas, all_combinations)\n",
    "matrix_circuit.draw('mpl')"
   ]
  },
  {
   "cell_type": "code",
   "execution_count": 9,
   "metadata": {},
   "outputs": [
    {
     "name": "stderr",
     "output_type": "stream",
     "text": [
      "/opt/miniconda3/envs/EAGLE_environment/lib/python3.8/site-packages/numpy/linalg/linalg.py:2154: RuntimeWarning: divide by zero encountered in det\n",
      "  r = _umath_linalg.det(a, signature=signature)\n",
      "/opt/miniconda3/envs/EAGLE_environment/lib/python3.8/site-packages/numpy/linalg/linalg.py:2154: RuntimeWarning: invalid value encountered in det\n",
      "  r = _umath_linalg.det(a, signature=signature)\n"
     ]
    },
    {
     "data": {
      "text/plain": [
       "{'0000': 0.060593998549594,\n",
       " '0001': 0.61331586273508,\n",
       " '0010': 0.002645938533024,\n",
       " '0100': 0.121982429731044,\n",
       " '0110': 0.121982429731044,\n",
       " '1000': 0.011754407823766,\n",
       " '1010': 0.027985262536342,\n",
       " '1100': 0.011754407823766,\n",
       " '1110': 0.027985262536342}"
      ]
     },
     "execution_count": 9,
     "metadata": {},
     "output_type": "execute_result"
    }
   ],
   "source": [
    "#Check matrix encoding\n",
    "backend = Aer.get_backend(\"statevector_simulator\")\n",
    "job = backend.run(transpile(matrix_circuit, backend=backend))\n",
    "job.result().get_counts()"
   ]
  },
  {
   "cell_type": "code",
   "execution_count": 13,
   "metadata": {},
   "outputs": [
    {
     "name": "stderr",
     "output_type": "stream",
     "text": [
      "/var/folders/rr/g930v2cj1wvdzc257kclm3lm0000gn/T/ipykernel_6580/2754507700.py:4: DeprecationWarning: The NumPyMatrix class is deprecated as of Qiskit Terra 0.22.0 and will be removed no sooner than 3 months after the release date. \n",
      "  u_circuit = NumPyMatrix(example_matrix1, evolution_time=2*np.pi)\n"
     ]
    },
    {
     "data": {
      "text/plain": [
       "Operator([[ 0.90287426+0.22224173j, -0.03738183+0.06437523j,\n",
       "           -0.00119929-0.36039377j,  0.        +0.j        ],\n",
       "          [-0.03738183+0.06437523j,  0.98527005+0.03396272j,\n",
       "           -0.00531069-0.15006559j,  0.        +0.j        ],\n",
       "          [-0.00119929-0.36039377j, -0.00531069-0.15006559j,\n",
       "            0.88477381-0.25444512j,  0.        +0.j        ],\n",
       "          [ 0.        +0.j        ,  0.        +0.j        ,\n",
       "            0.        +0.j        ,  1.        +0.j        ]],\n",
       "         input_dims=(2, 2), output_dims=(2, 2))"
      ]
     },
     "execution_count": 13,
     "metadata": {},
     "output_type": "execute_result"
    }
   ],
   "source": [
    "#Unitary for PE\n",
    "resolution = 8\n",
    "unitary_backend = Aer.get_backend(\"unitary_simulator\")\n",
    "u_circuit = NumPyMatrix(example_matrix1, evolution_time=2*np.pi)\n",
    "unitary_job = unitary_backend.run(transpile(u_circuit, backend=unitary_backend))\n",
    "unitary_job.result().get_unitary()"
   ]
  },
  {
   "cell_type": "code",
   "execution_count": 14,
   "metadata": {},
   "outputs": [
    {
     "data": {
      "image/png": "[encoded data removed]",
      "text/plain": [
       "<Figure size 1622.31x1288.28 with 1 Axes>"
      ]
     },
     "execution_count": 14,
     "metadata": {},
     "output_type": "execute_result"
    }
   ],
   "source": [
    "#PE circuit\n",
    "pe = PhaseEstimation(resolution, u_circuit, name = \"PE\")\n",
    "pe.decompose().draw(\"mpl\")"
   ]
  },
  {
   "cell_type": "markdown",
   "metadata": {},
   "source": [
    "# Check Statevector"
   ]
  },
  {
   "cell_type": "code",
   "execution_count": 15,
   "metadata": {},
   "outputs": [
    {
     "data": {
      "image/png": "[encoded data removed]",
      "text/plain": [
       "<Figure size 1639.05x1529.08 with 1 Axes>"
      ]
     },
     "execution_count": 15,
     "metadata": {},
     "output_type": "execute_result"
    }
   ],
   "source": [
    "tot_qubit = resolution+len(example_matrix1)\n",
    "\n",
    "qr_total_sim = QuantumRegister(tot_qubit, 'total')\n",
    "# classical = ClassicalRegister(4, 'measure')\n",
    "\n",
    "total_circuit_sim = QuantumCircuit(qr_total_sim , name='matrix')\n",
    "\n",
    "total_circuit_sim.append(matrix_circuit.to_gate(), qr_total_sim[resolution:])\n",
    "total_circuit_sim.append(pe.to_gate(), qr_total_sim[0:pe.num_qubits])\n",
    "# total_circuit.measure(qr_total[:2], classical[:])\n",
    "#total_circuit.swap(qr_total[0],qr_total[1])\n",
    "#total_circuit.measure_all()\n",
    "\n",
    "total_circuit_sim.decompose(reps=1).draw(\"mpl\")"
   ]
  },
  {
   "cell_type": "code",
   "execution_count": 16,
   "metadata": {},
   "outputs": [],
   "source": [
    "# Create the first operator for tomography\n",
    "op_U=total_circuit_sim.to_gate(label='op_U').control()"
   ]
  },
  {
   "cell_type": "code",
   "execution_count": 17,
   "metadata": {},
   "outputs": [],
   "source": [
    "backend_total = Aer.get_backend(\"statevector_simulator\")\n",
    "job = backend_total.run(transpile(total_circuit_sim, backend=backend_total))\n",
    "statevector = np.asarray(job.result().get_statevector()).round(4)\n",
    "#plot_histogram(counts)"
   ]
  },
  {
   "cell_type": "code",
   "execution_count": 18,
   "metadata": {},
   "outputs": [],
   "source": [
    "def attach_bitstrings(vector):\n",
    "    return list(zip(bitstrings, vector))"
   ]
  },
  {
   "cell_type": "code",
   "execution_count": 19,
   "metadata": {},
   "outputs": [],
   "source": [
    "bitstrings=[''.join([''.join(str(j)) for j in i]) for i in list(map(list, itertools.product([0, 1], repeat=resolution+len(example_matrix1))))]\n",
    "sim_statevector=attach_bitstrings(statevector)\n"
   ]
  },
  {
   "cell_type": "code",
   "execution_count": 20,
   "metadata": {},
   "outputs": [
    {
     "data": {
      "text/plain": [
       "8"
      ]
     },
     "execution_count": 20,
     "metadata": {},
     "output_type": "execute_result"
    }
   ],
   "source": [
    "int(np.log2(len(sim_statevector))-4)"
   ]
  },
  {
   "cell_type": "code",
   "execution_count": 21,
   "metadata": {},
   "outputs": [
    {
     "data": {
      "image/png": "[encoded data removed]",
      "text/plain": [
       "<Figure size 1097.25x806.68 with 1 Axes>"
      ]
     },
     "execution_count": 21,
     "metadata": {},
     "output_type": "execute_result"
    }
   ],
   "source": [
    "tot_qubit = resolution+len(example_matrix1)\n",
    "#print(tot_qubit)\n",
    "qr_total = QuantumRegister(tot_qubit, 'total')\n",
    "\n",
    "total_circuit = QuantumCircuit(qr_total, name='matrix')\n",
    "\n",
    "total_circuit.append(matrix_circuit.to_gate(), qr_total[resolution:])\n",
    "total_circuit.append(pe.to_gate(), qr_total[0:pe.num_qubits])\n",
    "#total_circuit.barrier()\n",
    "total_circuit.measure_all()\n",
    "total_circuit.draw(\"mpl\")"
   ]
  },
  {
   "cell_type": "code",
   "execution_count": 22,
   "metadata": {},
   "outputs": [
    {
     "data": {
      "image/png": "[encoded data removed]",
      "text/plain": [
       "<Figure size 504x360 with 1 Axes>"
      ]
     },
     "execution_count": 22,
     "metadata": {},
     "output_type": "execute_result"
    }
   ],
   "source": [
    "n_shots=1000000\n",
    "backend_total = Aer.get_backend(\"qasm_simulator\")\n",
    "job = backend_total.run(transpile(total_circuit, backend=backend_total), shots=n_shots)\n",
    "counts = job.result().get_counts()\n",
    "plot_histogram(counts)"
   ]
  },
  {
   "cell_type": "code",
   "execution_count": 23,
   "metadata": {},
   "outputs": [],
   "source": [
    "for i in counts:\n",
    "    counts[i]/=n_shots\n",
    "#counts"
   ]
  },
  {
   "cell_type": "code",
   "execution_count": 24,
   "metadata": {},
   "outputs": [],
   "source": [
    "statevector=np.zeros(2**tot_qubit)\n",
    "for i in counts:\n",
    "    statevector[int(i,2)]=counts[i]\n",
    "#statevector"
   ]
  },
  {
   "cell_type": "code",
   "execution_count": 25,
   "metadata": {},
   "outputs": [],
   "source": [
    "#Create second operator tomography\n",
    "op_V = StatePreparation(np.sqrt(statevector),label='c_V').control()"
   ]
  },
  {
   "cell_type": "code",
   "execution_count": 26,
   "metadata": {},
   "outputs": [
    {
     "data": {
      "image/png": "[encoded data removed]",
      "text/plain": [
       "<Figure size 1701.79x1769.88 with 1 Axes>"
      ]
     },
     "execution_count": 26,
     "metadata": {},
     "output_type": "execute_result"
    }
   ],
   "source": [
    "\n",
    "tot_qubit = resolution+len(example_matrix)\n",
    "\n",
    "qr_total_xi = QuantumRegister(tot_qubit, 'target')\n",
    "qr_control = QuantumRegister(1, 'control_qubit')\n",
    "\n",
    "total_circuit_2 = QuantumCircuit(qr_total_xi,qr_control, name='matrix')\n",
    "total_circuit_2.h(qr_control)\n",
    "total_circuit_2.x(qr_control)\n",
    "\n",
    "total_circuit_2.append(op_U, qr_control[:]+qr_total_xi[:])\n",
    "total_circuit_2.x(qr_control)\n",
    "total_circuit_2.append(op_V, qr_control[:]+qr_total_xi[:])\n",
    "total_circuit_2.h(qr_control)\n",
    "total_circuit_2.measure_all()\n",
    "total_circuit_2.draw(\"mpl\")"
   ]
  },
  {
   "cell_type": "code",
   "execution_count": 27,
   "metadata": {},
   "outputs": [
    {
     "data": {
      "image/png": "[encoded data removed]",
      "text/plain": [
       "<Figure size 504x360 with 1 Axes>"
      ]
     },
     "execution_count": 27,
     "metadata": {},
     "output_type": "execute_result"
    }
   ],
   "source": [
    "backend_total = Aer.get_backend(\"qasm_simulator\")\n",
    "job = backend_total.run(transpile(total_circuit_2, backend=backend_total), shots=n_shots)\n",
    "counts_for_sign = job.result().get_counts()\n",
    "plot_histogram(counts_for_sign)"
   ]
  },
  {
   "cell_type": "code",
   "execution_count": 28,
   "metadata": {},
   "outputs": [],
   "source": [
    "#Take only counts with control qubits equal to 0\n",
    "tmp=np.zeros(2**tot_qubit)\n",
    "for c in counts_for_sign:\n",
    "    if c[0]=='0':\n",
    "        tmp[int(c[1:],2)]=counts_for_sign[c]\n",
    "#tmp"
   ]
  },
  {
   "cell_type": "code",
   "execution_count": 92,
   "metadata": {},
   "outputs": [
    {
     "data": {
      "text/plain": [
       "'tmp_=tmp/(sum(tmp))\\n\\nsign_diff=[]\\nsign=[]\\nx_list=[]\\nfor i in range(len(tmp_)):\\n    x=(np.sqrt(statevector[i])*0.5)+(((statevector[i])/np.sqrt(statevector[i]))*0.5) - (tmp_[i]/(2*np.sqrt(statevector[i])))\\n    \\n    x_list.append(x)\\n    \\n    sign_diff.append(np.sign(x)+np.sign((sim_statevector[i][1].real)))\\n    sign.append(np.sign(x))\\n    '"
      ]
     },
     "execution_count": 92,
     "metadata": {},
     "output_type": "execute_result"
    }
   ],
   "source": [
    "###Metodo Nannicini\n",
    "\n",
    "'''tmp_=tmp/(sum(tmp))\n",
    "\n",
    "sign_diff=[]\n",
    "sign=[]\n",
    "x_list=[]\n",
    "for i in range(len(tmp_)):\n",
    "    x=(np.sqrt(statevector[i])*0.5)+(((statevector[i])/np.sqrt(statevector[i]))*0.5) - (tmp_[i]/(2*np.sqrt(statevector[i])))\n",
    "    \n",
    "    x_list.append(x)\n",
    "    \n",
    "    sign_diff.append(np.sign(x)+np.sign((sim_statevector[i][1].real)))\n",
    "    sign.append(np.sign(x))\n",
    "    '''"
   ]
  },
  {
   "cell_type": "code",
   "execution_count": 29,
   "metadata": {},
   "outputs": [],
   "source": [
    "#Sign estimation\n",
    "sign_dictionary={}\n",
    "sign=0\n",
    "for e, (count, prob) in enumerate(zip(tmp, statevector)):\n",
    "    if count>0.4*prob*n_shots:\n",
    "        sign=1\n",
    "    else:\n",
    "        sign=-1\n",
    "    if prob==0:\n",
    "        sign=1\n",
    "    sign_dictionary.update({bin(e)[2:].zfill(tot_qubit):sign})"
   ]
  },
  {
   "cell_type": "code",
   "execution_count": 30,
   "metadata": {},
   "outputs": [],
   "source": [
    "statevector_dictionary={}\n",
    "for e,key in enumerate(sign_dictionary):\n",
    "    statevector_dictionary[key]=sign_dictionary[key]*np.sqrt(statevector[e])\n",
    "\n",
    "#statevector_dictionary"
   ]
  },
  {
   "cell_type": "code",
   "execution_count": 31,
   "metadata": {},
   "outputs": [],
   "source": [
    "bitstrings=[''.join([''.join(str(j)) for j in i]) for i in list(map(list, itertools.product([0, 1], repeat=resolution+len(example_matrix1))))]\n",
    "ss=attach_bitstrings(statevector)\n",
    "#ss"
   ]
  },
  {
   "cell_type": "code",
   "execution_count": 32,
   "metadata": {},
   "outputs": [
    {
     "data": {
      "text/html": [
       "<div>\n",
       "<style scoped>\n",
       "    .dataframe tbody tr th:only-of-type {\n",
       "        vertical-align: middle;\n",
       "    }\n",
       "\n",
       "    .dataframe tbody tr th {\n",
       "        vertical-align: top;\n",
       "    }\n",
       "\n",
       "    .dataframe thead th {\n",
       "        text-align: right;\n",
       "    }\n",
       "</style>\n",
       "<table border=\"1\" class=\"dataframe\">\n",
       "  <thead>\n",
       "    <tr style=\"text-align: right;\">\n",
       "      <th></th>\n",
       "      <th>state</th>\n",
       "      <th>module</th>\n",
       "    </tr>\n",
       "  </thead>\n",
       "  <tbody>\n",
       "    <tr>\n",
       "      <th>0</th>\n",
       "      <td>000000000000</td>\n",
       "      <td>0.011017</td>\n",
       "    </tr>\n",
       "    <tr>\n",
       "      <th>1</th>\n",
       "      <td>000000000001</td>\n",
       "      <td>0.000002</td>\n",
       "    </tr>\n",
       "    <tr>\n",
       "      <th>2</th>\n",
       "      <td>000000000010</td>\n",
       "      <td>0.000002</td>\n",
       "    </tr>\n",
       "    <tr>\n",
       "      <th>3</th>\n",
       "      <td>000000000011</td>\n",
       "      <td>0.000003</td>\n",
       "    </tr>\n",
       "    <tr>\n",
       "      <th>4</th>\n",
       "      <td>000000000100</td>\n",
       "      <td>0.000042</td>\n",
       "    </tr>\n",
       "    <tr>\n",
       "      <th>...</th>\n",
       "      <td>...</td>\n",
       "      <td>...</td>\n",
       "    </tr>\n",
       "    <tr>\n",
       "      <th>4091</th>\n",
       "      <td>111111111011</td>\n",
       "      <td>0.000000</td>\n",
       "    </tr>\n",
       "    <tr>\n",
       "      <th>4092</th>\n",
       "      <td>111111111100</td>\n",
       "      <td>0.000000</td>\n",
       "    </tr>\n",
       "    <tr>\n",
       "      <th>4093</th>\n",
       "      <td>111111111101</td>\n",
       "      <td>0.000000</td>\n",
       "    </tr>\n",
       "    <tr>\n",
       "      <th>4094</th>\n",
       "      <td>111111111110</td>\n",
       "      <td>0.000000</td>\n",
       "    </tr>\n",
       "    <tr>\n",
       "      <th>4095</th>\n",
       "      <td>111111111111</td>\n",
       "      <td>0.000000</td>\n",
       "    </tr>\n",
       "  </tbody>\n",
       "</table>\n",
       "<p>4096 rows × 2 columns</p>\n",
       "</div>"
      ],
      "text/plain": [
       "             state    module\n",
       "0     000000000000  0.011017\n",
       "1     000000000001  0.000002\n",
       "2     000000000010  0.000002\n",
       "3     000000000011  0.000003\n",
       "4     000000000100  0.000042\n",
       "...            ...       ...\n",
       "4091  111111111011  0.000000\n",
       "4092  111111111100  0.000000\n",
       "4093  111111111101  0.000000\n",
       "4094  111111111110  0.000000\n",
       "4095  111111111111  0.000000\n",
       "\n",
       "[4096 rows x 2 columns]"
      ]
     },
     "execution_count": 32,
     "metadata": {},
     "output_type": "execute_result"
    }
   ],
   "source": [
    "df=pd.DataFrame(ss)\n",
    "\n",
    "df.columns=['state','module']\n",
    "df"
   ]
  },
  {
   "cell_type": "code",
   "execution_count": 33,
   "metadata": {},
   "outputs": [
    {
     "data": {
      "text/html": [
       "<div>\n",
       "<style scoped>\n",
       "    .dataframe tbody tr th:only-of-type {\n",
       "        vertical-align: middle;\n",
       "    }\n",
       "\n",
       "    .dataframe tbody tr th {\n",
       "        vertical-align: top;\n",
       "    }\n",
       "\n",
       "    .dataframe thead th {\n",
       "        text-align: right;\n",
       "    }\n",
       "</style>\n",
       "<table border=\"1\" class=\"dataframe\">\n",
       "  <thead>\n",
       "    <tr style=\"text-align: right;\">\n",
       "      <th></th>\n",
       "      <th>module</th>\n",
       "    </tr>\n",
       "    <tr>\n",
       "      <th>lambda</th>\n",
       "      <th></th>\n",
       "    </tr>\n",
       "  </thead>\n",
       "  <tbody>\n",
       "    <tr>\n",
       "      <th>00110111</th>\n",
       "      <td>0.374577</td>\n",
       "    </tr>\n",
       "    <tr>\n",
       "      <th>10000000</th>\n",
       "      <td>0.271382</td>\n",
       "    </tr>\n",
       "    <tr>\n",
       "      <th>11001000</th>\n",
       "      <td>0.140531</td>\n",
       "    </tr>\n",
       "    <tr>\n",
       "      <th>00000000</th>\n",
       "      <td>0.092162</td>\n",
       "    </tr>\n",
       "    <tr>\n",
       "      <th>00101000</th>\n",
       "      <td>0.021515</td>\n",
       "    </tr>\n",
       "    <tr>\n",
       "      <th>...</th>\n",
       "      <td>...</td>\n",
       "    </tr>\n",
       "    <tr>\n",
       "      <th>01111110</th>\n",
       "      <td>0.000003</td>\n",
       "    </tr>\n",
       "    <tr>\n",
       "      <th>01000110</th>\n",
       "      <td>0.000003</td>\n",
       "    </tr>\n",
       "    <tr>\n",
       "      <th>11111001</th>\n",
       "      <td>0.000003</td>\n",
       "    </tr>\n",
       "    <tr>\n",
       "      <th>01011110</th>\n",
       "      <td>0.000003</td>\n",
       "    </tr>\n",
       "    <tr>\n",
       "      <th>01100110</th>\n",
       "      <td>0.000002</td>\n",
       "    </tr>\n",
       "  </tbody>\n",
       "</table>\n",
       "<p>256 rows × 1 columns</p>\n",
       "</div>"
      ],
      "text/plain": [
       "            module\n",
       "lambda            \n",
       "00110111  0.374577\n",
       "10000000  0.271382\n",
       "11001000  0.140531\n",
       "00000000  0.092162\n",
       "00101000  0.021515\n",
       "...            ...\n",
       "01111110  0.000003\n",
       "01000110  0.000003\n",
       "11111001  0.000003\n",
       "01011110  0.000003\n",
       "01100110  0.000002\n",
       "\n",
       "[256 rows x 1 columns]"
      ]
     },
     "execution_count": 33,
     "metadata": {},
     "output_type": "execute_result"
    }
   ],
   "source": [
    "df['lambda']=df['state'].apply(lambda x: x[-resolution:])\n",
    "df1=df.groupby('lambda').agg({'module':'sum'})\n",
    "#df1['module_new']=df1['module'].apply(lambda x: np.sqrt(x.real**2 + x.imag**2))\n",
    "df1=df1.sort_values('module',ascending=False)\n",
    "df1"
   ]
  },
  {
   "cell_type": "code",
   "execution_count": 34,
   "metadata": {},
   "outputs": [
    {
     "data": {
      "text/html": [
       "<div>\n",
       "<style scoped>\n",
       "    .dataframe tbody tr th:only-of-type {\n",
       "        vertical-align: middle;\n",
       "    }\n",
       "\n",
       "    .dataframe tbody tr th {\n",
       "        vertical-align: top;\n",
       "    }\n",
       "\n",
       "    .dataframe thead th {\n",
       "        text-align: right;\n",
       "    }\n",
       "</style>\n",
       "<table border=\"1\" class=\"dataframe\">\n",
       "  <thead>\n",
       "    <tr style=\"text-align: right;\">\n",
       "      <th></th>\n",
       "      <th>lambda</th>\n",
       "      <th>module</th>\n",
       "    </tr>\n",
       "  </thead>\n",
       "  <tbody>\n",
       "    <tr>\n",
       "      <th>0</th>\n",
       "      <td>00110111</td>\n",
       "      <td>0.374577</td>\n",
       "    </tr>\n",
       "    <tr>\n",
       "      <th>1</th>\n",
       "      <td>10000000</td>\n",
       "      <td>0.271382</td>\n",
       "    </tr>\n",
       "    <tr>\n",
       "      <th>2</th>\n",
       "      <td>11001000</td>\n",
       "      <td>0.140531</td>\n",
       "    </tr>\n",
       "    <tr>\n",
       "      <th>3</th>\n",
       "      <td>00000000</td>\n",
       "      <td>0.092162</td>\n",
       "    </tr>\n",
       "    <tr>\n",
       "      <th>4</th>\n",
       "      <td>00101000</td>\n",
       "      <td>0.021515</td>\n",
       "    </tr>\n",
       "    <tr>\n",
       "      <th>...</th>\n",
       "      <td>...</td>\n",
       "      <td>...</td>\n",
       "    </tr>\n",
       "    <tr>\n",
       "      <th>251</th>\n",
       "      <td>01111110</td>\n",
       "      <td>0.000003</td>\n",
       "    </tr>\n",
       "    <tr>\n",
       "      <th>252</th>\n",
       "      <td>01000110</td>\n",
       "      <td>0.000003</td>\n",
       "    </tr>\n",
       "    <tr>\n",
       "      <th>253</th>\n",
       "      <td>11111001</td>\n",
       "      <td>0.000003</td>\n",
       "    </tr>\n",
       "    <tr>\n",
       "      <th>254</th>\n",
       "      <td>01011110</td>\n",
       "      <td>0.000003</td>\n",
       "    </tr>\n",
       "    <tr>\n",
       "      <th>255</th>\n",
       "      <td>01100110</td>\n",
       "      <td>0.000002</td>\n",
       "    </tr>\n",
       "  </tbody>\n",
       "</table>\n",
       "<p>256 rows × 2 columns</p>\n",
       "</div>"
      ],
      "text/plain": [
       "       lambda    module\n",
       "0    00110111  0.374577\n",
       "1    10000000  0.271382\n",
       "2    11001000  0.140531\n",
       "3    00000000  0.092162\n",
       "4    00101000  0.021515\n",
       "..        ...       ...\n",
       "251  01111110  0.000003\n",
       "252  01000110  0.000003\n",
       "253  11111001  0.000003\n",
       "254  01011110  0.000003\n",
       "255  01100110  0.000002\n",
       "\n",
       "[256 rows x 2 columns]"
      ]
     },
     "execution_count": 34,
     "metadata": {},
     "output_type": "execute_result"
    }
   ],
   "source": [
    "tail=df1.reset_index()\n",
    "tail"
   ]
  },
  {
   "cell_type": "code",
   "execution_count": 35,
   "metadata": {},
   "outputs": [],
   "source": [
    "tail['num']=tail['lambda'].apply(lambda x :int(x[::-1],base=2)/(2**resolution))"
   ]
  },
  {
   "cell_type": "code",
   "execution_count": 36,
   "metadata": {},
   "outputs": [
    {
     "data": {
      "text/html": [
       "<div>\n",
       "<style scoped>\n",
       "    .dataframe tbody tr th:only-of-type {\n",
       "        vertical-align: middle;\n",
       "    }\n",
       "\n",
       "    .dataframe tbody tr th {\n",
       "        vertical-align: top;\n",
       "    }\n",
       "\n",
       "    .dataframe thead th {\n",
       "        text-align: right;\n",
       "    }\n",
       "</style>\n",
       "<table border=\"1\" class=\"dataframe\">\n",
       "  <thead>\n",
       "    <tr style=\"text-align: right;\">\n",
       "      <th></th>\n",
       "      <th>lambda</th>\n",
       "      <th>module</th>\n",
       "      <th>num</th>\n",
       "    </tr>\n",
       "  </thead>\n",
       "  <tbody>\n",
       "    <tr>\n",
       "      <th>0</th>\n",
       "      <td>00110111</td>\n",
       "      <td>0.374577</td>\n",
       "      <td>0.921875</td>\n",
       "    </tr>\n",
       "    <tr>\n",
       "      <th>1</th>\n",
       "      <td>10000000</td>\n",
       "      <td>0.271382</td>\n",
       "      <td>0.003906</td>\n",
       "    </tr>\n",
       "    <tr>\n",
       "      <th>2</th>\n",
       "      <td>11001000</td>\n",
       "      <td>0.140531</td>\n",
       "      <td>0.074219</td>\n",
       "    </tr>\n",
       "    <tr>\n",
       "      <th>3</th>\n",
       "      <td>00000000</td>\n",
       "      <td>0.092162</td>\n",
       "      <td>0.000000</td>\n",
       "    </tr>\n",
       "    <tr>\n",
       "      <th>4</th>\n",
       "      <td>00101000</td>\n",
       "      <td>0.021515</td>\n",
       "      <td>0.078125</td>\n",
       "    </tr>\n",
       "    <tr>\n",
       "      <th>5</th>\n",
       "      <td>01000000</td>\n",
       "      <td>0.019760</td>\n",
       "      <td>0.007812</td>\n",
       "    </tr>\n",
       "    <tr>\n",
       "      <th>6</th>\n",
       "      <td>11111111</td>\n",
       "      <td>0.013775</td>\n",
       "      <td>0.996094</td>\n",
       "    </tr>\n",
       "    <tr>\n",
       "      <th>7</th>\n",
       "      <td>01001000</td>\n",
       "      <td>0.006876</td>\n",
       "      <td>0.070312</td>\n",
       "    </tr>\n",
       "    <tr>\n",
       "      <th>8</th>\n",
       "      <td>11000000</td>\n",
       "      <td>0.006539</td>\n",
       "      <td>0.011719</td>\n",
       "    </tr>\n",
       "    <tr>\n",
       "      <th>9</th>\n",
       "      <td>01111111</td>\n",
       "      <td>0.005297</td>\n",
       "      <td>0.992188</td>\n",
       "    </tr>\n",
       "    <tr>\n",
       "      <th>10</th>\n",
       "      <td>10101000</td>\n",
       "      <td>0.003792</td>\n",
       "      <td>0.082031</td>\n",
       "    </tr>\n",
       "    <tr>\n",
       "      <th>11</th>\n",
       "      <td>10110111</td>\n",
       "      <td>0.003567</td>\n",
       "      <td>0.925781</td>\n",
       "    </tr>\n",
       "    <tr>\n",
       "      <th>12</th>\n",
       "      <td>00100000</td>\n",
       "      <td>0.003285</td>\n",
       "      <td>0.015625</td>\n",
       "    </tr>\n",
       "    <tr>\n",
       "      <th>13</th>\n",
       "      <td>10111111</td>\n",
       "      <td>0.002770</td>\n",
       "      <td>0.988281</td>\n",
       "    </tr>\n",
       "    <tr>\n",
       "      <th>14</th>\n",
       "      <td>11010111</td>\n",
       "      <td>0.002483</td>\n",
       "      <td>0.917969</td>\n",
       "    </tr>\n",
       "    <tr>\n",
       "      <th>15</th>\n",
       "      <td>10001000</td>\n",
       "      <td>0.002237</td>\n",
       "      <td>0.066406</td>\n",
       "    </tr>\n",
       "    <tr>\n",
       "      <th>16</th>\n",
       "      <td>10100000</td>\n",
       "      <td>0.001945</td>\n",
       "      <td>0.019531</td>\n",
       "    </tr>\n",
       "    <tr>\n",
       "      <th>17</th>\n",
       "      <td>00111111</td>\n",
       "      <td>0.001745</td>\n",
       "      <td>0.984375</td>\n",
       "    </tr>\n",
       "    <tr>\n",
       "      <th>18</th>\n",
       "      <td>01101000</td>\n",
       "      <td>0.001587</td>\n",
       "      <td>0.085938</td>\n",
       "    </tr>\n",
       "    <tr>\n",
       "      <th>19</th>\n",
       "      <td>01100000</td>\n",
       "      <td>0.001361</td>\n",
       "      <td>0.023438</td>\n",
       "    </tr>\n",
       "  </tbody>\n",
       "</table>\n",
       "</div>"
      ],
      "text/plain": [
       "      lambda    module       num\n",
       "0   00110111  0.374577  0.921875\n",
       "1   10000000  0.271382  0.003906\n",
       "2   11001000  0.140531  0.074219\n",
       "3   00000000  0.092162  0.000000\n",
       "4   00101000  0.021515  0.078125\n",
       "5   01000000  0.019760  0.007812\n",
       "6   11111111  0.013775  0.996094\n",
       "7   01001000  0.006876  0.070312\n",
       "8   11000000  0.006539  0.011719\n",
       "9   01111111  0.005297  0.992188\n",
       "10  10101000  0.003792  0.082031\n",
       "11  10110111  0.003567  0.925781\n",
       "12  00100000  0.003285  0.015625\n",
       "13  10111111  0.002770  0.988281\n",
       "14  11010111  0.002483  0.917969\n",
       "15  10001000  0.002237  0.066406\n",
       "16  10100000  0.001945  0.019531\n",
       "17  00111111  0.001745  0.984375\n",
       "18  01101000  0.001587  0.085938\n",
       "19  01100000  0.001361  0.023438"
      ]
     },
     "execution_count": 36,
     "metadata": {},
     "output_type": "execute_result"
    }
   ],
   "source": [
    "tail.head(20)"
   ]
  },
  {
   "cell_type": "code",
   "execution_count": 101,
   "metadata": {},
   "outputs": [
    {
     "data": {
      "text/plain": [
       "\"tail1['num']+=0.1\\ntail1\""
      ]
     },
     "execution_count": 101,
     "metadata": {},
     "output_type": "execute_result"
    }
   ],
   "source": [
    "'''tail1['num']+=0.1\n",
    "tail1'''"
   ]
  },
  {
   "cell_type": "code",
   "execution_count": 37,
   "metadata": {},
   "outputs": [
    {
     "data": {
      "text/plain": [
       "(array([0.92221665, 0.07531465, 0.0024687 , 0.        ]),\n",
       " array([[-0.43714001, -0.82468914,  0.35888219,  0.        ],\n",
       "        [-0.2051187 , -0.29709624, -0.93255571,  0.        ],\n",
       "        [-0.87569112,  0.48127086,  0.03928651,  0.        ],\n",
       "        [ 0.        ,  0.        ,  0.        ,  1.        ]]))"
      ]
     },
     "execution_count": 37,
     "metadata": {},
     "output_type": "execute_result"
    }
   ],
   "source": [
    "np.linalg.eig(example_matrix1)"
   ]
  },
  {
   "cell_type": "code",
   "execution_count": 38,
   "metadata": {},
   "outputs": [
    {
     "data": {
      "text/plain": [
       "(['10000000', '11001000', '01111011', '00110111'],\n",
       " array([0.00390625, 0.07421875, 0.8671875 , 0.921875  ]))"
      ]
     },
     "execution_count": 38,
     "metadata": {},
     "output_type": "execute_result"
    }
   ],
   "source": [
    "from scipy.signal import find_peaks\n",
    "\n",
    "peaks=[]\n",
    "nums_peaks=[]\n",
    "offset=1/n_shots\n",
    "stop=False\n",
    "while stop==False:\n",
    "    right_thresholds=find_peaks(tail.sort_values(['num'])['module'],threshold=offset)[1]['right_thresholds']\n",
    "    left_thresholds=find_peaks(tail.sort_values(['num'])['module'],threshold=offset)[1]['left_thresholds']\n",
    "    mean=(right_thresholds+left_thresholds)/2\n",
    "    p=find_peaks(tail.sort_values(['num'])['module'],threshold=offset)[0]\n",
    "    if len(p)>len(example_matrix1):\n",
    "        offset+=1/n_shots\n",
    "    else:\n",
    "        stop=True\n",
    "        for i in p:\n",
    "            el = tail.sort_values(['num']).iloc[i]\n",
    "            nums_peaks.append(el['num'])\n",
    "            peaks.append(el['lambda'])\n",
    "\n",
    "sorted_peaks=np.array(peaks)[mean.argsort()[::-1]]\n",
    "sorted_num_peaks=np.array(nums_peaks)[mean.argsort()[::-1]]\n",
    "peaks,np.array(nums_peaks)"
   ]
  },
  {
   "cell_type": "code",
   "execution_count": 39,
   "metadata": {},
   "outputs": [
    {
     "data": {
      "text/plain": [
       "array([0.921875  , 0.00390625, 0.07421875, 0.8671875 ])"
      ]
     },
     "execution_count": 39,
     "metadata": {},
     "output_type": "execute_result"
    }
   ],
   "source": [
    "sorted_num_peaks"
   ]
  },
  {
   "cell_type": "code",
   "execution_count": 40,
   "metadata": {},
   "outputs": [
    {
     "data": {
      "text/plain": [
       "array([[0.00390625],\n",
       "       [0.07421875],\n",
       "       [0.921875  ]])"
      ]
     },
     "execution_count": 40,
     "metadata": {},
     "output_type": "execute_result"
    }
   ],
   "source": [
    "np.array(nums_peaks)[np.argwhere(mean != np.amin(mean))]"
   ]
  },
  {
   "cell_type": "code",
   "execution_count": 158,
   "metadata": {},
   "outputs": [
    {
     "name": "stdout",
     "output_type": "stream",
     "text": [
      "0.84765625\n"
     ]
    }
   ],
   "source": [
    "min_=10000\n",
    "values_not_to_keep=[]\n",
    "for k in np.array(nums_peaks)[~np.argwhere(mean == np.amin(mean))]:\n",
    "    a=find_nearest(np.linalg.eig(example_matrix1)[0],k[0])\n",
    "    gg=abs(a-k[0])\n",
    "    if gg<min_:\n",
    "        min_=gg\n",
    "        value_to_keep=k[0]\n",
    "    \n",
    "\n",
    "print(value_to_keep)\n"
   ]
  },
  {
   "cell_type": "code",
   "execution_count": 148,
   "metadata": {},
   "outputs": [
    {
     "data": {
      "text/plain": [
       "[2]"
      ]
     },
     "execution_count": 148,
     "metadata": {},
     "output_type": "execute_result"
    }
   ],
   "source": [
    "idx=[list(sorted_num_peaks).index(x) for x in values_not_to_keep if x in sorted_num_peaks]\n",
    "idx"
   ]
  },
  {
   "cell_type": "code",
   "execution_count": 157,
   "metadata": {},
   "outputs": [
    {
     "data": {
      "text/plain": [
       "[array([0.84765625])]"
      ]
     },
     "execution_count": 157,
     "metadata": {},
     "output_type": "execute_result"
    }
   ],
   "source": [
    "values_not_to_keep=[v for v in np.array(nums_peaks)[np.argwhere(mean == np.amin(mean))] if v!=value_to_keep]\n",
    "values_not_to_keep"
   ]
  },
  {
   "cell_type": "code",
   "execution_count": 143,
   "metadata": {},
   "outputs": [
    {
     "data": {
      "text/plain": [
       "[0.84765625, 0.09375]"
      ]
     },
     "execution_count": 143,
     "metadata": {},
     "output_type": "execute_result"
    }
   ],
   "source": [
    "new_peaks=[v for v in sorted_num_peaks if v not in values_not_to_keep]\n",
    "new_peaks"
   ]
  },
  {
   "cell_type": "code",
   "execution_count": 104,
   "metadata": {},
   "outputs": [
    {
     "data": {
      "text/plain": [
       "(array([0.01, 0.01, 0.95]), array([0.01, 0.01, 0.95]))"
      ]
     },
     "execution_count": 104,
     "metadata": {},
     "output_type": "execute_result"
    }
   ],
   "source": [
    "right_thresholds,left_thresholds"
   ]
  },
  {
   "cell_type": "code",
   "execution_count": 64,
   "metadata": {},
   "outputs": [
    {
     "data": {
      "text/plain": [
       "array([0.004, 0.002, 0.98 ])"
      ]
     },
     "execution_count": 64,
     "metadata": {},
     "output_type": "execute_result"
    }
   ],
   "source": [
    "(right_thresholds+left_thresholds)/2"
   ]
  },
  {
   "cell_type": "code",
   "execution_count": 41,
   "metadata": {},
   "outputs": [
    {
     "data": {
      "text/plain": [
       "(array(['00110111', '10000000', '11001000', '01111011'], dtype='<U8'),\n",
       " array([0.921875  , 0.00390625, 0.07421875, 0.8671875 ]),\n",
       " array([2.51622e-01, 1.19016e-01, 2.20000e-05, 3.71010e-01]))"
      ]
     },
     "execution_count": 41,
     "metadata": {},
     "output_type": "execute_result"
    }
   ],
   "source": [
    "sorted_peaks,sorted_num_peaks,right_thresholds"
   ]
  },
  {
   "cell_type": "code",
   "execution_count": 303,
   "metadata": {},
   "outputs": [
    {
     "data": {
      "text/plain": [
       "{0.8955238958986377: 0,\n",
       " 0.00030420453127693393: 0,\n",
       " 0.05567682172622658: 0,\n",
       " 0.04849507784385881: 0}"
      ]
     },
     "execution_count": 303,
     "metadata": {},
     "output_type": "execute_result"
    }
   ],
   "source": [
    "check_eigenvalues={}\n",
    "for i in np.linalg.eig(example_matrix1)[0]:\n",
    "    check_eigenvalues.update({i:0})\n",
    "check_eigenvalues"
   ]
  },
  {
   "cell_type": "code",
   "execution_count": 125,
   "metadata": {},
   "outputs": [],
   "source": [
    "def find_nearest(array, value):\n",
    "    array = np.asarray(array)\n",
    "    idx = (np.abs(array - value)).argmin()\n",
    "    return array[idx]"
   ]
  },
  {
   "cell_type": "code",
   "execution_count": 305,
   "metadata": {},
   "outputs": [
    {
     "name": "stdout",
     "output_type": "stream",
     "text": [
      "0.8955238958986377\n",
      "0.05567682172622658\n",
      "0.04849507784385881\n",
      "{0.8955238958986377: 1, 0.00030420453127693393: 0, 0.05567682172622658: 1, 0.04849507784385881: 1}\n"
     ]
    }
   ],
   "source": [
    "for s_p in sorted_num_peaks:\n",
    "    x=find_nearest(np.linalg.eig(example_matrix1)[0],s_p)\n",
    "    print(x)\n",
    "    if check_eigenvalues[x]==0:\n",
    "        check_eigenvalues.update({x:1})\n",
    "    else:\n",
    "        continue\n",
    "print(check_eigenvalues)"
   ]
  },
  {
   "cell_type": "code",
   "execution_count": 306,
   "metadata": {},
   "outputs": [
    {
     "data": {
      "text/plain": [
       "{0.00030420453127693393: 0}"
      ]
     },
     "execution_count": 306,
     "metadata": {},
     "output_type": "execute_result"
    }
   ],
   "source": [
    "new_original_eigenvalues=[]\n",
    "for d in list(check_eigenvalues.keys()):\n",
    "    if check_eigenvalues[d]==1:\n",
    "        check_eigenvalues.pop(d)\n",
    "        new_original_eigenvalues.append(d)\n",
    "        #new_original_eigenvalues.append(d)\n",
    "        #del check_eigenvalues[d]\n",
    "check_eigenvalues"
   ]
  },
  {
   "cell_type": "code",
   "execution_count": 307,
   "metadata": {},
   "outputs": [
    {
     "data": {
      "text/plain": [
       "[0.8955238958986377,\n",
       " 0.05567682172622658,\n",
       " 0.04849507784385881,\n",
       " 0.00030420453127693393]"
      ]
     },
     "execution_count": 307,
     "metadata": {},
     "output_type": "execute_result"
    }
   ],
   "source": [
    "if len(check_eigenvalues)>0:\n",
    "    new_original_eigenvalues.append(list(check_eigenvalues.keys())[0])\n",
    "else:\n",
    "    new_original_eigenvalues=sorted(new_original_eigenvalues,reverse=True)\n",
    "new_original_eigenvalues"
   ]
  },
  {
   "cell_type": "code",
   "execution_count": 317,
   "metadata": {},
   "outputs": [
    {
     "data": {
      "text/plain": [
       "((array([8.95523896e-01, 3.04204531e-04, 5.56768217e-02, 4.84950778e-02]),\n",
       "  array([[-0.54010974, -0.31079311, -0.76691778,  0.15338266],\n",
       "         [-0.34101425, -0.72369209,  0.45528741, -0.39075876],\n",
       "         [-0.54078131,  0.59128095,  0.021657  , -0.59789078],\n",
       "         [-0.54730826,  0.17339042,  0.45175377,  0.68286746]])),\n",
       " array([-0.31079311, -0.72369209,  0.59128095,  0.17339042]))"
      ]
     },
     "execution_count": 317,
     "metadata": {},
     "output_type": "execute_result"
    }
   ],
   "source": [
    "np.linalg.eig(example_matrix1),np.linalg.eig(example_matrix1)[1][:,1]"
   ]
  },
  {
   "cell_type": "code",
   "execution_count": 334,
   "metadata": {},
   "outputs": [],
   "source": [
    "new_idx=[]\n",
    "for i in new_original_eigenvalues:\n",
    "    for j in range(len(np.linalg.eig(example_matrix1)[0])):\n",
    "        if i==np.linalg.eig(example_matrix1)[0][j]:\n",
    "            new_idx.append(np.linalg.eig(example_matrix1)[1][:,j])\n",
    "            \n",
    "new_idx=np.array(new_idx)"
   ]
  },
  {
   "cell_type": "code",
   "execution_count": 336,
   "metadata": {},
   "outputs": [
    {
     "data": {
      "text/plain": [
       "array([[-0.54010974, -0.76691778,  0.15338266, -0.31079311],\n",
       "       [-0.34101425,  0.45528741, -0.39075876, -0.72369209],\n",
       "       [-0.54078131,  0.021657  , -0.59789078,  0.59128095],\n",
       "       [-0.54730826,  0.45175377,  0.68286746,  0.17339042]])"
      ]
     },
     "execution_count": 336,
     "metadata": {},
     "output_type": "execute_result"
    }
   ],
   "source": [
    "new_idx.reshape(4,4).T"
   ]
  },
  {
   "cell_type": "code",
   "execution_count": 306,
   "metadata": {},
   "outputs": [],
   "source": [
    "peaks=[]\n",
    "nums_peaks=[]\n",
    "peaks.append(tail.iloc[0]['lambda'])\n",
    "nums_peaks.append(tail.iloc[0]['num'])\n",
    "for i in range(1,len(tail)):\n",
    "    \n",
    "    #for n_ in nums_peaks:\n",
    "        \n",
    "    if any(abs(tail.iloc[i]['num']-n_)<= 4/(2**resolution) for n_ in nums_peaks):\n",
    "        #if any(abs(tail1.iloc[i]['num']-n_)/n_<= 0.2 for n_ in nums_peaks):\n",
    "        pass\n",
    "    else:\n",
    "           \n",
    "        nums_peaks.append(tail.iloc[i]['num'])\n",
    "        peaks.append(tail.iloc[i]['lambda'])\n",
    "        pass\n",
    "    if len(peaks)==len(example_matrix1):\n",
    "        break\n",
    "    #print(tail.iloc[i])"
   ]
  },
  {
   "cell_type": "code",
   "execution_count": 307,
   "metadata": {},
   "outputs": [
    {
     "data": {
      "text/plain": [
       "(['010011011', '100011000', '010000000', '001110000'],\n",
       " array([0.84765625, 0.09570312, 0.00390625, 0.0546875 ]))"
      ]
     },
     "execution_count": 307,
     "metadata": {},
     "output_type": "execute_result"
    }
   ],
   "source": [
    "peaks,np.array(nums_peaks)"
   ]
  },
  {
   "cell_type": "code",
   "execution_count": 478,
   "metadata": {},
   "outputs": [
    {
     "data": {
      "text/plain": [
       "(array([8.95523896e-01, 3.04204531e-04, 5.56768217e-02, 4.84950778e-02]),\n",
       " array([[-0.54010974, -0.31079311, -0.76691778,  0.15338266],\n",
       "        [-0.34101425, -0.72369209,  0.45528741, -0.39075876],\n",
       "        [-0.54078131,  0.59128095,  0.021657  , -0.59789078],\n",
       "        [-0.54730826,  0.17339042,  0.45175377,  0.68286746]]))"
      ]
     },
     "execution_count": 478,
     "metadata": {},
     "output_type": "execute_result"
    }
   ],
   "source": [
    "np.linalg.eig(example_matrix1)"
   ]
  },
  {
   "cell_type": "code",
   "execution_count": 42,
   "metadata": {},
   "outputs": [
    {
     "data": {
      "text/plain": [
       "<AxesSubplot: xlabel='num'>"
      ]
     },
     "execution_count": 42,
     "metadata": {},
     "output_type": "execute_result"
    },
    {
     "data": {
      "image/png": "[encoded data removed]",
      "text/plain": [
       "<Figure size 1080x720 with 1 Axes>"
      ]
     },
     "metadata": {
      "needs_background": "light"
     },
     "output_type": "display_data"
    }
   ],
   "source": [
    "tail[['num','module']].sort_values('num').set_index('num').plot(style='-*',figsize=(15,10))"
   ]
  },
  {
   "cell_type": "code",
   "execution_count": 149,
   "metadata": {},
   "outputs": [
    {
     "data": {
      "text/plain": [
       "'lambdas=df1.tail(len(example_matrix1)).index.values\\nlambdas'"
      ]
     },
     "execution_count": 149,
     "metadata": {},
     "output_type": "execute_result"
    }
   ],
   "source": [
    "'''lambdas=df1.tail(len(example_matrix1)).index.values\n",
    "lambdas'''"
   ]
  },
  {
   "cell_type": "code",
   "execution_count": 43,
   "metadata": {},
   "outputs": [
    {
     "data": {
      "text/plain": [
       "['10000000', '11001000', '01111011', '00110111']"
      ]
     },
     "execution_count": 43,
     "metadata": {},
     "output_type": "execute_result"
    }
   ],
   "source": [
    "lambdas=peaks\n",
    "lambdas"
   ]
  },
  {
   "cell_type": "code",
   "execution_count": 44,
   "metadata": {},
   "outputs": [
    {
     "data": {
      "text/html": [
       "<div>\n",
       "<style scoped>\n",
       "    .dataframe tbody tr th:only-of-type {\n",
       "        vertical-align: middle;\n",
       "    }\n",
       "\n",
       "    .dataframe tbody tr th {\n",
       "        vertical-align: top;\n",
       "    }\n",
       "\n",
       "    .dataframe thead th {\n",
       "        text-align: right;\n",
       "    }\n",
       "</style>\n",
       "<table border=\"1\" class=\"dataframe\">\n",
       "  <thead>\n",
       "    <tr style=\"text-align: right;\">\n",
       "      <th></th>\n",
       "      <th>state</th>\n",
       "      <th>module</th>\n",
       "      <th>lambda</th>\n",
       "    </tr>\n",
       "  </thead>\n",
       "  <tbody>\n",
       "    <tr>\n",
       "      <th>0</th>\n",
       "      <td>000000000000</td>\n",
       "      <td>0.011017</td>\n",
       "      <td>00000000</td>\n",
       "    </tr>\n",
       "    <tr>\n",
       "      <th>1</th>\n",
       "      <td>000000000001</td>\n",
       "      <td>0.000002</td>\n",
       "      <td>00000001</td>\n",
       "    </tr>\n",
       "    <tr>\n",
       "      <th>2</th>\n",
       "      <td>000000000010</td>\n",
       "      <td>0.000002</td>\n",
       "      <td>00000010</td>\n",
       "    </tr>\n",
       "    <tr>\n",
       "      <th>3</th>\n",
       "      <td>000000000011</td>\n",
       "      <td>0.000003</td>\n",
       "      <td>00000011</td>\n",
       "    </tr>\n",
       "    <tr>\n",
       "      <th>4</th>\n",
       "      <td>000000000100</td>\n",
       "      <td>0.000042</td>\n",
       "      <td>00000100</td>\n",
       "    </tr>\n",
       "    <tr>\n",
       "      <th>...</th>\n",
       "      <td>...</td>\n",
       "      <td>...</td>\n",
       "      <td>...</td>\n",
       "    </tr>\n",
       "    <tr>\n",
       "      <th>4091</th>\n",
       "      <td>111111111011</td>\n",
       "      <td>0.000000</td>\n",
       "      <td>11111011</td>\n",
       "    </tr>\n",
       "    <tr>\n",
       "      <th>4092</th>\n",
       "      <td>111111111100</td>\n",
       "      <td>0.000000</td>\n",
       "      <td>11111100</td>\n",
       "    </tr>\n",
       "    <tr>\n",
       "      <th>4093</th>\n",
       "      <td>111111111101</td>\n",
       "      <td>0.000000</td>\n",
       "      <td>11111101</td>\n",
       "    </tr>\n",
       "    <tr>\n",
       "      <th>4094</th>\n",
       "      <td>111111111110</td>\n",
       "      <td>0.000000</td>\n",
       "      <td>11111110</td>\n",
       "    </tr>\n",
       "    <tr>\n",
       "      <th>4095</th>\n",
       "      <td>111111111111</td>\n",
       "      <td>0.000000</td>\n",
       "      <td>11111111</td>\n",
       "    </tr>\n",
       "  </tbody>\n",
       "</table>\n",
       "<p>4096 rows × 3 columns</p>\n",
       "</div>"
      ],
      "text/plain": [
       "             state    module    lambda\n",
       "0     000000000000  0.011017  00000000\n",
       "1     000000000001  0.000002  00000001\n",
       "2     000000000010  0.000002  00000010\n",
       "3     000000000011  0.000003  00000011\n",
       "4     000000000100  0.000042  00000100\n",
       "...            ...       ...       ...\n",
       "4091  111111111011  0.000000  11111011\n",
       "4092  111111111100  0.000000  11111100\n",
       "4093  111111111101  0.000000  11111101\n",
       "4094  111111111110  0.000000  11111110\n",
       "4095  111111111111  0.000000  11111111\n",
       "\n",
       "[4096 rows x 3 columns]"
      ]
     },
     "execution_count": 44,
     "metadata": {},
     "output_type": "execute_result"
    }
   ],
   "source": [
    "df.columns=['state','module','lambda']\n",
    "df"
   ]
  },
  {
   "cell_type": "code",
   "execution_count": 45,
   "metadata": {},
   "outputs": [
    {
     "data": {
      "text/html": [
       "<div>\n",
       "<style scoped>\n",
       "    .dataframe tbody tr th:only-of-type {\n",
       "        vertical-align: middle;\n",
       "    }\n",
       "\n",
       "    .dataframe tbody tr th {\n",
       "        vertical-align: top;\n",
       "    }\n",
       "\n",
       "    .dataframe thead th {\n",
       "        text-align: right;\n",
       "    }\n",
       "</style>\n",
       "<table border=\"1\" class=\"dataframe\">\n",
       "  <thead>\n",
       "    <tr style=\"text-align: right;\">\n",
       "      <th></th>\n",
       "      <th>state</th>\n",
       "      <th>module</th>\n",
       "      <th>lambda</th>\n",
       "      <th>sign</th>\n",
       "    </tr>\n",
       "  </thead>\n",
       "  <tbody>\n",
       "    <tr>\n",
       "      <th>0</th>\n",
       "      <td>000000000000</td>\n",
       "      <td>0.011017</td>\n",
       "      <td>00000000</td>\n",
       "      <td>1</td>\n",
       "    </tr>\n",
       "    <tr>\n",
       "      <th>1</th>\n",
       "      <td>000000000001</td>\n",
       "      <td>0.000002</td>\n",
       "      <td>00000001</td>\n",
       "      <td>1</td>\n",
       "    </tr>\n",
       "    <tr>\n",
       "      <th>2</th>\n",
       "      <td>000000000010</td>\n",
       "      <td>0.000002</td>\n",
       "      <td>00000010</td>\n",
       "      <td>1</td>\n",
       "    </tr>\n",
       "    <tr>\n",
       "      <th>3</th>\n",
       "      <td>000000000011</td>\n",
       "      <td>0.000003</td>\n",
       "      <td>00000011</td>\n",
       "      <td>-1</td>\n",
       "    </tr>\n",
       "    <tr>\n",
       "      <th>4</th>\n",
       "      <td>000000000100</td>\n",
       "      <td>0.000042</td>\n",
       "      <td>00000100</td>\n",
       "      <td>-1</td>\n",
       "    </tr>\n",
       "    <tr>\n",
       "      <th>...</th>\n",
       "      <td>...</td>\n",
       "      <td>...</td>\n",
       "      <td>...</td>\n",
       "      <td>...</td>\n",
       "    </tr>\n",
       "    <tr>\n",
       "      <th>4091</th>\n",
       "      <td>111111111011</td>\n",
       "      <td>0.000000</td>\n",
       "      <td>11111011</td>\n",
       "      <td>1</td>\n",
       "    </tr>\n",
       "    <tr>\n",
       "      <th>4092</th>\n",
       "      <td>111111111100</td>\n",
       "      <td>0.000000</td>\n",
       "      <td>11111100</td>\n",
       "      <td>1</td>\n",
       "    </tr>\n",
       "    <tr>\n",
       "      <th>4093</th>\n",
       "      <td>111111111101</td>\n",
       "      <td>0.000000</td>\n",
       "      <td>11111101</td>\n",
       "      <td>1</td>\n",
       "    </tr>\n",
       "    <tr>\n",
       "      <th>4094</th>\n",
       "      <td>111111111110</td>\n",
       "      <td>0.000000</td>\n",
       "      <td>11111110</td>\n",
       "      <td>1</td>\n",
       "    </tr>\n",
       "    <tr>\n",
       "      <th>4095</th>\n",
       "      <td>111111111111</td>\n",
       "      <td>0.000000</td>\n",
       "      <td>11111111</td>\n",
       "      <td>1</td>\n",
       "    </tr>\n",
       "  </tbody>\n",
       "</table>\n",
       "<p>4096 rows × 4 columns</p>\n",
       "</div>"
      ],
      "text/plain": [
       "             state    module    lambda  sign\n",
       "0     000000000000  0.011017  00000000     1\n",
       "1     000000000001  0.000002  00000001     1\n",
       "2     000000000010  0.000002  00000010     1\n",
       "3     000000000011  0.000003  00000011    -1\n",
       "4     000000000100  0.000042  00000100    -1\n",
       "...            ...       ...       ...   ...\n",
       "4091  111111111011  0.000000  11111011     1\n",
       "4092  111111111100  0.000000  11111100     1\n",
       "4093  111111111101  0.000000  11111101     1\n",
       "4094  111111111110  0.000000  11111110     1\n",
       "4095  111111111111  0.000000  11111111     1\n",
       "\n",
       "[4096 rows x 4 columns]"
      ]
     },
     "execution_count": 45,
     "metadata": {},
     "output_type": "execute_result"
    }
   ],
   "source": [
    "df['sign']=np.array(list(sign_dictionary.values()))\n",
    "#df['sign']=np.array(sign)\n",
    "df"
   ]
  },
  {
   "cell_type": "code",
   "execution_count": 46,
   "metadata": {},
   "outputs": [
    {
     "data": {
      "text/html": [
       "<div>\n",
       "<style scoped>\n",
       "    .dataframe tbody tr th:only-of-type {\n",
       "        vertical-align: middle;\n",
       "    }\n",
       "\n",
       "    .dataframe tbody tr th {\n",
       "        vertical-align: top;\n",
       "    }\n",
       "\n",
       "    .dataframe thead th {\n",
       "        text-align: right;\n",
       "    }\n",
       "</style>\n",
       "<table border=\"1\" class=\"dataframe\">\n",
       "  <thead>\n",
       "    <tr style=\"text-align: right;\">\n",
       "      <th></th>\n",
       "      <th>state</th>\n",
       "      <th>module</th>\n",
       "      <th>lambda</th>\n",
       "      <th>sign</th>\n",
       "    </tr>\n",
       "  </thead>\n",
       "  <tbody>\n",
       "    <tr>\n",
       "      <th>0</th>\n",
       "      <td>000000000000</td>\n",
       "      <td>0.011017</td>\n",
       "      <td>00000000</td>\n",
       "      <td>1</td>\n",
       "    </tr>\n",
       "    <tr>\n",
       "      <th>1</th>\n",
       "      <td>000000000001</td>\n",
       "      <td>0.000002</td>\n",
       "      <td>00000001</td>\n",
       "      <td>1</td>\n",
       "    </tr>\n",
       "    <tr>\n",
       "      <th>2</th>\n",
       "      <td>000000000010</td>\n",
       "      <td>0.000002</td>\n",
       "      <td>00000010</td>\n",
       "      <td>1</td>\n",
       "    </tr>\n",
       "    <tr>\n",
       "      <th>3</th>\n",
       "      <td>000000000011</td>\n",
       "      <td>-0.000003</td>\n",
       "      <td>00000011</td>\n",
       "      <td>-1</td>\n",
       "    </tr>\n",
       "    <tr>\n",
       "      <th>4</th>\n",
       "      <td>000000000100</td>\n",
       "      <td>-0.000042</td>\n",
       "      <td>00000100</td>\n",
       "      <td>-1</td>\n",
       "    </tr>\n",
       "    <tr>\n",
       "      <th>...</th>\n",
       "      <td>...</td>\n",
       "      <td>...</td>\n",
       "      <td>...</td>\n",
       "      <td>...</td>\n",
       "    </tr>\n",
       "    <tr>\n",
       "      <th>4091</th>\n",
       "      <td>111111111011</td>\n",
       "      <td>0.000000</td>\n",
       "      <td>11111011</td>\n",
       "      <td>1</td>\n",
       "    </tr>\n",
       "    <tr>\n",
       "      <th>4092</th>\n",
       "      <td>111111111100</td>\n",
       "      <td>0.000000</td>\n",
       "      <td>11111100</td>\n",
       "      <td>1</td>\n",
       "    </tr>\n",
       "    <tr>\n",
       "      <th>4093</th>\n",
       "      <td>111111111101</td>\n",
       "      <td>0.000000</td>\n",
       "      <td>11111101</td>\n",
       "      <td>1</td>\n",
       "    </tr>\n",
       "    <tr>\n",
       "      <th>4094</th>\n",
       "      <td>111111111110</td>\n",
       "      <td>0.000000</td>\n",
       "      <td>11111110</td>\n",
       "      <td>1</td>\n",
       "    </tr>\n",
       "    <tr>\n",
       "      <th>4095</th>\n",
       "      <td>111111111111</td>\n",
       "      <td>0.000000</td>\n",
       "      <td>11111111</td>\n",
       "      <td>1</td>\n",
       "    </tr>\n",
       "  </tbody>\n",
       "</table>\n",
       "<p>4096 rows × 4 columns</p>\n",
       "</div>"
      ],
      "text/plain": [
       "             state    module    lambda  sign\n",
       "0     000000000000  0.011017  00000000     1\n",
       "1     000000000001  0.000002  00000001     1\n",
       "2     000000000010  0.000002  00000010     1\n",
       "3     000000000011 -0.000003  00000011    -1\n",
       "4     000000000100 -0.000042  00000100    -1\n",
       "...            ...       ...       ...   ...\n",
       "4091  111111111011  0.000000  11111011     1\n",
       "4092  111111111100  0.000000  11111100     1\n",
       "4093  111111111101  0.000000  11111101     1\n",
       "4094  111111111110  0.000000  11111110     1\n",
       "4095  111111111111  0.000000  11111111     1\n",
       "\n",
       "[4096 rows x 4 columns]"
      ]
     },
     "execution_count": 46,
     "metadata": {},
     "output_type": "execute_result"
    }
   ],
   "source": [
    "df['module']=df['module'].multiply(np.array(list(sign_dictionary.values())), axis=0)\n",
    "#df['module']=df['module'].multiply(np.array(sign), axis=0)\n",
    "df=df.fillna(0)\n",
    "df"
   ]
  },
  {
   "cell_type": "code",
   "execution_count": 47,
   "metadata": {},
   "outputs": [],
   "source": [
    "#df['st']=sim_statevector"
   ]
  },
  {
   "cell_type": "code",
   "execution_count": 155,
   "metadata": {},
   "outputs": [
    {
     "data": {
      "text/html": [
       "<div>\n",
       "<style scoped>\n",
       "    .dataframe tbody tr th:only-of-type {\n",
       "        vertical-align: middle;\n",
       "    }\n",
       "\n",
       "    .dataframe tbody tr th {\n",
       "        vertical-align: top;\n",
       "    }\n",
       "\n",
       "    .dataframe thead th {\n",
       "        text-align: right;\n",
       "    }\n",
       "</style>\n",
       "<table border=\"1\" class=\"dataframe\">\n",
       "  <thead>\n",
       "    <tr style=\"text-align: right;\">\n",
       "      <th></th>\n",
       "      <th>state</th>\n",
       "      <th>module</th>\n",
       "      <th>lambda</th>\n",
       "      <th>sign</th>\n",
       "    </tr>\n",
       "  </thead>\n",
       "  <tbody>\n",
       "  </tbody>\n",
       "</table>\n",
       "</div>"
      ],
      "text/plain": [
       "Empty DataFrame\n",
       "Columns: [state, module, lambda, sign]\n",
       "Index: []"
      ]
     },
     "execution_count": 155,
     "metadata": {},
     "output_type": "execute_result"
    }
   ],
   "source": [
    "df.query(\"state.str.endswith('01111000')\")"
   ]
  },
  {
   "cell_type": "code",
   "execution_count": 48,
   "metadata": {},
   "outputs": [
    {
     "name": "stdout",
     "output_type": "stream",
     "text": [
      "[0.18328939 0.47194385 0.01954482 0.         0.03903844 0.10300485\n",
      " 0.00608276 0.         0.01224745 0.03310589 0.00173205 0.\n",
      " 0.01236932 0.03313608 0.00173205 0.        ]\n",
      "1.9195944279350001\n",
      "[array([-0.35184129,  0.90594079, -0.03751813,  0.        ,  0.07493798,\n",
      "       -0.19772754, -0.01167644,  0.        ,  0.02351013, -0.06354988,\n",
      "        0.00332484,  0.        ,  0.02374407, -0.06360784, -0.00332484,\n",
      "        0.        ]), array([0.29666311, 0.10487135, 0.17418668, 0.        , 0.08590693,\n",
      "       0.03170173, 0.05180734, 0.        , 0.00574456, 0.00223607,\n",
      "       0.00360555, 0.        , 0.00648074, 0.00282843, 0.00360555,\n",
      "       0.        ]), array([0.00316228, 0.00565685, 0.001     , 0.        , 0.00244949,\n",
      "       0.00141421, 0.00223607, 0.        , 0.001     , 0.001     ,\n",
      "       0.001     , 0.        , 0.001     , 0.001     , 0.002     ,\n",
      "       0.        ]), array([0.13796376, 0.06463745, 0.26967759, 0.        , 0.19898241,\n",
      "       0.0931182 , 0.3959457 , 0.        , 0.08383913, 0.03827532,\n",
      "       0.16816658, 0.        , 0.08416056, 0.03947151, 0.16788687,\n",
      "       0.        ])]\n",
      "[0.29666311 0.10487135 0.17418668 0.         0.08590693 0.03170173\n",
      " 0.05180734 0.         0.00574456 0.00223607 0.00360555 0.\n",
      " 0.00648074 0.00282843 0.00360555 0.        ]\n",
      "2.667558372992941\n",
      "[array([-0.35184129,  0.90594079, -0.03751813,  0.        ,  0.07493798,\n",
      "       -0.19772754, -0.01167644,  0.        ,  0.02351013, -0.06354988,\n",
      "        0.00332484,  0.        ,  0.02374407, -0.06360784, -0.00332484,\n",
      "        0.        ]), array([ 0.79136616,  0.27975045, -0.46465314,  0.        ,  0.22916174,\n",
      "        0.08456623, -0.13819909,  0.        ,  0.01532396,  0.00596484,\n",
      "        0.00961802,  0.        ,  0.01728775,  0.00754499, -0.00961802,\n",
      "        0.        ]), array([0.00316228, 0.00565685, 0.001     , 0.        , 0.00244949,\n",
      "       0.00141421, 0.00223607, 0.        , 0.001     , 0.001     ,\n",
      "       0.001     , 0.        , 0.001     , 0.001     , 0.002     ,\n",
      "       0.        ]), array([0.13796376, 0.06463745, 0.26967759, 0.        , 0.19898241,\n",
      "       0.0931182 , 0.3959457 , 0.        , 0.08383913, 0.03827532,\n",
      "       0.16816658, 0.        , 0.08416056, 0.03947151, 0.16788687,\n",
      "       0.        ])]\n",
      "[0.00316228 0.00565685 0.001      0.         0.00244949 0.00141421\n",
      " 0.00223607 0.         0.001      0.001      0.001      0.\n",
      " 0.001      0.001      0.002      0.        ]\n",
      "124.03473458920847\n",
      "[array([-0.35184129,  0.90594079, -0.03751813,  0.        ,  0.07493798,\n",
      "       -0.19772754, -0.01167644,  0.        ,  0.02351013, -0.06354988,\n",
      "        0.00332484,  0.        ,  0.02374407, -0.06360784, -0.00332484,\n",
      "        0.        ]), array([ 0.79136616,  0.27975045, -0.46465314,  0.        ,  0.22916174,\n",
      "        0.08456623, -0.13819909,  0.        ,  0.01532396,  0.00596484,\n",
      "        0.00961802,  0.        ,  0.01728775,  0.00754499, -0.00961802,\n",
      "        0.        ]), array([ 0.39223227,  0.70164642, -0.12403473,  0.        ,  0.30382181,\n",
      "       -0.1754116 ,  0.2773501 ,  0.        , -0.12403473, -0.12403473,\n",
      "       -0.12403473,  0.        , -0.12403473,  0.12403473,  0.24806947,\n",
      "        0.        ]), array([0.13796376, 0.06463745, 0.26967759, 0.        , 0.19898241,\n",
      "       0.0931182 , 0.3959457 , 0.        , 0.08383913, 0.03827532,\n",
      "       0.16816658, 0.        , 0.08416056, 0.03947151, 0.16788687,\n",
      "       0.        ])]\n",
      "[0.13796376 0.06463745 0.26967759 0.         0.19898241 0.0931182\n",
      " 0.3959457  0.         0.08383913 0.03827532 0.16816658 0.\n",
      " 0.08416056 0.03947151 0.16788687 0.        ]\n",
      "1.6339149499047738\n",
      "[array([-0.35184129,  0.90594079, -0.03751813,  0.        ,  0.07493798,\n",
      "       -0.19772754, -0.01167644,  0.        ,  0.02351013, -0.06354988,\n",
      "        0.00332484,  0.        ,  0.02374407, -0.06360784, -0.00332484,\n",
      "        0.        ]), array([ 0.79136616,  0.27975045, -0.46465314,  0.        ,  0.22916174,\n",
      "        0.08456623, -0.13819909,  0.        ,  0.01532396,  0.00596484,\n",
      "        0.00961802,  0.        ,  0.01728775,  0.00754499, -0.00961802,\n",
      "        0.        ]), array([ 0.39223227,  0.70164642, -0.12403473,  0.        ,  0.30382181,\n",
      "       -0.1754116 ,  0.2773501 ,  0.        , -0.12403473, -0.12403473,\n",
      "       -0.12403473,  0.        , -0.12403473,  0.12403473,  0.24806947,\n",
      "        0.        ]), array([0.22542106, 0.1056121 , 0.44063024, 0.        , 0.32512034,\n",
      "       0.15214723, 0.6469416 , 0.        , 0.13698601, 0.06253861,\n",
      "       0.2747699 , 0.        , 0.1375112 , 0.06449309, 0.27431286,\n",
      "       0.        ])]\n"
     ]
    }
   ],
   "source": [
    "a=[]\n",
    "save_sign=[]\n",
    "eigenvalues=[]\n",
    "for l in lambdas:\n",
    "    eigenvalues.append(int(l[::-1],base=2)/(2**resolution))\n",
    "    a_=np.array(df.query(\"state.str.endswith(@l)\")['module'].values)\n",
    "    #print(a_)\n",
    "    save_sign.append(np.sign(a_))\n",
    "    #print(save_sign)\n",
    "    \n",
    "    a.append(np.sqrt(abs(a_)))\n",
    "\n",
    "#a=[a1,a2]\n",
    "\n",
    "for i in range(len(a)):\n",
    "    print(a[i])\n",
    "    normalization_factor=np.sqrt((1/(sum(a[i]**2))))\n",
    "    print(normalization_factor)\n",
    "    a[i]*=normalization_factor\n",
    "    a[i]*=save_sign[i]\n",
    "    \n",
    "    print(a)"
   ]
  },
  {
   "cell_type": "code",
   "execution_count": 49,
   "metadata": {},
   "outputs": [
    {
     "data": {
      "text/plain": [
       "[0.00390625, 0.07421875, 0.8671875, 0.921875]"
      ]
     },
     "execution_count": 49,
     "metadata": {},
     "output_type": "execute_result"
    }
   ],
   "source": [
    "eigenvalues"
   ]
  },
  {
   "cell_type": "code",
   "execution_count": 50,
   "metadata": {},
   "outputs": [
    {
     "name": "stdout",
     "output_type": "stream",
     "text": [
      "reconstructed_eigenvector: [-0.36965527  0.95180922 -0.0394177   0.        ]\n",
      "reconstructed_eigenvalue: 0.00390625\n",
      "reconstructed_eigenvector: [ 0.88958763  0.31447205 -0.52232419  0.        ]\n",
      "reconstructed_eigenvalue: 0.07421875\n",
      "reconstructed_eigenvector: [ 0.46825688  0.83764337 -0.14807583  0.        ]\n",
      "reconstructed_eigenvalue: 0.8671875\n",
      "reconstructed_eigenvector: [0.40421423 0.18916096 0.8043268  0.        ]\n",
      "reconstructed_eigenvalue: 0.921875\n"
     ]
    }
   ],
   "source": [
    "#TODO: Capire se fare la media tra i vari fattori di rescaling\n",
    "eigenvectors=[]\n",
    "for ll, eig in zip(a,eigenvalues):\n",
    "    \n",
    "    eigenvector=np.zeros(len(example_matrix1)) #put length of eigenvector\n",
    "    save_sign=np.sign(ll)\n",
    "    sv=abs(ll)\n",
    "    max_list=[]\n",
    "    scaled_statevectors=[]\n",
    "    for e,i in enumerate(range(0,len(sv),len(example_matrix1))):\n",
    "        max_list.append(max(sv[i:i+len(example_matrix1)]))\n",
    "        scaled_statevectors.append(sv[i:i+len(example_matrix1)]/max_list[e])\n",
    "        #print(max_list,scaled_statevectors)\n",
    "    idx_max=np.argmax(max_list)\n",
    "    #print(idx_max)\n",
    "    max_max=max_list[idx_max]\n",
    "    #print(max_max)\n",
    "    value=np.sqrt(max_max)\n",
    "    #eigenvector=scaled_statevectors[idx_max]*value*save_sign[:len(example_matrix)]\n",
    "    eigenvector=scaled_statevectors[idx_max]*value*save_sign[len(example_matrix1)*idx_max:len(example_matrix1)*idx_max+len(example_matrix1)]\n",
    "    eigenvectors.append((eig,eigenvector))\n",
    "    print('reconstructed_eigenvector:',eigenvector)\n",
    "    print('reconstructed_eigenvalue:', eig)\n",
    "    "
   ]
  },
  {
   "cell_type": "code",
   "execution_count": 51,
   "metadata": {},
   "outputs": [
    {
     "data": {
      "text/plain": [
       "array([0.01114745, 0.21180152, 2.47473358, 2.63079786])"
      ]
     },
     "execution_count": 51,
     "metadata": {},
     "output_type": "execute_result"
    }
   ],
   "source": [
    "np.array(eigenvalues)*np.trace(example_matrix)"
   ]
  },
  {
   "cell_type": "code",
   "execution_count": 52,
   "metadata": {},
   "outputs": [
    {
     "data": {
      "text/plain": [
       "(array([0.92221665, 0.07531465, 0.0024687 , 0.        ]),\n",
       " array([[-0.43714001, -0.82468914,  0.35888219,  0.        ],\n",
       "        [-0.2051187 , -0.29709624, -0.93255571,  0.        ],\n",
       "        [-0.87569112,  0.48127086,  0.03928651,  0.        ],\n",
       "        [ 0.        ,  0.        ,  0.        ,  1.        ]]))"
      ]
     },
     "execution_count": 52,
     "metadata": {},
     "output_type": "execute_result"
    }
   ],
   "source": [
    "np.linalg.eig(example_matrix1)#,np.linalg.eig(example_matrix2)"
   ]
  },
  {
   "cell_type": "code",
   "execution_count": 37,
   "metadata": {},
   "outputs": [
    {
     "ename": "NameError",
     "evalue": "name 'eig' is not defined",
     "output_type": "error",
     "traceback": [
      "\u001b[0;31m---------------------------------------------------------------------------\u001b[0m",
      "\u001b[0;31mNameError\u001b[0m                                 Traceback (most recent call last)",
      "Input \u001b[0;32mIn [37]\u001b[0m, in \u001b[0;36m<cell line: 1>\u001b[0;34m()\u001b[0m\n\u001b[0;32m----> 1\u001b[0m \u001b[43meig\u001b[49m\n",
      "\u001b[0;31mNameError\u001b[0m: name 'eig' is not defined"
     ]
    }
   ],
   "source": []
  },
  {
   "cell_type": "code",
   "execution_count": null,
   "metadata": {},
   "outputs": [],
   "source": []
  }
 ],
 "metadata": {
  "kernelspec": {
   "display_name": "Python 3 (ipykernel)",
   "language": "python",
   "name": "python3"
  },
  "language_info": {
   "codemirror_mode": {
    "name": "ipython",
    "version": 3
   },
   "file_extension": ".py",
   "mimetype": "text/x-python",
   "name": "python",
   "nbconvert_exporter": "python",
   "pygments_lexer": "ipython3",
   "version": "3.8.11"
  },
  "vscode": {
   "interpreter": {
    "hash": "3820477eeda6a2056d25dbf35341ad4ea495fec12a885dc74045ce43b88b4168"
   }
  }
 },
 "nbformat": 4,
 "nbformat_minor": 4
}
