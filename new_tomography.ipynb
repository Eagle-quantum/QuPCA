{
 "cells": [
  {
   "cell_type": "markdown",
   "metadata": {},
   "source": [
    "### Example taken from *A Low-Complexity Quantum Principal Component Analysis Algorithm*\n",
    "https://doi.org/10.1109/TQE.2021.3140152"
   ]
  },
  {
   "cell_type": "code",
   "execution_count": 364,
   "metadata": {},
   "outputs": [
    {
     "name": "stdout",
     "output_type": "stream",
     "text": [
      "[0.23882155 0.11761036 0.11761036 0.52595773]\n"
     ]
    }
   ],
   "source": [
    "import numpy as np\n",
    "import itertools\n",
    "from qiskit_experiments.library import StateTomography\n",
    "from qiskit.visualization import plot_state_city,array_to_latex\n",
    "import qiskit.quantum_info as qi\n",
    "from qiskit.visualization import plot_histogram\n",
    "from qiskit.circuit.library.standard_gates import RYGate\n",
    "from qiskit import Aer, transpile, execute\n",
    "from qiskit import QuantumRegister, ClassicalRegister, QuantumCircuit\n",
    "from qiskit.algorithms.linear_solvers.matrices.numpy_matrix import NumPyMatrix\n",
    "from qiskit.circuit.library import PhaseEstimation\n",
    "import matplotlib.pyplot as plt\n",
    "from qiskit import BasicAer, execute\n",
    "import scipy as sc\n",
    "import pandas as pd\n",
    "from qiskit.circuit.library.data_preparation.state_preparation import *\n",
    "#9329 con 6 res\n",
    "#seed 10 con resolution 5\n",
    "#6476 cambiando eigenvalues a 0.55 e 0.45 ris=7\n",
    "# 12 con 4x4 matrix e risoluzione 7\n",
    "#500  4x4 cambiando autovalori.\n",
    "#4524\n",
    "np.random.seed(9329)\n",
    "\n",
    "example_matrix=np.random.rand(2,2)\n",
    "\n",
    "\n",
    "example_matrix=np.dot(example_matrix,example_matrix.T)\n",
    "\n",
    "sum_squares = (example_matrix**2).sum()\n",
    "input_probabilities = (example_matrix**2/sum_squares).flatten()\n",
    "\n",
    "print(input_probabilities)"
   ]
  },
  {
   "cell_type": "code",
   "execution_count": 365,
   "metadata": {},
   "outputs": [
    {
     "data": {
      "text/plain": [
       "(array([[0.74150918, 0.52035838],\n",
       "        [0.52035838, 1.10041169]]),\n",
       " (array([0.37052824, 1.47139263]),\n",
       "  array([[-0.8142539 , -0.58050891],\n",
       "         [ 0.58050891, -0.8142539 ]])))"
      ]
     },
     "execution_count": 365,
     "metadata": {},
     "output_type": "execute_result"
    }
   ],
   "source": [
    "example_matrix,np.linalg.eig(example_matrix)"
   ]
  },
  {
   "cell_type": "code",
   "execution_count": 366,
   "metadata": {},
   "outputs": [
    {
     "data": {
      "text/plain": [
       "(array([[0.40257385, 0.28250854],\n",
       "        [0.28250854, 0.59742615]]),\n",
       " (array([0.20116404, 0.79883596]),\n",
       "  array([[-0.8142539 , -0.58050891],\n",
       "         [ 0.58050891, -0.8142539 ]])))"
      ]
     },
     "execution_count": 366,
     "metadata": {},
     "output_type": "execute_result"
    }
   ],
   "source": [
    "example_matrix1=example_matrix/np.trace(example_matrix)\n",
    "example_matrix1,np.linalg.eig(example_matrix1)"
   ]
  },
  {
   "cell_type": "code",
   "execution_count": 323,
   "metadata": {},
   "outputs": [
    {
     "name": "stdout",
     "output_type": "stream",
     "text": [
      "[0.13264575 0.05052016 0.02962622 0.04305508 0.05052016 0.13275186\n",
      " 0.00022045 0.01429935 0.02962622 0.00022045 0.1859229  0.08495269\n",
      " 0.04305508 0.01429935 0.08495269 0.10333162]\n"
     ]
    }
   ],
   "source": [
    "eig,e_v=np.linalg.eig(example_matrix1)\n",
    "#b=np.array([.55,.45])\n",
    "b=np.array([.6,.3,.07,0.03])\n",
    "BB = e_v@np.diag(b)@e_v.T\n",
    "BB, np.linalg.eig(BB)\n",
    "example_matrix2=BB\n",
    "\n",
    "sum_squares = (example_matrix2**2).sum()\n",
    "input_probabilities = (example_matrix2**2/sum_squares).flatten()\n",
    "example_matrix2=example_matrix2/np.trace(example_matrix2)\n",
    "print(input_probabilities)"
   ]
  },
  {
   "cell_type": "code",
   "execution_count": 324,
   "metadata": {},
   "outputs": [
    {
     "data": {
      "text/plain": [
       "(array([[ 0.24588601,  0.15174679,  0.11620512,  0.14008749],\n",
       "        [ 0.15174679,  0.24598434, -0.01002398,  0.08073192],\n",
       "        [ 0.11620512, -0.01002398,  0.29110764,  0.19677763],\n",
       "        [ 0.14008749,  0.08073192,  0.19677763,  0.21702201]]),\n",
       " (array([0.6 , 0.3 , 0.07, 0.03]),\n",
       "  array([[-0.54010974, -0.31079311, -0.76691778,  0.15338266],\n",
       "         [-0.34101425, -0.72369209,  0.45528741, -0.39075876],\n",
       "         [-0.54078131,  0.59128095,  0.021657  , -0.59789078],\n",
       "         [-0.54730826,  0.17339042,  0.45175377,  0.68286746]])))"
      ]
     },
     "execution_count": 324,
     "metadata": {},
     "output_type": "execute_result"
    }
   ],
   "source": [
    "example_matrix2,np.linalg.eig(example_matrix2)"
   ]
  },
  {
   "cell_type": "code",
   "execution_count": 367,
   "metadata": {},
   "outputs": [
    {
     "data": {
      "text/plain": [
       "array([0.37052824, 1.47139263])"
      ]
     },
     "execution_count": 367,
     "metadata": {},
     "output_type": "execute_result"
    }
   ],
   "source": [
    "np.trace(example_matrix)*np.linalg.eig(example_matrix1)[0]"
   ]
  },
  {
   "cell_type": "code",
   "execution_count": 368,
   "metadata": {},
   "outputs": [],
   "source": [
    "#Tommaso's great code for computing the thetas\n",
    "def thetas_computation(example_matrix):\n",
    "    lst_combination=[]\n",
    "\n",
    "    for k in range(1, int(np.ceil(np.log2(len(example_matrix)**2)))+1):\n",
    "        lst_combination.append(list(map(list, itertools.product([0, 1], repeat=k))))\n",
    "    container=[]\n",
    "    for lst in lst_combination:\n",
    "        container.append([''.join([''.join(str(j)) for j in i]) for i in lst])\n",
    "    all_combinations=[item for c in container for item in c]\n",
    "\n",
    "    general_bitstring=[''.join([''.join(str(j)) for j in i]) for i in list(map(list, itertools.product([0, 1], repeat=int(np.ceil(np.log2(len(example_matrix)**2))))))][:len(input_probabilities)]\n",
    "    \n",
    "    #Nodes contains all the values of the tree (except for the root)\n",
    "    nodes=[]\n",
    "    for st in all_combinations:\n",
    "        #print(st)\n",
    "        starts = [general_bitstring.index(l) for l in general_bitstring if l.startswith(st)]\n",
    "        #print(starts)\n",
    "        print(st,'->',np.sqrt(input_probabilities[starts].sum()))\n",
    "        nodes.append(np.sqrt(input_probabilities[starts].sum()))\n",
    "    \n",
    "    #add root tree\n",
    "    nodes.insert(0, 1)\n",
    "    thetas=[]\n",
    "\n",
    "    idx=0\n",
    "    for i in range(1,len(nodes),2):\n",
    "        \n",
    "        right_node=i\n",
    "        left_node=right_node+1\n",
    "        if nodes[idx]!=0:\n",
    "            thetas.append(2*np.arccos(nodes[right_node]/nodes[idx]))\n",
    "            thetas.append(2*np.arcsin(nodes[left_node]/nodes[idx]))\n",
    "        else:\n",
    "            thetas.append(0)\n",
    "            thetas.append(0)\n",
    "\n",
    "        idx+=1\n",
    "    return thetas, all_combinations\n",
    "\n",
    "# SUB = str.maketrans(\"0123456789\", \"₀₁₂₃₄₅₆₇₈₉\")\n",
    "\n",
    "# for idx,th in zip(all_combinations,thetas):\n",
    "#     print('\\u03F4(R{})'.format((str(idx).translate(SUB))),'->', th)\n",
    "#thetas"
   ]
  },
  {
   "cell_type": "code",
   "execution_count": 369,
   "metadata": {},
   "outputs": [],
   "source": [
    "def generate_qram_circuit(thetas, all_combinations):\n",
    "    \n",
    "    right_nodes_indexes=list(range(0,len(thetas),2))\n",
    "    rotations_list=list(zip(np.array(all_combinations)[right_nodes_indexes],np.array(thetas)[right_nodes_indexes]))\n",
    "\n",
    "    #qc=QuantumCircuit(len(example_matrix))\n",
    "    qc=QuantumCircuit(int(np.ceil(np.log2(len(example_matrix)**2))))\n",
    "\n",
    "    for r_l in rotations_list:\n",
    "        target_qubit=len(r_l[0])-1\n",
    "        \n",
    "        #First case of R_0\n",
    "        if target_qubit==0:\n",
    "            qc.ry(theta=r_l[1],qubit=target_qubit)\n",
    "            continue\n",
    "            \n",
    "        not_gate=[]\n",
    "        for qb in range(target_qubit):\n",
    "            if r_l[0][qb]=='0':\n",
    "                not_gate.append(qb)\n",
    "                \n",
    "        c_t_qubits=list(range(len(r_l[0])))\n",
    "        n_controls=len(range(target_qubit))\n",
    "        \n",
    "        if len(not_gate)>0:\n",
    "            qc.x(not_gate)\n",
    "            c_ry = RYGate(r_l[1]).control(n_controls)\n",
    "            qc.append(c_ry, c_t_qubits)\n",
    "            qc.x(not_gate)\n",
    "        else:\n",
    "            c_ry = RYGate(r_l[1]).control(n_controls)\n",
    "            qc.append(c_ry, c_t_qubits)\n",
    "    return qc"
   ]
  },
  {
   "cell_type": "code",
   "execution_count": 405,
   "metadata": {},
   "outputs": [
    {
     "name": "stdout",
     "output_type": "stream",
     "text": [
      "0 -> 0.5970191885526359\n",
      "1 -> 0.8022269557300803\n",
      "00 -> 0.4886937228241991\n",
      "01 -> 0.34294366413781835\n",
      "10 -> 0.34294366413781835\n",
      "11 -> 0.7252294338536457\n"
     ]
    },
    {
     "data": {
      "text/html": [
       "<pre style=\"word-wrap: normal;white-space: pre;background: #fff0;line-height: 1.1;font-family: &quot;Courier New&quot;,Courier,monospace\">     ┌───────────┐┌───┐              ┌───┐              \n",
       "q_0: ┤ Ry(1.862) ├┤ X ├──────■───────┤ X ├──────■───────\n",
       "     └───────────┘└───┘┌─────┴──────┐└───┘┌─────┴──────┐\n",
       "q_1: ──────────────────┤ Ry(1.2238) ├─────┤ Ry(2.2582) ├\n",
       "                       └────────────┘     └────────────┘</pre>"
      ],
      "text/plain": [
       "     ┌───────────┐┌───┐              ┌───┐              \n",
       "q_0: ┤ Ry(1.862) ├┤ X ├──────■───────┤ X ├──────■───────\n",
       "     └───────────┘└───┘┌─────┴──────┐└───┘┌─────┴──────┐\n",
       "q_1: ──────────────────┤ Ry(1.2238) ├─────┤ Ry(2.2582) ├\n",
       "                       └────────────┘     └────────────┘"
      ]
     },
     "execution_count": 405,
     "metadata": {},
     "output_type": "execute_result"
    }
   ],
   "source": [
    "thetas, all_combinations = thetas_computation(example_matrix1)\n",
    "matrix_circuit = generate_qram_circuit(thetas, all_combinations)\n",
    "matrix_circuit.draw()"
   ]
  },
  {
   "cell_type": "code",
   "execution_count": 406,
   "metadata": {},
   "outputs": [
    {
     "data": {
      "text/plain": [
       "{'00': 0.238821554727775,\n",
       " '01': 0.117610356772273,\n",
       " '10': 0.117610356772273,\n",
       " '11': 0.525957731727679}"
      ]
     },
     "execution_count": 406,
     "metadata": {},
     "output_type": "execute_result"
    }
   ],
   "source": [
    "#Check matrix encoding\n",
    "backend = Aer.get_backend(\"statevector_simulator\")\n",
    "job = backend.run(transpile(matrix_circuit, backend=backend))\n",
    "job.result().get_counts()"
   ]
  },
  {
   "cell_type": "code",
   "execution_count": 495,
   "metadata": {},
   "outputs": [
    {
     "name": "stderr",
     "output_type": "stream",
     "text": [
      "/var/folders/rr/g930v2cj1wvdzc257kclm3lm0000gn/T/ipykernel_1535/2943358390.py:4: DeprecationWarning: The NumPyMatrix class is deprecated as of Qiskit Terra 0.22.0 and will be removed no sooner than 3 months after the release date. \n",
      "  u_circuit = NumPyMatrix(example_matrix1, evolution_time=2*np.pi)\n"
     ]
    },
    {
     "data": {
      "text/plain": [
       "Operator([[ 3.02052887e-01+0.31079086j, -1.10365961e-16-0.90120647j],\n",
       "          [-1.10365961e-16-0.90120647j,  3.02052887e-01-0.31079086j]],\n",
       "         input_dims=(2,), output_dims=(2,))"
      ]
     },
     "execution_count": 495,
     "metadata": {},
     "output_type": "execute_result"
    }
   ],
   "source": [
    "#Unitary for PE\n",
    "resolution = 6\n",
    "unitary_backend = Aer.get_backend(\"unitary_simulator\")\n",
    "u_circuit = NumPyMatrix(example_matrix1, evolution_time=2*np.pi)\n",
    "unitary_job = unitary_backend.run(transpile(u_circuit, backend=unitary_backend))\n",
    "unitary_job.result().get_unitary()"
   ]
  },
  {
   "cell_type": "code",
   "execution_count": 496,
   "metadata": {},
   "outputs": [
    {
     "data": {
      "image/png": "[encoded data removed]",
      "text/plain": [
       "<Figure size 1261.11x385.28 with 1 Axes>"
      ]
     },
     "execution_count": 496,
     "metadata": {},
     "output_type": "execute_result"
    }
   ],
   "source": [
    "#PE circuit\n",
    "pe = PhaseEstimation(resolution, u_circuit, name = \"PE\")\n",
    "pe.decompose().draw(\"mpl\")"
   ]
  },
  {
   "cell_type": "markdown",
   "metadata": {},
   "source": [
    "# Check Statevector"
   ]
  },
  {
   "cell_type": "code",
   "execution_count": 497,
   "metadata": {},
   "outputs": [
    {
     "data": {
      "image/png": "[encoded data removed]",
      "text/plain": [
       "<Figure size 482.267x445.48 with 1 Axes>"
      ]
     },
     "execution_count": 497,
     "metadata": {},
     "output_type": "execute_result"
    }
   ],
   "source": [
    "tot_qubit = resolution+len(example_matrix1)\n",
    "\n",
    "qr_total_sim = QuantumRegister(tot_qubit, 'total')\n",
    "# classical = ClassicalRegister(4, 'measure')\n",
    "\n",
    "total_circuit_sim = QuantumCircuit(qr_total_sim , name='matrix')\n",
    "\n",
    "total_circuit_sim.append(matrix_circuit.to_gate(), qr_total_sim[resolution:])\n",
    "total_circuit_sim.append(pe.to_gate(), qr_total_sim[0:pe.num_qubits])\n",
    "# total_circuit.measure(qr_total[:2], classical[:])\n",
    "#total_circuit.swap(qr_total[0],qr_total[1])\n",
    "#total_circuit.measure_all()\n",
    "\n",
    "total_circuit_sim.decompose(reps=1).draw(\"mpl\")"
   ]
  },
  {
   "cell_type": "code",
   "execution_count": 498,
   "metadata": {},
   "outputs": [],
   "source": [
    "# Create the first operator for tomography\n",
    "op_U=total_circuit_sim.to_gate(label='op_U').control()"
   ]
  },
  {
   "cell_type": "code",
   "execution_count": 499,
   "metadata": {},
   "outputs": [
    {
     "name": "stderr",
     "output_type": "stream",
     "text": [
      "/opt/miniconda3/envs/EAGLE_environment/lib/python3.8/site-packages/numpy/linalg/linalg.py:2154: RuntimeWarning: divide by zero encountered in det\n",
      "  r = _umath_linalg.det(a, signature=signature)\n",
      "/opt/miniconda3/envs/EAGLE_environment/lib/python3.8/site-packages/numpy/linalg/linalg.py:2154: RuntimeWarning: invalid value encountered in det\n",
      "  r = _umath_linalg.det(a, signature=signature)\n"
     ]
    }
   ],
   "source": [
    "backend_total = Aer.get_backend(\"statevector_simulator\")\n",
    "job = backend_total.run(transpile(total_circuit_sim, backend=backend_total))\n",
    "statevector = np.asarray(job.result().get_statevector()).round(4)\n",
    "#plot_histogram(counts)"
   ]
  },
  {
   "cell_type": "code",
   "execution_count": 500,
   "metadata": {},
   "outputs": [],
   "source": [
    "def attach_bitstrings(vector):\n",
    "    return list(zip(bitstrings, vector))"
   ]
  },
  {
   "cell_type": "code",
   "execution_count": 501,
   "metadata": {},
   "outputs": [],
   "source": [
    "bitstrings=[''.join([''.join(str(j)) for j in i]) for i in list(map(list, itertools.product([0, 1], repeat=resolution+len(example_matrix1))))]\n",
    "sim_statevector=attach_bitstrings(statevector)\n"
   ]
  },
  {
   "cell_type": "code",
   "execution_count": null,
   "metadata": {},
   "outputs": [],
   "source": []
  },
  {
   "cell_type": "code",
   "execution_count": 502,
   "metadata": {},
   "outputs": [
    {
     "data": {
      "image/png": "[encoded data removed]",
      "text/plain": [
       "<Figure size 903.667x505.68 with 1 Axes>"
      ]
     },
     "execution_count": 502,
     "metadata": {},
     "output_type": "execute_result"
    }
   ],
   "source": [
    "tot_qubit = resolution+len(example_matrix1)\n",
    "\n",
    "qr_total = QuantumRegister(tot_qubit, 'total')\n",
    "\n",
    "total_circuit = QuantumCircuit(qr_total , name='matrix')\n",
    "\n",
    "total_circuit.append(matrix_circuit.to_gate(), qr_total[resolution:])\n",
    "total_circuit.append(pe.to_gate(), qr_total[0:pe.num_qubits])\n",
    "total_circuit.barrier()\n",
    "\n",
    "total_circuit.measure_all()\n",
    "total_circuit.draw(\"mpl\")"
   ]
  },
  {
   "cell_type": "code",
   "execution_count": 503,
   "metadata": {},
   "outputs": [
    {
     "data": {
      "image/png": "[encoded data removed]",
      "text/plain": [
       "<Figure size 504x360 with 1 Axes>"
      ]
     },
     "execution_count": 503,
     "metadata": {},
     "output_type": "execute_result"
    }
   ],
   "source": [
    "n_shots=500000\n",
    "backend_total = Aer.get_backend(\"qasm_simulator\")\n",
    "job = backend_total.run(transpile(total_circuit, backend=backend_total), shots=n_shots)\n",
    "counts = job.result().get_counts()\n",
    "plot_histogram(counts)"
   ]
  },
  {
   "cell_type": "code",
   "execution_count": 504,
   "metadata": {},
   "outputs": [],
   "source": [
    "for i in counts:\n",
    "    counts[i]/=n_shots\n",
    "#counts"
   ]
  },
  {
   "cell_type": "code",
   "execution_count": 505,
   "metadata": {},
   "outputs": [],
   "source": [
    "statevector=np.zeros(2**tot_qubit)\n",
    "for i in counts:\n",
    "    statevector[int(i,2)]=counts[i]\n",
    "#statevector"
   ]
  },
  {
   "cell_type": "code",
   "execution_count": 506,
   "metadata": {},
   "outputs": [],
   "source": [
    "#Create second operator tomography\n",
    "op_V = StatePreparation(np.sqrt(statevector),label='c_V').control()"
   ]
  },
  {
   "cell_type": "code",
   "execution_count": 507,
   "metadata": {},
   "outputs": [
    {
     "data": {
      "image/png": "[encoded data removed]",
      "text/plain": [
       "<Figure size 1701.79x1167.88 with 1 Axes>"
      ]
     },
     "execution_count": 507,
     "metadata": {},
     "output_type": "execute_result"
    }
   ],
   "source": [
    "\n",
    "tot_qubit = resolution+len(example_matrix)\n",
    "\n",
    "qr_total_xi = QuantumRegister(tot_qubit, 'target')\n",
    "qr_control = QuantumRegister(1, 'control_qubit')\n",
    "\n",
    "total_circuit_2 = QuantumCircuit(qr_total_xi,qr_control, name='matrix')\n",
    "total_circuit_2.h(qr_control)\n",
    "total_circuit_2.x(qr_control)\n",
    "total_circuit_2.append(op_U, qr_control[:]+qr_total_xi[:])\n",
    "total_circuit_2.x(qr_control)\n",
    "total_circuit_2.append(op_V, qr_control[:]+qr_total_xi[:])\n",
    "total_circuit_2.h(qr_control)\n",
    "total_circuit_2.measure_all()\n",
    "total_circuit_2.draw(\"mpl\")"
   ]
  },
  {
   "cell_type": "code",
   "execution_count": 508,
   "metadata": {},
   "outputs": [
    {
     "data": {
      "image/png": "[encoded data removed]",
      "text/plain": [
       "<Figure size 504x360 with 1 Axes>"
      ]
     },
     "execution_count": 508,
     "metadata": {},
     "output_type": "execute_result"
    }
   ],
   "source": [
    "backend_total = Aer.get_backend(\"qasm_simulator\")\n",
    "job = backend_total.run(transpile(total_circuit_2, backend=backend_total), shots=n_shots)\n",
    "counts_for_sign = job.result().get_counts()\n",
    "plot_histogram(counts_for_sign)"
   ]
  },
  {
   "cell_type": "code",
   "execution_count": 509,
   "metadata": {},
   "outputs": [],
   "source": [
    "#Take only counts with control qubits equal to 0\n",
    "tmp=np.zeros(2**tot_qubit)\n",
    "for c in counts_for_sign:\n",
    "    if c[0]=='0':\n",
    "        tmp[int(c[1:],2)]=counts_for_sign[c]\n",
    "#tmp"
   ]
  },
  {
   "cell_type": "code",
   "execution_count": 510,
   "metadata": {},
   "outputs": [
    {
     "data": {
      "text/plain": [
       "'\\ntmp_=tmp/(sum(tmp))\\n\\nsign_diff=[]\\nsign=[]\\nx_list=[]\\nfor i in range(len(tmp_)):\\n    x=(np.sqrt(statevector[i])*0.5)+(((statevector[i])/np.sqrt(statevector[i]))*0.5) - (tmp_[i]/(2*np.sqrt(statevector[i])))\\n    \\n    x_list.append(x)\\n    \\n    sign_diff.append(np.sign(x)+np.sign((sim_statevector[i][1].real)))\\n    sign.append(np.sign(x))\\n    '"
      ]
     },
     "execution_count": 510,
     "metadata": {},
     "output_type": "execute_result"
    }
   ],
   "source": [
    "###Metodo Nannicini\n",
    "'''\n",
    "tmp_=tmp/(sum(tmp))\n",
    "\n",
    "sign_diff=[]\n",
    "sign=[]\n",
    "x_list=[]\n",
    "for i in range(len(tmp_)):\n",
    "    x=(np.sqrt(statevector[i])*0.5)+(((statevector[i])/np.sqrt(statevector[i]))*0.5) - (tmp_[i]/(2*np.sqrt(statevector[i])))\n",
    "    \n",
    "    x_list.append(x)\n",
    "    \n",
    "    sign_diff.append(np.sign(x)+np.sign((sim_statevector[i][1].real)))\n",
    "    sign.append(np.sign(x))\n",
    "    '''"
   ]
  },
  {
   "cell_type": "code",
   "execution_count": 511,
   "metadata": {},
   "outputs": [],
   "source": [
    "#Sign estimation\n",
    "sign_dictionary={}\n",
    "sign=0\n",
    "for e, (count, prob) in enumerate(zip(tmp, statevector)):\n",
    "    if count>0.4*prob*n_shots:\n",
    "        sign=1\n",
    "    else:\n",
    "        sign=-1\n",
    "    if prob==0:\n",
    "        sign=1\n",
    "    sign_dictionary.update({bin(e)[2:].zfill(tot_qubit):sign})"
   ]
  },
  {
   "cell_type": "code",
   "execution_count": 512,
   "metadata": {},
   "outputs": [],
   "source": [
    "statevector_dictionary={}\n",
    "for e,key in enumerate(sign_dictionary):\n",
    "    statevector_dictionary[key]=sign_dictionary[key]*np.sqrt(statevector[e])\n",
    "\n",
    "#statevector_dictionary"
   ]
  },
  {
   "cell_type": "code",
   "execution_count": 513,
   "metadata": {},
   "outputs": [],
   "source": [
    "bitstrings=[''.join([''.join(str(j)) for j in i]) for i in list(map(list, itertools.product([0, 1], repeat=resolution+len(example_matrix1))))]\n",
    "ss=attach_bitstrings(statevector)\n",
    "#ss"
   ]
  },
  {
   "cell_type": "code",
   "execution_count": 514,
   "metadata": {},
   "outputs": [
    {
     "data": {
      "text/html": [
       "<div>\n",
       "<style scoped>\n",
       "    .dataframe tbody tr th:only-of-type {\n",
       "        vertical-align: middle;\n",
       "    }\n",
       "\n",
       "    .dataframe tbody tr th {\n",
       "        vertical-align: top;\n",
       "    }\n",
       "\n",
       "    .dataframe thead th {\n",
       "        text-align: right;\n",
       "    }\n",
       "</style>\n",
       "<table border=\"1\" class=\"dataframe\">\n",
       "  <thead>\n",
       "    <tr style=\"text-align: right;\">\n",
       "      <th></th>\n",
       "      <th>state</th>\n",
       "      <th>module</th>\n",
       "    </tr>\n",
       "  </thead>\n",
       "  <tbody>\n",
       "    <tr>\n",
       "      <th>0</th>\n",
       "      <td>0000000</td>\n",
       "      <td>0.000374</td>\n",
       "    </tr>\n",
       "    <tr>\n",
       "      <th>1</th>\n",
       "      <td>0000001</td>\n",
       "      <td>0.000152</td>\n",
       "    </tr>\n",
       "    <tr>\n",
       "      <th>2</th>\n",
       "      <td>0000010</td>\n",
       "      <td>0.001052</td>\n",
       "    </tr>\n",
       "    <tr>\n",
       "      <th>3</th>\n",
       "      <td>0000011</td>\n",
       "      <td>0.004332</td>\n",
       "    </tr>\n",
       "    <tr>\n",
       "      <th>4</th>\n",
       "      <td>0000100</td>\n",
       "      <td>0.000692</td>\n",
       "    </tr>\n",
       "    <tr>\n",
       "      <th>...</th>\n",
       "      <td>...</td>\n",
       "      <td>...</td>\n",
       "    </tr>\n",
       "    <tr>\n",
       "      <th>123</th>\n",
       "      <td>1111011</td>\n",
       "      <td>0.019864</td>\n",
       "    </tr>\n",
       "    <tr>\n",
       "      <th>124</th>\n",
       "      <td>1111100</td>\n",
       "      <td>0.002462</td>\n",
       "    </tr>\n",
       "    <tr>\n",
       "      <th>125</th>\n",
       "      <td>1111101</td>\n",
       "      <td>0.006216</td>\n",
       "    </tr>\n",
       "    <tr>\n",
       "      <th>126</th>\n",
       "      <td>1111110</td>\n",
       "      <td>0.000514</td>\n",
       "    </tr>\n",
       "    <tr>\n",
       "      <th>127</th>\n",
       "      <td>1111111</td>\n",
       "      <td>0.001580</td>\n",
       "    </tr>\n",
       "  </tbody>\n",
       "</table>\n",
       "<p>128 rows × 2 columns</p>\n",
       "</div>"
      ],
      "text/plain": [
       "       state    module\n",
       "0    0000000  0.000374\n",
       "1    0000001  0.000152\n",
       "2    0000010  0.001052\n",
       "3    0000011  0.004332\n",
       "4    0000100  0.000692\n",
       "..       ...       ...\n",
       "123  1111011  0.019864\n",
       "124  1111100  0.002462\n",
       "125  1111101  0.006216\n",
       "126  1111110  0.000514\n",
       "127  1111111  0.001580\n",
       "\n",
       "[128 rows x 2 columns]"
      ]
     },
     "execution_count": 514,
     "metadata": {},
     "output_type": "execute_result"
    }
   ],
   "source": [
    "df=pd.DataFrame(ss)\n",
    "#df['module']=df[1].apply(lambda x: x.real**2 + x.imag**2)\n",
    "#df.set_index(0).module.plot(kind='bar')\n",
    "df.columns=['state','module']\n",
    "df"
   ]
  },
  {
   "cell_type": "code",
   "execution_count": 515,
   "metadata": {},
   "outputs": [
    {
     "data": {
      "text/html": [
       "<div>\n",
       "<style scoped>\n",
       "    .dataframe tbody tr th:only-of-type {\n",
       "        vertical-align: middle;\n",
       "    }\n",
       "\n",
       "    .dataframe tbody tr th {\n",
       "        vertical-align: top;\n",
       "    }\n",
       "\n",
       "    .dataframe thead th {\n",
       "        text-align: right;\n",
       "    }\n",
       "</style>\n",
       "<table border=\"1\" class=\"dataframe\">\n",
       "  <thead>\n",
       "    <tr style=\"text-align: right;\">\n",
       "      <th></th>\n",
       "      <th>module</th>\n",
       "    </tr>\n",
       "    <tr>\n",
       "      <th>lambda</th>\n",
       "      <th></th>\n",
       "    </tr>\n",
       "  </thead>\n",
       "  <tbody>\n",
       "    <tr>\n",
       "      <th>10110</th>\n",
       "      <td>0.001042</td>\n",
       "    </tr>\n",
       "    <tr>\n",
       "      <th>11010</th>\n",
       "      <td>0.001118</td>\n",
       "    </tr>\n",
       "    <tr>\n",
       "      <th>00110</th>\n",
       "      <td>0.001138</td>\n",
       "    </tr>\n",
       "    <tr>\n",
       "      <th>01110</th>\n",
       "      <td>0.001196</td>\n",
       "    </tr>\n",
       "    <tr>\n",
       "      <th>11110</th>\n",
       "      <td>0.001306</td>\n",
       "    </tr>\n",
       "    <tr>\n",
       "      <th>01010</th>\n",
       "      <td>0.001398</td>\n",
       "    </tr>\n",
       "    <tr>\n",
       "      <th>00001</th>\n",
       "      <td>0.001440</td>\n",
       "    </tr>\n",
       "    <tr>\n",
       "      <th>10001</th>\n",
       "      <td>0.001656</td>\n",
       "    </tr>\n",
       "    <tr>\n",
       "      <th>01000</th>\n",
       "      <td>0.001858</td>\n",
       "    </tr>\n",
       "    <tr>\n",
       "      <th>10010</th>\n",
       "      <td>0.001870</td>\n",
       "    </tr>\n",
       "    <tr>\n",
       "      <th>11000</th>\n",
       "      <td>0.001920</td>\n",
       "    </tr>\n",
       "    <tr>\n",
       "      <th>01001</th>\n",
       "      <td>0.002000</td>\n",
       "    </tr>\n",
       "    <tr>\n",
       "      <th>10000</th>\n",
       "      <td>0.002226</td>\n",
       "    </tr>\n",
       "    <tr>\n",
       "      <th>00100</th>\n",
       "      <td>0.002240</td>\n",
       "    </tr>\n",
       "    <tr>\n",
       "      <th>00000</th>\n",
       "      <td>0.002556</td>\n",
       "    </tr>\n",
       "    <tr>\n",
       "      <th>11001</th>\n",
       "      <td>0.002572</td>\n",
       "    </tr>\n",
       "    <tr>\n",
       "      <th>00010</th>\n",
       "      <td>0.003224</td>\n",
       "    </tr>\n",
       "    <tr>\n",
       "      <th>00101</th>\n",
       "      <td>0.003344</td>\n",
       "    </tr>\n",
       "    <tr>\n",
       "      <th>11111</th>\n",
       "      <td>0.003626</td>\n",
       "    </tr>\n",
       "    <tr>\n",
       "      <th>10100</th>\n",
       "      <td>0.003964</td>\n",
       "    </tr>\n",
       "    <tr>\n",
       "      <th>10101</th>\n",
       "      <td>0.004710</td>\n",
       "    </tr>\n",
       "    <tr>\n",
       "      <th>01111</th>\n",
       "      <td>0.005002</td>\n",
       "    </tr>\n",
       "    <tr>\n",
       "      <th>01101</th>\n",
       "      <td>0.007566</td>\n",
       "    </tr>\n",
       "    <tr>\n",
       "      <th>10111</th>\n",
       "      <td>0.008242</td>\n",
       "    </tr>\n",
       "    <tr>\n",
       "      <th>11101</th>\n",
       "      <td>0.014144</td>\n",
       "    </tr>\n",
       "    <tr>\n",
       "      <th>00111</th>\n",
       "      <td>0.016004</td>\n",
       "    </tr>\n",
       "    <tr>\n",
       "      <th>11100</th>\n",
       "      <td>0.019360</td>\n",
       "    </tr>\n",
       "    <tr>\n",
       "      <th>01100</th>\n",
       "      <td>0.031474</td>\n",
       "    </tr>\n",
       "    <tr>\n",
       "      <th>00011</th>\n",
       "      <td>0.037776</td>\n",
       "    </tr>\n",
       "    <tr>\n",
       "      <th>11011</th>\n",
       "      <td>0.044926</td>\n",
       "    </tr>\n",
       "    <tr>\n",
       "      <th>10011</th>\n",
       "      <td>0.289912</td>\n",
       "    </tr>\n",
       "    <tr>\n",
       "      <th>01011</th>\n",
       "      <td>0.479190</td>\n",
       "    </tr>\n",
       "  </tbody>\n",
       "</table>\n",
       "</div>"
      ],
      "text/plain": [
       "          module\n",
       "lambda          \n",
       "10110   0.001042\n",
       "11010   0.001118\n",
       "00110   0.001138\n",
       "01110   0.001196\n",
       "11110   0.001306\n",
       "01010   0.001398\n",
       "00001   0.001440\n",
       "10001   0.001656\n",
       "01000   0.001858\n",
       "10010   0.001870\n",
       "11000   0.001920\n",
       "01001   0.002000\n",
       "10000   0.002226\n",
       "00100   0.002240\n",
       "00000   0.002556\n",
       "11001   0.002572\n",
       "00010   0.003224\n",
       "00101   0.003344\n",
       "11111   0.003626\n",
       "10100   0.003964\n",
       "10101   0.004710\n",
       "01111   0.005002\n",
       "01101   0.007566\n",
       "10111   0.008242\n",
       "11101   0.014144\n",
       "00111   0.016004\n",
       "11100   0.019360\n",
       "01100   0.031474\n",
       "00011   0.037776\n",
       "11011   0.044926\n",
       "10011   0.289912\n",
       "01011   0.479190"
      ]
     },
     "execution_count": 515,
     "metadata": {},
     "output_type": "execute_result"
    }
   ],
   "source": [
    "df['lambda']=df['state'].apply(lambda x: x[-resolution:])\n",
    "df1=df.groupby('lambda').agg({'module':'sum'})\n",
    "#df1['module_new']=df1['module'].apply(lambda x: np.sqrt(x.real**2 + x.imag**2))\n",
    "df1=df1.sort_values('module')\n",
    "df1"
   ]
  },
  {
   "cell_type": "code",
   "execution_count": 516,
   "metadata": {},
   "outputs": [],
   "source": [
    "lambdas=df1.tail(len(example_matrix1)).index.values"
   ]
  },
  {
   "cell_type": "code",
   "execution_count": 517,
   "metadata": {},
   "outputs": [
    {
     "data": {
      "text/plain": [
       "array(['10011', '01011'], dtype=object)"
      ]
     },
     "execution_count": 517,
     "metadata": {},
     "output_type": "execute_result"
    }
   ],
   "source": [
    "lambdas"
   ]
  },
  {
   "cell_type": "code",
   "execution_count": 518,
   "metadata": {},
   "outputs": [
    {
     "data": {
      "text/html": [
       "<div>\n",
       "<style scoped>\n",
       "    .dataframe tbody tr th:only-of-type {\n",
       "        vertical-align: middle;\n",
       "    }\n",
       "\n",
       "    .dataframe tbody tr th {\n",
       "        vertical-align: top;\n",
       "    }\n",
       "\n",
       "    .dataframe thead th {\n",
       "        text-align: right;\n",
       "    }\n",
       "</style>\n",
       "<table border=\"1\" class=\"dataframe\">\n",
       "  <thead>\n",
       "    <tr style=\"text-align: right;\">\n",
       "      <th></th>\n",
       "      <th>state</th>\n",
       "      <th>module</th>\n",
       "      <th>lambda</th>\n",
       "    </tr>\n",
       "  </thead>\n",
       "  <tbody>\n",
       "    <tr>\n",
       "      <th>0</th>\n",
       "      <td>0000000</td>\n",
       "      <td>0.000374</td>\n",
       "      <td>00000</td>\n",
       "    </tr>\n",
       "    <tr>\n",
       "      <th>1</th>\n",
       "      <td>0000001</td>\n",
       "      <td>0.000152</td>\n",
       "      <td>00001</td>\n",
       "    </tr>\n",
       "    <tr>\n",
       "      <th>2</th>\n",
       "      <td>0000010</td>\n",
       "      <td>0.001052</td>\n",
       "      <td>00010</td>\n",
       "    </tr>\n",
       "    <tr>\n",
       "      <th>3</th>\n",
       "      <td>0000011</td>\n",
       "      <td>0.004332</td>\n",
       "      <td>00011</td>\n",
       "    </tr>\n",
       "    <tr>\n",
       "      <th>4</th>\n",
       "      <td>0000100</td>\n",
       "      <td>0.000692</td>\n",
       "      <td>00100</td>\n",
       "    </tr>\n",
       "    <tr>\n",
       "      <th>...</th>\n",
       "      <td>...</td>\n",
       "      <td>...</td>\n",
       "      <td>...</td>\n",
       "    </tr>\n",
       "    <tr>\n",
       "      <th>123</th>\n",
       "      <td>1111011</td>\n",
       "      <td>0.019864</td>\n",
       "      <td>11011</td>\n",
       "    </tr>\n",
       "    <tr>\n",
       "      <th>124</th>\n",
       "      <td>1111100</td>\n",
       "      <td>0.002462</td>\n",
       "      <td>11100</td>\n",
       "    </tr>\n",
       "    <tr>\n",
       "      <th>125</th>\n",
       "      <td>1111101</td>\n",
       "      <td>0.006216</td>\n",
       "      <td>11101</td>\n",
       "    </tr>\n",
       "    <tr>\n",
       "      <th>126</th>\n",
       "      <td>1111110</td>\n",
       "      <td>0.000514</td>\n",
       "      <td>11110</td>\n",
       "    </tr>\n",
       "    <tr>\n",
       "      <th>127</th>\n",
       "      <td>1111111</td>\n",
       "      <td>0.001580</td>\n",
       "      <td>11111</td>\n",
       "    </tr>\n",
       "  </tbody>\n",
       "</table>\n",
       "<p>128 rows × 3 columns</p>\n",
       "</div>"
      ],
      "text/plain": [
       "       state    module lambda\n",
       "0    0000000  0.000374  00000\n",
       "1    0000001  0.000152  00001\n",
       "2    0000010  0.001052  00010\n",
       "3    0000011  0.004332  00011\n",
       "4    0000100  0.000692  00100\n",
       "..       ...       ...    ...\n",
       "123  1111011  0.019864  11011\n",
       "124  1111100  0.002462  11100\n",
       "125  1111101  0.006216  11101\n",
       "126  1111110  0.000514  11110\n",
       "127  1111111  0.001580  11111\n",
       "\n",
       "[128 rows x 3 columns]"
      ]
     },
     "execution_count": 518,
     "metadata": {},
     "output_type": "execute_result"
    }
   ],
   "source": [
    "df.columns=['state','module','lambda']\n",
    "df"
   ]
  },
  {
   "cell_type": "code",
   "execution_count": 519,
   "metadata": {},
   "outputs": [
    {
     "data": {
      "text/html": [
       "<div>\n",
       "<style scoped>\n",
       "    .dataframe tbody tr th:only-of-type {\n",
       "        vertical-align: middle;\n",
       "    }\n",
       "\n",
       "    .dataframe tbody tr th {\n",
       "        vertical-align: top;\n",
       "    }\n",
       "\n",
       "    .dataframe thead th {\n",
       "        text-align: right;\n",
       "    }\n",
       "</style>\n",
       "<table border=\"1\" class=\"dataframe\">\n",
       "  <thead>\n",
       "    <tr style=\"text-align: right;\">\n",
       "      <th></th>\n",
       "      <th>state</th>\n",
       "      <th>module</th>\n",
       "      <th>lambda</th>\n",
       "      <th>sign</th>\n",
       "    </tr>\n",
       "  </thead>\n",
       "  <tbody>\n",
       "    <tr>\n",
       "      <th>0</th>\n",
       "      <td>0000000</td>\n",
       "      <td>0.000374</td>\n",
       "      <td>00000</td>\n",
       "      <td>1</td>\n",
       "    </tr>\n",
       "    <tr>\n",
       "      <th>1</th>\n",
       "      <td>0000001</td>\n",
       "      <td>0.000152</td>\n",
       "      <td>00001</td>\n",
       "      <td>1</td>\n",
       "    </tr>\n",
       "    <tr>\n",
       "      <th>2</th>\n",
       "      <td>0000010</td>\n",
       "      <td>0.001052</td>\n",
       "      <td>00010</td>\n",
       "      <td>1</td>\n",
       "    </tr>\n",
       "    <tr>\n",
       "      <th>3</th>\n",
       "      <td>0000011</td>\n",
       "      <td>0.004332</td>\n",
       "      <td>00011</td>\n",
       "      <td>1</td>\n",
       "    </tr>\n",
       "    <tr>\n",
       "      <th>4</th>\n",
       "      <td>0000100</td>\n",
       "      <td>0.000692</td>\n",
       "      <td>00100</td>\n",
       "      <td>1</td>\n",
       "    </tr>\n",
       "    <tr>\n",
       "      <th>...</th>\n",
       "      <td>...</td>\n",
       "      <td>...</td>\n",
       "      <td>...</td>\n",
       "      <td>...</td>\n",
       "    </tr>\n",
       "    <tr>\n",
       "      <th>123</th>\n",
       "      <td>1111011</td>\n",
       "      <td>0.019864</td>\n",
       "      <td>11011</td>\n",
       "      <td>1</td>\n",
       "    </tr>\n",
       "    <tr>\n",
       "      <th>124</th>\n",
       "      <td>1111100</td>\n",
       "      <td>0.002462</td>\n",
       "      <td>11100</td>\n",
       "      <td>1</td>\n",
       "    </tr>\n",
       "    <tr>\n",
       "      <th>125</th>\n",
       "      <td>1111101</td>\n",
       "      <td>0.006216</td>\n",
       "      <td>11101</td>\n",
       "      <td>1</td>\n",
       "    </tr>\n",
       "    <tr>\n",
       "      <th>126</th>\n",
       "      <td>1111110</td>\n",
       "      <td>0.000514</td>\n",
       "      <td>11110</td>\n",
       "      <td>1</td>\n",
       "    </tr>\n",
       "    <tr>\n",
       "      <th>127</th>\n",
       "      <td>1111111</td>\n",
       "      <td>0.001580</td>\n",
       "      <td>11111</td>\n",
       "      <td>1</td>\n",
       "    </tr>\n",
       "  </tbody>\n",
       "</table>\n",
       "<p>128 rows × 4 columns</p>\n",
       "</div>"
      ],
      "text/plain": [
       "       state    module lambda  sign\n",
       "0    0000000  0.000374  00000     1\n",
       "1    0000001  0.000152  00001     1\n",
       "2    0000010  0.001052  00010     1\n",
       "3    0000011  0.004332  00011     1\n",
       "4    0000100  0.000692  00100     1\n",
       "..       ...       ...    ...   ...\n",
       "123  1111011  0.019864  11011     1\n",
       "124  1111100  0.002462  11100     1\n",
       "125  1111101  0.006216  11101     1\n",
       "126  1111110  0.000514  11110     1\n",
       "127  1111111  0.001580  11111     1\n",
       "\n",
       "[128 rows x 4 columns]"
      ]
     },
     "execution_count": 519,
     "metadata": {},
     "output_type": "execute_result"
    }
   ],
   "source": [
    "df['sign']=np.array(list(sign_dictionary.values()))\n",
    "#df['sign']=np.array(sign)\n",
    "df"
   ]
  },
  {
   "cell_type": "code",
   "execution_count": 520,
   "metadata": {},
   "outputs": [
    {
     "data": {
      "text/html": [
       "<div>\n",
       "<style scoped>\n",
       "    .dataframe tbody tr th:only-of-type {\n",
       "        vertical-align: middle;\n",
       "    }\n",
       "\n",
       "    .dataframe tbody tr th {\n",
       "        vertical-align: top;\n",
       "    }\n",
       "\n",
       "    .dataframe thead th {\n",
       "        text-align: right;\n",
       "    }\n",
       "</style>\n",
       "<table border=\"1\" class=\"dataframe\">\n",
       "  <thead>\n",
       "    <tr style=\"text-align: right;\">\n",
       "      <th></th>\n",
       "      <th>state</th>\n",
       "      <th>module</th>\n",
       "      <th>lambda</th>\n",
       "      <th>sign</th>\n",
       "    </tr>\n",
       "  </thead>\n",
       "  <tbody>\n",
       "    <tr>\n",
       "      <th>0</th>\n",
       "      <td>0000000</td>\n",
       "      <td>0.000374</td>\n",
       "      <td>00000</td>\n",
       "      <td>1</td>\n",
       "    </tr>\n",
       "    <tr>\n",
       "      <th>1</th>\n",
       "      <td>0000001</td>\n",
       "      <td>0.000152</td>\n",
       "      <td>00001</td>\n",
       "      <td>1</td>\n",
       "    </tr>\n",
       "    <tr>\n",
       "      <th>2</th>\n",
       "      <td>0000010</td>\n",
       "      <td>0.001052</td>\n",
       "      <td>00010</td>\n",
       "      <td>1</td>\n",
       "    </tr>\n",
       "    <tr>\n",
       "      <th>3</th>\n",
       "      <td>0000011</td>\n",
       "      <td>0.004332</td>\n",
       "      <td>00011</td>\n",
       "      <td>1</td>\n",
       "    </tr>\n",
       "    <tr>\n",
       "      <th>4</th>\n",
       "      <td>0000100</td>\n",
       "      <td>0.000692</td>\n",
       "      <td>00100</td>\n",
       "      <td>1</td>\n",
       "    </tr>\n",
       "    <tr>\n",
       "      <th>...</th>\n",
       "      <td>...</td>\n",
       "      <td>...</td>\n",
       "      <td>...</td>\n",
       "      <td>...</td>\n",
       "    </tr>\n",
       "    <tr>\n",
       "      <th>123</th>\n",
       "      <td>1111011</td>\n",
       "      <td>0.019864</td>\n",
       "      <td>11011</td>\n",
       "      <td>1</td>\n",
       "    </tr>\n",
       "    <tr>\n",
       "      <th>124</th>\n",
       "      <td>1111100</td>\n",
       "      <td>0.002462</td>\n",
       "      <td>11100</td>\n",
       "      <td>1</td>\n",
       "    </tr>\n",
       "    <tr>\n",
       "      <th>125</th>\n",
       "      <td>1111101</td>\n",
       "      <td>0.006216</td>\n",
       "      <td>11101</td>\n",
       "      <td>1</td>\n",
       "    </tr>\n",
       "    <tr>\n",
       "      <th>126</th>\n",
       "      <td>1111110</td>\n",
       "      <td>0.000514</td>\n",
       "      <td>11110</td>\n",
       "      <td>1</td>\n",
       "    </tr>\n",
       "    <tr>\n",
       "      <th>127</th>\n",
       "      <td>1111111</td>\n",
       "      <td>0.001580</td>\n",
       "      <td>11111</td>\n",
       "      <td>1</td>\n",
       "    </tr>\n",
       "  </tbody>\n",
       "</table>\n",
       "<p>128 rows × 4 columns</p>\n",
       "</div>"
      ],
      "text/plain": [
       "       state    module lambda  sign\n",
       "0    0000000  0.000374  00000     1\n",
       "1    0000001  0.000152  00001     1\n",
       "2    0000010  0.001052  00010     1\n",
       "3    0000011  0.004332  00011     1\n",
       "4    0000100  0.000692  00100     1\n",
       "..       ...       ...    ...   ...\n",
       "123  1111011  0.019864  11011     1\n",
       "124  1111100  0.002462  11100     1\n",
       "125  1111101  0.006216  11101     1\n",
       "126  1111110  0.000514  11110     1\n",
       "127  1111111  0.001580  11111     1\n",
       "\n",
       "[128 rows x 4 columns]"
      ]
     },
     "execution_count": 520,
     "metadata": {},
     "output_type": "execute_result"
    }
   ],
   "source": [
    "df['module']=df['module'].multiply(np.array(list(sign_dictionary.values())), axis=0)\n",
    "#df['module']=df['module'].multiply(np.array(sign), axis=0)\n",
    "df=df.fillna(0)\n",
    "df"
   ]
  },
  {
   "cell_type": "code",
   "execution_count": 521,
   "metadata": {},
   "outputs": [
    {
     "name": "stdout",
     "output_type": "stream",
     "text": [
      "[0.18031639 0.25565211 0.25488429 0.3564744 ]\n",
      "1.8572351905589612\n",
      "[array([0.33488994, 0.47480609, 0.47338007, 0.66205681]), array([0.234047  , 0.32668333, 0.32694036, 0.45912961])]\n",
      "[0.234047   0.32668333 0.32694036 0.45912961]\n",
      "1.4445950647080084\n",
      "[array([0.33488994, 0.47480609, 0.47338007, 0.66205681]), array([0.33810315, 0.47192513, 0.47229643, 0.66325637])]\n"
     ]
    }
   ],
   "source": [
    "a=[]\n",
    "save_sign=[]\n",
    "eigenvalues=[]\n",
    "for l in lambdas:\n",
    "    eigenvalues.append(int(l[::-1],base=2)/(2**resolution))\n",
    "    a_=np.array(df.query(\"state.str.endswith(@l)\")['module'].values)\n",
    "    #print(a_)\n",
    "    save_sign.append(np.sign(a_))\n",
    "    #print(save_sign)\n",
    "    \n",
    "    a.append(np.sqrt(abs(a_)))\n",
    "\n",
    "#a=[a1,a2]\n",
    "\n",
    "for i in range(len(a)):\n",
    "    print(a[i])\n",
    "    normalization_factor=np.sqrt((1/(sum(a[i]**2))))\n",
    "    print(normalization_factor)\n",
    "    a[i]*=normalization_factor\n",
    "    a[i]*=save_sign[i]\n",
    "    \n",
    "    print(a)"
   ]
  },
  {
   "cell_type": "code",
   "execution_count": 522,
   "metadata": {},
   "outputs": [
    {
     "data": {
      "text/plain": [
       "[0.78125, 0.8125]"
      ]
     },
     "execution_count": 522,
     "metadata": {},
     "output_type": "execute_result"
    }
   ],
   "source": [
    "eigenvalues"
   ]
  },
  {
   "cell_type": "code",
   "execution_count": 523,
   "metadata": {},
   "outputs": [
    {
     "name": "stdout",
     "output_type": "stream",
     "text": [
      "reconstructed_eigenvector: [0.58178476 0.81366873]\n",
      "reconstructed_eigenvalue: 0.78125\n",
      "reconstructed_eigenvector: [0.57992783 0.81440553]\n",
      "reconstructed_eigenvalue: 0.8125\n"
     ]
    }
   ],
   "source": [
    "#TODO: Capire se fare la media tra i vari fattori di rescaling\n",
    "eigenvectors=[]\n",
    "for ll, eig in zip(a,eigenvalues):\n",
    "    \n",
    "    eigenvector=np.zeros(len(example_matrix1)) #put length of eigenvector\n",
    "    save_sign=np.sign(ll)\n",
    "    sv=abs(ll)\n",
    "    max_list=[]\n",
    "    scaled_statevectors=[]\n",
    "    for e,i in enumerate(range(0,len(sv),len(example_matrix1))):\n",
    "        max_list.append(max(sv[i:i+len(example_matrix1)]))\n",
    "        scaled_statevectors.append(sv[i:i+len(example_matrix1)]/max_list[e])\n",
    "        #print(max_list,scaled_statevectors)\n",
    "    idx_max=np.argmax(max_list)\n",
    "    #print(idx_max)\n",
    "    max_max=max_list[idx_max]\n",
    "    #print(max_max)\n",
    "    value=np.sqrt(max_max)\n",
    "    #eigenvector=scaled_statevectors[idx_max]*value*save_sign[:len(example_matrix)]\n",
    "    eigenvector=scaled_statevectors[idx_max]*value*save_sign[len(example_matrix1)*idx_max:len(example_matrix1)*idx_max+len(example_matrix1)]\n",
    "    eigenvectors.append((eig,eigenvector))\n",
    "    print('reconstructed_eigenvector:',eigenvector)\n",
    "    print('reconstructed_eigenvalue:', eig)\n",
    "    "
   ]
  },
  {
   "cell_type": "code",
   "execution_count": 436,
   "metadata": {},
   "outputs": [
    {
     "data": {
      "text/plain": [
       "((array([0.20116404, 0.79883596]),\n",
       "  array([[-0.8142539 , -0.58050891],\n",
       "         [ 0.58050891, -0.8142539 ]])),\n",
       " (array([0.6 , 0.3 , 0.07, 0.03]),\n",
       "  array([[-0.54010974, -0.31079311, -0.76691778,  0.15338266],\n",
       "         [-0.34101425, -0.72369209,  0.45528741, -0.39075876],\n",
       "         [-0.54078131,  0.59128095,  0.021657  , -0.59789078],\n",
       "         [-0.54730826,  0.17339042,  0.45175377,  0.68286746]])))"
      ]
     },
     "execution_count": 436,
     "metadata": {},
     "output_type": "execute_result"
    }
   ],
   "source": [
    "np.linalg.eig(example_matrix1),np.linalg.eig(example_matrix2)"
   ]
  },
  {
   "cell_type": "code",
   "execution_count": 126,
   "metadata": {},
   "outputs": [
    {
     "data": {
      "text/plain": [
       "0.0234375"
      ]
     },
     "execution_count": 126,
     "metadata": {},
     "output_type": "execute_result"
    }
   ],
   "source": [
    "1/(2**6)+1/(2**7)"
   ]
  },
  {
   "cell_type": "code",
   "execution_count": null,
   "metadata": {},
   "outputs": [],
   "source": []
  }
 ],
 "metadata": {
  "kernelspec": {
   "display_name": "Python 3 (ipykernel)",
   "language": "python",
   "name": "python3"
  },
  "language_info": {
   "codemirror_mode": {
    "name": "ipython",
    "version": 3
   },
   "file_extension": ".py",
   "mimetype": "text/x-python",
   "name": "python",
   "nbconvert_exporter": "python",
   "pygments_lexer": "ipython3",
   "version": "3.8.11"
  },
  "vscode": {
   "interpreter": {
    "hash": "3820477eeda6a2056d25dbf35341ad4ea495fec12a885dc74045ce43b88b4168"
   }
  }
 },
 "nbformat": 4,
 "nbformat_minor": 4
}
