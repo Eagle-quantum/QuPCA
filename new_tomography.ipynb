{
 "cells": [
  {
   "cell_type": "markdown",
   "metadata": {},
   "source": [
    "### Example taken from *A Low-Complexity Quantum Principal Component Analysis Algorithm*\n",
    "https://doi.org/10.1109/TQE.2021.3140152"
   ]
  },
  {
   "cell_type": "code",
   "execution_count": 1,
   "metadata": {},
   "outputs": [
    {
     "name": "stdout",
     "output_type": "stream",
     "text": [
      "[0.10789793 0.02520744 0.0812551  0.07771501 0.02520744 0.01881271\n",
      " 0.03875604 0.03396996 0.0812551  0.03875604 0.09665605 0.07484566\n",
      " 0.07771501 0.03396996 0.07484566 0.11313487]\n"
     ]
    }
   ],
   "source": [
    "import numpy as np\n",
    "import itertools\n",
    "from qiskit_experiments.library import StateTomography\n",
    "from qiskit.visualization import plot_state_city,array_to_latex\n",
    "import qiskit.quantum_info as qi\n",
    "from qiskit.visualization import plot_histogram\n",
    "from qiskit.circuit.library.standard_gates import RYGate\n",
    "from qiskit import Aer, transpile, execute\n",
    "from qiskit import QuantumRegister, ClassicalRegister, QuantumCircuit\n",
    "from qiskit.algorithms.linear_solvers.matrices.numpy_matrix import NumPyMatrix\n",
    "from qiskit.circuit.library import PhaseEstimation\n",
    "import matplotlib.pyplot as plt\n",
    "from qiskit import BasicAer, execute\n",
    "import scipy as sc\n",
    "import pandas as pd\n",
    "from qiskit.circuit.library.data_preparation.state_preparation import *\n",
    "#9329 con 6 res\n",
    "#seed 10 con resolution 5\n",
    "#6476 cambiando eigenvalues a 0.55 e 0.45 ris=7\n",
    "# 12 con 4x4 matrix e risoluzione 7\n",
    "#500  4x4 cambiando autovalori.\n",
    "#4524\n",
    "#8908\n",
    "#4747 res 8\n",
    "#6752\n",
    "np.random.seed(500)\n",
    "\n",
    "example_matrix=np.random.rand(4,4)\n",
    "\n",
    "\n",
    "example_matrix=np.dot(example_matrix,example_matrix.T)\n",
    "#example_matrix=np.array([[1.5,0.5],[0.5,1.5]])\n",
    "sum_squares = (example_matrix**2).sum()\n",
    "input_probabilities = (example_matrix**2/sum_squares).flatten()\n",
    "\n",
    "print(input_probabilities)"
   ]
  },
  {
   "cell_type": "code",
   "execution_count": 2,
   "metadata": {},
   "outputs": [
    {
     "data": {
      "text/plain": [
       "(array([[1.24208593, 0.6003568 , 1.07787997, 1.05413814],\n",
       "        [0.6003568 , 0.51864561, 0.74441447, 0.69693555],\n",
       "        [1.07787997, 0.74441447, 1.17560009, 1.03449502],\n",
       "        [1.05413814, 0.69693555, 1.03449502, 1.27187177]]),\n",
       " (array([3.76854670e+00, 1.28015454e-03, 2.34299391e-01, 2.04077152e-01]),\n",
       "  array([[-0.54010974, -0.31079311, -0.76691778,  0.15338266],\n",
       "         [-0.34101425, -0.72369209,  0.45528741, -0.39075876],\n",
       "         [-0.54078131,  0.59128095,  0.021657  , -0.59789078],\n",
       "         [-0.54730826,  0.17339042,  0.45175377,  0.68286746]])))"
      ]
     },
     "execution_count": 2,
     "metadata": {},
     "output_type": "execute_result"
    }
   ],
   "source": [
    "example_matrix,np.linalg.eig(example_matrix)"
   ]
  },
  {
   "cell_type": "code",
   "execution_count": 3,
   "metadata": {},
   "outputs": [
    {
     "data": {
      "text/plain": [
       "(array([[0.29515824, 0.14266345, 0.2561378 , 0.250496  ],\n",
       "        [0.14266345, 0.12324633, 0.17689603, 0.16561356],\n",
       "        [0.2561378 , 0.17689603, 0.27935914, 0.24582819],\n",
       "        [0.250496  , 0.16561356, 0.24582819, 0.30223629]]),\n",
       " (array([8.95523896e-01, 3.04204531e-04, 5.56768217e-02, 4.84950778e-02]),\n",
       "  array([[-0.54010974, -0.31079311, -0.76691778,  0.15338266],\n",
       "         [-0.34101425, -0.72369209,  0.45528741, -0.39075876],\n",
       "         [-0.54078131,  0.59128095,  0.021657  , -0.59789078],\n",
       "         [-0.54730826,  0.17339042,  0.45175377,  0.68286746]])))"
      ]
     },
     "execution_count": 3,
     "metadata": {},
     "output_type": "execute_result"
    }
   ],
   "source": [
    "example_matrix1=example_matrix/np.trace(example_matrix)\n",
    "example_matrix1,np.linalg.eig(example_matrix1)"
   ]
  },
  {
   "cell_type": "code",
   "execution_count": 4,
   "metadata": {},
   "outputs": [
    {
     "name": "stdout",
     "output_type": "stream",
     "text": [
      "[0.12606734 0.0423581  0.04966681 0.06023512 0.0423581  0.07828815\n",
      " 0.00533715 0.02147962 0.04966681 0.00533715 0.15601336 0.08393026\n",
      " 0.06023512 0.02147962 0.08393026 0.11361706]\n"
     ]
    }
   ],
   "source": [
    "eig,e_v=np.linalg.eig(example_matrix1)\n",
    "#b=np.array([3,1])\n",
    "#b=np.array([.6,.3,.07,0.03])\n",
    "b=np.array([.7,.2,.06,0.04])\n",
    "BB = e_v@np.diag(b)@e_v.T\n",
    "BB, np.linalg.eig(BB)\n",
    "example_matrix2=BB\n",
    "\n",
    "sum_squares = (example_matrix2**2).sum()\n",
    "input_probabilities = (example_matrix2**2/sum_squares).flatten()\n",
    "example_matrix2=example_matrix2/np.trace(example_matrix2)\n",
    "print(input_probabilities)"
   ]
  },
  {
   "cell_type": "code",
   "execution_count": 5,
   "metadata": {},
   "outputs": [
    {
     "data": {
      "text/plain": [
       "(array([[0.25975226, 0.15056578, 0.16303888, 0.17954897],\n",
       "        [0.15056578, 0.20469444, 0.05344567, 0.10721889],\n",
       "        [0.16303888, 0.05344567, 0.28896081, 0.21194216],\n",
       "        [0.17954897, 0.10721889, 0.21194216, 0.24659248]]),\n",
       " (array([0.7 , 0.2 , 0.06, 0.04]),\n",
       "  array([[-0.54010974, -0.31079311, -0.76691778,  0.15338266],\n",
       "         [-0.34101425, -0.72369209,  0.45528741, -0.39075876],\n",
       "         [-0.54078131,  0.59128095,  0.021657  , -0.59789078],\n",
       "         [-0.54730826,  0.17339042,  0.45175377,  0.68286746]])))"
      ]
     },
     "execution_count": 5,
     "metadata": {},
     "output_type": "execute_result"
    }
   ],
   "source": [
    "example_matrix2,np.linalg.eig(example_matrix2)"
   ]
  },
  {
   "cell_type": "code",
   "execution_count": 6,
   "metadata": {},
   "outputs": [
    {
     "data": {
      "text/plain": [
       "array([3.76854670e+00, 1.28015454e-03, 2.34299391e-01, 2.04077152e-01])"
      ]
     },
     "execution_count": 6,
     "metadata": {},
     "output_type": "execute_result"
    }
   ],
   "source": [
    "np.trace(example_matrix)*np.linalg.eig(example_matrix1)[0]"
   ]
  },
  {
   "cell_type": "code",
   "execution_count": 7,
   "metadata": {},
   "outputs": [],
   "source": [
    "#Tommaso's great code for computing the thetas\n",
    "def thetas_computation(example_matrix):\n",
    "    lst_combination=[]\n",
    "\n",
    "    for k in range(1, int(np.ceil(np.log2(len(example_matrix)**2)))+1):\n",
    "        lst_combination.append(list(map(list, itertools.product([0, 1], repeat=k))))\n",
    "    container=[]\n",
    "    for lst in lst_combination:\n",
    "        container.append([''.join([''.join(str(j)) for j in i]) for i in lst])\n",
    "    all_combinations=[item for c in container for item in c]\n",
    "\n",
    "    general_bitstring=[''.join([''.join(str(j)) for j in i]) for i in list(map(list, itertools.product([0, 1], repeat=int(np.ceil(np.log2(len(example_matrix)**2))))))][:len(input_probabilities)]\n",
    "    \n",
    "    #Nodes contains all the values of the tree (except for the root)\n",
    "    nodes=[]\n",
    "    for st in all_combinations:\n",
    "        #print(st)\n",
    "        starts = [general_bitstring.index(l) for l in general_bitstring if l.startswith(st)]\n",
    "        #print(starts)\n",
    "        print(st,'->',np.sqrt(input_probabilities[starts].sum()))\n",
    "        nodes.append(np.sqrt(input_probabilities[starts].sum()))\n",
    "    \n",
    "    #add root tree\n",
    "    nodes.insert(0, 1)\n",
    "    thetas=[]\n",
    "\n",
    "    idx=0\n",
    "    for i in range(1,len(nodes),2):\n",
    "        \n",
    "        right_node=i\n",
    "        left_node=right_node+1\n",
    "        if nodes[idx]!=0:\n",
    "            thetas.append(2*np.arccos(nodes[right_node]/nodes[idx]))\n",
    "            thetas.append(2*np.arcsin(nodes[left_node]/nodes[idx]))\n",
    "        else:\n",
    "            thetas.append(0)\n",
    "            thetas.append(0)\n",
    "\n",
    "        idx+=1\n",
    "    return thetas, all_combinations\n",
    "\n",
    "# SUB = str.maketrans(\"0123456789\", \"₀₁₂₃₄₅₆₇₈₉\")\n",
    "\n",
    "# for idx,th in zip(all_combinations,thetas):\n",
    "#     print('\\u03F4(R{})'.format((str(idx).translate(SUB))),'->', th)\n",
    "#thetas"
   ]
  },
  {
   "cell_type": "code",
   "execution_count": 8,
   "metadata": {},
   "outputs": [],
   "source": [
    "def generate_qram_circuit(thetas, all_combinations):\n",
    "    \n",
    "    right_nodes_indexes=list(range(0,len(thetas),2))\n",
    "    rotations_list=list(zip(np.array(all_combinations)[right_nodes_indexes],np.array(thetas)[right_nodes_indexes]))\n",
    "\n",
    "    #qc=QuantumCircuit(len(example_matrix))\n",
    "    qc=QuantumCircuit(int(np.ceil(np.log2(len(example_matrix)**2))))\n",
    "\n",
    "    for r_l in rotations_list:\n",
    "        target_qubit=len(r_l[0])-1\n",
    "        \n",
    "        #First case of R_0\n",
    "        if target_qubit==0:\n",
    "            qc.ry(theta=r_l[1],qubit=target_qubit)\n",
    "            continue\n",
    "            \n",
    "        not_gate=[]\n",
    "        for qb in range(target_qubit):\n",
    "            if r_l[0][qb]=='0':\n",
    "                not_gate.append(qb)\n",
    "                \n",
    "        c_t_qubits=list(range(len(r_l[0])))\n",
    "        n_controls=len(range(target_qubit))\n",
    "        \n",
    "        if len(not_gate)>0:\n",
    "            qc.x(not_gate)\n",
    "            c_ry = RYGate(r_l[1]).control(n_controls)\n",
    "            qc.append(c_ry, c_t_qubits)\n",
    "            qc.x(not_gate)\n",
    "        else:\n",
    "            c_ry = RYGate(r_l[1]).control(n_controls)\n",
    "            qc.append(c_ry, c_t_qubits)\n",
    "    return qc"
   ]
  },
  {
   "cell_type": "code",
   "execution_count": 9,
   "metadata": {},
   "outputs": [
    {
     "name": "stdout",
     "output_type": "stream",
     "text": [
      "0 -> 0.6525261399852201\n",
      "1 -> 0.7577662150267647\n",
      "00 -> 0.5275673971675836\n",
      "01 -> 0.38400912073781823\n",
      "10 -> 0.5430907613191465\n",
      "11 -> 0.5284525159423302\n",
      "000 -> 0.41039667854487305\n",
      "001 -> 0.33151459212757894\n",
      "010 -> 0.34734167986969816\n",
      "011 -> 0.1637582432585559\n",
      "100 -> 0.23452921648352562\n",
      "101 -> 0.4898404042602383\n",
      "110 -> 0.2858578906454516\n",
      "111 -> 0.4444629657930026\n",
      "0000 -> 0.3550596244455607\n",
      "0001 -> 0.20581082782312804\n",
      "0010 -> 0.22286051298011214\n",
      "0011 -> 0.2454284346764985\n",
      "0100 -> 0.20581082782312804\n",
      "0101 -> 0.2798001889303555\n",
      "0110 -> 0.07305576731934102\n",
      "0111 -> 0.14655926138088535\n",
      "1000 -> 0.22286051298011214\n",
      "1001 -> 0.07305576731934102\n",
      "1010 -> 0.39498526239224796\n",
      "1011 -> 0.28970720415405743\n",
      "1100 -> 0.24542843467649844\n",
      "1101 -> 0.14655926138088538\n",
      "1110 -> 0.2897072041540574\n",
      "1111 -> 0.33707130376635613\n"
     ]
    },
    {
     "data": {
      "text/html": [
       "<pre style=\"word-wrap: normal;white-space: pre;background: #fff0;line-height: 1.1;font-family: &quot;Courier New&quot;,Courier,monospace\">     ┌────────────┐┌───┐              ┌───┐              ┌───┐              »\n",
       "q_0: ┤ Ry(1.7198) ├┤ X ├──────■───────┤ X ├──────■───────┤ X ├──────■───────»\n",
       "     └────────────┘└───┘┌─────┴──────┐└───┘┌─────┴──────┐├───┤      │       »\n",
       "q_1: ───────────────────┤ Ry(1.2584) ├─────┤ Ry(1.5435) ├┤ X ├──────■───────»\n",
       "                        └────────────┘     └────────────┘└───┘┌─────┴──────┐»\n",
       "q_2: ─────────────────────────────────────────────────────────┤ Ry(1.3589) ├»\n",
       "                                                              └────────────┘»\n",
       "q_3: ───────────────────────────────────────────────────────────────────────»\n",
       "                                                                            »\n",
       "«     ┌───┐┌───┐               ┌───┐                                 ┌───┐»\n",
       "«q_0: ┤ X ├┤ X ├───────■───────┤ X ├──────■──────────────────■───────┤ X ├»\n",
       "«     ├───┤└───┘       │       ├───┤      │       ┌───┐      │       ├───┤»\n",
       "«q_1: ┤ X ├────────────■───────┤ X ├──────■───────┤ X ├──────■───────┤ X ├»\n",
       "«     └───┘     ┌──────┴──────┐└───┘┌─────┴──────┐└───┘┌─────┴──────┐├───┤»\n",
       "«q_2: ──────────┤ Ry(0.88111) ├─────┤ Ry(2.2485) ├─────┤ Ry(1.9985) ├┤ X ├»\n",
       "«               └─────────────┘     └────────────┘     └────────────┘└───┘»\n",
       "«q_3: ────────────────────────────────────────────────────────────────────»\n",
       "«                                                                         »\n",
       "«                   ┌───┐┌───┐              ┌───┐┌───┐              ┌───┐┌───┐»\n",
       "«q_0: ──────■───────┤ X ├┤ X ├──────■───────┤ X ├┤ X ├──────■───────┤ X ├┤ X ├»\n",
       "«           │       ├───┤├───┤      │       ├───┤└───┘      │       └───┘└───┘»\n",
       "«q_1: ──────■───────┤ X ├┤ X ├──────■───────┤ X ├───────────■─────────────────»\n",
       "«           │       ├───┤└───┘      │       ├───┤           │       ┌───┐     »\n",
       "«q_2: ──────■───────┤ X ├───────────■───────┤ X ├───────────■───────┤ X ├─────»\n",
       "«     ┌─────┴──────┐└───┘     ┌─────┴──────┐└───┘     ┌─────┴──────┐└───┘     »\n",
       "«q_3: ┤ Ry(1.0506) ├──────────┤ Ry(1.6671) ├──────────┤ Ry(1.8732) ├──────────»\n",
       "«     └────────────┘          └────────────┘          └────────────┘          »\n",
       "«                   ┌───┐                                            »\n",
       "«q_0: ──────■───────┤ X ├───────■───────────────────────■────────────»\n",
       "«           │       ├───┤       │       ┌───┐┌───┐      │       ┌───┐»\n",
       "«q_1: ──────■───────┤ X ├───────■───────┤ X ├┤ X ├──────■───────┤ X ├»\n",
       "«           │       ├───┤       │       ├───┤└───┘      │       ├───┤»\n",
       "«q_2: ──────■───────┤ X ├───────■───────┤ X ├───────────■───────┤ X ├»\n",
       "«     ┌─────┴──────┐└───┘┌──────┴──────┐└───┘     ┌─────┴──────┐└───┘»\n",
       "«q_3: ┤ Ry(2.2167) ├─────┤ Ry(0.63354) ├──────────┤ Ry(1.2657) ├─────»\n",
       "«     └────────────┘     └─────────────┘          └────────────┘     »\n",
       "«                                      \n",
       "«q_0: ──────■──────────────────■───────\n",
       "«           │                  │       \n",
       "«q_1: ──────■──────────────────■───────\n",
       "«           │       ┌───┐      │       \n",
       "«q_2: ──────■───────┤ X ├──────■───────\n",
       "«     ┌─────┴──────┐└───┘┌─────┴──────┐\n",
       "«q_3: ┤ Ry(1.0767) ├─────┤ Ry(1.7216) ├\n",
       "«     └────────────┘     └────────────┘</pre>"
      ],
      "text/plain": [
       "     ┌────────────┐┌───┐              ┌───┐              ┌───┐              »\n",
       "q_0: ┤ Ry(1.7198) ├┤ X ├──────■───────┤ X ├──────■───────┤ X ├──────■───────»\n",
       "     └────────────┘└───┘┌─────┴──────┐└───┘┌─────┴──────┐├───┤      │       »\n",
       "q_1: ───────────────────┤ Ry(1.2584) ├─────┤ Ry(1.5435) ├┤ X ├──────■───────»\n",
       "                        └────────────┘     └────────────┘└───┘┌─────┴──────┐»\n",
       "q_2: ─────────────────────────────────────────────────────────┤ Ry(1.3589) ├»\n",
       "                                                              └────────────┘»\n",
       "q_3: ───────────────────────────────────────────────────────────────────────»\n",
       "                                                                            »\n",
       "«     ┌───┐┌───┐               ┌───┐                                 ┌───┐»\n",
       "«q_0: ┤ X ├┤ X ├───────■───────┤ X ├──────■──────────────────■───────┤ X ├»\n",
       "«     ├───┤└───┘       │       ├───┤      │       ┌───┐      │       ├───┤»\n",
       "«q_1: ┤ X ├────────────■───────┤ X ├──────■───────┤ X ├──────■───────┤ X ├»\n",
       "«     └───┘     ┌──────┴──────┐└───┘┌─────┴──────┐└───┘┌─────┴──────┐├───┤»\n",
       "«q_2: ──────────┤ Ry(0.88111) ├─────┤ Ry(2.2485) ├─────┤ Ry(1.9985) ├┤ X ├»\n",
       "«               └─────────────┘     └────────────┘     └────────────┘└───┘»\n",
       "«q_3: ────────────────────────────────────────────────────────────────────»\n",
       "«                                                                         »\n",
       "«                   ┌───┐┌───┐              ┌───┐┌───┐              ┌───┐┌───┐»\n",
       "«q_0: ──────■───────┤ X ├┤ X ├──────■───────┤ X ├┤ X ├──────■───────┤ X ├┤ X ├»\n",
       "«           │       ├───┤├───┤      │       ├───┤└───┘      │       └───┘└───┘»\n",
       "«q_1: ──────■───────┤ X ├┤ X ├──────■───────┤ X ├───────────■─────────────────»\n",
       "«           │       ├───┤└───┘      │       ├───┤           │       ┌───┐     »\n",
       "«q_2: ──────■───────┤ X ├───────────■───────┤ X ├───────────■───────┤ X ├─────»\n",
       "«     ┌─────┴──────┐└───┘     ┌─────┴──────┐└───┘     ┌─────┴──────┐└───┘     »\n",
       "«q_3: ┤ Ry(1.0506) ├──────────┤ Ry(1.6671) ├──────────┤ Ry(1.8732) ├──────────»\n",
       "«     └────────────┘          └────────────┘          └────────────┘          »\n",
       "«                   ┌───┐                                            »\n",
       "«q_0: ──────■───────┤ X ├───────■───────────────────────■────────────»\n",
       "«           │       ├───┤       │       ┌───┐┌───┐      │       ┌───┐»\n",
       "«q_1: ──────■───────┤ X ├───────■───────┤ X ├┤ X ├──────■───────┤ X ├»\n",
       "«           │       ├───┤       │       ├───┤└───┘      │       ├───┤»\n",
       "«q_2: ──────■───────┤ X ├───────■───────┤ X ├───────────■───────┤ X ├»\n",
       "«     ┌─────┴──────┐└───┘┌──────┴──────┐└───┘     ┌─────┴──────┐└───┘»\n",
       "«q_3: ┤ Ry(2.2167) ├─────┤ Ry(0.63354) ├──────────┤ Ry(1.2657) ├─────»\n",
       "«     └────────────┘     └─────────────┘          └────────────┘     »\n",
       "«                                      \n",
       "«q_0: ──────■──────────────────■───────\n",
       "«           │                  │       \n",
       "«q_1: ──────■──────────────────■───────\n",
       "«           │       ┌───┐      │       \n",
       "«q_2: ──────■───────┤ X ├──────■───────\n",
       "«     ┌─────┴──────┐└───┘┌─────┴──────┐\n",
       "«q_3: ┤ Ry(1.0767) ├─────┤ Ry(1.7216) ├\n",
       "«     └────────────┘     └────────────┘"
      ]
     },
     "execution_count": 9,
     "metadata": {},
     "output_type": "execute_result"
    }
   ],
   "source": [
    "thetas, all_combinations = thetas_computation(example_matrix2)\n",
    "matrix_circuit = generate_qram_circuit(thetas, all_combinations)\n",
    "matrix_circuit.draw()"
   ]
  },
  {
   "cell_type": "code",
   "execution_count": 10,
   "metadata": {},
   "outputs": [
    {
     "name": "stderr",
     "output_type": "stream",
     "text": [
      "/opt/miniconda3/envs/EAGLE_environment/lib/python3.8/site-packages/numpy/linalg/linalg.py:2154: RuntimeWarning: divide by zero encountered in det\n",
      "  r = _umath_linalg.det(a, signature=signature)\n",
      "/opt/miniconda3/envs/EAGLE_environment/lib/python3.8/site-packages/numpy/linalg/linalg.py:2154: RuntimeWarning: invalid value encountered in det\n",
      "  r = _umath_linalg.det(a, signature=signature)\n"
     ]
    },
    {
     "data": {
      "text/plain": [
       "{'0000': 0.126067336911423,\n",
       " '0001': 0.049666808245759,\n",
       " '0010': 0.042358096849241,\n",
       " '0011': 0.060235116547756,\n",
       " '0100': 0.049666808245759,\n",
       " '0101': 0.156013357507074,\n",
       " '0110': 0.005337145138618,\n",
       " '0111': 0.083930264138761,\n",
       " '1000': 0.042358096849241,\n",
       " '1001': 0.005337145138618,\n",
       " '1010': 0.078288145725462,\n",
       " '1011': 0.021479617096511,\n",
       " '1100': 0.060235116547756,\n",
       " '1101': 0.083930264138761,\n",
       " '1110': 0.021479617096511,\n",
       " '1111': 0.113617063822751}"
      ]
     },
     "execution_count": 10,
     "metadata": {},
     "output_type": "execute_result"
    }
   ],
   "source": [
    "#Check matrix encoding\n",
    "backend = Aer.get_backend(\"statevector_simulator\")\n",
    "job = backend.run(transpile(matrix_circuit, backend=backend))\n",
    "job.result().get_counts()"
   ]
  },
  {
   "cell_type": "code",
   "execution_count": 11,
   "metadata": {},
   "outputs": [
    {
     "name": "stderr",
     "output_type": "stream",
     "text": [
      "/var/folders/rr/g930v2cj1wvdzc257kclm3lm0000gn/T/ipykernel_1475/2589655134.py:4: DeprecationWarning: The NumPyMatrix class is deprecated as of Qiskit Terra 0.22.0 and will be removed no sooner than 3 months after the release date. \n",
      "  u_circuit = NumPyMatrix(example_matrix2, evolution_time=2*np.pi)\n"
     ]
    },
    {
     "data": {
      "text/plain": [
       "Operator([[ 0.50934983+0.03679191j, -0.37011352-0.10470294j,\n",
       "           -0.25131265-0.48147828j, -0.32867899-0.43388147j],\n",
       "          [-0.37011352-0.10470294j,  0.46653127+0.50177838j,\n",
       "            0.04624173-0.52061898j, -0.16366965-0.28748936j],\n",
       "          [-0.25131265-0.48147828j,  0.04624173-0.52061898j,\n",
       "            0.3643449 +0.14344337j, -0.44613654-0.28191698j],\n",
       "          [-0.32867899-0.43388147j, -0.16366965-0.28748936j,\n",
       "           -0.44613654-0.28191698j,  0.55813365-0.06519922j]],\n",
       "         input_dims=(2, 2), output_dims=(2, 2))"
      ]
     },
     "execution_count": 11,
     "metadata": {},
     "output_type": "execute_result"
    }
   ],
   "source": [
    "#Unitary for PE\n",
    "resolution = 8\n",
    "unitary_backend = Aer.get_backend(\"unitary_simulator\")\n",
    "u_circuit = NumPyMatrix(example_matrix2, evolution_time=2*np.pi)\n",
    "unitary_job = unitary_backend.run(transpile(u_circuit, backend=unitary_backend))\n",
    "unitary_job.result().get_unitary()"
   ]
  },
  {
   "cell_type": "code",
   "execution_count": 12,
   "metadata": {},
   "outputs": [
    {
     "data": {
      "image/png": "[encoded data removed]",
      "text/plain": [
       "<Figure size 1622.31x1288.28 with 1 Axes>"
      ]
     },
     "execution_count": 12,
     "metadata": {},
     "output_type": "execute_result"
    }
   ],
   "source": [
    "#PE circuit\n",
    "pe = PhaseEstimation(resolution, u_circuit, name = \"PE\")\n",
    "pe.decompose().draw(\"mpl\")"
   ]
  },
  {
   "cell_type": "markdown",
   "metadata": {},
   "source": [
    "# Check Statevector"
   ]
  },
  {
   "cell_type": "code",
   "execution_count": 13,
   "metadata": {},
   "outputs": [
    {
     "data": {
      "image/png": "[encoded data removed]",
      "text/plain": [
       "<Figure size 1639.05x1529.08 with 1 Axes>"
      ]
     },
     "execution_count": 13,
     "metadata": {},
     "output_type": "execute_result"
    }
   ],
   "source": [
    "tot_qubit = resolution+len(example_matrix1)\n",
    "\n",
    "qr_total_sim = QuantumRegister(tot_qubit, 'total')\n",
    "# classical = ClassicalRegister(4, 'measure')\n",
    "\n",
    "total_circuit_sim = QuantumCircuit(qr_total_sim , name='matrix')\n",
    "\n",
    "total_circuit_sim.append(matrix_circuit.to_gate(), qr_total_sim[resolution:])\n",
    "total_circuit_sim.append(pe.to_gate(), qr_total_sim[0:pe.num_qubits])\n",
    "# total_circuit.measure(qr_total[:2], classical[:])\n",
    "#total_circuit.swap(qr_total[0],qr_total[1])\n",
    "#total_circuit.measure_all()\n",
    "\n",
    "total_circuit_sim.decompose(reps=1).draw(\"mpl\")"
   ]
  },
  {
   "cell_type": "code",
   "execution_count": 14,
   "metadata": {},
   "outputs": [],
   "source": [
    "# Create the first operator for tomography\n",
    "op_U=total_circuit_sim.to_gate(label='op_U').control()"
   ]
  },
  {
   "cell_type": "code",
   "execution_count": 15,
   "metadata": {},
   "outputs": [],
   "source": [
    "backend_total = Aer.get_backend(\"statevector_simulator\")\n",
    "job = backend_total.run(transpile(total_circuit_sim, backend=backend_total))\n",
    "statevector = np.asarray(job.result().get_statevector()).round(4)\n",
    "#plot_histogram(counts)"
   ]
  },
  {
   "cell_type": "code",
   "execution_count": 16,
   "metadata": {},
   "outputs": [],
   "source": [
    "def attach_bitstrings(vector):\n",
    "    return list(zip(bitstrings, vector))"
   ]
  },
  {
   "cell_type": "code",
   "execution_count": 17,
   "metadata": {},
   "outputs": [],
   "source": [
    "bitstrings=[''.join([''.join(str(j)) for j in i]) for i in list(map(list, itertools.product([0, 1], repeat=resolution+len(example_matrix1))))]\n",
    "sim_statevector=attach_bitstrings(statevector)\n"
   ]
  },
  {
   "cell_type": "code",
   "execution_count": 18,
   "metadata": {},
   "outputs": [
    {
     "data": {
      "image/png": "[encoded data removed]",
      "text/plain": [
       "<Figure size 1157.45x806.68 with 1 Axes>"
      ]
     },
     "execution_count": 18,
     "metadata": {},
     "output_type": "execute_result"
    }
   ],
   "source": [
    "tot_qubit = resolution+len(example_matrix1)\n",
    "\n",
    "qr_total = QuantumRegister(tot_qubit, 'total')\n",
    "\n",
    "total_circuit = QuantumCircuit(qr_total , name='matrix')\n",
    "\n",
    "total_circuit.append(matrix_circuit.to_gate(), qr_total[resolution:])\n",
    "total_circuit.append(pe.to_gate(), qr_total[0:pe.num_qubits])\n",
    "total_circuit.barrier()\n",
    "\n",
    "total_circuit.measure_all()\n",
    "total_circuit.draw(\"mpl\")"
   ]
  },
  {
   "cell_type": "code",
   "execution_count": 19,
   "metadata": {},
   "outputs": [
    {
     "data": {
      "image/png": "[encoded data removed]",
      "text/plain": [
       "<Figure size 504x360 with 1 Axes>"
      ]
     },
     "execution_count": 19,
     "metadata": {},
     "output_type": "execute_result"
    }
   ],
   "source": [
    "n_shots=1000000\n",
    "backend_total = Aer.get_backend(\"qasm_simulator\")\n",
    "job = backend_total.run(transpile(total_circuit, backend=backend_total), shots=n_shots)\n",
    "counts = job.result().get_counts()\n",
    "plot_histogram(counts)"
   ]
  },
  {
   "cell_type": "code",
   "execution_count": 20,
   "metadata": {},
   "outputs": [],
   "source": [
    "for i in counts:\n",
    "    counts[i]/=n_shots\n",
    "#counts"
   ]
  },
  {
   "cell_type": "code",
   "execution_count": 21,
   "metadata": {},
   "outputs": [],
   "source": [
    "statevector=np.zeros(2**tot_qubit)\n",
    "for i in counts:\n",
    "    statevector[int(i,2)]=counts[i]\n",
    "#statevector"
   ]
  },
  {
   "cell_type": "code",
   "execution_count": 22,
   "metadata": {},
   "outputs": [],
   "source": [
    "#Create second operator tomography\n",
    "op_V = StatePreparation(np.sqrt(statevector),label='c_V').control()"
   ]
  },
  {
   "cell_type": "code",
   "execution_count": 23,
   "metadata": {},
   "outputs": [
    {
     "data": {
      "image/png": "[encoded data removed]",
      "text/plain": [
       "<Figure size 1701.79x1769.88 with 1 Axes>"
      ]
     },
     "execution_count": 23,
     "metadata": {},
     "output_type": "execute_result"
    }
   ],
   "source": [
    "\n",
    "tot_qubit = resolution+len(example_matrix)\n",
    "\n",
    "qr_total_xi = QuantumRegister(tot_qubit, 'target')\n",
    "qr_control = QuantumRegister(1, 'control_qubit')\n",
    "\n",
    "total_circuit_2 = QuantumCircuit(qr_total_xi,qr_control, name='matrix')\n",
    "total_circuit_2.h(qr_control)\n",
    "total_circuit_2.x(qr_control)\n",
    "\n",
    "total_circuit_2.append(op_U, qr_control[:]+qr_total_xi[:])\n",
    "total_circuit_2.x(qr_control)\n",
    "total_circuit_2.append(op_V, qr_control[:]+qr_total_xi[:])\n",
    "total_circuit_2.h(qr_control)\n",
    "total_circuit_2.measure_all()\n",
    "total_circuit_2.draw(\"mpl\")"
   ]
  },
  {
   "cell_type": "code",
   "execution_count": 24,
   "metadata": {},
   "outputs": [
    {
     "data": {
      "image/png": "[encoded data removed]",
      "text/plain": [
       "<Figure size 504x360 with 1 Axes>"
      ]
     },
     "execution_count": 24,
     "metadata": {},
     "output_type": "execute_result"
    }
   ],
   "source": [
    "backend_total = Aer.get_backend(\"qasm_simulator\")\n",
    "job = backend_total.run(transpile(total_circuit_2, backend=backend_total), shots=n_shots)\n",
    "counts_for_sign = job.result().get_counts()\n",
    "plot_histogram(counts_for_sign)"
   ]
  },
  {
   "cell_type": "code",
   "execution_count": 25,
   "metadata": {},
   "outputs": [],
   "source": [
    "#Take only counts with control qubits equal to 0\n",
    "tmp=np.zeros(2**tot_qubit)\n",
    "for c in counts_for_sign:\n",
    "    if c[0]=='0':\n",
    "        tmp[int(c[1:],2)]=counts_for_sign[c]\n",
    "#tmp"
   ]
  },
  {
   "cell_type": "code",
   "execution_count": 2258,
   "metadata": {},
   "outputs": [
    {
     "data": {
      "text/plain": [
       "'tmp_=tmp/(sum(tmp))\\n\\nsign_diff=[]\\nsign=[]\\nx_list=[]\\nfor i in range(len(tmp_)):\\n    x=(np.sqrt(statevector[i])*0.5)+(((statevector[i])/np.sqrt(statevector[i]))*0.5) - (tmp_[i]/(2*np.sqrt(statevector[i])))\\n    \\n    x_list.append(x)\\n    \\n    sign_diff.append(np.sign(x)+np.sign((sim_statevector[i][1].real)))\\n    sign.append(np.sign(x))\\n    '"
      ]
     },
     "execution_count": 2258,
     "metadata": {},
     "output_type": "execute_result"
    }
   ],
   "source": [
    "###Metodo Nannicini\n",
    "\n",
    "'''tmp_=tmp/(sum(tmp))\n",
    "\n",
    "sign_diff=[]\n",
    "sign=[]\n",
    "x_list=[]\n",
    "for i in range(len(tmp_)):\n",
    "    x=(np.sqrt(statevector[i])*0.5)+(((statevector[i])/np.sqrt(statevector[i]))*0.5) - (tmp_[i]/(2*np.sqrt(statevector[i])))\n",
    "    \n",
    "    x_list.append(x)\n",
    "    \n",
    "    sign_diff.append(np.sign(x)+np.sign((sim_statevector[i][1].real)))\n",
    "    sign.append(np.sign(x))\n",
    "    '''"
   ]
  },
  {
   "cell_type": "code",
   "execution_count": 26,
   "metadata": {},
   "outputs": [],
   "source": [
    "#Sign estimation\n",
    "sign_dictionary={}\n",
    "sign=0\n",
    "for e, (count, prob) in enumerate(zip(tmp, statevector)):\n",
    "    if count>0.4*prob*n_shots:\n",
    "        sign=1\n",
    "    else:\n",
    "        sign=-1\n",
    "    if prob==0:\n",
    "        sign=1\n",
    "    sign_dictionary.update({bin(e)[2:].zfill(tot_qubit):sign})"
   ]
  },
  {
   "cell_type": "code",
   "execution_count": 27,
   "metadata": {},
   "outputs": [],
   "source": [
    "statevector_dictionary={}\n",
    "for e,key in enumerate(sign_dictionary):\n",
    "    statevector_dictionary[key]=sign_dictionary[key]*np.sqrt(statevector[e])\n",
    "\n",
    "#statevector_dictionary"
   ]
  },
  {
   "cell_type": "code",
   "execution_count": 28,
   "metadata": {},
   "outputs": [],
   "source": [
    "bitstrings=[''.join([''.join(str(j)) for j in i]) for i in list(map(list, itertools.product([0, 1], repeat=resolution+len(example_matrix1))))]\n",
    "ss=attach_bitstrings(statevector)\n",
    "#ss"
   ]
  },
  {
   "cell_type": "code",
   "execution_count": 29,
   "metadata": {},
   "outputs": [
    {
     "data": {
      "text/html": [
       "<div>\n",
       "<style scoped>\n",
       "    .dataframe tbody tr th:only-of-type {\n",
       "        vertical-align: middle;\n",
       "    }\n",
       "\n",
       "    .dataframe tbody tr th {\n",
       "        vertical-align: top;\n",
       "    }\n",
       "\n",
       "    .dataframe thead th {\n",
       "        text-align: right;\n",
       "    }\n",
       "</style>\n",
       "<table border=\"1\" class=\"dataframe\">\n",
       "  <thead>\n",
       "    <tr style=\"text-align: right;\">\n",
       "      <th></th>\n",
       "      <th>state</th>\n",
       "      <th>module</th>\n",
       "    </tr>\n",
       "  </thead>\n",
       "  <tbody>\n",
       "    <tr>\n",
       "      <th>0</th>\n",
       "      <td>000000000000</td>\n",
       "      <td>0.000000</td>\n",
       "    </tr>\n",
       "    <tr>\n",
       "      <th>1</th>\n",
       "      <td>000000000001</td>\n",
       "      <td>0.000002</td>\n",
       "    </tr>\n",
       "    <tr>\n",
       "      <th>2</th>\n",
       "      <td>000000000010</td>\n",
       "      <td>0.000000</td>\n",
       "    </tr>\n",
       "    <tr>\n",
       "      <th>3</th>\n",
       "      <td>000000000011</td>\n",
       "      <td>0.000016</td>\n",
       "    </tr>\n",
       "    <tr>\n",
       "      <th>4</th>\n",
       "      <td>000000000100</td>\n",
       "      <td>0.000002</td>\n",
       "    </tr>\n",
       "    <tr>\n",
       "      <th>...</th>\n",
       "      <td>...</td>\n",
       "      <td>...</td>\n",
       "    </tr>\n",
       "    <tr>\n",
       "      <th>4091</th>\n",
       "      <td>111111111011</td>\n",
       "      <td>0.000000</td>\n",
       "    </tr>\n",
       "    <tr>\n",
       "      <th>4092</th>\n",
       "      <td>111111111100</td>\n",
       "      <td>0.000001</td>\n",
       "    </tr>\n",
       "    <tr>\n",
       "      <th>4093</th>\n",
       "      <td>111111111101</td>\n",
       "      <td>0.000023</td>\n",
       "    </tr>\n",
       "    <tr>\n",
       "      <th>4094</th>\n",
       "      <td>111111111110</td>\n",
       "      <td>0.000002</td>\n",
       "    </tr>\n",
       "    <tr>\n",
       "      <th>4095</th>\n",
       "      <td>111111111111</td>\n",
       "      <td>0.000000</td>\n",
       "    </tr>\n",
       "  </tbody>\n",
       "</table>\n",
       "<p>4096 rows × 2 columns</p>\n",
       "</div>"
      ],
      "text/plain": [
       "             state    module\n",
       "0     000000000000  0.000000\n",
       "1     000000000001  0.000002\n",
       "2     000000000010  0.000000\n",
       "3     000000000011  0.000016\n",
       "4     000000000100  0.000002\n",
       "...            ...       ...\n",
       "4091  111111111011  0.000000\n",
       "4092  111111111100  0.000001\n",
       "4093  111111111101  0.000023\n",
       "4094  111111111110  0.000002\n",
       "4095  111111111111  0.000000\n",
       "\n",
       "[4096 rows x 2 columns]"
      ]
     },
     "execution_count": 29,
     "metadata": {},
     "output_type": "execute_result"
    }
   ],
   "source": [
    "df=pd.DataFrame(ss)\n",
    "\n",
    "df.columns=['state','module']\n",
    "df"
   ]
  },
  {
   "cell_type": "code",
   "execution_count": 30,
   "metadata": {},
   "outputs": [
    {
     "data": {
      "text/html": [
       "<div>\n",
       "<style scoped>\n",
       "    .dataframe tbody tr th:only-of-type {\n",
       "        vertical-align: middle;\n",
       "    }\n",
       "\n",
       "    .dataframe tbody tr th {\n",
       "        vertical-align: top;\n",
       "    }\n",
       "\n",
       "    .dataframe thead th {\n",
       "        text-align: right;\n",
       "    }\n",
       "</style>\n",
       "<table border=\"1\" class=\"dataframe\">\n",
       "  <thead>\n",
       "    <tr style=\"text-align: right;\">\n",
       "      <th></th>\n",
       "      <th>module</th>\n",
       "    </tr>\n",
       "    <tr>\n",
       "      <th>lambda</th>\n",
       "      <th></th>\n",
       "    </tr>\n",
       "  </thead>\n",
       "  <tbody>\n",
       "    <tr>\n",
       "      <th>11001101</th>\n",
       "      <td>0.742958</td>\n",
       "    </tr>\n",
       "    <tr>\n",
       "      <th>11001100</th>\n",
       "      <td>0.092104</td>\n",
       "    </tr>\n",
       "    <tr>\n",
       "      <th>00101101</th>\n",
       "      <td>0.046501</td>\n",
       "    </tr>\n",
       "    <tr>\n",
       "      <th>11110000</th>\n",
       "      <td>0.022800</td>\n",
       "    </tr>\n",
       "    <tr>\n",
       "      <th>01001101</th>\n",
       "      <td>0.020717</td>\n",
       "    </tr>\n",
       "    <tr>\n",
       "      <th>...</th>\n",
       "      <td>...</td>\n",
       "    </tr>\n",
       "    <tr>\n",
       "      <th>00000110</th>\n",
       "      <td>0.000006</td>\n",
       "    </tr>\n",
       "    <tr>\n",
       "      <th>11110010</th>\n",
       "      <td>0.000006</td>\n",
       "    </tr>\n",
       "    <tr>\n",
       "      <th>10010110</th>\n",
       "      <td>0.000006</td>\n",
       "    </tr>\n",
       "    <tr>\n",
       "      <th>10111010</th>\n",
       "      <td>0.000005</td>\n",
       "    </tr>\n",
       "    <tr>\n",
       "      <th>11000110</th>\n",
       "      <td>0.000004</td>\n",
       "    </tr>\n",
       "  </tbody>\n",
       "</table>\n",
       "<p>256 rows × 1 columns</p>\n",
       "</div>"
      ],
      "text/plain": [
       "            module\n",
       "lambda            \n",
       "11001101  0.742958\n",
       "11001100  0.092104\n",
       "00101101  0.046501\n",
       "11110000  0.022800\n",
       "01001101  0.020717\n",
       "...            ...\n",
       "00000110  0.000006\n",
       "11110010  0.000006\n",
       "10010110  0.000006\n",
       "10111010  0.000005\n",
       "11000110  0.000004\n",
       "\n",
       "[256 rows x 1 columns]"
      ]
     },
     "execution_count": 30,
     "metadata": {},
     "output_type": "execute_result"
    }
   ],
   "source": [
    "df['lambda']=df['state'].apply(lambda x: x[-resolution:])\n",
    "df1=df.groupby('lambda').agg({'module':'sum'})\n",
    "#df1['module_new']=df1['module'].apply(lambda x: np.sqrt(x.real**2 + x.imag**2))\n",
    "df1=df1.sort_values('module',ascending=False)\n",
    "df1"
   ]
  },
  {
   "cell_type": "code",
   "execution_count": 31,
   "metadata": {},
   "outputs": [
    {
     "data": {
      "text/html": [
       "<div>\n",
       "<style scoped>\n",
       "    .dataframe tbody tr th:only-of-type {\n",
       "        vertical-align: middle;\n",
       "    }\n",
       "\n",
       "    .dataframe tbody tr th {\n",
       "        vertical-align: top;\n",
       "    }\n",
       "\n",
       "    .dataframe thead th {\n",
       "        text-align: right;\n",
       "    }\n",
       "</style>\n",
       "<table border=\"1\" class=\"dataframe\">\n",
       "  <thead>\n",
       "    <tr style=\"text-align: right;\">\n",
       "      <th></th>\n",
       "      <th>lambda</th>\n",
       "      <th>module</th>\n",
       "    </tr>\n",
       "  </thead>\n",
       "  <tbody>\n",
       "    <tr>\n",
       "      <th>0</th>\n",
       "      <td>11001101</td>\n",
       "      <td>0.742958</td>\n",
       "    </tr>\n",
       "    <tr>\n",
       "      <th>1</th>\n",
       "      <td>11001100</td>\n",
       "      <td>0.092104</td>\n",
       "    </tr>\n",
       "    <tr>\n",
       "      <th>2</th>\n",
       "      <td>00101101</td>\n",
       "      <td>0.046501</td>\n",
       "    </tr>\n",
       "    <tr>\n",
       "      <th>3</th>\n",
       "      <td>11110000</td>\n",
       "      <td>0.022800</td>\n",
       "    </tr>\n",
       "    <tr>\n",
       "      <th>4</th>\n",
       "      <td>01001101</td>\n",
       "      <td>0.020717</td>\n",
       "    </tr>\n",
       "    <tr>\n",
       "      <th>...</th>\n",
       "      <td>...</td>\n",
       "      <td>...</td>\n",
       "    </tr>\n",
       "    <tr>\n",
       "      <th>251</th>\n",
       "      <td>00000110</td>\n",
       "      <td>0.000006</td>\n",
       "    </tr>\n",
       "    <tr>\n",
       "      <th>252</th>\n",
       "      <td>11110010</td>\n",
       "      <td>0.000006</td>\n",
       "    </tr>\n",
       "    <tr>\n",
       "      <th>253</th>\n",
       "      <td>10010110</td>\n",
       "      <td>0.000006</td>\n",
       "    </tr>\n",
       "    <tr>\n",
       "      <th>254</th>\n",
       "      <td>10111010</td>\n",
       "      <td>0.000005</td>\n",
       "    </tr>\n",
       "    <tr>\n",
       "      <th>255</th>\n",
       "      <td>11000110</td>\n",
       "      <td>0.000004</td>\n",
       "    </tr>\n",
       "  </tbody>\n",
       "</table>\n",
       "<p>256 rows × 2 columns</p>\n",
       "</div>"
      ],
      "text/plain": [
       "       lambda    module\n",
       "0    11001101  0.742958\n",
       "1    11001100  0.092104\n",
       "2    00101101  0.046501\n",
       "3    11110000  0.022800\n",
       "4    01001101  0.020717\n",
       "..        ...       ...\n",
       "251  00000110  0.000006\n",
       "252  11110010  0.000006\n",
       "253  10010110  0.000006\n",
       "254  10111010  0.000005\n",
       "255  11000110  0.000004\n",
       "\n",
       "[256 rows x 2 columns]"
      ]
     },
     "execution_count": 31,
     "metadata": {},
     "output_type": "execute_result"
    }
   ],
   "source": [
    "tail=df1.reset_index()\n",
    "tail"
   ]
  },
  {
   "cell_type": "code",
   "execution_count": 32,
   "metadata": {},
   "outputs": [],
   "source": [
    "tail['num']=tail['lambda'].apply(lambda x :int(x[::-1],base=2)/(2**resolution))"
   ]
  },
  {
   "cell_type": "code",
   "execution_count": 34,
   "metadata": {},
   "outputs": [
    {
     "data": {
      "text/html": [
       "<div>\n",
       "<style scoped>\n",
       "    .dataframe tbody tr th:only-of-type {\n",
       "        vertical-align: middle;\n",
       "    }\n",
       "\n",
       "    .dataframe tbody tr th {\n",
       "        vertical-align: top;\n",
       "    }\n",
       "\n",
       "    .dataframe thead th {\n",
       "        text-align: right;\n",
       "    }\n",
       "</style>\n",
       "<table border=\"1\" class=\"dataframe\">\n",
       "  <thead>\n",
       "    <tr style=\"text-align: right;\">\n",
       "      <th></th>\n",
       "      <th>lambda</th>\n",
       "      <th>module</th>\n",
       "      <th>num</th>\n",
       "    </tr>\n",
       "  </thead>\n",
       "  <tbody>\n",
       "    <tr>\n",
       "      <th>0</th>\n",
       "      <td>11001101</td>\n",
       "      <td>0.742958</td>\n",
       "      <td>0.699219</td>\n",
       "    </tr>\n",
       "    <tr>\n",
       "      <th>1</th>\n",
       "      <td>11001100</td>\n",
       "      <td>0.092104</td>\n",
       "      <td>0.199219</td>\n",
       "    </tr>\n",
       "    <tr>\n",
       "      <th>2</th>\n",
       "      <td>00101101</td>\n",
       "      <td>0.046501</td>\n",
       "      <td>0.703125</td>\n",
       "    </tr>\n",
       "    <tr>\n",
       "      <th>3</th>\n",
       "      <td>11110000</td>\n",
       "      <td>0.022800</td>\n",
       "      <td>0.058594</td>\n",
       "    </tr>\n",
       "    <tr>\n",
       "      <th>4</th>\n",
       "      <td>01001101</td>\n",
       "      <td>0.020717</td>\n",
       "      <td>0.695312</td>\n",
       "    </tr>\n",
       "    <tr>\n",
       "      <th>5</th>\n",
       "      <td>10101101</td>\n",
       "      <td>0.009210</td>\n",
       "      <td>0.707031</td>\n",
       "    </tr>\n",
       "    <tr>\n",
       "      <th>6</th>\n",
       "      <td>01010000</td>\n",
       "      <td>0.008315</td>\n",
       "      <td>0.039062</td>\n",
       "    </tr>\n",
       "    <tr>\n",
       "      <th>7</th>\n",
       "      <td>00001000</td>\n",
       "      <td>0.007238</td>\n",
       "      <td>0.062500</td>\n",
       "    </tr>\n",
       "    <tr>\n",
       "      <th>8</th>\n",
       "      <td>10001101</td>\n",
       "      <td>0.006056</td>\n",
       "      <td>0.691406</td>\n",
       "    </tr>\n",
       "    <tr>\n",
       "      <th>9</th>\n",
       "      <td>00101100</td>\n",
       "      <td>0.005717</td>\n",
       "      <td>0.203125</td>\n",
       "    </tr>\n",
       "    <tr>\n",
       "      <th>10</th>\n",
       "      <td>01101101</td>\n",
       "      <td>0.003717</td>\n",
       "      <td>0.710938</td>\n",
       "    </tr>\n",
       "    <tr>\n",
       "      <th>11</th>\n",
       "      <td>00001101</td>\n",
       "      <td>0.002943</td>\n",
       "      <td>0.687500</td>\n",
       "    </tr>\n",
       "    <tr>\n",
       "      <th>12</th>\n",
       "      <td>01001100</td>\n",
       "      <td>0.002578</td>\n",
       "      <td>0.195312</td>\n",
       "    </tr>\n",
       "    <tr>\n",
       "      <th>13</th>\n",
       "      <td>11101101</td>\n",
       "      <td>0.002101</td>\n",
       "      <td>0.714844</td>\n",
       "    </tr>\n",
       "    <tr>\n",
       "      <th>14</th>\n",
       "      <td>11110101</td>\n",
       "      <td>0.001706</td>\n",
       "      <td>0.683594</td>\n",
       "    </tr>\n",
       "    <tr>\n",
       "      <th>15</th>\n",
       "      <td>01110000</td>\n",
       "      <td>0.001689</td>\n",
       "      <td>0.054688</td>\n",
       "    </tr>\n",
       "    <tr>\n",
       "      <th>16</th>\n",
       "      <td>00011101</td>\n",
       "      <td>0.001296</td>\n",
       "      <td>0.718750</td>\n",
       "    </tr>\n",
       "    <tr>\n",
       "      <th>17</th>\n",
       "      <td>10101100</td>\n",
       "      <td>0.001198</td>\n",
       "      <td>0.207031</td>\n",
       "    </tr>\n",
       "    <tr>\n",
       "      <th>18</th>\n",
       "      <td>10001000</td>\n",
       "      <td>0.001138</td>\n",
       "      <td>0.066406</td>\n",
       "    </tr>\n",
       "    <tr>\n",
       "      <th>19</th>\n",
       "      <td>01110101</td>\n",
       "      <td>0.001075</td>\n",
       "      <td>0.679688</td>\n",
       "    </tr>\n",
       "  </tbody>\n",
       "</table>\n",
       "</div>"
      ],
      "text/plain": [
       "      lambda    module       num\n",
       "0   11001101  0.742958  0.699219\n",
       "1   11001100  0.092104  0.199219\n",
       "2   00101101  0.046501  0.703125\n",
       "3   11110000  0.022800  0.058594\n",
       "4   01001101  0.020717  0.695312\n",
       "5   10101101  0.009210  0.707031\n",
       "6   01010000  0.008315  0.039062\n",
       "7   00001000  0.007238  0.062500\n",
       "8   10001101  0.006056  0.691406\n",
       "9   00101100  0.005717  0.203125\n",
       "10  01101101  0.003717  0.710938\n",
       "11  00001101  0.002943  0.687500\n",
       "12  01001100  0.002578  0.195312\n",
       "13  11101101  0.002101  0.714844\n",
       "14  11110101  0.001706  0.683594\n",
       "15  01110000  0.001689  0.054688\n",
       "16  00011101  0.001296  0.718750\n",
       "17  10101100  0.001198  0.207031\n",
       "18  10001000  0.001138  0.066406\n",
       "19  01110101  0.001075  0.679688"
      ]
     },
     "execution_count": 34,
     "metadata": {},
     "output_type": "execute_result"
    }
   ],
   "source": [
    "tail.head(20)"
   ]
  },
  {
   "cell_type": "code",
   "execution_count": 2269,
   "metadata": {},
   "outputs": [
    {
     "data": {
      "text/plain": [
       "\"tail1['num']+=0.1\\ntail1\""
      ]
     },
     "execution_count": 2269,
     "metadata": {},
     "output_type": "execute_result"
    }
   ],
   "source": [
    "'''tail1['num']+=0.1\n",
    "tail1'''"
   ]
  },
  {
   "cell_type": "code",
   "execution_count": 35,
   "metadata": {},
   "outputs": [
    {
     "data": {
      "text/plain": [
       "(array([8.95523896e-01, 3.04204531e-04, 5.56768217e-02, 4.84950778e-02]),\n",
       " array([[-0.54010974, -0.31079311, -0.76691778,  0.15338266],\n",
       "        [-0.34101425, -0.72369209,  0.45528741, -0.39075876],\n",
       "        [-0.54078131,  0.59128095,  0.021657  , -0.59789078],\n",
       "        [-0.54730826,  0.17339042,  0.45175377,  0.68286746]]))"
      ]
     },
     "execution_count": 35,
     "metadata": {},
     "output_type": "execute_result"
    }
   ],
   "source": [
    "np.linalg.eig(example_matrix1)"
   ]
  },
  {
   "cell_type": "code",
   "execution_count": 37,
   "metadata": {},
   "outputs": [],
   "source": [
    "peaks=[]\n",
    "nums_peaks=[]\n",
    "peaks.append(tail.iloc[0]['lambda'])\n",
    "nums_peaks.append(tail.iloc[0]['num'])\n",
    "for i in range(1,len(tail)):\n",
    "    \n",
    "    #for n_ in nums_peaks:\n",
    "        \n",
    "    if any(abs(tail.iloc[i]['num']-n_)<= 4/(2**resolution) for n_ in nums_peaks):\n",
    "        #if any(abs(tail1.iloc[i]['num']-n_)/n_<= 0.2 for n_ in nums_peaks):\n",
    "        pass\n",
    "    else:\n",
    "           \n",
    "        nums_peaks.append(tail.iloc[i]['num'])\n",
    "        peaks.append(tail.iloc[i]['lambda'])\n",
    "        pass\n",
    "    if len(peaks)==len(example_matrix1):\n",
    "        break\n",
    "    #print(tail.iloc[i])"
   ]
  },
  {
   "cell_type": "code",
   "execution_count": 38,
   "metadata": {},
   "outputs": [
    {
     "data": {
      "text/plain": [
       "(['11001101', '11001100', '11110000', '01010000'],\n",
       " array([0.69921875, 0.19921875, 0.05859375, 0.0390625 ]))"
      ]
     },
     "execution_count": 38,
     "metadata": {},
     "output_type": "execute_result"
    }
   ],
   "source": [
    "peaks,np.array(nums_peaks)"
   ]
  },
  {
   "cell_type": "code",
   "execution_count": 39,
   "metadata": {},
   "outputs": [
    {
     "data": {
      "text/plain": [
       "(array([0.7 , 0.2 , 0.06, 0.04]),\n",
       " array([[-0.54010974, -0.31079311, -0.76691778,  0.15338266],\n",
       "        [-0.34101425, -0.72369209,  0.45528741, -0.39075876],\n",
       "        [-0.54078131,  0.59128095,  0.021657  , -0.59789078],\n",
       "        [-0.54730826,  0.17339042,  0.45175377,  0.68286746]]))"
      ]
     },
     "execution_count": 39,
     "metadata": {},
     "output_type": "execute_result"
    }
   ],
   "source": [
    "np.linalg.eig(example_matrix2)"
   ]
  },
  {
   "cell_type": "code",
   "execution_count": 41,
   "metadata": {},
   "outputs": [
    {
     "data": {
      "text/plain": [
       "<AxesSubplot: xlabel='num'>"
      ]
     },
     "execution_count": 41,
     "metadata": {},
     "output_type": "execute_result"
    },
    {
     "data": {
      "image/png": "[encoded data removed]",
      "text/plain": [
       "<Figure size 1080x720 with 1 Axes>"
      ]
     },
     "metadata": {
      "needs_background": "light"
     },
     "output_type": "display_data"
    }
   ],
   "source": [
    "tail[['num','module']].sort_values('num').set_index('num').plot(style='-*',figsize=(15,10))"
   ]
  },
  {
   "cell_type": "code",
   "execution_count": 1434,
   "metadata": {},
   "outputs": [
    {
     "data": {
      "text/plain": [
       "'lambdas=df1.tail(len(example_matrix1)).index.values\\nlambdas'"
      ]
     },
     "execution_count": 1434,
     "metadata": {},
     "output_type": "execute_result"
    }
   ],
   "source": [
    "'''lambdas=df1.tail(len(example_matrix1)).index.values\n",
    "lambdas'''"
   ]
  },
  {
   "cell_type": "code",
   "execution_count": 42,
   "metadata": {},
   "outputs": [
    {
     "data": {
      "text/plain": [
       "['11001101', '11001100', '11110000', '01010000']"
      ]
     },
     "execution_count": 42,
     "metadata": {},
     "output_type": "execute_result"
    }
   ],
   "source": [
    "lambdas=peaks\n",
    "lambdas"
   ]
  },
  {
   "cell_type": "code",
   "execution_count": 44,
   "metadata": {},
   "outputs": [
    {
     "data": {
      "text/html": [
       "<div>\n",
       "<style scoped>\n",
       "    .dataframe tbody tr th:only-of-type {\n",
       "        vertical-align: middle;\n",
       "    }\n",
       "\n",
       "    .dataframe tbody tr th {\n",
       "        vertical-align: top;\n",
       "    }\n",
       "\n",
       "    .dataframe thead th {\n",
       "        text-align: right;\n",
       "    }\n",
       "</style>\n",
       "<table border=\"1\" class=\"dataframe\">\n",
       "  <thead>\n",
       "    <tr style=\"text-align: right;\">\n",
       "      <th></th>\n",
       "      <th>state</th>\n",
       "      <th>module</th>\n",
       "      <th>lambda</th>\n",
       "    </tr>\n",
       "  </thead>\n",
       "  <tbody>\n",
       "    <tr>\n",
       "      <th>0</th>\n",
       "      <td>000000000000</td>\n",
       "      <td>0.000000</td>\n",
       "      <td>00000000</td>\n",
       "    </tr>\n",
       "    <tr>\n",
       "      <th>1</th>\n",
       "      <td>000000000001</td>\n",
       "      <td>0.000002</td>\n",
       "      <td>00000001</td>\n",
       "    </tr>\n",
       "    <tr>\n",
       "      <th>2</th>\n",
       "      <td>000000000010</td>\n",
       "      <td>0.000000</td>\n",
       "      <td>00000010</td>\n",
       "    </tr>\n",
       "    <tr>\n",
       "      <th>3</th>\n",
       "      <td>000000000011</td>\n",
       "      <td>0.000016</td>\n",
       "      <td>00000011</td>\n",
       "    </tr>\n",
       "    <tr>\n",
       "      <th>4</th>\n",
       "      <td>000000000100</td>\n",
       "      <td>0.000002</td>\n",
       "      <td>00000100</td>\n",
       "    </tr>\n",
       "    <tr>\n",
       "      <th>...</th>\n",
       "      <td>...</td>\n",
       "      <td>...</td>\n",
       "      <td>...</td>\n",
       "    </tr>\n",
       "    <tr>\n",
       "      <th>4091</th>\n",
       "      <td>111111111011</td>\n",
       "      <td>0.000000</td>\n",
       "      <td>11111011</td>\n",
       "    </tr>\n",
       "    <tr>\n",
       "      <th>4092</th>\n",
       "      <td>111111111100</td>\n",
       "      <td>0.000001</td>\n",
       "      <td>11111100</td>\n",
       "    </tr>\n",
       "    <tr>\n",
       "      <th>4093</th>\n",
       "      <td>111111111101</td>\n",
       "      <td>0.000023</td>\n",
       "      <td>11111101</td>\n",
       "    </tr>\n",
       "    <tr>\n",
       "      <th>4094</th>\n",
       "      <td>111111111110</td>\n",
       "      <td>0.000002</td>\n",
       "      <td>11111110</td>\n",
       "    </tr>\n",
       "    <tr>\n",
       "      <th>4095</th>\n",
       "      <td>111111111111</td>\n",
       "      <td>0.000000</td>\n",
       "      <td>11111111</td>\n",
       "    </tr>\n",
       "  </tbody>\n",
       "</table>\n",
       "<p>4096 rows × 3 columns</p>\n",
       "</div>"
      ],
      "text/plain": [
       "             state    module    lambda\n",
       "0     000000000000  0.000000  00000000\n",
       "1     000000000001  0.000002  00000001\n",
       "2     000000000010  0.000000  00000010\n",
       "3     000000000011  0.000016  00000011\n",
       "4     000000000100  0.000002  00000100\n",
       "...            ...       ...       ...\n",
       "4091  111111111011  0.000000  11111011\n",
       "4092  111111111100  0.000001  11111100\n",
       "4093  111111111101  0.000023  11111101\n",
       "4094  111111111110  0.000002  11111110\n",
       "4095  111111111111  0.000000  11111111\n",
       "\n",
       "[4096 rows x 3 columns]"
      ]
     },
     "execution_count": 44,
     "metadata": {},
     "output_type": "execute_result"
    }
   ],
   "source": [
    "df.columns=['state','module','lambda']\n",
    "df"
   ]
  },
  {
   "cell_type": "code",
   "execution_count": 45,
   "metadata": {},
   "outputs": [
    {
     "data": {
      "text/html": [
       "<div>\n",
       "<style scoped>\n",
       "    .dataframe tbody tr th:only-of-type {\n",
       "        vertical-align: middle;\n",
       "    }\n",
       "\n",
       "    .dataframe tbody tr th {\n",
       "        vertical-align: top;\n",
       "    }\n",
       "\n",
       "    .dataframe thead th {\n",
       "        text-align: right;\n",
       "    }\n",
       "</style>\n",
       "<table border=\"1\" class=\"dataframe\">\n",
       "  <thead>\n",
       "    <tr style=\"text-align: right;\">\n",
       "      <th></th>\n",
       "      <th>state</th>\n",
       "      <th>module</th>\n",
       "      <th>lambda</th>\n",
       "      <th>sign</th>\n",
       "    </tr>\n",
       "  </thead>\n",
       "  <tbody>\n",
       "    <tr>\n",
       "      <th>0</th>\n",
       "      <td>000000000000</td>\n",
       "      <td>0.000000</td>\n",
       "      <td>00000000</td>\n",
       "      <td>1</td>\n",
       "    </tr>\n",
       "    <tr>\n",
       "      <th>1</th>\n",
       "      <td>000000000001</td>\n",
       "      <td>0.000002</td>\n",
       "      <td>00000001</td>\n",
       "      <td>1</td>\n",
       "    </tr>\n",
       "    <tr>\n",
       "      <th>2</th>\n",
       "      <td>000000000010</td>\n",
       "      <td>0.000000</td>\n",
       "      <td>00000010</td>\n",
       "      <td>1</td>\n",
       "    </tr>\n",
       "    <tr>\n",
       "      <th>3</th>\n",
       "      <td>000000000011</td>\n",
       "      <td>0.000016</td>\n",
       "      <td>00000011</td>\n",
       "      <td>-1</td>\n",
       "    </tr>\n",
       "    <tr>\n",
       "      <th>4</th>\n",
       "      <td>000000000100</td>\n",
       "      <td>0.000002</td>\n",
       "      <td>00000100</td>\n",
       "      <td>-1</td>\n",
       "    </tr>\n",
       "    <tr>\n",
       "      <th>...</th>\n",
       "      <td>...</td>\n",
       "      <td>...</td>\n",
       "      <td>...</td>\n",
       "      <td>...</td>\n",
       "    </tr>\n",
       "    <tr>\n",
       "      <th>4091</th>\n",
       "      <td>111111111011</td>\n",
       "      <td>0.000000</td>\n",
       "      <td>11111011</td>\n",
       "      <td>1</td>\n",
       "    </tr>\n",
       "    <tr>\n",
       "      <th>4092</th>\n",
       "      <td>111111111100</td>\n",
       "      <td>0.000001</td>\n",
       "      <td>11111100</td>\n",
       "      <td>-1</td>\n",
       "    </tr>\n",
       "    <tr>\n",
       "      <th>4093</th>\n",
       "      <td>111111111101</td>\n",
       "      <td>0.000023</td>\n",
       "      <td>11111101</td>\n",
       "      <td>-1</td>\n",
       "    </tr>\n",
       "    <tr>\n",
       "      <th>4094</th>\n",
       "      <td>111111111110</td>\n",
       "      <td>0.000002</td>\n",
       "      <td>11111110</td>\n",
       "      <td>1</td>\n",
       "    </tr>\n",
       "    <tr>\n",
       "      <th>4095</th>\n",
       "      <td>111111111111</td>\n",
       "      <td>0.000000</td>\n",
       "      <td>11111111</td>\n",
       "      <td>1</td>\n",
       "    </tr>\n",
       "  </tbody>\n",
       "</table>\n",
       "<p>4096 rows × 4 columns</p>\n",
       "</div>"
      ],
      "text/plain": [
       "             state    module    lambda  sign\n",
       "0     000000000000  0.000000  00000000     1\n",
       "1     000000000001  0.000002  00000001     1\n",
       "2     000000000010  0.000000  00000010     1\n",
       "3     000000000011  0.000016  00000011    -1\n",
       "4     000000000100  0.000002  00000100    -1\n",
       "...            ...       ...       ...   ...\n",
       "4091  111111111011  0.000000  11111011     1\n",
       "4092  111111111100  0.000001  11111100    -1\n",
       "4093  111111111101  0.000023  11111101    -1\n",
       "4094  111111111110  0.000002  11111110     1\n",
       "4095  111111111111  0.000000  11111111     1\n",
       "\n",
       "[4096 rows x 4 columns]"
      ]
     },
     "execution_count": 45,
     "metadata": {},
     "output_type": "execute_result"
    }
   ],
   "source": [
    "df['sign']=np.array(list(sign_dictionary.values()))\n",
    "#df['sign']=np.array(sign)\n",
    "df"
   ]
  },
  {
   "cell_type": "code",
   "execution_count": 46,
   "metadata": {},
   "outputs": [
    {
     "data": {
      "text/html": [
       "<div>\n",
       "<style scoped>\n",
       "    .dataframe tbody tr th:only-of-type {\n",
       "        vertical-align: middle;\n",
       "    }\n",
       "\n",
       "    .dataframe tbody tr th {\n",
       "        vertical-align: top;\n",
       "    }\n",
       "\n",
       "    .dataframe thead th {\n",
       "        text-align: right;\n",
       "    }\n",
       "</style>\n",
       "<table border=\"1\" class=\"dataframe\">\n",
       "  <thead>\n",
       "    <tr style=\"text-align: right;\">\n",
       "      <th></th>\n",
       "      <th>state</th>\n",
       "      <th>module</th>\n",
       "      <th>lambda</th>\n",
       "      <th>sign</th>\n",
       "    </tr>\n",
       "  </thead>\n",
       "  <tbody>\n",
       "    <tr>\n",
       "      <th>0</th>\n",
       "      <td>000000000000</td>\n",
       "      <td>0.000000</td>\n",
       "      <td>00000000</td>\n",
       "      <td>1</td>\n",
       "    </tr>\n",
       "    <tr>\n",
       "      <th>1</th>\n",
       "      <td>000000000001</td>\n",
       "      <td>0.000002</td>\n",
       "      <td>00000001</td>\n",
       "      <td>1</td>\n",
       "    </tr>\n",
       "    <tr>\n",
       "      <th>2</th>\n",
       "      <td>000000000010</td>\n",
       "      <td>0.000000</td>\n",
       "      <td>00000010</td>\n",
       "      <td>1</td>\n",
       "    </tr>\n",
       "    <tr>\n",
       "      <th>3</th>\n",
       "      <td>000000000011</td>\n",
       "      <td>-0.000016</td>\n",
       "      <td>00000011</td>\n",
       "      <td>-1</td>\n",
       "    </tr>\n",
       "    <tr>\n",
       "      <th>4</th>\n",
       "      <td>000000000100</td>\n",
       "      <td>-0.000002</td>\n",
       "      <td>00000100</td>\n",
       "      <td>-1</td>\n",
       "    </tr>\n",
       "    <tr>\n",
       "      <th>...</th>\n",
       "      <td>...</td>\n",
       "      <td>...</td>\n",
       "      <td>...</td>\n",
       "      <td>...</td>\n",
       "    </tr>\n",
       "    <tr>\n",
       "      <th>4091</th>\n",
       "      <td>111111111011</td>\n",
       "      <td>0.000000</td>\n",
       "      <td>11111011</td>\n",
       "      <td>1</td>\n",
       "    </tr>\n",
       "    <tr>\n",
       "      <th>4092</th>\n",
       "      <td>111111111100</td>\n",
       "      <td>-0.000001</td>\n",
       "      <td>11111100</td>\n",
       "      <td>-1</td>\n",
       "    </tr>\n",
       "    <tr>\n",
       "      <th>4093</th>\n",
       "      <td>111111111101</td>\n",
       "      <td>-0.000023</td>\n",
       "      <td>11111101</td>\n",
       "      <td>-1</td>\n",
       "    </tr>\n",
       "    <tr>\n",
       "      <th>4094</th>\n",
       "      <td>111111111110</td>\n",
       "      <td>0.000002</td>\n",
       "      <td>11111110</td>\n",
       "      <td>1</td>\n",
       "    </tr>\n",
       "    <tr>\n",
       "      <th>4095</th>\n",
       "      <td>111111111111</td>\n",
       "      <td>0.000000</td>\n",
       "      <td>11111111</td>\n",
       "      <td>1</td>\n",
       "    </tr>\n",
       "  </tbody>\n",
       "</table>\n",
       "<p>4096 rows × 4 columns</p>\n",
       "</div>"
      ],
      "text/plain": [
       "             state    module    lambda  sign\n",
       "0     000000000000  0.000000  00000000     1\n",
       "1     000000000001  0.000002  00000001     1\n",
       "2     000000000010  0.000000  00000010     1\n",
       "3     000000000011 -0.000016  00000011    -1\n",
       "4     000000000100 -0.000002  00000100    -1\n",
       "...            ...       ...       ...   ...\n",
       "4091  111111111011  0.000000  11111011     1\n",
       "4092  111111111100 -0.000001  11111100    -1\n",
       "4093  111111111101 -0.000023  11111101    -1\n",
       "4094  111111111110  0.000002  11111110     1\n",
       "4095  111111111111  0.000000  11111111     1\n",
       "\n",
       "[4096 rows x 4 columns]"
      ]
     },
     "execution_count": 46,
     "metadata": {},
     "output_type": "execute_result"
    }
   ],
   "source": [
    "df['module']=df['module'].multiply(np.array(list(sign_dictionary.values())), axis=0)\n",
    "#df['module']=df['module'].multiply(np.array(sign), axis=0)\n",
    "df=df.fillna(0)\n",
    "df"
   ]
  },
  {
   "cell_type": "code",
   "execution_count": 47,
   "metadata": {},
   "outputs": [],
   "source": [
    "#df['st']=sim_statevector"
   ]
  },
  {
   "cell_type": "code",
   "execution_count": 1903,
   "metadata": {},
   "outputs": [
    {
     "data": {
      "text/html": [
       "<div>\n",
       "<style scoped>\n",
       "    .dataframe tbody tr th:only-of-type {\n",
       "        vertical-align: middle;\n",
       "    }\n",
       "\n",
       "    .dataframe tbody tr th {\n",
       "        vertical-align: top;\n",
       "    }\n",
       "\n",
       "    .dataframe thead th {\n",
       "        text-align: right;\n",
       "    }\n",
       "</style>\n",
       "<table border=\"1\" class=\"dataframe\">\n",
       "  <thead>\n",
       "    <tr style=\"text-align: right;\">\n",
       "      <th></th>\n",
       "      <th>state</th>\n",
       "      <th>module</th>\n",
       "      <th>lambda</th>\n",
       "      <th>sign</th>\n",
       "    </tr>\n",
       "  </thead>\n",
       "  <tbody>\n",
       "    <tr>\n",
       "      <th>120</th>\n",
       "      <td>0000001111000</td>\n",
       "      <td>0.000000</td>\n",
       "      <td>001111000</td>\n",
       "      <td>1</td>\n",
       "    </tr>\n",
       "    <tr>\n",
       "      <th>376</th>\n",
       "      <td>0000101111000</td>\n",
       "      <td>0.000000</td>\n",
       "      <td>101111000</td>\n",
       "      <td>1</td>\n",
       "    </tr>\n",
       "    <tr>\n",
       "      <th>632</th>\n",
       "      <td>0001001111000</td>\n",
       "      <td>0.000000</td>\n",
       "      <td>001111000</td>\n",
       "      <td>1</td>\n",
       "    </tr>\n",
       "    <tr>\n",
       "      <th>888</th>\n",
       "      <td>0001101111000</td>\n",
       "      <td>-0.000001</td>\n",
       "      <td>101111000</td>\n",
       "      <td>-1</td>\n",
       "    </tr>\n",
       "    <tr>\n",
       "      <th>1144</th>\n",
       "      <td>0010001111000</td>\n",
       "      <td>0.000007</td>\n",
       "      <td>001111000</td>\n",
       "      <td>1</td>\n",
       "    </tr>\n",
       "    <tr>\n",
       "      <th>1400</th>\n",
       "      <td>0010101111000</td>\n",
       "      <td>0.000002</td>\n",
       "      <td>101111000</td>\n",
       "      <td>1</td>\n",
       "    </tr>\n",
       "    <tr>\n",
       "      <th>1656</th>\n",
       "      <td>0011001111000</td>\n",
       "      <td>0.000000</td>\n",
       "      <td>001111000</td>\n",
       "      <td>1</td>\n",
       "    </tr>\n",
       "    <tr>\n",
       "      <th>1912</th>\n",
       "      <td>0011101111000</td>\n",
       "      <td>-0.000001</td>\n",
       "      <td>101111000</td>\n",
       "      <td>-1</td>\n",
       "    </tr>\n",
       "    <tr>\n",
       "      <th>2168</th>\n",
       "      <td>0100001111000</td>\n",
       "      <td>0.000000</td>\n",
       "      <td>001111000</td>\n",
       "      <td>1</td>\n",
       "    </tr>\n",
       "    <tr>\n",
       "      <th>2424</th>\n",
       "      <td>0100101111000</td>\n",
       "      <td>0.000000</td>\n",
       "      <td>101111000</td>\n",
       "      <td>1</td>\n",
       "    </tr>\n",
       "    <tr>\n",
       "      <th>2680</th>\n",
       "      <td>0101001111000</td>\n",
       "      <td>0.000004</td>\n",
       "      <td>001111000</td>\n",
       "      <td>1</td>\n",
       "    </tr>\n",
       "    <tr>\n",
       "      <th>2936</th>\n",
       "      <td>0101101111000</td>\n",
       "      <td>-0.000006</td>\n",
       "      <td>101111000</td>\n",
       "      <td>-1</td>\n",
       "    </tr>\n",
       "    <tr>\n",
       "      <th>3192</th>\n",
       "      <td>0110001111000</td>\n",
       "      <td>0.000000</td>\n",
       "      <td>001111000</td>\n",
       "      <td>1</td>\n",
       "    </tr>\n",
       "    <tr>\n",
       "      <th>3448</th>\n",
       "      <td>0110101111000</td>\n",
       "      <td>-0.000001</td>\n",
       "      <td>101111000</td>\n",
       "      <td>-1</td>\n",
       "    </tr>\n",
       "    <tr>\n",
       "      <th>3704</th>\n",
       "      <td>0111001111000</td>\n",
       "      <td>0.000001</td>\n",
       "      <td>001111000</td>\n",
       "      <td>1</td>\n",
       "    </tr>\n",
       "    <tr>\n",
       "      <th>3960</th>\n",
       "      <td>0111101111000</td>\n",
       "      <td>0.000000</td>\n",
       "      <td>101111000</td>\n",
       "      <td>1</td>\n",
       "    </tr>\n",
       "    <tr>\n",
       "      <th>4216</th>\n",
       "      <td>1000001111000</td>\n",
       "      <td>0.000000</td>\n",
       "      <td>001111000</td>\n",
       "      <td>1</td>\n",
       "    </tr>\n",
       "    <tr>\n",
       "      <th>4472</th>\n",
       "      <td>1000101111000</td>\n",
       "      <td>0.000002</td>\n",
       "      <td>101111000</td>\n",
       "      <td>1</td>\n",
       "    </tr>\n",
       "    <tr>\n",
       "      <th>4728</th>\n",
       "      <td>1001001111000</td>\n",
       "      <td>0.000000</td>\n",
       "      <td>001111000</td>\n",
       "      <td>1</td>\n",
       "    </tr>\n",
       "    <tr>\n",
       "      <th>4984</th>\n",
       "      <td>1001101111000</td>\n",
       "      <td>0.000001</td>\n",
       "      <td>101111000</td>\n",
       "      <td>1</td>\n",
       "    </tr>\n",
       "    <tr>\n",
       "      <th>5240</th>\n",
       "      <td>1010001111000</td>\n",
       "      <td>0.000000</td>\n",
       "      <td>001111000</td>\n",
       "      <td>1</td>\n",
       "    </tr>\n",
       "    <tr>\n",
       "      <th>5496</th>\n",
       "      <td>1010101111000</td>\n",
       "      <td>0.000000</td>\n",
       "      <td>101111000</td>\n",
       "      <td>1</td>\n",
       "    </tr>\n",
       "    <tr>\n",
       "      <th>5752</th>\n",
       "      <td>1011001111000</td>\n",
       "      <td>0.000000</td>\n",
       "      <td>001111000</td>\n",
       "      <td>1</td>\n",
       "    </tr>\n",
       "    <tr>\n",
       "      <th>6008</th>\n",
       "      <td>1011101111000</td>\n",
       "      <td>-0.000001</td>\n",
       "      <td>101111000</td>\n",
       "      <td>-1</td>\n",
       "    </tr>\n",
       "    <tr>\n",
       "      <th>6264</th>\n",
       "      <td>1100001111000</td>\n",
       "      <td>0.000000</td>\n",
       "      <td>001111000</td>\n",
       "      <td>1</td>\n",
       "    </tr>\n",
       "    <tr>\n",
       "      <th>6520</th>\n",
       "      <td>1100101111000</td>\n",
       "      <td>0.000000</td>\n",
       "      <td>101111000</td>\n",
       "      <td>1</td>\n",
       "    </tr>\n",
       "    <tr>\n",
       "      <th>6776</th>\n",
       "      <td>1101001111000</td>\n",
       "      <td>0.000000</td>\n",
       "      <td>001111000</td>\n",
       "      <td>1</td>\n",
       "    </tr>\n",
       "    <tr>\n",
       "      <th>7032</th>\n",
       "      <td>1101101111000</td>\n",
       "      <td>0.000000</td>\n",
       "      <td>101111000</td>\n",
       "      <td>1</td>\n",
       "    </tr>\n",
       "    <tr>\n",
       "      <th>7288</th>\n",
       "      <td>1110001111000</td>\n",
       "      <td>0.000000</td>\n",
       "      <td>001111000</td>\n",
       "      <td>1</td>\n",
       "    </tr>\n",
       "    <tr>\n",
       "      <th>7544</th>\n",
       "      <td>1110101111000</td>\n",
       "      <td>0.000000</td>\n",
       "      <td>101111000</td>\n",
       "      <td>1</td>\n",
       "    </tr>\n",
       "    <tr>\n",
       "      <th>7800</th>\n",
       "      <td>1111001111000</td>\n",
       "      <td>0.000000</td>\n",
       "      <td>001111000</td>\n",
       "      <td>1</td>\n",
       "    </tr>\n",
       "    <tr>\n",
       "      <th>8056</th>\n",
       "      <td>1111101111000</td>\n",
       "      <td>0.000000</td>\n",
       "      <td>101111000</td>\n",
       "      <td>1</td>\n",
       "    </tr>\n",
       "  </tbody>\n",
       "</table>\n",
       "</div>"
      ],
      "text/plain": [
       "              state    module     lambda  sign\n",
       "120   0000001111000  0.000000  001111000     1\n",
       "376   0000101111000  0.000000  101111000     1\n",
       "632   0001001111000  0.000000  001111000     1\n",
       "888   0001101111000 -0.000001  101111000    -1\n",
       "1144  0010001111000  0.000007  001111000     1\n",
       "1400  0010101111000  0.000002  101111000     1\n",
       "1656  0011001111000  0.000000  001111000     1\n",
       "1912  0011101111000 -0.000001  101111000    -1\n",
       "2168  0100001111000  0.000000  001111000     1\n",
       "2424  0100101111000  0.000000  101111000     1\n",
       "2680  0101001111000  0.000004  001111000     1\n",
       "2936  0101101111000 -0.000006  101111000    -1\n",
       "3192  0110001111000  0.000000  001111000     1\n",
       "3448  0110101111000 -0.000001  101111000    -1\n",
       "3704  0111001111000  0.000001  001111000     1\n",
       "3960  0111101111000  0.000000  101111000     1\n",
       "4216  1000001111000  0.000000  001111000     1\n",
       "4472  1000101111000  0.000002  101111000     1\n",
       "4728  1001001111000  0.000000  001111000     1\n",
       "4984  1001101111000  0.000001  101111000     1\n",
       "5240  1010001111000  0.000000  001111000     1\n",
       "5496  1010101111000  0.000000  101111000     1\n",
       "5752  1011001111000  0.000000  001111000     1\n",
       "6008  1011101111000 -0.000001  101111000    -1\n",
       "6264  1100001111000  0.000000  001111000     1\n",
       "6520  1100101111000  0.000000  101111000     1\n",
       "6776  1101001111000  0.000000  001111000     1\n",
       "7032  1101101111000  0.000000  101111000     1\n",
       "7288  1110001111000  0.000000  001111000     1\n",
       "7544  1110101111000  0.000000  101111000     1\n",
       "7800  1111001111000  0.000000  001111000     1\n",
       "8056  1111101111000  0.000000  101111000     1"
      ]
     },
     "execution_count": 1903,
     "metadata": {},
     "output_type": "execute_result"
    }
   ],
   "source": [
    "df.query(\"state.str.endswith('01111000')\")"
   ]
  },
  {
   "cell_type": "code",
   "execution_count": 48,
   "metadata": {},
   "outputs": [
    {
     "name": "stdout",
     "output_type": "stream",
     "text": [
      "[0.25962858 0.16350229 0.25997115 0.26188165 0.22871161 0.14505516\n",
      " 0.22937306 0.23244784 0.18666548 0.1173925  0.18645375 0.18802128\n",
      " 0.24911242 0.15783853 0.24990998 0.25394881]\n",
      "1.1601599478918088\n",
      "[array([0.30121068, 0.18968881, 0.30160812, 0.3038246 , 0.26534205,\n",
      "       0.16828719, 0.26610944, 0.26967668, 0.21656181, 0.13619408,\n",
      "       0.21631617, 0.21813475, 0.28901026, 0.18311794, 0.28993555,\n",
      "       0.29462124]), array([0.03062679, 0.07269113, 0.06031584, 0.01808314, 0.07658982,\n",
      "       0.17735276, 0.14441953, 0.04257934, 0.0222486 , 0.05048762,\n",
      "       0.04012481, 0.01256981, 0.04123106, 0.09468368, 0.07721399,\n",
      "       0.02209072]), array([0.0338969 , 0.01923538, 0.00141421, 0.02109502, 0.08651012,\n",
      "       0.053066  , 0.00264575, 0.04928489, 0.03201562, 0.02068816,\n",
      "       0.00282843, 0.01766352, 0.06180615, 0.03757659, 0.003     ,\n",
      "       0.03292416]), array([0.00374166, 0.00479583, 0.00714143, 0.00556776, 0.00244949,\n",
      "       0.00806226, 0.01931321, 0.02332381, 0.00591608, 0.02170253,\n",
      "       0.03461214, 0.042     , 0.005     , 0.02140093, 0.03635932,\n",
      "       0.04398863])]\n",
      "[0.03062679 0.07269113 0.06031584 0.01808314 0.07658982 0.17735276\n",
      " 0.14441953 0.04257934 0.0222486  0.05048762 0.04012481 0.01256981\n",
      " 0.04123106 0.09468368 0.07721399 0.02209072]\n",
      "3.2950404788324072\n",
      "[array([0.30121068, 0.18968881, 0.30160812, 0.3038246 , 0.26534205,\n",
      "       0.16828719, 0.26610944, 0.26967668, 0.21656181, 0.13619408,\n",
      "       0.21631617, 0.21813475, 0.28901026, 0.18311794, 0.28993555,\n",
      "       0.29462124]), array([ 0.1009165 ,  0.23952021, -0.19874312, -0.05958468,  0.25236655,\n",
      "        0.58438451, -0.47586819, -0.14030064, -0.07331002, -0.16635876,\n",
      "        0.13221286,  0.04141802,  0.135858  ,  0.31198657, -0.25442322,\n",
      "       -0.07278982]), array([0.0338969 , 0.01923538, 0.00141421, 0.02109502, 0.08651012,\n",
      "       0.053066  , 0.00264575, 0.04928489, 0.03201562, 0.02068816,\n",
      "       0.00282843, 0.01766352, 0.06180615, 0.03757659, 0.003     ,\n",
      "       0.03292416]), array([0.00374166, 0.00479583, 0.00714143, 0.00556776, 0.00244949,\n",
      "       0.00806226, 0.01931321, 0.02332381, 0.00591608, 0.02170253,\n",
      "       0.03461214, 0.042     , 0.005     , 0.02140093, 0.03635932,\n",
      "       0.04398863])]\n",
      "[0.0338969  0.01923538 0.00141421 0.02109502 0.08651012 0.053066\n",
      " 0.00264575 0.04928489 0.03201562 0.02068816 0.00282843 0.01766352\n",
      " 0.06180615 0.03757659 0.003      0.03292416]\n",
      "6.622661785325219\n",
      "[array([0.30121068, 0.18968881, 0.30160812, 0.3038246 , 0.26534205,\n",
      "       0.16828719, 0.26610944, 0.26967668, 0.21656181, 0.13619408,\n",
      "       0.21631617, 0.21813475, 0.28901026, 0.18311794, 0.28993555,\n",
      "       0.29462124]), array([ 0.1009165 ,  0.23952021, -0.19874312, -0.05958468,  0.25236655,\n",
      "        0.58438451, -0.47586819, -0.14030064, -0.07331002, -0.16635876,\n",
      "        0.13221286,  0.04141802,  0.135858  ,  0.31198657, -0.25442322,\n",
      "       -0.07278982]), array([ 0.22448772, -0.12738944,  0.00936586, -0.1397052 , -0.57292723,\n",
      "        0.35143815,  0.01752192,  0.32639713,  0.21202863, -0.13701069,\n",
      "       -0.01873172, -0.11697953, -0.40932122,  0.24885704,  0.01986799,\n",
      "        0.21804554]), array([0.00374166, 0.00479583, 0.00714143, 0.00556776, 0.00244949,\n",
      "       0.00806226, 0.01931321, 0.02332381, 0.00591608, 0.02170253,\n",
      "       0.03461214, 0.042     , 0.005     , 0.02140093, 0.03635932,\n",
      "       0.04398863])]\n",
      "[0.00374166 0.00479583 0.00714143 0.00556776 0.00244949 0.00806226\n",
      " 0.01931321 0.02332381 0.00591608 0.02170253 0.03461214 0.042\n",
      " 0.005      0.02140093 0.03635932 0.04398863]\n",
      "10.966520965218518\n",
      "[array([0.30121068, 0.18968881, 0.30160812, 0.3038246 , 0.26534205,\n",
      "       0.16828719, 0.26610944, 0.26967668, 0.21656181, 0.13619408,\n",
      "       0.21631617, 0.21813475, 0.28901026, 0.18311794, 0.28993555,\n",
      "       0.29462124]), array([ 0.1009165 ,  0.23952021, -0.19874312, -0.05958468,  0.25236655,\n",
      "        0.58438451, -0.47586819, -0.14030064, -0.07331002, -0.16635876,\n",
      "        0.13221286,  0.04141802,  0.135858  ,  0.31198657, -0.25442322,\n",
      "       -0.07278982]), array([ 0.22448772, -0.12738944,  0.00936586, -0.1397052 , -0.57292723,\n",
      "        0.35143815,  0.01752192,  0.32639713,  0.21202863, -0.13701069,\n",
      "       -0.01873172, -0.11697953, -0.40932122,  0.24885704,  0.01986799,\n",
      "        0.21804554]), array([ 0.04103296, -0.05259359, -0.07831662,  0.061059  ,  0.02686238,\n",
      "       -0.08841492, -0.2117987 ,  0.25578102, -0.06487881,  0.2380013 ,\n",
      "        0.37957472, -0.46059388,  0.0548326 , -0.2346938 , -0.39873522,\n",
      "        0.48240229])]\n"
     ]
    }
   ],
   "source": [
    "a=[]\n",
    "save_sign=[]\n",
    "eigenvalues=[]\n",
    "for l in lambdas:\n",
    "    eigenvalues.append(int(l[::-1],base=2)/(2**resolution))\n",
    "    a_=np.array(df.query(\"state.str.endswith(@l)\")['module'].values)\n",
    "    #print(a_)\n",
    "    save_sign.append(np.sign(a_))\n",
    "    #print(save_sign)\n",
    "    \n",
    "    a.append(np.sqrt(abs(a_)))\n",
    "\n",
    "#a=[a1,a2]\n",
    "\n",
    "for i in range(len(a)):\n",
    "    print(a[i])\n",
    "    normalization_factor=np.sqrt((1/(sum(a[i]**2))))\n",
    "    print(normalization_factor)\n",
    "    a[i]*=normalization_factor\n",
    "    a[i]*=save_sign[i]\n",
    "    \n",
    "    print(a)"
   ]
  },
  {
   "cell_type": "code",
   "execution_count": 49,
   "metadata": {},
   "outputs": [
    {
     "data": {
      "text/plain": [
       "[0.69921875, 0.19921875, 0.05859375, 0.0390625]"
      ]
     },
     "execution_count": 49,
     "metadata": {},
     "output_type": "execute_result"
    }
   ],
   "source": [
    "eigenvalues"
   ]
  },
  {
   "cell_type": "code",
   "execution_count": 50,
   "metadata": {},
   "outputs": [
    {
     "name": "stdout",
     "output_type": "stream",
     "text": [
      "reconstructed_eigenvector: [0.54646065 0.34413611 0.54718169 0.55120287]\n",
      "reconstructed_eigenvalue: 0.69921875\n",
      "reconstructed_eigenvector: [ 0.33012806  0.76445046 -0.62249709 -0.18353137]\n",
      "reconstructed_eigenvalue: 0.19921875\n",
      "reconstructed_eigenvector: [-0.75691957  0.46430052  0.02314898  0.43121772]\n",
      "reconstructed_eigenvalue: 0.05859375\n",
      "reconstructed_eigenvector: [ 0.07894674 -0.3379068  -0.57408992  0.69455186]\n",
      "reconstructed_eigenvalue: 0.0390625\n"
     ]
    }
   ],
   "source": [
    "#TODO: Capire se fare la media tra i vari fattori di rescaling\n",
    "eigenvectors=[]\n",
    "for ll, eig in zip(a,eigenvalues):\n",
    "    \n",
    "    eigenvector=np.zeros(len(example_matrix1)) #put length of eigenvector\n",
    "    save_sign=np.sign(ll)\n",
    "    sv=abs(ll)\n",
    "    max_list=[]\n",
    "    scaled_statevectors=[]\n",
    "    for e,i in enumerate(range(0,len(sv),len(example_matrix1))):\n",
    "        max_list.append(max(sv[i:i+len(example_matrix1)]))\n",
    "        scaled_statevectors.append(sv[i:i+len(example_matrix1)]/max_list[e])\n",
    "        #print(max_list,scaled_statevectors)\n",
    "    idx_max=np.argmax(max_list)\n",
    "    #print(idx_max)\n",
    "    max_max=max_list[idx_max]\n",
    "    #print(max_max)\n",
    "    value=np.sqrt(max_max)\n",
    "    #eigenvector=scaled_statevectors[idx_max]*value*save_sign[:len(example_matrix)]\n",
    "    eigenvector=scaled_statevectors[idx_max]*value*save_sign[len(example_matrix1)*idx_max:len(example_matrix1)*idx_max+len(example_matrix1)]\n",
    "    eigenvectors.append((eig,eigenvector))\n",
    "    print('reconstructed_eigenvector:',eigenvector)\n",
    "    print('reconstructed_eigenvalue:', eig)\n",
    "    "
   ]
  },
  {
   "cell_type": "code",
   "execution_count": 51,
   "metadata": {},
   "outputs": [
    {
     "data": {
      "text/plain": [
       "((array([8.95523896e-01, 3.04204531e-04, 5.56768217e-02, 4.84950778e-02]),\n",
       "  array([[-0.54010974, -0.31079311, -0.76691778,  0.15338266],\n",
       "         [-0.34101425, -0.72369209,  0.45528741, -0.39075876],\n",
       "         [-0.54078131,  0.59128095,  0.021657  , -0.59789078],\n",
       "         [-0.54730826,  0.17339042,  0.45175377,  0.68286746]])),\n",
       " (array([0.7 , 0.2 , 0.06, 0.04]),\n",
       "  array([[-0.54010974, -0.31079311, -0.76691778,  0.15338266],\n",
       "         [-0.34101425, -0.72369209,  0.45528741, -0.39075876],\n",
       "         [-0.54078131,  0.59128095,  0.021657  , -0.59789078],\n",
       "         [-0.54730826,  0.17339042,  0.45175377,  0.68286746]])))"
      ]
     },
     "execution_count": 51,
     "metadata": {},
     "output_type": "execute_result"
    }
   ],
   "source": [
    "np.linalg.eig(example_matrix1),np.linalg.eig(example_matrix2)"
   ]
  },
  {
   "cell_type": "code",
   "execution_count": null,
   "metadata": {},
   "outputs": [],
   "source": []
  }
 ],
 "metadata": {
  "kernelspec": {
   "display_name": "Python 3 (ipykernel)",
   "language": "python",
   "name": "python3"
  },
  "language_info": {
   "codemirror_mode": {
    "name": "ipython",
    "version": 3
   },
   "file_extension": ".py",
   "mimetype": "text/x-python",
   "name": "python",
   "nbconvert_exporter": "python",
   "pygments_lexer": "ipython3",
   "version": "3.8.11"
  },
  "vscode": {
   "interpreter": {
    "hash": "3820477eeda6a2056d25dbf35341ad4ea495fec12a885dc74045ce43b88b4168"
   }
  }
 },
 "nbformat": 4,
 "nbformat_minor": 4
}
