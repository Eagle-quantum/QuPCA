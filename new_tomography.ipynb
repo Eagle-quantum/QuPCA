{
 "cells": [
  {
   "cell_type": "markdown",
   "metadata": {},
   "source": [
    "### Example taken from *A Low-Complexity Quantum Principal Component Analysis Algorithm*\n",
    "https://doi.org/10.1109/TQE.2021.3140152"
   ]
  },
  {
   "cell_type": "code",
   "execution_count": 1,
   "metadata": {},
   "outputs": [
    {
     "data": {
      "text/plain": [
       "'example_matrix=np.random.rand(3,3)\\n\\n\\nexample_matrix=np.dot(example_matrix,example_matrix.T)\\n#example_matrix=np.array([[1.5,0.5],[0.5,1.5]])\\n#example_matrix=np.array([[0,0,0,0],[0.,1.,0,0],[0.,0.,2,0],[0.,0,0,3]])\\nsum_squares = (example_matrix**2).sum()\\ninput_probabilities = (example_matrix**2/sum_squares).flatten()\\n\\nprint(input_probabilities)'"
      ]
     },
     "execution_count": 1,
     "metadata": {},
     "output_type": "execute_result"
    }
   ],
   "source": [
    "import numpy as np\n",
    "import itertools\n",
    "from qiskit_experiments.library import StateTomography\n",
    "from qiskit.visualization import plot_state_city,array_to_latex\n",
    "import qiskit.quantum_info as qi\n",
    "from qiskit.visualization import plot_histogram\n",
    "from qiskit.circuit.library.standard_gates import RYGate\n",
    "from qiskit import Aer, transpile, execute\n",
    "from qiskit import QuantumRegister, ClassicalRegister, QuantumCircuit\n",
    "from qiskit.algorithms.linear_solvers.matrices.numpy_matrix import NumPyMatrix\n",
    "from qiskit.circuit.library import PhaseEstimation\n",
    "import matplotlib.pyplot as plt\n",
    "from qiskit import BasicAer, execute\n",
    "import scipy as sc\n",
    "import pandas as pd\n",
    "from QPCA.decomposition.Qpca import QPCA\n",
    "from qiskit.circuit.library.data_preparation.state_preparation import *\n",
    "from QPCA.preprocessingUtilities.preprocessing_matrix_utilities import generate_matrix\n",
    "#9329 con 6 res\n",
    "#seed 10 con resolution 5\n",
    "#6476 cambiando eigenvalues a 0.55 e 0.45 ris=7\n",
    "# 12 con 4x4 matrix e risoluzione 7\n",
    "#500  4x4 cambiando autovalori.\n",
    "#4524\n",
    "#8908\n",
    "#4747 res 8\n",
    "#6752\n",
    "np.random.seed(19)\n",
    "\n",
    "'''example_matrix=np.random.rand(3,3)\n",
    "\n",
    "\n",
    "example_matrix=np.dot(example_matrix,example_matrix.T)\n",
    "#example_matrix=np.array([[1.5,0.5],[0.5,1.5]])\n",
    "#example_matrix=np.array([[0,0,0,0],[0.,1.,0,0],[0.,0.,2,0],[0.,0,0,3]])\n",
    "sum_squares = (example_matrix**2).sum()\n",
    "input_probabilities = (example_matrix**2/sum_squares).flatten()\n",
    "\n",
    "print(input_probabilities)'''"
   ]
  },
  {
   "cell_type": "code",
   "execution_count": 2,
   "metadata": {},
   "outputs": [
    {
     "name": "stdout",
     "output_type": "stream",
     "text": [
      "Matrix:\n",
      " [[0.59 0.13]\n",
      " [0.13 0.08]]\n",
      "\n",
      "eigenvalue: 0.04912229458049476 - eigenvector: [-0.233  0.973]\n",
      "eigenvalue: 0.6199503657038241 - eigenvector: [0.973 0.233]\n"
     ]
    }
   ],
   "source": [
    "example_matrix=generate_matrix(matrix_dimension=2,replicate_paper=False,seed=19)"
   ]
  },
  {
   "cell_type": "code",
   "execution_count": 3,
   "metadata": {},
   "outputs": [
    {
     "data": {
      "text/plain": [
       "(array([[0.88034375, 0.19315908],\n",
       "        [0.19315908, 0.11965625]]),\n",
       " (array([0.92658152, 0.07341848]),\n",
       "  array([[ 0.9725247 , -0.23279972],\n",
       "         [ 0.23279972,  0.9725247 ]])))"
      ]
     },
     "execution_count": 3,
     "metadata": {},
     "output_type": "execute_result"
    }
   ],
   "source": [
    "example_matrix1=example_matrix/np.trace(example_matrix)\n",
    "example_matrix1,np.linalg.eig(example_matrix1)"
   ]
  },
  {
   "cell_type": "code",
   "execution_count": 4,
   "metadata": {},
   "outputs": [],
   "source": [
    "sum_squares = (example_matrix**2).sum()\n",
    "input_probabilities = (example_matrix**2/sum_squares).flatten()"
   ]
  },
  {
   "cell_type": "code",
   "execution_count": 5,
   "metadata": {},
   "outputs": [
    {
     "name": "stdout",
     "output_type": "stream",
     "text": [
      "[0.89705523 0.04318619 0.04318619 0.0165724 ]\n"
     ]
    }
   ],
   "source": [
    "print(input_probabilities)"
   ]
  },
  {
   "cell_type": "code",
   "execution_count": 6,
   "metadata": {},
   "outputs": [],
   "source": [
    "#Tommaso's great code for computing the thetas\n",
    "def thetas_computation(example_matrix):\n",
    "    lst_combination=[]\n",
    "\n",
    "    for k in range(1, int(np.ceil(np.log2(len(example_matrix)**2)))+1):\n",
    "        lst_combination.append(list(map(list, itertools.product([0, 1], repeat=k))))\n",
    "    container=[]\n",
    "    for lst in lst_combination:\n",
    "        container.append([''.join([''.join(str(j)) for j in i]) for i in lst])\n",
    "    all_combinations=[item for c in container for item in c]\n",
    "\n",
    "    general_bitstring=[''.join([''.join(str(j)) for j in i]) for i in list(map(list, itertools.product([0, 1], repeat=int(np.ceil(np.log2(len(example_matrix)**2))))))][:len(input_probabilities)]\n",
    "    \n",
    "    #Nodes contains all the values of the tree (except for the root)\n",
    "    nodes=[]\n",
    "    for st in all_combinations:\n",
    "        #print(st)\n",
    "        starts = [general_bitstring.index(l) for l in general_bitstring if l.startswith(st)]\n",
    "        #print(starts)\n",
    "        print(st,'->',np.sqrt(input_probabilities[starts].sum()))\n",
    "        nodes.append(np.sqrt(input_probabilities[starts].sum()))\n",
    "    \n",
    "    #add root tree\n",
    "    nodes.insert(0, 1)\n",
    "    thetas=[]\n",
    "\n",
    "    idx=0\n",
    "    for i in range(1,len(nodes),2):\n",
    "        \n",
    "        right_node=i\n",
    "        left_node=right_node+1\n",
    "        if nodes[idx]!=0:\n",
    "            thetas.append(2*np.arccos(nodes[right_node]/nodes[idx]))\n",
    "            thetas.append(2*np.arcsin(nodes[left_node]/nodes[idx]))\n",
    "        else:\n",
    "            thetas.append(0)\n",
    "            thetas.append(0)\n",
    "\n",
    "        idx+=1\n",
    "    return thetas, all_combinations\n",
    "\n",
    "# SUB = str.maketrans(\"0123456789\", \"₀₁₂₃₄₅₆₇₈₉\")\n",
    "\n",
    "# for idx,th in zip(all_combinations,thetas):\n",
    "#     print('\\u03F4(R{})'.format((str(idx).translate(SUB))),'->', th)\n",
    "#thetas"
   ]
  },
  {
   "cell_type": "code",
   "execution_count": 7,
   "metadata": {},
   "outputs": [],
   "source": [
    "def generate_qram_circuit(thetas, all_combinations):\n",
    "    \n",
    "    right_nodes_indexes=list(range(0,len(thetas),2))\n",
    "    rotations_list=list(zip(np.array(all_combinations)[right_nodes_indexes],np.array(thetas)[right_nodes_indexes]))\n",
    "\n",
    "    #qc=QuantumCircuit(len(example_matrix))\n",
    "    qc=QuantumCircuit(int(np.ceil(np.log2(len(example_matrix)**2))))\n",
    "\n",
    "    for r_l in rotations_list:\n",
    "        target_qubit=len(r_l[0])-1\n",
    "        \n",
    "        #First case of R_0\n",
    "        if target_qubit==0:\n",
    "            qc.ry(theta=r_l[1],qubit=target_qubit)\n",
    "            continue\n",
    "            \n",
    "        not_gate=[]\n",
    "        for qb in range(target_qubit):\n",
    "            if r_l[0][qb]=='0':\n",
    "                not_gate.append(qb)\n",
    "                \n",
    "        c_t_qubits=list(range(len(r_l[0])))\n",
    "        n_controls=len(range(target_qubit))\n",
    "        \n",
    "        if len(not_gate)>0:\n",
    "            qc.x(not_gate)\n",
    "            c_ry = RYGate(r_l[1]).control(n_controls)\n",
    "            qc.append(c_ry, c_t_qubits)\n",
    "            qc.x(not_gate)\n",
    "        else:\n",
    "            c_ry = RYGate(r_l[1]).control(n_controls)\n",
    "            qc.append(c_ry, c_t_qubits)\n",
    "    return qc"
   ]
  },
  {
   "cell_type": "code",
   "execution_count": 8,
   "metadata": {},
   "outputs": [
    {
     "name": "stdout",
     "output_type": "stream",
     "text": [
      "0 -> 0.9696604633240288\n",
      "1 -> 0.24445569305342432\n",
      "00 -> 0.9471299950763292\n",
      "01 -> 0.20781286428054138\n",
      "10 -> 0.20781286428054138\n",
      "11 -> 0.1287338312400718\n"
     ]
    },
    {
     "data": {
      "image/png": "[encoded data removed]",
      "text/plain": [
       "<Figure size 387.452x144.48 with 1 Axes>"
      ]
     },
     "execution_count": 8,
     "metadata": {},
     "output_type": "execute_result"
    }
   ],
   "source": [
    "thetas, all_combinations = thetas_computation(example_matrix1)\n",
    "matrix_circuit = generate_qram_circuit(thetas, all_combinations)\n",
    "matrix_circuit.draw('mpl')"
   ]
  },
  {
   "cell_type": "code",
   "execution_count": 9,
   "metadata": {},
   "outputs": [
    {
     "name": "stderr",
     "output_type": "stream",
     "text": [
      "/opt/miniconda3/envs/EAGLE_environment/lib/python3.8/site-packages/numpy/linalg/linalg.py:2139: RuntimeWarning: divide by zero encountered in det\n",
      "  r = _umath_linalg.det(a, signature=signature)\n",
      "/opt/miniconda3/envs/EAGLE_environment/lib/python3.8/site-packages/numpy/linalg/linalg.py:2139: RuntimeWarning: invalid value encountered in det\n",
      "  r = _umath_linalg.det(a, signature=signature)\n"
     ]
    },
    {
     "data": {
      "text/plain": [
       "{'00': 0.897055227573288,\n",
       " '01': 0.043186186560483,\n",
       " '10': 0.043186186560483,\n",
       " '11': 0.016572399305747}"
      ]
     },
     "execution_count": 9,
     "metadata": {},
     "output_type": "execute_result"
    }
   ],
   "source": [
    "#Check matrix encoding\n",
    "backend = Aer.get_backend(\"statevector_simulator\")\n",
    "job = backend.run(transpile(matrix_circuit, backend=backend))\n",
    "job.result().get_counts()"
   ]
  },
  {
   "cell_type": "code",
   "execution_count": 167,
   "metadata": {},
   "outputs": [
    {
     "name": "stderr",
     "output_type": "stream",
     "text": [
      "/var/folders/rr/g930v2cj1wvdzc257kclm3lm0000gn/T/ipykernel_4825/2942357963.py:4: DeprecationWarning: The NumPyMatrix class is deprecated as of Qiskit Terra 0.22.0 and will be removed no sooner than 3 months after the release date. \n",
      "  u_circuit = NumPyMatrix(example_matrix1, evolution_time=2*np.pi)\n"
     ]
    },
    {
     "data": {
      "text/plain": [
       "Operator([[ 8.95473769e-01-0.39686772j, -2.46828593e-17-0.20155084j],\n",
       "          [-2.46828593e-17-0.20155084j,  8.95473769e-01+0.39686772j]],\n",
       "         input_dims=(2,), output_dims=(2,))"
      ]
     },
     "execution_count": 167,
     "metadata": {},
     "output_type": "execute_result"
    }
   ],
   "source": [
    "#Unitary for PE\n",
    "resolution = 3\n",
    "unitary_backend = Aer.get_backend(\"unitary_simulator\")\n",
    "u_circuit = NumPyMatrix(example_matrix1, evolution_time=2*np.pi)\n",
    "unitary_job = unitary_backend.run(transpile(u_circuit, backend=unitary_backend))\n",
    "unitary_job.result().get_unitary()"
   ]
  },
  {
   "cell_type": "code",
   "execution_count": 168,
   "metadata": {},
   "outputs": [
    {
     "data": {
      "image/png": "[encoded data removed]",
      "text/plain": [
       "<Figure size 839.715x264.88 with 1 Axes>"
      ]
     },
     "execution_count": 168,
     "metadata": {},
     "output_type": "execute_result"
    }
   ],
   "source": [
    "#PE circuit\n",
    "pe = PhaseEstimation(resolution, u_circuit, name = \"PE\")\n",
    "pe.decompose().draw(\"mpl\")"
   ]
  },
  {
   "cell_type": "markdown",
   "metadata": {},
   "source": [
    "# Check Statevector"
   ]
  },
  {
   "cell_type": "code",
   "execution_count": 169,
   "metadata": {},
   "outputs": [
    {
     "data": {
      "image/png": "[encoded data removed]",
      "text/plain": [
       "<Figure size 482.267x325.08 with 1 Axes>"
      ]
     },
     "execution_count": 169,
     "metadata": {},
     "output_type": "execute_result"
    }
   ],
   "source": [
    "tot_qubit = resolution+len(example_matrix1)\n",
    "\n",
    "qr_total_sim = QuantumRegister(tot_qubit, 'total')\n",
    "# classical = ClassicalRegister(4, 'measure')\n",
    "\n",
    "total_circuit_sim = QuantumCircuit(qr_total_sim , name='matrix')\n",
    "\n",
    "total_circuit_sim.append(matrix_circuit.to_gate(), qr_total_sim[resolution:])\n",
    "total_circuit_sim.append(pe.to_gate(), qr_total_sim[0:pe.num_qubits])\n",
    "# total_circuit.measure(qr_total[:2], classical[:])\n",
    "#total_circuit.swap(qr_total[0],qr_total[1])\n",
    "#total_circuit.measure_all()\n",
    "\n",
    "total_circuit_sim.decompose(reps=1).draw(\"mpl\")"
   ]
  },
  {
   "cell_type": "code",
   "execution_count": 266,
   "metadata": {},
   "outputs": [
    {
     "name": "stdout",
     "output_type": "stream",
     "text": [
      "Statevector([-0.02180733-4.93516136e-01j,  0.11694962-5.07472444e-03j,\n",
      "              0.09087367-9.90699696e-02j,  0.15922228+1.45934966e-01j,\n",
      "              0.06779396-1.85519842e-01j,  0.1317776 +4.79927130e-02j,\n",
      "              0.10477238-4.88111828e-02j,  0.2975478 +6.38064176e-01j,\n",
      "             -0.00478482-1.28078386e-01j,  0.02566029-1.31700357e-03j,\n",
      "              0.01856819-2.07974107e-02j,  0.03630617+3.29599168e-02j,\n",
      "              0.0102673 -3.16299733e-02j,  0.02945533+1.05138229e-02j,\n",
      "              0.02244687-1.07262339e-02j,  0.06989352+1.49075267e-01j,\n",
      "             -0.00478482-1.28078386e-01j,  0.02566029-1.31700357e-03j,\n",
      "              0.01856819-2.07974107e-02j,  0.03630617+3.29599168e-02j,\n",
      "              0.0102673 -3.16299733e-02j,  0.02945533+1.05138229e-02j,\n",
      "              0.02244687-1.07262339e-02j,  0.06989352+1.49075267e-01j,\n",
      "             -0.00296405+1.08744846e-02j,  0.01589578+1.11820078e-04j,\n",
      "              0.01774953-1.71668536e-02j,  0.01624349+1.61341971e-02j,\n",
      "              0.02735989-6.09565776e-02j,  0.0157784 +6.58780616e-03j,\n",
      "              0.01637345-6.56977142e-03j,  0.02229733+5.09848947e-02j],\n",
      "            dims=(2, 2, 2, 2, 2))\n"
     ]
    },
    {
     "name": "stderr",
     "output_type": "stream",
     "text": [
      "/opt/miniconda3/envs/EAGLE_environment/lib/python3.8/site-packages/numpy/linalg/linalg.py:2139: RuntimeWarning: divide by zero encountered in det\n",
      "  r = _umath_linalg.det(a, signature=signature)\n",
      "/opt/miniconda3/envs/EAGLE_environment/lib/python3.8/site-packages/numpy/linalg/linalg.py:2139: RuntimeWarning: invalid value encountered in det\n",
      "  r = _umath_linalg.det(a, signature=signature)\n"
     ]
    }
   ],
   "source": [
    "aer_back=Aer.get_backend('statevector_simulator')\n",
    "st=aer_back.run(transpile(total_circuit_sim,aer_back)).result().get_statevector()\n",
    "print(st)"
   ]
  },
  {
   "cell_type": "code",
   "execution_count": 269,
   "metadata": {},
   "outputs": [
    {
     "name": "stderr",
     "output_type": "stream",
     "text": [
      "/var/folders/rr/g930v2cj1wvdzc257kclm3lm0000gn/T/ipykernel_4825/1621592731.py:2: DeprecationWarning: The return type of saved statevectors has been changed from a `numpy.ndarray` to a `qiskit.quantum_info.Statevector` as of qiskit-aer 0.10. Accessing numpy array attributes is deprecated and will result in an error in a future release. To continue using saved result objects as arrays you can explicitly cast them using  `np.asarray(object)`.\n",
      "  return list(zip(bitstrings, vector))\n"
     ]
    },
    {
     "data": {
      "text/plain": [
       "[('00000', (-0.02180732505198514-0.49351613556052054j)),\n",
       " ('00001', (0.11694961641467072-0.0050747244402920555j)),\n",
       " ('00010', (0.09087367191628418-0.09906996958187494j)),\n",
       " ('00011', (0.15922228341326122+0.1459349655997j)),\n",
       " ('00100', (0.06779396181590747-0.185519842397488j)),\n",
       " ('00101', (0.1317776028907286+0.047992713046637395j)),\n",
       " ('00110', (0.10477238414524744-0.04881118279539398j)),\n",
       " ('00111', (0.2975477995322151+0.6380641761292324j)),\n",
       " ('01000', (-0.004784815922744183-0.12807838565969315j)),\n",
       " ('01001', (0.025660294669143775-0.0013170035732310431j)),\n",
       " ('01010', (0.018568191891769975-0.02079741068159814j)),\n",
       " ('01011', (0.03630617286512127+0.03295991683166276j)),\n",
       " ('01100', (0.010267301482622991-0.03162997334922993j)),\n",
       " ('01101', (0.02945532664116768+0.010513822858719912j)),\n",
       " ('01110', (0.02244687327544398-0.010726233915985511j)),\n",
       " ('01111', (0.06989351937801577+0.14907526748935518j)),\n",
       " ('10000', (-0.004784815922744214-0.1280783856596931j)),\n",
       " ('10001', (0.025660294669143838-0.0013170035732310431j)),\n",
       " ('10010', (0.018568191891770044-0.020797410681598162j)),\n",
       " ('10011', (0.03630617286512132+0.03295991683166283j)),\n",
       " ('10100', (0.010267301482623073-0.03162997334923016j)),\n",
       " ('10101', (0.02945532664116774+0.010513822858719938j)),\n",
       " ('10110', (0.022446873275444-0.010726233915985553j)),\n",
       " ('10111', (0.06989351937801577+0.14907526748935535j)),\n",
       " ('11000', (-0.0029640498322654795+0.010874484611727558j)),\n",
       " ('11001', (0.015895782269997702+0.0001118200781257744j)),\n",
       " ('11010', (0.01774953176158351-0.017166853629582778j)),\n",
       " ('11011', (0.01624348997206301+0.016134197063155244j)),\n",
       " ('11100', (0.027359890636437116-0.06095657755403798j)),\n",
       " ('11101', (0.015778401344028335+0.006587806162650867j)),\n",
       " ('11110', (0.016373453490298135-0.006569771419616774j)),\n",
       " ('11111', (0.02229733159792939+0.0509848946875781j))]"
      ]
     },
     "execution_count": 269,
     "metadata": {},
     "output_type": "execute_result"
    }
   ],
   "source": [
    "bitstrings=[''.join([''.join(str(j)) for j in i]) for i in list(map(list, itertools.product([0, 1], repeat=resolution+len(example_matrix1))))]\n",
    "sim_statevector=attach_bitstrings(st)\n",
    "sim_statevector"
   ]
  },
  {
   "cell_type": "markdown",
   "metadata": {},
   "source": [
    "# Grover"
   ]
  },
  {
   "cell_type": "code",
   "execution_count": 170,
   "metadata": {},
   "outputs": [],
   "source": [
    "from qiskit.algorithms import AmplificationProblem\n",
    "from qiskit.circuit.library import GroverOperator\n"
   ]
  },
  {
   "cell_type": "code",
   "execution_count": 171,
   "metadata": {},
   "outputs": [
    {
     "data": {
      "text/plain": [
       "['00000',\n",
       " '00001',\n",
       " '00010',\n",
       " '00011',\n",
       " '00100',\n",
       " '00101',\n",
       " '00110',\n",
       " '00111',\n",
       " '01000',\n",
       " '01001',\n",
       " '01010',\n",
       " '01011',\n",
       " '01100',\n",
       " '01101',\n",
       " '01110',\n",
       " '01111',\n",
       " '10000',\n",
       " '10001',\n",
       " '10010',\n",
       " '10011',\n",
       " '10100',\n",
       " '10101',\n",
       " '10110',\n",
       " '10111',\n",
       " '11000',\n",
       " '11001',\n",
       " '11010',\n",
       " '11011',\n",
       " '11100',\n",
       " '11101',\n",
       " '11110',\n",
       " '11111']"
      ]
     },
     "execution_count": 171,
     "metadata": {},
     "output_type": "execute_result"
    }
   ],
   "source": [
    "general_bitstring=[''.join([''.join(str(j)) for j in i]) for i in list(map(list, itertools.product([0, 1], repeat=len(example_matrix1)+resolution)))]\n",
    "general_bitstring"
   ]
  },
  {
   "cell_type": "code",
   "execution_count": 172,
   "metadata": {},
   "outputs": [
    {
     "data": {
      "text/plain": [
       "[0.0,\n",
       " 0.125,\n",
       " 0.25,\n",
       " 0.375,\n",
       " 0.5,\n",
       " 0.625,\n",
       " 0.75,\n",
       " 0.875,\n",
       " 0.0,\n",
       " 0.125,\n",
       " 0.25,\n",
       " 0.375,\n",
       " 0.5,\n",
       " 0.625,\n",
       " 0.75,\n",
       " 0.875,\n",
       " 0.0,\n",
       " 0.125,\n",
       " 0.25,\n",
       " 0.375,\n",
       " 0.5,\n",
       " 0.625,\n",
       " 0.75,\n",
       " 0.875,\n",
       " 0.0,\n",
       " 0.125,\n",
       " 0.25,\n",
       " 0.375,\n",
       " 0.5,\n",
       " 0.625,\n",
       " 0.75,\n",
       " 0.875]"
      ]
     },
     "execution_count": 172,
     "metadata": {},
     "output_type": "execute_result"
    }
   ],
   "source": [
    "decimal_bitstring=[int(g_b[-resolution:],base=2)/(2**resolution) for g_b in general_bitstring]\n",
    "decimal_bitstring"
   ]
  },
  {
   "cell_type": "code",
   "execution_count": 173,
   "metadata": {},
   "outputs": [
    {
     "data": {
      "text/plain": [
       "array(['00100', '00101', '00110', '00111', '01100', '01101', '01110',\n",
       "       '01111', '10100', '10101', '10110', '10111', '11100', '11101',\n",
       "       '11110', '11111'], dtype='<U5')"
      ]
     },
     "execution_count": 173,
     "metadata": {},
     "output_type": "execute_result"
    }
   ],
   "source": [
    "threshold=0.5\n",
    "good_states=np.array(general_bitstring)[np.array(decimal_bitstring)>=threshold]\n",
    "good_states"
   ]
  },
  {
   "cell_type": "code",
   "execution_count": 174,
   "metadata": {},
   "outputs": [
    {
     "name": "stdout",
     "output_type": "stream",
     "text": [
      "Statevector([0.+0.j, 0.+0.j, 0.+0.j, 0.+0.j, 1.+0.j, 1.+0.j, 1.+0.j,\n",
      "             1.+0.j, 0.+0.j, 0.+0.j, 0.+0.j, 0.+0.j, 1.+0.j, 1.+0.j,\n",
      "             1.+0.j, 1.+0.j, 0.+0.j, 0.+0.j, 0.+0.j, 0.+0.j, 1.+0.j,\n",
      "             1.+0.j, 1.+0.j, 1.+0.j, 0.+0.j, 0.+0.j, 0.+0.j, 0.+0.j,\n",
      "             1.+0.j, 1.+0.j, 1.+0.j, 1.+0.j],\n",
      "            dims=(2, 2, 2, 2, 2))\n"
     ]
    }
   ],
   "source": [
    "init_statevector=Statevector.from_label(good_states[0])\n",
    "\n",
    "for g in good_states[1:]:\n",
    "    st=Statevector.from_label(g)\n",
    "    init_statevector+=st\n",
    "init_statevector"
   ]
  },
  {
   "cell_type": "code",
   "execution_count": 175,
   "metadata": {},
   "outputs": [
    {
     "name": "stdout",
     "output_type": "stream",
     "text": [
      "Statevector([0.  +0.j, 0.  +0.j, 0.  +0.j, 0.  +0.j, 0.25+0.j, 0.25+0.j,\n",
      "             0.25+0.j, 0.25+0.j, 0.  +0.j, 0.  +0.j, 0.  +0.j, 0.  +0.j,\n",
      "             0.25+0.j, 0.25+0.j, 0.25+0.j, 0.25+0.j, 0.  +0.j, 0.  +0.j,\n",
      "             0.  +0.j, 0.  +0.j, 0.25+0.j, 0.25+0.j, 0.25+0.j, 0.25+0.j,\n",
      "             0.  +0.j, 0.  +0.j, 0.  +0.j, 0.  +0.j, 0.25+0.j, 0.25+0.j,\n",
      "             0.25+0.j, 0.25+0.j],\n",
      "            dims=(2, 2, 2, 2, 2))\n"
     ]
    }
   ],
   "source": [
    "normalized_statevector=init_statevector/np.sqrt(np.sum(np.array(init_statevector)**2))\n",
    "normalized_statevector"
   ]
  },
  {
   "cell_type": "code",
   "execution_count": 244,
   "metadata": {},
   "outputs": [
    {
     "data": {
      "text/html": [
       "<pre style=\"word-wrap: normal;white-space: pre;background: #fff0;line-height: 1.1;font-family: &quot;Courier New&quot;,Courier,monospace\">     ┌────────────┐          \n",
       "q_0: ┤ Ry(2.2143) ├──■───────\n",
       "     └────────────┘┌─┴─┐┌───┐\n",
       "q_1: ──────────────┤ H ├┤ X ├\n",
       "         ┌───┐     └───┘└───┘\n",
       "q_2: ────┤ H ├───────────────\n",
       "     ┌───┴───┴────┐          \n",
       "q_3: ┤ Ry(2.2143) ├──────────\n",
       "     ├────────────┤          \n",
       "q_4: ┤ Ry(2.2143) ├──────────\n",
       "     └────────────┘          </pre>"
      ],
      "text/plain": [
       "     ┌────────────┐          \n",
       "q_0: ┤ Ry(2.2143) ├──■───────\n",
       "     └────────────┘┌─┴─┐┌───┐\n",
       "q_1: ──────────────┤ H ├┤ X ├\n",
       "         ┌───┐     └───┘└───┘\n",
       "q_2: ────┤ H ├───────────────\n",
       "     ┌───┴───┴────┐          \n",
       "q_3: ┤ Ry(2.2143) ├──────────\n",
       "     ├────────────┤          \n",
       "q_4: ┤ Ry(2.2143) ├──────────\n",
       "     └────────────┘          "
      ]
     },
     "execution_count": 244,
     "metadata": {},
     "output_type": "execute_result"
    }
   ],
   "source": [
    "oracle = QuantumCircuit(3)\n",
    "oracle.ccz(0, 1, 2)\n",
    "\n",
    "theta = 2 * np.arccos(1 / np.sqrt(5))\n",
    "state_preparation = QuantumCircuit(5)\n",
    "state_preparation.ry(theta, 0)\n",
    "state_preparation.ch(0,1)\n",
    "state_preparation.x(1)\n",
    "state_preparation.h(2)\n",
    "state_preparation.ry(theta,3)\n",
    "state_preparation.ry(theta,4)\n",
    "state_preparation.draw()"
   ]
  },
  {
   "cell_type": "code",
   "execution_count": 302,
   "metadata": {},
   "outputs": [
    {
     "data": {
      "image/png": "[encoded data removed]",
      "text/plain": [
       "<Figure size 1110x325.08 with 1 Axes>"
      ]
     },
     "metadata": {},
     "output_type": "display_data"
    }
   ],
   "source": [
    "from qiskit.circuit.library.phase_oracle import PhaseOracle\n",
    "expression = '(a & b & c & d & e) | (e & d & b & ~a & c)| (~e & d & b & ~a & c)'\n",
    "#expression = '(c & d & e) | (~c&d&e)'\n",
    "phaseOracle=PhaseOracle(expression)\n",
    "'''state_preparation=QuantumCircuit(5)\n",
    "for i in range(5):\n",
    "    state_preparation.h(i)'''\n",
    "groverOperator=GroverOperator(oracle=phaseOracle,insert_barriers=True)\n",
    "expression_problem = AmplificationProblem(phaseOracle,grover_operator=groverOperator)\n",
    "display(expression_problem.grover_operator.oracle.decompose().draw(output='mpl'))"
   ]
  },
  {
   "cell_type": "code",
   "execution_count": 180,
   "metadata": {},
   "outputs": [
    {
     "data": {
      "text/html": [
       "<pre style=\"word-wrap: normal;white-space: pre;background: #fff0;line-height: 1.1;font-family: &quot;Courier New&quot;,Courier,monospace\">     ┌───┐\n",
       "q_0: ┤ H ├\n",
       "     ├───┤\n",
       "q_1: ┤ H ├\n",
       "     ├───┤\n",
       "q_2: ┤ H ├\n",
       "     ├───┤\n",
       "q_3: ┤ H ├\n",
       "     ├───┤\n",
       "q_4: ┤ H ├\n",
       "     └───┘</pre>"
      ],
      "text/plain": [
       "     ┌───┐\n",
       "q_0: ┤ H ├\n",
       "     ├───┤\n",
       "q_1: ┤ H ├\n",
       "     ├───┤\n",
       "q_2: ┤ H ├\n",
       "     ├───┤\n",
       "q_3: ┤ H ├\n",
       "     ├───┤\n",
       "q_4: ┤ H ├\n",
       "     └───┘"
      ]
     },
     "execution_count": 180,
     "metadata": {},
     "output_type": "execute_result"
    }
   ],
   "source": [
    "state_preparation.draw()"
   ]
  },
  {
   "cell_type": "code",
   "execution_count": 110,
   "metadata": {
    "collapsed": true,
    "jupyter": {
     "outputs_hidden": true,
     "source_hidden": true
    }
   },
   "outputs": [
    {
     "data": {
      "image/png": "[encoded data removed]",
      "text/plain": [
       "<Figure size 848.514x325.08 with 1 Axes>"
      ]
     },
     "execution_count": 110,
     "metadata": {},
     "output_type": "execute_result"
    }
   ],
   "source": [
    "groverOperator=GroverOperator(oracle=normalized_statevector,state_preparation=state_preparation,reflection_qubits=[0,1,2],insert_barriers=True)\n",
    "problem=AmplificationProblem(oracle=normalized_statevector,state_preparation=state_preparation,is_good_state=list(good_states),grover_operator=groverOperator)\n",
    "\n",
    "problem.grover_operator.decompose().draw(output='mpl')"
   ]
  },
  {
   "cell_type": "code",
   "execution_count": 33,
   "metadata": {
    "jupyter": {
     "source_hidden": true
    }
   },
   "outputs": [],
   "source": [
    "from qiskit.algorithms import Grover\n",
    "from qiskit.primitives import Sampler"
   ]
  },
  {
   "cell_type": "code",
   "execution_count": 115,
   "metadata": {
    "collapsed": true,
    "jupyter": {
     "outputs_hidden": true,
     "source_hidden": true
    }
   },
   "outputs": [
    {
     "name": "stdout",
     "output_type": "stream",
     "text": [
      "Result type: <class 'qiskit.algorithms.amplitude_amplifiers.grover.GroverResult'>\n",
      "\n",
      "Failure!\n",
      "Top measurement: 00000\n"
     ]
    }
   ],
   "source": [
    "\n",
    "grover = Grover(sampler=Sampler(),iterations=2)\n",
    "result = grover.amplify(problem)\n",
    "print('Result type:', type(result))\n",
    "print()\n",
    "print('Success!' if result.oracle_evaluation else 'Failure!')\n",
    "print('Top measurement:', result.top_measurement)"
   ]
  },
  {
   "cell_type": "code",
   "execution_count": 116,
   "metadata": {
    "collapsed": true,
    "jupyter": {
     "outputs_hidden": true,
     "source_hidden": true
    }
   },
   "outputs": [
    {
     "data": {
      "text/plain": [
       "[{'00000': 0.031249999999999837,\n",
       "  '00001': 0.031249999999999837,\n",
       "  '00010': 0.031249999999999837,\n",
       "  '00011': 0.031249999999999837,\n",
       "  '00100': 0.031249999999999837,\n",
       "  '00101': 0.031249999999999837,\n",
       "  '00110': 0.031249999999999837,\n",
       "  '00111': 0.031249999999999837,\n",
       "  '01000': 0.031249999999999837,\n",
       "  '01001': 0.031249999999999837,\n",
       "  '01010': 0.031249999999999837,\n",
       "  '01011': 0.031249999999999837,\n",
       "  '01100': 0.031249999999999837,\n",
       "  '01101': 0.031249999999999837,\n",
       "  '01110': 0.031249999999999837,\n",
       "  '01111': 0.031249999999999837,\n",
       "  '10000': 0.031249999999999837,\n",
       "  '10001': 0.031249999999999837,\n",
       "  '10010': 0.031249999999999837,\n",
       "  '10011': 0.031249999999999837,\n",
       "  '10100': 0.031249999999999837,\n",
       "  '10101': 0.031249999999999837,\n",
       "  '10110': 0.031249999999999837,\n",
       "  '10111': 0.031249999999999837,\n",
       "  '11000': 0.031249999999999837,\n",
       "  '11001': 0.031249999999999837,\n",
       "  '11010': 0.031249999999999837,\n",
       "  '11011': 0.031249999999999837,\n",
       "  '11100': 0.031249999999999837,\n",
       "  '11101': 0.031249999999999837,\n",
       "  '11110': 0.031249999999999837,\n",
       "  '11111': 0.031249999999999837}]"
      ]
     },
     "execution_count": 116,
     "metadata": {},
     "output_type": "execute_result"
    }
   ],
   "source": [
    "result.circuit_results"
   ]
  },
  {
   "cell_type": "code",
   "execution_count": 306,
   "metadata": {},
   "outputs": [
    {
     "data": {
      "text/plain": [
       "2.565099660323728"
      ]
     },
     "execution_count": 306,
     "metadata": {},
     "output_type": "execute_result"
    }
   ],
   "source": [
    "(np.pi/4)*np.sqrt((2**5)/3)"
   ]
  },
  {
   "cell_type": "code",
   "execution_count": 311,
   "metadata": {},
   "outputs": [
    {
     "name": "stdout",
     "output_type": "stream",
     "text": [
      "Result type: <class 'qiskit.algorithms.amplitude_amplifiers.grover.GroverResult'>\n",
      "\n",
      "Failure!\n",
      "Top measurement: 00000\n"
     ]
    }
   ],
   "source": [
    "\n",
    "grover = Grover(sampler=Sampler(),iterations=2)\n",
    "result_1 = grover.amplify(expression_problem)\n",
    "print('Result type:', type(result))\n",
    "print()\n",
    "print('Success!' if result.oracle_evaluation else 'Failure!')\n",
    "print('Top measurement:', result.top_measurement)"
   ]
  },
  {
   "cell_type": "code",
   "execution_count": 312,
   "metadata": {},
   "outputs": [
    {
     "data": {
      "text/plain": [
       "[{'00000': 7.629394531250114e-06,\n",
       "  '00001': 7.629394531250102e-06,\n",
       "  '00010': 7.629394531250762e-06,\n",
       "  '00011': 7.629394531250468e-06,\n",
       "  '00100': 7.6293945312497976e-06,\n",
       "  '00101': 7.629394531249876e-06,\n",
       "  '00110': 7.629394531250398e-06,\n",
       "  '00111': 7.6293945312498645e-06,\n",
       "  '01000': 7.629394531250401e-06,\n",
       "  '01001': 7.629394531250234e-06,\n",
       "  '01010': 7.62939453125043e-06,\n",
       "  '01011': 7.629394531250495e-06,\n",
       "  '01100': 7.6293945312501e-06,\n",
       "  '01101': 7.629394531250612e-06,\n",
       "  '01110': 0.3332595825195289,\n",
       "  '01111': 7.629394531250737e-06,\n",
       "  '10000': 7.62939453125122e-06,\n",
       "  '10001': 7.629394531250418e-06,\n",
       "  '10010': 7.629394531250615e-06,\n",
       "  '10011': 7.629394531250493e-06,\n",
       "  '10100': 7.629394531250056e-06,\n",
       "  '10101': 7.629394531250427e-06,\n",
       "  '10110': 7.629394531250495e-06,\n",
       "  '10111': 7.629394531250884e-06,\n",
       "  '11000': 7.629394531250593e-06,\n",
       "  '11001': 7.629394531250612e-06,\n",
       "  '11010': 7.629394531249567e-06,\n",
       "  '11011': 7.629394531250954e-06,\n",
       "  '11100': 7.629394531250554e-06,\n",
       "  '11101': 7.629394531250856e-06,\n",
       "  '11110': 0.3332595825195279,\n",
       "  '11111': 0.3332595825195282}]"
      ]
     },
     "execution_count": 312,
     "metadata": {},
     "output_type": "execute_result"
    }
   ],
   "source": [
    "result_1.circuit_results"
   ]
  },
  {
   "cell_type": "code",
   "execution_count": 16,
   "metadata": {},
   "outputs": [],
   "source": [
    "# Create the first operator for tomography\n",
    "op_U=total_circuit_sim.to_gate(label='op_U').control()"
   ]
  },
  {
   "cell_type": "code",
   "execution_count": 17,
   "metadata": {},
   "outputs": [],
   "source": [
    "backend_total = Aer.get_backend(\"statevector_simulator\")\n",
    "job = backend_total.run(transpile(total_circuit_sim, backend=backend_total))\n",
    "statevector = np.asarray(job.result().get_statevector()).round(4)\n",
    "#plot_histogram(counts)"
   ]
  },
  {
   "cell_type": "code",
   "execution_count": 267,
   "metadata": {},
   "outputs": [],
   "source": [
    "def attach_bitstrings(vector):\n",
    "    return list(zip(bitstrings, vector))"
   ]
  },
  {
   "cell_type": "code",
   "execution_count": 19,
   "metadata": {},
   "outputs": [],
   "source": [
    "bitstrings=[''.join([''.join(str(j)) for j in i]) for i in list(map(list, itertools.product([0, 1], repeat=resolution+len(example_matrix1))))]\n",
    "sim_statevector=attach_bitstrings(statevector)\n"
   ]
  },
  {
   "cell_type": "code",
   "execution_count": 20,
   "metadata": {},
   "outputs": [
    {
     "data": {
      "text/plain": [
       "8"
      ]
     },
     "execution_count": 20,
     "metadata": {},
     "output_type": "execute_result"
    }
   ],
   "source": [
    "int(np.log2(len(sim_statevector))-4)"
   ]
  },
  {
   "cell_type": "code",
   "execution_count": 21,
   "metadata": {},
   "outputs": [
    {
     "data": {
      "image/png": "[encoded data removed]",
      "text/plain": [
       "<Figure size 1097.25x806.68 with 1 Axes>"
      ]
     },
     "execution_count": 21,
     "metadata": {},
     "output_type": "execute_result"
    }
   ],
   "source": [
    "tot_qubit = resolution+len(example_matrix1)\n",
    "#print(tot_qubit)\n",
    "qr_total = QuantumRegister(tot_qubit, 'total')\n",
    "\n",
    "total_circuit = QuantumCircuit(qr_total, name='matrix')\n",
    "\n",
    "total_circuit.append(matrix_circuit.to_gate(), qr_total[resolution:])\n",
    "total_circuit.append(pe.to_gate(), qr_total[0:pe.num_qubits])\n",
    "#total_circuit.barrier()\n",
    "total_circuit.measure_all()\n",
    "total_circuit.draw(\"mpl\")"
   ]
  },
  {
   "cell_type": "code",
   "execution_count": 22,
   "metadata": {},
   "outputs": [
    {
     "data": {
      "image/png": "[encoded data removed]",
      "text/plain": [
       "<Figure size 504x360 with 1 Axes>"
      ]
     },
     "execution_count": 22,
     "metadata": {},
     "output_type": "execute_result"
    }
   ],
   "source": [
    "n_shots=1000000\n",
    "backend_total = Aer.get_backend(\"qasm_simulator\")\n",
    "job = backend_total.run(transpile(total_circuit, backend=backend_total), shots=n_shots)\n",
    "counts = job.result().get_counts()\n",
    "plot_histogram(counts)"
   ]
  },
  {
   "cell_type": "code",
   "execution_count": 23,
   "metadata": {},
   "outputs": [],
   "source": [
    "for i in counts:\n",
    "    counts[i]/=n_shots\n",
    "#counts"
   ]
  },
  {
   "cell_type": "code",
   "execution_count": 24,
   "metadata": {},
   "outputs": [],
   "source": [
    "statevector=np.zeros(2**tot_qubit)\n",
    "for i in counts:\n",
    "    statevector[int(i,2)]=counts[i]\n",
    "#statevector"
   ]
  },
  {
   "cell_type": "code",
   "execution_count": 25,
   "metadata": {},
   "outputs": [],
   "source": [
    "#Create second operator tomography\n",
    "op_V = StatePreparation(np.sqrt(statevector),label='c_V').control()"
   ]
  },
  {
   "cell_type": "code",
   "execution_count": 26,
   "metadata": {},
   "outputs": [
    {
     "data": {
      "image/png": "[encoded data removed]",
      "text/plain": [
       "<Figure size 1701.79x1769.88 with 1 Axes>"
      ]
     },
     "execution_count": 26,
     "metadata": {},
     "output_type": "execute_result"
    }
   ],
   "source": [
    "\n",
    "tot_qubit = resolution+len(example_matrix)\n",
    "\n",
    "qr_total_xi = QuantumRegister(tot_qubit, 'target')\n",
    "qr_control = QuantumRegister(1, 'control_qubit')\n",
    "\n",
    "total_circuit_2 = QuantumCircuit(qr_total_xi,qr_control, name='matrix')\n",
    "total_circuit_2.h(qr_control)\n",
    "total_circuit_2.x(qr_control)\n",
    "\n",
    "total_circuit_2.append(op_U, qr_control[:]+qr_total_xi[:])\n",
    "total_circuit_2.x(qr_control)\n",
    "total_circuit_2.append(op_V, qr_control[:]+qr_total_xi[:])\n",
    "total_circuit_2.h(qr_control)\n",
    "total_circuit_2.measure_all()\n",
    "total_circuit_2.draw(\"mpl\")"
   ]
  },
  {
   "cell_type": "code",
   "execution_count": 27,
   "metadata": {},
   "outputs": [
    {
     "data": {
      "image/png": "[encoded data removed]",
      "text/plain": [
       "<Figure size 504x360 with 1 Axes>"
      ]
     },
     "execution_count": 27,
     "metadata": {},
     "output_type": "execute_result"
    }
   ],
   "source": [
    "backend_total = Aer.get_backend(\"qasm_simulator\")\n",
    "job = backend_total.run(transpile(total_circuit_2, backend=backend_total), shots=n_shots)\n",
    "counts_for_sign = job.result().get_counts()\n",
    "plot_histogram(counts_for_sign)"
   ]
  },
  {
   "cell_type": "code",
   "execution_count": 28,
   "metadata": {},
   "outputs": [],
   "source": [
    "#Take only counts with control qubits equal to 0\n",
    "tmp=np.zeros(2**tot_qubit)\n",
    "for c in counts_for_sign:\n",
    "    if c[0]=='0':\n",
    "        tmp[int(c[1:],2)]=counts_for_sign[c]\n",
    "#tmp"
   ]
  },
  {
   "cell_type": "code",
   "execution_count": 92,
   "metadata": {},
   "outputs": [
    {
     "data": {
      "text/plain": [
       "'tmp_=tmp/(sum(tmp))\\n\\nsign_diff=[]\\nsign=[]\\nx_list=[]\\nfor i in range(len(tmp_)):\\n    x=(np.sqrt(statevector[i])*0.5)+(((statevector[i])/np.sqrt(statevector[i]))*0.5) - (tmp_[i]/(2*np.sqrt(statevector[i])))\\n    \\n    x_list.append(x)\\n    \\n    sign_diff.append(np.sign(x)+np.sign((sim_statevector[i][1].real)))\\n    sign.append(np.sign(x))\\n    '"
      ]
     },
     "execution_count": 92,
     "metadata": {},
     "output_type": "execute_result"
    }
   ],
   "source": [
    "###Metodo Nannicini\n",
    "\n",
    "'''tmp_=tmp/(sum(tmp))\n",
    "\n",
    "sign_diff=[]\n",
    "sign=[]\n",
    "x_list=[]\n",
    "for i in range(len(tmp_)):\n",
    "    x=(np.sqrt(statevector[i])*0.5)+(((statevector[i])/np.sqrt(statevector[i]))*0.5) - (tmp_[i]/(2*np.sqrt(statevector[i])))\n",
    "    \n",
    "    x_list.append(x)\n",
    "    \n",
    "    sign_diff.append(np.sign(x)+np.sign((sim_statevector[i][1].real)))\n",
    "    sign.append(np.sign(x))\n",
    "    '''"
   ]
  },
  {
   "cell_type": "code",
   "execution_count": 29,
   "metadata": {},
   "outputs": [],
   "source": [
    "#Sign estimation\n",
    "sign_dictionary={}\n",
    "sign=0\n",
    "for e, (count, prob) in enumerate(zip(tmp, statevector)):\n",
    "    if count>0.4*prob*n_shots:\n",
    "        sign=1\n",
    "    else:\n",
    "        sign=-1\n",
    "    if prob==0:\n",
    "        sign=1\n",
    "    sign_dictionary.update({bin(e)[2:].zfill(tot_qubit):sign})"
   ]
  },
  {
   "cell_type": "code",
   "execution_count": 30,
   "metadata": {},
   "outputs": [],
   "source": [
    "statevector_dictionary={}\n",
    "for e,key in enumerate(sign_dictionary):\n",
    "    statevector_dictionary[key]=sign_dictionary[key]*np.sqrt(statevector[e])\n",
    "\n",
    "#statevector_dictionary"
   ]
  },
  {
   "cell_type": "code",
   "execution_count": 31,
   "metadata": {},
   "outputs": [],
   "source": [
    "bitstrings=[''.join([''.join(str(j)) for j in i]) for i in list(map(list, itertools.product([0, 1], repeat=resolution+len(example_matrix1))))]\n",
    "ss=attach_bitstrings(statevector)\n",
    "#ss"
   ]
  },
  {
   "cell_type": "code",
   "execution_count": 32,
   "metadata": {},
   "outputs": [
    {
     "data": {
      "text/html": [
       "<div>\n",
       "<style scoped>\n",
       "    .dataframe tbody tr th:only-of-type {\n",
       "        vertical-align: middle;\n",
       "    }\n",
       "\n",
       "    .dataframe tbody tr th {\n",
       "        vertical-align: top;\n",
       "    }\n",
       "\n",
       "    .dataframe thead th {\n",
       "        text-align: right;\n",
       "    }\n",
       "</style>\n",
       "<table border=\"1\" class=\"dataframe\">\n",
       "  <thead>\n",
       "    <tr style=\"text-align: right;\">\n",
       "      <th></th>\n",
       "      <th>state</th>\n",
       "      <th>module</th>\n",
       "    </tr>\n",
       "  </thead>\n",
       "  <tbody>\n",
       "    <tr>\n",
       "      <th>0</th>\n",
       "      <td>000000000000</td>\n",
       "      <td>0.011017</td>\n",
       "    </tr>\n",
       "    <tr>\n",
       "      <th>1</th>\n",
       "      <td>000000000001</td>\n",
       "      <td>0.000002</td>\n",
       "    </tr>\n",
       "    <tr>\n",
       "      <th>2</th>\n",
       "      <td>000000000010</td>\n",
       "      <td>0.000002</td>\n",
       "    </tr>\n",
       "    <tr>\n",
       "      <th>3</th>\n",
       "      <td>000000000011</td>\n",
       "      <td>0.000003</td>\n",
       "    </tr>\n",
       "    <tr>\n",
       "      <th>4</th>\n",
       "      <td>000000000100</td>\n",
       "      <td>0.000042</td>\n",
       "    </tr>\n",
       "    <tr>\n",
       "      <th>...</th>\n",
       "      <td>...</td>\n",
       "      <td>...</td>\n",
       "    </tr>\n",
       "    <tr>\n",
       "      <th>4091</th>\n",
       "      <td>111111111011</td>\n",
       "      <td>0.000000</td>\n",
       "    </tr>\n",
       "    <tr>\n",
       "      <th>4092</th>\n",
       "      <td>111111111100</td>\n",
       "      <td>0.000000</td>\n",
       "    </tr>\n",
       "    <tr>\n",
       "      <th>4093</th>\n",
       "      <td>111111111101</td>\n",
       "      <td>0.000000</td>\n",
       "    </tr>\n",
       "    <tr>\n",
       "      <th>4094</th>\n",
       "      <td>111111111110</td>\n",
       "      <td>0.000000</td>\n",
       "    </tr>\n",
       "    <tr>\n",
       "      <th>4095</th>\n",
       "      <td>111111111111</td>\n",
       "      <td>0.000000</td>\n",
       "    </tr>\n",
       "  </tbody>\n",
       "</table>\n",
       "<p>4096 rows × 2 columns</p>\n",
       "</div>"
      ],
      "text/plain": [
       "             state    module\n",
       "0     000000000000  0.011017\n",
       "1     000000000001  0.000002\n",
       "2     000000000010  0.000002\n",
       "3     000000000011  0.000003\n",
       "4     000000000100  0.000042\n",
       "...            ...       ...\n",
       "4091  111111111011  0.000000\n",
       "4092  111111111100  0.000000\n",
       "4093  111111111101  0.000000\n",
       "4094  111111111110  0.000000\n",
       "4095  111111111111  0.000000\n",
       "\n",
       "[4096 rows x 2 columns]"
      ]
     },
     "execution_count": 32,
     "metadata": {},
     "output_type": "execute_result"
    }
   ],
   "source": [
    "df=pd.DataFrame(ss)\n",
    "\n",
    "df.columns=['state','module']\n",
    "df"
   ]
  },
  {
   "cell_type": "code",
   "execution_count": 33,
   "metadata": {},
   "outputs": [
    {
     "data": {
      "text/html": [
       "<div>\n",
       "<style scoped>\n",
       "    .dataframe tbody tr th:only-of-type {\n",
       "        vertical-align: middle;\n",
       "    }\n",
       "\n",
       "    .dataframe tbody tr th {\n",
       "        vertical-align: top;\n",
       "    }\n",
       "\n",
       "    .dataframe thead th {\n",
       "        text-align: right;\n",
       "    }\n",
       "</style>\n",
       "<table border=\"1\" class=\"dataframe\">\n",
       "  <thead>\n",
       "    <tr style=\"text-align: right;\">\n",
       "      <th></th>\n",
       "      <th>module</th>\n",
       "    </tr>\n",
       "    <tr>\n",
       "      <th>lambda</th>\n",
       "      <th></th>\n",
       "    </tr>\n",
       "  </thead>\n",
       "  <tbody>\n",
       "    <tr>\n",
       "      <th>00110111</th>\n",
       "      <td>0.374577</td>\n",
       "    </tr>\n",
       "    <tr>\n",
       "      <th>10000000</th>\n",
       "      <td>0.271382</td>\n",
       "    </tr>\n",
       "    <tr>\n",
       "      <th>11001000</th>\n",
       "      <td>0.140531</td>\n",
       "    </tr>\n",
       "    <tr>\n",
       "      <th>00000000</th>\n",
       "      <td>0.092162</td>\n",
       "    </tr>\n",
       "    <tr>\n",
       "      <th>00101000</th>\n",
       "      <td>0.021515</td>\n",
       "    </tr>\n",
       "    <tr>\n",
       "      <th>...</th>\n",
       "      <td>...</td>\n",
       "    </tr>\n",
       "    <tr>\n",
       "      <th>01111110</th>\n",
       "      <td>0.000003</td>\n",
       "    </tr>\n",
       "    <tr>\n",
       "      <th>01000110</th>\n",
       "      <td>0.000003</td>\n",
       "    </tr>\n",
       "    <tr>\n",
       "      <th>11111001</th>\n",
       "      <td>0.000003</td>\n",
       "    </tr>\n",
       "    <tr>\n",
       "      <th>01011110</th>\n",
       "      <td>0.000003</td>\n",
       "    </tr>\n",
       "    <tr>\n",
       "      <th>01100110</th>\n",
       "      <td>0.000002</td>\n",
       "    </tr>\n",
       "  </tbody>\n",
       "</table>\n",
       "<p>256 rows × 1 columns</p>\n",
       "</div>"
      ],
      "text/plain": [
       "            module\n",
       "lambda            \n",
       "00110111  0.374577\n",
       "10000000  0.271382\n",
       "11001000  0.140531\n",
       "00000000  0.092162\n",
       "00101000  0.021515\n",
       "...            ...\n",
       "01111110  0.000003\n",
       "01000110  0.000003\n",
       "11111001  0.000003\n",
       "01011110  0.000003\n",
       "01100110  0.000002\n",
       "\n",
       "[256 rows x 1 columns]"
      ]
     },
     "execution_count": 33,
     "metadata": {},
     "output_type": "execute_result"
    }
   ],
   "source": [
    "df['lambda']=df['state'].apply(lambda x: x[-resolution:])\n",
    "df1=df.groupby('lambda').agg({'module':'sum'})\n",
    "#df1['module_new']=df1['module'].apply(lambda x: np.sqrt(x.real**2 + x.imag**2))\n",
    "df1=df1.sort_values('module',ascending=False)\n",
    "df1"
   ]
  },
  {
   "cell_type": "code",
   "execution_count": 34,
   "metadata": {},
   "outputs": [
    {
     "data": {
      "text/html": [
       "<div>\n",
       "<style scoped>\n",
       "    .dataframe tbody tr th:only-of-type {\n",
       "        vertical-align: middle;\n",
       "    }\n",
       "\n",
       "    .dataframe tbody tr th {\n",
       "        vertical-align: top;\n",
       "    }\n",
       "\n",
       "    .dataframe thead th {\n",
       "        text-align: right;\n",
       "    }\n",
       "</style>\n",
       "<table border=\"1\" class=\"dataframe\">\n",
       "  <thead>\n",
       "    <tr style=\"text-align: right;\">\n",
       "      <th></th>\n",
       "      <th>lambda</th>\n",
       "      <th>module</th>\n",
       "    </tr>\n",
       "  </thead>\n",
       "  <tbody>\n",
       "    <tr>\n",
       "      <th>0</th>\n",
       "      <td>00110111</td>\n",
       "      <td>0.374577</td>\n",
       "    </tr>\n",
       "    <tr>\n",
       "      <th>1</th>\n",
       "      <td>10000000</td>\n",
       "      <td>0.271382</td>\n",
       "    </tr>\n",
       "    <tr>\n",
       "      <th>2</th>\n",
       "      <td>11001000</td>\n",
       "      <td>0.140531</td>\n",
       "    </tr>\n",
       "    <tr>\n",
       "      <th>3</th>\n",
       "      <td>00000000</td>\n",
       "      <td>0.092162</td>\n",
       "    </tr>\n",
       "    <tr>\n",
       "      <th>4</th>\n",
       "      <td>00101000</td>\n",
       "      <td>0.021515</td>\n",
       "    </tr>\n",
       "    <tr>\n",
       "      <th>...</th>\n",
       "      <td>...</td>\n",
       "      <td>...</td>\n",
       "    </tr>\n",
       "    <tr>\n",
       "      <th>251</th>\n",
       "      <td>01111110</td>\n",
       "      <td>0.000003</td>\n",
       "    </tr>\n",
       "    <tr>\n",
       "      <th>252</th>\n",
       "      <td>01000110</td>\n",
       "      <td>0.000003</td>\n",
       "    </tr>\n",
       "    <tr>\n",
       "      <th>253</th>\n",
       "      <td>11111001</td>\n",
       "      <td>0.000003</td>\n",
       "    </tr>\n",
       "    <tr>\n",
       "      <th>254</th>\n",
       "      <td>01011110</td>\n",
       "      <td>0.000003</td>\n",
       "    </tr>\n",
       "    <tr>\n",
       "      <th>255</th>\n",
       "      <td>01100110</td>\n",
       "      <td>0.000002</td>\n",
       "    </tr>\n",
       "  </tbody>\n",
       "</table>\n",
       "<p>256 rows × 2 columns</p>\n",
       "</div>"
      ],
      "text/plain": [
       "       lambda    module\n",
       "0    00110111  0.374577\n",
       "1    10000000  0.271382\n",
       "2    11001000  0.140531\n",
       "3    00000000  0.092162\n",
       "4    00101000  0.021515\n",
       "..        ...       ...\n",
       "251  01111110  0.000003\n",
       "252  01000110  0.000003\n",
       "253  11111001  0.000003\n",
       "254  01011110  0.000003\n",
       "255  01100110  0.000002\n",
       "\n",
       "[256 rows x 2 columns]"
      ]
     },
     "execution_count": 34,
     "metadata": {},
     "output_type": "execute_result"
    }
   ],
   "source": [
    "tail=df1.reset_index()\n",
    "tail"
   ]
  },
  {
   "cell_type": "code",
   "execution_count": 35,
   "metadata": {},
   "outputs": [],
   "source": [
    "tail['num']=tail['lambda'].apply(lambda x :int(x[::-1],base=2)/(2**resolution))"
   ]
  },
  {
   "cell_type": "code",
   "execution_count": 36,
   "metadata": {},
   "outputs": [
    {
     "data": {
      "text/html": [
       "<div>\n",
       "<style scoped>\n",
       "    .dataframe tbody tr th:only-of-type {\n",
       "        vertical-align: middle;\n",
       "    }\n",
       "\n",
       "    .dataframe tbody tr th {\n",
       "        vertical-align: top;\n",
       "    }\n",
       "\n",
       "    .dataframe thead th {\n",
       "        text-align: right;\n",
       "    }\n",
       "</style>\n",
       "<table border=\"1\" class=\"dataframe\">\n",
       "  <thead>\n",
       "    <tr style=\"text-align: right;\">\n",
       "      <th></th>\n",
       "      <th>lambda</th>\n",
       "      <th>module</th>\n",
       "      <th>num</th>\n",
       "    </tr>\n",
       "  </thead>\n",
       "  <tbody>\n",
       "    <tr>\n",
       "      <th>0</th>\n",
       "      <td>00110111</td>\n",
       "      <td>0.374577</td>\n",
       "      <td>0.921875</td>\n",
       "    </tr>\n",
       "    <tr>\n",
       "      <th>1</th>\n",
       "      <td>10000000</td>\n",
       "      <td>0.271382</td>\n",
       "      <td>0.003906</td>\n",
       "    </tr>\n",
       "    <tr>\n",
       "      <th>2</th>\n",
       "      <td>11001000</td>\n",
       "      <td>0.140531</td>\n",
       "      <td>0.074219</td>\n",
       "    </tr>\n",
       "    <tr>\n",
       "      <th>3</th>\n",
       "      <td>00000000</td>\n",
       "      <td>0.092162</td>\n",
       "      <td>0.000000</td>\n",
       "    </tr>\n",
       "    <tr>\n",
       "      <th>4</th>\n",
       "      <td>00101000</td>\n",
       "      <td>0.021515</td>\n",
       "      <td>0.078125</td>\n",
       "    </tr>\n",
       "    <tr>\n",
       "      <th>5</th>\n",
       "      <td>01000000</td>\n",
       "      <td>0.019760</td>\n",
       "      <td>0.007812</td>\n",
       "    </tr>\n",
       "    <tr>\n",
       "      <th>6</th>\n",
       "      <td>11111111</td>\n",
       "      <td>0.013775</td>\n",
       "      <td>0.996094</td>\n",
       "    </tr>\n",
       "    <tr>\n",
       "      <th>7</th>\n",
       "      <td>01001000</td>\n",
       "      <td>0.006876</td>\n",
       "      <td>0.070312</td>\n",
       "    </tr>\n",
       "    <tr>\n",
       "      <th>8</th>\n",
       "      <td>11000000</td>\n",
       "      <td>0.006539</td>\n",
       "      <td>0.011719</td>\n",
       "    </tr>\n",
       "    <tr>\n",
       "      <th>9</th>\n",
       "      <td>01111111</td>\n",
       "      <td>0.005297</td>\n",
       "      <td>0.992188</td>\n",
       "    </tr>\n",
       "    <tr>\n",
       "      <th>10</th>\n",
       "      <td>10101000</td>\n",
       "      <td>0.003792</td>\n",
       "      <td>0.082031</td>\n",
       "    </tr>\n",
       "    <tr>\n",
       "      <th>11</th>\n",
       "      <td>10110111</td>\n",
       "      <td>0.003567</td>\n",
       "      <td>0.925781</td>\n",
       "    </tr>\n",
       "    <tr>\n",
       "      <th>12</th>\n",
       "      <td>00100000</td>\n",
       "      <td>0.003285</td>\n",
       "      <td>0.015625</td>\n",
       "    </tr>\n",
       "    <tr>\n",
       "      <th>13</th>\n",
       "      <td>10111111</td>\n",
       "      <td>0.002770</td>\n",
       "      <td>0.988281</td>\n",
       "    </tr>\n",
       "    <tr>\n",
       "      <th>14</th>\n",
       "      <td>11010111</td>\n",
       "      <td>0.002483</td>\n",
       "      <td>0.917969</td>\n",
       "    </tr>\n",
       "    <tr>\n",
       "      <th>15</th>\n",
       "      <td>10001000</td>\n",
       "      <td>0.002237</td>\n",
       "      <td>0.066406</td>\n",
       "    </tr>\n",
       "    <tr>\n",
       "      <th>16</th>\n",
       "      <td>10100000</td>\n",
       "      <td>0.001945</td>\n",
       "      <td>0.019531</td>\n",
       "    </tr>\n",
       "    <tr>\n",
       "      <th>17</th>\n",
       "      <td>00111111</td>\n",
       "      <td>0.001745</td>\n",
       "      <td>0.984375</td>\n",
       "    </tr>\n",
       "    <tr>\n",
       "      <th>18</th>\n",
       "      <td>01101000</td>\n",
       "      <td>0.001587</td>\n",
       "      <td>0.085938</td>\n",
       "    </tr>\n",
       "    <tr>\n",
       "      <th>19</th>\n",
       "      <td>01100000</td>\n",
       "      <td>0.001361</td>\n",
       "      <td>0.023438</td>\n",
       "    </tr>\n",
       "  </tbody>\n",
       "</table>\n",
       "</div>"
      ],
      "text/plain": [
       "      lambda    module       num\n",
       "0   00110111  0.374577  0.921875\n",
       "1   10000000  0.271382  0.003906\n",
       "2   11001000  0.140531  0.074219\n",
       "3   00000000  0.092162  0.000000\n",
       "4   00101000  0.021515  0.078125\n",
       "5   01000000  0.019760  0.007812\n",
       "6   11111111  0.013775  0.996094\n",
       "7   01001000  0.006876  0.070312\n",
       "8   11000000  0.006539  0.011719\n",
       "9   01111111  0.005297  0.992188\n",
       "10  10101000  0.003792  0.082031\n",
       "11  10110111  0.003567  0.925781\n",
       "12  00100000  0.003285  0.015625\n",
       "13  10111111  0.002770  0.988281\n",
       "14  11010111  0.002483  0.917969\n",
       "15  10001000  0.002237  0.066406\n",
       "16  10100000  0.001945  0.019531\n",
       "17  00111111  0.001745  0.984375\n",
       "18  01101000  0.001587  0.085938\n",
       "19  01100000  0.001361  0.023438"
      ]
     },
     "execution_count": 36,
     "metadata": {},
     "output_type": "execute_result"
    }
   ],
   "source": [
    "tail.head(20)"
   ]
  },
  {
   "cell_type": "code",
   "execution_count": 101,
   "metadata": {},
   "outputs": [
    {
     "data": {
      "text/plain": [
       "\"tail1['num']+=0.1\\ntail1\""
      ]
     },
     "execution_count": 101,
     "metadata": {},
     "output_type": "execute_result"
    }
   ],
   "source": [
    "'''tail1['num']+=0.1\n",
    "tail1'''"
   ]
  },
  {
   "cell_type": "code",
   "execution_count": 37,
   "metadata": {},
   "outputs": [
    {
     "data": {
      "text/plain": [
       "(array([0.92221665, 0.07531465, 0.0024687 , 0.        ]),\n",
       " array([[-0.43714001, -0.82468914,  0.35888219,  0.        ],\n",
       "        [-0.2051187 , -0.29709624, -0.93255571,  0.        ],\n",
       "        [-0.87569112,  0.48127086,  0.03928651,  0.        ],\n",
       "        [ 0.        ,  0.        ,  0.        ,  1.        ]]))"
      ]
     },
     "execution_count": 37,
     "metadata": {},
     "output_type": "execute_result"
    }
   ],
   "source": [
    "np.linalg.eig(example_matrix1)"
   ]
  },
  {
   "cell_type": "code",
   "execution_count": 38,
   "metadata": {},
   "outputs": [
    {
     "data": {
      "text/plain": [
       "(['10000000', '11001000', '01111011', '00110111'],\n",
       " array([0.00390625, 0.07421875, 0.8671875 , 0.921875  ]))"
      ]
     },
     "execution_count": 38,
     "metadata": {},
     "output_type": "execute_result"
    }
   ],
   "source": [
    "from scipy.signal import find_peaks\n",
    "\n",
    "peaks=[]\n",
    "nums_peaks=[]\n",
    "offset=1/n_shots\n",
    "stop=False\n",
    "while stop==False:\n",
    "    right_thresholds=find_peaks(tail.sort_values(['num'])['module'],threshold=offset)[1]['right_thresholds']\n",
    "    left_thresholds=find_peaks(tail.sort_values(['num'])['module'],threshold=offset)[1]['left_thresholds']\n",
    "    mean=(right_thresholds+left_thresholds)/2\n",
    "    p=find_peaks(tail.sort_values(['num'])['module'],threshold=offset)[0]\n",
    "    if len(p)>len(example_matrix1):\n",
    "        offset+=1/n_shots\n",
    "    else:\n",
    "        stop=True\n",
    "        for i in p:\n",
    "            el = tail.sort_values(['num']).iloc[i]\n",
    "            nums_peaks.append(el['num'])\n",
    "            peaks.append(el['lambda'])\n",
    "\n",
    "sorted_peaks=np.array(peaks)[mean.argsort()[::-1]]\n",
    "sorted_num_peaks=np.array(nums_peaks)[mean.argsort()[::-1]]\n",
    "peaks,np.array(nums_peaks)"
   ]
  },
  {
   "cell_type": "code",
   "execution_count": 39,
   "metadata": {},
   "outputs": [
    {
     "data": {
      "text/plain": [
       "array([0.921875  , 0.00390625, 0.07421875, 0.8671875 ])"
      ]
     },
     "execution_count": 39,
     "metadata": {},
     "output_type": "execute_result"
    }
   ],
   "source": [
    "sorted_num_peaks"
   ]
  },
  {
   "cell_type": "code",
   "execution_count": 40,
   "metadata": {},
   "outputs": [
    {
     "data": {
      "text/plain": [
       "array([[0.00390625],\n",
       "       [0.07421875],\n",
       "       [0.921875  ]])"
      ]
     },
     "execution_count": 40,
     "metadata": {},
     "output_type": "execute_result"
    }
   ],
   "source": [
    "np.array(nums_peaks)[np.argwhere(mean != np.amin(mean))]"
   ]
  },
  {
   "cell_type": "code",
   "execution_count": 158,
   "metadata": {},
   "outputs": [
    {
     "name": "stdout",
     "output_type": "stream",
     "text": [
      "0.84765625\n"
     ]
    }
   ],
   "source": [
    "min_=10000\n",
    "values_not_to_keep=[]\n",
    "for k in np.array(nums_peaks)[~np.argwhere(mean == np.amin(mean))]:\n",
    "    a=find_nearest(np.linalg.eig(example_matrix1)[0],k[0])\n",
    "    gg=abs(a-k[0])\n",
    "    if gg<min_:\n",
    "        min_=gg\n",
    "        value_to_keep=k[0]\n",
    "    \n",
    "\n",
    "print(value_to_keep)\n"
   ]
  },
  {
   "cell_type": "code",
   "execution_count": 148,
   "metadata": {},
   "outputs": [
    {
     "data": {
      "text/plain": [
       "[2]"
      ]
     },
     "execution_count": 148,
     "metadata": {},
     "output_type": "execute_result"
    }
   ],
   "source": [
    "idx=[list(sorted_num_peaks).index(x) for x in values_not_to_keep if x in sorted_num_peaks]\n",
    "idx"
   ]
  },
  {
   "cell_type": "code",
   "execution_count": 157,
   "metadata": {},
   "outputs": [
    {
     "data": {
      "text/plain": [
       "[array([0.84765625])]"
      ]
     },
     "execution_count": 157,
     "metadata": {},
     "output_type": "execute_result"
    }
   ],
   "source": [
    "values_not_to_keep=[v for v in np.array(nums_peaks)[np.argwhere(mean == np.amin(mean))] if v!=value_to_keep]\n",
    "values_not_to_keep"
   ]
  },
  {
   "cell_type": "code",
   "execution_count": 143,
   "metadata": {},
   "outputs": [
    {
     "data": {
      "text/plain": [
       "[0.84765625, 0.09375]"
      ]
     },
     "execution_count": 143,
     "metadata": {},
     "output_type": "execute_result"
    }
   ],
   "source": [
    "new_peaks=[v for v in sorted_num_peaks if v not in values_not_to_keep]\n",
    "new_peaks"
   ]
  },
  {
   "cell_type": "code",
   "execution_count": 104,
   "metadata": {},
   "outputs": [
    {
     "data": {
      "text/plain": [
       "(array([0.01, 0.01, 0.95]), array([0.01, 0.01, 0.95]))"
      ]
     },
     "execution_count": 104,
     "metadata": {},
     "output_type": "execute_result"
    }
   ],
   "source": [
    "right_thresholds,left_thresholds"
   ]
  },
  {
   "cell_type": "code",
   "execution_count": 64,
   "metadata": {},
   "outputs": [
    {
     "data": {
      "text/plain": [
       "array([0.004, 0.002, 0.98 ])"
      ]
     },
     "execution_count": 64,
     "metadata": {},
     "output_type": "execute_result"
    }
   ],
   "source": [
    "(right_thresholds+left_thresholds)/2"
   ]
  },
  {
   "cell_type": "code",
   "execution_count": 41,
   "metadata": {},
   "outputs": [
    {
     "data": {
      "text/plain": [
       "(array(['00110111', '10000000', '11001000', '01111011'], dtype='<U8'),\n",
       " array([0.921875  , 0.00390625, 0.07421875, 0.8671875 ]),\n",
       " array([2.51622e-01, 1.19016e-01, 2.20000e-05, 3.71010e-01]))"
      ]
     },
     "execution_count": 41,
     "metadata": {},
     "output_type": "execute_result"
    }
   ],
   "source": [
    "sorted_peaks,sorted_num_peaks,right_thresholds"
   ]
  },
  {
   "cell_type": "code",
   "execution_count": 303,
   "metadata": {},
   "outputs": [
    {
     "data": {
      "text/plain": [
       "{0.8955238958986377: 0,\n",
       " 0.00030420453127693393: 0,\n",
       " 0.05567682172622658: 0,\n",
       " 0.04849507784385881: 0}"
      ]
     },
     "execution_count": 303,
     "metadata": {},
     "output_type": "execute_result"
    }
   ],
   "source": [
    "check_eigenvalues={}\n",
    "for i in np.linalg.eig(example_matrix1)[0]:\n",
    "    check_eigenvalues.update({i:0})\n",
    "check_eigenvalues"
   ]
  },
  {
   "cell_type": "code",
   "execution_count": 125,
   "metadata": {},
   "outputs": [],
   "source": [
    "def find_nearest(array, value):\n",
    "    array = np.asarray(array)\n",
    "    idx = (np.abs(array - value)).argmin()\n",
    "    return array[idx]"
   ]
  },
  {
   "cell_type": "code",
   "execution_count": 305,
   "metadata": {},
   "outputs": [
    {
     "name": "stdout",
     "output_type": "stream",
     "text": [
      "0.8955238958986377\n",
      "0.05567682172622658\n",
      "0.04849507784385881\n",
      "{0.8955238958986377: 1, 0.00030420453127693393: 0, 0.05567682172622658: 1, 0.04849507784385881: 1}\n"
     ]
    }
   ],
   "source": [
    "for s_p in sorted_num_peaks:\n",
    "    x=find_nearest(np.linalg.eig(example_matrix1)[0],s_p)\n",
    "    print(x)\n",
    "    if check_eigenvalues[x]==0:\n",
    "        check_eigenvalues.update({x:1})\n",
    "    else:\n",
    "        continue\n",
    "print(check_eigenvalues)"
   ]
  },
  {
   "cell_type": "code",
   "execution_count": 306,
   "metadata": {},
   "outputs": [
    {
     "data": {
      "text/plain": [
       "{0.00030420453127693393: 0}"
      ]
     },
     "execution_count": 306,
     "metadata": {},
     "output_type": "execute_result"
    }
   ],
   "source": [
    "new_original_eigenvalues=[]\n",
    "for d in list(check_eigenvalues.keys()):\n",
    "    if check_eigenvalues[d]==1:\n",
    "        check_eigenvalues.pop(d)\n",
    "        new_original_eigenvalues.append(d)\n",
    "        #new_original_eigenvalues.append(d)\n",
    "        #del check_eigenvalues[d]\n",
    "check_eigenvalues"
   ]
  },
  {
   "cell_type": "code",
   "execution_count": 307,
   "metadata": {},
   "outputs": [
    {
     "data": {
      "text/plain": [
       "[0.8955238958986377,\n",
       " 0.05567682172622658,\n",
       " 0.04849507784385881,\n",
       " 0.00030420453127693393]"
      ]
     },
     "execution_count": 307,
     "metadata": {},
     "output_type": "execute_result"
    }
   ],
   "source": [
    "if len(check_eigenvalues)>0:\n",
    "    new_original_eigenvalues.append(list(check_eigenvalues.keys())[0])\n",
    "else:\n",
    "    new_original_eigenvalues=sorted(new_original_eigenvalues,reverse=True)\n",
    "new_original_eigenvalues"
   ]
  },
  {
   "cell_type": "code",
   "execution_count": 317,
   "metadata": {},
   "outputs": [
    {
     "data": {
      "text/plain": [
       "((array([8.95523896e-01, 3.04204531e-04, 5.56768217e-02, 4.84950778e-02]),\n",
       "  array([[-0.54010974, -0.31079311, -0.76691778,  0.15338266],\n",
       "         [-0.34101425, -0.72369209,  0.45528741, -0.39075876],\n",
       "         [-0.54078131,  0.59128095,  0.021657  , -0.59789078],\n",
       "         [-0.54730826,  0.17339042,  0.45175377,  0.68286746]])),\n",
       " array([-0.31079311, -0.72369209,  0.59128095,  0.17339042]))"
      ]
     },
     "execution_count": 317,
     "metadata": {},
     "output_type": "execute_result"
    }
   ],
   "source": [
    "np.linalg.eig(example_matrix1),np.linalg.eig(example_matrix1)[1][:,1]"
   ]
  },
  {
   "cell_type": "code",
   "execution_count": 334,
   "metadata": {},
   "outputs": [],
   "source": [
    "new_idx=[]\n",
    "for i in new_original_eigenvalues:\n",
    "    for j in range(len(np.linalg.eig(example_matrix1)[0])):\n",
    "        if i==np.linalg.eig(example_matrix1)[0][j]:\n",
    "            new_idx.append(np.linalg.eig(example_matrix1)[1][:,j])\n",
    "            \n",
    "new_idx=np.array(new_idx)"
   ]
  },
  {
   "cell_type": "code",
   "execution_count": 336,
   "metadata": {},
   "outputs": [
    {
     "data": {
      "text/plain": [
       "array([[-0.54010974, -0.76691778,  0.15338266, -0.31079311],\n",
       "       [-0.34101425,  0.45528741, -0.39075876, -0.72369209],\n",
       "       [-0.54078131,  0.021657  , -0.59789078,  0.59128095],\n",
       "       [-0.54730826,  0.45175377,  0.68286746,  0.17339042]])"
      ]
     },
     "execution_count": 336,
     "metadata": {},
     "output_type": "execute_result"
    }
   ],
   "source": [
    "new_idx.reshape(4,4).T"
   ]
  },
  {
   "cell_type": "code",
   "execution_count": 306,
   "metadata": {},
   "outputs": [],
   "source": [
    "peaks=[]\n",
    "nums_peaks=[]\n",
    "peaks.append(tail.iloc[0]['lambda'])\n",
    "nums_peaks.append(tail.iloc[0]['num'])\n",
    "for i in range(1,len(tail)):\n",
    "    \n",
    "    #for n_ in nums_peaks:\n",
    "        \n",
    "    if any(abs(tail.iloc[i]['num']-n_)<= 4/(2**resolution) for n_ in nums_peaks):\n",
    "        #if any(abs(tail1.iloc[i]['num']-n_)/n_<= 0.2 for n_ in nums_peaks):\n",
    "        pass\n",
    "    else:\n",
    "           \n",
    "        nums_peaks.append(tail.iloc[i]['num'])\n",
    "        peaks.append(tail.iloc[i]['lambda'])\n",
    "        pass\n",
    "    if len(peaks)==len(example_matrix1):\n",
    "        break\n",
    "    #print(tail.iloc[i])"
   ]
  },
  {
   "cell_type": "code",
   "execution_count": 307,
   "metadata": {},
   "outputs": [
    {
     "data": {
      "text/plain": [
       "(['010011011', '100011000', '010000000', '001110000'],\n",
       " array([0.84765625, 0.09570312, 0.00390625, 0.0546875 ]))"
      ]
     },
     "execution_count": 307,
     "metadata": {},
     "output_type": "execute_result"
    }
   ],
   "source": [
    "peaks,np.array(nums_peaks)"
   ]
  },
  {
   "cell_type": "code",
   "execution_count": 478,
   "metadata": {},
   "outputs": [
    {
     "data": {
      "text/plain": [
       "(array([8.95523896e-01, 3.04204531e-04, 5.56768217e-02, 4.84950778e-02]),\n",
       " array([[-0.54010974, -0.31079311, -0.76691778,  0.15338266],\n",
       "        [-0.34101425, -0.72369209,  0.45528741, -0.39075876],\n",
       "        [-0.54078131,  0.59128095,  0.021657  , -0.59789078],\n",
       "        [-0.54730826,  0.17339042,  0.45175377,  0.68286746]]))"
      ]
     },
     "execution_count": 478,
     "metadata": {},
     "output_type": "execute_result"
    }
   ],
   "source": [
    "np.linalg.eig(example_matrix1)"
   ]
  },
  {
   "cell_type": "code",
   "execution_count": 42,
   "metadata": {},
   "outputs": [
    {
     "data": {
      "text/plain": [
       "<AxesSubplot: xlabel='num'>"
      ]
     },
     "execution_count": 42,
     "metadata": {},
     "output_type": "execute_result"
    },
    {
     "data": {
      "image/png": "[encoded data removed]",
      "text/plain": [
       "<Figure size 1080x720 with 1 Axes>"
      ]
     },
     "metadata": {
      "needs_background": "light"
     },
     "output_type": "display_data"
    }
   ],
   "source": [
    "tail[['num','module']].sort_values('num').set_index('num').plot(style='-*',figsize=(15,10))"
   ]
  },
  {
   "cell_type": "code",
   "execution_count": 149,
   "metadata": {},
   "outputs": [
    {
     "data": {
      "text/plain": [
       "'lambdas=df1.tail(len(example_matrix1)).index.values\\nlambdas'"
      ]
     },
     "execution_count": 149,
     "metadata": {},
     "output_type": "execute_result"
    }
   ],
   "source": [
    "'''lambdas=df1.tail(len(example_matrix1)).index.values\n",
    "lambdas'''"
   ]
  },
  {
   "cell_type": "code",
   "execution_count": 43,
   "metadata": {},
   "outputs": [
    {
     "data": {
      "text/plain": [
       "['10000000', '11001000', '01111011', '00110111']"
      ]
     },
     "execution_count": 43,
     "metadata": {},
     "output_type": "execute_result"
    }
   ],
   "source": [
    "lambdas=peaks\n",
    "lambdas"
   ]
  },
  {
   "cell_type": "code",
   "execution_count": 44,
   "metadata": {},
   "outputs": [
    {
     "data": {
      "text/html": [
       "<div>\n",
       "<style scoped>\n",
       "    .dataframe tbody tr th:only-of-type {\n",
       "        vertical-align: middle;\n",
       "    }\n",
       "\n",
       "    .dataframe tbody tr th {\n",
       "        vertical-align: top;\n",
       "    }\n",
       "\n",
       "    .dataframe thead th {\n",
       "        text-align: right;\n",
       "    }\n",
       "</style>\n",
       "<table border=\"1\" class=\"dataframe\">\n",
       "  <thead>\n",
       "    <tr style=\"text-align: right;\">\n",
       "      <th></th>\n",
       "      <th>state</th>\n",
       "      <th>module</th>\n",
       "      <th>lambda</th>\n",
       "    </tr>\n",
       "  </thead>\n",
       "  <tbody>\n",
       "    <tr>\n",
       "      <th>0</th>\n",
       "      <td>000000000000</td>\n",
       "      <td>0.011017</td>\n",
       "      <td>00000000</td>\n",
       "    </tr>\n",
       "    <tr>\n",
       "      <th>1</th>\n",
       "      <td>000000000001</td>\n",
       "      <td>0.000002</td>\n",
       "      <td>00000001</td>\n",
       "    </tr>\n",
       "    <tr>\n",
       "      <th>2</th>\n",
       "      <td>000000000010</td>\n",
       "      <td>0.000002</td>\n",
       "      <td>00000010</td>\n",
       "    </tr>\n",
       "    <tr>\n",
       "      <th>3</th>\n",
       "      <td>000000000011</td>\n",
       "      <td>0.000003</td>\n",
       "      <td>00000011</td>\n",
       "    </tr>\n",
       "    <tr>\n",
       "      <th>4</th>\n",
       "      <td>000000000100</td>\n",
       "      <td>0.000042</td>\n",
       "      <td>00000100</td>\n",
       "    </tr>\n",
       "    <tr>\n",
       "      <th>...</th>\n",
       "      <td>...</td>\n",
       "      <td>...</td>\n",
       "      <td>...</td>\n",
       "    </tr>\n",
       "    <tr>\n",
       "      <th>4091</th>\n",
       "      <td>111111111011</td>\n",
       "      <td>0.000000</td>\n",
       "      <td>11111011</td>\n",
       "    </tr>\n",
       "    <tr>\n",
       "      <th>4092</th>\n",
       "      <td>111111111100</td>\n",
       "      <td>0.000000</td>\n",
       "      <td>11111100</td>\n",
       "    </tr>\n",
       "    <tr>\n",
       "      <th>4093</th>\n",
       "      <td>111111111101</td>\n",
       "      <td>0.000000</td>\n",
       "      <td>11111101</td>\n",
       "    </tr>\n",
       "    <tr>\n",
       "      <th>4094</th>\n",
       "      <td>111111111110</td>\n",
       "      <td>0.000000</td>\n",
       "      <td>11111110</td>\n",
       "    </tr>\n",
       "    <tr>\n",
       "      <th>4095</th>\n",
       "      <td>111111111111</td>\n",
       "      <td>0.000000</td>\n",
       "      <td>11111111</td>\n",
       "    </tr>\n",
       "  </tbody>\n",
       "</table>\n",
       "<p>4096 rows × 3 columns</p>\n",
       "</div>"
      ],
      "text/plain": [
       "             state    module    lambda\n",
       "0     000000000000  0.011017  00000000\n",
       "1     000000000001  0.000002  00000001\n",
       "2     000000000010  0.000002  00000010\n",
       "3     000000000011  0.000003  00000011\n",
       "4     000000000100  0.000042  00000100\n",
       "...            ...       ...       ...\n",
       "4091  111111111011  0.000000  11111011\n",
       "4092  111111111100  0.000000  11111100\n",
       "4093  111111111101  0.000000  11111101\n",
       "4094  111111111110  0.000000  11111110\n",
       "4095  111111111111  0.000000  11111111\n",
       "\n",
       "[4096 rows x 3 columns]"
      ]
     },
     "execution_count": 44,
     "metadata": {},
     "output_type": "execute_result"
    }
   ],
   "source": [
    "df.columns=['state','module','lambda']\n",
    "df"
   ]
  },
  {
   "cell_type": "code",
   "execution_count": 45,
   "metadata": {},
   "outputs": [
    {
     "data": {
      "text/html": [
       "<div>\n",
       "<style scoped>\n",
       "    .dataframe tbody tr th:only-of-type {\n",
       "        vertical-align: middle;\n",
       "    }\n",
       "\n",
       "    .dataframe tbody tr th {\n",
       "        vertical-align: top;\n",
       "    }\n",
       "\n",
       "    .dataframe thead th {\n",
       "        text-align: right;\n",
       "    }\n",
       "</style>\n",
       "<table border=\"1\" class=\"dataframe\">\n",
       "  <thead>\n",
       "    <tr style=\"text-align: right;\">\n",
       "      <th></th>\n",
       "      <th>state</th>\n",
       "      <th>module</th>\n",
       "      <th>lambda</th>\n",
       "      <th>sign</th>\n",
       "    </tr>\n",
       "  </thead>\n",
       "  <tbody>\n",
       "    <tr>\n",
       "      <th>0</th>\n",
       "      <td>000000000000</td>\n",
       "      <td>0.011017</td>\n",
       "      <td>00000000</td>\n",
       "      <td>1</td>\n",
       "    </tr>\n",
       "    <tr>\n",
       "      <th>1</th>\n",
       "      <td>000000000001</td>\n",
       "      <td>0.000002</td>\n",
       "      <td>00000001</td>\n",
       "      <td>1</td>\n",
       "    </tr>\n",
       "    <tr>\n",
       "      <th>2</th>\n",
       "      <td>000000000010</td>\n",
       "      <td>0.000002</td>\n",
       "      <td>00000010</td>\n",
       "      <td>1</td>\n",
       "    </tr>\n",
       "    <tr>\n",
       "      <th>3</th>\n",
       "      <td>000000000011</td>\n",
       "      <td>0.000003</td>\n",
       "      <td>00000011</td>\n",
       "      <td>-1</td>\n",
       "    </tr>\n",
       "    <tr>\n",
       "      <th>4</th>\n",
       "      <td>000000000100</td>\n",
       "      <td>0.000042</td>\n",
       "      <td>00000100</td>\n",
       "      <td>-1</td>\n",
       "    </tr>\n",
       "    <tr>\n",
       "      <th>...</th>\n",
       "      <td>...</td>\n",
       "      <td>...</td>\n",
       "      <td>...</td>\n",
       "      <td>...</td>\n",
       "    </tr>\n",
       "    <tr>\n",
       "      <th>4091</th>\n",
       "      <td>111111111011</td>\n",
       "      <td>0.000000</td>\n",
       "      <td>11111011</td>\n",
       "      <td>1</td>\n",
       "    </tr>\n",
       "    <tr>\n",
       "      <th>4092</th>\n",
       "      <td>111111111100</td>\n",
       "      <td>0.000000</td>\n",
       "      <td>11111100</td>\n",
       "      <td>1</td>\n",
       "    </tr>\n",
       "    <tr>\n",
       "      <th>4093</th>\n",
       "      <td>111111111101</td>\n",
       "      <td>0.000000</td>\n",
       "      <td>11111101</td>\n",
       "      <td>1</td>\n",
       "    </tr>\n",
       "    <tr>\n",
       "      <th>4094</th>\n",
       "      <td>111111111110</td>\n",
       "      <td>0.000000</td>\n",
       "      <td>11111110</td>\n",
       "      <td>1</td>\n",
       "    </tr>\n",
       "    <tr>\n",
       "      <th>4095</th>\n",
       "      <td>111111111111</td>\n",
       "      <td>0.000000</td>\n",
       "      <td>11111111</td>\n",
       "      <td>1</td>\n",
       "    </tr>\n",
       "  </tbody>\n",
       "</table>\n",
       "<p>4096 rows × 4 columns</p>\n",
       "</div>"
      ],
      "text/plain": [
       "             state    module    lambda  sign\n",
       "0     000000000000  0.011017  00000000     1\n",
       "1     000000000001  0.000002  00000001     1\n",
       "2     000000000010  0.000002  00000010     1\n",
       "3     000000000011  0.000003  00000011    -1\n",
       "4     000000000100  0.000042  00000100    -1\n",
       "...            ...       ...       ...   ...\n",
       "4091  111111111011  0.000000  11111011     1\n",
       "4092  111111111100  0.000000  11111100     1\n",
       "4093  111111111101  0.000000  11111101     1\n",
       "4094  111111111110  0.000000  11111110     1\n",
       "4095  111111111111  0.000000  11111111     1\n",
       "\n",
       "[4096 rows x 4 columns]"
      ]
     },
     "execution_count": 45,
     "metadata": {},
     "output_type": "execute_result"
    }
   ],
   "source": [
    "df['sign']=np.array(list(sign_dictionary.values()))\n",
    "#df['sign']=np.array(sign)\n",
    "df"
   ]
  },
  {
   "cell_type": "code",
   "execution_count": 46,
   "metadata": {},
   "outputs": [
    {
     "data": {
      "text/html": [
       "<div>\n",
       "<style scoped>\n",
       "    .dataframe tbody tr th:only-of-type {\n",
       "        vertical-align: middle;\n",
       "    }\n",
       "\n",
       "    .dataframe tbody tr th {\n",
       "        vertical-align: top;\n",
       "    }\n",
       "\n",
       "    .dataframe thead th {\n",
       "        text-align: right;\n",
       "    }\n",
       "</style>\n",
       "<table border=\"1\" class=\"dataframe\">\n",
       "  <thead>\n",
       "    <tr style=\"text-align: right;\">\n",
       "      <th></th>\n",
       "      <th>state</th>\n",
       "      <th>module</th>\n",
       "      <th>lambda</th>\n",
       "      <th>sign</th>\n",
       "    </tr>\n",
       "  </thead>\n",
       "  <tbody>\n",
       "    <tr>\n",
       "      <th>0</th>\n",
       "      <td>000000000000</td>\n",
       "      <td>0.011017</td>\n",
       "      <td>00000000</td>\n",
       "      <td>1</td>\n",
       "    </tr>\n",
       "    <tr>\n",
       "      <th>1</th>\n",
       "      <td>000000000001</td>\n",
       "      <td>0.000002</td>\n",
       "      <td>00000001</td>\n",
       "      <td>1</td>\n",
       "    </tr>\n",
       "    <tr>\n",
       "      <th>2</th>\n",
       "      <td>000000000010</td>\n",
       "      <td>0.000002</td>\n",
       "      <td>00000010</td>\n",
       "      <td>1</td>\n",
       "    </tr>\n",
       "    <tr>\n",
       "      <th>3</th>\n",
       "      <td>000000000011</td>\n",
       "      <td>-0.000003</td>\n",
       "      <td>00000011</td>\n",
       "      <td>-1</td>\n",
       "    </tr>\n",
       "    <tr>\n",
       "      <th>4</th>\n",
       "      <td>000000000100</td>\n",
       "      <td>-0.000042</td>\n",
       "      <td>00000100</td>\n",
       "      <td>-1</td>\n",
       "    </tr>\n",
       "    <tr>\n",
       "      <th>...</th>\n",
       "      <td>...</td>\n",
       "      <td>...</td>\n",
       "      <td>...</td>\n",
       "      <td>...</td>\n",
       "    </tr>\n",
       "    <tr>\n",
       "      <th>4091</th>\n",
       "      <td>111111111011</td>\n",
       "      <td>0.000000</td>\n",
       "      <td>11111011</td>\n",
       "      <td>1</td>\n",
       "    </tr>\n",
       "    <tr>\n",
       "      <th>4092</th>\n",
       "      <td>111111111100</td>\n",
       "      <td>0.000000</td>\n",
       "      <td>11111100</td>\n",
       "      <td>1</td>\n",
       "    </tr>\n",
       "    <tr>\n",
       "      <th>4093</th>\n",
       "      <td>111111111101</td>\n",
       "      <td>0.000000</td>\n",
       "      <td>11111101</td>\n",
       "      <td>1</td>\n",
       "    </tr>\n",
       "    <tr>\n",
       "      <th>4094</th>\n",
       "      <td>111111111110</td>\n",
       "      <td>0.000000</td>\n",
       "      <td>11111110</td>\n",
       "      <td>1</td>\n",
       "    </tr>\n",
       "    <tr>\n",
       "      <th>4095</th>\n",
       "      <td>111111111111</td>\n",
       "      <td>0.000000</td>\n",
       "      <td>11111111</td>\n",
       "      <td>1</td>\n",
       "    </tr>\n",
       "  </tbody>\n",
       "</table>\n",
       "<p>4096 rows × 4 columns</p>\n",
       "</div>"
      ],
      "text/plain": [
       "             state    module    lambda  sign\n",
       "0     000000000000  0.011017  00000000     1\n",
       "1     000000000001  0.000002  00000001     1\n",
       "2     000000000010  0.000002  00000010     1\n",
       "3     000000000011 -0.000003  00000011    -1\n",
       "4     000000000100 -0.000042  00000100    -1\n",
       "...            ...       ...       ...   ...\n",
       "4091  111111111011  0.000000  11111011     1\n",
       "4092  111111111100  0.000000  11111100     1\n",
       "4093  111111111101  0.000000  11111101     1\n",
       "4094  111111111110  0.000000  11111110     1\n",
       "4095  111111111111  0.000000  11111111     1\n",
       "\n",
       "[4096 rows x 4 columns]"
      ]
     },
     "execution_count": 46,
     "metadata": {},
     "output_type": "execute_result"
    }
   ],
   "source": [
    "df['module']=df['module'].multiply(np.array(list(sign_dictionary.values())), axis=0)\n",
    "#df['module']=df['module'].multiply(np.array(sign), axis=0)\n",
    "df=df.fillna(0)\n",
    "df"
   ]
  },
  {
   "cell_type": "code",
   "execution_count": 47,
   "metadata": {},
   "outputs": [],
   "source": [
    "#df['st']=sim_statevector"
   ]
  },
  {
   "cell_type": "code",
   "execution_count": 155,
   "metadata": {},
   "outputs": [
    {
     "data": {
      "text/html": [
       "<div>\n",
       "<style scoped>\n",
       "    .dataframe tbody tr th:only-of-type {\n",
       "        vertical-align: middle;\n",
       "    }\n",
       "\n",
       "    .dataframe tbody tr th {\n",
       "        vertical-align: top;\n",
       "    }\n",
       "\n",
       "    .dataframe thead th {\n",
       "        text-align: right;\n",
       "    }\n",
       "</style>\n",
       "<table border=\"1\" class=\"dataframe\">\n",
       "  <thead>\n",
       "    <tr style=\"text-align: right;\">\n",
       "      <th></th>\n",
       "      <th>state</th>\n",
       "      <th>module</th>\n",
       "      <th>lambda</th>\n",
       "      <th>sign</th>\n",
       "    </tr>\n",
       "  </thead>\n",
       "  <tbody>\n",
       "  </tbody>\n",
       "</table>\n",
       "</div>"
      ],
      "text/plain": [
       "Empty DataFrame\n",
       "Columns: [state, module, lambda, sign]\n",
       "Index: []"
      ]
     },
     "execution_count": 155,
     "metadata": {},
     "output_type": "execute_result"
    }
   ],
   "source": [
    "df.query(\"state.str.endswith('01111000')\")"
   ]
  },
  {
   "cell_type": "code",
   "execution_count": 48,
   "metadata": {},
   "outputs": [
    {
     "name": "stdout",
     "output_type": "stream",
     "text": [
      "[0.18328939 0.47194385 0.01954482 0.         0.03903844 0.10300485\n",
      " 0.00608276 0.         0.01224745 0.03310589 0.00173205 0.\n",
      " 0.01236932 0.03313608 0.00173205 0.        ]\n",
      "1.9195944279350001\n",
      "[array([-0.35184129,  0.90594079, -0.03751813,  0.        ,  0.07493798,\n",
      "       -0.19772754, -0.01167644,  0.        ,  0.02351013, -0.06354988,\n",
      "        0.00332484,  0.        ,  0.02374407, -0.06360784, -0.00332484,\n",
      "        0.        ]), array([0.29666311, 0.10487135, 0.17418668, 0.        , 0.08590693,\n",
      "       0.03170173, 0.05180734, 0.        , 0.00574456, 0.00223607,\n",
      "       0.00360555, 0.        , 0.00648074, 0.00282843, 0.00360555,\n",
      "       0.        ]), array([0.00316228, 0.00565685, 0.001     , 0.        , 0.00244949,\n",
      "       0.00141421, 0.00223607, 0.        , 0.001     , 0.001     ,\n",
      "       0.001     , 0.        , 0.001     , 0.001     , 0.002     ,\n",
      "       0.        ]), array([0.13796376, 0.06463745, 0.26967759, 0.        , 0.19898241,\n",
      "       0.0931182 , 0.3959457 , 0.        , 0.08383913, 0.03827532,\n",
      "       0.16816658, 0.        , 0.08416056, 0.03947151, 0.16788687,\n",
      "       0.        ])]\n",
      "[0.29666311 0.10487135 0.17418668 0.         0.08590693 0.03170173\n",
      " 0.05180734 0.         0.00574456 0.00223607 0.00360555 0.\n",
      " 0.00648074 0.00282843 0.00360555 0.        ]\n",
      "2.667558372992941\n",
      "[array([-0.35184129,  0.90594079, -0.03751813,  0.        ,  0.07493798,\n",
      "       -0.19772754, -0.01167644,  0.        ,  0.02351013, -0.06354988,\n",
      "        0.00332484,  0.        ,  0.02374407, -0.06360784, -0.00332484,\n",
      "        0.        ]), array([ 0.79136616,  0.27975045, -0.46465314,  0.        ,  0.22916174,\n",
      "        0.08456623, -0.13819909,  0.        ,  0.01532396,  0.00596484,\n",
      "        0.00961802,  0.        ,  0.01728775,  0.00754499, -0.00961802,\n",
      "        0.        ]), array([0.00316228, 0.00565685, 0.001     , 0.        , 0.00244949,\n",
      "       0.00141421, 0.00223607, 0.        , 0.001     , 0.001     ,\n",
      "       0.001     , 0.        , 0.001     , 0.001     , 0.002     ,\n",
      "       0.        ]), array([0.13796376, 0.06463745, 0.26967759, 0.        , 0.19898241,\n",
      "       0.0931182 , 0.3959457 , 0.        , 0.08383913, 0.03827532,\n",
      "       0.16816658, 0.        , 0.08416056, 0.03947151, 0.16788687,\n",
      "       0.        ])]\n",
      "[0.00316228 0.00565685 0.001      0.         0.00244949 0.00141421\n",
      " 0.00223607 0.         0.001      0.001      0.001      0.\n",
      " 0.001      0.001      0.002      0.        ]\n",
      "124.03473458920847\n",
      "[array([-0.35184129,  0.90594079, -0.03751813,  0.        ,  0.07493798,\n",
      "       -0.19772754, -0.01167644,  0.        ,  0.02351013, -0.06354988,\n",
      "        0.00332484,  0.        ,  0.02374407, -0.06360784, -0.00332484,\n",
      "        0.        ]), array([ 0.79136616,  0.27975045, -0.46465314,  0.        ,  0.22916174,\n",
      "        0.08456623, -0.13819909,  0.        ,  0.01532396,  0.00596484,\n",
      "        0.00961802,  0.        ,  0.01728775,  0.00754499, -0.00961802,\n",
      "        0.        ]), array([ 0.39223227,  0.70164642, -0.12403473,  0.        ,  0.30382181,\n",
      "       -0.1754116 ,  0.2773501 ,  0.        , -0.12403473, -0.12403473,\n",
      "       -0.12403473,  0.        , -0.12403473,  0.12403473,  0.24806947,\n",
      "        0.        ]), array([0.13796376, 0.06463745, 0.26967759, 0.        , 0.19898241,\n",
      "       0.0931182 , 0.3959457 , 0.        , 0.08383913, 0.03827532,\n",
      "       0.16816658, 0.        , 0.08416056, 0.03947151, 0.16788687,\n",
      "       0.        ])]\n",
      "[0.13796376 0.06463745 0.26967759 0.         0.19898241 0.0931182\n",
      " 0.3959457  0.         0.08383913 0.03827532 0.16816658 0.\n",
      " 0.08416056 0.03947151 0.16788687 0.        ]\n",
      "1.6339149499047738\n",
      "[array([-0.35184129,  0.90594079, -0.03751813,  0.        ,  0.07493798,\n",
      "       -0.19772754, -0.01167644,  0.        ,  0.02351013, -0.06354988,\n",
      "        0.00332484,  0.        ,  0.02374407, -0.06360784, -0.00332484,\n",
      "        0.        ]), array([ 0.79136616,  0.27975045, -0.46465314,  0.        ,  0.22916174,\n",
      "        0.08456623, -0.13819909,  0.        ,  0.01532396,  0.00596484,\n",
      "        0.00961802,  0.        ,  0.01728775,  0.00754499, -0.00961802,\n",
      "        0.        ]), array([ 0.39223227,  0.70164642, -0.12403473,  0.        ,  0.30382181,\n",
      "       -0.1754116 ,  0.2773501 ,  0.        , -0.12403473, -0.12403473,\n",
      "       -0.12403473,  0.        , -0.12403473,  0.12403473,  0.24806947,\n",
      "        0.        ]), array([0.22542106, 0.1056121 , 0.44063024, 0.        , 0.32512034,\n",
      "       0.15214723, 0.6469416 , 0.        , 0.13698601, 0.06253861,\n",
      "       0.2747699 , 0.        , 0.1375112 , 0.06449309, 0.27431286,\n",
      "       0.        ])]\n"
     ]
    }
   ],
   "source": [
    "a=[]\n",
    "save_sign=[]\n",
    "eigenvalues=[]\n",
    "for l in lambdas:\n",
    "    eigenvalues.append(int(l[::-1],base=2)/(2**resolution))\n",
    "    a_=np.array(df.query(\"state.str.endswith(@l)\")['module'].values)\n",
    "    #print(a_)\n",
    "    save_sign.append(np.sign(a_))\n",
    "    #print(save_sign)\n",
    "    \n",
    "    a.append(np.sqrt(abs(a_)))\n",
    "\n",
    "#a=[a1,a2]\n",
    "\n",
    "for i in range(len(a)):\n",
    "    print(a[i])\n",
    "    normalization_factor=np.sqrt((1/(sum(a[i]**2))))\n",
    "    print(normalization_factor)\n",
    "    a[i]*=normalization_factor\n",
    "    a[i]*=save_sign[i]\n",
    "    \n",
    "    print(a)"
   ]
  },
  {
   "cell_type": "code",
   "execution_count": 49,
   "metadata": {},
   "outputs": [
    {
     "data": {
      "text/plain": [
       "[0.00390625, 0.07421875, 0.8671875, 0.921875]"
      ]
     },
     "execution_count": 49,
     "metadata": {},
     "output_type": "execute_result"
    }
   ],
   "source": [
    "eigenvalues"
   ]
  },
  {
   "cell_type": "code",
   "execution_count": 50,
   "metadata": {},
   "outputs": [
    {
     "name": "stdout",
     "output_type": "stream",
     "text": [
      "reconstructed_eigenvector: [-0.36965527  0.95180922 -0.0394177   0.        ]\n",
      "reconstructed_eigenvalue: 0.00390625\n",
      "reconstructed_eigenvector: [ 0.88958763  0.31447205 -0.52232419  0.        ]\n",
      "reconstructed_eigenvalue: 0.07421875\n",
      "reconstructed_eigenvector: [ 0.46825688  0.83764337 -0.14807583  0.        ]\n",
      "reconstructed_eigenvalue: 0.8671875\n",
      "reconstructed_eigenvector: [0.40421423 0.18916096 0.8043268  0.        ]\n",
      "reconstructed_eigenvalue: 0.921875\n"
     ]
    }
   ],
   "source": [
    "#TODO: Capire se fare la media tra i vari fattori di rescaling\n",
    "eigenvectors=[]\n",
    "for ll, eig in zip(a,eigenvalues):\n",
    "    \n",
    "    eigenvector=np.zeros(len(example_matrix1)) #put length of eigenvector\n",
    "    save_sign=np.sign(ll)\n",
    "    sv=abs(ll)\n",
    "    max_list=[]\n",
    "    scaled_statevectors=[]\n",
    "    for e,i in enumerate(range(0,len(sv),len(example_matrix1))):\n",
    "        max_list.append(max(sv[i:i+len(example_matrix1)]))\n",
    "        scaled_statevectors.append(sv[i:i+len(example_matrix1)]/max_list[e])\n",
    "        #print(max_list,scaled_statevectors)\n",
    "    idx_max=np.argmax(max_list)\n",
    "    #print(idx_max)\n",
    "    max_max=max_list[idx_max]\n",
    "    #print(max_max)\n",
    "    value=np.sqrt(max_max)\n",
    "    #eigenvector=scaled_statevectors[idx_max]*value*save_sign[:len(example_matrix)]\n",
    "    eigenvector=scaled_statevectors[idx_max]*value*save_sign[len(example_matrix1)*idx_max:len(example_matrix1)*idx_max+len(example_matrix1)]\n",
    "    eigenvectors.append((eig,eigenvector))\n",
    "    print('reconstructed_eigenvector:',eigenvector)\n",
    "    print('reconstructed_eigenvalue:', eig)\n",
    "    "
   ]
  },
  {
   "cell_type": "code",
   "execution_count": 51,
   "metadata": {},
   "outputs": [
    {
     "data": {
      "text/plain": [
       "array([0.01114745, 0.21180152, 2.47473358, 2.63079786])"
      ]
     },
     "execution_count": 51,
     "metadata": {},
     "output_type": "execute_result"
    }
   ],
   "source": [
    "np.array(eigenvalues)*np.trace(example_matrix)"
   ]
  },
  {
   "cell_type": "code",
   "execution_count": 52,
   "metadata": {},
   "outputs": [
    {
     "data": {
      "text/plain": [
       "(array([0.92221665, 0.07531465, 0.0024687 , 0.        ]),\n",
       " array([[-0.43714001, -0.82468914,  0.35888219,  0.        ],\n",
       "        [-0.2051187 , -0.29709624, -0.93255571,  0.        ],\n",
       "        [-0.87569112,  0.48127086,  0.03928651,  0.        ],\n",
       "        [ 0.        ,  0.        ,  0.        ,  1.        ]]))"
      ]
     },
     "execution_count": 52,
     "metadata": {},
     "output_type": "execute_result"
    }
   ],
   "source": [
    "np.linalg.eig(example_matrix1)#,np.linalg.eig(example_matrix2)"
   ]
  },
  {
   "cell_type": "code",
   "execution_count": 37,
   "metadata": {},
   "outputs": [
    {
     "ename": "NameError",
     "evalue": "name 'eig' is not defined",
     "output_type": "error",
     "traceback": [
      "\u001b[0;31m---------------------------------------------------------------------------\u001b[0m",
      "\u001b[0;31mNameError\u001b[0m                                 Traceback (most recent call last)",
      "Input \u001b[0;32mIn [37]\u001b[0m, in \u001b[0;36m<cell line: 1>\u001b[0;34m()\u001b[0m\n\u001b[0;32m----> 1\u001b[0m \u001b[43meig\u001b[49m\n",
      "\u001b[0;31mNameError\u001b[0m: name 'eig' is not defined"
     ]
    }
   ],
   "source": []
  },
  {
   "cell_type": "code",
   "execution_count": null,
   "metadata": {},
   "outputs": [],
   "source": []
  }
 ],
 "metadata": {
  "kernelspec": {
   "display_name": "Python 3 (ipykernel)",
   "language": "python",
   "name": "python3"
  },
  "language_info": {
   "codemirror_mode": {
    "name": "ipython",
    "version": 3
   },
   "file_extension": ".py",
   "mimetype": "text/x-python",
   "name": "python",
   "nbconvert_exporter": "python",
   "pygments_lexer": "ipython3",
   "version": "3.8.11"
  },
  "vscode": {
   "interpreter": {
    "hash": "3820477eeda6a2056d25dbf35341ad4ea495fec12a885dc74045ce43b88b4168"
   }
  }
 },
 "nbformat": 4,
 "nbformat_minor": 4
}
