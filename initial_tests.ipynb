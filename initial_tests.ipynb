{
 "cells": [
  {
   "cell_type": "markdown",
   "metadata": {},
   "source": [
    "### Example taken from *A Low-Complexity Quantum Principal Component Analysis Algorithm*\n",
    "https://doi.org/10.1109/TQE.2021.3140152"
   ]
  },
  {
   "cell_type": "code",
   "execution_count": 1,
   "metadata": {},
   "outputs": [
    {
     "data": {
      "text/plain": [
       "[0.45, 0.05, 0.05, 0.45]"
      ]
     },
     "execution_count": 1,
     "metadata": {},
     "output_type": "execute_result"
    }
   ],
   "source": [
    "import numpy as np\n",
    "\n",
    "example_matrix = np.array([[1.5, 0.5], [0.5, 1.5]])\n",
    "sum_squares = (example_matrix**2).sum()\n",
    "\n",
    "input_probabilities = []\n",
    "for x in example_matrix:\n",
    "  for y in x:\n",
    "    input_probabilities.append((y**2)/sum_squares)\n",
    "input_probabilities"
   ]
  },
  {
   "cell_type": "markdown",
   "metadata": {},
   "source": [
    "as an example, whose quantum state is given by\n",
    "$$\\left|\\psi_{A_0}\\right\\rangle=\\frac{3}{\\sqrt{20}}|00\\rangle+\\frac{1}{\\sqrt{20}}|01\\rangle+\\frac{1}{\\sqrt{20}}|10\\rangle+\\frac{3}{\\sqrt{20}}|11\\rangle .$$\n",
    "\n",
    "Note that the eigenvalues and the corresponding eigenvectors obtained by classical PCA are given by\n",
    "$$\\lambda_1=2, u_1=[1,1]^T$$\n",
    "$$\\lambda_2=1, u_2=[−1,1]^T.$$\n",
    "\n",
    "Note: $[1, 0]^T = |0〉$ and $[0, 1]^T = |1〉.$ \n",
    "\n",
    "When we take a threshold τ=1.1 for eigenvalues, the eigenvalue in binary $|λ_1〉=|10〉$ and the corresponding eigenvector $|u_1〉=[1,1]^T=\\frac{1}{\\sqrt{2}}|0〉+\\frac{1}{\\sqrt{2}}|1〉$ are considered as principal components. Therefore, the output of the proposed algorithm should be given by\n",
    "\n",
    "$$\\begin{aligned}\n",
    "\\left|\\psi_A^{\\prime}\\right\\rangle &=\\left|\\lambda_1\\right\\rangle\\left|u_1\\right\\rangle\\left|u_1\\right\\rangle \\\\\n",
    "&=|10\\rangle \\otimes\\left(\\frac{1}{\\sqrt{2}}|0\\rangle+\\frac{1}{\\sqrt{2}}|1\\rangle\\right) \\otimes\\left(\\frac{1}{\\sqrt{2}}|0\\rangle+\\frac{1}{\\sqrt{2}}|1\\rangle\\right) \\\\\n",
    "&=\\frac{1}{2}|1000\\rangle+\\frac{1}{2}|1001\\rangle+\\frac{1}{2}|1010\\rangle+\\frac{1}{2}|1011\\rangle .\n",
    "\\end{aligned}$$"
   ]
  },
  {
   "cell_type": "code",
   "execution_count": 2,
   "metadata": {},
   "outputs": [],
   "source": [
    "from qiskit import QuantumRegister, ClassicalRegister, QuantumCircuit\n",
    "\n",
    "resolution = 2\n",
    "\n",
    "input_register = QuantumRegister(len(example_matrix), name=\"input_state\")\n",
    "eigenvalues_register = QuantumRegister(resolution, name=\"eigenvalues\")\n",
    "ancilla_register = QuantumRegister(1, name=\"ancilla\")\n",
    "\n",
    "qupca_circuit = QuantumCircuit(2)\n"
   ]
  },
  {
   "cell_type": "code",
   "execution_count": 3,
   "metadata": {},
   "outputs": [
    {
     "data": {
      "text/plain": [
       "[0.6435011087932844, 2.498091544796509]"
      ]
     },
     "execution_count": 3,
     "metadata": {},
     "output_type": "execute_result"
    }
   ],
   "source": [
    "thetas = [2 * np.arcsin(np.sqrt(input_probabilities[1]+input_probabilities[2])), 2 * np.arcsin(np.sqrt(input_probabilities[0]+input_probabilities[3]))]\n",
    "thetas"
   ]
  },
  {
   "cell_type": "code",
   "execution_count": 4,
   "metadata": {},
   "outputs": [
    {
     "data": {
      "text/html": [
       "<pre style=\"word-wrap: normal;white-space: pre;background: #fff0;line-height: 1.1;font-family: &quot;Courier New&quot;,Courier,monospace\">     ┌───┐              ┌───┐              \n",
       "q_0: ┤ H ├──────■───────┤ X ├──────■───────\n",
       "     └───┘┌─────┴──────┐└───┘┌─────┴──────┐\n",
       "q_1: ─────┤ Ry(0.6435) ├─────┤ Ry(2.4981) ├\n",
       "          └────────────┘     └────────────┘</pre>"
      ],
      "text/plain": [
       "     ┌───┐              ┌───┐              \n",
       "q_0: ┤ H ├──────■───────┤ X ├──────■───────\n",
       "     └───┘┌─────┴──────┐└───┘┌─────┴──────┐\n",
       "q_1: ─────┤ Ry(0.6435) ├─────┤ Ry(2.4981) ├\n",
       "          └────────────┘     └────────────┘"
      ]
     },
     "execution_count": 4,
     "metadata": {},
     "output_type": "execute_result"
    }
   ],
   "source": [
    "qupca_circuit = QuantumCircuit(2)\n",
    "\n",
    "qupca_circuit.h(0)\n",
    "qupca_circuit.cry(thetas[0], control_qubit = 0, target_qubit = 1)\n",
    "qupca_circuit.x(0)\n",
    "qupca_circuit.cry(thetas[1], control_qubit = 0, target_qubit = 1)\n",
    "# qupca_circuit.measure_all()\n",
    "\n",
    "qupca_circuit.draw()\n"
   ]
  },
  {
   "cell_type": "code",
   "execution_count": 5,
   "metadata": {},
   "outputs": [
    {
     "data": {
      "text/plain": [
       "{'00': 0.45, '01': 0.05, '10': 0.05, '11': 0.45}"
      ]
     },
     "execution_count": 5,
     "metadata": {},
     "output_type": "execute_result"
    }
   ],
   "source": [
    "from qiskit import Aer, transpile, execute\n",
    "from qiskit.visualization import plot_histogram\n",
    "\n",
    "backend = Aer.get_backend(\"statevector_simulator\")\n",
    "job = backend.run(transpile(qupca_circuit, backend=backend))\n",
    "job.result().get_counts()\n"
   ]
  },
  {
   "cell_type": "code",
   "execution_count": 6,
   "metadata": {},
   "outputs": [
    {
     "data": {
      "image/png": "[encoded data removed]",
      "text/plain": [
       "<Figure size 658.969x264.88 with 1 Axes>"
      ]
     },
     "execution_count": 6,
     "metadata": {},
     "output_type": "execute_result"
    }
   ],
   "source": [
    "from qiskit.circuit.library import PhaseEstimation\n",
    "# from qiskit.algorithms import EstimationProblem\n",
    "# problem = EstimationProblem(qupca_circuit, [0])\n",
    "pe = PhaseEstimation(2, qupca_circuit)\n",
    "pe.decompose(reps=1).draw(\"mpl\")"
   ]
  },
  {
   "cell_type": "code",
   "execution_count": 9,
   "metadata": {},
   "outputs": [
    {
     "name": "stdout",
     "output_type": "stream",
     "text": [
      "[[0 0 0 0]\n",
      " [0 1 0 0]\n",
      " [0 0 2 0]\n",
      " [0 0 0 3]]\n",
      "[[ 1.+0.j  0.+0.j  0.+0.j  0.+0.j]\n",
      " [ 0.+0.j  0.+1.j -0.+0.j  0.+0.j]\n",
      " [ 0.+0.j  0.+0.j -1.+0.j  0.-0.j]\n",
      " [ 0.+0.j  0.+0.j  0.+0.j -0.-1.j]]\n"
     ]
    },
    {
     "data": {
      "text/plain": [
       "Operator([[ 1.+0.j,  0.+0.j,  0.+0.j,  0.+0.j],\n",
       "          [ 0.+0.j,  0.+1.j, -0.+0.j,  0.+0.j],\n",
       "          [ 0.+0.j,  0.+0.j, -1.+0.j,  0.-0.j],\n",
       "          [ 0.+0.j,  0.+0.j,  0.+0.j, -0.-1.j]],\n",
       "         input_dims=(2, 2), output_dims=(2, 2))"
      ]
     },
     "execution_count": 9,
     "metadata": {},
     "output_type": "execute_result"
    }
   ],
   "source": [
    "import numpy as np\n",
    "from scipy.linalg import expm\n",
    "from qiskit.quantum_info.operators import Operator\n",
    "\n",
    "matrix = np.array([[0, 0, 0, 0], [0, 1, 0, 0], [0, 0, 2, 0], [0, 0, 0, 3]])\n",
    "print(matrix)\n",
    "U  = expm(matrix*(np.pi*1j/2))\n",
    "np.set_printoptions(suppress=True)\n",
    "print(U)\n",
    "operator_U = Operator(U)\n",
    "operator_U"
   ]
  },
  {
   "cell_type": "code",
   "execution_count": 11,
   "metadata": {},
   "outputs": [
    {
     "data": {
      "text/html": [
       "<pre style=\"word-wrap: normal;white-space: pre;background: #fff0;line-height: 1.1;font-family: &quot;Courier New&quot;,Courier,monospace\">       ┌─────────┐                            ┌───────────┐                   »\n",
       "q_0: ──┤ U2(0,π) ├────■────────────────────■──┤ U3(π,0,π) ├──■────────────────»\n",
       "     ┌─┴─────────┴─┐┌─┴─┐┌──────────────┐┌─┴─┐├───────────┤┌─┴─┐┌────────────┐»\n",
       "q_1: ┤ Ry(0.32175) ├┤ X ├┤ Ry(-0.32175) ├┤ X ├┤ Ry(1.249) ├┤ X ├┤ Ry(-1.249) ├»\n",
       "     └─────────────┘└───┘└──────────────┘└───┘└───────────┘└───┘└────────────┘»\n",
       "«              ┌───────────────┐         ┌───────────────┐     \n",
       "«q_0: ──■──────┤ U3(0,-π/2,-π) ├─────────┤ U3(0,-π/2,-π) ├─────\n",
       "«     ┌─┴─┐┌───┴───────────────┴────┐┌───┴───────────────┴────┐\n",
       "«q_1: ┤ X ├┤ U3(0,-2.6224,-0.51915) ├┤ U3(0,-2.6224,-0.51915) ├\n",
       "«     └───┘└────────────────────────┘└────────────────────────┘</pre>"
      ],
      "text/plain": [
       "       ┌─────────┐                            ┌───────────┐                   »\n",
       "q_0: ──┤ U2(0,π) ├────■────────────────────■──┤ U3(π,0,π) ├──■────────────────»\n",
       "     ┌─┴─────────┴─┐┌─┴─┐┌──────────────┐┌─┴─┐├───────────┤┌─┴─┐┌────────────┐»\n",
       "q_1: ┤ Ry(0.32175) ├┤ X ├┤ Ry(-0.32175) ├┤ X ├┤ Ry(1.249) ├┤ X ├┤ Ry(-1.249) ├»\n",
       "     └─────────────┘└───┘└──────────────┘└───┘└───────────┘└───┘└────────────┘»\n",
       "«              ┌───────────────┐         ┌───────────────┐     \n",
       "«q_0: ──■──────┤ U3(0,-π/2,-π) ├─────────┤ U3(0,-π/2,-π) ├─────\n",
       "«     ┌─┴─┐┌───┴───────────────┴────┐┌───┴───────────────┴────┐\n",
       "«q_1: ┤ X ├┤ U3(0,-2.6224,-0.51915) ├┤ U3(0,-2.6224,-0.51915) ├\n",
       "«     └───┘└────────────────────────┘└────────────────────────┘"
      ]
     },
     "execution_count": 11,
     "metadata": {},
     "output_type": "execute_result"
    }
   ],
   "source": [
    "qupca_circuit.append(operator_U, [0, 1])\n",
    "qupca_circuit.decompose().draw()"
   ]
  }
 ],
 "metadata": {
  "kernelspec": {
   "display_name": "Python 3.9.7 ('base')",
   "language": "python",
   "name": "python3"
  },
  "language_info": {
   "codemirror_mode": {
    "name": "ipython",
    "version": 3
   },
   "file_extension": ".py",
   "mimetype": "text/x-python",
   "name": "python",
   "nbconvert_exporter": "python",
   "pygments_lexer": "ipython3",
   "version": "3.9.7"
  },
  "orig_nbformat": 4,
  "vscode": {
   "interpreter": {
    "hash": "8df9efd9138c478f2d6059de8af42d54cde8c8d8cac0ee9263b85620f7556f30"
   }
  }
 },
 "nbformat": 4,
 "nbformat_minor": 2
}
