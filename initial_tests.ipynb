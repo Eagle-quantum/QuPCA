{
 "cells": [
  {
   "cell_type": "markdown",
   "metadata": {},
   "source": [
    "### Example taken from *A Low-Complexity Quantum Principal Component Analysis Algorithm*\n",
    "https://doi.org/10.1109/TQE.2021.3140152"
   ]
  },
  {
   "cell_type": "code",
   "execution_count": 10,
   "metadata": {},
   "outputs": [
    {
     "name": "stdout",
     "output_type": "stream",
     "text": [
      "[0.45 0.05 0.05 0.45]\n"
     ]
    }
   ],
   "source": [
    "import numpy as np\n",
    "import itertools\n",
    "\n",
    "example_matrix = np.array([[1.5, 0.5], [0.5, 1.5]])\n",
    "big_example_matrix = np.array([[0, 0, 0, 0], [0, 1, 0, 0], [0, 0, 2, 0], [0, 0, 0, 3]])\n",
    "\n",
    "sum_squares = (example_matrix**2).sum()\n",
    "input_probabilities = (example_matrix**2/sum_squares).flatten()\n",
    "\n",
    "print(input_probabilities)"
   ]
  },
  {
   "cell_type": "markdown",
   "metadata": {},
   "source": [
    "as an example, whose quantum state is given by\n",
    "$$\\left|\\psi_{A_0}\\right\\rangle=\\frac{3}{\\sqrt{20}}|00\\rangle+\\frac{1}{\\sqrt{20}}|01\\rangle+\\frac{1}{\\sqrt{20}}|10\\rangle+\\frac{3}{\\sqrt{20}}|11\\rangle .$$\n",
    "\n",
    "Note that the eigenvalues and the corresponding eigenvectors obtained by classical PCA are given by\n",
    "$$\\lambda_1=2, u_1=[1,1]^T$$\n",
    "$$\\lambda_2=1, u_2=[−1,1]^T.$$\n",
    "\n",
    "Note: $[1, 0]^T = |0〉$ and $[0, 1]^T = |1〉.$ \n",
    "\n",
    "When we take a threshold τ=1.1 for eigenvalues, the eigenvalue in binary $|λ_1〉=|10〉$ and the corresponding eigenvector $|u_1〉=[1,1]^T=\\frac{1}{\\sqrt{2}}|0〉+\\frac{1}{\\sqrt{2}}|1〉$ are considered as principal components. Therefore, the output of the proposed algorithm should be given by\n",
    "\n",
    "$$\\begin{aligned}\n",
    "\\left|\\psi_A^{\\prime}\\right\\rangle &=\\left|\\lambda_1\\right\\rangle\\left|u_1\\right\\rangle\\left|u_1\\right\\rangle \\\\\n",
    "&=|10\\rangle \\otimes\\left(\\frac{1}{\\sqrt{2}}|0\\rangle+\\frac{1}{\\sqrt{2}}|1\\rangle\\right) \\otimes\\left(\\frac{1}{\\sqrt{2}}|0\\rangle+\\frac{1}{\\sqrt{2}}|1\\rangle\\right) \\\\\n",
    "&=\\frac{1}{2}|1000\\rangle+\\frac{1}{2}|1001\\rangle+\\frac{1}{2}|1010\\rangle+\\frac{1}{2}|1011\\rangle .\n",
    "\\end{aligned}$$"
   ]
  },
  {
   "cell_type": "code",
   "execution_count": 11,
   "metadata": {},
   "outputs": [],
   "source": [
    "# thetas = [2 * np.arcsin(np.sqrt(input_probabilities[1]+input_probabilities[2])), 2 * np.arcsin(np.sqrt(input_probabilities[0]+input_probabilities[3]))]\n",
    "# thetas"
   ]
  },
  {
   "cell_type": "code",
   "execution_count": 23,
   "metadata": {},
   "outputs": [
    {
     "name": "stdout",
     "output_type": "stream",
     "text": [
      "0 -> 0.7071067811865476\n",
      "1 -> 0.7071067811865476\n",
      "00 -> 0.6708203932499369\n",
      "01 -> 0.22360679774997896\n",
      "10 -> 0.22360679774997896\n",
      "11 -> 0.6708203932499369\n"
     ]
    },
    {
     "data": {
      "text/plain": [
       "[1.5707963267948966, 0.6435011087932846, 2.498091544796509]"
      ]
     },
     "execution_count": 23,
     "metadata": {},
     "output_type": "execute_result"
    }
   ],
   "source": [
    "#Tommaso's great code for computing the thetas\n",
    "\n",
    "lst_combination=[]\n",
    "\n",
    "for k in range(1,resolution+1):\n",
    "    lst_combination.append(list(map(list, itertools.product([0, 1], repeat=k))))\n",
    "container=[]\n",
    "for lst in lst_combination:\n",
    "    container.append([''.join([''.join(str(j)) for j in i]) for i in lst])\n",
    "all_combinations=[item for c in container for item in c]\n",
    "\n",
    "general_bitstring=[''.join([''.join(str(j)) for j in i]) for i in list(map(list, itertools.product([0, 1], repeat=resolution)))]\n",
    "\n",
    "#Nodes contains all the values of the tree (except for the root)\n",
    "nodes=[]\n",
    "for st in all_combinations:\n",
    "    #print(st)\n",
    "    starts = [general_bitstring.index(l) for l in general_bitstring if l.startswith(st)]\n",
    "    #print(starts)\n",
    "    print(st,'->',np.sqrt(input_probabilities[starts].sum()))\n",
    "    nodes.append(np.sqrt(input_probabilities[starts].sum()))\n",
    "\n",
    "#add root tree\n",
    "nodes.insert(0, 1)\n",
    "\n",
    "idx_sub=1\n",
    "thetas=[]\n",
    "for i in range(len(nodes)-len(input_probabilities)):\n",
    "    right_node=i+idx_sub\n",
    "    left_node=right_node+1\n",
    "    #print(left_node,right_node)\n",
    "    if nodes[i]!=0:\n",
    "        #print(nodes[right_node],nodes[i])\n",
    "        thetas.append(2*np.arccos(nodes[right_node]/nodes[i]))\n",
    "        # thetas.append(2*np.arcsin(nodes[left_node]/nodes[i]))\n",
    "    else:\n",
    "        thetas.append(0)\n",
    "        # thetas.append(0)\n",
    "        \n",
    "    idx_sub+=1\n",
    "\n",
    "# SUB = str.maketrans(\"0123456789\", \"₀₁₂₃₄₅₆₇₈₉\")\n",
    "\n",
    "# for idx,th in zip(all_combinations,thetas):\n",
    "#     print('\\u03F4(R{})'.format((str(idx).translate(SUB))),'->', th)\n",
    "thetas"
   ]
  },
  {
   "cell_type": "code",
   "execution_count": 26,
   "metadata": {},
   "outputs": [
    {
     "data": {
      "text/html": [
       "<pre style=\"word-wrap: normal;white-space: pre;background: #fff0;line-height: 1.1;font-family: &quot;Courier New&quot;,Courier,monospace\">     ┌─────────┐              ┌───┐              \n",
       "q_0: ┤ Ry(π/2) ├──────■───────┤ X ├──────■───────\n",
       "     └─────────┘┌─────┴──────┐└───┘┌─────┴──────┐\n",
       "q_1: ───────────┤ Ry(0.6435) ├─────┤ Ry(2.4981) ├\n",
       "                └────────────┘     └────────────┘</pre>"
      ],
      "text/plain": [
       "     ┌─────────┐              ┌───┐              \n",
       "q_0: ┤ Ry(π/2) ├──────■───────┤ X ├──────■───────\n",
       "     └─────────┘┌─────┴──────┐└───┘┌─────┴──────┐\n",
       "q_1: ───────────┤ Ry(0.6435) ├─────┤ Ry(2.4981) ├\n",
       "                └────────────┘     └────────────┘"
      ]
     },
     "execution_count": 26,
     "metadata": {},
     "output_type": "execute_result"
    }
   ],
   "source": [
    "from qiskit import QuantumRegister, ClassicalRegister, QuantumCircuit\n",
    "\n",
    "resolution = 2\n",
    "\n",
    "matrix_circuit = QuantumCircuit(len(example_matrix))\n",
    "\n",
    "# matrix_circuit.h(0) #same as line below\n",
    "matrix_circuit.ry(thetas[0], 0)\n",
    "matrix_circuit.cry(thetas[1], control_qubit = 0, target_qubit = 1)\n",
    "matrix_circuit.x(0)\n",
    "matrix_circuit.cry(thetas[2], control_qubit = 0, target_qubit = 1)\n",
    "\n",
    "matrix_circuit.draw()\n"
   ]
  },
  {
   "cell_type": "code",
   "execution_count": 27,
   "metadata": {},
   "outputs": [
    {
     "data": {
      "text/plain": [
       "{'00': 0.45, '01': 0.05, '10': 0.05, '11': 0.45}"
      ]
     },
     "execution_count": 27,
     "metadata": {},
     "output_type": "execute_result"
    }
   ],
   "source": [
    "from qiskit import Aer, transpile, execute\n",
    "from qiskit.visualization import plot_histogram\n",
    "\n",
    "backend = Aer.get_backend(\"statevector_simulator\")\n",
    "job = backend.run(transpile(matrix_circuit, backend=backend))\n",
    "job.result().get_counts()\n"
   ]
  },
  {
   "cell_type": "code",
   "execution_count": 5,
   "metadata": {},
   "outputs": [],
   "source": [
    "# from scipy.linalg import expm\n",
    "# from qiskit.quantum_info.operators import Operator\n",
    "\n",
    "# U  = expm(big_matrix*(2*np.pi*1j/4))\n",
    "# np.set_printoptions(suppress=True)\n",
    "# operator_U = Operator(U)\n",
    "# operator_U"
   ]
  },
  {
   "cell_type": "code",
   "execution_count": 6,
   "metadata": {},
   "outputs": [
    {
     "data": {
      "text/plain": [
       "Operator([[-0.5+0.5j, -0.5-0.5j],\n",
       "          [-0.5-0.5j, -0.5+0.5j]],\n",
       "         input_dims=(2,), output_dims=(2,))"
      ]
     },
     "execution_count": 6,
     "metadata": {},
     "output_type": "execute_result"
    }
   ],
   "source": [
    "from qiskit.algorithms.linear_solvers.matrices.numpy_matrix import NumPyMatrix\n",
    "\n",
    "unitary_backend = Aer.get_backend(\"unitary_simulator\")\n",
    "u_circuit = NumPyMatrix(example_matrix, evolution_time=2*np.pi/4)\n",
    "unitary_job = unitary_backend.run(transpile(u_circuit, backend=unitary_backend))\n",
    "unitary_job.result().get_unitary()"
   ]
  },
  {
   "cell_type": "markdown",
   "metadata": {},
   "source": []
  },
  {
   "cell_type": "code",
   "execution_count": 7,
   "metadata": {},
   "outputs": [
    {
     "data": {
      "image/png": "[encoded data removed]",
      "text/plain": [
       "<Figure size 658.969x204.68 with 1 Axes>"
      ]
     },
     "execution_count": 7,
     "metadata": {},
     "output_type": "execute_result"
    }
   ],
   "source": [
    "from qiskit.circuit.library import PhaseEstimation\n",
    "\n",
    "pe = PhaseEstimation(resolution, u_circuit, name = \"PE\")\n",
    "pe.decompose(reps=1).draw(\"mpl\")"
   ]
  },
  {
   "cell_type": "code",
   "execution_count": 8,
   "metadata": {},
   "outputs": [
    {
     "data": {
      "image/png": "[encoded data removed]",
      "text/plain": [
       "<Figure size 903.667x325.08 with 1 Axes>"
      ]
     },
     "execution_count": 8,
     "metadata": {},
     "output_type": "execute_result"
    }
   ],
   "source": [
    "tot_qubit = resolution+len(example_matrix)\n",
    "\n",
    "qr_total = QuantumRegister(tot_qubit, 'total')\n",
    "# classical = ClassicalRegister(4, 'measure')\n",
    "\n",
    "total_circuit = QuantumCircuit(qr_total , name='matrix')\n",
    "\n",
    "total_circuit.append(matrix_circuit.to_gate(), qr_total[2:])\n",
    "total_circuit.append(pe.to_gate(), qr_total[0:3])\n",
    "# total_circuit.measure(qr_total[:2], classical[:])\n",
    "total_circuit.swap(qr_total[0],qr_total[1])\n",
    "total_circuit.measure_all()\n",
    "\n",
    "total_circuit.decompose(reps=1).draw(\"mpl\")"
   ]
  },
  {
   "cell_type": "code",
   "execution_count": 9,
   "metadata": {},
   "outputs": [
    {
     "data": {
      "image/png": "[encoded data removed]",
      "text/plain": [
       "<Figure size 504x360 with 1 Axes>"
      ]
     },
     "execution_count": 9,
     "metadata": {},
     "output_type": "execute_result"
    }
   ],
   "source": [
    "from qiskit.visualization import plot_histogram\n",
    "\n",
    "backend_total = Aer.get_backend(\"qasm_simulator\")\n",
    "job = backend_total.run(transpile(total_circuit, backend=backend_total), shots=10000)\n",
    "counts = job.result().get_counts()\n",
    "plot_histogram(counts)"
   ]
  }
 ],
 "metadata": {
  "kernelspec": {
   "display_name": "Python 3.9.12 ('qvar')",
   "language": "python",
   "name": "python3"
  },
  "language_info": {
   "codemirror_mode": {
    "name": "ipython",
    "version": 3
   },
   "file_extension": ".py",
   "mimetype": "text/x-python",
   "name": "python",
   "nbconvert_exporter": "python",
   "pygments_lexer": "ipython3",
   "version": "3.9.12"
  },
  "orig_nbformat": 4,
  "vscode": {
   "interpreter": {
    "hash": "5779756d2c2f50ed1fbffcc348c65b8fe5d82e6d6f5b430de7595757022a152b"
   }
  }
 },
 "nbformat": 4,
 "nbformat_minor": 2
}
