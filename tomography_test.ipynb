{
 "cells": [
  {
   "cell_type": "markdown",
   "metadata": {},
   "source": [
    "### Example taken from *A Low-Complexity Quantum Principal Component Analysis Algorithm*\n",
    "https://doi.org/10.1109/TQE.2021.3140152"
   ]
  },
  {
   "cell_type": "code",
   "execution_count": 618,
   "metadata": {},
   "outputs": [
    {
     "name": "stdout",
     "output_type": "stream",
     "text": [
      "[0.10611139 0.44334253 0.44334253 0.00720354]\n"
     ]
    }
   ],
   "source": [
    "import numpy as np\n",
    "import itertools\n",
    "from qiskit_experiments.library import StateTomography\n",
    "from qiskit.visualization import plot_state_city\n",
    "import qiskit.quantum_info as qi\n",
    "from qiskit.visualization import plot_histogram\n",
    "from qiskit.circuit.library.standard_gates import RYGate\n",
    "from qiskit import Aer, transpile, execute\n",
    "from qiskit import QuantumRegister, ClassicalRegister, QuantumCircuit\n",
    "from qiskit.algorithms.linear_solvers.matrices.numpy_matrix import NumPyMatrix\n",
    "from qiskit.circuit.library import PhaseEstimation\n",
    "\n",
    "example_matrix = np.array([[5.45, 11.14], [11.14, 1.42]])\n",
    "#example_matrix = np.array([[18.45, 1.14], [1.14, 15.82]])\n",
    "#example_matrix = np.array([[1.45, 5.14], [5.14, 7.82]])\n",
    "#example_matrix = np.array([[13.45, 3.4], [3.4, 1.82]])\n",
    "\n",
    "big_example_matrix = np.array([[0, 0, 0, 0], [0, 1, 0, 0], [0, 0, 2, 0], [0, 0, 0, 3]])\n",
    "#example_matrix = np.array([[1.5, 0.5, 1.5, 0.4], [0.5, 2, 2.9, 1.5], [0.3,0.5, 2.5, 1.6], [0.5, 0.5, 0.5, 2.5]])\n",
    "#example_matrix = np.array([[1.7, 0.2, 1.5, 0.2], [0.7, 1, 2.9, 1.1], [0.5,1.5, .7, 1.6], [0.5, 1.5, 0.5, 1.7]])\n",
    "#example_matrix=np.dot(example_matrix,example_matrix.T)\n",
    "#example_matrix = np.array([[1.5, .5], [.5, 1.5]])\n",
    "sum_squares = (example_matrix**2).sum()\n",
    "input_probabilities = (example_matrix**2/sum_squares).flatten()\n",
    "\n",
    "print(input_probabilities)"
   ]
  },
  {
   "cell_type": "code",
   "execution_count": 619,
   "metadata": {},
   "outputs": [
    {
     "data": {
      "text/plain": [
       "(array([[2.17799143, 0.98403204],\n",
       "        [0.98403204, 1.82200857]]),\n",
       " (array([3., 1.]),\n",
       "  array([[ 0.76746056, -0.64109616],\n",
       "         [ 0.64109616,  0.76746056]])))"
      ]
     },
     "execution_count": 619,
     "metadata": {},
     "output_type": "execute_result"
    }
   ],
   "source": [
    "eig,e_v=np.linalg.eig(example_matrix)\n",
    "b=np.array([3.,1.])\n",
    "#b=np.array([0,1,2,3])\n",
    "BB = e_v@np.diag(b)@e_v.T\n",
    "BB, np.linalg.eig(BB)"
   ]
  },
  {
   "cell_type": "code",
   "execution_count": 620,
   "metadata": {},
   "outputs": [
    {
     "name": "stdout",
     "output_type": "stream",
     "text": [
      "[0.47436467 0.09683191 0.09683191 0.33197152]\n"
     ]
    }
   ],
   "source": [
    "example_matrix=BB\n",
    "\n",
    "sum_squares = (example_matrix**2).sum()\n",
    "input_probabilities = (example_matrix**2/sum_squares).flatten()\n",
    "\n",
    "print(input_probabilities)"
   ]
  },
  {
   "cell_type": "code",
   "execution_count": 621,
   "metadata": {},
   "outputs": [
    {
     "data": {
      "text/plain": [
       "array([[2.17799143, 0.98403204],\n",
       "       [0.98403204, 1.82200857]])"
      ]
     },
     "execution_count": 621,
     "metadata": {},
     "output_type": "execute_result"
    }
   ],
   "source": [
    "example_matrix"
   ]
  },
  {
   "cell_type": "code",
   "execution_count": 622,
   "metadata": {},
   "outputs": [
    {
     "data": {
      "text/plain": [
       "(array([3., 1.]),\n",
       " array([[ 0.76746056, -0.64109616],\n",
       "        [ 0.64109616,  0.76746056]]))"
      ]
     },
     "execution_count": 622,
     "metadata": {},
     "output_type": "execute_result"
    }
   ],
   "source": [
    "np.linalg.eig(example_matrix)"
   ]
  },
  {
   "cell_type": "markdown",
   "metadata": {},
   "source": [
    "as an example, whose quantum state is given by\n",
    "$$\\left|\\psi_{A_0}\\right\\rangle=\\frac{3}{\\sqrt{20}}|00\\rangle+\\frac{1}{\\sqrt{20}}|01\\rangle+\\frac{1}{\\sqrt{20}}|10\\rangle+\\frac{3}{\\sqrt{20}}|11\\rangle .$$\n",
    "\n",
    "Note that the eigenvalues and the corresponding eigenvectors obtained by classical PCA are given by\n",
    "$$\\lambda_1=2, u_1=[1,1]^T$$\n",
    "$$\\lambda_2=1, u_2=[−1,1]^T.$$\n",
    "\n",
    "Note: $[1, 0]^T = |0〉$ and $[0, 1]^T = |1〉.$ \n",
    "\n",
    "When we take a threshold τ=1.1 for eigenvalues, the eigenvalue in binary $|λ_1〉=|10〉$ and the corresponding eigenvector $|u_1〉=[1,1]^T=\\frac{1}{\\sqrt{2}}|0〉+\\frac{1}{\\sqrt{2}}|1〉$ are considered as principal components. Therefore, the output of the proposed algorithm should be given by\n",
    "\n",
    "$$\\begin{aligned}\n",
    "\\left|\\psi_A^{\\prime}\\right\\rangle &=\\left|\\lambda_1\\right\\rangle\\left|u_1\\right\\rangle\\left|u_1\\right\\rangle \\\\\n",
    "&=|10\\rangle \\otimes\\left(\\frac{1}{\\sqrt{2}}|0\\rangle+\\frac{1}{\\sqrt{2}}|1\\rangle\\right) \\otimes\\left(\\frac{1}{\\sqrt{2}}|0\\rangle+\\frac{1}{\\sqrt{2}}|1\\rangle\\right) \\\\\n",
    "&=\\frac{1}{2}|1000\\rangle+\\frac{1}{2}|1001\\rangle+\\frac{1}{2}|1010\\rangle+\\frac{1}{2}|1011\\rangle .\n",
    "\\end{aligned}$$"
   ]
  },
  {
   "cell_type": "code",
   "execution_count": 623,
   "metadata": {},
   "outputs": [],
   "source": [
    "#Tommaso's great code for computing the thetas\n",
    "def thetas_computation(example_matrix):\n",
    "    lst_combination=[]\n",
    "\n",
    "    for k in range(1, len(example_matrix)+1):\n",
    "        lst_combination.append(list(map(list, itertools.product([0, 1], repeat=k))))\n",
    "    container=[]\n",
    "    for lst in lst_combination:\n",
    "        container.append([''.join([''.join(str(j)) for j in i]) for i in lst])\n",
    "    all_combinations=[item for c in container for item in c]\n",
    "\n",
    "    general_bitstring=[''.join([''.join(str(j)) for j in i]) for i in list(map(list, itertools.product([0, 1], repeat=len(example_matrix))))]\n",
    "\n",
    "    #Nodes contains all the values of the tree (except for the root)\n",
    "    nodes=[]\n",
    "    for st in all_combinations:\n",
    "        #print(st)\n",
    "        starts = [general_bitstring.index(l) for l in general_bitstring if l.startswith(st)]\n",
    "        #print(starts)\n",
    "        print(st,'->',np.sqrt(input_probabilities[starts].sum()))\n",
    "        nodes.append(np.sqrt(input_probabilities[starts].sum()))\n",
    "\n",
    "    #add root tree\n",
    "    nodes.insert(0, 1)\n",
    "\n",
    "    idx_sub=1\n",
    "    thetas=[]\n",
    "    for i in range(len(nodes)-len(input_probabilities)):\n",
    "        right_node=i+idx_sub\n",
    "        left_node=right_node+1\n",
    "        #print(left_node,right_node)\n",
    "        if nodes[i]!=0:\n",
    "            #print(nodes[right_node],nodes[i])\n",
    "            thetas.append(2*np.arccos(nodes[right_node]/nodes[i]))\n",
    "            thetas.append(2*np.arcsin(nodes[left_node]/nodes[i]))\n",
    "        else:\n",
    "            thetas.append(0)\n",
    "            thetas.append(0)\n",
    "\n",
    "        idx_sub+=1\n",
    "    return thetas, all_combinations\n",
    "\n",
    "# SUB = str.maketrans(\"0123456789\", \"₀₁₂₃₄₅₆₇₈₉\")\n",
    "\n",
    "# for idx,th in zip(all_combinations,thetas):\n",
    "#     print('\\u03F4(R{})'.format((str(idx).translate(SUB))),'->', th)\n",
    "#thetas"
   ]
  },
  {
   "cell_type": "code",
   "execution_count": 624,
   "metadata": {},
   "outputs": [],
   "source": [
    "def generate_qram_circuit(thetas, all_combinations):\n",
    "    \n",
    "    right_nodes_indexes=list(range(0,len(thetas),2))\n",
    "    rotations_list=list(zip(np.array(all_combinations)[right_nodes_indexes],np.array(thetas)[right_nodes_indexes]))\n",
    "\n",
    "    qc=QuantumCircuit(len(example_matrix))\n",
    "\n",
    "    for r_l in rotations_list:\n",
    "        target_qubit=len(r_l[0])-1\n",
    "        \n",
    "        #First case of R_0\n",
    "        if target_qubit==0:\n",
    "            qc.ry(theta=r_l[1],qubit=target_qubit)\n",
    "            continue\n",
    "            \n",
    "        not_gate=[]\n",
    "        for qb in range(target_qubit):\n",
    "            if r_l[0][qb]=='0':\n",
    "                not_gate.append(qb)\n",
    "                \n",
    "        c_t_qubits=list(range(len(r_l[0])))\n",
    "        n_controls=len(range(target_qubit))\n",
    "        \n",
    "        if len(not_gate)>0:\n",
    "            qc.x(not_gate)\n",
    "            c_ry = RYGate(r_l[1]).control(n_controls)\n",
    "            qc.append(c_ry, c_t_qubits)\n",
    "            qc.x(not_gate)\n",
    "        else:\n",
    "            c_ry = RYGate(r_l[1]).control(n_controls)\n",
    "            qc.append(c_ry, c_t_qubits)\n",
    "    return qc"
   ]
  },
  {
   "cell_type": "code",
   "execution_count": 625,
   "metadata": {},
   "outputs": [
    {
     "name": "stdout",
     "output_type": "stream",
     "text": [
      "0 -> 0.7557754778256228\n",
      "1 -> 0.6548308385510349\n",
      "00 -> 0.688741365010434\n",
      "01 -> 0.31117825278465794\n",
      "10 -> 0.3111782527846579\n",
      "11 -> 0.5761696990569176\n"
     ]
    },
    {
     "data": {
      "text/html": [
       "<pre style=\"word-wrap: normal;white-space: pre;background: #fff0;line-height: 1.1;font-family: &quot;Courier New&quot;,Courier,monospace\">     ┌────────────┐┌───┐               ┌───┐              \n",
       "q_0: ┤ Ry(1.4279) ├┤ X ├───────■───────┤ X ├──────■───────\n",
       "     └────────────┘└───┘┌──────┴──────┐└───┘┌─────┴──────┐\n",
       "q_1: ───────────────────┤ Ry(0.84871) ├─────┤ Ry(2.1512) ├\n",
       "                        └─────────────┘     └────────────┘</pre>"
      ],
      "text/plain": [
       "     ┌────────────┐┌───┐               ┌───┐              \n",
       "q_0: ┤ Ry(1.4279) ├┤ X ├───────■───────┤ X ├──────■───────\n",
       "     └────────────┘└───┘┌──────┴──────┐└───┘┌─────┴──────┐\n",
       "q_1: ───────────────────┤ Ry(0.84871) ├─────┤ Ry(2.1512) ├\n",
       "                        └─────────────┘     └────────────┘"
      ]
     },
     "execution_count": 625,
     "metadata": {},
     "output_type": "execute_result"
    }
   ],
   "source": [
    "thetas, all_combinations = thetas_computation(example_matrix)\n",
    "matrix_circuit = generate_qram_circuit(thetas, all_combinations)\n",
    "matrix_circuit.draw()"
   ]
  },
  {
   "cell_type": "code",
   "execution_count": 626,
   "metadata": {},
   "outputs": [
    {
     "data": {
      "text/plain": [
       "{'00': 0.474364667876436,\n",
       " '01': 0.096831905006112,\n",
       " '10': 0.096831905006113,\n",
       " '11': 0.331971522111339}"
      ]
     },
     "execution_count": 626,
     "metadata": {},
     "output_type": "execute_result"
    }
   ],
   "source": [
    "#Check matrix encoding\n",
    "backend = Aer.get_backend(\"statevector_simulator\")\n",
    "job = backend.run(transpile(matrix_circuit, backend=backend))\n",
    "job.result().get_counts()"
   ]
  },
  {
   "cell_type": "code",
   "execution_count": 627,
   "metadata": {},
   "outputs": [
    {
     "name": "stderr",
     "output_type": "stream",
     "text": [
      "/var/folders/rr/g930v2cj1wvdzc257kclm3lm0000gn/T/ipykernel_1514/4115894098.py:4: DeprecationWarning: The NumPyMatrix class is deprecated as of Qiskit Terra 0.22.0 and will be removed no sooner than 3 months after the release date. \n",
      "  u_circuit = NumPyMatrix(example_matrix, evolution_time=2*np.pi/(2**resolution))\n"
     ]
    },
    {
     "data": {
      "text/plain": [
       "Operator([[2.97102750e-16-0.17799143j, 7.53486851e-16-0.98403204j],\n",
       "          [7.53486851e-16-0.98403204j, 2.45217798e-17+0.17799143j]],\n",
       "         input_dims=(2,), output_dims=(2,))"
      ]
     },
     "execution_count": 627,
     "metadata": {},
     "output_type": "execute_result"
    }
   ],
   "source": [
    "#Unitary for PE\n",
    "resolution = 2\n",
    "unitary_backend = Aer.get_backend(\"unitary_simulator\")\n",
    "u_circuit = NumPyMatrix(example_matrix, evolution_time=2*np.pi/(2**resolution))\n",
    "unitary_job = unitary_backend.run(transpile(u_circuit, backend=unitary_backend))\n",
    "unitary_job.result().get_unitary()"
   ]
  },
  {
   "cell_type": "code",
   "execution_count": 628,
   "metadata": {},
   "outputs": [
    {
     "data": {
      "image/png": "[encoded data removed]",
      "text/plain": [
       "<Figure size 658.969x204.68 with 1 Axes>"
      ]
     },
     "execution_count": 628,
     "metadata": {},
     "output_type": "execute_result"
    }
   ],
   "source": [
    "#PE circuit\n",
    "pe = PhaseEstimation(resolution, u_circuit, name = \"PE\")\n",
    "pe.decompose().draw(\"mpl\")"
   ]
  },
  {
   "cell_type": "markdown",
   "metadata": {},
   "source": [
    "# Check Statevector"
   ]
  },
  {
   "cell_type": "code",
   "execution_count": 629,
   "metadata": {},
   "outputs": [
    {
     "data": {
      "image/png": "[encoded data removed]",
      "text/plain": [
       "<Figure size 482.267x264.88 with 1 Axes>"
      ]
     },
     "execution_count": 629,
     "metadata": {},
     "output_type": "execute_result"
    }
   ],
   "source": [
    "tot_qubit = resolution+len(example_matrix)\n",
    "\n",
    "qr_total = QuantumRegister(tot_qubit, 'total')\n",
    "# classical = ClassicalRegister(4, 'measure')\n",
    "\n",
    "total_circuit = QuantumCircuit(qr_total , name='matrix')\n",
    "\n",
    "total_circuit.append(matrix_circuit.to_gate(), qr_total[resolution:])\n",
    "total_circuit.append(pe.to_gate(), qr_total[0:pe.num_qubits])\n",
    "# total_circuit.measure(qr_total[:2], classical[:])\n",
    "#total_circuit.swap(qr_total[0],qr_total[1])\n",
    "#total_circuit.measure_all()\n",
    "\n",
    "total_circuit.decompose(reps=1).draw(\"mpl\")"
   ]
  },
  {
   "cell_type": "code",
   "execution_count": 630,
   "metadata": {},
   "outputs": [],
   "source": [
    "backend_total = Aer.get_backend(\"statevector_simulator\")\n",
    "job = backend_total.run(transpile(total_circuit, backend=backend_total))\n",
    "statevector = np.asarray(job.result().get_statevector()).round(4)\n",
    "#plot_histogram(counts)"
   ]
  },
  {
   "cell_type": "code",
   "execution_count": 631,
   "metadata": {},
   "outputs": [],
   "source": [
    "def attach_bitstrings(vector):\n",
    "    return list(zip(bitstrings, vector))"
   ]
  },
  {
   "cell_type": "code",
   "execution_count": 632,
   "metadata": {},
   "outputs": [
    {
     "data": {
      "text/plain": [
       "[('0000', (-0-0j)),\n",
       " ('0001', -0j),\n",
       " ('0010', (0.13-0j)),\n",
       " ('0011', (0.5588+0j)),\n",
       " ('0100', (-0-0j)),\n",
       " ('0101', -0j),\n",
       " ('0110', (-0.1556-0j)),\n",
       " ('0111', (0.4668+0j)),\n",
       " ('1000', (-0-0j)),\n",
       " ('1001', -0j),\n",
       " ('1010', (-0.1556-0j)),\n",
       " ('1011', (0.4668+0j)),\n",
       " ('1100', (-0-0j)),\n",
       " ('1101', -0j),\n",
       " ('1110', (0.1863+0j)),\n",
       " ('1111', (0.3899+0j))]"
      ]
     },
     "execution_count": 632,
     "metadata": {},
     "output_type": "execute_result"
    }
   ],
   "source": [
    "bitstrings=[''.join([''.join(str(j)) for j in i]) for i in list(map(list, itertools.product([0, 1], repeat=resolution+len(example_matrix))))]\n",
    "attach_bitstrings(statevector)"
   ]
  },
  {
   "cell_type": "markdown",
   "metadata": {},
   "source": [
    "# Computing Probabilities"
   ]
  },
  {
   "cell_type": "code",
   "execution_count": 633,
   "metadata": {},
   "outputs": [
    {
     "data": {
      "image/png": "[encoded data removed]",
      "text/plain": [
       "<Figure size 783.267x325.08 with 1 Axes>"
      ]
     },
     "execution_count": 633,
     "metadata": {},
     "output_type": "execute_result"
    }
   ],
   "source": [
    "tot_qubit = resolution+len(example_matrix)\n",
    "\n",
    "qr_total = QuantumRegister(tot_qubit, 'total')\n",
    "# classical = ClassicalRegister(4, 'measure')\n",
    "\n",
    "total_circuit_1 = QuantumCircuit(qr_total , name='matrix')\n",
    "\n",
    "total_circuit_1.append(matrix_circuit.to_gate(), qr_total[resolution:])\n",
    "total_circuit_1.append(pe.to_gate(), qr_total[0:pe.num_qubits])\n",
    "# total_circuit.measure(qr_total[:2], classical[:])\n",
    "#total_circuit_1.swap(qr_total[0],qr_total[1])\n",
    "total_circuit_1.measure_all()\n",
    "\n",
    "total_circuit_1.decompose(reps=1).draw(\"mpl\")"
   ]
  },
  {
   "cell_type": "code",
   "execution_count": 634,
   "metadata": {},
   "outputs": [
    {
     "data": {
      "image/png": "[encoded data removed]",
      "text/plain": [
       "<Figure size 504x360 with 1 Axes>"
      ]
     },
     "execution_count": 634,
     "metadata": {},
     "output_type": "execute_result"
    }
   ],
   "source": [
    "n_shots=50000\n",
    "backend_total = Aer.get_backend(\"qasm_simulator\")\n",
    "job = backend_total.run(transpile(total_circuit_1, backend=backend_total), shots=n_shots)\n",
    "counts = job.result().get_counts()\n",
    "plot_histogram(counts)"
   ]
  },
  {
   "cell_type": "markdown",
   "metadata": {},
   "source": [
    "# Storing probabilities"
   ]
  },
  {
   "cell_type": "code",
   "execution_count": 635,
   "metadata": {},
   "outputs": [
    {
     "data": {
      "text/plain": [
       "{'0110': 0.02462,\n",
       " '1010': 0.02538,\n",
       " '0010': 0.01702,\n",
       " '1110': 0.03418,\n",
       " '1011': 0.21764,\n",
       " '0111': 0.21412,\n",
       " '1111': 0.1512,\n",
       " '0011': 0.31584}"
      ]
     },
     "execution_count": 635,
     "metadata": {},
     "output_type": "execute_result"
    }
   ],
   "source": [
    "for i in counts:\n",
    "    counts[i]/=n_shots\n",
    "counts"
   ]
  },
  {
   "cell_type": "code",
   "execution_count": 636,
   "metadata": {},
   "outputs": [
    {
     "data": {
      "text/plain": [
       "array([0.     , 0.     , 0.01702, 0.31584, 0.     , 0.     , 0.02462,\n",
       "       0.21412, 0.     , 0.     , 0.02538, 0.21764, 0.     , 0.     ,\n",
       "       0.03418, 0.1512 ])"
      ]
     },
     "execution_count": 636,
     "metadata": {},
     "output_type": "execute_result"
    }
   ],
   "source": [
    "statevector=np.zeros(2**tot_qubit)\n",
    "for i in counts:\n",
    "    statevector[int(i,2)]=counts[i]\n",
    "statevector"
   ]
  },
  {
   "cell_type": "code",
   "execution_count": 637,
   "metadata": {},
   "outputs": [
    {
     "data": {
      "image/png": "[encoded data removed]",
      "text/plain": [
       "<Figure size 1340.59x626.08 with 1 Axes>"
      ]
     },
     "execution_count": 637,
     "metadata": {},
     "output_type": "execute_result"
    }
   ],
   "source": [
    "\n",
    "tot_qubit = resolution+len(example_matrix)\n",
    "\n",
    "qr_total_xi = QuantumRegister(tot_qubit, 'xi')\n",
    "qr_total_pi = QuantumRegister(tot_qubit, 'pi')\n",
    "qr_control = QuantumRegister(1, 'control_qubit')\n",
    "n_classical_register=tot_qubit+1\n",
    "classical = ClassicalRegister(n_classical_register, 'measure')\n",
    "\n",
    "total_circuit_2 = QuantumCircuit(qr_total_xi,qr_total_pi,qr_control ,classical, name='matrix')\n",
    "\n",
    "total_circuit_2.append(matrix_circuit.to_gate(), qr_total_xi[resolution:])\n",
    "total_circuit_2.append(pe.to_gate(), qr_total_xi[0:pe.num_qubits])\n",
    "\n",
    "#total_circuit_2.swap(qr_total_xi[0],qr_total_xi[1])\n",
    "total_circuit_2.initialize(np.sqrt(statevector),qr_total_pi)\n",
    "total_circuit_2.h(qr_control)\n",
    "for i in range(tot_qubit):\n",
    "    total_circuit_2.cswap(control_qubit=qr_control, target_qubit1=qr_total_xi[i],target_qubit2=qr_total_pi[i])\n",
    "\n",
    "total_circuit_2.h(qr_control)\n",
    "total_circuit_2.measure(qr_total_xi,classical[0:n_classical_register-1])\n",
    "total_circuit_2.measure(qr_control,classical[n_classical_register-1])\n",
    "\n",
    "total_circuit_2.draw(\"mpl\")"
   ]
  },
  {
   "cell_type": "code",
   "execution_count": 638,
   "metadata": {},
   "outputs": [
    {
     "data": {
      "image/png": "[encoded data removed]",
      "text/plain": [
       "<Figure size 504x360 with 1 Axes>"
      ]
     },
     "execution_count": 638,
     "metadata": {},
     "output_type": "execute_result"
    }
   ],
   "source": [
    "backend_total = Aer.get_backend(\"qasm_simulator\")\n",
    "job = backend_total.run(transpile(total_circuit_2, backend=backend_total), shots=n_shots)\n",
    "counts_for_sign = job.result().get_counts()\n",
    "plot_histogram(counts_for_sign)"
   ]
  },
  {
   "cell_type": "code",
   "execution_count": 639,
   "metadata": {},
   "outputs": [
    {
     "data": {
      "text/plain": [
       "array([    0.,     0.,   790., 14923.,     0.,     0.,    73., 10225.,\n",
       "           0.,     0.,    63., 10383.,     0.,     0.,  1593.,  7275.])"
      ]
     },
     "execution_count": 639,
     "metadata": {},
     "output_type": "execute_result"
    }
   ],
   "source": [
    "#Take only counts with control qubits equal to 0\n",
    "tmp=np.zeros(2**tot_qubit)\n",
    "for c in counts_for_sign:\n",
    "    if c[0]=='0':\n",
    "        tmp[int(c[1:],2)]=counts_for_sign[c]\n",
    "tmp"
   ]
  },
  {
   "cell_type": "code",
   "execution_count": 640,
   "metadata": {},
   "outputs": [
    {
     "data": {
      "text/plain": [
       "array([0.     , 0.     , 0.01702, 0.31584, 0.     , 0.     , 0.02462,\n",
       "       0.21412, 0.     , 0.     , 0.02538, 0.21764, 0.     , 0.     ,\n",
       "       0.03418, 0.1512 ])"
      ]
     },
     "execution_count": 640,
     "metadata": {},
     "output_type": "execute_result"
    }
   ],
   "source": [
    "statevector"
   ]
  },
  {
   "cell_type": "code",
   "execution_count": 641,
   "metadata": {},
   "outputs": [],
   "source": [
    "#Sign estimation\n",
    "sign_dictionary={}\n",
    "sign=0\n",
    "for e, (count, prob) in enumerate(zip(tmp, statevector)):\n",
    "    if count>0.4*prob*n_shots:\n",
    "        sign=1\n",
    "    else:\n",
    "        sign=-1\n",
    "    if prob==0:\n",
    "        sign=0\n",
    "    sign_dictionary.update({bin(e)[2:].zfill(tot_qubit):sign})"
   ]
  },
  {
   "cell_type": "code",
   "execution_count": 642,
   "metadata": {},
   "outputs": [
    {
     "data": {
      "text/plain": [
       "{'0000': 0,\n",
       " '0001': 0,\n",
       " '0010': 1,\n",
       " '0011': 1,\n",
       " '0100': 0,\n",
       " '0101': 0,\n",
       " '0110': -1,\n",
       " '0111': 1,\n",
       " '1000': 0,\n",
       " '1001': 0,\n",
       " '1010': -1,\n",
       " '1011': 1,\n",
       " '1100': 0,\n",
       " '1101': 0,\n",
       " '1110': 1,\n",
       " '1111': 1}"
      ]
     },
     "execution_count": 642,
     "metadata": {},
     "output_type": "execute_result"
    }
   ],
   "source": [
    "sign_dictionary"
   ]
  },
  {
   "cell_type": "code",
   "execution_count": 643,
   "metadata": {},
   "outputs": [
    {
     "data": {
      "text/plain": [
       "{'0000': 0.0,\n",
       " '0001': 0.0,\n",
       " '0010': 0.13046072205840348,\n",
       " '0011': 0.5619964412698714,\n",
       " '0100': 0.0,\n",
       " '0101': 0.0,\n",
       " '0110': -0.15690761613127643,\n",
       " '0111': 0.46273102338183464,\n",
       " '1000': 0.0,\n",
       " '1001': 0.0,\n",
       " '1010': -0.15931101656822105,\n",
       " '1011': 0.4665190242637485,\n",
       " '1100': 0.0,\n",
       " '1101': 0.0,\n",
       " '1110': 0.18487833837418596,\n",
       " '1111': 0.3888444419044716}"
      ]
     },
     "execution_count": 643,
     "metadata": {},
     "output_type": "execute_result"
    }
   ],
   "source": [
    "statevector_dictionary={}\n",
    "for e,key in enumerate(sign_dictionary):\n",
    "    statevector_dictionary[key]=sign_dictionary[key]*np.sqrt(statevector[e])\n",
    "\n",
    "statevector_dictionary"
   ]
  },
  {
   "cell_type": "markdown",
   "metadata": {},
   "source": [
    "# Eigenvectors reconstruction (2x2 matrix)\n"
   ]
  },
  {
   "cell_type": "code",
   "execution_count": 644,
   "metadata": {},
   "outputs": [
    {
     "data": {
      "text/plain": [
       "[array([ 0.13046072, -0.15690762, -0.15931102,  0.18487834]),\n",
       " array([0.56199644, 0.46273102, 0.46651902, 0.38884444])]"
      ]
     },
     "execution_count": 644,
     "metadata": {},
     "output_type": "execute_result"
    }
   ],
   "source": [
    "binary_lambda=[]\n",
    "for d in statevector_dictionary:\n",
    "    if statevector_dictionary[d]!=0:\n",
    "        binary_lambda.append(d[-resolution:])\n",
    "l_list=[]\n",
    "eigenvalues=[]\n",
    "for b_l in np.unique(binary_lambda):\n",
    "    eigenvalues.append(int(b_l[::-1],2))\n",
    "    tmp_list=[]\n",
    "    for key in list(statevector_dictionary.keys()):\n",
    "        if key[-resolution:]==b_l:\n",
    "            tmp_list.append(statevector_dictionary[key])\n",
    "    l_list.append(np.asarray(tmp_list))\n",
    "l_list"
   ]
  },
  {
   "cell_type": "code",
   "execution_count": 645,
   "metadata": {},
   "outputs": [],
   "source": [
    "for l in l_list:\n",
    "    normalization_factor=np.sqrt((1/(sum(l**2))))\n",
    "    l*=normalization_factor"
   ]
  },
  {
   "cell_type": "code",
   "execution_count": 646,
   "metadata": {},
   "outputs": [
    {
     "data": {
      "text/plain": [
       "[array([ 0.41009977, -0.49323487, -0.50078989,  0.58116008]),\n",
       " array([0.59279159, 0.48808683, 0.49208239, 0.41015156])]"
      ]
     },
     "execution_count": 646,
     "metadata": {},
     "output_type": "execute_result"
    }
   ],
   "source": [
    "l_list"
   ]
  },
  {
   "cell_type": "code",
   "execution_count": 647,
   "metadata": {},
   "outputs": [
    {
     "name": "stdout",
     "output_type": "stream",
     "text": [
      "reconstructed eigenvector:  [-0.63384583  0.76233856]\n",
      "eigenvalue: 1\n",
      "\n",
      "\n",
      "reconstructed eigenvector:  [0.7699296  0.63393695]\n",
      "eigenvalue: 3\n",
      "\n",
      "\n"
     ]
    }
   ],
   "source": [
    "#TODO: check sign \n",
    "eigenvectors=[]\n",
    "for ll, eig in zip(l_list,eigenvalues):\n",
    "    #print(ll,eig)\n",
    "    eigenvector=np.zeros(len(example_matrix)) #put length of eigenvector\n",
    "    save_sign=np.sign(ll)\n",
    "    statevector=abs(ll)\n",
    "    tmp_list=[]\n",
    "    scale=min(statevector[:2]/max(statevector[:2])) ## Si potrebbe anche fare una media dei vari scaling visto che dipendono dall'approssimazione e non sono proprio tutti uguali\n",
    "    #print(scale)\n",
    "    #print(statevector)\n",
    "    for i in range(0,len(statevector),2):\n",
    "        maximum=statevector[i]\n",
    "        if statevector[i+1]>maximum:\n",
    "            maximum=statevector[i+1]\n",
    "            tmp_list.append((1,maximum)) # the index 0 or 1 indicates the position in the eigenvector\n",
    "        else:\n",
    "            tmp_list.append((0,maximum))\n",
    "        #print(tmp_list)\n",
    "        \n",
    "    idx,v1=max(tmp_list)\n",
    "    #print(save_sign[abs(idx-1)])\n",
    "    v1=np.sqrt(v1)\n",
    "    #eigenvector[idx],eigenvector[abs(idx-1)]=v1*save_sign[idx],v1*scale*save_sign[abs(idx-1)]\n",
    "    eigenvector[idx],eigenvector[abs(idx-1)]=v1*save_sign[abs(idx-1)],v1*scale*save_sign[idx]\n",
    "    '''if save_sign[1]!=save_sign[2]:\n",
    "        eigenvector[idx],eigenvector[abs(idx-1)]=v1*save_sign[abs(idx-1)],v1*scale*save_sign[idx]\n",
    "    else:\n",
    "        eigenvector[idx],eigenvector[abs(idx-1)]=v1*save_sign[idx],v1*scale*save_sign[abs(idx-1)]'''\n",
    "        \n",
    "    eigenvectors.append(eigenvector)\n",
    "    print('reconstructed eigenvector: ', eigenvector)\n",
    "    print('eigenvalue:', eig)\n",
    "    print('\\n')"
   ]
  },
  {
   "cell_type": "code",
   "execution_count": 648,
   "metadata": {},
   "outputs": [
    {
     "data": {
      "text/plain": [
       "(array([3., 1.]),\n",
       " array([[ 0.76746056, -0.64109616],\n",
       "        [ 0.64109616,  0.76746056]]))"
      ]
     },
     "execution_count": 648,
     "metadata": {},
     "output_type": "execute_result"
    }
   ],
   "source": [
    "np.linalg.eig(example_matrix)"
   ]
  },
  {
   "cell_type": "markdown",
   "metadata": {},
   "source": [
    "# 4x4 matrix"
   ]
  },
  {
   "cell_type": "markdown",
   "metadata": {},
   "source": [
    "$$\\left|00\\right\\rangle(0.1133|0000\\rangle+0.23|0001\\rangle+0.18|0010\\rangle+0.12|0011\\rangle+\n",
    "0.24|0100\\rangle+0.50|0101\\rangle+0.39|0110\\rangle+0.27|0111\\rangle+\n",
    "0.17|1000\\rangle+0.35|1001\\rangle+0.27|1010\\rangle+0.18|1011\\rangle+\n",
    "0.08|1100\\rangle+0.16|1101\\rangle+0.14|1110\\rangle+0.09|1111\\rangle) =$$\n",
    "\n",
    "$$\\left|00\\right\\rangle\\left[\\textbf{0.23|00}\\rangle(0.47|00\\rangle+|01\\rangle+0.78|10\\rangle+\n",
    "0.52|11\\rangle)+\\textbf{0.50|01}\\rangle(0.48|00\\rangle+|01\\rangle+0.78|10\\rangle+\n",
    "0.54|11\\rangle)+\\textbf{0.35|10}\\rangle(0.48|00\\rangle+|01\\rangle+0.77|10\\rangle+\n",
    "0.5|11\\rangle)+\\textbf{0.16|00}\\rangle(0.5|00\\rangle+|01\\rangle+0.8|10\\rangle+\n",
    "0.5|11\\rangle)\\right]=$$\n",
    "\n",
    "$$\\left|00\\right\\rangle\\left[(0.23|00\\rangle+0.50|01\\rangle+0.35|10\\rangle+\n",
    "0.16|11\\rangle)(0.48|00\\rangle+|01\\rangle+0.7|10\\rangle+\n",
    "0.5|11\\rangle)\\right]=$$\n",
    "\n",
    "\n",
    "$$\\left|00\\right\\rangle\\left[\\textbf{0.50|0}\\rangle(0.46|0\\rangle+|1\\rangle)+\\textbf{0.35|1}\\rangle(|0\\rangle+0.46|1\\rangle)(0.48|00\\rangle+|01\\rangle+0.7|10\\rangle+\n",
    "0.5|11\\rangle)\\right]=$$"
   ]
  },
  {
   "cell_type": "markdown",
   "metadata": {},
   "source": [
    "## 1st matrix_example"
   ]
  },
  {
   "cell_type": "code",
   "execution_count": 501,
   "metadata": {
    "jupyter": {
     "source_hidden": true
    }
   },
   "outputs": [
    {
     "data": {
      "text/plain": [
       "({'0001': 0.4063074844837685,\n",
       "  '0101': -0.4947759382402847,\n",
       "  '1001': -0.48985675123506794,\n",
       "  '1101': 0.5917358889406178},\n",
       " {'0011': 0.5898840122966107,\n",
       "  '0111': 0.49452547412185405,\n",
       "  '1011': 0.4915537016695547,\n",
       "  '1111': 0.4072546695329175},\n",
       " (array([3., 1.]),\n",
       "  array([[ 0.76746056, -0.64109616],\n",
       "         [ 0.64109616,  0.76746056]])))"
      ]
     },
     "execution_count": 501,
     "metadata": {},
     "output_type": "execute_result"
    }
   ],
   "source": [
    "norm_up=np.sqrt((1/(sum(np.asarray(list(statevector_dictionary_up_threshold.values()))**2))))\n",
    "norm_down=np.sqrt((1/(sum(np.asarray(list(statevector_dictionary_down_threshold.values()))**2))))\n",
    "for k in statevector_dictionary_up_threshold:\n",
    "    statevector_dictionary_up_threshold[k]*=norm_up\n",
    "    \n",
    "    \n",
    "for k_d in statevector_dictionary_down_threshold:\n",
    "    statevector_dictionary_down_threshold[k_d]*=norm_down\n",
    "statevector_dictionary_up_threshold,statevector_dictionary_down_threshold, np.linalg.eig(example_matrix)"
   ]
  },
  {
   "cell_type": "markdown",
   "metadata": {},
   "source": [
    "$$\\left|01\\right\\rangle(0.4063|00\\rangle-0.4947|01\\rangle-0.4898|10\\rangle+0.5917|11\\rangle) =$$\n",
    "\n",
    "$$\\left|01\\right\\rangle(0.4947|0\\rangle(0.8213|0\\rangle-|1\\rangle)-0.5917|1\\rangle(0.8277|0\\rangle-|1\\rangle)) =$$\n",
    "\n",
    "$$\\left|01\\right\\rangle((0.4947|0\\rangle-0.5917|1\\rangle)(0.82|0\\rangle-|1\\rangle)) =$$\n",
    "\n",
    "$$\\left|01\\right\\rangle(0.5917(0.8360|0\\rangle-|1\\rangle)(0.82|0\\rangle-|1\\rangle)) =>$$\n",
    "\n",
    "$$\\sqrt{0.5917}=0.7692$$\n",
    "\n",
    "$$0.7692*\\approx0.8*\\text{sign}\\left|1\\right\\rangle=-0.6153$$\n",
    "\n",
    "\n"
   ]
  },
  {
   "cell_type": "code",
   "execution_count": null,
   "metadata": {},
   "outputs": [],
   "source": []
  },
  {
   "cell_type": "markdown",
   "metadata": {},
   "source": [
    "$$\\left|11\\right\\rangle(0.5898|00\\rangle+0.4945|01\\rangle+0.4915|10\\rangle+0.4072|11\\rangle) =$$\n",
    "\n",
    "$$\\left|11\\right\\rangle(0.5898|0\\rangle(|0\\rangle+0.83|1\\rangle)+0.4915|1\\rangle(|0\\rangle+0.83|1\\rangle)) =$$\n",
    "\n",
    "$$\\left|11\\right\\rangle((0.5898|0\\rangle+0.4915|1\\rangle)(|0\\rangle+0.83|1\\rangle)) =$$\n",
    "\n",
    "$$\\left|11\\right\\rangle(0.5898(|0\\rangle+0.83|1\\rangle)(|0\\rangle+0.83|1\\rangle)) =>$$\n",
    "\n",
    "$$\\sqrt{0.5898}=0.7679$$\n",
    "\n",
    "$$0.7679*\\approx0.8*\\text{sign}\\left|0\\right\\rangle=0.6143$$\n",
    "\n",
    "\n"
   ]
  },
  {
   "cell_type": "markdown",
   "metadata": {},
   "source": [
    "## 2nd matrix_example"
   ]
  },
  {
   "cell_type": "markdown",
   "metadata": {},
   "source": [
    "$$\\left|01\\right\\rangle(0.1272|00\\rangle-0.3143|01\\rangle-0.3203|10\\rangle+0.8845|11\\rangle) =$$\n",
    "\n",
    "$$\\left|01\\right\\rangle(0.3143|0\\rangle(0.40|0\\rangle-|1\\rangle)-0.8845|1\\rangle(0.36|0\\rangle-|1\\rangle)) =$$\n",
    "\n",
    "$$\\left|01\\right\\rangle((0.3143|0\\rangle-0.8845|1\\rangle)(0.4|0\\rangle-|1\\rangle)) =$$\n",
    "\n",
    "$$\\left|01\\right\\rangle(0.8845(0.36|0\\rangle-|1\\rangle)(0.4|0\\rangle-|1\\rangle)) =>$$\n",
    "\n",
    "$$\\sqrt{0.8845}=0.9404$$\n",
    "\n",
    "$$0.9404*\\approx0.4*\\text{sign}\\left|1\\right\\rangle=-0.3761$$\n",
    "\n",
    "\n"
   ]
  },
  {
   "cell_type": "markdown",
   "metadata": {},
   "source": [
    "## 3d matrix_example"
   ]
  },
  {
   "cell_type": "code",
   "execution_count": 643,
   "metadata": {
    "jupyter": {
     "source_hidden": true
    }
   },
   "outputs": [
    {
     "data": {
      "text/plain": [
       "({'0001': 0.36710092124099825,\n",
       "  '0101': 0.6614992335357107,\n",
       "  '1001': 0.3149078628268718,\n",
       "  '1101': 0.5731393509308969},\n",
       " {'0011': 0.8721533545579773,\n",
       "  '0111': -0.4889160360072559,\n",
       "  '1011': 0.013630169512202875,\n",
       "  '1111': -0.011128986804178979},\n",
       " (array([3., 1.]),\n",
       "  array([[ 0.87370608,  0.4864542 ],\n",
       "         [-0.4864542 ,  0.87370608]])))"
      ]
     },
     "execution_count": 643,
     "metadata": {},
     "output_type": "execute_result"
    }
   ],
   "source": [
    "norm_up=np.sqrt((1/(sum(np.asarray(list(statevector_dictionary_up_threshold.values()))**2))))\n",
    "norm_down=np.sqrt((1/(sum(np.asarray(list(statevector_dictionary_down_threshold.values()))**2))))\n",
    "for k in statevector_dictionary_up_threshold:\n",
    "    statevector_dictionary_up_threshold[k]*=norm_up\n",
    "    \n",
    "    \n",
    "for k_d in statevector_dictionary_down_threshold:\n",
    "    statevector_dictionary_down_threshold[k_d]*=norm_down\n",
    "statevector_dictionary_up_threshold,statevector_dictionary_down_threshold, np.linalg.eig(example_matrix)"
   ]
  },
  {
   "cell_type": "markdown",
   "metadata": {},
   "source": [
    "$$\\left|01\\right\\rangle(0.3671|00\\rangle+0.6614|01\\rangle+0.3149|10\\rangle+0.5731|11\\rangle) =$$\n",
    "\n",
    "$$\\left|01\\right\\rangle(0.6614|0\\rangle(0.55|0\\rangle+|1\\rangle)+0.5731|1\\rangle(0.55|0\\rangle+|1\\rangle)) =$$\n",
    "\n",
    "$$\\left|01\\right\\rangle((0.6614|0\\rangle+0.5731|1\\rangle)(0.55|0\\rangle+|1\\rangle)) =$$\n",
    "\n",
    "$$\\left|01\\right\\rangle(0.6614(|0\\rangle+\\approx0.8|1\\rangle)(0.55|0\\rangle-|1\\rangle)) =>$$\n",
    "\n",
    "$$\\sqrt{0.6614}=\\approx0.81$$\n",
    "\n",
    "$$0.81*\\approx0.55*\\text{sign}\\left|1\\right\\rangle=\\approx0.44$$\n",
    "\n",
    "\n"
   ]
  },
  {
   "cell_type": "markdown",
   "metadata": {},
   "source": [
    "$$\\left|11\\right\\rangle(0.8721|00\\rangle-0.4889|01\\rangle+0.0136|10\\rangle-0.0111|11\\rangle) =$$\n",
    "\n",
    "$$\\left|11\\right\\rangle(0.8721|0\\rangle(|0\\rangle-\\approx0.5|1\\rangle)+0.0136|1\\rangle(|0\\rangle-\\approx0.8|1\\rangle)) =$$\n",
    "\n",
    "$$\\left|11\\right\\rangle((0.8721|0\\rangle+0.0136|1\\rangle)(|0\\rangle-\\approx0.5|1\\rangle)) =$$\n",
    "\n",
    "$$\\left|11\\right\\rangle(0.8721(|0\\rangle+0.0155|1\\rangle)(|0\\rangle-0.5|1\\rangle)) =>$$\n",
    "\n",
    "$$\\sqrt{0.8721}=\\approx0.93$$\n",
    "\n",
    "$$0.93*\\approx0.5*\\text{sign}\\left|0\\right\\rangle=\\approx0.44$$\n",
    "\n",
    "\n"
   ]
  },
  {
   "cell_type": "markdown",
   "metadata": {},
   "source": [
    "## 4th matrix_example"
   ]
  },
  {
   "cell_type": "code",
   "execution_count": 672,
   "metadata": {
    "jupyter": {
     "source_hidden": true
    }
   },
   "outputs": [
    {
     "data": {
      "text/plain": [
       "({'0001': 0.06844207564752064,\n",
       "  '0101': -0.2434477406836873,\n",
       "  '1001': -0.26237207143606917,\n",
       "  '1101': 0.9312409870529826},\n",
       " {'0011': 0.9317470599478411,\n",
       "  '0111': 0.2529050552183149,\n",
       "  '1011': 0.251498062074687,\n",
       "  '1111': 0.06808211289503242},\n",
       " (array([3., 1.]),\n",
       "  array([[ 0.96521162, -0.26146994],\n",
       "         [ 0.26146994,  0.96521162]])))"
      ]
     },
     "execution_count": 672,
     "metadata": {},
     "output_type": "execute_result"
    }
   ],
   "source": [
    "norm_up=np.sqrt((1/(sum(np.asarray(list(statevector_dictionary_up_threshold.values()))**2))))\n",
    "norm_down=np.sqrt((1/(sum(np.asarray(list(statevector_dictionary_down_threshold.values()))**2))))\n",
    "for k in statevector_dictionary_up_threshold:\n",
    "    statevector_dictionary_up_threshold[k]*=norm_up\n",
    "    \n",
    "    \n",
    "for k_d in statevector_dictionary_down_threshold:\n",
    "    statevector_dictionary_down_threshold[k_d]*=norm_down\n",
    "statevector_dictionary_up_threshold,statevector_dictionary_down_threshold, np.linalg.eig(example_matrix)"
   ]
  },
  {
   "cell_type": "markdown",
   "metadata": {},
   "source": [
    "$$\\left|11\\right\\rangle(0.93|00\\rangle+0.25|01\\rangle+0.25|10\\rangle+0.068|11\\rangle) =$$\n",
    "\n",
    "$$\\left|11\\right\\rangle(0.93|0\\rangle(|0\\rangle+\\approx0.26|1\\rangle)+0.25|1\\rangle(|0\\rangle+0.2|1\\rangle)) =$$\n",
    "\n",
    "$$\\left|11\\right\\rangle((0.93|0\\rangle+0.25|1\\rangle)(|0\\rangle+\\approx0.2|1\\rangle)) =$$\n",
    "\n",
    "$$\\left|11\\right\\rangle(0.93(|0\\rangle+0.2|1\\rangle)(|0\\rangle+0.2|1\\rangle)) =>$$\n",
    "\n",
    "$$\\sqrt{0.93}=\\approx0.96$$\n",
    "\n",
    "$$0.96*\\approx0.2*\\text{sign}\\left|0\\right\\rangle=\\approx0.25$$\n",
    "\n",
    "\n"
   ]
  }
 ],
 "metadata": {
  "kernelspec": {
   "display_name": "Python 3 (ipykernel)",
   "language": "python",
   "name": "python3"
  },
  "language_info": {
   "codemirror_mode": {
    "name": "ipython",
    "version": 3
   },
   "file_extension": ".py",
   "mimetype": "text/x-python",
   "name": "python",
   "nbconvert_exporter": "python",
   "pygments_lexer": "ipython3",
   "version": "3.8.11"
  },
  "vscode": {
   "interpreter": {
    "hash": "3820477eeda6a2056d25dbf35341ad4ea495fec12a885dc74045ce43b88b4168"
   }
  }
 },
 "nbformat": 4,
 "nbformat_minor": 4
}
