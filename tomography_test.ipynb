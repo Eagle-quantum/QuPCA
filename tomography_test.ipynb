{
 "cells": [
  {
   "cell_type": "markdown",
   "metadata": {},
   "source": [
    "### Example taken from *A Low-Complexity Quantum Principal Component Analysis Algorithm*\n",
    "https://doi.org/10.1109/TQE.2021.3140152"
   ]
  },
  {
   "cell_type": "code",
   "execution_count": 62,
   "metadata": {},
   "outputs": [
    {
     "name": "stdout",
     "output_type": "stream",
     "text": [
      "[0.02184655 0.0170352  0.04670265 0.02511337 0.0170352  0.05695507\n",
      " 0.08565588 0.03314881 0.04670265 0.08565588 0.19952014 0.11226922\n",
      " 0.02511337 0.03314881 0.11226922 0.08182797]\n"
     ]
    }
   ],
   "source": [
    "import numpy as np\n",
    "import itertools\n",
    "from qiskit_experiments.library import StateTomography\n",
    "from qiskit.visualization import plot_state_city\n",
    "import qiskit.quantum_info as qi\n",
    "from qiskit.visualization import plot_histogram\n",
    "from qiskit.circuit.library.standard_gates import RYGate\n",
    "from qiskit import Aer, transpile, execute\n",
    "from qiskit import QuantumRegister, ClassicalRegister, QuantumCircuit\n",
    "from qiskit.algorithms.linear_solvers.matrices.numpy_matrix import NumPyMatrix\n",
    "from qiskit.circuit.library import PhaseEstimation\n",
    "\n",
    "#example_matrix = np.array([[5.45, 11.14], [11.14, 1.42]])\n",
    "#example_matrix = np.array([[18.45, 1.14], [1.14, 15.82]])\n",
    "#example_matrix = np.array([[1.45, 5.14], [5.14, 7.82]])\n",
    "#example_matrix = np.array([[13.45, 3.4], [3.4, 1.82]])\n",
    "example_matrix=np.random.rand(4,4)\n",
    "\n",
    "big_example_matrix = np.array([[0, 0, 0, 0], [0, 1, 0, 0], [0, 0, 2, 0], [0, 0, 0, 3]])\n",
    "#example_matrix = np.array([[1.5, 0.5, 1.5, 0.4], [0.5, 2, 2.9, 1.5], [0.3,0.5, 2.5, 1.6], [0.5, 0.5, 0.5, 2.5]])\n",
    "#example_matrix = np.array([[1.7, 0.2, 1.5, 0.2], [0.7, 1, 2.9, 1.1], [0.5,1.5, .7, 1.6], [0.5, 1.5, 0.5, 1.7]])\n",
    "example_matrix=np.dot(example_matrix,example_matrix.T)\n",
    "#example_matrix = np.array([[1.5, .5], [.5, 1.5]])\n",
    "sum_squares = (example_matrix**2).sum()\n",
    "input_probabilities = (example_matrix**2/sum_squares).flatten()\n",
    "\n",
    "print(input_probabilities)"
   ]
  },
  {
   "cell_type": "code",
   "execution_count": 31,
   "metadata": {},
   "outputs": [
    {
     "data": {
      "text/plain": [
       "(array([[ 1.67006275, -0.14620068,  0.50567417,  0.55059275],\n",
       "        [-0.14620068,  1.94474745,  0.27817111,  0.71587111],\n",
       "        [ 0.50567417,  0.27817111,  1.50337075,  1.01265772],\n",
       "        [ 0.55059275,  0.71587111,  1.01265772,  0.88181904]]),\n",
       " (array([3.00000000e+00, 2.00000000e+00, 1.00000000e+00, 1.17985385e-16]),\n",
       "  array([[-0.39348026,  0.62061258,  0.6597444 , -0.15732338],\n",
       "         [-0.46422504, -0.76009576,  0.37781167, -0.2529978 ],\n",
       "         [-0.58326885,  0.19248217, -0.6392686 , -0.46269183],\n",
       "         [-0.53802031, -0.00671381, -0.1154614 ,  0.83495972]])))"
      ]
     },
     "execution_count": 31,
     "metadata": {},
     "output_type": "execute_result"
    }
   ],
   "source": [
    "eig,e_v=np.linalg.eig(example_matrix)\n",
    "#b=np.array([3.,1.])\n",
    "b=np.array([3.,2.,1.,0])\n",
    "BB = e_v@np.diag(b)@e_v.T\n",
    "BB, np.linalg.eig(BB)"
   ]
  },
  {
   "cell_type": "code",
   "execution_count": 32,
   "metadata": {},
   "outputs": [
    {
     "name": "stdout",
     "output_type": "stream",
     "text": [
      "[0.19922211 0.00152676 0.01826474 0.02165374 0.00152676 0.2701459\n",
      " 0.00552708 0.0366051  0.01826474 0.00552708 0.1614374  0.07324826\n",
      " 0.02165374 0.0366051  0.07324826 0.0555432 ]\n"
     ]
    }
   ],
   "source": [
    "example_matrix=BB\n",
    "\n",
    "sum_squares = (example_matrix**2).sum()\n",
    "input_probabilities = (example_matrix**2/sum_squares).flatten()\n",
    "\n",
    "print(input_probabilities)"
   ]
  },
  {
   "cell_type": "code",
   "execution_count": 33,
   "metadata": {},
   "outputs": [
    {
     "data": {
      "text/plain": [
       "array([[ 1.67006275, -0.14620068,  0.50567417,  0.55059275],\n",
       "       [-0.14620068,  1.94474745,  0.27817111,  0.71587111],\n",
       "       [ 0.50567417,  0.27817111,  1.50337075,  1.01265772],\n",
       "       [ 0.55059275,  0.71587111,  1.01265772,  0.88181904]])"
      ]
     },
     "execution_count": 33,
     "metadata": {},
     "output_type": "execute_result"
    }
   ],
   "source": [
    "example_matrix"
   ]
  },
  {
   "cell_type": "code",
   "execution_count": 34,
   "metadata": {},
   "outputs": [
    {
     "data": {
      "text/plain": [
       "(array([3.00000000e+00, 2.00000000e+00, 1.00000000e+00, 1.17985385e-16]),\n",
       " array([[-0.39348026,  0.62061258,  0.6597444 , -0.15732338],\n",
       "        [-0.46422504, -0.76009576,  0.37781167, -0.2529978 ],\n",
       "        [-0.58326885,  0.19248217, -0.6392686 , -0.46269183],\n",
       "        [-0.53802031, -0.00671381, -0.1154614 ,  0.83495972]]))"
      ]
     },
     "execution_count": 34,
     "metadata": {},
     "output_type": "execute_result"
    }
   ],
   "source": [
    "np.linalg.eig(example_matrix)"
   ]
  },
  {
   "cell_type": "markdown",
   "metadata": {},
   "source": [
    "as an example, whose quantum state is given by\n",
    "$$\\left|\\psi_{A_0}\\right\\rangle=\\frac{3}{\\sqrt{20}}|00\\rangle+\\frac{1}{\\sqrt{20}}|01\\rangle+\\frac{1}{\\sqrt{20}}|10\\rangle+\\frac{3}{\\sqrt{20}}|11\\rangle .$$\n",
    "\n",
    "Note that the eigenvalues and the corresponding eigenvectors obtained by classical PCA are given by\n",
    "$$\\lambda_1=2, u_1=[1,1]^T$$\n",
    "$$\\lambda_2=1, u_2=[−1,1]^T.$$\n",
    "\n",
    "Note: $[1, 0]^T = |0〉$ and $[0, 1]^T = |1〉.$ \n",
    "\n",
    "When we take a threshold τ=1.1 for eigenvalues, the eigenvalue in binary $|λ_1〉=|10〉$ and the corresponding eigenvector $|u_1〉=[1,1]^T=\\frac{1}{\\sqrt{2}}|0〉+\\frac{1}{\\sqrt{2}}|1〉$ are considered as principal components. Therefore, the output of the proposed algorithm should be given by\n",
    "\n",
    "$$\\begin{aligned}\n",
    "\\left|\\psi_A^{\\prime}\\right\\rangle &=\\left|\\lambda_1\\right\\rangle\\left|u_1\\right\\rangle\\left|u_1\\right\\rangle \\\\\n",
    "&=|10\\rangle \\otimes\\left(\\frac{1}{\\sqrt{2}}|0\\rangle+\\frac{1}{\\sqrt{2}}|1\\rangle\\right) \\otimes\\left(\\frac{1}{\\sqrt{2}}|0\\rangle+\\frac{1}{\\sqrt{2}}|1\\rangle\\right) \\\\\n",
    "&=\\frac{1}{2}|1000\\rangle+\\frac{1}{2}|1001\\rangle+\\frac{1}{2}|1010\\rangle+\\frac{1}{2}|1011\\rangle .\n",
    "\\end{aligned}$$"
   ]
  },
  {
   "cell_type": "code",
   "execution_count": 67,
   "metadata": {},
   "outputs": [],
   "source": [
    "#Tommaso's great code for computing the thetas\n",
    "def thetas_computation(example_matrix):\n",
    "    lst_combination=[]\n",
    "\n",
    "    for k in range(1, len(example_matrix)+1):\n",
    "        lst_combination.append(list(map(list, itertools.product([0, 1], repeat=k))))\n",
    "    container=[]\n",
    "    for lst in lst_combination:\n",
    "        container.append([''.join([''.join(str(j)) for j in i]) for i in lst])\n",
    "    all_combinations=[item for c in container for item in c]\n",
    "\n",
    "    general_bitstring=[''.join([''.join(str(j)) for j in i]) for i in list(map(list, itertools.product([0, 1], repeat=len(example_matrix))))]\n",
    "\n",
    "    #Nodes contains all the values of the tree (except for the root)\n",
    "    nodes=[]\n",
    "    for st in all_combinations:\n",
    "        #print(st)\n",
    "        starts = [general_bitstring.index(l) for l in general_bitstring if l.startswith(st)]\n",
    "        #print(starts)\n",
    "        print(st,'->',np.sqrt(input_probabilities[starts].sum()))\n",
    "        nodes.append(np.sqrt(input_probabilities[starts].sum()))\n",
    "\n",
    "    #add root tree\n",
    "    nodes.insert(0, 1)\n",
    "\n",
    "    idx_sub=1\n",
    "    thetas=[]\n",
    "    for i in range(len(nodes)-len(input_probabilities)):\n",
    "        right_node=i+idx_sub\n",
    "        left_node=right_node+1\n",
    "        #print(left_node,right_node)\n",
    "        if nodes[i]!=0:\n",
    "            #print(nodes[right_node],nodes[i])\n",
    "            thetas.append(2*np.arccos(nodes[right_node]/nodes[i]))\n",
    "            thetas.append(2*np.arcsin(nodes[left_node]/nodes[i]))\n",
    "        else:\n",
    "            thetas.append(0)\n",
    "            thetas.append(0)\n",
    "\n",
    "        idx_sub+=1\n",
    "    return thetas, all_combinations\n",
    "\n",
    "# SUB = str.maketrans(\"0123456789\", \"₀₁₂₃₄₅₆₇₈₉\")\n",
    "\n",
    "# for idx,th in zip(all_combinations,thetas):\n",
    "#     print('\\u03F4(R{})'.format((str(idx).translate(SUB))),'->', th)\n",
    "#thetas"
   ]
  },
  {
   "cell_type": "code",
   "execution_count": 68,
   "metadata": {},
   "outputs": [],
   "source": [
    "def generate_qram_circuit(thetas, all_combinations):\n",
    "    \n",
    "    right_nodes_indexes=list(range(0,len(thetas),2))\n",
    "    rotations_list=list(zip(np.array(all_combinations)[right_nodes_indexes],np.array(thetas)[right_nodes_indexes]))\n",
    "\n",
    "    qc=QuantumCircuit(len(example_matrix))\n",
    "\n",
    "    for r_l in rotations_list:\n",
    "        target_qubit=len(r_l[0])-1\n",
    "        \n",
    "        #First case of R_0\n",
    "        if target_qubit==0:\n",
    "            qc.ry(theta=r_l[1],qubit=target_qubit)\n",
    "            continue\n",
    "            \n",
    "        not_gate=[]\n",
    "        for qb in range(target_qubit):\n",
    "            if r_l[0][qb]=='0':\n",
    "                not_gate.append(qb)\n",
    "                \n",
    "        c_t_qubits=list(range(len(r_l[0])))\n",
    "        n_controls=len(range(target_qubit))\n",
    "        \n",
    "        if len(not_gate)>0:\n",
    "            qc.x(not_gate)\n",
    "            c_ry = RYGate(r_l[1]).control(n_controls)\n",
    "            qc.append(c_ry, c_t_qubits)\n",
    "            qc.x(not_gate)\n",
    "        else:\n",
    "            c_ry = RYGate(r_l[1]).control(n_controls)\n",
    "            qc.append(c_ry, c_t_qubits)\n",
    "    return qc"
   ]
  },
  {
   "cell_type": "code",
   "execution_count": 69,
   "metadata": {},
   "outputs": [
    {
     "name": "stdout",
     "output_type": "stream",
     "text": [
      "0 -> 0.5509017490646099\n",
      "1 -> 0.834570106628289\n",
      "00 -> 0.3327127549057783\n",
      "01 -> 0.43908422864577346\n",
      "10 -> 0.66644421170255\n",
      "11 -> 0.5023538350263889\n",
      "000 -> 0.19718457166169606\n",
      "001 -> 0.2679851152127408\n",
      "010 -> 0.2720115289125612\n",
      "011 -> 0.344680559335894\n",
      "100 -> 0.36381111462849036\n",
      "101 -> 0.558381017034613\n",
      "110 -> 0.24137560529694407\n",
      "111 -> 0.44056462946230057\n",
      "0000 -> 0.1478057858129884\n",
      "0001 -> 0.13051898322317543\n",
      "0010 -> 0.2161079552052291\n",
      "0011 -> 0.1584719964933889\n",
      "0100 -> 0.13051898322317543\n",
      "0101 -> 0.2386526071086121\n",
      "0110 -> 0.2926702561317758\n",
      "0111 -> 0.1820681442753385\n",
      "1000 -> 0.2161079552052291\n",
      "1001 -> 0.2926702561317758\n",
      "1010 -> 0.44667677402071587\n",
      "1011 -> 0.3350659931044257\n",
      "1100 -> 0.1584719964933889\n",
      "1101 -> 0.1820681442753385\n",
      "1110 -> 0.3350659931044257\n",
      "1111 -> 0.28605589138872695\n"
     ]
    },
    {
     "data": {
      "text/html": [
       "<pre style=\"word-wrap: normal;white-space: pre;background: #fff0;line-height: 1.1;font-family: &quot;Courier New&quot;,Courier,monospace\">     ┌────────────┐┌───┐              ┌───┐              ┌───┐              »\n",
       "q_0: ┤ Ry(1.9747) ├┤ X ├──────■───────┤ X ├──────■───────┤ X ├──────■───────»\n",
       "     └────────────┘└───┘┌─────┴──────┐└───┘┌─────┴──────┐├───┤      │       »\n",
       "q_1: ───────────────────┤ Ry(1.8447) ├─────┤ Ry(1.2918) ├┤ X ├──────■───────»\n",
       "                        └────────────┘     └────────────┘└───┘┌─────┴──────┐»\n",
       "q_2: ─────────────────────────────────────────────────────────┤ Ry(1.8729) ├»\n",
       "                                                              └────────────┘»\n",
       "q_3: ───────────────────────────────────────────────────────────────────────»\n",
       "                                                                            »\n",
       "«     ┌───┐┌───┐              ┌───┐                                 ┌───┐»\n",
       "«q_0: ┤ X ├┤ X ├──────■───────┤ X ├──────■──────────────────■───────┤ X ├»\n",
       "«     ├───┤└───┘      │       ├───┤      │       ┌───┐      │       ├───┤»\n",
       "«q_1: ┤ X ├───────────■───────┤ X ├──────■───────┤ X ├──────■───────┤ X ├»\n",
       "«     └───┘     ┌─────┴──────┐└───┘┌─────┴──────┐└───┘┌─────┴──────┐├───┤»\n",
       "«q_2: ──────────┤ Ry(1.8054) ├─────┤ Ry(1.9867) ├─────┤ Ry(2.1392) ├┤ X ├»\n",
       "«               └────────────┘     └────────────┘     └────────────┘└───┘»\n",
       "«q_3: ───────────────────────────────────────────────────────────────────»\n",
       "«                                                                        »\n",
       "«                   ┌───┐┌───┐              ┌───┐┌───┐              ┌───┐┌───┐»\n",
       "«q_0: ──────■───────┤ X ├┤ X ├──────■───────┤ X ├┤ X ├──────■───────┤ X ├┤ X ├»\n",
       "«           │       ├───┤├───┤      │       ├───┤└───┘      │       └───┘└───┘»\n",
       "«q_1: ──────■───────┤ X ├┤ X ├──────■───────┤ X ├───────────■─────────────────»\n",
       "«           │       ├───┤└───┘      │       ├───┤           │       ┌───┐     »\n",
       "«q_2: ──────■───────┤ X ├───────────■───────┤ X ├───────────■───────┤ X ├─────»\n",
       "«     ┌─────┴──────┐└───┘     ┌─────┴──────┐└───┘     ┌─────┴──────┐└───┘     »\n",
       "«q_3: ┤ Ry(1.4467) ├──────────┤ Ry(1.2655) ├──────────┤ Ry(2.1407) ├──────────»\n",
       "«     └────────────┘          └────────────┘          └────────────┘          »\n",
       "«                  ┌───┐                                           »\n",
       "«q_0: ──────■──────┤ X ├──────■───────────────────────■────────────»\n",
       "«           │      ├───┤      │       ┌───┐┌───┐      │       ┌───┐»\n",
       "«q_1: ──────■──────┤ X ├──────■───────┤ X ├┤ X ├──────■───────┤ X ├»\n",
       "«           │      ├───┤      │       ├───┤└───┘      │       ├───┤»\n",
       "«q_2: ──────■──────┤ X ├──────■───────┤ X ├───────────■───────┤ X ├»\n",
       "«     ┌─────┴─────┐└───┘┌─────┴──────┐└───┘     ┌─────┴──────┐└───┘»\n",
       "«q_3: ┤ Ry(1.113) ├─────┤ Ry(1.8695) ├──────────┤ Ry(1.2872) ├─────»\n",
       "«     └───────────┘     └────────────┘          └────────────┘     »\n",
       "«                                      \n",
       "«q_0: ──────■──────────────────■───────\n",
       "«           │                  │       \n",
       "«q_1: ──────■──────────────────■───────\n",
       "«           │       ┌───┐      │       \n",
       "«q_2: ──────■───────┤ X ├──────■───────\n",
       "«     ┌─────┴──────┐└───┘┌─────┴──────┐\n",
       "«q_3: ┤ Ry(1.7092) ├─────┤ Ry(1.4133) ├\n",
       "«     └────────────┘     └────────────┘</pre>"
      ],
      "text/plain": [
       "     ┌────────────┐┌───┐              ┌───┐              ┌───┐              »\n",
       "q_0: ┤ Ry(1.9747) ├┤ X ├──────■───────┤ X ├──────■───────┤ X ├──────■───────»\n",
       "     └────────────┘└───┘┌─────┴──────┐└───┘┌─────┴──────┐├───┤      │       »\n",
       "q_1: ───────────────────┤ Ry(1.8447) ├─────┤ Ry(1.2918) ├┤ X ├──────■───────»\n",
       "                        └────────────┘     └────────────┘└───┘┌─────┴──────┐»\n",
       "q_2: ─────────────────────────────────────────────────────────┤ Ry(1.8729) ├»\n",
       "                                                              └────────────┘»\n",
       "q_3: ───────────────────────────────────────────────────────────────────────»\n",
       "                                                                            »\n",
       "«     ┌───┐┌───┐              ┌───┐                                 ┌───┐»\n",
       "«q_0: ┤ X ├┤ X ├──────■───────┤ X ├──────■──────────────────■───────┤ X ├»\n",
       "«     ├───┤└───┘      │       ├───┤      │       ┌───┐      │       ├───┤»\n",
       "«q_1: ┤ X ├───────────■───────┤ X ├──────■───────┤ X ├──────■───────┤ X ├»\n",
       "«     └───┘     ┌─────┴──────┐└───┘┌─────┴──────┐└───┘┌─────┴──────┐├───┤»\n",
       "«q_2: ──────────┤ Ry(1.8054) ├─────┤ Ry(1.9867) ├─────┤ Ry(2.1392) ├┤ X ├»\n",
       "«               └────────────┘     └────────────┘     └────────────┘└───┘»\n",
       "«q_3: ───────────────────────────────────────────────────────────────────»\n",
       "«                                                                        »\n",
       "«                   ┌───┐┌───┐              ┌───┐┌───┐              ┌───┐┌───┐»\n",
       "«q_0: ──────■───────┤ X ├┤ X ├──────■───────┤ X ├┤ X ├──────■───────┤ X ├┤ X ├»\n",
       "«           │       ├───┤├───┤      │       ├───┤└───┘      │       └───┘└───┘»\n",
       "«q_1: ──────■───────┤ X ├┤ X ├──────■───────┤ X ├───────────■─────────────────»\n",
       "«           │       ├───┤└───┘      │       ├───┤           │       ┌───┐     »\n",
       "«q_2: ──────■───────┤ X ├───────────■───────┤ X ├───────────■───────┤ X ├─────»\n",
       "«     ┌─────┴──────┐└───┘     ┌─────┴──────┐└───┘     ┌─────┴──────┐└───┘     »\n",
       "«q_3: ┤ Ry(1.4467) ├──────────┤ Ry(1.2655) ├──────────┤ Ry(2.1407) ├──────────»\n",
       "«     └────────────┘          └────────────┘          └────────────┘          »\n",
       "«                  ┌───┐                                           »\n",
       "«q_0: ──────■──────┤ X ├──────■───────────────────────■────────────»\n",
       "«           │      ├───┤      │       ┌───┐┌───┐      │       ┌───┐»\n",
       "«q_1: ──────■──────┤ X ├──────■───────┤ X ├┤ X ├──────■───────┤ X ├»\n",
       "«           │      ├───┤      │       ├───┤└───┘      │       ├───┤»\n",
       "«q_2: ──────■──────┤ X ├──────■───────┤ X ├───────────■───────┤ X ├»\n",
       "«     ┌─────┴─────┐└───┘┌─────┴──────┐└───┘     ┌─────┴──────┐└───┘»\n",
       "«q_3: ┤ Ry(1.113) ├─────┤ Ry(1.8695) ├──────────┤ Ry(1.2872) ├─────»\n",
       "«     └───────────┘     └────────────┘          └────────────┘     »\n",
       "«                                      \n",
       "«q_0: ──────■──────────────────■───────\n",
       "«           │                  │       \n",
       "«q_1: ──────■──────────────────■───────\n",
       "«           │       ┌───┐      │       \n",
       "«q_2: ──────■───────┤ X ├──────■───────\n",
       "«     ┌─────┴──────┐└───┘┌─────┴──────┐\n",
       "«q_3: ┤ Ry(1.7092) ├─────┤ Ry(1.4133) ├\n",
       "«     └────────────┘     └────────────┘"
      ]
     },
     "execution_count": 69,
     "metadata": {},
     "output_type": "execute_result"
    }
   ],
   "source": [
    "thetas, all_combinations = thetas_computation(example_matrix)\n",
    "matrix_circuit = generate_qram_circuit(thetas, all_combinations)\n",
    "matrix_circuit.draw()"
   ]
  },
  {
   "cell_type": "code",
   "execution_count": 70,
   "metadata": {},
   "outputs": [
    {
     "data": {
      "text/plain": [
       "{'0000': 0.021846550319795,\n",
       " '0001': 0.046702648302985,\n",
       " '0010': 0.017035204981612,\n",
       " '0011': 0.025113373672601,\n",
       " '0100': 0.046702648302985,\n",
       " '0101': 0.199520140449554,\n",
       " '0110': 0.085655878824239,\n",
       " '0111': 0.112269219735055,\n",
       " '1000': 0.017035204981612,\n",
       " '1001': 0.085655878824239,\n",
       " '1010': 0.056955066879738,\n",
       " '1011': 0.033148809159865,\n",
       " '1100': 0.025113373672601,\n",
       " '1101': 0.112269219735055,\n",
       " '1110': 0.033148809159866,\n",
       " '1111': 0.081827972998199}"
      ]
     },
     "execution_count": 70,
     "metadata": {},
     "output_type": "execute_result"
    }
   ],
   "source": [
    "#Check matrix encoding\n",
    "backend = Aer.get_backend(\"statevector_simulator\")\n",
    "job = backend.run(transpile(matrix_circuit, backend=backend))\n",
    "job.result().get_counts()"
   ]
  },
  {
   "cell_type": "code",
   "execution_count": 39,
   "metadata": {},
   "outputs": [
    {
     "name": "stderr",
     "output_type": "stream",
     "text": [
      "/var/folders/rr/g930v2cj1wvdzc257kclm3lm0000gn/T/ipykernel_5286/4115894098.py:4: DeprecationWarning: The NumPyMatrix class is deprecated as of Qiskit Terra 0.22.0 and will be removed no sooner than 3 months after the release date. \n",
      "  u_circuit = NumPyMatrix(example_matrix, evolution_time=2*np.pi/(2**resolution))\n"
     ]
    },
    {
     "data": {
      "text/plain": [
       "Operator([[-0.36040933+0.28043596j,  0.51152746+0.06659575j,\n",
       "           -0.04666461-0.65125865j, -0.12719201-0.28787538j],\n",
       "          [ 0.51152746+0.06659575j, -0.51373768-0.07276323j,\n",
       "            0.2633649 -0.51229114j, -0.21634611-0.29338516j],\n",
       "          [-0.04666461-0.65125865j,  0.2633649 -0.51229114j,\n",
       "            0.17703434+0.06846179j, -0.38503675-0.23999964j],\n",
       "          [-0.12719201-0.28787538j, -0.21634611-0.29338516j,\n",
       "           -0.38503675-0.23999964j,  0.69711266-0.27613452j]],\n",
       "         input_dims=(2, 2), output_dims=(2, 2))"
      ]
     },
     "execution_count": 39,
     "metadata": {},
     "output_type": "execute_result"
    }
   ],
   "source": [
    "#Unitary for PE\n",
    "resolution = 2\n",
    "unitary_backend = Aer.get_backend(\"unitary_simulator\")\n",
    "u_circuit = NumPyMatrix(example_matrix, evolution_time=2*np.pi/(2**resolution))\n",
    "unitary_job = unitary_backend.run(transpile(u_circuit, backend=unitary_backend))\n",
    "unitary_job.result().get_unitary()"
   ]
  },
  {
   "cell_type": "code",
   "execution_count": 40,
   "metadata": {},
   "outputs": [
    {
     "data": {
      "image/png": "[encoded data removed]",
      "text/plain": [
       "<Figure size 658.969x264.88 with 1 Axes>"
      ]
     },
     "execution_count": 40,
     "metadata": {},
     "output_type": "execute_result"
    }
   ],
   "source": [
    "#PE circuit\n",
    "pe = PhaseEstimation(resolution, u_circuit, name = \"PE\")\n",
    "pe.decompose().draw(\"mpl\")"
   ]
  },
  {
   "cell_type": "markdown",
   "metadata": {},
   "source": [
    "# Check Statevector"
   ]
  },
  {
   "cell_type": "code",
   "execution_count": 41,
   "metadata": {},
   "outputs": [
    {
     "data": {
      "image/png": "[encoded data removed]",
      "text/plain": [
       "<Figure size 1626.07x806.68 with 1 Axes>"
      ]
     },
     "execution_count": 41,
     "metadata": {},
     "output_type": "execute_result"
    }
   ],
   "source": [
    "tot_qubit = resolution+len(example_matrix)\n",
    "\n",
    "qr_total = QuantumRegister(tot_qubit, 'total')\n",
    "# classical = ClassicalRegister(4, 'measure')\n",
    "\n",
    "total_circuit = QuantumCircuit(qr_total , name='matrix')\n",
    "\n",
    "total_circuit.append(matrix_circuit.to_gate(), qr_total[resolution:])\n",
    "total_circuit.append(pe.to_gate(), qr_total[0:pe.num_qubits])\n",
    "# total_circuit.measure(qr_total[:2], classical[:])\n",
    "#total_circuit.swap(qr_total[0],qr_total[1])\n",
    "#total_circuit.measure_all()\n",
    "\n",
    "total_circuit.decompose(reps=1).draw(\"mpl\")"
   ]
  },
  {
   "cell_type": "code",
   "execution_count": 42,
   "metadata": {},
   "outputs": [],
   "source": [
    "backend_total = Aer.get_backend(\"statevector_simulator\")\n",
    "job = backend_total.run(transpile(total_circuit, backend=backend_total))\n",
    "statevector = np.asarray(job.result().get_statevector()).round(4)\n",
    "#plot_histogram(counts)"
   ]
  },
  {
   "cell_type": "code",
   "execution_count": 43,
   "metadata": {},
   "outputs": [],
   "source": [
    "def attach_bitstrings(vector):\n",
    "    return list(zip(bitstrings, vector))"
   ]
  },
  {
   "cell_type": "code",
   "execution_count": 44,
   "metadata": {},
   "outputs": [
    {
     "data": {
      "text/plain": [
       "[('000000', (-0.0001-0j)),\n",
       " ('000001', (0.1122+0j)),\n",
       " ('000010', (0.2003+0j)),\n",
       " ('000011', (0.1339-0j)),\n",
       " ('000100', (-0.0001+0j)),\n",
       " ('000101', (-0.1374-0j)),\n",
       " ('000110', (0.1147+0j)),\n",
       " ('000111', (0.158-0j)),\n",
       " ('001000', (-0.0002+0j)),\n",
       " ('001001', (0.0348+0j)),\n",
       " ('001010', (-0.1941-0j)),\n",
       " ('001011', (0.1985-0j)),\n",
       " ('001100', (0.0003+0j)),\n",
       " ('001101', (-0.0012+0j)),\n",
       " ('001110', (-0.035+0j)),\n",
       " ('001111', (0.1831-0j)),\n",
       " ('010000', (-0.0108+0j)),\n",
       " ('010001', (-0.1297-0j)),\n",
       " ('010010', (0.107+0j)),\n",
       " ('010011', (0.1687+0j)),\n",
       " ('010100', (-0.0174+0j)),\n",
       " ('010101', (0.1589+0j)),\n",
       " ('010110', (0.0613-0j)),\n",
       " ('010111', (0.199-0j)),\n",
       " ('011000', (-0.0318+0j)),\n",
       " ('011001', (-0.0402-0j)),\n",
       " ('011010', (-0.1037+0j)),\n",
       " ('011011', (0.25-0j)),\n",
       " ('011100', (0.0573-0j)),\n",
       " ('011101', (0.0014+0j)),\n",
       " ('011110', (-0.0187+0j)),\n",
       " ('011111', (0.2306-0j)),\n",
       " ('100000', (0.0166+0j)),\n",
       " ('100001', (0.0413+0j)),\n",
       " ('100010', (-0.1982+0j)),\n",
       " ('100011', (0.1794-0j)),\n",
       " ('100100', (0.0267+0j)),\n",
       " ('100101', (-0.0505+0j)),\n",
       " ('100110', (-0.1135+0j)),\n",
       " ('100111', (0.2117-0j)),\n",
       " ('101000', (0.0489+0j)),\n",
       " ('101001', (0.0128+0j)),\n",
       " ('101010', (0.1921+0j)),\n",
       " ('101011', (0.266-0j)),\n",
       " ('101100', (-0.0883+0j)),\n",
       " ('101101', (-0.0004+0j)),\n",
       " ('101110', (0.0347-0j)),\n",
       " ('101111', (0.2453-0j)),\n",
       " ('110000', (-0.0026+0j)),\n",
       " ('110001', (-0.0491-0j)),\n",
       " ('110010', (0.0329+0j)),\n",
       " ('110011', (0.166-0j)),\n",
       " ('110100', (-0.0042+0j)),\n",
       " ('110101', (0.0602+0j)),\n",
       " ('110110', (0.0188+0j)),\n",
       " ('110111', (0.1959-0j)),\n",
       " ('111000', (-0.0077+0j)),\n",
       " ('111001', (-0.0152-0j)),\n",
       " ('111010', (-0.0318+0j)),\n",
       " ('111011', (0.2461-0j)),\n",
       " ('111100', (0.0139+0j)),\n",
       " ('111101', (0.0005+0j)),\n",
       " ('111110', (-0.0058+0j)),\n",
       " ('111111', (0.227-0j))]"
      ]
     },
     "execution_count": 44,
     "metadata": {},
     "output_type": "execute_result"
    }
   ],
   "source": [
    "bitstrings=[''.join([''.join(str(j)) for j in i]) for i in list(map(list, itertools.product([0, 1], repeat=resolution+len(example_matrix))))]\n",
    "ss=attach_bitstrings(statevector)\n",
    "ss"
   ]
  },
  {
   "cell_type": "code",
   "execution_count": 45,
   "metadata": {},
   "outputs": [
    {
     "data": {
      "text/plain": [
       "array([0.1339-0.j, 0.158 -0.j, 0.1985-0.j, 0.1831-0.j, 0.1687+0.j,\n",
       "       0.199 -0.j, 0.25  -0.j, 0.2306-0.j, 0.1794-0.j, 0.2117-0.j,\n",
       "       0.266 -0.j, 0.2453-0.j, 0.166 -0.j, 0.1959-0.j, 0.2461-0.j,\n",
       "       0.227 -0.j])"
      ]
     },
     "execution_count": 45,
     "metadata": {},
     "output_type": "execute_result"
    }
   ],
   "source": [
    "a=[i[1] for i in ss if i[0][-2:]=='11']\n",
    "aa=np.array(a)\n",
    "aa"
   ]
  },
  {
   "cell_type": "code",
   "execution_count": 46,
   "metadata": {},
   "outputs": [
    {
     "data": {
      "text/plain": [
       "array([0.16172318+0.j, 0.19083093+0.j, 0.23974646+0.j, 0.22114648+0.j,\n",
       "       0.20375429+0.j, 0.24035035+0.j, 0.30194768+0.j, 0.27851654+0.j,\n",
       "       0.21667765+0.j, 0.25568929+0.j, 0.32127233+0.j, 0.29627106+0.j,\n",
       "       0.20049326+0.j, 0.2366062 +0.j, 0.29723729+0.j, 0.27416849+0.j])"
      ]
     },
     "execution_count": 46,
     "metadata": {},
     "output_type": "execute_result"
    }
   ],
   "source": [
    "nf=np.sqrt((1/(sum(aa**2))))\n",
    "aa*=nf\n",
    "aa"
   ]
  },
  {
   "cell_type": "markdown",
   "metadata": {},
   "source": [
    "# Computing Probabilities"
   ]
  },
  {
   "cell_type": "code",
   "execution_count": 47,
   "metadata": {},
   "outputs": [
    {
     "data": {
      "image/png": "[encoded data removed]",
      "text/plain": [
       "<Figure size 1626.07x927.08 with 1 Axes>"
      ]
     },
     "execution_count": 47,
     "metadata": {},
     "output_type": "execute_result"
    }
   ],
   "source": [
    "tot_qubit = resolution+len(example_matrix)\n",
    "\n",
    "qr_total = QuantumRegister(tot_qubit, 'total')\n",
    "# classical = ClassicalRegister(4, 'measure')\n",
    "\n",
    "total_circuit_1 = QuantumCircuit(qr_total , name='matrix')\n",
    "\n",
    "total_circuit_1.append(matrix_circuit.to_gate(), qr_total[resolution:])\n",
    "total_circuit_1.append(pe.to_gate(), qr_total[0:pe.num_qubits])\n",
    "# total_circuit.measure(qr_total[:2], classical[:])\n",
    "#total_circuit_1.swap(qr_total[0],qr_total[1])\n",
    "total_circuit_1.measure_all()\n",
    "\n",
    "total_circuit_1.decompose(reps=1).draw(\"mpl\")"
   ]
  },
  {
   "cell_type": "code",
   "execution_count": 48,
   "metadata": {},
   "outputs": [
    {
     "data": {
      "image/png": "[encoded data removed]",
      "text/plain": [
       "<Figure size 504x360 with 1 Axes>"
      ]
     },
     "execution_count": 48,
     "metadata": {},
     "output_type": "execute_result"
    }
   ],
   "source": [
    "n_shots=50000\n",
    "backend_total = Aer.get_backend(\"qasm_simulator\")\n",
    "job = backend_total.run(transpile(total_circuit_1, backend=backend_total), shots=n_shots)\n",
    "counts = job.result().get_counts()\n",
    "plot_histogram(counts)"
   ]
  },
  {
   "cell_type": "markdown",
   "metadata": {},
   "source": [
    "# Storing probabilities"
   ]
  },
  {
   "cell_type": "code",
   "execution_count": 49,
   "metadata": {},
   "outputs": [
    {
     "data": {
      "text/plain": [
       "{'110100': 2e-05,\n",
       " '001101': 2e-05,\n",
       " '110000': 2e-05,\n",
       " '111000': 4e-05,\n",
       " '111110': 2e-05,\n",
       " '100000': 0.0002,\n",
       " '100100': 0.00076,\n",
       " '010100': 0.00034,\n",
       " '011110': 0.00038,\n",
       " '001011': 0.03994,\n",
       " '011011': 0.06354,\n",
       " '001001': 0.00102,\n",
       " '101110': 0.0009,\n",
       " '000101': 0.0188,\n",
       " '110001': 0.0025,\n",
       " '110111': 0.0378,\n",
       " '011001': 0.00194,\n",
       " '001111': 0.03194,\n",
       " '110101': 0.00368,\n",
       " '100001': 0.00194,\n",
       " '111001': 0.0002,\n",
       " '101111': 0.06122,\n",
       " '011100': 0.00344,\n",
       " '010010': 0.01146,\n",
       " '101010': 0.03654,\n",
       " '101001': 0.00018,\n",
       " '100111': 0.044,\n",
       " '101100': 0.00798,\n",
       " '000011': 0.01882,\n",
       " '011000': 0.00086,\n",
       " '111100': 0.00014,\n",
       " '111010': 0.00098,\n",
       " '010111': 0.03936,\n",
       " '010001': 0.01748,\n",
       " '010110': 0.00392,\n",
       " '100011': 0.03264,\n",
       " '101011': 0.07052,\n",
       " '110010': 0.0011,\n",
       " '011010': 0.01086,\n",
       " '100101': 0.00244,\n",
       " '000001': 0.0143,\n",
       " '010000': 0.0001,\n",
       " '100110': 0.01324,\n",
       " '001110': 0.00122,\n",
       " '010011': 0.02952,\n",
       " '010101': 0.0246,\n",
       " '110110': 0.0002,\n",
       " '000010': 0.03778,\n",
       " '111011': 0.05982,\n",
       " '100010': 0.03942,\n",
       " '111111': 0.05116,\n",
       " '110011': 0.02794,\n",
       " '000111': 0.0245,\n",
       " '000110': 0.01336,\n",
       " '011111': 0.05438,\n",
       " '101000': 0.00222,\n",
       " '001010': 0.0363}"
      ]
     },
     "execution_count": 49,
     "metadata": {},
     "output_type": "execute_result"
    }
   ],
   "source": [
    "for i in counts:\n",
    "    counts[i]/=n_shots\n",
    "counts"
   ]
  },
  {
   "cell_type": "code",
   "execution_count": 50,
   "metadata": {},
   "outputs": [
    {
     "data": {
      "text/plain": [
       "array([0.000e+00, 1.430e-02, 3.778e-02, 1.882e-02, 0.000e+00, 1.880e-02,\n",
       "       1.336e-02, 2.450e-02, 0.000e+00, 1.020e-03, 3.630e-02, 3.994e-02,\n",
       "       0.000e+00, 2.000e-05, 1.220e-03, 3.194e-02, 1.000e-04, 1.748e-02,\n",
       "       1.146e-02, 2.952e-02, 3.400e-04, 2.460e-02, 3.920e-03, 3.936e-02,\n",
       "       8.600e-04, 1.940e-03, 1.086e-02, 6.354e-02, 3.440e-03, 0.000e+00,\n",
       "       3.800e-04, 5.438e-02, 2.000e-04, 1.940e-03, 3.942e-02, 3.264e-02,\n",
       "       7.600e-04, 2.440e-03, 1.324e-02, 4.400e-02, 2.220e-03, 1.800e-04,\n",
       "       3.654e-02, 7.052e-02, 7.980e-03, 0.000e+00, 9.000e-04, 6.122e-02,\n",
       "       2.000e-05, 2.500e-03, 1.100e-03, 2.794e-02, 2.000e-05, 3.680e-03,\n",
       "       2.000e-04, 3.780e-02, 4.000e-05, 2.000e-04, 9.800e-04, 5.982e-02,\n",
       "       1.400e-04, 0.000e+00, 2.000e-05, 5.116e-02])"
      ]
     },
     "execution_count": 50,
     "metadata": {},
     "output_type": "execute_result"
    }
   ],
   "source": [
    "statevector=np.zeros(2**tot_qubit)\n",
    "for i in counts:\n",
    "    statevector[int(i,2)]=counts[i]\n",
    "statevector"
   ]
  },
  {
   "cell_type": "code",
   "execution_count": 51,
   "metadata": {},
   "outputs": [
    {
     "data": {
      "image/png": "[encoded data removed]",
      "text/plain": [
       "<Figure size 1701.79x866.88 with 1 Axes>"
      ]
     },
     "execution_count": 51,
     "metadata": {},
     "output_type": "execute_result"
    }
   ],
   "source": [
    "\n",
    "tot_qubit = resolution+len(example_matrix)\n",
    "\n",
    "qr_total_xi = QuantumRegister(tot_qubit, 'xi')\n",
    "qr_total_pi = QuantumRegister(tot_qubit, 'pi')\n",
    "qr_control = QuantumRegister(1, 'control_qubit')\n",
    "n_classical_register=tot_qubit+1\n",
    "classical = ClassicalRegister(n_classical_register, 'measure')\n",
    "\n",
    "total_circuit_2 = QuantumCircuit(qr_total_xi,qr_total_pi,qr_control ,classical, name='matrix')\n",
    "\n",
    "total_circuit_2.append(matrix_circuit.to_gate(), qr_total_xi[resolution:])\n",
    "total_circuit_2.append(pe.to_gate(), qr_total_xi[0:pe.num_qubits])\n",
    "\n",
    "#total_circuit_2.swap(qr_total_xi[0],qr_total_xi[1])\n",
    "total_circuit_2.initialize(np.sqrt(statevector),qr_total_pi)\n",
    "total_circuit_2.h(qr_control)\n",
    "for i in range(tot_qubit):\n",
    "    total_circuit_2.cswap(control_qubit=qr_control, target_qubit1=qr_total_xi[i],target_qubit2=qr_total_pi[i])\n",
    "\n",
    "total_circuit_2.h(qr_control)\n",
    "total_circuit_2.measure(qr_total_xi,classical[0:n_classical_register-1])\n",
    "total_circuit_2.measure(qr_control,classical[n_classical_register-1])\n",
    "\n",
    "total_circuit_2.draw(\"mpl\")"
   ]
  },
  {
   "cell_type": "code",
   "execution_count": 52,
   "metadata": {},
   "outputs": [
    {
     "data": {
      "image/png": "[encoded data removed]",
      "text/plain": [
       "<Figure size 504x360 with 1 Axes>"
      ]
     },
     "execution_count": 52,
     "metadata": {},
     "output_type": "execute_result"
    }
   ],
   "source": [
    "backend_total = Aer.get_backend(\"qasm_simulator\")\n",
    "job = backend_total.run(transpile(total_circuit_2, backend=backend_total), shots=n_shots)\n",
    "counts_for_sign = job.result().get_counts()\n",
    "plot_histogram(counts_for_sign)"
   ]
  },
  {
   "cell_type": "code",
   "execution_count": 53,
   "metadata": {},
   "outputs": [
    {
     "data": {
      "text/plain": [
       "array([0.000e+00, 5.540e+02, 1.572e+03, 7.450e+02, 0.000e+00, 1.400e+02,\n",
       "       5.330e+02, 1.063e+03, 0.000e+00, 6.100e+01, 2.870e+02, 1.683e+03,\n",
       "       0.000e+00, 0.000e+00, 8.000e+00, 1.379e+03, 2.000e+00, 1.400e+02,\n",
       "       4.590e+02, 1.224e+03, 4.000e+00, 1.073e+03, 1.810e+02, 1.715e+03,\n",
       "       8.000e+00, 1.300e+01, 8.100e+01, 2.734e+03, 1.380e+02, 0.000e+00,\n",
       "       3.000e+00, 2.305e+03, 7.000e+00, 8.500e+01, 2.860e+02, 1.382e+03,\n",
       "       4.000e+01, 2.600e+01, 9.100e+01, 1.861e+03, 9.400e+01, 2.000e+00,\n",
       "       1.546e+03, 2.934e+03, 6.600e+01, 0.000e+00, 3.600e+01, 2.598e+03,\n",
       "       0.000e+00, 1.700e+01, 5.300e+01, 1.183e+03, 0.000e+00, 1.580e+02,\n",
       "       1.400e+01, 1.596e+03, 0.000e+00, 4.000e+00, 7.000e+00, 2.548e+03,\n",
       "       9.000e+00, 0.000e+00, 0.000e+00, 2.136e+03])"
      ]
     },
     "execution_count": 53,
     "metadata": {},
     "output_type": "execute_result"
    }
   ],
   "source": [
    "#Take only counts with control qubits equal to 0\n",
    "tmp=np.zeros(2**tot_qubit)\n",
    "for c in counts_for_sign:\n",
    "    if c[0]=='0':\n",
    "        tmp[int(c[1:],2)]=counts_for_sign[c]\n",
    "tmp"
   ]
  },
  {
   "cell_type": "code",
   "execution_count": 54,
   "metadata": {},
   "outputs": [
    {
     "data": {
      "text/plain": [
       "array([0.000e+00, 1.430e-02, 3.778e-02, 1.882e-02, 0.000e+00, 1.880e-02,\n",
       "       1.336e-02, 2.450e-02, 0.000e+00, 1.020e-03, 3.630e-02, 3.994e-02,\n",
       "       0.000e+00, 2.000e-05, 1.220e-03, 3.194e-02, 1.000e-04, 1.748e-02,\n",
       "       1.146e-02, 2.952e-02, 3.400e-04, 2.460e-02, 3.920e-03, 3.936e-02,\n",
       "       8.600e-04, 1.940e-03, 1.086e-02, 6.354e-02, 3.440e-03, 0.000e+00,\n",
       "       3.800e-04, 5.438e-02, 2.000e-04, 1.940e-03, 3.942e-02, 3.264e-02,\n",
       "       7.600e-04, 2.440e-03, 1.324e-02, 4.400e-02, 2.220e-03, 1.800e-04,\n",
       "       3.654e-02, 7.052e-02, 7.980e-03, 0.000e+00, 9.000e-04, 6.122e-02,\n",
       "       2.000e-05, 2.500e-03, 1.100e-03, 2.794e-02, 2.000e-05, 3.680e-03,\n",
       "       2.000e-04, 3.780e-02, 4.000e-05, 2.000e-04, 9.800e-04, 5.982e-02,\n",
       "       1.400e-04, 0.000e+00, 2.000e-05, 5.116e-02])"
      ]
     },
     "execution_count": 54,
     "metadata": {},
     "output_type": "execute_result"
    }
   ],
   "source": [
    "statevector"
   ]
  },
  {
   "cell_type": "code",
   "execution_count": 55,
   "metadata": {},
   "outputs": [],
   "source": [
    "#Sign estimation\n",
    "sign_dictionary={}\n",
    "sign=0\n",
    "for e, (count, prob) in enumerate(zip(tmp, statevector)):\n",
    "    if count>0.4*prob*n_shots:\n",
    "        sign=1\n",
    "    else:\n",
    "        sign=-1\n",
    "    if prob==0:\n",
    "        sign=0\n",
    "    sign_dictionary.update({bin(e)[2:].zfill(tot_qubit):sign})"
   ]
  },
  {
   "cell_type": "code",
   "execution_count": 56,
   "metadata": {},
   "outputs": [
    {
     "data": {
      "text/plain": [
       "{'000000': 0,\n",
       " '000001': 1,\n",
       " '000010': 1,\n",
       " '000011': 1,\n",
       " '000100': 0,\n",
       " '000101': -1,\n",
       " '000110': 1,\n",
       " '000111': 1,\n",
       " '001000': 0,\n",
       " '001001': 1,\n",
       " '001010': -1,\n",
       " '001011': 1,\n",
       " '001100': 0,\n",
       " '001101': -1,\n",
       " '001110': -1,\n",
       " '001111': 1,\n",
       " '010000': -1,\n",
       " '010001': -1,\n",
       " '010010': 1,\n",
       " '010011': 1,\n",
       " '010100': -1,\n",
       " '010101': 1,\n",
       " '010110': 1,\n",
       " '010111': 1,\n",
       " '011000': -1,\n",
       " '011001': -1,\n",
       " '011010': -1,\n",
       " '011011': 1,\n",
       " '011100': 1,\n",
       " '011101': 0,\n",
       " '011110': -1,\n",
       " '011111': 1,\n",
       " '100000': 1,\n",
       " '100001': 1,\n",
       " '100010': -1,\n",
       " '100011': 1,\n",
       " '100100': 1,\n",
       " '100101': -1,\n",
       " '100110': -1,\n",
       " '100111': 1,\n",
       " '101000': 1,\n",
       " '101001': -1,\n",
       " '101010': 1,\n",
       " '101011': 1,\n",
       " '101100': -1,\n",
       " '101101': 0,\n",
       " '101110': 1,\n",
       " '101111': 1,\n",
       " '110000': -1,\n",
       " '110001': -1,\n",
       " '110010': 1,\n",
       " '110011': 1,\n",
       " '110100': -1,\n",
       " '110101': 1,\n",
       " '110110': 1,\n",
       " '110111': 1,\n",
       " '111000': -1,\n",
       " '111001': -1,\n",
       " '111010': -1,\n",
       " '111011': 1,\n",
       " '111100': 1,\n",
       " '111101': 0,\n",
       " '111110': -1,\n",
       " '111111': 1}"
      ]
     },
     "execution_count": 56,
     "metadata": {},
     "output_type": "execute_result"
    }
   ],
   "source": [
    "sign_dictionary"
   ]
  },
  {
   "cell_type": "code",
   "execution_count": 57,
   "metadata": {},
   "outputs": [
    {
     "data": {
      "text/plain": [
       "{'000000': 0.0,\n",
       " '000001': 0.11958260743101398,\n",
       " '000010': 0.1943707796969493,\n",
       " '000011': 0.13718600511714013,\n",
       " '000100': 0.0,\n",
       " '000101': -0.13711309200802088,\n",
       " '000110': 0.11558546621439912,\n",
       " '000111': 0.15652475842498528,\n",
       " '001000': 0.0,\n",
       " '001001': 0.03193743884534263,\n",
       " '001010': -0.1905255888325765,\n",
       " '001011': 0.19984994370777293,\n",
       " '001100': 0.0,\n",
       " '001101': -0.00447213595499958,\n",
       " '001110': -0.03492849839314596,\n",
       " '001111': 0.17871765441612086,\n",
       " '010000': -0.01,\n",
       " '010001': -0.13221195104830727,\n",
       " '010010': 0.10705138952858108,\n",
       " '010011': 0.17181385275931624,\n",
       " '010100': -0.018439088914585774,\n",
       " '010101': 0.15684387141358122,\n",
       " '010110': 0.06260990336999411,\n",
       " '010111': 0.1983935482821959,\n",
       " '011000': -0.02932575659723036,\n",
       " '011001': -0.044045431091090485,\n",
       " '011010': -0.10421132376090422,\n",
       " '011011': 0.25207141845120007,\n",
       " '011100': 0.05865151319446072,\n",
       " '011101': 0.0,\n",
       " '011110': -0.019493588689617928,\n",
       " '011111': 0.23319519720611742,\n",
       " '100000': 0.01414213562373095,\n",
       " '100001': 0.044045431091090485,\n",
       " '100010': -0.19854470529329155,\n",
       " '100011': 0.18066543665017945,\n",
       " '100100': 0.027568097504180444,\n",
       " '100101': -0.04939635614091387,\n",
       " '100110': -0.1150651989091402,\n",
       " '100111': 0.20976176963403032,\n",
       " '101000': 0.047116875957558986,\n",
       " '101001': -0.01341640786499874,\n",
       " '101010': 0.1911543878648879,\n",
       " '101011': 0.2655560204551951,\n",
       " '101100': -0.08933084573650918,\n",
       " '101101': 0.0,\n",
       " '101110': 0.03,\n",
       " '101111': 0.2474267568392715,\n",
       " '110000': -0.00447213595499958,\n",
       " '110001': -0.05,\n",
       " '110010': 0.033166247903554,\n",
       " '110011': 0.1671526248672153,\n",
       " '110100': -0.00447213595499958,\n",
       " '110101': 0.06066300355241241,\n",
       " '110110': 0.01414213562373095,\n",
       " '110111': 0.1944222209522358,\n",
       " '111000': -0.006324555320336759,\n",
       " '111001': -0.01414213562373095,\n",
       " '111010': -0.03130495168499706,\n",
       " '111011': 0.2445812748351762,\n",
       " '111100': 0.011832159566199232,\n",
       " '111101': 0.0,\n",
       " '111110': -0.00447213595499958,\n",
       " '111111': 0.22618576436195095}"
      ]
     },
     "execution_count": 57,
     "metadata": {},
     "output_type": "execute_result"
    }
   ],
   "source": [
    "statevector_dictionary={}\n",
    "for e,key in enumerate(sign_dictionary):\n",
    "    statevector_dictionary[key]=sign_dictionary[key]*np.sqrt(statevector[e])\n",
    "\n",
    "statevector_dictionary"
   ]
  },
  {
   "cell_type": "markdown",
   "metadata": {},
   "source": [
    "# Eigenvectors reconstruction (2x2 matrix)\n"
   ]
  },
  {
   "cell_type": "code",
   "execution_count": 58,
   "metadata": {},
   "outputs": [
    {
     "data": {
      "text/plain": [
       "[array([ 0.        ,  0.        ,  0.        ,  0.        , -0.01      ,\n",
       "        -0.01843909, -0.02932576,  0.05865151,  0.01414214,  0.0275681 ,\n",
       "         0.04711688, -0.08933085, -0.00447214, -0.00447214, -0.00632456,\n",
       "         0.01183216]),\n",
       " array([ 0.11958261, -0.13711309,  0.03193744, -0.00447214, -0.13221195,\n",
       "         0.15684387, -0.04404543,  0.        ,  0.04404543, -0.04939636,\n",
       "        -0.01341641,  0.        , -0.05      ,  0.060663  , -0.01414214,\n",
       "         0.        ]),\n",
       " array([ 0.19437078,  0.11558547, -0.19052559, -0.0349285 ,  0.10705139,\n",
       "         0.0626099 , -0.10421132, -0.01949359, -0.19854471, -0.1150652 ,\n",
       "         0.19115439,  0.03      ,  0.03316625,  0.01414214, -0.03130495,\n",
       "        -0.00447214]),\n",
       " array([0.13718601, 0.15652476, 0.19984994, 0.17871765, 0.17181385,\n",
       "        0.19839355, 0.25207142, 0.2331952 , 0.18066544, 0.20976177,\n",
       "        0.26555602, 0.24742676, 0.16715262, 0.19442222, 0.24458127,\n",
       "        0.22618576])]"
      ]
     },
     "execution_count": 58,
     "metadata": {},
     "output_type": "execute_result"
    }
   ],
   "source": [
    "binary_lambda=[]\n",
    "for d in statevector_dictionary:\n",
    "    if statevector_dictionary[d]!=0:\n",
    "        binary_lambda.append(d[-resolution:])\n",
    "l_list=[]\n",
    "eigenvalues=[]\n",
    "for b_l in np.unique(binary_lambda):\n",
    "    eigenvalues.append(int(b_l[::-1],2))\n",
    "    tmp_list=[]\n",
    "    for key in list(statevector_dictionary.keys()):\n",
    "        if key[-resolution:]==b_l:\n",
    "            tmp_list.append(statevector_dictionary[key])\n",
    "    l_list.append(np.asarray(tmp_list))\n",
    "l_list"
   ]
  },
  {
   "cell_type": "code",
   "execution_count": 59,
   "metadata": {},
   "outputs": [],
   "source": [
    "for l in l_list:\n",
    "    normalization_factor=np.sqrt((1/(sum(l**2))))\n",
    "    l*=normalization_factor"
   ]
  },
  {
   "cell_type": "markdown",
   "metadata": {},
   "source": [
    "# Non eseguire le prossime celle-> si riferiscono ai conti fatti dopo"
   ]
  },
  {
   "cell_type": "code",
   "execution_count": 251,
   "metadata": {},
   "outputs": [
    {
     "data": {
      "text/plain": [
       "[array([ 0.02487923, -0.18736271,  0.01880693,  0.05719904, -0.10680283,\n",
       "         0.909369  , -0.09862437, -0.31413765, -0.01628728,  0.08669566,\n",
       "         0.        , -0.03118776,  0.        ,  0.06649254, -0.00940346,\n",
       "        -0.02487923]),\n",
       " array([ 0.88370213,  0.07377497, -0.4228159 ,  0.03393155,  0.01772018,\n",
       "         0.        ,  0.        ,  0.        ,  0.14395938,  0.01023075,\n",
       "        -0.05877117, -0.01023075,  0.08681077,  0.        , -0.03688749,\n",
       "        -0.01023075]),\n",
       " array([ 0.16746511, -0.07463575,  0.2775365 , -0.3508948 , -0.15862936,\n",
       "         0.06789746, -0.29854301,  0.3754879 , -0.08081414,  0.04157853,\n",
       "        -0.13148287,  0.16162829, -0.21336447,  0.11428846, -0.37497599,\n",
       "         0.50544481]),\n",
       " array([0.10582468, 0.11233706, 0.25719353, 0.21691459, 0.1532455 ,\n",
       "        0.16856757, 0.38357703, 0.33125843, 0.09255428, 0.09803553,\n",
       "        0.22772225, 0.18934909, 0.1831797 , 0.20604706, 0.4646188 ,\n",
       "        0.39553735])]"
      ]
     },
     "execution_count": 251,
     "metadata": {},
     "output_type": "execute_result"
    }
   ],
   "source": [
    "l_list"
   ]
  },
  {
   "cell_type": "code",
   "execution_count": 253,
   "metadata": {},
   "outputs": [
    {
     "data": {
      "text/plain": [
       "(array([3.00000000e+00, 2.00000000e+00, 1.00000000e+00, 1.38840214e-16]),\n",
       " array([[-0.27283206, -0.89909441,  0.32289714,  0.11370725],\n",
       "        [-0.30415742, -0.07818057, -0.14423829, -0.93838765],\n",
       "        [-0.69638872,  0.42791917,  0.56686168,  0.1029358 ],\n",
       "        [-0.58999464, -0.04901247, -0.74404341,  0.30968291]]))"
      ]
     },
     "execution_count": 253,
     "metadata": {},
     "output_type": "execute_result"
    }
   ],
   "source": [
    "np.linalg.eig(example_matrix)"
   ]
  },
  {
   "cell_type": "markdown",
   "metadata": {},
   "source": [
    "$$\\left|11\\right\\rangle(0.1058|0000\\rangle+0.1123|0001\\rangle+0.2571|0010\\rangle+0.2169|0011\\rangle+\n",
    "0.1532|0100\\rangle+0.1685|0101\\rangle+0.3835|0110\\rangle+0.3312|0111\\rangle+0.09255|1000\\rangle+0.09803|1001\\rangle+0.2277|1010\\rangle+0.1893|1011\\rangle+\n",
    "0.1831|1100\\rangle+0.2060|1101\\rangle+0.4646|1110\\rangle+0.3955|1111\\rangle) =$$\n",
    "\n",
    "$$\\left|11\\right\\rangle\\left[\\textbf{0.2571|00}\\rangle(0.41|00\\rangle+0.43|01\\rangle+|10\\rangle+0.84|11\\rangle)+\\\\\n",
    "\\textbf{0.3835|01}\\rangle(0.399|00\\rangle+0.48|01\\rangle+|10\\rangle+0.86|11\\rangle)+\\\\\n",
    "\\textbf{0.2277|01}\\rangle(0.40|00\\rangle+0.43|01\\rangle+|10\\rangle+0.83|11\\rangle)+\\\\\n",
    "\\textbf{0.4646|01}\\rangle(0.39|00\\rangle+0.44|01\\rangle+|10\\rangle+0.8|11\\rangle)\\right]\\\\\n",
    "$$\n",
    "\n",
    "$$\\sqrt{0.4646}=0.68 -> 3 posizione \n",
    "\\\\\n",
    "0.68*0.39=0.265-> 1 posizione\n",
    "\\\\\n",
    "0.68*0.44=0.29 -> 2 posizione\n",
    "\\\\\n",
    "0.68*0.8=0.54 -> 4 posizione\n",
    "$$\n",
    "\n",
    "\n",
    "\n",
    "\n",
    "$$\\left|10\\right\\rangle(0.1674|0000\\rangle-0.0746|0001\\rangle+0.27753|0010\\rangle-0.3508|0011\\rangle-0.1586|0100\\rangle+0.06789|0101\\rangle-0.2985|0110\\rangle+0.3754|0111\\rangle-0.08081|1000\\rangle+0.04157|1001\\rangle-0.1314|1010\\rangle+0.1616|1011\\rangle-0.2133|1100\\rangle+0.11428|1101\\rangle-0.3749|1110\\rangle+0.50544|1111\\rangle) =$$\n",
    "\n",
    "\n",
    "$$\\left|10\\right\\rangle\\left[\\textbf{0.3508|00}\\rangle(0.4771|00\\rangle-0.2126|01\\rangle+0.7911|10\\rangle-|11\\rangle)-\\\\\n",
    "\\textbf{0.3754|01}\\rangle(0.4224|00\\rangle-0.187|01\\rangle+0.7951|10\\rangle-|11\\rangle)-\\\\\n",
    "\\textbf{0.1616|10}\\rangle(0.50|00\\rangle-0.26|01\\rangle+0.8131|10\\rangle-|11\\rangle)-\\\\\n",
    "\\textbf{0.50544|10}\\rangle(0.42|00\\rangle-0.22|01\\rangle+0.75|10\\rangle-|11\\rangle)\\right]=\n",
    "$$\n",
    "\n",
    "\n",
    "$$\n",
    "\\sqrt{0.50544}=\\approx0.71 -> 4 posizione \n",
    "\\\\\n",
    "0.71*0.42=0.29-> 1 posizione\n",
    "\\\\\n",
    "0.68*0.22=0.15 -> 2 posizione\n",
    "\\\\\n",
    "0.68*0.75=... -> 3 posizione\n",
    "$$\n",
    "\n",
    "Magari possiamo fare una media dei vari rapporti. Per esempio: (0.4771+0.4224+0.50+0.42)/4=x. Dopodichè moltiplicare la radice del massimo dei massimi (0.71 in quest'ultimo caso) per x invece che per 0.42 per trovare il valore della prima posizione dell'eigenvector.\n",
    "\n",
    "Prendiamo sempre il massimo dei massimi perchè è quello che viene influenzato meno da eventuali errori di approssimazione (?)\n",
    "\n",
    "\n",
    "\n"
   ]
  },
  {
   "cell_type": "code",
   "execution_count": 284,
   "metadata": {},
   "outputs": [
    {
     "data": {
      "text/plain": [
       "[array([0.4241215 , 0.61471659, 0.37664376, 0.54807294]),\n",
       " array([ 0.81858522, -0.56242645, -0.09622978,  0.06583729])]"
      ]
     },
     "execution_count": 284,
     "metadata": {},
     "output_type": "execute_result"
    }
   ],
   "source": [
    "l_list"
   ]
  },
  {
   "cell_type": "code",
   "execution_count": 285,
   "metadata": {},
   "outputs": [
    {
     "data": {
      "text/plain": [
       "(array([3., 1.]),\n",
       " array([[ 0.82363923,  0.56711412],\n",
       "        [-0.56711412,  0.82363923]]))"
      ]
     },
     "execution_count": 285,
     "metadata": {},
     "output_type": "execute_result"
    }
   ],
   "source": [
    "np.linalg.eig(example_matrix)"
   ]
  },
  {
   "cell_type": "markdown",
   "metadata": {},
   "source": [
    "$$\\left|10\\right\\rangle(0.4241|00\\rangle+0.6147|01\\rangle+0.3766|10\\rangle+0.5480|11\\rangle) =$$\n",
    "\n",
    "$$\\left|10\\right\\rangle(0.6147|0\\rangle(0.689|0\\rangle+|1\\rangle)+0.5480|1\\rangle(0.687|0\\rangle+|1\\rangle)) =$$\n",
    "\n",
    "$$\\sqrt{0.6147}=0.7840 -> posizione 1$$ \n",
    "\n",
    "$$0.7840*0.689=0.5401 -> posizione 0$$\n",
    "\n",
    "\n"
   ]
  },
  {
   "cell_type": "markdown",
   "metadata": {},
   "source": [
    "# Eigenvectors Reconstruction (Generalized)"
   ]
  },
  {
   "cell_type": "code",
   "execution_count": 60,
   "metadata": {},
   "outputs": [
    {
     "name": "stdout",
     "output_type": "stream",
     "text": [
      "[0. 0. 0. 0.]\n",
      "eigenvalue: 0\n",
      "[ 0.611037   -0.72487705  0.20356245 -0.        ]\n",
      "eigenvalue: 2\n",
      "[ 0.66005555  0.38253059 -0.63548667 -0.09973404]\n",
      "eigenvalue: 1\n",
      "[0.38507206 0.44708827 0.56600868 0.52736779]\n",
      "eigenvalue: 3\n"
     ]
    },
    {
     "name": "stderr",
     "output_type": "stream",
     "text": [
      "/var/folders/rr/g930v2cj1wvdzc257kclm3lm0000gn/T/ipykernel_5286/1929885127.py:12: RuntimeWarning: invalid value encountered in divide\n",
      "  scaled_statevectors.append(statevector[i:i+len(example_matrix)]/max_list[e])\n"
     ]
    }
   ],
   "source": [
    "#TODO: Capire se fare la media tra i vari fattori di rescaling\n",
    "eigenvectors=[]\n",
    "for ll, eig in zip(l_list,eigenvalues):\n",
    "    #print(ll,eig)\n",
    "    eigenvector=np.zeros(len(example_matrix)) #put length of eigenvector\n",
    "    save_sign=np.sign(ll)\n",
    "    statevector=abs(ll)\n",
    "    max_list=[]\n",
    "    scaled_statevectors=[]\n",
    "    for e,i in enumerate(range(0,len(statevector),len(example_matrix))):\n",
    "        max_list.append(max(statevector[i:i+len(example_matrix)]))\n",
    "        scaled_statevectors.append(statevector[i:i+len(example_matrix)]/max_list[e])\n",
    "        #print(max_list,scaled_statevectors)\n",
    "    idx_max=np.argmax(max_list)\n",
    "    #print(idx_max)\n",
    "    max_max=max_list[idx_max]\n",
    "    #print(max_max)\n",
    "    value=np.sqrt(max_max)\n",
    "    eigenvector=scaled_statevectors[idx_max]*value*save_sign[:len(example_matrix)]\n",
    "    eigenvectors.append(eigenvector)\n",
    "    print(eigenvector)\n",
    "    print('eigenvalue:', eig)\n",
    "    "
   ]
  },
  {
   "cell_type": "code",
   "execution_count": 61,
   "metadata": {},
   "outputs": [
    {
     "data": {
      "text/plain": [
       "(array([3.00000000e+00, 2.00000000e+00, 1.00000000e+00, 1.17985385e-16]),\n",
       " array([[-0.39348026,  0.62061258,  0.6597444 , -0.15732338],\n",
       "        [-0.46422504, -0.76009576,  0.37781167, -0.2529978 ],\n",
       "        [-0.58326885,  0.19248217, -0.6392686 , -0.46269183],\n",
       "        [-0.53802031, -0.00671381, -0.1154614 ,  0.83495972]]))"
      ]
     },
     "execution_count": 61,
     "metadata": {},
     "output_type": "execute_result"
    }
   ],
   "source": [
    "np.linalg.eig(example_matrix)"
   ]
  },
  {
   "cell_type": "markdown",
   "metadata": {},
   "source": [
    "## 1st matrix_example"
   ]
  },
  {
   "cell_type": "code",
   "execution_count": 501,
   "metadata": {
    "jupyter": {
     "source_hidden": true
    }
   },
   "outputs": [
    {
     "data": {
      "text/plain": [
       "({'0001': 0.4063074844837685,\n",
       "  '0101': -0.4947759382402847,\n",
       "  '1001': -0.48985675123506794,\n",
       "  '1101': 0.5917358889406178},\n",
       " {'0011': 0.5898840122966107,\n",
       "  '0111': 0.49452547412185405,\n",
       "  '1011': 0.4915537016695547,\n",
       "  '1111': 0.4072546695329175},\n",
       " (array([3., 1.]),\n",
       "  array([[ 0.76746056, -0.64109616],\n",
       "         [ 0.64109616,  0.76746056]])))"
      ]
     },
     "execution_count": 501,
     "metadata": {},
     "output_type": "execute_result"
    }
   ],
   "source": [
    "norm_up=np.sqrt((1/(sum(np.asarray(list(statevector_dictionary_up_threshold.values()))**2))))\n",
    "norm_down=np.sqrt((1/(sum(np.asarray(list(statevector_dictionary_down_threshold.values()))**2))))\n",
    "for k in statevector_dictionary_up_threshold:\n",
    "    statevector_dictionary_up_threshold[k]*=norm_up\n",
    "    \n",
    "    \n",
    "for k_d in statevector_dictionary_down_threshold:\n",
    "    statevector_dictionary_down_threshold[k_d]*=norm_down\n",
    "statevector_dictionary_up_threshold,statevector_dictionary_down_threshold, np.linalg.eig(example_matrix)"
   ]
  },
  {
   "cell_type": "markdown",
   "metadata": {},
   "source": [
    "$$\\left|01\\right\\rangle(0.4063|00\\rangle-0.4947|01\\rangle-0.4898|10\\rangle+0.5917|11\\rangle) =$$\n",
    "\n",
    "$$\\left|01\\right\\rangle(0.4063|0\\rangle(|0\\rangle-1.21|1\\rangle)-0.4898|1\\rangle(|0\\rangle-x|1\\rangle)) =$$\n",
    "\n",
    "$$\\left|01\\right\\rangle((0.4063|0\\rangle-0.4898|1\\rangle)(|0\\rangle-x|1\\rangle)) =$$\n",
    "\n",
    "$$\\left|01\\right\\rangle(0.4063(|0\\rangle-y|1\\rangle)(|0\\rangle-x|1\\rangle)) =>$$\n",
    "\n",
    "$$\\sqrt{0.5917}=0.7692$$\n",
    "\n",
    "$$0.7692*\\approx0.8*\\text{sign}\\left|1\\right\\rangle=-0.6153$$\n",
    "\n",
    "\n"
   ]
  },
  {
   "cell_type": "code",
   "execution_count": null,
   "metadata": {},
   "outputs": [],
   "source": []
  },
  {
   "cell_type": "markdown",
   "metadata": {},
   "source": [
    "$$\\left|11\\right\\rangle(0.5898|00\\rangle+0.4945|01\\rangle+0.4915|10\\rangle+0.4072|11\\rangle) =$$\n",
    "\n",
    "$$\\left|11\\right\\rangle(0.5898|0\\rangle(|0\\rangle+0.83|1\\rangle)+0.4915|1\\rangle(|0\\rangle+0.83|1\\rangle)) =$$\n",
    "\n",
    "$$\\left|11\\right\\rangle((0.5898|0\\rangle+0.4915|1\\rangle)(|0\\rangle+0.83|1\\rangle)) =$$\n",
    "\n",
    "$$\\left|11\\right\\rangle(0.5898(|0\\rangle+0.83|1\\rangle)(|0\\rangle+0.83|1\\rangle)) =>$$\n",
    "\n",
    "$$\\sqrt{0.5898}=0.7679$$\n",
    "\n",
    "$$0.7679*\\approx0.8*\\text{sign}\\left|0\\right\\rangle=0.6143$$\n",
    "\n",
    "\n"
   ]
  },
  {
   "cell_type": "markdown",
   "metadata": {},
   "source": [
    "## 2nd matrix_example"
   ]
  },
  {
   "cell_type": "markdown",
   "metadata": {},
   "source": [
    "$$\\left|01\\right\\rangle(0.1272|00\\rangle-0.3143|01\\rangle-0.3203|10\\rangle+0.8845|11\\rangle) =$$\n",
    "\n",
    "$$\\left|01\\right\\rangle(0.3143|0\\rangle(0.40|0\\rangle-|1\\rangle)-0.8845|1\\rangle(0.36|0\\rangle-|1\\rangle)) =$$\n",
    "\n",
    "$$\\left|01\\right\\rangle((0.3143|0\\rangle-0.8845|1\\rangle)(0.4|0\\rangle-|1\\rangle)) =$$\n",
    "\n",
    "$$\\left|01\\right\\rangle(0.8845(0.36|0\\rangle-|1\\rangle)(0.4|0\\rangle-|1\\rangle)) =>$$\n",
    "\n",
    "$$\\sqrt{0.8845}=0.9404$$\n",
    "\n",
    "$$0.9404*\\approx0.4*\\text{sign}\\left|1\\right\\rangle=-0.3761$$\n",
    "\n",
    "\n"
   ]
  },
  {
   "cell_type": "markdown",
   "metadata": {},
   "source": [
    "## 3d matrix_example"
   ]
  },
  {
   "cell_type": "code",
   "execution_count": 643,
   "metadata": {
    "jupyter": {
     "source_hidden": true
    }
   },
   "outputs": [
    {
     "data": {
      "text/plain": [
       "({'0001': 0.36710092124099825,\n",
       "  '0101': 0.6614992335357107,\n",
       "  '1001': 0.3149078628268718,\n",
       "  '1101': 0.5731393509308969},\n",
       " {'0011': 0.8721533545579773,\n",
       "  '0111': -0.4889160360072559,\n",
       "  '1011': 0.013630169512202875,\n",
       "  '1111': -0.011128986804178979},\n",
       " (array([3., 1.]),\n",
       "  array([[ 0.87370608,  0.4864542 ],\n",
       "         [-0.4864542 ,  0.87370608]])))"
      ]
     },
     "execution_count": 643,
     "metadata": {},
     "output_type": "execute_result"
    }
   ],
   "source": [
    "norm_up=np.sqrt((1/(sum(np.asarray(list(statevector_dictionary_up_threshold.values()))**2))))\n",
    "norm_down=np.sqrt((1/(sum(np.asarray(list(statevector_dictionary_down_threshold.values()))**2))))\n",
    "for k in statevector_dictionary_up_threshold:\n",
    "    statevector_dictionary_up_threshold[k]*=norm_up\n",
    "    \n",
    "    \n",
    "for k_d in statevector_dictionary_down_threshold:\n",
    "    statevector_dictionary_down_threshold[k_d]*=norm_down\n",
    "statevector_dictionary_up_threshold,statevector_dictionary_down_threshold, np.linalg.eig(example_matrix)"
   ]
  },
  {
   "cell_type": "markdown",
   "metadata": {},
   "source": [
    "$$\\left|01\\right\\rangle(0.3671|00\\rangle+0.6614|01\\rangle+0.3149|10\\rangle+0.5731|11\\rangle) =$$\n",
    "\n",
    "$$\\left|01\\right\\rangle(0.6614|0\\rangle(0.55|0\\rangle+|1\\rangle)+0.5731|1\\rangle(0.55|0\\rangle+|1\\rangle)) =$$\n",
    "\n",
    "$$\\left|01\\right\\rangle((0.6614|0\\rangle+0.5731|1\\rangle)(0.55|0\\rangle+|1\\rangle)) =$$\n",
    "\n",
    "$$\\left|01\\right\\rangle(0.6614(|0\\rangle+\\approx0.8|1\\rangle)(0.55|0\\rangle-|1\\rangle)) =>$$\n",
    "\n",
    "$$\\sqrt{0.6614}=\\approx0.81$$\n",
    "\n",
    "$$0.81*\\approx0.55*\\text{sign}\\left|1\\right\\rangle=\\approx0.44$$\n",
    "\n",
    "\n"
   ]
  },
  {
   "cell_type": "markdown",
   "metadata": {},
   "source": [
    "$$\\left|11\\right\\rangle(0.8721|00\\rangle-0.4889|01\\rangle+0.0136|10\\rangle-0.0111|11\\rangle) =$$\n",
    "\n",
    "$$\\left|11\\right\\rangle(0.8721|0\\rangle(|0\\rangle-\\approx0.5|1\\rangle)+0.0136|1\\rangle(|0\\rangle-\\approx0.8|1\\rangle)) =$$\n",
    "\n",
    "$$\\left|11\\right\\rangle((0.8721|0\\rangle+0.0136|1\\rangle)(|0\\rangle-\\approx0.5|1\\rangle)) =$$\n",
    "\n",
    "$$\\left|11\\right\\rangle(0.8721(|0\\rangle+0.0155|1\\rangle)(|0\\rangle-0.5|1\\rangle)) =>$$\n",
    "\n",
    "$$\\sqrt{0.8721}=\\approx0.93$$\n",
    "\n",
    "$$0.93*\\approx0.5*\\text{sign}\\left|0\\right\\rangle=\\approx0.44$$\n",
    "\n",
    "\n"
   ]
  },
  {
   "cell_type": "markdown",
   "metadata": {},
   "source": [
    "## 4th matrix_example"
   ]
  },
  {
   "cell_type": "code",
   "execution_count": 672,
   "metadata": {
    "jupyter": {
     "source_hidden": true
    }
   },
   "outputs": [
    {
     "data": {
      "text/plain": [
       "({'0001': 0.06844207564752064,\n",
       "  '0101': -0.2434477406836873,\n",
       "  '1001': -0.26237207143606917,\n",
       "  '1101': 0.9312409870529826},\n",
       " {'0011': 0.9317470599478411,\n",
       "  '0111': 0.2529050552183149,\n",
       "  '1011': 0.251498062074687,\n",
       "  '1111': 0.06808211289503242},\n",
       " (array([3., 1.]),\n",
       "  array([[ 0.96521162, -0.26146994],\n",
       "         [ 0.26146994,  0.96521162]])))"
      ]
     },
     "execution_count": 672,
     "metadata": {},
     "output_type": "execute_result"
    }
   ],
   "source": [
    "norm_up=np.sqrt((1/(sum(np.asarray(list(statevector_dictionary_up_threshold.values()))**2))))\n",
    "norm_down=np.sqrt((1/(sum(np.asarray(list(statevector_dictionary_down_threshold.values()))**2))))\n",
    "for k in statevector_dictionary_up_threshold:\n",
    "    statevector_dictionary_up_threshold[k]*=norm_up\n",
    "    \n",
    "    \n",
    "for k_d in statevector_dictionary_down_threshold:\n",
    "    statevector_dictionary_down_threshold[k_d]*=norm_down\n",
    "statevector_dictionary_up_threshold,statevector_dictionary_down_threshold, np.linalg.eig(example_matrix)"
   ]
  },
  {
   "cell_type": "markdown",
   "metadata": {},
   "source": [
    "$$\\left|11\\right\\rangle(0.93|00\\rangle+0.25|01\\rangle+0.25|10\\rangle+0.068|11\\rangle) =$$\n",
    "\n",
    "$$\\left|11\\right\\rangle(0.93|0\\rangle(|0\\rangle+\\approx0.26|1\\rangle)+0.25|1\\rangle(|0\\rangle+0.2|1\\rangle)) =$$\n",
    "\n",
    "$$\\left|11\\right\\rangle((0.93|0\\rangle+0.25|1\\rangle)(|0\\rangle+\\approx0.2|1\\rangle)) =$$\n",
    "\n",
    "$$\\left|11\\right\\rangle(0.93(|0\\rangle+0.2|1\\rangle)(|0\\rangle+0.2|1\\rangle)) =>$$\n",
    "\n",
    "$$\\sqrt{0.93}=\\approx0.96$$\n",
    "\n",
    "$$0.96*\\approx0.2*\\text{sign}\\left|0\\right\\rangle=\\approx0.25$$\n",
    "\n",
    "\n"
   ]
  }
 ],
 "metadata": {
  "kernelspec": {
   "display_name": "Python 3 (ipykernel)",
   "language": "python",
   "name": "python3"
  },
  "language_info": {
   "codemirror_mode": {
    "name": "ipython",
    "version": 3
   },
   "file_extension": ".py",
   "mimetype": "text/x-python",
   "name": "python",
   "nbconvert_exporter": "python",
   "pygments_lexer": "ipython3",
   "version": "3.8.11"
  },
  "vscode": {
   "interpreter": {
    "hash": "3820477eeda6a2056d25dbf35341ad4ea495fec12a885dc74045ce43b88b4168"
   }
  }
 },
 "nbformat": 4,
 "nbformat_minor": 4
}
