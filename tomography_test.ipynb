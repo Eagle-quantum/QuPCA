{
 "cells": [
  {
   "cell_type": "markdown",
   "metadata": {},
   "source": [
    "### Example taken from *A Low-Complexity Quantum Principal Component Analysis Algorithm*\n",
    "https://doi.org/10.1109/TQE.2021.3140152"
   ]
  },
  {
   "cell_type": "code",
   "execution_count": 645,
   "metadata": {},
   "outputs": [
    {
     "name": "stdout",
     "output_type": "stream",
     "text": [
      "[0.8725135  0.05575521 0.05575521 0.01597609]\n"
     ]
    }
   ],
   "source": [
    "import numpy as np\n",
    "import itertools\n",
    "from qiskit_experiments.library import StateTomography\n",
    "from qiskit.visualization import plot_state_city\n",
    "import qiskit.quantum_info as qi\n",
    "from qiskit.visualization import plot_histogram\n",
    "\n",
    "example_matrix = np.array([[5.45, 11.14], [11.14, 1.42]])\n",
    "#example_matrix = np.array([[18.45, 1.14], [1.14, 15.82]])\n",
    "example_matrix = np.array([[1.45, 5.14], [5.14, 7.82]])\n",
    "example_matrix = np.array([[13.45, 3.4], [3.4, 1.82]])\n",
    "\n",
    "big_example_matrix = np.array([[0, 0, 0, 0], [0, 1, 0, 0], [0, 0, 2, 0], [0, 0, 0, 3]])\n",
    "\n",
    "sum_squares = (example_matrix**2).sum()\n",
    "input_probabilities = (example_matrix**2/sum_squares).flatten()\n",
    "\n",
    "print(input_probabilities)"
   ]
  },
  {
   "cell_type": "code",
   "execution_count": 646,
   "metadata": {},
   "outputs": [
    {
     "data": {
      "text/plain": [
       "(array([[2.86326694, 0.50474765],\n",
       "        [0.50474765, 1.13673306]]),\n",
       " (array([3., 1.]),\n",
       "  array([[ 0.96521162, -0.26146994],\n",
       "         [ 0.26146994,  0.96521162]])))"
      ]
     },
     "execution_count": 646,
     "metadata": {},
     "output_type": "execute_result"
    }
   ],
   "source": [
    "eig,e_v=np.linalg.eig(example_matrix)\n",
    "b=np.array([3.,1.])\n",
    "BB = e_v@np.diag(b)@e_v.T\n",
    "BB, np.linalg.eig(BB)"
   ]
  },
  {
   "cell_type": "code",
   "execution_count": 647,
   "metadata": {},
   "outputs": [
    {
     "name": "stdout",
     "output_type": "stream",
     "text": [
      "[0.81982976 0.02547702 0.02547702 0.12921621]\n"
     ]
    }
   ],
   "source": [
    "example_matrix=BB\n",
    "\n",
    "sum_squares = (example_matrix**2).sum()\n",
    "input_probabilities = (example_matrix**2/sum_squares).flatten()\n",
    "\n",
    "print(input_probabilities)"
   ]
  },
  {
   "cell_type": "code",
   "execution_count": 648,
   "metadata": {},
   "outputs": [
    {
     "data": {
      "text/plain": [
       "(array([3., 1.]),\n",
       " array([[ 0.96521162, -0.26146994],\n",
       "        [ 0.26146994,  0.96521162]]))"
      ]
     },
     "execution_count": 648,
     "metadata": {},
     "output_type": "execute_result"
    }
   ],
   "source": [
    "np.linalg.eig(example_matrix)"
   ]
  },
  {
   "cell_type": "markdown",
   "metadata": {},
   "source": [
    "as an example, whose quantum state is given by\n",
    "$$\\left|\\psi_{A_0}\\right\\rangle=\\frac{3}{\\sqrt{20}}|00\\rangle+\\frac{1}{\\sqrt{20}}|01\\rangle+\\frac{1}{\\sqrt{20}}|10\\rangle+\\frac{3}{\\sqrt{20}}|11\\rangle .$$\n",
    "\n",
    "Note that the eigenvalues and the corresponding eigenvectors obtained by classical PCA are given by\n",
    "$$\\lambda_1=2, u_1=[1,1]^T$$\n",
    "$$\\lambda_2=1, u_2=[−1,1]^T.$$\n",
    "\n",
    "Note: $[1, 0]^T = |0〉$ and $[0, 1]^T = |1〉.$ \n",
    "\n",
    "When we take a threshold τ=1.1 for eigenvalues, the eigenvalue in binary $|λ_1〉=|10〉$ and the corresponding eigenvector $|u_1〉=[1,1]^T=\\frac{1}{\\sqrt{2}}|0〉+\\frac{1}{\\sqrt{2}}|1〉$ are considered as principal components. Therefore, the output of the proposed algorithm should be given by\n",
    "\n",
    "$$\\begin{aligned}\n",
    "\\left|\\psi_A^{\\prime}\\right\\rangle &=\\left|\\lambda_1\\right\\rangle\\left|u_1\\right\\rangle\\left|u_1\\right\\rangle \\\\\n",
    "&=|10\\rangle \\otimes\\left(\\frac{1}{\\sqrt{2}}|0\\rangle+\\frac{1}{\\sqrt{2}}|1\\rangle\\right) \\otimes\\left(\\frac{1}{\\sqrt{2}}|0\\rangle+\\frac{1}{\\sqrt{2}}|1\\rangle\\right) \\\\\n",
    "&=\\frac{1}{2}|1000\\rangle+\\frac{1}{2}|1001\\rangle+\\frac{1}{2}|1010\\rangle+\\frac{1}{2}|1011\\rangle .\n",
    "\\end{aligned}$$"
   ]
  },
  {
   "cell_type": "code",
   "execution_count": 649,
   "metadata": {},
   "outputs": [
    {
     "name": "stdout",
     "output_type": "stream",
     "text": [
      "0 -> 0.9194056643745222\n",
      "1 -> 0.39331059522474526\n",
      "00 -> 0.9054445076962132\n",
      "01 -> 0.15961522222745092\n",
      "10 -> 0.15961522222745092\n",
      "11 -> 0.35946655637113845\n"
     ]
    },
    {
     "data": {
      "text/plain": [
       "[0.8084592613416794,\n",
       " 0.8084592613416793,\n",
       " 0.348982143297376,\n",
       " 0.3489821432973754,\n",
       " 2.305830283584707,\n",
       " 2.305830283584707]"
      ]
     },
     "execution_count": 649,
     "metadata": {},
     "output_type": "execute_result"
    }
   ],
   "source": [
    "#Tommaso's great code for computing the thetas\n",
    "\n",
    "lst_combination=[]\n",
    "\n",
    "for k in range(1, len(example_matrix)+1):\n",
    "    lst_combination.append(list(map(list, itertools.product([0, 1], repeat=k))))\n",
    "container=[]\n",
    "for lst in lst_combination:\n",
    "    container.append([''.join([''.join(str(j)) for j in i]) for i in lst])\n",
    "all_combinations=[item for c in container for item in c]\n",
    "\n",
    "general_bitstring=[''.join([''.join(str(j)) for j in i]) for i in list(map(list, itertools.product([0, 1], repeat=len(example_matrix))))]\n",
    "\n",
    "#Nodes contains all the values of the tree (except for the root)\n",
    "nodes=[]\n",
    "for st in all_combinations:\n",
    "    #print(st)\n",
    "    starts = [general_bitstring.index(l) for l in general_bitstring if l.startswith(st)]\n",
    "    #print(starts)\n",
    "    print(st,'->',np.sqrt(input_probabilities[starts].sum()))\n",
    "    nodes.append(np.sqrt(input_probabilities[starts].sum()))\n",
    "\n",
    "#add root tree\n",
    "nodes.insert(0, 1)\n",
    "\n",
    "idx_sub=1\n",
    "thetas=[]\n",
    "for i in range(len(nodes)-len(input_probabilities)):\n",
    "    right_node=i+idx_sub\n",
    "    left_node=right_node+1\n",
    "    #print(left_node,right_node)\n",
    "    if nodes[i]!=0:\n",
    "        #print(nodes[right_node],nodes[i])\n",
    "        thetas.append(2*np.arccos(nodes[right_node]/nodes[i]))\n",
    "        thetas.append(2*np.arcsin(nodes[left_node]/nodes[i]))\n",
    "    else:\n",
    "        thetas.append(0)\n",
    "        thetas.append(0)\n",
    "        \n",
    "    idx_sub+=1\n",
    "\n",
    "# SUB = str.maketrans(\"0123456789\", \"₀₁₂₃₄₅₆₇₈₉\")\n",
    "\n",
    "# for idx,th in zip(all_combinations,thetas):\n",
    "#     print('\\u03F4(R{})'.format((str(idx).translate(SUB))),'->', th)\n",
    "thetas"
   ]
  },
  {
   "cell_type": "code",
   "execution_count": 650,
   "metadata": {},
   "outputs": [],
   "source": [
    "from qiskit.circuit.library.standard_gates import RYGate\n",
    "\n",
    "def generate_qram_circuit(thetas, all_combinations):\n",
    "    \n",
    "    right_nodes_indexes=list(range(0,len(thetas),2))\n",
    "    rotations_list=list(zip(np.array(all_combinations)[right_nodes_indexes],np.array(thetas)[right_nodes_indexes]))\n",
    "\n",
    "    qc=QuantumCircuit(len(example_matrix))\n",
    "\n",
    "    for r_l in rotations_list:\n",
    "        target_qubit=len(r_l[0])-1\n",
    "        \n",
    "        #First case of R_0\n",
    "        if target_qubit==0:\n",
    "            qc.ry(theta=r_l[1],qubit=target_qubit)\n",
    "            continue\n",
    "            \n",
    "        not_gate=[]\n",
    "        for qb in range(target_qubit):\n",
    "            if r_l[0][qb]=='0':\n",
    "                not_gate.append(qb)\n",
    "                \n",
    "        c_t_qubits=list(range(len(r_l[0])))\n",
    "        n_controls=len(range(target_qubit))\n",
    "        \n",
    "        if len(not_gate)>0:\n",
    "            qc.x(not_gate)\n",
    "            c_ry = RYGate(r_l[1]).control(n_controls)\n",
    "            qc.append(c_ry, c_t_qubits)\n",
    "            qc.x(not_gate)\n",
    "        else:\n",
    "            c_ry = RYGate(r_l[1]).control(n_controls)\n",
    "            qc.append(c_ry, c_t_qubits)\n",
    "    return qc"
   ]
  },
  {
   "cell_type": "code",
   "execution_count": 651,
   "metadata": {},
   "outputs": [
    {
     "data": {
      "text/html": [
       "<pre style=\"word-wrap: normal;white-space: pre;background: #fff0;line-height: 1.1;font-family: &quot;Courier New&quot;,Courier,monospace\">     ┌─────────────┐┌───┐               ┌───┐              \n",
       "q_0: ┤ Ry(0.80846) ├┤ X ├───────■───────┤ X ├──────■───────\n",
       "     └─────────────┘└───┘┌──────┴──────┐└───┘┌─────┴──────┐\n",
       "q_1: ────────────────────┤ Ry(0.34898) ├─────┤ Ry(2.3058) ├\n",
       "                         └─────────────┘     └────────────┘</pre>"
      ],
      "text/plain": [
       "     ┌─────────────┐┌───┐               ┌───┐              \n",
       "q_0: ┤ Ry(0.80846) ├┤ X ├───────■───────┤ X ├──────■───────\n",
       "     └─────────────┘└───┘┌──────┴──────┐└───┘┌─────┴──────┐\n",
       "q_1: ────────────────────┤ Ry(0.34898) ├─────┤ Ry(2.3058) ├\n",
       "                         └─────────────┘     └────────────┘"
      ]
     },
     "execution_count": 651,
     "metadata": {},
     "output_type": "execute_result"
    }
   ],
   "source": [
    "from qiskit import QuantumRegister, ClassicalRegister, QuantumCircuit\n",
    "\n",
    "matrix_circuit = generate_qram_circuit(thetas, all_combinations)\n",
    "\n",
    "matrix_circuit.draw()\n"
   ]
  },
  {
   "cell_type": "code",
   "execution_count": 652,
   "metadata": {},
   "outputs": [
    {
     "data": {
      "text/plain": [
       "{'00': 0.819829756517238,\n",
       " '01': 0.025477019166719,\n",
       " '10': 0.025477019166719,\n",
       " '11': 0.129216205149325}"
      ]
     },
     "execution_count": 652,
     "metadata": {},
     "output_type": "execute_result"
    }
   ],
   "source": [
    "from qiskit import Aer, transpile, execute\n",
    "from qiskit.visualization import plot_histogram\n",
    "\n",
    "backend = Aer.get_backend(\"statevector_simulator\")\n",
    "job = backend.run(transpile(matrix_circuit, backend=backend))\n",
    "job.result().get_counts()\n"
   ]
  },
  {
   "cell_type": "code",
   "execution_count": 653,
   "metadata": {},
   "outputs": [
    {
     "name": "stderr",
     "output_type": "stream",
     "text": [
      "/var/folders/rr/g930v2cj1wvdzc257kclm3lm0000gn/T/ipykernel_1545/1626179600.py:4: DeprecationWarning: The NumPyMatrix class is deprecated as of Qiskit Terra 0.22.0 and will be removed no sooner than 3 months after the release date. \n",
      "  u_circuit = NumPyMatrix(example_matrix, evolution_time=2*np.pi/4,tolerance=1e-7)\n"
     ]
    },
    {
     "data": {
      "text/plain": [
       "Operator([[ 5.50925556e-17-0.86326694j, -6.18137596e-17-0.50474765j],\n",
       "          [-6.18137596e-17-0.50474765j,  2.66531974e-16+0.86326694j]],\n",
       "         input_dims=(2,), output_dims=(2,))"
      ]
     },
     "execution_count": 653,
     "metadata": {},
     "output_type": "execute_result"
    }
   ],
   "source": [
    "from qiskit.algorithms.linear_solvers.matrices.numpy_matrix import NumPyMatrix\n",
    "\n",
    "unitary_backend = Aer.get_backend(\"unitary_simulator\")\n",
    "u_circuit = NumPyMatrix(example_matrix, evolution_time=2*np.pi/4,tolerance=1e-7)\n",
    "unitary_job = unitary_backend.run(transpile(u_circuit, backend=unitary_backend))\n",
    "unitary_job.result().get_unitary()"
   ]
  },
  {
   "cell_type": "code",
   "execution_count": 654,
   "metadata": {},
   "outputs": [
    {
     "data": {
      "image/png": "[encoded data removed]",
      "text/plain": [
       "<Figure size 658.969x204.68 with 1 Axes>"
      ]
     },
     "execution_count": 654,
     "metadata": {},
     "output_type": "execute_result"
    }
   ],
   "source": [
    "from qiskit.circuit.library import PhaseEstimation\n",
    "\n",
    "resolution = 2\n",
    "pe = PhaseEstimation(resolution, u_circuit, name = \"PE\")\n",
    "pe.decompose().draw(\"mpl\")"
   ]
  },
  {
   "cell_type": "markdown",
   "metadata": {},
   "source": [
    "# Check Statevector"
   ]
  },
  {
   "cell_type": "code",
   "execution_count": 655,
   "metadata": {},
   "outputs": [
    {
     "data": {
      "image/png": "[encoded data removed]",
      "text/plain": [
       "<Figure size 662.867x264.88 with 1 Axes>"
      ]
     },
     "execution_count": 655,
     "metadata": {},
     "output_type": "execute_result"
    }
   ],
   "source": [
    "tot_qubit = resolution+len(example_matrix)\n",
    "\n",
    "qr_total = QuantumRegister(tot_qubit, 'total')\n",
    "# classical = ClassicalRegister(4, 'measure')\n",
    "\n",
    "total_circuit = QuantumCircuit(qr_total , name='matrix')\n",
    "\n",
    "total_circuit.append(matrix_circuit.to_gate(), qr_total[resolution:])\n",
    "total_circuit.append(pe.to_gate(), qr_total[0:pe.num_qubits])\n",
    "# total_circuit.measure(qr_total[:2], classical[:])\n",
    "total_circuit.swap(qr_total[0],qr_total[1])\n",
    "#total_circuit.measure_all()\n",
    "\n",
    "total_circuit.decompose(reps=1).draw(\"mpl\")"
   ]
  },
  {
   "cell_type": "code",
   "execution_count": 656,
   "metadata": {},
   "outputs": [],
   "source": [
    "from qiskit.visualization import plot_histogram\n",
    "\n",
    "backend_total = Aer.get_backend(\"statevector_simulator\")\n",
    "job = backend_total.run(transpile(total_circuit, backend=backend_total))\n",
    "statevector = np.asarray(job.result().get_statevector()).round(4)\n",
    "#plot_histogram(counts)"
   ]
  },
  {
   "cell_type": "code",
   "execution_count": 657,
   "metadata": {},
   "outputs": [
    {
     "data": {
      "text/plain": [
       "['0000',\n",
       " '0001',\n",
       " '0010',\n",
       " '0011',\n",
       " '0100',\n",
       " '0101',\n",
       " '0110',\n",
       " '0111',\n",
       " '1000',\n",
       " '1001',\n",
       " '1010',\n",
       " '1011',\n",
       " '1100',\n",
       " '1101',\n",
       " '1110',\n",
       " '1111']"
      ]
     },
     "execution_count": 657,
     "metadata": {},
     "output_type": "execute_result"
    }
   ],
   "source": [
    "bitstrings=[''.join([''.join(str(j)) for j in i]) for i in list(map(list, itertools.product([0, 1], repeat=4)))]\n",
    "bitstrings"
   ]
  },
  {
   "cell_type": "code",
   "execution_count": 658,
   "metadata": {},
   "outputs": [],
   "source": [
    "def attach_bitstrings(vector):\n",
    "    return list(zip(bitstrings, vector))"
   ]
  },
  {
   "cell_type": "code",
   "execution_count": 659,
   "metadata": {},
   "outputs": [
    {
     "data": {
      "text/plain": [
       "[('0000', -0j),\n",
       " ('0001', (0.0216+0j)),\n",
       " ('0010', 0j),\n",
       " ('0011', (0.8838-0j)),\n",
       " ('0100', -0j),\n",
       " ('0101', (-0.0798+0j)),\n",
       " ('0110', 0j),\n",
       " ('0111', (0.2394-0j)),\n",
       " ('1000', -0j),\n",
       " ('1001', (-0.0798+0j)),\n",
       " ('1010', 0j),\n",
       " ('1011', (0.2394-0j)),\n",
       " ('1100', 0j),\n",
       " ('1101', (0.2946-0j)),\n",
       " ('1110', -0j),\n",
       " ('1111', (0.0649+0j))]"
      ]
     },
     "execution_count": 659,
     "metadata": {},
     "output_type": "execute_result"
    }
   ],
   "source": [
    "attach_bitstrings(statevector)"
   ]
  },
  {
   "cell_type": "markdown",
   "metadata": {},
   "source": [
    "# Computing Probabilities"
   ]
  },
  {
   "cell_type": "code",
   "execution_count": 660,
   "metadata": {},
   "outputs": [
    {
     "data": {
      "image/png": "[encoded data removed]",
      "text/plain": [
       "<Figure size 963.867x325.08 with 1 Axes>"
      ]
     },
     "execution_count": 660,
     "metadata": {},
     "output_type": "execute_result"
    }
   ],
   "source": [
    "tot_qubit = resolution+len(example_matrix)\n",
    "\n",
    "qr_total = QuantumRegister(tot_qubit, 'total')\n",
    "# classical = ClassicalRegister(4, 'measure')\n",
    "\n",
    "total_circuit_1 = QuantumCircuit(qr_total , name='matrix')\n",
    "\n",
    "total_circuit_1.append(matrix_circuit.to_gate(), qr_total[resolution:])\n",
    "total_circuit_1.append(pe.to_gate(), qr_total[0:pe.num_qubits])\n",
    "# total_circuit.measure(qr_total[:2], classical[:])\n",
    "total_circuit_1.swap(qr_total[0],qr_total[1])\n",
    "total_circuit_1.measure_all()\n",
    "\n",
    "total_circuit_1.decompose(reps=1).draw(\"mpl\")"
   ]
  },
  {
   "cell_type": "code",
   "execution_count": 661,
   "metadata": {},
   "outputs": [
    {
     "data": {
      "image/png": "[encoded data removed]",
      "text/plain": [
       "<Figure size 504x360 with 1 Axes>"
      ]
     },
     "execution_count": 661,
     "metadata": {},
     "output_type": "execute_result"
    }
   ],
   "source": [
    "n_shots=50000\n",
    "backend_total = Aer.get_backend(\"qasm_simulator\")\n",
    "job = backend_total.run(transpile(total_circuit_1, backend=backend_total), shots=n_shots)\n",
    "counts = job.result().get_counts()\n",
    "plot_histogram(counts)"
   ]
  },
  {
   "cell_type": "markdown",
   "metadata": {},
   "source": [
    "# Storing probabilities"
   ]
  },
  {
   "cell_type": "code",
   "execution_count": 662,
   "metadata": {},
   "outputs": [
    {
     "data": {
      "text/plain": [
       "{'0001': 0.00046,\n",
       " '0101': 0.00582,\n",
       " '1001': 0.00676,\n",
       " '0011': 0.7829,\n",
       " '0111': 0.05768,\n",
       " '1111': 0.00418,\n",
       " '1011': 0.05704,\n",
       " '1101': 0.08516}"
      ]
     },
     "execution_count": 662,
     "metadata": {},
     "output_type": "execute_result"
    }
   ],
   "source": [
    "for i in counts:\n",
    "    counts[i]/=n_shots\n",
    "counts"
   ]
  },
  {
   "cell_type": "code",
   "execution_count": 663,
   "metadata": {},
   "outputs": [
    {
     "data": {
      "text/plain": [
       "array([0.000e+00, 4.600e-04, 0.000e+00, 7.829e-01, 0.000e+00, 5.820e-03,\n",
       "       0.000e+00, 5.768e-02, 0.000e+00, 6.760e-03, 0.000e+00, 5.704e-02,\n",
       "       0.000e+00, 8.516e-02, 0.000e+00, 4.180e-03])"
      ]
     },
     "execution_count": 663,
     "metadata": {},
     "output_type": "execute_result"
    }
   ],
   "source": [
    "statevector=np.zeros(2**tot_qubit)\n",
    "for i in counts:\n",
    "    statevector[int(i,2)]=counts[i]\n",
    "statevector"
   ]
  },
  {
   "cell_type": "code",
   "execution_count": 664,
   "metadata": {},
   "outputs": [
    {
     "data": {
      "image/png": "[encoded data removed]",
      "text/plain": [
       "<Figure size 1400.79x626.08 with 1 Axes>"
      ]
     },
     "execution_count": 664,
     "metadata": {},
     "output_type": "execute_result"
    }
   ],
   "source": [
    "\n",
    "tot_qubit = resolution+len(example_matrix)\n",
    "\n",
    "qr_total_xi = QuantumRegister(tot_qubit, 'xi')\n",
    "qr_total_pi = QuantumRegister(tot_qubit, 'pi')\n",
    "qr_control = QuantumRegister(1, 'control_qubit')\n",
    "n_classical_register=tot_qubit+1\n",
    "classical = ClassicalRegister(n_classical_register, 'measure')\n",
    "\n",
    "total_circuit_2 = QuantumCircuit(qr_total_xi,qr_total_pi,qr_control ,classical, name='matrix')\n",
    "\n",
    "total_circuit_2.append(matrix_circuit.to_gate(), qr_total_xi[2:tot_qubit])\n",
    "total_circuit_2.append(pe.to_gate(), qr_total_xi[0:tot_qubit-1])\n",
    "\n",
    "total_circuit_2.swap(qr_total_xi[0],qr_total_xi[1])\n",
    "total_circuit_2.initialize(np.sqrt(statevector),qr_total_pi)\n",
    "total_circuit_2.h(qr_control)\n",
    "for i in range(tot_qubit):\n",
    "    total_circuit_2.cswap(control_qubit=qr_control, target_qubit1=qr_total_xi[i],target_qubit2=qr_total_pi[i])\n",
    "\n",
    "'''total_circuit.cswap(control_qubit=qr_control, target_qubit1=1,target_qubit2=5)\n",
    "total_circuit.cswap(control_qubit=qr_control, target_qubit1=2,target_qubit2=6)\n",
    "total_circuit.cswap(control_qubit=qr_control, target_qubit1=3,target_qubit2=7)'''\n",
    "\n",
    "total_circuit_2.h(qr_control)\n",
    "#total_circuit_2.s(qr_control)\n",
    "total_circuit_2.measure(qr_total_xi,classical[0:n_classical_register-1])\n",
    "total_circuit_2.measure(qr_control,classical[n_classical_register-1])\n",
    "\n",
    "total_circuit_2.draw(\"mpl\")"
   ]
  },
  {
   "cell_type": "code",
   "execution_count": 665,
   "metadata": {},
   "outputs": [
    {
     "data": {
      "image/png": "[encoded data removed]",
      "text/plain": [
       "<Figure size 504x360 with 1 Axes>"
      ]
     },
     "execution_count": 665,
     "metadata": {},
     "output_type": "execute_result"
    }
   ],
   "source": [
    "backend_total = Aer.get_backend(\"qasm_simulator\")\n",
    "job = backend_total.run(transpile(total_circuit_2, backend=backend_total), shots=n_shots)\n",
    "counts_for_sign = job.result().get_counts()\n",
    "plot_histogram(counts_for_sign)"
   ]
  },
  {
   "cell_type": "code",
   "execution_count": 666,
   "metadata": {},
   "outputs": [
    {
     "data": {
      "text/plain": [
       "array([0.0000e+00, 2.2000e+01, 0.0000e+00, 3.8459e+04, 0.0000e+00,\n",
       "       6.0000e+00, 0.0000e+00, 2.9310e+03, 0.0000e+00, 3.0000e+00,\n",
       "       0.0000e+00, 2.8450e+03, 0.0000e+00, 4.2770e+03, 0.0000e+00,\n",
       "       1.9000e+02])"
      ]
     },
     "execution_count": 666,
     "metadata": {},
     "output_type": "execute_result"
    }
   ],
   "source": [
    "tmp=np.zeros(2**tot_qubit)\n",
    "\n",
    "for c in counts_for_sign:\n",
    "    if c[0]=='0':\n",
    "        tmp[int(c[1:],2)]=counts_for_sign[c]\n",
    "tmp"
   ]
  },
  {
   "cell_type": "code",
   "execution_count": 667,
   "metadata": {},
   "outputs": [
    {
     "data": {
      "text/plain": [
       "array([0.000e+00, 4.600e-04, 0.000e+00, 7.829e-01, 0.000e+00, 5.820e-03,\n",
       "       0.000e+00, 5.768e-02, 0.000e+00, 6.760e-03, 0.000e+00, 5.704e-02,\n",
       "       0.000e+00, 8.516e-02, 0.000e+00, 4.180e-03])"
      ]
     },
     "execution_count": 667,
     "metadata": {},
     "output_type": "execute_result"
    }
   ],
   "source": [
    "statevector"
   ]
  },
  {
   "cell_type": "code",
   "execution_count": 668,
   "metadata": {},
   "outputs": [],
   "source": [
    "sign_dictionary={}\n",
    "sign=0\n",
    "for e, (count, prob) in enumerate(zip(tmp, statevector)):\n",
    "    if count>0.4*prob*n_shots:\n",
    "        sign=1\n",
    "    else:\n",
    "        sign=-1\n",
    "    if prob==0:\n",
    "        sign=0\n",
    "    sign_dictionary.update({bin(e)[2:].zfill(tot_qubit):sign})"
   ]
  },
  {
   "cell_type": "code",
   "execution_count": 669,
   "metadata": {},
   "outputs": [
    {
     "data": {
      "text/plain": [
       "{'0000': 0,\n",
       " '0001': 1,\n",
       " '0010': 0,\n",
       " '0011': 1,\n",
       " '0100': 0,\n",
       " '0101': -1,\n",
       " '0110': 0,\n",
       " '0111': 1,\n",
       " '1000': 0,\n",
       " '1001': -1,\n",
       " '1010': 0,\n",
       " '1011': 1,\n",
       " '1100': 0,\n",
       " '1101': 1,\n",
       " '1110': 0,\n",
       " '1111': 1}"
      ]
     },
     "execution_count": 669,
     "metadata": {},
     "output_type": "execute_result"
    }
   ],
   "source": [
    "sign_dictionary"
   ]
  },
  {
   "cell_type": "code",
   "execution_count": 670,
   "metadata": {},
   "outputs": [
    {
     "data": {
      "text/plain": [
       "{'0000': 0.0,\n",
       " '0001': 0.021447610589527218,\n",
       " '0010': 0.0,\n",
       " '0011': 0.8848163651289459,\n",
       " '0100': 0.0,\n",
       " '0101': -0.0762889244910426,\n",
       " '0110': 0.0,\n",
       " '0111': 0.24016660883644922,\n",
       " '1000': 0.0,\n",
       " '1001': -0.08221921916437787,\n",
       " '1010': 0.0,\n",
       " '1011': 0.23883048381645086,\n",
       " '1100': 0.0,\n",
       " '1101': 0.2918218634715363,\n",
       " '1110': 0.0,\n",
       " '1111': 0.06465291950097846}"
      ]
     },
     "execution_count": 670,
     "metadata": {},
     "output_type": "execute_result"
    }
   ],
   "source": [
    "statevector_dictionary={}\n",
    "\n",
    "for e,key in enumerate(sign_dictionary):\n",
    "    statevector_dictionary[key]=sign_dictionary[key]*np.sqrt(statevector[e])\n",
    "\n",
    "statevector_dictionary"
   ]
  },
  {
   "cell_type": "markdown",
   "metadata": {},
   "source": [
    "# Da qui capire come calcolare i valori dell'autovettore\n"
   ]
  },
  {
   "cell_type": "code",
   "execution_count": 671,
   "metadata": {},
   "outputs": [
    {
     "data": {
      "text/plain": [
       "({'0001': 0.021447610589527218,\n",
       "  '0101': -0.0762889244910426,\n",
       "  '1001': -0.08221921916437787,\n",
       "  '1101': 0.2918218634715363},\n",
       " {'0011': 0.8848163651289459,\n",
       "  '0111': 0.24016660883644922,\n",
       "  '1011': 0.23883048381645086,\n",
       "  '1111': 0.06465291950097846})"
      ]
     },
     "execution_count": 671,
     "metadata": {},
     "output_type": "execute_result"
    }
   ],
   "source": [
    "#remove eigenvector under threshold\n",
    "statevector_dictionary_up_threshold={}\n",
    "statevector_dictionary_down_threshold={}\n",
    "for key in list(statevector_dictionary.keys()):\n",
    "    if key[-2:]=='01':\n",
    "        statevector_dictionary_up_threshold.update({key:statevector_dictionary[key]})\n",
    "    elif key[-2:]=='11':\n",
    "        statevector_dictionary_down_threshold.update({key:statevector_dictionary[key]})\n",
    "#normalize using the mean \n",
    "\n",
    "statevector_dictionary_up_threshold,statevector_dictionary_down_threshold"
   ]
  },
  {
   "cell_type": "markdown",
   "metadata": {},
   "source": [
    "## 1st matrix_example"
   ]
  },
  {
   "cell_type": "code",
   "execution_count": 501,
   "metadata": {},
   "outputs": [
    {
     "data": {
      "text/plain": [
       "({'0001': 0.4063074844837685,\n",
       "  '0101': -0.4947759382402847,\n",
       "  '1001': -0.48985675123506794,\n",
       "  '1101': 0.5917358889406178},\n",
       " {'0011': 0.5898840122966107,\n",
       "  '0111': 0.49452547412185405,\n",
       "  '1011': 0.4915537016695547,\n",
       "  '1111': 0.4072546695329175},\n",
       " (array([3., 1.]),\n",
       "  array([[ 0.76746056, -0.64109616],\n",
       "         [ 0.64109616,  0.76746056]])))"
      ]
     },
     "execution_count": 501,
     "metadata": {},
     "output_type": "execute_result"
    }
   ],
   "source": [
    "norm_up=np.sqrt((1/(sum(np.asarray(list(statevector_dictionary_up_threshold.values()))**2))))\n",
    "norm_down=np.sqrt((1/(sum(np.asarray(list(statevector_dictionary_down_threshold.values()))**2))))\n",
    "for k in statevector_dictionary_up_threshold:\n",
    "    statevector_dictionary_up_threshold[k]*=norm_up\n",
    "    \n",
    "    \n",
    "for k_d in statevector_dictionary_down_threshold:\n",
    "    statevector_dictionary_down_threshold[k_d]*=norm_down\n",
    "statevector_dictionary_up_threshold,statevector_dictionary_down_threshold, np.linalg.eig(example_matrix)"
   ]
  },
  {
   "cell_type": "markdown",
   "metadata": {},
   "source": [
    "$$\\left|01\\right\\rangle(0.4063|00\\rangle-0.4947|01\\rangle-0.4898|10\\rangle+0.5917|11\\rangle) =$$\n",
    "\n",
    "$$\\left|01\\right\\rangle(0.4947|0\\rangle(0.8213|0\\rangle-|1\\rangle)-0.5917|1\\rangle(0.8277|0\\rangle-|1\\rangle)) =$$\n",
    "\n",
    "$$\\left|01\\right\\rangle((0.4947|0\\rangle-0.5917|1\\rangle)(0.82|0\\rangle-|1\\rangle)) =$$\n",
    "\n",
    "$$\\left|01\\right\\rangle(0.5917(0.8360|0\\rangle-|1\\rangle)(0.82|0\\rangle-|1\\rangle)) =>$$\n",
    "\n",
    "$$\\sqrt{0.5917}=0.7692$$\n",
    "\n",
    "$$0.7692*\\approx0.8*\\text{sign}\\left|1\\right\\rangle=-0.6153$$\n",
    "\n",
    "\n"
   ]
  },
  {
   "cell_type": "code",
   "execution_count": null,
   "metadata": {},
   "outputs": [],
   "source": []
  },
  {
   "cell_type": "markdown",
   "metadata": {},
   "source": [
    "$$\\left|11\\right\\rangle(0.5898|00\\rangle+0.4945|01\\rangle+0.4915|10\\rangle+0.4072|11\\rangle) =$$\n",
    "\n",
    "$$\\left|11\\right\\rangle(0.5898|0\\rangle(|0\\rangle+0.83|1\\rangle)+0.4915|1\\rangle(|0\\rangle+0.83|1\\rangle)) =$$\n",
    "\n",
    "$$\\left|11\\right\\rangle((0.5898|0\\rangle+0.4915|1\\rangle)(|0\\rangle+0.83|1\\rangle)) =$$\n",
    "\n",
    "$$\\left|11\\right\\rangle(0.5898(|0\\rangle+0.83|1\\rangle)(|0\\rangle+0.83|1\\rangle)) =>$$\n",
    "\n",
    "$$\\sqrt{0.5898}=0.7679$$\n",
    "\n",
    "$$0.7679*\\approx0.8*\\text{sign}\\left|0\\right\\rangle=0.6143$$\n",
    "\n",
    "\n"
   ]
  },
  {
   "cell_type": "markdown",
   "metadata": {},
   "source": [
    "## 2nd matrix_example"
   ]
  },
  {
   "cell_type": "code",
   "execution_count": 445,
   "metadata": {},
   "outputs": [
    {
     "data": {
      "text/plain": [
       "({'0001': 0.12725695259515557,\n",
       "  '0101': -0.3143014875898849,\n",
       "  '1001': -0.3203616377585937,\n",
       "  '1101': 0.8845273675628196},\n",
       " {'0011': 0.8775950675168817,\n",
       "  '0111': 0.32915715038467025,\n",
       "  '1011': 0.3272299644328515,\n",
       "  '1111': 0.12001257516593115},\n",
       " (array([3., 1.]),\n",
       "  array([[ 0.93690829, -0.34957526],\n",
       "         [ 0.34957526,  0.93690829]])))"
      ]
     },
     "execution_count": 445,
     "metadata": {},
     "output_type": "execute_result"
    }
   ],
   "source": [
    "norm_up=np.sqrt((1/(sum(np.asarray(list(statevector_dictionary_up_threshold.values()))**2))))\n",
    "norm_down=np.sqrt((1/(sum(np.asarray(list(statevector_dictionary_down_threshold.values()))**2))))\n",
    "for k in statevector_dictionary_up_threshold:\n",
    "    statevector_dictionary_up_threshold[k]*=norm_up\n",
    "    \n",
    "    \n",
    "for k_d in statevector_dictionary_down_threshold:\n",
    "    statevector_dictionary_down_threshold[k_d]*=norm_down\n",
    "statevector_dictionary_up_threshold,statevector_dictionary_down_threshold, np.linalg.eig(example_matrix)"
   ]
  },
  {
   "cell_type": "markdown",
   "metadata": {},
   "source": [
    "$$\\left|01\\right\\rangle(0.1272|00\\rangle-0.3143|01\\rangle-0.3203|10\\rangle+0.8845|11\\rangle) =$$\n",
    "\n",
    "$$\\left|01\\right\\rangle(0.3143|0\\rangle(0.40|0\\rangle-|1\\rangle)-0.8845|1\\rangle(0.36|0\\rangle-|1\\rangle)) =$$\n",
    "\n",
    "$$\\left|01\\right\\rangle((0.3143|0\\rangle-0.8845|1\\rangle)(0.4|0\\rangle-|1\\rangle)) =$$\n",
    "\n",
    "$$\\left|01\\right\\rangle(0.8845(0.36|0\\rangle-|1\\rangle)(0.4|0\\rangle-|1\\rangle)) =>$$\n",
    "\n",
    "$$\\sqrt{0.8845}=0.9404$$\n",
    "\n",
    "$$0.9404*\\approx0.4*\\text{sign}\\left|1\\right\\rangle=-0.3761$$\n",
    "\n",
    "\n"
   ]
  },
  {
   "cell_type": "markdown",
   "metadata": {},
   "source": [
    "## 3d matrix_example"
   ]
  },
  {
   "cell_type": "code",
   "execution_count": 643,
   "metadata": {},
   "outputs": [
    {
     "data": {
      "text/plain": [
       "({'0001': 0.36710092124099825,\n",
       "  '0101': 0.6614992335357107,\n",
       "  '1001': 0.3149078628268718,\n",
       "  '1101': 0.5731393509308969},\n",
       " {'0011': 0.8721533545579773,\n",
       "  '0111': -0.4889160360072559,\n",
       "  '1011': 0.013630169512202875,\n",
       "  '1111': -0.011128986804178979},\n",
       " (array([3., 1.]),\n",
       "  array([[ 0.87370608,  0.4864542 ],\n",
       "         [-0.4864542 ,  0.87370608]])))"
      ]
     },
     "execution_count": 643,
     "metadata": {},
     "output_type": "execute_result"
    }
   ],
   "source": [
    "norm_up=np.sqrt((1/(sum(np.asarray(list(statevector_dictionary_up_threshold.values()))**2))))\n",
    "norm_down=np.sqrt((1/(sum(np.asarray(list(statevector_dictionary_down_threshold.values()))**2))))\n",
    "for k in statevector_dictionary_up_threshold:\n",
    "    statevector_dictionary_up_threshold[k]*=norm_up\n",
    "    \n",
    "    \n",
    "for k_d in statevector_dictionary_down_threshold:\n",
    "    statevector_dictionary_down_threshold[k_d]*=norm_down\n",
    "statevector_dictionary_up_threshold,statevector_dictionary_down_threshold, np.linalg.eig(example_matrix)"
   ]
  },
  {
   "cell_type": "markdown",
   "metadata": {},
   "source": [
    "$$\\left|01\\right\\rangle(0.3671|00\\rangle+0.6614|01\\rangle+0.3149|10\\rangle+0.5731|11\\rangle) =$$\n",
    "\n",
    "$$\\left|01\\right\\rangle(0.6614|0\\rangle(0.55|0\\rangle+|1\\rangle)+0.5731|1\\rangle(0.55|0\\rangle+|1\\rangle)) =$$\n",
    "\n",
    "$$\\left|01\\right\\rangle((0.6614|0\\rangle+0.5731|1\\rangle)(0.55|0\\rangle+|1\\rangle)) =$$\n",
    "\n",
    "$$\\left|01\\right\\rangle(0.6614(|0\\rangle+\\approx0.8|1\\rangle)(0.55|0\\rangle-|1\\rangle)) =>$$\n",
    "\n",
    "$$\\sqrt{0.6614}=\\approx0.81$$\n",
    "\n",
    "$$0.81*\\approx0.55*\\text{sign}\\left|1\\right\\rangle=\\approx0.44$$\n",
    "\n",
    "\n"
   ]
  },
  {
   "cell_type": "code",
   "execution_count": null,
   "metadata": {},
   "outputs": [],
   "source": []
  },
  {
   "cell_type": "markdown",
   "metadata": {},
   "source": [
    "$$\\left|11\\right\\rangle(0.8721|00\\rangle-0.4889|01\\rangle+0.0136|10\\rangle-0.0111|11\\rangle) =$$\n",
    "\n",
    "$$\\left|11\\right\\rangle(0.8721|0\\rangle(|0\\rangle-\\approx0.5|1\\rangle)+0.0136|1\\rangle(|0\\rangle-\\approx0.8|1\\rangle)) =$$\n",
    "\n",
    "$$\\left|11\\right\\rangle((0.8721|0\\rangle+0.0136|1\\rangle)(|0\\rangle-\\approx0.5|1\\rangle)) =$$\n",
    "\n",
    "$$\\left|11\\right\\rangle(0.8721(|0\\rangle+0.0155|1\\rangle)(|0\\rangle-0.5|1\\rangle)) =>$$\n",
    "\n",
    "$$\\sqrt{0.8721}=\\approx0.93$$\n",
    "\n",
    "$$0.93*\\approx0.5*\\text{sign}\\left|0\\right\\rangle=\\approx0.44$$\n",
    "\n",
    "\n"
   ]
  },
  {
   "cell_type": "markdown",
   "metadata": {},
   "source": [
    "## 4th matrix_example"
   ]
  },
  {
   "cell_type": "code",
   "execution_count": 672,
   "metadata": {},
   "outputs": [
    {
     "data": {
      "text/plain": [
       "({'0001': 0.06844207564752064,\n",
       "  '0101': -0.2434477406836873,\n",
       "  '1001': -0.26237207143606917,\n",
       "  '1101': 0.9312409870529826},\n",
       " {'0011': 0.9317470599478411,\n",
       "  '0111': 0.2529050552183149,\n",
       "  '1011': 0.251498062074687,\n",
       "  '1111': 0.06808211289503242},\n",
       " (array([3., 1.]),\n",
       "  array([[ 0.96521162, -0.26146994],\n",
       "         [ 0.26146994,  0.96521162]])))"
      ]
     },
     "execution_count": 672,
     "metadata": {},
     "output_type": "execute_result"
    }
   ],
   "source": [
    "norm_up=np.sqrt((1/(sum(np.asarray(list(statevector_dictionary_up_threshold.values()))**2))))\n",
    "norm_down=np.sqrt((1/(sum(np.asarray(list(statevector_dictionary_down_threshold.values()))**2))))\n",
    "for k in statevector_dictionary_up_threshold:\n",
    "    statevector_dictionary_up_threshold[k]*=norm_up\n",
    "    \n",
    "    \n",
    "for k_d in statevector_dictionary_down_threshold:\n",
    "    statevector_dictionary_down_threshold[k_d]*=norm_down\n",
    "statevector_dictionary_up_threshold,statevector_dictionary_down_threshold, np.linalg.eig(example_matrix)"
   ]
  },
  {
   "cell_type": "markdown",
   "metadata": {},
   "source": [
    "$$\\left|11\\right\\rangle(0.93|00\\rangle+0.25|01\\rangle+0.25|10\\rangle+0.068|11\\rangle) =$$\n",
    "\n",
    "$$\\left|11\\right\\rangle(0.93|0\\rangle(|0\\rangle+\\approx0.26|1\\rangle)+0.25|1\\rangle(|0\\rangle+0.2|1\\rangle)) =$$\n",
    "\n",
    "$$\\left|11\\right\\rangle((0.93|0\\rangle+0.25|1\\rangle)(|0\\rangle+\\approx0.2|1\\rangle)) =$$\n",
    "\n",
    "$$\\left|11\\right\\rangle(0.93(|0\\rangle+0.2|1\\rangle)(|0\\rangle+0.2|1\\rangle)) =>$$\n",
    "\n",
    "$$\\sqrt{0.93}=\\approx0.96$$\n",
    "\n",
    "$$0.96*\\approx0.2*\\text{sign}\\left|0\\right\\rangle=\\approx0.25$$\n",
    "\n",
    "\n"
   ]
  },
  {
   "cell_type": "code",
   "execution_count": null,
   "metadata": {},
   "outputs": [],
   "source": []
  },
  {
   "cell_type": "markdown",
   "metadata": {},
   "source": [
    "$$\\left|01\\right\\rangle(\\frac{1}{2}|00\\rangle-\\frac{1}{2}|01\\rangle-\\frac{1}{2}|10\\rangle+\\frac{1}{2}|11\\rangle) =$$\n",
    "\n",
    "$$\\left|01\\right\\rangle(\\frac{1}{2}|0\\rangle(|0\\rangle-|1\\rangle)-\\frac{1}{2}|1\\rangle(|0\\rangle-|1\\rangle)) =$$\n",
    "\n",
    "$$\\left|01\\right\\rangle(\\frac{1}{2}(|0\\rangle-|1\\rangle)(|0\\rangle-|1\\rangle)) =$$\n",
    "\n",
    "$$=\\left|01\\right\\rangle\\left(\\left(\\frac{1}{\\sqrt{2}}|0\\rangle-\\frac{1}{\\sqrt{2}}|1\\rangle\\right)\\otimes\\left(\\frac{1}{\\sqrt{2}}|0\\rangle-\\frac{1}{\\sqrt{2}}|1\\rangle\\right)\\right)=> u_1=\\left[\\frac{1}{\\sqrt{2}},-\\frac{1}{\\sqrt{2}}\\right]$$\n",
    "\n"
   ]
  },
  {
   "cell_type": "code",
   "execution_count": null,
   "metadata": {},
   "outputs": [],
   "source": []
  },
  {
   "cell_type": "code",
   "execution_count": 578,
   "metadata": {},
   "outputs": [
    {
     "data": {
      "text/plain": [
       "[array([0.70621455, 0.70792536]), array([-0.70821105,  0.7056383 ])]"
      ]
     },
     "execution_count": 578,
     "metadata": {},
     "output_type": "execute_result"
    }
   ],
   "source": [
    "statevector_up=list(statevector_dictionary_up_threshold.values())\n",
    "statevector_down=list(statevector_dictionary_down_threshold.values())\n",
    "\n",
    "middle_idx=len(statevector_up)//2\n",
    "statevector_up=statevector_up[middle_idx:]\n",
    "\n",
    "result=[]\n",
    "for idx in range(0, len(statevector_up), 2):\n",
    "    result.append(np.sqrt(np.asarray(statevector_up[idx:idx+2]))*np.sign(statevector_up))\n",
    "\n",
    "statevector_down=statevector_down[middle_idx:]\n",
    "\n",
    "for idx in range(0, len(statevector_down), 2):\n",
    "    result.append(np.sqrt(abs(np.asarray(statevector_down[idx:idx+2])))*np.sign(statevector_down))\n",
    "   \n",
    "result"
   ]
  },
  {
   "cell_type": "code",
   "execution_count": null,
   "metadata": {},
   "outputs": [],
   "source": []
  },
  {
   "cell_type": "code",
   "execution_count": null,
   "metadata": {},
   "outputs": [],
   "source": []
  }
 ],
 "metadata": {
  "kernelspec": {
   "display_name": "Python 3 (ipykernel)",
   "language": "python",
   "name": "python3"
  },
  "language_info": {
   "codemirror_mode": {
    "name": "ipython",
    "version": 3
   },
   "file_extension": ".py",
   "mimetype": "text/x-python",
   "name": "python",
   "nbconvert_exporter": "python",
   "pygments_lexer": "ipython3",
   "version": "3.8.11"
  },
  "vscode": {
   "interpreter": {
    "hash": "3820477eeda6a2056d25dbf35341ad4ea495fec12a885dc74045ce43b88b4168"
   }
  }
 },
 "nbformat": 4,
 "nbformat_minor": 4
}
