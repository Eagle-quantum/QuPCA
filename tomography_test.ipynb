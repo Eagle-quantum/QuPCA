{
 "cells": [
  {
   "cell_type": "markdown",
   "metadata": {},
   "source": [
    "### Example taken from *A Low-Complexity Quantum Principal Component Analysis Algorithm*\n",
    "https://doi.org/10.1109/TQE.2021.3140152"
   ]
  },
  {
   "cell_type": "code",
   "execution_count": 336,
   "metadata": {},
   "outputs": [
    {
     "name": "stdout",
     "output_type": "stream",
     "text": [
      "[0.09947372 0.04928471 0.12119389 0.03713275 0.04928471 0.0358715\n",
      " 0.04063547 0.01334651 0.12119389 0.04063547 0.21309451 0.05307858\n",
      " 0.03713275 0.01334651 0.05307858 0.02221647]\n"
     ]
    }
   ],
   "source": [
    "import numpy as np\n",
    "import itertools\n",
    "from qiskit_experiments.library import StateTomography\n",
    "from qiskit.visualization import plot_state_city\n",
    "import qiskit.quantum_info as qi\n",
    "from qiskit.visualization import plot_histogram\n",
    "from qiskit.circuit.library.standard_gates import RYGate\n",
    "from qiskit import Aer, transpile, execute\n",
    "from qiskit import QuantumRegister, ClassicalRegister, QuantumCircuit\n",
    "from qiskit.algorithms.linear_solvers.matrices.numpy_matrix import NumPyMatrix\n",
    "from qiskit.circuit.library import PhaseEstimation\n",
    "\n",
    "#example_matrix = np.array([[5.45, 11.14], [11.14, 1.42]])\n",
    "#example_matrix = np.array([[18.45, 1.14], [1.14, 15.82]])\n",
    "#example_matrix = np.array([[1.45, 5.14], [5.14, 7.82]])\n",
    "#example_matrix = np.array([[13.45, 3.4], [3.4, 1.82]])\n",
    "example_matrix=np.random.rand(4,4)\n",
    "\n",
    "big_example_matrix = np.array([[0, 0, 0, 0], [0, 1, 0, 0], [0, 0, 2, 0], [0, 0, 0, 3]])\n",
    "#example_matrix = np.array([[1.5, 0.5, 1.5, 0.4], [0.5, 2, 2.9, 1.5], [0.3,0.5, 2.5, 1.6], [0.5, 0.5, 0.5, 2.5]])\n",
    "#example_matrix = np.array([[1.7, 0.2, 1.5, 0.2], [0.7, 1, 2.9, 1.1], [0.5,1.5, .7, 1.6], [0.5, 1.5, 0.5, 1.7]])\n",
    "example_matrix=np.dot(example_matrix,example_matrix.T)\n",
    "#example_matrix = np.array([[1.5, .5], [.5, 1.5]])\n",
    "sum_squares = (example_matrix**2).sum()\n",
    "input_probabilities = (example_matrix**2/sum_squares).flatten()\n",
    "\n",
    "print(input_probabilities)"
   ]
  },
  {
   "cell_type": "code",
   "execution_count": 337,
   "metadata": {},
   "outputs": [
    {
     "data": {
      "text/plain": [
       "(array([[ 1.69007077,  0.61564317,  0.58467541,  0.33510046],\n",
       "        [ 0.61564317,  1.83509486, -0.00411012,  0.25033731],\n",
       "        [ 0.58467541, -0.00411012,  1.99534644,  0.9415657 ],\n",
       "        [ 0.33510046,  0.25033731,  0.9415657 ,  0.47948793]]),\n",
       " (array([3.0000000e+00, 2.0000000e+00, 1.0000000e+00, 9.5434856e-18]),\n",
       "  array([[ 0.55617948,  0.26777686, -0.78654626,  0.01746168],\n",
       "         [ 0.3679565 ,  0.76217732,  0.51680786, -0.12885411],\n",
       "         [ 0.65506373, -0.56560509,  0.26115655, -0.42752737],\n",
       "         [ 0.35519559, -0.16574731,  0.21459699,  0.89460162]])))"
      ]
     },
     "execution_count": 337,
     "metadata": {},
     "output_type": "execute_result"
    }
   ],
   "source": [
    "eig,e_v=np.linalg.eig(example_matrix)\n",
    "#b=np.array([3.,1.])\n",
    "b=np.array([3.,2.,1.,0])\n",
    "BB = e_v@np.diag(b)@e_v.T\n",
    "BB, np.linalg.eig(BB)"
   ]
  },
  {
   "cell_type": "code",
   "execution_count": 338,
   "metadata": {},
   "outputs": [
    {
     "name": "stdout",
     "output_type": "stream",
     "text": [
      "[2.04024230e-01 2.70726076e-02 2.44175239e-02 8.02087986e-03\n",
      " 2.70726076e-02 2.40540938e-01 1.20664902e-06 4.47634046e-03\n",
      " 2.44175239e-02 1.20664902e-06 2.84386244e-01 6.33247117e-02\n",
      " 8.02087986e-03 4.47634046e-03 6.33247117e-02 1.64220484e-02]\n"
     ]
    }
   ],
   "source": [
    "example_matrix=BB\n",
    "\n",
    "sum_squares = (example_matrix**2).sum()\n",
    "input_probabilities = (example_matrix**2/sum_squares).flatten()\n",
    "\n",
    "print(input_probabilities)"
   ]
  },
  {
   "cell_type": "code",
   "execution_count": 339,
   "metadata": {},
   "outputs": [
    {
     "data": {
      "text/plain": [
       "array([[ 1.69007077,  0.61564317,  0.58467541,  0.33510046],\n",
       "       [ 0.61564317,  1.83509486, -0.00411012,  0.25033731],\n",
       "       [ 0.58467541, -0.00411012,  1.99534644,  0.9415657 ],\n",
       "       [ 0.33510046,  0.25033731,  0.9415657 ,  0.47948793]])"
      ]
     },
     "execution_count": 339,
     "metadata": {},
     "output_type": "execute_result"
    }
   ],
   "source": [
    "example_matrix"
   ]
  },
  {
   "cell_type": "code",
   "execution_count": 340,
   "metadata": {},
   "outputs": [
    {
     "data": {
      "text/plain": [
       "(array([3.0000000e+00, 2.0000000e+00, 1.0000000e+00, 9.5434856e-18]),\n",
       " array([[ 0.55617948,  0.26777686, -0.78654626,  0.01746168],\n",
       "        [ 0.3679565 ,  0.76217732,  0.51680786, -0.12885411],\n",
       "        [ 0.65506373, -0.56560509,  0.26115655, -0.42752737],\n",
       "        [ 0.35519559, -0.16574731,  0.21459699,  0.89460162]]))"
      ]
     },
     "execution_count": 340,
     "metadata": {},
     "output_type": "execute_result"
    }
   ],
   "source": [
    "np.linalg.eig(example_matrix)"
   ]
  },
  {
   "cell_type": "markdown",
   "metadata": {},
   "source": [
    "as an example, whose quantum state is given by\n",
    "$$\\left|\\psi_{A_0}\\right\\rangle=\\frac{3}{\\sqrt{20}}|00\\rangle+\\frac{1}{\\sqrt{20}}|01\\rangle+\\frac{1}{\\sqrt{20}}|10\\rangle+\\frac{3}{\\sqrt{20}}|11\\rangle .$$\n",
    "\n",
    "Note that the eigenvalues and the corresponding eigenvectors obtained by classical PCA are given by\n",
    "$$\\lambda_1=2, u_1=[1,1]^T$$\n",
    "$$\\lambda_2=1, u_2=[−1,1]^T.$$\n",
    "\n",
    "Note: $[1, 0]^T = |0〉$ and $[0, 1]^T = |1〉.$ \n",
    "\n",
    "When we take a threshold τ=1.1 for eigenvalues, the eigenvalue in binary $|λ_1〉=|10〉$ and the corresponding eigenvector $|u_1〉=[1,1]^T=\\frac{1}{\\sqrt{2}}|0〉+\\frac{1}{\\sqrt{2}}|1〉$ are considered as principal components. Therefore, the output of the proposed algorithm should be given by\n",
    "\n",
    "$$\\begin{aligned}\n",
    "\\left|\\psi_A^{\\prime}\\right\\rangle &=\\left|\\lambda_1\\right\\rangle\\left|u_1\\right\\rangle\\left|u_1\\right\\rangle \\\\\n",
    "&=|10\\rangle \\otimes\\left(\\frac{1}{\\sqrt{2}}|0\\rangle+\\frac{1}{\\sqrt{2}}|1\\rangle\\right) \\otimes\\left(\\frac{1}{\\sqrt{2}}|0\\rangle+\\frac{1}{\\sqrt{2}}|1\\rangle\\right) \\\\\n",
    "&=\\frac{1}{2}|1000\\rangle+\\frac{1}{2}|1001\\rangle+\\frac{1}{2}|1010\\rangle+\\frac{1}{2}|1011\\rangle .\n",
    "\\end{aligned}$$"
   ]
  },
  {
   "cell_type": "code",
   "execution_count": 341,
   "metadata": {},
   "outputs": [],
   "source": [
    "#Tommaso's great code for computing the thetas\n",
    "def thetas_computation(example_matrix):\n",
    "    lst_combination=[]\n",
    "\n",
    "    for k in range(1, len(example_matrix)+1):\n",
    "        lst_combination.append(list(map(list, itertools.product([0, 1], repeat=k))))\n",
    "    container=[]\n",
    "    for lst in lst_combination:\n",
    "        container.append([''.join([''.join(str(j)) for j in i]) for i in lst])\n",
    "    all_combinations=[item for c in container for item in c]\n",
    "\n",
    "    general_bitstring=[''.join([''.join(str(j)) for j in i]) for i in list(map(list, itertools.product([0, 1], repeat=len(example_matrix))))]\n",
    "\n",
    "    #Nodes contains all the values of the tree (except for the root)\n",
    "    nodes=[]\n",
    "    for st in all_combinations:\n",
    "        #print(st)\n",
    "        starts = [general_bitstring.index(l) for l in general_bitstring if l.startswith(st)]\n",
    "        #print(starts)\n",
    "        print(st,'->',np.sqrt(input_probabilities[starts].sum()))\n",
    "        nodes.append(np.sqrt(input_probabilities[starts].sum()))\n",
    "\n",
    "    #add root tree\n",
    "    nodes.insert(0, 1)\n",
    "\n",
    "    idx_sub=1\n",
    "    thetas=[]\n",
    "    for i in range(len(nodes)-len(input_probabilities)):\n",
    "        right_node=i+idx_sub\n",
    "        left_node=right_node+1\n",
    "        #print(left_node,right_node)\n",
    "        if nodes[i]!=0:\n",
    "            #print(nodes[right_node],nodes[i])\n",
    "            thetas.append(2*np.arccos(nodes[right_node]/nodes[i]))\n",
    "            thetas.append(2*np.arcsin(nodes[left_node]/nodes[i]))\n",
    "        else:\n",
    "            thetas.append(0)\n",
    "            thetas.append(0)\n",
    "\n",
    "        idx_sub+=1\n",
    "    return thetas, all_combinations\n",
    "\n",
    "# SUB = str.maketrans(\"0123456789\", \"₀₁₂₃₄₅₆₇₈₉\")\n",
    "\n",
    "# for idx,th in zip(all_combinations,thetas):\n",
    "#     print('\\u03F4(R{})'.format((str(idx).translate(SUB))),'->', th)\n",
    "#thetas"
   ]
  },
  {
   "cell_type": "code",
   "execution_count": 342,
   "metadata": {},
   "outputs": [],
   "source": [
    "def generate_qram_circuit(thetas, all_combinations):\n",
    "    \n",
    "    right_nodes_indexes=list(range(0,len(thetas),2))\n",
    "    rotations_list=list(zip(np.array(all_combinations)[right_nodes_indexes],np.array(thetas)[right_nodes_indexes]))\n",
    "\n",
    "    qc=QuantumCircuit(len(example_matrix))\n",
    "\n",
    "    for r_l in rotations_list:\n",
    "        target_qubit=len(r_l[0])-1\n",
    "        \n",
    "        #First case of R_0\n",
    "        if target_qubit==0:\n",
    "            qc.ry(theta=r_l[1],qubit=target_qubit)\n",
    "            continue\n",
    "            \n",
    "        not_gate=[]\n",
    "        for qb in range(target_qubit):\n",
    "            if r_l[0][qb]=='0':\n",
    "                not_gate.append(qb)\n",
    "                \n",
    "        c_t_qubits=list(range(len(r_l[0])))\n",
    "        n_controls=len(range(target_qubit))\n",
    "        \n",
    "        if len(not_gate)>0:\n",
    "            qc.x(not_gate)\n",
    "            c_ry = RYGate(r_l[1]).control(n_controls)\n",
    "            qc.append(c_ry, c_t_qubits)\n",
    "            qc.x(not_gate)\n",
    "        else:\n",
    "            c_ry = RYGate(r_l[1]).control(n_controls)\n",
    "            qc.append(c_ry, c_t_qubits)\n",
    "    return qc"
   ]
  },
  {
   "cell_type": "code",
   "execution_count": 343,
   "metadata": {},
   "outputs": [
    {
     "name": "stdout",
     "output_type": "stream",
     "text": [
      "0 -> 0.7318649694705912\n",
      "1 -> 0.6814496800658215\n",
      "00 -> 0.5133568359471805\n",
      "01 -> 0.5216235160769584\n",
      "10 -> 0.6100243323489152\n",
      "11 -> 0.3037169412529879\n",
      "000 -> 0.48072532409162916\n",
      "001 -> 0.18010664560392672\n",
      "010 -> 0.5173137784942535\n",
      "011 -> 0.06691447604582541\n",
      "100 -> 0.15626493714806183\n",
      "101 -> 0.5896702090794921\n",
      "110 -> 0.11179096704697605\n",
      "111 -> 0.28239468849603533\n",
      "0000 -> 0.4516904134332485\n",
      "0001 -> 0.1645375569148361\n",
      "0010 -> 0.1562610761926047\n",
      "0011 -> 0.08955936499231915\n",
      "0100 -> 0.1645375569148361\n",
      "0101 -> 0.4904497301299071\n",
      "0110 -> 0.0010984757697372787\n",
      "0111 -> 0.06690545908571768\n",
      "1000 -> 0.1562610761926047\n",
      "1001 -> 0.0010984757697372787\n",
      "1010 -> 0.5332787674458216\n",
      "1011 -> 0.25164401774593664\n",
      "1100 -> 0.08955936499231915\n",
      "1101 -> 0.0669054590857177\n",
      "1110 -> 0.25164401774593664\n",
      "1111 -> 0.12814854046556887\n"
     ]
    },
    {
     "data": {
      "text/html": [
       "<pre style=\"word-wrap: normal;white-space: pre;background: #fff0;line-height: 1.1;font-family: &quot;Courier New&quot;,Courier,monospace\">     ┌────────────┐┌───┐              ┌───┐              ┌───┐               »\n",
       "q_0: ┤ Ry(1.4995) ├┤ X ├──────■───────┤ X ├──────■───────┤ X ├───────■───────»\n",
       "     └────────────┘└───┘┌─────┴──────┐└───┘┌─────┴──────┐├───┤       │       »\n",
       "q_1: ───────────────────┤ Ry(1.5868) ├─────┤ Ry(0.9239) ├┤ X ├───────■───────»\n",
       "                        └────────────┘     └────────────┘└───┘┌──────┴──────┐»\n",
       "q_2: ─────────────────────────────────────────────────────────┤ Ry(0.71694) ├»\n",
       "                                                              └─────────────┘»\n",
       "q_3: ────────────────────────────────────────────────────────────────────────»\n",
       "                                                                             »\n",
       "«     ┌───┐┌───┐               ┌───┐                                 ┌───┐»\n",
       "«q_0: ┤ X ├┤ X ├───────■───────┤ X ├──────■──────────────────■───────┤ X ├»\n",
       "«     ├───┤└───┘       │       ├───┤      │       ┌───┐      │       ├───┤»\n",
       "«q_1: ┤ X ├────────────■───────┤ X ├──────■───────┤ X ├──────■───────┤ X ├»\n",
       "«     └───┘     ┌──────┴──────┐└───┘┌─────┴──────┐└───┘┌─────┴──────┐├───┤»\n",
       "«q_2: ──────────┤ Ry(0.25727) ├─────┤ Ry(2.6235) ├─────┤ Ry(2.3877) ├┤ X ├»\n",
       "«               └─────────────┘     └────────────┘     └────────────┘└───┘»\n",
       "«q_3: ────────────────────────────────────────────────────────────────────»\n",
       "«                                                                         »\n",
       "«                    ┌───┐┌───┐              ┌───┐┌───┐              ┌───┐┌───┐»\n",
       "«q_0: ───────■───────┤ X ├┤ X ├──────■───────┤ X ├┤ X ├──────■───────┤ X ├┤ X ├»\n",
       "«            │       ├───┤├───┤      │       ├───┤└───┘      │       └───┘└───┘»\n",
       "«q_1: ───────■───────┤ X ├┤ X ├──────■───────┤ X ├───────────■─────────────────»\n",
       "«            │       ├───┤└───┘      │       ├───┤           │       ┌───┐     »\n",
       "«q_2: ───────■───────┤ X ├───────────■───────┤ X ├───────────■───────┤ X ├─────»\n",
       "«     ┌──────┴──────┐└───┘     ┌─────┴──────┐└───┘     ┌─────┴──────┐└───┘     »\n",
       "«q_3: ┤ Ry(0.69866) ├──────────┤ Ry(1.0409) ├──────────┤ Ry(2.4942) ├──────────»\n",
       "«     └─────────────┘          └────────────┘          └────────────┘          »\n",
       "«                   ┌───┐                                             »\n",
       "«q_0: ──────■───────┤ X ├───────■────────────────────────■────────────»\n",
       "«           │       ├───┤       │        ┌───┐┌───┐      │       ┌───┐»\n",
       "«q_1: ──────■───────┤ X ├───────■────────┤ X ├┤ X ├──────■───────┤ X ├»\n",
       "«           │       ├───┤       │        ├───┤└───┘      │       ├───┤»\n",
       "«q_2: ──────■───────┤ X ├───────■────────┤ X ├───────────■───────┤ X ├»\n",
       "«     ┌─────┴──────┐└───┘┌──────┴───────┐└───┘     ┌─────┴──────┐└───┘»\n",
       "«q_3: ┤ Ry(3.1088) ├─────┤ Ry(0.014059) ├──────────┤ Ry(0.8818) ├─────»\n",
       "«     └────────────┘     └──────────────┘          └────────────┘     »\n",
       "«                                       \n",
       "«q_0: ──────■───────────────────■───────\n",
       "«           │                   │       \n",
       "«q_1: ──────■───────────────────■───────\n",
       "«           │       ┌───┐       │       \n",
       "«q_2: ──────■───────┤ X ├───────■───────\n",
       "«     ┌─────┴──────┐└───┘┌──────┴──────┐\n",
       "«q_3: ┤ Ry(1.2832) ├─────┤ Ry(0.94203) ├\n",
       "«     └────────────┘     └─────────────┘</pre>"
      ],
      "text/plain": [
       "     ┌────────────┐┌───┐              ┌───┐              ┌───┐               »\n",
       "q_0: ┤ Ry(1.4995) ├┤ X ├──────■───────┤ X ├──────■───────┤ X ├───────■───────»\n",
       "     └────────────┘└───┘┌─────┴──────┐└───┘┌─────┴──────┐├───┤       │       »\n",
       "q_1: ───────────────────┤ Ry(1.5868) ├─────┤ Ry(0.9239) ├┤ X ├───────■───────»\n",
       "                        └────────────┘     └────────────┘└───┘┌──────┴──────┐»\n",
       "q_2: ─────────────────────────────────────────────────────────┤ Ry(0.71694) ├»\n",
       "                                                              └─────────────┘»\n",
       "q_3: ────────────────────────────────────────────────────────────────────────»\n",
       "                                                                             »\n",
       "«     ┌───┐┌───┐               ┌───┐                                 ┌───┐»\n",
       "«q_0: ┤ X ├┤ X ├───────■───────┤ X ├──────■──────────────────■───────┤ X ├»\n",
       "«     ├───┤└───┘       │       ├───┤      │       ┌───┐      │       ├───┤»\n",
       "«q_1: ┤ X ├────────────■───────┤ X ├──────■───────┤ X ├──────■───────┤ X ├»\n",
       "«     └───┘     ┌──────┴──────┐└───┘┌─────┴──────┐└───┘┌─────┴──────┐├───┤»\n",
       "«q_2: ──────────┤ Ry(0.25727) ├─────┤ Ry(2.6235) ├─────┤ Ry(2.3877) ├┤ X ├»\n",
       "«               └─────────────┘     └────────────┘     └────────────┘└───┘»\n",
       "«q_3: ────────────────────────────────────────────────────────────────────»\n",
       "«                                                                         »\n",
       "«                    ┌───┐┌───┐              ┌───┐┌───┐              ┌───┐┌───┐»\n",
       "«q_0: ───────■───────┤ X ├┤ X ├──────■───────┤ X ├┤ X ├──────■───────┤ X ├┤ X ├»\n",
       "«            │       ├───┤├───┤      │       ├───┤└───┘      │       └───┘└───┘»\n",
       "«q_1: ───────■───────┤ X ├┤ X ├──────■───────┤ X ├───────────■─────────────────»\n",
       "«            │       ├───┤└───┘      │       ├───┤           │       ┌───┐     »\n",
       "«q_2: ───────■───────┤ X ├───────────■───────┤ X ├───────────■───────┤ X ├─────»\n",
       "«     ┌──────┴──────┐└───┘     ┌─────┴──────┐└───┘     ┌─────┴──────┐└───┘     »\n",
       "«q_3: ┤ Ry(0.69866) ├──────────┤ Ry(1.0409) ├──────────┤ Ry(2.4942) ├──────────»\n",
       "«     └─────────────┘          └────────────┘          └────────────┘          »\n",
       "«                   ┌───┐                                             »\n",
       "«q_0: ──────■───────┤ X ├───────■────────────────────────■────────────»\n",
       "«           │       ├───┤       │        ┌───┐┌───┐      │       ┌───┐»\n",
       "«q_1: ──────■───────┤ X ├───────■────────┤ X ├┤ X ├──────■───────┤ X ├»\n",
       "«           │       ├───┤       │        ├───┤└───┘      │       ├───┤»\n",
       "«q_2: ──────■───────┤ X ├───────■────────┤ X ├───────────■───────┤ X ├»\n",
       "«     ┌─────┴──────┐└───┘┌──────┴───────┐└───┘     ┌─────┴──────┐└───┘»\n",
       "«q_3: ┤ Ry(3.1088) ├─────┤ Ry(0.014059) ├──────────┤ Ry(0.8818) ├─────»\n",
       "«     └────────────┘     └──────────────┘          └────────────┘     »\n",
       "«                                       \n",
       "«q_0: ──────■───────────────────■───────\n",
       "«           │                   │       \n",
       "«q_1: ──────■───────────────────■───────\n",
       "«           │       ┌───┐       │       \n",
       "«q_2: ──────■───────┤ X ├───────■───────\n",
       "«     ┌─────┴──────┐└───┘┌──────┴──────┐\n",
       "«q_3: ┤ Ry(1.2832) ├─────┤ Ry(0.94203) ├\n",
       "«     └────────────┘     └─────────────┘"
      ]
     },
     "execution_count": 343,
     "metadata": {},
     "output_type": "execute_result"
    }
   ],
   "source": [
    "thetas, all_combinations = thetas_computation(example_matrix)\n",
    "matrix_circuit = generate_qram_circuit(thetas, all_combinations)\n",
    "matrix_circuit.draw()"
   ]
  },
  {
   "cell_type": "code",
   "execution_count": 344,
   "metadata": {},
   "outputs": [
    {
     "name": "stderr",
     "output_type": "stream",
     "text": [
      "/opt/miniconda3/envs/EAGLE_environment/lib/python3.8/site-packages/numpy/linalg/linalg.py:2154: RuntimeWarning: divide by zero encountered in det\n",
      "  r = _umath_linalg.det(a, signature=signature)\n",
      "/opt/miniconda3/envs/EAGLE_environment/lib/python3.8/site-packages/numpy/linalg/linalg.py:2154: RuntimeWarning: invalid value encountered in det\n",
      "  r = _umath_linalg.det(a, signature=signature)\n"
     ]
    },
    {
     "data": {
      "text/plain": [
       "{'0000': 0.204024229587498,\n",
       " '0001': 0.024417523932871,\n",
       " '0010': 0.027072607635503,\n",
       " '0011': 0.008020879857827,\n",
       " '0100': 0.024417523932871,\n",
       " '0101': 0.284386243808533,\n",
       " '0110': 1.206649017e-06,\n",
       " '0111': 0.063324711667317,\n",
       " '1000': 0.027072607635503,\n",
       " '1001': 1.206649017e-06,\n",
       " '1010': 0.240540937784498,\n",
       " '1011': 0.004476340455471,\n",
       " '1100': 0.008020879857827,\n",
       " '1101': 0.063324711667317,\n",
       " '1110': 0.004476340455471,\n",
       " '1111': 0.016422048423455}"
      ]
     },
     "execution_count": 344,
     "metadata": {},
     "output_type": "execute_result"
    }
   ],
   "source": [
    "#Check matrix encoding\n",
    "backend = Aer.get_backend(\"statevector_simulator\")\n",
    "job = backend.run(transpile(matrix_circuit, backend=backend))\n",
    "job.result().get_counts()"
   ]
  },
  {
   "cell_type": "code",
   "execution_count": 345,
   "metadata": {},
   "outputs": [
    {
     "name": "stderr",
     "output_type": "stream",
     "text": [
      "/var/folders/rr/g930v2cj1wvdzc257kclm3lm0000gn/T/ipykernel_2454/4115894098.py:4: DeprecationWarning: The NumPyMatrix class is deprecated as of Qiskit Terra 0.22.0 and will be removed no sooner than 3 months after the release date. \n",
      "  u_circuit = NumPyMatrix(example_matrix, evolution_time=2*np.pi/(2**resolution))\n"
     ]
    },
    {
     "data": {
      "text/plain": [
       "Operator([[-0.07139953+0.30931941j, -0.20634346-0.61114315j,\n",
       "            0.1439906 -0.56974472j,  0.06000454-0.36634296j],\n",
       "          [-0.20634346-0.61114315j, -0.56431089+0.13169838j,\n",
       "            0.48618003-0.1060672j ,  0.01105575-0.01979112j],\n",
       "          [ 0.1439906 -0.56974472j,  0.48618003-0.1060672j ,\n",
       "           -0.13712946-0.36090575j, -0.4762142 -0.17663234j],\n",
       "          [ 0.06000454-0.36634296j,  0.01105575-0.01979112j,\n",
       "           -0.4762142 -0.17663234j,  0.77283988-0.08011204j]],\n",
       "         input_dims=(2, 2), output_dims=(2, 2))"
      ]
     },
     "execution_count": 345,
     "metadata": {},
     "output_type": "execute_result"
    }
   ],
   "source": [
    "#Unitary for PE\n",
    "resolution = 2\n",
    "unitary_backend = Aer.get_backend(\"unitary_simulator\")\n",
    "u_circuit = NumPyMatrix(example_matrix, evolution_time=2*np.pi/(2**resolution))\n",
    "unitary_job = unitary_backend.run(transpile(u_circuit, backend=unitary_backend))\n",
    "unitary_job.result().get_unitary()"
   ]
  },
  {
   "cell_type": "code",
   "execution_count": 346,
   "metadata": {},
   "outputs": [
    {
     "data": {
      "image/png": "[encoded data removed]",
      "text/plain": [
       "<Figure size 658.969x264.88 with 1 Axes>"
      ]
     },
     "execution_count": 346,
     "metadata": {},
     "output_type": "execute_result"
    }
   ],
   "source": [
    "#PE circuit\n",
    "pe = PhaseEstimation(resolution, u_circuit, name = \"PE\")\n",
    "pe.decompose().draw(\"mpl\")"
   ]
  },
  {
   "cell_type": "markdown",
   "metadata": {},
   "source": [
    "# Check Statevector"
   ]
  },
  {
   "cell_type": "code",
   "execution_count": 347,
   "metadata": {},
   "outputs": [
    {
     "data": {
      "image/png": "[encoded data removed]",
      "text/plain": [
       "<Figure size 1626.07x806.68 with 1 Axes>"
      ]
     },
     "execution_count": 347,
     "metadata": {},
     "output_type": "execute_result"
    }
   ],
   "source": [
    "tot_qubit = resolution+len(example_matrix)\n",
    "\n",
    "qr_total = QuantumRegister(tot_qubit, 'total')\n",
    "# classical = ClassicalRegister(4, 'measure')\n",
    "\n",
    "total_circuit = QuantumCircuit(qr_total , name='matrix')\n",
    "\n",
    "total_circuit.append(matrix_circuit.to_gate(), qr_total[resolution:])\n",
    "total_circuit.append(pe.to_gate(), qr_total[0:pe.num_qubits])\n",
    "# total_circuit.measure(qr_total[:2], classical[:])\n",
    "#total_circuit.swap(qr_total[0],qr_total[1])\n",
    "#total_circuit.measure_all()\n",
    "\n",
    "total_circuit.decompose(reps=1).draw(\"mpl\")"
   ]
  },
  {
   "cell_type": "code",
   "execution_count": 348,
   "metadata": {},
   "outputs": [],
   "source": [
    "backend_total = Aer.get_backend(\"statevector_simulator\")\n",
    "job = backend_total.run(transpile(total_circuit, backend=backend_total))\n",
    "statevector = np.asarray(job.result().get_statevector()).round(4)\n",
    "#plot_histogram(counts)"
   ]
  },
  {
   "cell_type": "code",
   "execution_count": 349,
   "metadata": {},
   "outputs": [],
   "source": [
    "def attach_bitstrings(vector):\n",
    "    return list(zip(bitstrings, vector))"
   ]
  },
  {
   "cell_type": "code",
   "execution_count": 350,
   "metadata": {},
   "outputs": [
    {
     "data": {
      "text/plain": [
       "[('000000', (-0-0j)),\n",
       " ('000001', (0.0354-0j)),\n",
       " ('000010', (0.167+0j)),\n",
       " ('000011', (0.2493+0j)),\n",
       " ('000100', (0.0003-0j)),\n",
       " ('000101', (0.1007+0j)),\n",
       " ('000110', (-0.1097-0j)),\n",
       " ('000111', (0.165+0j)),\n",
       " ('001000', (0.0011-0j)),\n",
       " ('001001', (-0.0747-0j)),\n",
       " ('001010', (-0.0555-0j)),\n",
       " ('001011', (0.2937+0j)),\n",
       " ('001100', (-0.0022-0j)),\n",
       " ('001101', (-0.0219-0j)),\n",
       " ('001110', (-0.0456-0j)),\n",
       " ('001111', (0.1592+0j)),\n",
       " ('010000', (0.0028-0j)),\n",
       " ('010001', (0.1087+0j)),\n",
       " ('010010', (-0.1628-0j)),\n",
       " ('010011', (0.2076+0j)),\n",
       " ('010100', (-0.0204-0j)),\n",
       " ('010101', (0.3094+0j)),\n",
       " ('010110', (0.107+0j)),\n",
       " ('010111', (0.1373+0j)),\n",
       " ('011000', (-0.0678-0j)),\n",
       " ('011001', (-0.2296-0j)),\n",
       " ('011010', (0.0541-0j)),\n",
       " ('011011', (0.2445+0j)),\n",
       " ('011100', (0.1419+0j)),\n",
       " ('011101', (-0.0673-0j)),\n",
       " ('011110', (0.0444+0j)),\n",
       " ('011111', (0.1326+0j)),\n",
       " ('100000', (-0.0026-0j)),\n",
       " ('100001', (-0.0652-0j)),\n",
       " ('100010', (-0.0107-0j)),\n",
       " ('100011', (0.243+0j)),\n",
       " ('100100', (0.019+0j)),\n",
       " ('100101', (-0.1857-0j)),\n",
       " ('100110', (0.007-0j)),\n",
       " ('100111', (0.1608+0j)),\n",
       " ('101000', (0.0629+0j)),\n",
       " ('101001', (0.1378+0j)),\n",
       " ('101010', (0.0035-0j)),\n",
       " ('101011', (0.2862+0j)),\n",
       " ('101100', (-0.1316-0j)),\n",
       " ('101101', (0.0404+0j)),\n",
       " ('101110', (0.0029-0j)),\n",
       " ('101111', (0.1552+0j)),\n",
       " ('110000', (0.001-0j)),\n",
       " ('110001', (0.042+0j)),\n",
       " ('110010', (-0.0823-0j)),\n",
       " ('110011', (0.1289+0j)),\n",
       " ('110100', (-0.0071-0j)),\n",
       " ('110101', (0.1194+0j)),\n",
       " ('110110', (0.054+0j)),\n",
       " ('110111', (0.0853+0j)),\n",
       " ('111000', (-0.0236-0j)),\n",
       " ('111001', (-0.0886-0j)),\n",
       " ('111010', (0.0273-0j)),\n",
       " ('111011', (0.1518+0j)),\n",
       " ('111100', (0.0494+0j)),\n",
       " ('111101', (-0.026-0j)),\n",
       " ('111110', (0.0224-0j)),\n",
       " ('111111', (0.0823+0j))]"
      ]
     },
     "execution_count": 350,
     "metadata": {},
     "output_type": "execute_result"
    }
   ],
   "source": [
    "bitstrings=[''.join([''.join(str(j)) for j in i]) for i in list(map(list, itertools.product([0, 1], repeat=resolution+len(example_matrix))))]\n",
    "ss=attach_bitstrings(statevector)\n",
    "ss"
   ]
  },
  {
   "cell_type": "code",
   "execution_count": 351,
   "metadata": {},
   "outputs": [
    {
     "data": {
      "text/plain": [
       "array([0.2493+0.j, 0.165 +0.j, 0.2937+0.j, 0.1592+0.j, 0.2076+0.j,\n",
       "       0.1373+0.j, 0.2445+0.j, 0.1326+0.j, 0.243 +0.j, 0.1608+0.j,\n",
       "       0.2862+0.j, 0.1552+0.j, 0.1289+0.j, 0.0853+0.j, 0.1518+0.j,\n",
       "       0.0823+0.j])"
      ]
     },
     "execution_count": 351,
     "metadata": {},
     "output_type": "execute_result"
    }
   ],
   "source": [
    "a=[i[1] for i in ss if i[0][-2:]=='11']\n",
    "aa=np.array(a)\n",
    "aa"
   ]
  },
  {
   "cell_type": "code",
   "execution_count": 352,
   "metadata": {},
   "outputs": [
    {
     "data": {
      "text/plain": [
       "array([0.32597209+0.j, 0.21574567+0.j, 0.38402729+0.j, 0.20816188+0.j,\n",
       "       0.27144728+0.j, 0.17952655+0.j, 0.31969585+0.j, 0.17338106+0.j,\n",
       "       0.31773453+0.j, 0.21025396+0.j, 0.37422067+0.j, 0.20293168+0.j,\n",
       "       0.16854313+0.j, 0.11153397+0.j, 0.19848601+0.j, 0.10761132+0.j])"
      ]
     },
     "execution_count": 352,
     "metadata": {},
     "output_type": "execute_result"
    }
   ],
   "source": [
    "nf=np.sqrt((1/(sum(aa**2))))\n",
    "aa*=nf\n",
    "aa"
   ]
  },
  {
   "cell_type": "markdown",
   "metadata": {},
   "source": [
    "# Computing Probabilities"
   ]
  },
  {
   "cell_type": "code",
   "execution_count": 353,
   "metadata": {},
   "outputs": [
    {
     "data": {
      "image/png": "[encoded data removed]",
      "text/plain": [
       "<Figure size 1626.07x927.08 with 1 Axes>"
      ]
     },
     "execution_count": 353,
     "metadata": {},
     "output_type": "execute_result"
    }
   ],
   "source": [
    "tot_qubit = resolution+len(example_matrix)\n",
    "\n",
    "qr_total = QuantumRegister(tot_qubit, 'total')\n",
    "# classical = ClassicalRegister(4, 'measure')\n",
    "\n",
    "total_circuit_1 = QuantumCircuit(qr_total , name='matrix')\n",
    "\n",
    "total_circuit_1.append(matrix_circuit.to_gate(), qr_total[resolution:])\n",
    "total_circuit_1.append(pe.to_gate(), qr_total[0:pe.num_qubits])\n",
    "# total_circuit.measure(qr_total[:2], classical[:])\n",
    "#total_circuit_1.swap(qr_total[0],qr_total[1])\n",
    "total_circuit_1.measure_all()\n",
    "\n",
    "total_circuit_1.decompose(reps=1).draw(\"mpl\")"
   ]
  },
  {
   "cell_type": "code",
   "execution_count": 354,
   "metadata": {},
   "outputs": [
    {
     "data": {
      "image/png": "[encoded data removed]",
      "text/plain": [
       "<Figure size 504x360 with 1 Axes>"
      ]
     },
     "execution_count": 354,
     "metadata": {},
     "output_type": "execute_result"
    }
   ],
   "source": [
    "n_shots=50000\n",
    "backend_total = Aer.get_backend(\"qasm_simulator\")\n",
    "job = backend_total.run(transpile(total_circuit_1, backend=backend_total), shots=n_shots)\n",
    "counts = job.result().get_counts()\n",
    "plot_histogram(counts)"
   ]
  },
  {
   "cell_type": "markdown",
   "metadata": {},
   "source": [
    "# Storing probabilities"
   ]
  },
  {
   "cell_type": "code",
   "execution_count": 355,
   "metadata": {},
   "outputs": [
    {
     "data": {
      "text/plain": [
       "{'101010': 2e-05,\n",
       " '100110': 0.0001,\n",
       " '110100': 8e-05,\n",
       " '100010': 0.00026,\n",
       " '011110': 0.0018,\n",
       " '100100': 0.00026,\n",
       " '100000': 2e-05,\n",
       " '111110': 0.00054,\n",
       " '111101': 0.0007,\n",
       " '001011': 0.08504,\n",
       " '011011': 0.06138,\n",
       " '001001': 0.00562,\n",
       " '001111': 0.02522,\n",
       " '110101': 0.01362,\n",
       " '000101': 0.01028,\n",
       " '110001': 0.00174,\n",
       " '011101': 0.00468,\n",
       " '000110': 0.01218,\n",
       " '011000': 0.00488,\n",
       " '101000': 0.004,\n",
       " '001010': 0.00332,\n",
       " '101011': 0.08138,\n",
       " '110010': 0.00658,\n",
       " '011010': 0.00318,\n",
       " '100001': 0.0047,\n",
       " '111001': 0.00846,\n",
       " '010100': 0.00064,\n",
       " '000111': 0.02814,\n",
       " '011111': 0.0168,\n",
       " '100011': 0.0568,\n",
       " '010001': 0.01168,\n",
       " '010111': 0.01928,\n",
       " '010110': 0.01138,\n",
       " '110111': 0.0077,\n",
       " '011001': 0.0532,\n",
       " '101111': 0.02412,\n",
       " '011100': 0.01972,\n",
       " '001101': 0.00044,\n",
       " '111011': 0.02218,\n",
       " '000001': 0.0014,\n",
       " '100101': 0.0344,\n",
       " '110011': 0.01622,\n",
       " '101101': 0.00164,\n",
       " '010010': 0.02644,\n",
       " '111111': 0.00694,\n",
       " '111000': 0.00074,\n",
       " '000010': 0.02882,\n",
       " '101100': 0.01666,\n",
       " '100111': 0.02678,\n",
       " '111010': 0.00072,\n",
       " '111100': 0.00214,\n",
       " '101001': 0.01908,\n",
       " '000011': 0.063,\n",
       " '001110': 0.00202,\n",
       " '010011': 0.04298,\n",
       " '110110': 0.0029,\n",
       " '010101': 0.095}"
      ]
     },
     "execution_count": 355,
     "metadata": {},
     "output_type": "execute_result"
    }
   ],
   "source": [
    "for i in counts:\n",
    "    counts[i]/=n_shots\n",
    "counts"
   ]
  },
  {
   "cell_type": "code",
   "execution_count": 356,
   "metadata": {},
   "outputs": [
    {
     "data": {
      "text/plain": [
       "array([0.000e+00, 1.400e-03, 2.882e-02, 6.300e-02, 0.000e+00, 1.028e-02,\n",
       "       1.218e-02, 2.814e-02, 0.000e+00, 5.620e-03, 3.320e-03, 8.504e-02,\n",
       "       0.000e+00, 4.400e-04, 2.020e-03, 2.522e-02, 0.000e+00, 1.168e-02,\n",
       "       2.644e-02, 4.298e-02, 6.400e-04, 9.500e-02, 1.138e-02, 1.928e-02,\n",
       "       4.880e-03, 5.320e-02, 3.180e-03, 6.138e-02, 1.972e-02, 4.680e-03,\n",
       "       1.800e-03, 1.680e-02, 2.000e-05, 4.700e-03, 2.600e-04, 5.680e-02,\n",
       "       2.600e-04, 3.440e-02, 1.000e-04, 2.678e-02, 4.000e-03, 1.908e-02,\n",
       "       2.000e-05, 8.138e-02, 1.666e-02, 1.640e-03, 0.000e+00, 2.412e-02,\n",
       "       0.000e+00, 1.740e-03, 6.580e-03, 1.622e-02, 8.000e-05, 1.362e-02,\n",
       "       2.900e-03, 7.700e-03, 7.400e-04, 8.460e-03, 7.200e-04, 2.218e-02,\n",
       "       2.140e-03, 7.000e-04, 5.400e-04, 6.940e-03])"
      ]
     },
     "execution_count": 356,
     "metadata": {},
     "output_type": "execute_result"
    }
   ],
   "source": [
    "statevector=np.zeros(2**tot_qubit)\n",
    "for i in counts:\n",
    "    statevector[int(i,2)]=counts[i]\n",
    "statevector"
   ]
  },
  {
   "cell_type": "code",
   "execution_count": 357,
   "metadata": {},
   "outputs": [
    {
     "data": {
      "image/png": "[encoded data removed]",
      "text/plain": [
       "<Figure size 1701.79x866.88 with 1 Axes>"
      ]
     },
     "execution_count": 357,
     "metadata": {},
     "output_type": "execute_result"
    }
   ],
   "source": [
    "\n",
    "tot_qubit = resolution+len(example_matrix)\n",
    "\n",
    "qr_total_xi = QuantumRegister(tot_qubit, 'xi')\n",
    "qr_total_pi = QuantumRegister(tot_qubit, 'pi')\n",
    "qr_control = QuantumRegister(1, 'control_qubit')\n",
    "n_classical_register=tot_qubit+1\n",
    "classical = ClassicalRegister(n_classical_register, 'measure')\n",
    "\n",
    "total_circuit_2 = QuantumCircuit(qr_total_xi,qr_total_pi,qr_control ,classical, name='matrix')\n",
    "\n",
    "total_circuit_2.append(matrix_circuit.to_gate(), qr_total_xi[resolution:])\n",
    "total_circuit_2.append(pe.to_gate(), qr_total_xi[0:pe.num_qubits])\n",
    "\n",
    "#total_circuit_2.swap(qr_total_xi[0],qr_total_xi[1])\n",
    "total_circuit_2.initialize(np.sqrt(statevector),qr_total_pi)\n",
    "total_circuit_2.h(qr_control)\n",
    "for i in range(tot_qubit):\n",
    "    total_circuit_2.cswap(control_qubit=qr_control, target_qubit1=qr_total_xi[i],target_qubit2=qr_total_pi[i])\n",
    "\n",
    "total_circuit_2.h(qr_control)\n",
    "total_circuit_2.measure(qr_total_xi,classical[0:n_classical_register-1])\n",
    "total_circuit_2.measure(qr_control,classical[n_classical_register-1])\n",
    "\n",
    "total_circuit_2.draw(\"mpl\")"
   ]
  },
  {
   "cell_type": "code",
   "execution_count": 358,
   "metadata": {},
   "outputs": [
    {
     "data": {
      "image/png": "[encoded data removed]",
      "text/plain": [
       "<Figure size 504x360 with 1 Axes>"
      ]
     },
     "execution_count": 358,
     "metadata": {},
     "output_type": "execute_result"
    }
   ],
   "source": [
    "backend_total = Aer.get_backend(\"qasm_simulator\")\n",
    "job = backend_total.run(transpile(total_circuit_2, backend=backend_total), shots=n_shots)\n",
    "counts_for_sign = job.result().get_counts()\n",
    "plot_histogram(counts_for_sign)"
   ]
  },
  {
   "cell_type": "code",
   "execution_count": 359,
   "metadata": {},
   "outputs": [
    {
     "data": {
      "text/plain": [
       "array([0.000e+00, 5.200e+01, 1.208e+03, 2.469e+03, 0.000e+00, 4.150e+02,\n",
       "       1.070e+02, 1.141e+03, 0.000e+00, 6.100e+01, 3.600e+01, 3.431e+03,\n",
       "       0.000e+00, 3.000e+00, 1.800e+01, 9.900e+02, 0.000e+00, 4.700e+02,\n",
       "       2.600e+02, 1.823e+03, 8.000e+00, 3.913e+03, 5.140e+02, 7.570e+02,\n",
       "       5.000e+01, 4.820e+02, 1.180e+02, 2.507e+03, 8.110e+02, 4.400e+01,\n",
       "       6.800e+01, 7.400e+02, 0.000e+00, 5.100e+01, 1.000e+00, 2.305e+03,\n",
       "       1.600e+01, 3.380e+02, 4.000e+00, 1.098e+03, 1.760e+02, 7.640e+02,\n",
       "       1.000e+00, 3.243e+03, 1.620e+02, 8.200e+01, 0.000e+00, 9.850e+02,\n",
       "       0.000e+00, 6.100e+01, 6.900e+01, 6.640e+02, 0.000e+00, 5.540e+02,\n",
       "       1.420e+02, 3.080e+02, 7.000e+00, 7.600e+01, 2.400e+01, 9.390e+02,\n",
       "       8.100e+01, 2.000e+00, 2.200e+01, 2.690e+02])"
      ]
     },
     "execution_count": 359,
     "metadata": {},
     "output_type": "execute_result"
    }
   ],
   "source": [
    "#Take only counts with control qubits equal to 0\n",
    "tmp=np.zeros(2**tot_qubit)\n",
    "for c in counts_for_sign:\n",
    "    if c[0]=='0':\n",
    "        tmp[int(c[1:],2)]=counts_for_sign[c]\n",
    "tmp"
   ]
  },
  {
   "cell_type": "code",
   "execution_count": 360,
   "metadata": {},
   "outputs": [
    {
     "data": {
      "text/plain": [
       "array([0.000e+00, 1.400e-03, 2.882e-02, 6.300e-02, 0.000e+00, 1.028e-02,\n",
       "       1.218e-02, 2.814e-02, 0.000e+00, 5.620e-03, 3.320e-03, 8.504e-02,\n",
       "       0.000e+00, 4.400e-04, 2.020e-03, 2.522e-02, 0.000e+00, 1.168e-02,\n",
       "       2.644e-02, 4.298e-02, 6.400e-04, 9.500e-02, 1.138e-02, 1.928e-02,\n",
       "       4.880e-03, 5.320e-02, 3.180e-03, 6.138e-02, 1.972e-02, 4.680e-03,\n",
       "       1.800e-03, 1.680e-02, 2.000e-05, 4.700e-03, 2.600e-04, 5.680e-02,\n",
       "       2.600e-04, 3.440e-02, 1.000e-04, 2.678e-02, 4.000e-03, 1.908e-02,\n",
       "       2.000e-05, 8.138e-02, 1.666e-02, 1.640e-03, 0.000e+00, 2.412e-02,\n",
       "       0.000e+00, 1.740e-03, 6.580e-03, 1.622e-02, 8.000e-05, 1.362e-02,\n",
       "       2.900e-03, 7.700e-03, 7.400e-04, 8.460e-03, 7.200e-04, 2.218e-02,\n",
       "       2.140e-03, 7.000e-04, 5.400e-04, 6.940e-03])"
      ]
     },
     "execution_count": 360,
     "metadata": {},
     "output_type": "execute_result"
    }
   ],
   "source": [
    "statevector"
   ]
  },
  {
   "cell_type": "code",
   "execution_count": 361,
   "metadata": {},
   "outputs": [],
   "source": [
    "#Sign estimation\n",
    "sign_dictionary={}\n",
    "sign=0\n",
    "for e, (count, prob) in enumerate(zip(tmp, statevector)):\n",
    "    if count>0.4*prob*n_shots:\n",
    "        sign=1\n",
    "    else:\n",
    "        sign=-1\n",
    "    if prob==0:\n",
    "        sign=0\n",
    "    sign_dictionary.update({bin(e)[2:].zfill(tot_qubit):sign})"
   ]
  },
  {
   "cell_type": "code",
   "execution_count": 362,
   "metadata": {},
   "outputs": [
    {
     "data": {
      "text/plain": [
       "{'000000': 0,\n",
       " '000001': 1,\n",
       " '000010': 1,\n",
       " '000011': 1,\n",
       " '000100': 0,\n",
       " '000101': 1,\n",
       " '000110': -1,\n",
       " '000111': 1,\n",
       " '001000': 0,\n",
       " '001001': -1,\n",
       " '001010': -1,\n",
       " '001011': 1,\n",
       " '001100': 0,\n",
       " '001101': -1,\n",
       " '001110': -1,\n",
       " '001111': 1,\n",
       " '010000': 0,\n",
       " '010001': 1,\n",
       " '010010': -1,\n",
       " '010011': 1,\n",
       " '010100': -1,\n",
       " '010101': 1,\n",
       " '010110': 1,\n",
       " '010111': 1,\n",
       " '011000': -1,\n",
       " '011001': -1,\n",
       " '011010': 1,\n",
       " '011011': 1,\n",
       " '011100': 1,\n",
       " '011101': -1,\n",
       " '011110': 1,\n",
       " '011111': 1,\n",
       " '100000': -1,\n",
       " '100001': -1,\n",
       " '100010': -1,\n",
       " '100011': 1,\n",
       " '100100': 1,\n",
       " '100101': -1,\n",
       " '100110': 1,\n",
       " '100111': 1,\n",
       " '101000': 1,\n",
       " '101001': 1,\n",
       " '101010': 1,\n",
       " '101011': 1,\n",
       " '101100': -1,\n",
       " '101101': 1,\n",
       " '101110': 0,\n",
       " '101111': 1,\n",
       " '110000': 0,\n",
       " '110001': 1,\n",
       " '110010': -1,\n",
       " '110011': 1,\n",
       " '110100': -1,\n",
       " '110101': 1,\n",
       " '110110': 1,\n",
       " '110111': 1,\n",
       " '111000': -1,\n",
       " '111001': -1,\n",
       " '111010': 1,\n",
       " '111011': 1,\n",
       " '111100': 1,\n",
       " '111101': -1,\n",
       " '111110': 1,\n",
       " '111111': 1}"
      ]
     },
     "execution_count": 362,
     "metadata": {},
     "output_type": "execute_result"
    }
   ],
   "source": [
    "sign_dictionary"
   ]
  },
  {
   "cell_type": "code",
   "execution_count": 363,
   "metadata": {},
   "outputs": [
    {
     "data": {
      "text/plain": [
       "{'000000': 0.0,\n",
       " '000001': 0.03741657386773942,\n",
       " '000010': 0.16976454282328804,\n",
       " '000011': 0.25099800796022265,\n",
       " '000100': 0.0,\n",
       " '000101': 0.1013903348450926,\n",
       " '000110': -0.11036303729057116,\n",
       " '000111': 0.16774981371077585,\n",
       " '001000': 0.0,\n",
       " '001001': -0.07496665925596525,\n",
       " '001010': -0.057619441163551735,\n",
       " '001011': 0.2916161861076988,\n",
       " '001100': 0.0,\n",
       " '001101': -0.02097617696340303,\n",
       " '001110': -0.044944410108488465,\n",
       " '001111': 0.15880806024884253,\n",
       " '010000': 0.0,\n",
       " '010001': 0.10807404868885037,\n",
       " '010010': -0.16260381299342277,\n",
       " '010011': 0.20731618364228105,\n",
       " '010100': -0.025298221281347035,\n",
       " '010101': 0.3082207001484488,\n",
       " '010110': 0.1066770828247567,\n",
       " '010111': 0.13885243966167823,\n",
       " '011000': -0.06985699678629192,\n",
       " '011001': -0.2306512518934159,\n",
       " '011010': 0.05639148871948674,\n",
       " '011011': 0.24774987386475092,\n",
       " '011100': 0.14042791745233568,\n",
       " '011101': -0.06841052550594828,\n",
       " '011110': 0.042426406871192854,\n",
       " '011111': 0.1296148139681572,\n",
       " '100000': -0.00447213595499958,\n",
       " '100001': -0.06855654600401044,\n",
       " '100010': -0.0161245154965971,\n",
       " '100011': 0.23832750575625972,\n",
       " '100100': 0.0161245154965971,\n",
       " '100101': -0.1854723699099141,\n",
       " '100110': 0.01,\n",
       " '100111': 0.1636459593146131,\n",
       " '101000': 0.06324555320336758,\n",
       " '101001': 0.13813037319865606,\n",
       " '101010': 0.00447213595499958,\n",
       " '101011': 0.28527180021866866,\n",
       " '101100': -0.12907362240210044,\n",
       " '101101': 0.04049691346263317,\n",
       " '101110': 0.0,\n",
       " '101111': 0.1553061492665374,\n",
       " '110000': 0.0,\n",
       " '110001': 0.04171330722922842,\n",
       " '110010': -0.08111719916269299,\n",
       " '110011': 0.12735776379946376,\n",
       " '110100': -0.00894427190999916,\n",
       " '110101': 0.11670475568716127,\n",
       " '110110': 0.053851648071345036,\n",
       " '110111': 0.08774964387392122,\n",
       " '111000': -0.027202941017470887,\n",
       " '111001': -0.09197825830053535,\n",
       " '111010': 0.02683281572999748,\n",
       " '111011': 0.1489295135290517,\n",
       " '111100': 0.04626013402488151,\n",
       " '111101': -0.026457513110645904,\n",
       " '111110': 0.0232379000772445,\n",
       " '111111': 0.08330666239863412}"
      ]
     },
     "execution_count": 363,
     "metadata": {},
     "output_type": "execute_result"
    }
   ],
   "source": [
    "statevector_dictionary={}\n",
    "for e,key in enumerate(sign_dictionary):\n",
    "    statevector_dictionary[key]=sign_dictionary[key]*np.sqrt(statevector[e])\n",
    "\n",
    "statevector_dictionary"
   ]
  },
  {
   "cell_type": "markdown",
   "metadata": {},
   "source": [
    "# Eigenvectors reconstruction (2x2 matrix)\n"
   ]
  },
  {
   "cell_type": "code",
   "execution_count": 364,
   "metadata": {},
   "outputs": [
    {
     "data": {
      "text/plain": [
       "[array([ 0.        ,  0.        ,  0.        ,  0.        ,  0.        ,\n",
       "        -0.02529822, -0.069857  ,  0.14042792, -0.00447214,  0.01612452,\n",
       "         0.06324555, -0.12907362,  0.        , -0.00894427, -0.02720294,\n",
       "         0.04626013]),\n",
       " array([ 0.03741657,  0.10139033, -0.07496666, -0.02097618,  0.10807405,\n",
       "         0.3082207 , -0.23065125, -0.06841053, -0.06855655, -0.18547237,\n",
       "         0.13813037,  0.04049691,  0.04171331,  0.11670476, -0.09197826,\n",
       "        -0.02645751]),\n",
       " array([ 0.16976454, -0.11036304, -0.05761944, -0.04494441, -0.16260381,\n",
       "         0.10667708,  0.05639149,  0.04242641, -0.01612452,  0.01      ,\n",
       "         0.00447214,  0.        , -0.0811172 ,  0.05385165,  0.02683282,\n",
       "         0.0232379 ]),\n",
       " array([0.25099801, 0.16774981, 0.29161619, 0.15880806, 0.20731618,\n",
       "        0.13885244, 0.24774987, 0.12961481, 0.23832751, 0.16364596,\n",
       "        0.2852718 , 0.15530615, 0.12735776, 0.08774964, 0.14892951,\n",
       "        0.08330666])]"
      ]
     },
     "execution_count": 364,
     "metadata": {},
     "output_type": "execute_result"
    }
   ],
   "source": [
    "binary_lambda=[]\n",
    "for d in statevector_dictionary:\n",
    "    if statevector_dictionary[d]!=0:\n",
    "        binary_lambda.append(d[-resolution:])\n",
    "l_list=[]\n",
    "eigenvalues=[]\n",
    "for b_l in np.unique(binary_lambda):\n",
    "    eigenvalues.append(int(b_l[::-1],2))\n",
    "    tmp_list=[]\n",
    "    for key in list(statevector_dictionary.keys()):\n",
    "        if key[-resolution:]==b_l:\n",
    "            tmp_list.append(statevector_dictionary[key])\n",
    "    l_list.append(np.asarray(tmp_list))\n",
    "l_list"
   ]
  },
  {
   "cell_type": "code",
   "execution_count": 365,
   "metadata": {},
   "outputs": [],
   "source": [
    "for l in l_list:\n",
    "    normalization_factor=np.sqrt((1/(sum(l**2))))\n",
    "    l*=normalization_factor"
   ]
  },
  {
   "cell_type": "markdown",
   "metadata": {},
   "source": [
    "# Non eseguire le prossime celle-> si riferiscono ai conti fatti dopo"
   ]
  },
  {
   "cell_type": "code",
   "execution_count": 251,
   "metadata": {},
   "outputs": [
    {
     "data": {
      "text/plain": [
       "[array([ 0.02487923, -0.18736271,  0.01880693,  0.05719904, -0.10680283,\n",
       "         0.909369  , -0.09862437, -0.31413765, -0.01628728,  0.08669566,\n",
       "         0.        , -0.03118776,  0.        ,  0.06649254, -0.00940346,\n",
       "        -0.02487923]),\n",
       " array([ 0.88370213,  0.07377497, -0.4228159 ,  0.03393155,  0.01772018,\n",
       "         0.        ,  0.        ,  0.        ,  0.14395938,  0.01023075,\n",
       "        -0.05877117, -0.01023075,  0.08681077,  0.        , -0.03688749,\n",
       "        -0.01023075]),\n",
       " array([ 0.16746511, -0.07463575,  0.2775365 , -0.3508948 , -0.15862936,\n",
       "         0.06789746, -0.29854301,  0.3754879 , -0.08081414,  0.04157853,\n",
       "        -0.13148287,  0.16162829, -0.21336447,  0.11428846, -0.37497599,\n",
       "         0.50544481]),\n",
       " array([0.10582468, 0.11233706, 0.25719353, 0.21691459, 0.1532455 ,\n",
       "        0.16856757, 0.38357703, 0.33125843, 0.09255428, 0.09803553,\n",
       "        0.22772225, 0.18934909, 0.1831797 , 0.20604706, 0.4646188 ,\n",
       "        0.39553735])]"
      ]
     },
     "execution_count": 251,
     "metadata": {},
     "output_type": "execute_result"
    }
   ],
   "source": [
    "l_list"
   ]
  },
  {
   "cell_type": "code",
   "execution_count": 253,
   "metadata": {},
   "outputs": [
    {
     "data": {
      "text/plain": [
       "(array([3.00000000e+00, 2.00000000e+00, 1.00000000e+00, 1.38840214e-16]),\n",
       " array([[-0.27283206, -0.89909441,  0.32289714,  0.11370725],\n",
       "        [-0.30415742, -0.07818057, -0.14423829, -0.93838765],\n",
       "        [-0.69638872,  0.42791917,  0.56686168,  0.1029358 ],\n",
       "        [-0.58999464, -0.04901247, -0.74404341,  0.30968291]]))"
      ]
     },
     "execution_count": 253,
     "metadata": {},
     "output_type": "execute_result"
    }
   ],
   "source": [
    "np.linalg.eig(example_matrix)"
   ]
  },
  {
   "cell_type": "markdown",
   "metadata": {},
   "source": [
    "$$\\left|11\\right\\rangle(0.1058|0000\\rangle+0.1123|0001\\rangle+0.2571|0010\\rangle+0.2169|0011\\rangle+\n",
    "0.1532|0100\\rangle+0.1685|0101\\rangle+0.3835|0110\\rangle+0.3312|0111\\rangle+0.09255|1000\\rangle+0.09803|1001\\rangle+0.2277|1010\\rangle+0.1893|1011\\rangle+\n",
    "0.1831|1100\\rangle+0.2060|1101\\rangle+0.4646|1110\\rangle+0.3955|1111\\rangle) =$$\n",
    "\n",
    "$$\\left|11\\right\\rangle\\left[\\textbf{0.2571|00}\\rangle(0.41|00\\rangle+0.43|01\\rangle+|10\\rangle+0.84|11\\rangle)+\\\\\n",
    "\\textbf{0.3835|01}\\rangle(0.399|00\\rangle+0.48|01\\rangle+|10\\rangle+0.86|11\\rangle)+\\\\\n",
    "\\textbf{0.2277|01}\\rangle(0.40|00\\rangle+0.43|01\\rangle+|10\\rangle+0.83|11\\rangle)+\\\\\n",
    "\\textbf{0.4646|01}\\rangle(0.39|00\\rangle+0.44|01\\rangle+|10\\rangle+0.8|11\\rangle)\\right]\\\\\n",
    "$$\n",
    "\n",
    "$$\\sqrt{0.4646}=0.68 -> 3 posizione \n",
    "\\\\\n",
    "0.68*0.39=0.265-> 1 posizione\n",
    "\\\\\n",
    "0.68*0.44=0.29 -> 2 posizione\n",
    "\\\\\n",
    "0.68*0.8=0.54 -> 4 posizione\n",
    "$$\n",
    "\n",
    "\n",
    "\n",
    "\n",
    "$$\\left|10\\right\\rangle(0.1674|0000\\rangle-0.0746|0001\\rangle+0.27753|0010\\rangle-0.3508|0011\\rangle-0.1586|0100\\rangle+0.06789|0101\\rangle-0.2985|0110\\rangle+0.3754|0111\\rangle-0.08081|1000\\rangle+0.04157|1001\\rangle-0.1314|1010\\rangle+0.1616|1011\\rangle-0.2133|1100\\rangle+0.11428|1101\\rangle-0.3749|1110\\rangle+0.50544|1111\\rangle) =$$\n",
    "\n",
    "\n",
    "$$\\left|10\\right\\rangle\\left[\\textbf{0.3508|00}\\rangle(0.4771|00\\rangle-0.2126|01\\rangle+0.7911|10\\rangle-|11\\rangle)-\\\\\n",
    "\\textbf{0.3754|01}\\rangle(0.4224|00\\rangle-0.187|01\\rangle+0.7951|10\\rangle-|11\\rangle)-\\\\\n",
    "\\textbf{0.1616|10}\\rangle(0.50|00\\rangle-0.26|01\\rangle+0.8131|10\\rangle-|11\\rangle)-\\\\\n",
    "\\textbf{0.50544|10}\\rangle(0.42|00\\rangle-0.22|01\\rangle+0.75|10\\rangle-|11\\rangle)\\right]=\n",
    "$$\n",
    "\n",
    "\n",
    "$$\n",
    "\\sqrt{0.50544}=\\approx0.71 -> 4 posizione \n",
    "\\\\\n",
    "0.71*0.42=0.29-> 1 posizione\n",
    "\\\\\n",
    "0.68*0.22=0.15 -> 2 posizione\n",
    "\\\\\n",
    "0.68*0.75=... -> 3 posizione\n",
    "$$\n",
    "\n",
    "Magari possiamo fare una media dei vari rapporti. Per esempio: (0.4771+0.4224+0.50+0.42)/4=x. Dopodichè moltiplicare la radice del massimo dei massimi (0.71 in quest'ultimo caso) per x invece che per 0.42 per trovare il valore della prima posizione dell'eigenvector.\n",
    "\n",
    "Prendiamo sempre il massimo dei massimi perchè è quello che viene influenzato meno da eventuali errori di approssimazione (?)\n",
    "\n",
    "\n",
    "\n"
   ]
  },
  {
   "cell_type": "code",
   "execution_count": 284,
   "metadata": {},
   "outputs": [
    {
     "data": {
      "text/plain": [
       "[array([0.4241215 , 0.61471659, 0.37664376, 0.54807294]),\n",
       " array([ 0.81858522, -0.56242645, -0.09622978,  0.06583729])]"
      ]
     },
     "execution_count": 284,
     "metadata": {},
     "output_type": "execute_result"
    }
   ],
   "source": [
    "l_list"
   ]
  },
  {
   "cell_type": "code",
   "execution_count": 285,
   "metadata": {},
   "outputs": [
    {
     "data": {
      "text/plain": [
       "(array([3., 1.]),\n",
       " array([[ 0.82363923,  0.56711412],\n",
       "        [-0.56711412,  0.82363923]]))"
      ]
     },
     "execution_count": 285,
     "metadata": {},
     "output_type": "execute_result"
    }
   ],
   "source": [
    "np.linalg.eig(example_matrix)"
   ]
  },
  {
   "cell_type": "markdown",
   "metadata": {},
   "source": [
    "$$\\left|10\\right\\rangle(0.4241|00\\rangle+0.6147|01\\rangle+0.3766|10\\rangle+0.5480|11\\rangle) =$$\n",
    "\n",
    "$$\\left|10\\right\\rangle(0.6147|0\\rangle(0.689|0\\rangle+|1\\rangle)+0.5480|1\\rangle(0.687|0\\rangle+|1\\rangle)) =$$\n",
    "\n",
    "$$\\sqrt{0.6147}=0.7840 -> posizione 1$$ \n",
    "\n",
    "$$0.7840*0.689=0.5401 -> posizione 0$$\n",
    "\n",
    "\n"
   ]
  },
  {
   "cell_type": "markdown",
   "metadata": {},
   "source": [
    "# Eigenvectors Reconstruction (Generalized)"
   ]
  },
  {
   "cell_type": "code",
   "execution_count": 366,
   "metadata": {},
   "outputs": [
    {
     "name": "stdout",
     "output_type": "stream",
     "text": [
      "[0. 0. 0. 0.]\n",
      "eigenvalue: 0\n",
      "[ 0.27090012  0.77259088 -0.57815407 -0.1714789 ]\n",
      "eigenvalue: 2\n",
      "[ 0.73221997 -0.47601235 -0.2485213  -0.19385199]\n",
      "eigenvalue: 1\n",
      "[0.53170248 0.35535339 0.61774614 0.33641159]\n",
      "eigenvalue: 3\n"
     ]
    },
    {
     "name": "stderr",
     "output_type": "stream",
     "text": [
      "/var/folders/rr/g930v2cj1wvdzc257kclm3lm0000gn/T/ipykernel_2454/1929885127.py:12: RuntimeWarning: invalid value encountered in divide\n",
      "  scaled_statevectors.append(statevector[i:i+len(example_matrix)]/max_list[e])\n"
     ]
    }
   ],
   "source": [
    "#TODO: Capire se fare la media tra i vari fattori di rescaling\n",
    "eigenvectors=[]\n",
    "for ll, eig in zip(l_list,eigenvalues):\n",
    "    #print(ll,eig)\n",
    "    eigenvector=np.zeros(len(example_matrix)) #put length of eigenvector\n",
    "    save_sign=np.sign(ll)\n",
    "    statevector=abs(ll)\n",
    "    max_list=[]\n",
    "    scaled_statevectors=[]\n",
    "    for e,i in enumerate(range(0,len(statevector),len(example_matrix))):\n",
    "        max_list.append(max(statevector[i:i+len(example_matrix)]))\n",
    "        scaled_statevectors.append(statevector[i:i+len(example_matrix)]/max_list[e])\n",
    "        #print(max_list,scaled_statevectors)\n",
    "    idx_max=np.argmax(max_list)\n",
    "    #print(idx_max)\n",
    "    max_max=max_list[idx_max]\n",
    "    #print(max_max)\n",
    "    value=np.sqrt(max_max)\n",
    "    eigenvector=scaled_statevectors[idx_max]*value*save_sign[:len(example_matrix)]\n",
    "    eigenvectors.append(eigenvector)\n",
    "    print(eigenvector)\n",
    "    print('eigenvalue:', eig)\n",
    "    "
   ]
  },
  {
   "cell_type": "code",
   "execution_count": 367,
   "metadata": {},
   "outputs": [
    {
     "data": {
      "text/plain": [
       "(array([3.0000000e+00, 2.0000000e+00, 1.0000000e+00, 9.5434856e-18]),\n",
       " array([[ 0.55617948,  0.26777686, -0.78654626,  0.01746168],\n",
       "        [ 0.3679565 ,  0.76217732,  0.51680786, -0.12885411],\n",
       "        [ 0.65506373, -0.56560509,  0.26115655, -0.42752737],\n",
       "        [ 0.35519559, -0.16574731,  0.21459699,  0.89460162]]))"
      ]
     },
     "execution_count": 367,
     "metadata": {},
     "output_type": "execute_result"
    }
   ],
   "source": [
    "np.linalg.eig(example_matrix)"
   ]
  },
  {
   "cell_type": "markdown",
   "metadata": {},
   "source": [
    "## 1st matrix_example"
   ]
  },
  {
   "cell_type": "code",
   "execution_count": 501,
   "metadata": {
    "jupyter": {
     "source_hidden": true
    }
   },
   "outputs": [
    {
     "data": {
      "text/plain": [
       "({'0001': 0.4063074844837685,\n",
       "  '0101': -0.4947759382402847,\n",
       "  '1001': -0.48985675123506794,\n",
       "  '1101': 0.5917358889406178},\n",
       " {'0011': 0.5898840122966107,\n",
       "  '0111': 0.49452547412185405,\n",
       "  '1011': 0.4915537016695547,\n",
       "  '1111': 0.4072546695329175},\n",
       " (array([3., 1.]),\n",
       "  array([[ 0.76746056, -0.64109616],\n",
       "         [ 0.64109616,  0.76746056]])))"
      ]
     },
     "execution_count": 501,
     "metadata": {},
     "output_type": "execute_result"
    }
   ],
   "source": [
    "norm_up=np.sqrt((1/(sum(np.asarray(list(statevector_dictionary_up_threshold.values()))**2))))\n",
    "norm_down=np.sqrt((1/(sum(np.asarray(list(statevector_dictionary_down_threshold.values()))**2))))\n",
    "for k in statevector_dictionary_up_threshold:\n",
    "    statevector_dictionary_up_threshold[k]*=norm_up\n",
    "    \n",
    "    \n",
    "for k_d in statevector_dictionary_down_threshold:\n",
    "    statevector_dictionary_down_threshold[k_d]*=norm_down\n",
    "statevector_dictionary_up_threshold,statevector_dictionary_down_threshold, np.linalg.eig(example_matrix)"
   ]
  },
  {
   "cell_type": "markdown",
   "metadata": {},
   "source": [
    "$$\\left|01\\right\\rangle(0.4063|00\\rangle-0.4947|01\\rangle-0.4898|10\\rangle+0.5917|11\\rangle) =$$\n",
    "\n",
    "$$\\left|01\\right\\rangle(0.4063|0\\rangle(|0\\rangle-1.21|1\\rangle)-0.4898|1\\rangle(|0\\rangle-x|1\\rangle)) =$$\n",
    "\n",
    "$$\\left|01\\right\\rangle((0.4063|0\\rangle-0.4898|1\\rangle)(|0\\rangle-x|1\\rangle)) =$$\n",
    "\n",
    "$$\\left|01\\right\\rangle(0.4063(|0\\rangle-y|1\\rangle)(|0\\rangle-x|1\\rangle)) =>$$\n",
    "\n",
    "$$\\sqrt{0.5917}=0.7692$$\n",
    "\n",
    "$$0.7692*\\approx0.8*\\text{sign}\\left|1\\right\\rangle=-0.6153$$\n",
    "\n",
    "\n"
   ]
  },
  {
   "cell_type": "code",
   "execution_count": null,
   "metadata": {},
   "outputs": [],
   "source": []
  },
  {
   "cell_type": "markdown",
   "metadata": {},
   "source": [
    "$$\\left|11\\right\\rangle(0.5898|00\\rangle+0.4945|01\\rangle+0.4915|10\\rangle+0.4072|11\\rangle) =$$\n",
    "\n",
    "$$\\left|11\\right\\rangle(0.5898|0\\rangle(|0\\rangle+0.83|1\\rangle)+0.4915|1\\rangle(|0\\rangle+0.83|1\\rangle)) =$$\n",
    "\n",
    "$$\\left|11\\right\\rangle((0.5898|0\\rangle+0.4915|1\\rangle)(|0\\rangle+0.83|1\\rangle)) =$$\n",
    "\n",
    "$$\\left|11\\right\\rangle(0.5898(|0\\rangle+0.83|1\\rangle)(|0\\rangle+0.83|1\\rangle)) =>$$\n",
    "\n",
    "$$\\sqrt{0.5898}=0.7679$$\n",
    "\n",
    "$$0.7679*\\approx0.8*\\text{sign}\\left|0\\right\\rangle=0.6143$$\n",
    "\n",
    "\n"
   ]
  },
  {
   "cell_type": "markdown",
   "metadata": {},
   "source": [
    "## 2nd matrix_example"
   ]
  },
  {
   "cell_type": "markdown",
   "metadata": {},
   "source": [
    "$$\\left|01\\right\\rangle(0.1272|00\\rangle-0.3143|01\\rangle-0.3203|10\\rangle+0.8845|11\\rangle) =$$\n",
    "\n",
    "$$\\left|01\\right\\rangle(0.3143|0\\rangle(0.40|0\\rangle-|1\\rangle)-0.8845|1\\rangle(0.36|0\\rangle-|1\\rangle)) =$$\n",
    "\n",
    "$$\\left|01\\right\\rangle((0.3143|0\\rangle-0.8845|1\\rangle)(0.4|0\\rangle-|1\\rangle)) =$$\n",
    "\n",
    "$$\\left|01\\right\\rangle(0.8845(0.36|0\\rangle-|1\\rangle)(0.4|0\\rangle-|1\\rangle)) =>$$\n",
    "\n",
    "$$\\sqrt{0.8845}=0.9404$$\n",
    "\n",
    "$$0.9404*\\approx0.4*\\text{sign}\\left|1\\right\\rangle=-0.3761$$\n",
    "\n",
    "\n"
   ]
  },
  {
   "cell_type": "markdown",
   "metadata": {},
   "source": [
    "## 3d matrix_example"
   ]
  },
  {
   "cell_type": "code",
   "execution_count": 643,
   "metadata": {
    "jupyter": {
     "source_hidden": true
    }
   },
   "outputs": [
    {
     "data": {
      "text/plain": [
       "({'0001': 0.36710092124099825,\n",
       "  '0101': 0.6614992335357107,\n",
       "  '1001': 0.3149078628268718,\n",
       "  '1101': 0.5731393509308969},\n",
       " {'0011': 0.8721533545579773,\n",
       "  '0111': -0.4889160360072559,\n",
       "  '1011': 0.013630169512202875,\n",
       "  '1111': -0.011128986804178979},\n",
       " (array([3., 1.]),\n",
       "  array([[ 0.87370608,  0.4864542 ],\n",
       "         [-0.4864542 ,  0.87370608]])))"
      ]
     },
     "execution_count": 643,
     "metadata": {},
     "output_type": "execute_result"
    }
   ],
   "source": [
    "norm_up=np.sqrt((1/(sum(np.asarray(list(statevector_dictionary_up_threshold.values()))**2))))\n",
    "norm_down=np.sqrt((1/(sum(np.asarray(list(statevector_dictionary_down_threshold.values()))**2))))\n",
    "for k in statevector_dictionary_up_threshold:\n",
    "    statevector_dictionary_up_threshold[k]*=norm_up\n",
    "    \n",
    "    \n",
    "for k_d in statevector_dictionary_down_threshold:\n",
    "    statevector_dictionary_down_threshold[k_d]*=norm_down\n",
    "statevector_dictionary_up_threshold,statevector_dictionary_down_threshold, np.linalg.eig(example_matrix)"
   ]
  },
  {
   "cell_type": "markdown",
   "metadata": {},
   "source": [
    "$$\\left|01\\right\\rangle(0.3671|00\\rangle+0.6614|01\\rangle+0.3149|10\\rangle+0.5731|11\\rangle) =$$\n",
    "\n",
    "$$\\left|01\\right\\rangle(0.6614|0\\rangle(0.55|0\\rangle+|1\\rangle)+0.5731|1\\rangle(0.55|0\\rangle+|1\\rangle)) =$$\n",
    "\n",
    "$$\\left|01\\right\\rangle((0.6614|0\\rangle+0.5731|1\\rangle)(0.55|0\\rangle+|1\\rangle)) =$$\n",
    "\n",
    "$$\\left|01\\right\\rangle(0.6614(|0\\rangle+\\approx0.8|1\\rangle)(0.55|0\\rangle-|1\\rangle)) =>$$\n",
    "\n",
    "$$\\sqrt{0.6614}=\\approx0.81$$\n",
    "\n",
    "$$0.81*\\approx0.55*\\text{sign}\\left|1\\right\\rangle=\\approx0.44$$\n",
    "\n",
    "\n"
   ]
  },
  {
   "cell_type": "markdown",
   "metadata": {},
   "source": [
    "$$\\left|11\\right\\rangle(0.8721|00\\rangle-0.4889|01\\rangle+0.0136|10\\rangle-0.0111|11\\rangle) =$$\n",
    "\n",
    "$$\\left|11\\right\\rangle(0.8721|0\\rangle(|0\\rangle-\\approx0.5|1\\rangle)+0.0136|1\\rangle(|0\\rangle-\\approx0.8|1\\rangle)) =$$\n",
    "\n",
    "$$\\left|11\\right\\rangle((0.8721|0\\rangle+0.0136|1\\rangle)(|0\\rangle-\\approx0.5|1\\rangle)) =$$\n",
    "\n",
    "$$\\left|11\\right\\rangle(0.8721(|0\\rangle+0.0155|1\\rangle)(|0\\rangle-0.5|1\\rangle)) =>$$\n",
    "\n",
    "$$\\sqrt{0.8721}=\\approx0.93$$\n",
    "\n",
    "$$0.93*\\approx0.5*\\text{sign}\\left|0\\right\\rangle=\\approx0.44$$\n",
    "\n",
    "\n"
   ]
  },
  {
   "cell_type": "markdown",
   "metadata": {},
   "source": [
    "## 4th matrix_example"
   ]
  },
  {
   "cell_type": "code",
   "execution_count": 672,
   "metadata": {
    "jupyter": {
     "source_hidden": true
    }
   },
   "outputs": [
    {
     "data": {
      "text/plain": [
       "({'0001': 0.06844207564752064,\n",
       "  '0101': -0.2434477406836873,\n",
       "  '1001': -0.26237207143606917,\n",
       "  '1101': 0.9312409870529826},\n",
       " {'0011': 0.9317470599478411,\n",
       "  '0111': 0.2529050552183149,\n",
       "  '1011': 0.251498062074687,\n",
       "  '1111': 0.06808211289503242},\n",
       " (array([3., 1.]),\n",
       "  array([[ 0.96521162, -0.26146994],\n",
       "         [ 0.26146994,  0.96521162]])))"
      ]
     },
     "execution_count": 672,
     "metadata": {},
     "output_type": "execute_result"
    }
   ],
   "source": [
    "norm_up=np.sqrt((1/(sum(np.asarray(list(statevector_dictionary_up_threshold.values()))**2))))\n",
    "norm_down=np.sqrt((1/(sum(np.asarray(list(statevector_dictionary_down_threshold.values()))**2))))\n",
    "for k in statevector_dictionary_up_threshold:\n",
    "    statevector_dictionary_up_threshold[k]*=norm_up\n",
    "    \n",
    "    \n",
    "for k_d in statevector_dictionary_down_threshold:\n",
    "    statevector_dictionary_down_threshold[k_d]*=norm_down\n",
    "statevector_dictionary_up_threshold,statevector_dictionary_down_threshold, np.linalg.eig(example_matrix)"
   ]
  },
  {
   "cell_type": "markdown",
   "metadata": {},
   "source": [
    "$$\\left|11\\right\\rangle(0.93|00\\rangle+0.25|01\\rangle+0.25|10\\rangle+0.068|11\\rangle) =$$\n",
    "\n",
    "$$\\left|11\\right\\rangle(0.93|0\\rangle(|0\\rangle+\\approx0.26|1\\rangle)+0.25|1\\rangle(|0\\rangle+0.2|1\\rangle)) =$$\n",
    "\n",
    "$$\\left|11\\right\\rangle((0.93|0\\rangle+0.25|1\\rangle)(|0\\rangle+\\approx0.2|1\\rangle)) =$$\n",
    "\n",
    "$$\\left|11\\right\\rangle(0.93(|0\\rangle+0.2|1\\rangle)(|0\\rangle+0.2|1\\rangle)) =>$$\n",
    "\n",
    "$$\\sqrt{0.93}=\\approx0.96$$\n",
    "\n",
    "$$0.96*\\approx0.2*\\text{sign}\\left|0\\right\\rangle=\\approx0.25$$\n",
    "\n",
    "\n"
   ]
  }
 ],
 "metadata": {
  "kernelspec": {
   "display_name": "Python 3 (ipykernel)",
   "language": "python",
   "name": "python3"
  },
  "language_info": {
   "codemirror_mode": {
    "name": "ipython",
    "version": 3
   },
   "file_extension": ".py",
   "mimetype": "text/x-python",
   "name": "python",
   "nbconvert_exporter": "python",
   "pygments_lexer": "ipython3",
   "version": "3.8.11"
  },
  "vscode": {
   "interpreter": {
    "hash": "3820477eeda6a2056d25dbf35341ad4ea495fec12a885dc74045ce43b88b4168"
   }
  }
 },
 "nbformat": 4,
 "nbformat_minor": 4
}
