{
 "cells": [
  {
   "cell_type": "markdown",
   "metadata": {},
   "source": [
    "### Example taken from *A Low-Complexity Quantum Principal Component Analysis Algorithm*\n",
    "https://doi.org/10.1109/TQE.2021.3140152"
   ]
  },
  {
   "cell_type": "code",
   "execution_count": 1,
   "metadata": {},
   "outputs": [
    {
     "name": "stdout",
     "output_type": "stream",
     "text": [
      "[0.45 0.05 0.05 0.45]\n"
     ]
    }
   ],
   "source": [
    "import numpy as np\n",
    "import itertools\n",
    "from qiskit_experiments.library import StateTomography\n",
    "from qiskit.visualization import plot_state_city\n",
    "import qiskit.quantum_info as qi\n",
    "from qiskit.visualization import plot_histogram\n",
    "\n",
    "example_matrix = np.array([[1.5, 0.5], [0.5, 1.5]])\n",
    "#example_matrix=np.array([[3.81,0.47],[9.31,5.55]])\n",
    "#example_matrix=np.dot(example_matrix,example_matrix.T)\n",
    "# example_matrix = np.dot(np.array([[1.3, 0.35], [0.4, 1.1]]),np.array([[1.3, 0.35], [0.4, 1.1]]).T)\n",
    "big_example_matrix = np.array([[0, 0, 0, 0], [0, 1, 0, 0], [0, 0, 2, 0], [0, 0, 0, 3]])\n",
    "\n",
    "sum_squares = (example_matrix**2).sum()\n",
    "input_probabilities = (example_matrix**2/sum_squares).flatten()\n",
    "\n",
    "print(input_probabilities)"
   ]
  },
  {
   "cell_type": "code",
   "execution_count": 2,
   "metadata": {},
   "outputs": [
    {
     "ename": "NameError",
     "evalue": "name 'example_matrix1' is not defined",
     "output_type": "error",
     "traceback": [
      "\u001b[0;31m---------------------------------------------------------------------------\u001b[0m",
      "\u001b[0;31mNameError\u001b[0m                                 Traceback (most recent call last)",
      "Input \u001b[0;32mIn [2]\u001b[0m, in \u001b[0;36m<cell line: 1>\u001b[0;34m()\u001b[0m\n\u001b[0;32m----> 1\u001b[0m np\u001b[38;5;241m.\u001b[39mlinalg\u001b[38;5;241m.\u001b[39meig(\u001b[43mexample_matrix1\u001b[49m),np\u001b[38;5;241m.\u001b[39mlinalg\u001b[38;5;241m.\u001b[39meig(example_matrix2)\n",
      "\u001b[0;31mNameError\u001b[0m: name 'example_matrix1' is not defined"
     ]
    }
   ],
   "source": [
    "np.linalg.eig(example_matrix1),np.linalg.eig(example_matrix2)"
   ]
  },
  {
   "cell_type": "markdown",
   "metadata": {},
   "source": [
    "as an example, whose quantum state is given by\n",
    "$$\\left|\\psi_{A_0}\\right\\rangle=\\frac{3}{\\sqrt{20}}|00\\rangle+\\frac{1}{\\sqrt{20}}|01\\rangle+\\frac{1}{\\sqrt{20}}|10\\rangle+\\frac{3}{\\sqrt{20}}|11\\rangle .$$\n",
    "\n",
    "Note that the eigenvalues and the corresponding eigenvectors obtained by classical PCA are given by\n",
    "$$\\lambda_1=2, u_1=[1,1]^T$$\n",
    "$$\\lambda_2=1, u_2=[−1,1]^T.$$\n",
    "\n",
    "Note: $[1, 0]^T = |0〉$ and $[0, 1]^T = |1〉.$ \n",
    "\n",
    "When we take a threshold τ=1.1 for eigenvalues, the eigenvalue in binary $|λ_1〉=|10〉$ and the corresponding eigenvector $|u_1〉=[1,1]^T=\\frac{1}{\\sqrt{2}}|0〉+\\frac{1}{\\sqrt{2}}|1〉$ are considered as principal components. Therefore, the output of the proposed algorithm should be given by\n",
    "\n",
    "$$\\begin{aligned}\n",
    "\\left|\\psi_A^{\\prime}\\right\\rangle &=\\left|\\lambda_1\\right\\rangle\\left|u_1\\right\\rangle\\left|u_1\\right\\rangle \\\\\n",
    "&=|10\\rangle \\otimes\\left(\\frac{1}{\\sqrt{2}}|0\\rangle+\\frac{1}{\\sqrt{2}}|1\\rangle\\right) \\otimes\\left(\\frac{1}{\\sqrt{2}}|0\\rangle+\\frac{1}{\\sqrt{2}}|1\\rangle\\right) \\\\\n",
    "&=\\frac{1}{2}|1000\\rangle+\\frac{1}{2}|1001\\rangle+\\frac{1}{2}|1010\\rangle+\\frac{1}{2}|1011\\rangle .\n",
    "\\end{aligned}$$"
   ]
  },
  {
   "cell_type": "code",
   "execution_count": 2,
   "metadata": {},
   "outputs": [
    {
     "name": "stdout",
     "output_type": "stream",
     "text": [
      "0 -> 0.7071067811865476\n",
      "1 -> 0.7071067811865476\n",
      "00 -> 0.6708203932499369\n",
      "01 -> 0.22360679774997896\n",
      "10 -> 0.22360679774997896\n",
      "11 -> 0.6708203932499369\n"
     ]
    },
    {
     "data": {
      "text/plain": [
       "[1.5707963267948966,\n",
       " 1.5707963267948968,\n",
       " 0.6435011087932846,\n",
       " 0.6435011087932843,\n",
       " 2.498091544796509,\n",
       " 2.498091544796509]"
      ]
     },
     "execution_count": 2,
     "metadata": {},
     "output_type": "execute_result"
    }
   ],
   "source": [
    "#Tommaso's great code for computing the thetas\n",
    "\n",
    "lst_combination=[]\n",
    "\n",
    "for k in range(1, len(example_matrix)+1):\n",
    "    lst_combination.append(list(map(list, itertools.product([0, 1], repeat=k))))\n",
    "container=[]\n",
    "for lst in lst_combination:\n",
    "    container.append([''.join([''.join(str(j)) for j in i]) for i in lst])\n",
    "all_combinations=[item for c in container for item in c]\n",
    "\n",
    "general_bitstring=[''.join([''.join(str(j)) for j in i]) for i in list(map(list, itertools.product([0, 1], repeat=len(example_matrix))))]\n",
    "\n",
    "#Nodes contains all the values of the tree (except for the root)\n",
    "nodes=[]\n",
    "for st in all_combinations:\n",
    "    #print(st)\n",
    "    starts = [general_bitstring.index(l) for l in general_bitstring if l.startswith(st)]\n",
    "    #print(starts)\n",
    "    print(st,'->',np.sqrt(input_probabilities[starts].sum()))\n",
    "    nodes.append(np.sqrt(input_probabilities[starts].sum()))\n",
    "\n",
    "#add root tree\n",
    "nodes.insert(0, 1)\n",
    "\n",
    "idx_sub=1\n",
    "thetas=[]\n",
    "for i in range(len(nodes)-len(input_probabilities)):\n",
    "    right_node=i+idx_sub\n",
    "    left_node=right_node+1\n",
    "    #print(left_node,right_node)\n",
    "    if nodes[i]!=0:\n",
    "        #print(nodes[right_node],nodes[i])\n",
    "        thetas.append(2*np.arccos(nodes[right_node]/nodes[i]))\n",
    "        thetas.append(2*np.arcsin(nodes[left_node]/nodes[i]))\n",
    "    else:\n",
    "        thetas.append(0)\n",
    "        thetas.append(0)\n",
    "        \n",
    "    idx_sub+=1\n",
    "\n",
    "# SUB = str.maketrans(\"0123456789\", \"₀₁₂₃₄₅₆₇₈₉\")\n",
    "\n",
    "# for idx,th in zip(all_combinations,thetas):\n",
    "#     print('\\u03F4(R{})'.format((str(idx).translate(SUB))),'->', th)\n",
    "thetas"
   ]
  },
  {
   "cell_type": "code",
   "execution_count": 3,
   "metadata": {},
   "outputs": [],
   "source": [
    "from qiskit.circuit.library.standard_gates import RYGate\n",
    "\n",
    "def generate_qram_circuit(thetas, all_combinations):\n",
    "    \n",
    "    right_nodes_indexes=list(range(0,len(thetas),2))\n",
    "    rotations_list=list(zip(np.array(all_combinations)[right_nodes_indexes],np.array(thetas)[right_nodes_indexes]))\n",
    "\n",
    "    qc=QuantumCircuit(len(example_matrix))\n",
    "\n",
    "    for r_l in rotations_list:\n",
    "        target_qubit=len(r_l[0])-1\n",
    "        \n",
    "        #First case of R_0\n",
    "        if target_qubit==0:\n",
    "            qc.ry(theta=r_l[1],qubit=target_qubit)\n",
    "            continue\n",
    "            \n",
    "        not_gate=[]\n",
    "        for qb in range(target_qubit):\n",
    "            if r_l[0][qb]=='0':\n",
    "                not_gate.append(qb)\n",
    "                \n",
    "        c_t_qubits=list(range(len(r_l[0])))\n",
    "        n_controls=len(range(target_qubit))\n",
    "        \n",
    "        if len(not_gate)>0:\n",
    "            qc.x(not_gate)\n",
    "            c_ry = RYGate(r_l[1]).control(n_controls)\n",
    "            qc.append(c_ry, c_t_qubits)\n",
    "            qc.x(not_gate)\n",
    "        else:\n",
    "            c_ry = RYGate(r_l[1]).control(n_controls)\n",
    "            qc.append(c_ry, c_t_qubits)\n",
    "    return qc"
   ]
  },
  {
   "cell_type": "code",
   "execution_count": 4,
   "metadata": {},
   "outputs": [
    {
     "data": {
      "text/html": [
       "<pre style=\"word-wrap: normal;white-space: pre;background: #fff0;line-height: 1.1;font-family: &quot;Courier New&quot;,Courier,monospace\">     ┌─────────┐┌───┐              ┌───┐              \n",
       "q_0: ┤ Ry(π/2) ├┤ X ├──────■───────┤ X ├──────■───────\n",
       "     └─────────┘└───┘┌─────┴──────┐└───┘┌─────┴──────┐\n",
       "q_1: ────────────────┤ Ry(0.6435) ├─────┤ Ry(2.4981) ├\n",
       "                     └────────────┘     └────────────┘</pre>"
      ],
      "text/plain": [
       "     ┌─────────┐┌───┐              ┌───┐              \n",
       "q_0: ┤ Ry(π/2) ├┤ X ├──────■───────┤ X ├──────■───────\n",
       "     └─────────┘└───┘┌─────┴──────┐└───┘┌─────┴──────┐\n",
       "q_1: ────────────────┤ Ry(0.6435) ├─────┤ Ry(2.4981) ├\n",
       "                     └────────────┘     └────────────┘"
      ]
     },
     "execution_count": 4,
     "metadata": {},
     "output_type": "execute_result"
    }
   ],
   "source": [
    "from qiskit import QuantumRegister, ClassicalRegister, QuantumCircuit\n",
    "\n",
    "matrix_circuit = generate_qram_circuit(thetas, all_combinations)\n",
    "\n",
    "matrix_circuit.draw()\n"
   ]
  },
  {
   "cell_type": "code",
   "execution_count": 5,
   "metadata": {},
   "outputs": [
    {
     "name": "stderr",
     "output_type": "stream",
     "text": [
      "/opt/miniconda3/envs/EAGLE_environment/lib/python3.8/site-packages/numpy/linalg/linalg.py:2154: RuntimeWarning: divide by zero encountered in det\n",
      "  r = _umath_linalg.det(a, signature=signature)\n",
      "/opt/miniconda3/envs/EAGLE_environment/lib/python3.8/site-packages/numpy/linalg/linalg.py:2154: RuntimeWarning: invalid value encountered in det\n",
      "  r = _umath_linalg.det(a, signature=signature)\n"
     ]
    },
    {
     "data": {
      "text/plain": [
       "{'00': 0.45, '01': 0.05, '10': 0.05, '11': 0.45}"
      ]
     },
     "execution_count": 5,
     "metadata": {},
     "output_type": "execute_result"
    }
   ],
   "source": [
    "from qiskit import Aer, transpile, execute\n",
    "from qiskit.visualization import plot_histogram\n",
    "\n",
    "backend = Aer.get_backend(\"statevector_simulator\")\n",
    "job = backend.run(transpile(matrix_circuit, backend=backend))\n",
    "job.result().get_counts()\n"
   ]
  },
  {
   "cell_type": "code",
   "execution_count": 6,
   "metadata": {},
   "outputs": [],
   "source": [
    "# from scipy.linalg import expm\n",
    "# from qiskit.quantum_info.operators import Operator\n",
    "\n",
    "# U  = expm(big_matrix*(2*np.pi*1j/4))\n",
    "# np.set_printoptions(suppress=True)\n",
    "# operator_U = Operator(U)\n",
    "# operator_U"
   ]
  },
  {
   "cell_type": "code",
   "execution_count": 7,
   "metadata": {},
   "outputs": [
    {
     "name": "stderr",
     "output_type": "stream",
     "text": [
      "/var/folders/rr/g930v2cj1wvdzc257kclm3lm0000gn/T/ipykernel_4530/963539654.py:4: DeprecationWarning: The NumPyMatrix class is deprecated as of Qiskit Terra 0.22.0 and will be removed no sooner than 3 months after the release date. \n",
      "  u_circuit = NumPyMatrix(example_matrix, evolution_time=2*np.pi/4)\n"
     ]
    },
    {
     "data": {
      "text/plain": [
       "Operator([[-0.5+0.5j, -0.5-0.5j],\n",
       "          [-0.5-0.5j, -0.5+0.5j]],\n",
       "         input_dims=(2,), output_dims=(2,))"
      ]
     },
     "execution_count": 7,
     "metadata": {},
     "output_type": "execute_result"
    }
   ],
   "source": [
    "from qiskit.algorithms.linear_solvers.matrices.numpy_matrix import NumPyMatrix\n",
    "\n",
    "unitary_backend = Aer.get_backend(\"unitary_simulator\")\n",
    "u_circuit = NumPyMatrix(example_matrix, evolution_time=2*np.pi/4)\n",
    "unitary_job = unitary_backend.run(transpile(u_circuit, backend=unitary_backend))\n",
    "unitary_job.result().get_unitary()"
   ]
  },
  {
   "cell_type": "code",
   "execution_count": 8,
   "metadata": {},
   "outputs": [
    {
     "data": {
      "image/png": "[encoded data removed]",
      "text/plain": [
       "<Figure size 658.969x204.68 with 1 Axes>"
      ]
     },
     "execution_count": 8,
     "metadata": {},
     "output_type": "execute_result"
    }
   ],
   "source": [
    "from qiskit.circuit.library import PhaseEstimation\n",
    "\n",
    "resolution = 2\n",
    "pe = PhaseEstimation(resolution, u_circuit, name = \"PE\")\n",
    "pe.decompose().draw(\"mpl\")"
   ]
  },
  {
   "cell_type": "markdown",
   "metadata": {},
   "source": [
    "# Check Statevector"
   ]
  },
  {
   "cell_type": "code",
   "execution_count": 9,
   "metadata": {},
   "outputs": [
    {
     "data": {
      "image/png": "[encoded data removed]",
      "text/plain": [
       "<Figure size 662.867x264.88 with 1 Axes>"
      ]
     },
     "execution_count": 9,
     "metadata": {},
     "output_type": "execute_result"
    }
   ],
   "source": [
    "tot_qubit = resolution+len(example_matrix)\n",
    "\n",
    "qr_total = QuantumRegister(tot_qubit, 'total')\n",
    "# classical = ClassicalRegister(4, 'measure')\n",
    "\n",
    "total_circuit = QuantumCircuit(qr_total , name='matrix')\n",
    "\n",
    "total_circuit.append(matrix_circuit.to_gate(), qr_total[resolution:])\n",
    "total_circuit.append(pe.to_gate(), qr_total[0:pe.num_qubits])\n",
    "# total_circuit.measure(qr_total[:2], classical[:])\n",
    "total_circuit.swap(qr_total[0],qr_total[1])\n",
    "#total_circuit.measure_all()\n",
    "\n",
    "total_circuit.decompose(reps=1).draw(\"mpl\")"
   ]
  },
  {
   "cell_type": "code",
   "execution_count": 10,
   "metadata": {},
   "outputs": [],
   "source": [
    "from qiskit.visualization import plot_histogram\n",
    "\n",
    "backend_total = Aer.get_backend(\"statevector_simulator\")\n",
    "job = backend_total.run(transpile(total_circuit, backend=backend_total))\n",
    "statevector = np.asarray(job.result().get_statevector()).round(4)\n",
    "#plot_histogram(counts)"
   ]
  },
  {
   "cell_type": "code",
   "execution_count": 11,
   "metadata": {},
   "outputs": [
    {
     "data": {
      "text/plain": [
       "['0000',\n",
       " '0001',\n",
       " '0010',\n",
       " '0011',\n",
       " '0100',\n",
       " '0101',\n",
       " '0110',\n",
       " '0111',\n",
       " '1000',\n",
       " '1001',\n",
       " '1010',\n",
       " '1011',\n",
       " '1100',\n",
       " '1101',\n",
       " '1110',\n",
       " '1111']"
      ]
     },
     "execution_count": 11,
     "metadata": {},
     "output_type": "execute_result"
    }
   ],
   "source": [
    "bitstrings=[''.join([''.join(str(j)) for j in i]) for i in list(map(list, itertools.product([0, 1], repeat=4)))]\n",
    "bitstrings"
   ]
  },
  {
   "cell_type": "code",
   "execution_count": 12,
   "metadata": {},
   "outputs": [],
   "source": [
    "def attach_bitstrings(vector):\n",
    "    return list(zip(bitstrings, vector))"
   ]
  },
  {
   "cell_type": "code",
   "execution_count": 13,
   "metadata": {},
   "outputs": [
    {
     "data": {
      "text/plain": [
       "[('0000', 0j),\n",
       " ('0001', (0.2236+0j)),\n",
       " ('0010', (0.4472-0j)),\n",
       " ('0011', 0j),\n",
       " ('0100', 0j),\n",
       " ('0101', (-0.2236+0j)),\n",
       " ('0110', (0.4472-0j)),\n",
       " ('0111', 0j),\n",
       " ('1000', 0j),\n",
       " ('1001', (-0.2236+0j)),\n",
       " ('1010', (0.4472-0j)),\n",
       " ('1011', 0j),\n",
       " ('1100', 0j),\n",
       " ('1101', (0.2236+0j)),\n",
       " ('1110', (0.4472-0j)),\n",
       " ('1111', 0j)]"
      ]
     },
     "execution_count": 13,
     "metadata": {},
     "output_type": "execute_result"
    }
   ],
   "source": [
    "attach_bitstrings(statevector)"
   ]
  },
  {
   "cell_type": "markdown",
   "metadata": {},
   "source": [
    "# Computing Probabilities"
   ]
  },
  {
   "cell_type": "code",
   "execution_count": 14,
   "metadata": {},
   "outputs": [
    {
     "data": {
      "image/png": "[encoded data removed]",
      "text/plain": [
       "<Figure size 963.867x325.08 with 1 Axes>"
      ]
     },
     "execution_count": 14,
     "metadata": {},
     "output_type": "execute_result"
    }
   ],
   "source": [
    "tot_qubit = resolution+len(example_matrix)\n",
    "\n",
    "qr_total = QuantumRegister(tot_qubit, 'total')\n",
    "# classical = ClassicalRegister(4, 'measure')\n",
    "\n",
    "total_circuit_1 = QuantumCircuit(qr_total , name='matrix')\n",
    "\n",
    "total_circuit_1.append(matrix_circuit.to_gate(), qr_total[resolution:])\n",
    "total_circuit_1.append(pe.to_gate(), qr_total[0:pe.num_qubits])\n",
    "# total_circuit.measure(qr_total[:2], classical[:])\n",
    "total_circuit_1.swap(qr_total[0],qr_total[1])\n",
    "total_circuit_1.measure_all()\n",
    "\n",
    "total_circuit_1.decompose(reps=1).draw(\"mpl\")"
   ]
  },
  {
   "cell_type": "code",
   "execution_count": 15,
   "metadata": {},
   "outputs": [
    {
     "data": {
      "image/png": "[encoded data removed]",
      "text/plain": [
       "<Figure size 504x360 with 1 Axes>"
      ]
     },
     "execution_count": 15,
     "metadata": {},
     "output_type": "execute_result"
    }
   ],
   "source": [
    "n_shots=5000\n",
    "backend_total = Aer.get_backend(\"qasm_simulator\")\n",
    "job = backend_total.run(transpile(total_circuit_1, backend=backend_total), shots=n_shots)\n",
    "counts = job.result().get_counts()\n",
    "plot_histogram(counts)"
   ]
  },
  {
   "cell_type": "markdown",
   "metadata": {},
   "source": [
    "# Storing probabilities"
   ]
  },
  {
   "cell_type": "code",
   "execution_count": 16,
   "metadata": {},
   "outputs": [
    {
     "data": {
      "text/plain": [
       "{'1101': 0.0478,\n",
       " '0101': 0.0504,\n",
       " '1001': 0.0544,\n",
       " '1010': 0.1972,\n",
       " '0110': 0.2064,\n",
       " '0001': 0.0526,\n",
       " '1110': 0.1888,\n",
       " '0010': 0.2024}"
      ]
     },
     "execution_count": 16,
     "metadata": {},
     "output_type": "execute_result"
    }
   ],
   "source": [
    "for i in counts:\n",
    "    counts[i]/=n_shots\n",
    "counts"
   ]
  },
  {
   "cell_type": "code",
   "execution_count": 17,
   "metadata": {},
   "outputs": [
    {
     "data": {
      "text/plain": [
       "array([0.    , 0.0526, 0.2024, 0.    , 0.    , 0.0504, 0.2064, 0.    ,\n",
       "       0.    , 0.0544, 0.1972, 0.    , 0.    , 0.0478, 0.1888, 0.    ])"
      ]
     },
     "execution_count": 17,
     "metadata": {},
     "output_type": "execute_result"
    }
   ],
   "source": [
    "statevector=np.zeros(2**tot_qubit)\n",
    "for i in counts:\n",
    "    statevector[int(i,2)]=counts[i]\n",
    "statevector"
   ]
  },
  {
   "cell_type": "code",
   "execution_count": 18,
   "metadata": {},
   "outputs": [
    {
     "data": {
      "image/png": "[encoded data removed]",
      "text/plain": [
       "<Figure size 1400.79x626.08 with 1 Axes>"
      ]
     },
     "execution_count": 18,
     "metadata": {},
     "output_type": "execute_result"
    }
   ],
   "source": [
    "\n",
    "tot_qubit = resolution+len(example_matrix)\n",
    "\n",
    "qr_total_xi = QuantumRegister(tot_qubit, 'xi')\n",
    "qr_total_pi = QuantumRegister(tot_qubit, 'pi')\n",
    "qr_control = QuantumRegister(1, 'control_qubit')\n",
    "n_classical_register=tot_qubit+1\n",
    "classical = ClassicalRegister(n_classical_register, 'measure')\n",
    "\n",
    "total_circuit_2 = QuantumCircuit(qr_total_xi,qr_total_pi,qr_control ,classical, name='matrix')\n",
    "\n",
    "total_circuit_2.append(matrix_circuit.to_gate(), qr_total_xi[2:tot_qubit])\n",
    "total_circuit_2.append(pe.to_gate(), qr_total_xi[0:tot_qubit-1])\n",
    "\n",
    "total_circuit_2.swap(qr_total_xi[0],qr_total_xi[1])\n",
    "total_circuit_2.initialize(np.sqrt(statevector),qr_total_pi)\n",
    "total_circuit_2.h(qr_control)\n",
    "for i in range(tot_qubit):\n",
    "    total_circuit_2.cswap(control_qubit=qr_control, target_qubit1=qr_total_xi[i],target_qubit2=qr_total_pi[i])\n",
    "\n",
    "'''total_circuit.cswap(control_qubit=qr_control, target_qubit1=1,target_qubit2=5)\n",
    "total_circuit.cswap(control_qubit=qr_control, target_qubit1=2,target_qubit2=6)\n",
    "total_circuit.cswap(control_qubit=qr_control, target_qubit1=3,target_qubit2=7)'''\n",
    "\n",
    "total_circuit_2.h(qr_control)\n",
    "total_circuit_2.measure(qr_total_xi,classical[0:n_classical_register-1])\n",
    "total_circuit_2.measure(qr_control,classical[n_classical_register-1])\n",
    "\n",
    "total_circuit_2.draw(\"mpl\")"
   ]
  },
  {
   "cell_type": "code",
   "execution_count": 19,
   "metadata": {},
   "outputs": [
    {
     "data": {
      "image/png": "[encoded data removed]",
      "text/plain": [
       "<Figure size 504x360 with 1 Axes>"
      ]
     },
     "execution_count": 19,
     "metadata": {},
     "output_type": "execute_result"
    }
   ],
   "source": [
    "backend_total = Aer.get_backend(\"qasm_simulator\")\n",
    "job = backend_total.run(transpile(total_circuit_2, backend=backend_total), shots=n_shots)\n",
    "counts_for_sign = job.result().get_counts()\n",
    "plot_histogram(counts_for_sign)"
   ]
  },
  {
   "cell_type": "code",
   "execution_count": 20,
   "metadata": {},
   "outputs": [
    {
     "data": {
      "text/plain": [
       "array([  0., 230., 924.,   0.,   0.,  22., 887.,   0.,   0.,  20., 900.,\n",
       "         0.,   0., 228., 894.,   0.])"
      ]
     },
     "execution_count": 20,
     "metadata": {},
     "output_type": "execute_result"
    }
   ],
   "source": [
    "tmp=np.zeros(2**tot_qubit)\n",
    "\n",
    "for c in counts_for_sign:\n",
    "    if c[0]=='0':\n",
    "        tmp[int(c[1:],2)]=counts_for_sign[c]\n",
    "tmp"
   ]
  },
  {
   "cell_type": "code",
   "execution_count": 21,
   "metadata": {},
   "outputs": [
    {
     "data": {
      "text/plain": [
       "array([0.    , 0.0526, 0.2024, 0.    , 0.    , 0.0504, 0.2064, 0.    ,\n",
       "       0.    , 0.0544, 0.1972, 0.    , 0.    , 0.0478, 0.1888, 0.    ])"
      ]
     },
     "execution_count": 21,
     "metadata": {},
     "output_type": "execute_result"
    }
   ],
   "source": [
    "statevector"
   ]
  },
  {
   "cell_type": "code",
   "execution_count": 22,
   "metadata": {},
   "outputs": [],
   "source": [
    "sign_dictionary={}\n",
    "sign=0\n",
    "for e, (count, prob) in enumerate(zip(tmp, statevector)):\n",
    "    if count>0.4*prob*5000:\n",
    "        sign=1\n",
    "    else:\n",
    "        sign=-1\n",
    "    if prob==0:\n",
    "        sign=0\n",
    "    sign_dictionary.update({bin(e)[2:].zfill(tot_qubit):sign})"
   ]
  },
  {
   "cell_type": "code",
   "execution_count": 23,
   "metadata": {},
   "outputs": [
    {
     "data": {
      "text/plain": [
       "{'0000': 0,\n",
       " '0001': 1,\n",
       " '0010': 1,\n",
       " '0011': 0,\n",
       " '0100': 0,\n",
       " '0101': -1,\n",
       " '0110': 1,\n",
       " '0111': 0,\n",
       " '1000': 0,\n",
       " '1001': -1,\n",
       " '1010': 1,\n",
       " '1011': 0,\n",
       " '1100': 0,\n",
       " '1101': 1,\n",
       " '1110': 1,\n",
       " '1111': 0}"
      ]
     },
     "execution_count": 23,
     "metadata": {},
     "output_type": "execute_result"
    }
   ],
   "source": [
    "sign_dictionary"
   ]
  },
  {
   "cell_type": "code",
   "execution_count": 24,
   "metadata": {},
   "outputs": [
    {
     "data": {
      "text/plain": [
       "{'0000': 0.0,\n",
       " '0001': 0.2293468988235943,\n",
       " '0010': 0.4498888751680797,\n",
       " '0011': 0.0,\n",
       " '0100': 0.0,\n",
       " '0101': -0.22449944320643647,\n",
       " '0110': 0.4543126676640219,\n",
       " '0111': 0.0,\n",
       " '1000': 0.0,\n",
       " '1001': -0.233238075793812,\n",
       " '1010': 0.4440720662234903,\n",
       " '1011': 0.0,\n",
       " '1100': 0.0,\n",
       " '1101': 0.21863211109075448,\n",
       " '1110': 0.43451121964800865,\n",
       " '1111': 0.0}"
      ]
     },
     "execution_count": 24,
     "metadata": {},
     "output_type": "execute_result"
    }
   ],
   "source": [
    "statevector_dictionary={}\n",
    "\n",
    "for e,key in enumerate(sign_dictionary):\n",
    "    statevector_dictionary[key]=sign_dictionary[key]*np.sqrt(statevector[e])\n",
    "\n",
    "statevector_dictionary"
   ]
  },
  {
   "cell_type": "markdown",
   "metadata": {},
   "source": [
    "# Da qui capire come calcolare i valori dell'autovettore\n"
   ]
  },
  {
   "cell_type": "code",
   "execution_count": 27,
   "metadata": {},
   "outputs": [
    {
     "data": {
      "text/plain": [
       "({'0010': 0.4404543109109048,\n",
       "  '0110': 0.4427188724235731,\n",
       "  '1010': 0.46776062254106,\n",
       "  '1110': 0.43335897360040904},\n",
       " {'0001': 0.2345207879911715,\n",
       "  '0101': -0.22,\n",
       "  '1001': -0.2240535650240808,\n",
       "  '1101': 0.22315913604421397})"
      ]
     },
     "execution_count": 27,
     "metadata": {},
     "output_type": "execute_result"
    }
   ],
   "source": [
    "#remove eigenvector under threshold\n",
    "statevector_dictionary_up_threshold={}\n",
    "statevector_dictionary_down_threshold={}\n",
    "for key in list(statevector_dictionary.keys()):\n",
    "    if key[-2:]=='10':\n",
    "        statevector_dictionary_up_threshold.update({key:statevector_dictionary[key]})\n",
    "    elif key[-2:]=='01':\n",
    "        statevector_dictionary_down_threshold.update({key:statevector_dictionary[key]})\n",
    "#normalize using the mean \n",
    "\n",
    "statevector_dictionary_up_threshold,statevector_dictionary_down_threshold"
   ]
  },
  {
   "cell_type": "code",
   "execution_count": 29,
   "metadata": {},
   "outputs": [
    {
     "data": {
      "text/plain": [
       "({'0010': 0.4934926786198234,\n",
       "  '0110': 0.4812915087503381,\n",
       "  '1010': 0.49813193923988475,\n",
       "  '1110': 0.45400634038214766},\n",
       " {'0001': 0.5200030254809497,\n",
       "  '0101': -0.33995208791450027,\n",
       "  '1001': -0.3214007415432621,\n",
       "  '1101': 0.3039432411854784})"
      ]
     },
     "execution_count": 29,
     "metadata": {},
     "output_type": "execute_result"
    }
   ],
   "source": [
    "mean_down=np.mean(list(map(abs,list(statevector_dictionary_down_threshold.values()))))\n",
    "mean_up=np.mean(list(statevector_dictionary_up_threshold.values()))\n",
    "\n",
    "\n",
    "for k in statevector_dictionary_up_threshold:\n",
    "    statevector_dictionary_up_threshold[k]*=np.sqrt((1/(sum(np.asarray(list(statevector_dictionary_up_threshold.values()))**2)))) #-> generalize number 4\n",
    "    \n",
    "    \n",
    "for k_d in statevector_dictionary_down_threshold:\n",
    "    statevector_dictionary_down_threshold[k_d]*=np.sqrt((1/(sum(np.asarray(list(statevector_dictionary_down_threshold.values()))**2))))\n",
    "statevector_dictionary_up_threshold,statevector_dictionary_down_threshold"
   ]
  },
  {
   "cell_type": "markdown",
   "metadata": {},
   "source": [
    "$$\\left|01\\right\\rangle(\\frac{1}{2}|00\\rangle-\\frac{1}{2}|01\\rangle-\\frac{1}{2}|10\\rangle+\\frac{1}{2}|11\\rangle) =$$\n",
    "\n",
    "$$=\\left|01\\right\\rangle\\frac{1}{2}(|0\\rangle(|0\\rangle-|1\\rangle)-|1\\rangle(|0\\rangle-|1\\rangle)=$$\n",
    "\n",
    "$$=\\left|01\\right\\rangle\\frac{1}{2}(-|0\\rangle(-|0\\rangle+|1\\rangle)+|1\\rangle(-|0\\rangle+|1\\rangle)=$$\n",
    "\n",
    "$$=\\left|01\\right\\rangle\\frac{1}{2}((-|0\\rangle+|1\\rangle)\\otimes(-|0\\rangle+|1\\rangle))=$$\n",
    "\n",
    "$$=\\left|01\\right\\rangle\\left(\\left(-\\frac{1}{\\sqrt{2}}|0\\rangle+\\frac{1}{\\sqrt{2}}|1\\rangle\\right)\\otimes\\left(-\\frac{1}{\\sqrt{2}}|0\\rangle+\\frac{1}{\\sqrt{2}}|1\\rangle\\right)\\right)=$$\n"
   ]
  },
  {
   "cell_type": "code",
   "execution_count": 30,
   "metadata": {},
   "outputs": [
    {
     "data": {
      "text/plain": [
       "[array([0.70578463, 0.67379993]), array([-0.56692217,  0.55131048])]"
      ]
     },
     "execution_count": 30,
     "metadata": {},
     "output_type": "execute_result"
    }
   ],
   "source": [
    "statevector_up=list(statevector_dictionary_up_threshold.values())\n",
    "statevector_down=list(statevector_dictionary_down_threshold.values())\n",
    "\n",
    "middle_idx=len(statevector_up)//2\n",
    "statevector_up=statevector_up[middle_idx:]\n",
    "\n",
    "result=[]\n",
    "for idx in range(0, len(statevector_up), 2):\n",
    "    result.append(np.sqrt(np.asarray(statevector_up[idx:idx+2]))*np.sign(statevector_up))\n",
    "\n",
    "statevector_down=statevector_down[middle_idx:]\n",
    "\n",
    "for idx in range(0, len(statevector_down), 2):\n",
    "    result.append(np.sqrt(abs(np.asarray(statevector_down[idx:idx+2])))*np.sign(statevector_down))\n",
    "   \n",
    "result"
   ]
  },
  {
   "cell_type": "markdown",
   "metadata": {},
   "source": [
    "# Statevector test"
   ]
  },
  {
   "cell_type": "code",
   "execution_count": 89,
   "metadata": {},
   "outputs": [],
   "source": [
    "from qiskit.visualization import plot_histogram\n",
    "\n",
    "backend_total = Aer.get_backend(\"statevector_simulator\")\n",
    "job = backend_total.run(transpile(total_circuit, backend=backend_total))\n",
    "statevector = np.asarray(job.result().get_statevector()).round(4)\n",
    "#plot_histogram(counts)"
   ]
  },
  {
   "cell_type": "code",
   "execution_count": 90,
   "metadata": {},
   "outputs": [
    {
     "data": {
      "text/plain": [
       "['0000',\n",
       " '0001',\n",
       " '0010',\n",
       " '0011',\n",
       " '0100',\n",
       " '0101',\n",
       " '0110',\n",
       " '0111',\n",
       " '1000',\n",
       " '1001',\n",
       " '1010',\n",
       " '1011',\n",
       " '1100',\n",
       " '1101',\n",
       " '1110',\n",
       " '1111']"
      ]
     },
     "execution_count": 90,
     "metadata": {},
     "output_type": "execute_result"
    }
   ],
   "source": [
    "bitstrings=[''.join([''.join(str(j)) for j in i]) for i in list(map(list, itertools.product([0, 1], repeat=4)))]\n",
    "bitstrings"
   ]
  },
  {
   "cell_type": "code",
   "execution_count": 91,
   "metadata": {},
   "outputs": [],
   "source": [
    "def attach_bitstrings(vector):\n",
    "    return list(zip(bitstrings, vector))"
   ]
  },
  {
   "cell_type": "code",
   "execution_count": 92,
   "metadata": {},
   "outputs": [
    {
     "data": {
      "text/plain": [
       "[('0000', (-0+0j)),\n",
       " ('0001', 0j),\n",
       " ('0010', 0j),\n",
       " ('0011', (-0+0j)),\n",
       " ('0100', 0j),\n",
       " ('0101', 0j),\n",
       " ('0110', (0.9615+0.2748j)),\n",
       " ('0111', 0j),\n",
       " ('1000', (-0+0j)),\n",
       " ('1001', (-0+0j)),\n",
       " ('1010', 0j),\n",
       " ('1011', 0j),\n",
       " ('1100', 0j),\n",
       " ('1101', 0j),\n",
       " ('1110', 0j),\n",
       " ('1111', 0j)]"
      ]
     },
     "execution_count": 92,
     "metadata": {},
     "output_type": "execute_result"
    }
   ],
   "source": [
    "attach_bitstrings(statevector)"
   ]
  },
  {
   "cell_type": "code",
   "execution_count": 89,
   "metadata": {},
   "outputs": [
    {
     "name": "stdout",
     "output_type": "stream",
     "text": [
      "1.250076004621081\n"
     ]
    },
    {
     "data": {
      "text/plain": [
       "[('000000', (-0+0j)),\n",
       " ('000001', (0.25+0j)),\n",
       " ('000010', (0.5+0j)),\n",
       " ('000011', 0j),\n",
       " ('000100', (-0+0j)),\n",
       " ('000101', (-0.25+0j)),\n",
       " ('000110', (0.5+0j)),\n",
       " ('000111', 0j),\n",
       " ('001000', 0j),\n",
       " ('001001', (-0.25+0j)),\n",
       " ('001010', (0.5+0j)),\n",
       " ('001011', 0j),\n",
       " ('001100', (-0+0j)),\n",
       " ('001101', (0.25+0j)),\n",
       " ('001110', (0.5+0j)),\n",
       " ('001111', (-0+0j))]"
      ]
     },
     "execution_count": 89,
     "metadata": {},
     "output_type": "execute_result"
    }
   ],
   "source": [
    "#TODO:generalizzare il 2048/1641.\n",
    "norm_factor_first_eigenvector = 1 / (0.4472**2*4) # 1 / somma dei quadrati degli stati associati all'autovettore\n",
    "print(norm_factor_first_eigenvector)\n",
    "np_sqrt = statevector * np.sqrt(norm_factor_first_eigenvector)\n",
    "attach_bitstrings(np_sqrt)\n"
   ]
  },
  {
   "cell_type": "code",
   "execution_count": 90,
   "metadata": {},
   "outputs": [
    {
     "data": {
      "text/plain": [
       "[('000000', (-0+0j)),\n",
       " ('000001', (0.5+0j)),\n",
       " ('000010', (1+0j)),\n",
       " ('000011', 0j),\n",
       " ('000100', (-0+0j)),\n",
       " ('000101', (-0.5+0j)),\n",
       " ('000110', (1+0j)),\n",
       " ('000111', 0j),\n",
       " ('001000', 0j),\n",
       " ('001001', (-0.5+0j)),\n",
       " ('001010', (1+0j)),\n",
       " ('001011', 0j),\n",
       " ('001100', (-0+0j)),\n",
       " ('001101', (0.5+0j)),\n",
       " ('001110', (1+0j)),\n",
       " ('001111', (-0+0j))]"
      ]
     },
     "execution_count": 90,
     "metadata": {},
     "output_type": "execute_result"
    }
   ],
   "source": [
    "norm_factor_second_eigenvector = 1 / (0.2236**2*4)\n",
    "attach_bitstrings(statevector*np.sqrt(norm_factor_second_eigenvector))"
   ]
  },
  {
   "cell_type": "code",
   "execution_count": 91,
   "metadata": {},
   "outputs": [
    {
     "data": {
      "text/plain": [
       "(0.9999392+0j)"
      ]
     },
     "execution_count": 91,
     "metadata": {},
     "output_type": "execute_result"
    }
   ],
   "source": [
    "np.sum(np.dot(statevector,statevector.T))"
   ]
  },
  {
   "cell_type": "code",
   "execution_count": 95,
   "metadata": {},
   "outputs": [],
   "source": [
    "# np.sqrt(382/2048), np.sqrt(410/2048),np.sqrt(412/2048),np.sqrt(437/2048)"
   ]
  },
  {
   "cell_type": "code",
   "execution_count": 93,
   "metadata": {},
   "outputs": [
    {
     "data": {
      "text/plain": [
       "(array([2., 1.]),\n",
       " array([[ 0.70710678, -0.70710678],\n",
       "        [ 0.70710678,  0.70710678]]))"
      ]
     },
     "execution_count": 93,
     "metadata": {},
     "output_type": "execute_result"
    }
   ],
   "source": []
  }
 ],
 "metadata": {
  "kernelspec": {
   "display_name": "Python 3 (ipykernel)",
   "language": "python",
   "name": "python3"
  },
  "language_info": {
   "codemirror_mode": {
    "name": "ipython",
    "version": 3
   },
   "file_extension": ".py",
   "mimetype": "text/x-python",
   "name": "python",
   "nbconvert_exporter": "python",
   "pygments_lexer": "ipython3",
   "version": "3.8.11"
  },
  "vscode": {
   "interpreter": {
    "hash": "3820477eeda6a2056d25dbf35341ad4ea495fec12a885dc74045ce43b88b4168"
   }
  }
 },
 "nbformat": 4,
 "nbformat_minor": 4
}
