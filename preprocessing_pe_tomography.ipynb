{
 "cells": [
  {
   "cell_type": "markdown",
   "metadata": {},
   "source": [
    "# Custom implementation of *A Low-Complexity Quantum Principal Component Analysis Algorithm*\n",
    "https://doi.org/10.1109/TQE.2021.3140152"
   ]
  },
  {
   "cell_type": "code",
   "execution_count": 1,
   "metadata": {},
   "outputs": [],
   "source": [
    "import numpy as np\n",
    "import itertools\n",
    "\n",
    "from qiskit import Aer, transpile, QuantumRegister, QuantumCircuit\n",
    "from qiskit.visualization import plot_histogram\n",
    "from qiskit.algorithms.linear_solvers.matrices.numpy_matrix import NumPyMatrix\n",
    "from qiskit.circuit.library import PhaseEstimation\n",
    "from qiskit.circuit.library.standard_gates import RYGate"
   ]
  },
  {
   "attachments": {},
   "cell_type": "markdown",
   "metadata": {},
   "source": [
    "### Utils"
   ]
  },
  {
   "cell_type": "code",
   "execution_count": 2,
   "metadata": {},
   "outputs": [],
   "source": [
    "def Generate_matrix(replicate_paper, matrix_dimension, eig_values_list=None):\n",
    "    \"\"\"\n",
    "    Synthetic matrix generator through input parameters: \n",
    "        -   replicate_paper: boolean parameter, recreate 2x2 matrix used in reference paper\n",
    "        -   matrix_dimension: int parameter for synthetic matrix generation\n",
    "        -   eig_values_list: optional eigenvalues list. if not provided, it will be calculated from generated matrix.\n",
    "    Output :\n",
    "        - synthetic matrix as numpy matrix.\n",
    "    \"\"\"\n",
    "\n",
    "    if replicate_paper == False:\n",
    "        # Generate hermitian matrix\n",
    "        random_matrix=np.random.rand(matrix_dimension, matrix_dimension) \n",
    "        hermitian_matrix=np.dot(random_matrix, random_matrix.T)\n",
    "\n",
    "        eig, e_v = np.linalg.eig(hermitian_matrix)\n",
    "        if eig_values_list is None:\n",
    "            eig_values_list = np.array(eig)\n",
    "\n",
    "        example_matrix = e_v @ np.diag(eig_values_list) @ e_v.T\n",
    "\n",
    "    else:\n",
    "        example_matrix = np.array([[1.5, 0.5],[0.5, 1.5]])\n",
    "\n",
    "    print(f'Matrix:\\n {example_matrix.round(2)}\\n')\n",
    "    for eigenval, eigenvec in zip(np.linalg.eig(example_matrix)[0][::-1], np.rot90(np.linalg.eig(example_matrix)[1])):\n",
    "        print(f'eigenvalue: {eigenval:.0f} - eigenvector: {eigenvec.round(3)}')\n",
    "    return example_matrix"
   ]
  },
  {
   "cell_type": "code",
   "execution_count": 3,
   "metadata": {},
   "outputs": [],
   "source": [
    "#computing the thetas\n",
    "def thetas_computation(example_matrix, debug = False):\n",
    "    \"\"\"\n",
    "    For a generic matrix, the corrisponding quantum state is generated through a binary tree, whose internal nodes store the amplitudes of the state. \n",
    "    The following function extract thetas,through binary tree calculation, used to construct the quantum circuit employed to encode the original information in qubits.  \n",
    "\n",
    "    Input parameters: \n",
    "        -   example_matrix: generic matrix as numpy matrix.\n",
    "    Output :\n",
    "        - thetas : list of computed thetas.\n",
    "        - all_combination: list combination of base state vectors.\n",
    "    \"\"\"\n",
    "    lst_combination=[]\n",
    "    \n",
    "    #1 STEP: INPUT_PROBABILITIES COMPUTATION\n",
    "    sum_squares = (example_matrix**2).sum()\n",
    "    input_probabilities = (example_matrix**2/sum_squares).flatten()\n",
    "\n",
    "    #2 STEP: BINARY TREE - NODES COMPUTATION\n",
    "    for k in range(1, int(np.ceil(np.log2(len(example_matrix)**2)))+1):\n",
    "        lst_combination.append(list(map(list, itertools.product([0, 1], repeat=k))))\n",
    "    container=[]\n",
    "    for lst in lst_combination:\n",
    "        container.append([''.join([''.join(str(j)) for j in i]) for i in lst])\n",
    "    all_combinations=[item for c in container for item in c]\n",
    "\n",
    "    general_bitstring=[''.join([''.join(str(j)) for j in i]) for i in list(map(list, itertools.product([0, 1], repeat=int(np.ceil(np.log2(len(example_matrix)**2))))))][:len(input_probabilities)]\n",
    "    \n",
    "    #Nodes contains all the values of the tree (except for the root)\n",
    "    nodes=[]\n",
    "    for st in all_combinations:\n",
    "        #print(st)\n",
    "        starts = [general_bitstring.index(l) for l in general_bitstring if l.startswith(st)]\n",
    "        #print(starts)\n",
    "        if debug == True:\n",
    "            print(st,'->',np.sqrt(input_probabilities[starts].sum()))\n",
    "        nodes.append(np.sqrt(input_probabilities[starts].sum()))\n",
    "    \n",
    "    #add root tree\n",
    "    nodes.insert(0, 1)\n",
    "    \n",
    "    #3 STEP: BINARY TREE - THETAS COMPUTATION\n",
    "    thetas=[]\n",
    "\n",
    "    idx=0\n",
    "    for i in range(1,len(nodes),2):\n",
    "        \n",
    "        right_node=i\n",
    "        left_node=right_node+1\n",
    "        if nodes[idx]!=0:\n",
    "            thetas.append(2*np.arccos(nodes[right_node]/nodes[idx]))\n",
    "            thetas.append(2*np.arcsin(nodes[left_node]/nodes[idx]))\n",
    "        else:\n",
    "            thetas.append(0)\n",
    "            thetas.append(0)\n",
    "\n",
    "        idx+=1\n",
    "    return thetas, all_combinations"
   ]
  },
  {
   "cell_type": "code",
   "execution_count": 4,
   "metadata": {},
   "outputs": [],
   "source": [
    "def generate_qram_circuit(thetas, all_combinations, example_matrix):\n",
    "    \"\"\"\n",
    "    For a generic matrix, the corrisponding qram circuit for matrix preprocessing into corrisponding quantum state. \n",
    "\n",
    "    Input parameters: \n",
    "        - example_matrix: generic matrix as numpy matrix.\n",
    "        - thetas : list of computed thetas.\n",
    "        - all_combination: list combination of base state vectors.\n",
    "    Output :\n",
    "        - qc : preprocessing circuit.\n",
    "    \"\"\"\n",
    "    right_nodes_indexes=list(range(0,len(thetas),2))\n",
    "    rotations_list=list(zip(np.array(all_combinations)[right_nodes_indexes],np.array(thetas)[right_nodes_indexes]))\n",
    "\n",
    "    qc=QuantumCircuit(int(np.ceil(np.log2(len(example_matrix)**2))))\n",
    "\n",
    "    for r_l in rotations_list:\n",
    "        target_qubit=len(r_l[0])-1\n",
    "        \n",
    "        #First case of R_0\n",
    "        if target_qubit==0:\n",
    "            qc.ry(theta=r_l[1],qubit=target_qubit)\n",
    "            continue\n",
    "            \n",
    "        not_gate=[]\n",
    "        for qb in range(target_qubit):\n",
    "            if r_l[0][qb]=='0':\n",
    "                not_gate.append(qb)\n",
    "                \n",
    "        c_t_qubits=list(range(len(r_l[0])))\n",
    "        n_controls=len(range(target_qubit))\n",
    "        \n",
    "        if len(not_gate)>0:\n",
    "            qc.x(not_gate)\n",
    "            c_ry = RYGate(r_l[1]).control(n_controls)\n",
    "            qc.append(c_ry, c_t_qubits)\n",
    "            qc.x(not_gate)\n",
    "        else:\n",
    "            c_ry = RYGate(r_l[1]).control(n_controls)\n",
    "            qc.append(c_ry, c_t_qubits)\n",
    "    return qc"
   ]
  },
  {
   "cell_type": "code",
   "execution_count": 5,
   "metadata": {},
   "outputs": [],
   "source": [
    "def phase_estimation(matrix, qram_circuit, replicate_paper, eigval_list):\n",
    "    \"\"\"\n",
    "    For a generic 2**n matrix, the corrisponding Quantum Phase Estimation for integer eigenvalues extraction \n",
    "\n",
    "    Input parameters: \n",
    "        - matrix: generic matrix as numpy matrix ( 2^N shape )\n",
    "        - qram_circuit: preprocessing circuit\n",
    "        - replicate_paper: boolean parameter, recreate 2x2 matrix used in reference paper\n",
    "        - eigval_list: list of eigenvalues generated for testing purposes\n",
    "    Output :\n",
    "        - resolution: number of qubits used to represent the computed eigenvalues\n",
    "        - pe : phase estimation circuit\n",
    "    \"\"\"\n",
    "\n",
    "    if replicate_paper == True:\n",
    "        resolution = 2\n",
    "    else:\n",
    "        # Compute how many qubits will be needed to represent the biggest eigenvalue\n",
    "        # Useful for testing purposes (not general)\n",
    "        resolution = int(np.ceil(np.log2(eigval_list.max()+1)))\n",
    "\n",
    "    #Unitary Operator for PE\n",
    "    u_circuit = NumPyMatrix(matrix, evolution_time=2*np.pi/(2**resolution))\n",
    "\n",
    "    #PE circuit\n",
    "    pe = PhaseEstimation(resolution, u_circuit, name = \"PE\")\n",
    "\n",
    "    num_qubit = resolution+int(np.ceil(np.log2(len(matrix)**2)))\n",
    "\n",
    "    pe_register = QuantumRegister(num_qubit, 'total')\n",
    "\n",
    "    pe_circuit = QuantumCircuit(pe_register , name='matrix')\n",
    "\n",
    "    pe_circuit.append(qram_circuit.to_gate(), pe_register[resolution:])\n",
    "    pe_circuit.append(pe.to_gate(), pe_register[0:pe.num_qubits])\n",
    "\n",
    "    return pe_circuit, resolution\n",
    "\n",
    "def check_statevector(backend, pe_circuit, resolution, example_matrix):\n",
    "    pe_job = backend.run(transpile(pe_circuit, backend=backend))\n",
    "    statevector = np.asarray(pe_job.result().get_statevector()).round(3)\n",
    "\n",
    "    bitstrings = [''.join([''.join(str(j)) for j in i]) for i in list(map(list, itertools.product([0, 1], repeat=resolution+len(example_matrix))))]\n",
    "\n",
    "    for el in zip(bitstrings, statevector.real):\n",
    "        print(el)"
   ]
  },
  {
   "cell_type": "code",
   "execution_count": 6,
   "metadata": {},
   "outputs": [],
   "source": [
    "def eigen_estimation(matrix, reconstructed_statevector, resolution):\n",
    "    \"\"\"\n",
    "    Estimate eigenvalues and eigenvectors from the input matrix and the relative output of state tomography \n",
    "\n",
    "    Input parameters: \n",
    "        - matrix: input matrix as numpy matrix.\n",
    "        - reconstructed_statevector: the statevector obtained from tomography\n",
    "        - resolution: number of qubits used to represent the computed eigenvalues\n",
    "    Output :\n",
    "        - eigenvalues: integer eigenvalues of the input matrix\n",
    "        - eigenvectors: absolute values of the eigenvectors' components\n",
    "    \"\"\"\n",
    "        \n",
    "    eigenvalues = set()\n",
    "\n",
    "    for key in reconstructed_statevector:\n",
    "        if reconstructed_statevector[key]!=0:\n",
    "            eigenvalues.add(int(key[-resolution:], 2))\n",
    "\n",
    "    ordered_states=[]\n",
    "\n",
    "    for i, eig_val in enumerate(eigenvalues):\n",
    "\n",
    "        tmp_list=[]\n",
    "        for key in reconstructed_statevector:\n",
    "            if int(key[-resolution:], 2) == eig_val:\n",
    "                tmp_list.append(reconstructed_statevector[key])\n",
    "                \n",
    "        ordered_states.append(np.asarray(tmp_list))\n",
    "        normalization_factor=np.sqrt((1/(sum(ordered_states[i]**2))))\n",
    "        ordered_states[i]*=normalization_factor\n",
    "\n",
    "    eigenvectors=[]\n",
    "    for statevector, eig in zip(ordered_states, eigenvalues):\n",
    "        max_list=[]\n",
    "        scaled_statevectors=[]\n",
    "        for e, i in enumerate(range(0, len(statevector), len(matrix))):\n",
    "            max_list.append(max(statevector[i:i+len(matrix)]))\n",
    "            scaled_statevectors.append(statevector[i:i+len(matrix)]/max_list[e])\n",
    "            #print(max_list,scaled_statevectors)\n",
    "        max_max=max_list[np.argmax(max_list)]\n",
    "        value=np.sqrt(max_max)\n",
    "        eigenvector=scaled_statevectors[np.argmax(max_list)]*value\n",
    "        eigenvectors.append(eigenvector)\n",
    "        print(f'eigenvalue: {eig} - eigenvector: {np.real(eigenvector.round(3))}')   \n",
    "    \n",
    "    return eigenvalues, eigenvectors"
   ]
  },
  {
   "attachments": {},
   "cell_type": "markdown",
   "metadata": {},
   "source": [
    "## Main"
   ]
  },
  {
   "attachments": {},
   "cell_type": "markdown",
   "metadata": {},
   "source": [
    "#### Generate synthetic data"
   ]
  },
  {
   "cell_type": "code",
   "execution_count": 7,
   "metadata": {},
   "outputs": [
    {
     "name": "stdout",
     "output_type": "stream",
     "text": [
      "Matrix:\n",
      " [[1.5 0.5]\n",
      " [0.5 1.5]]\n",
      "\n",
      "eigenvalue: 1 - eigenvector: [-0.707  0.707]\n",
      "eigenvalue: 2 - eigenvector: [0.707 0.707]\n"
     ]
    }
   ],
   "source": [
    "# Change this to false to generate a random matrix with choosen eigenvalues\n",
    "replicate_paper = True \n",
    "# Generate synthetic matrix\n",
    "eigval_list = np.array([2, 3])\n",
    "example_matrix = Generate_matrix(replicate_paper,2,eigval_list)"
   ]
  },
  {
   "cell_type": "markdown",
   "metadata": {},
   "source": [
    "as an example, we take the 2x2 matrix used in the original paper\n",
    "$$\n",
    "A_0=\\left[\\begin{array}{ll}\n",
    "1.5 & 0.5 \\\\\n",
    "0.5 & 1.5\n",
    "\\end{array}\\right]\n",
    "$$\n",
    "\n",
    "whose quantum state is given by\n",
    "$$\\left|\\psi_{A_0}\\right\\rangle=\\frac{3}{\\sqrt{20}}|00\\rangle+\\frac{1}{\\sqrt{20}}|01\\rangle+\\frac{1}{\\sqrt{20}}|10\\rangle+\\frac{3}{\\sqrt{20}}|11\\rangle .$$\n",
    "\n",
    "$20$ derives from $3^2 + 1^2 + 1^2 + 3^2$ and is necessary for normalization"
   ]
  },
  {
   "attachments": {},
   "cell_type": "markdown",
   "metadata": {},
   "source": [
    "#### Preprocessing "
   ]
  },
  {
   "cell_type": "code",
   "execution_count": 8,
   "metadata": {},
   "outputs": [
    {
     "name": "stdout",
     "output_type": "stream",
     "text": [
      "0 -> 0.7071067811865476\n",
      "1 -> 0.7071067811865476\n",
      "00 -> 0.6708203932499369\n",
      "01 -> 0.22360679774997896\n",
      "10 -> 0.22360679774997896\n",
      "11 -> 0.6708203932499369\n"
     ]
    },
    {
     "data": {
      "image/png": "[encoded data removed]",
      "text/plain": [
       "<Figure size 538.128x200.667 with 1 Axes>"
      ]
     },
     "execution_count": 8,
     "metadata": {},
     "output_type": "execute_result"
    }
   ],
   "source": [
    "# Preprocessing circuit\n",
    "thetas, all_combinations = thetas_computation(example_matrix, debug = True)\n",
    "matrix_circuit = generate_qram_circuit(thetas, all_combinations,example_matrix)\n",
    "matrix_circuit.draw(\"mpl\")"
   ]
  },
  {
   "cell_type": "code",
   "execution_count": 9,
   "metadata": {},
   "outputs": [
    {
     "data": {
      "text/plain": [
       "{'00': 0.45, '01': 0.05, '10': 0.05, '11': 0.45}"
      ]
     },
     "execution_count": 9,
     "metadata": {},
     "output_type": "execute_result"
    }
   ],
   "source": [
    "#Check matrix encoding into quantum state\n",
    "backend = Aer.get_backend(\"statevector_simulator\")\n",
    "job = backend.run(transpile(matrix_circuit, backend=backend))\n",
    "job.result().get_counts()"
   ]
  },
  {
   "attachments": {},
   "cell_type": "markdown",
   "metadata": {},
   "source": [
    "#### Phase Estimation - Eigenvalues Extraction "
   ]
  },
  {
   "cell_type": "code",
   "execution_count": 10,
   "metadata": {},
   "outputs": [
    {
     "name": "stderr",
     "output_type": "stream",
     "text": [
      "C:\\Users\\emanu\\AppData\\Local\\Temp\\ipykernel_20304\\775754928.py:22: DeprecationWarning: The NumPyMatrix class is deprecated as of Qiskit Terra 0.22.0 and will be removed no sooner than 3 months after the release date. \n",
      "  u_circuit = NumPyMatrix(matrix, evolution_time=2*np.pi/(2**resolution))\n"
     ]
    }
   ],
   "source": [
    "# Create and Add Phase estimation block to circuit\n",
    "pe_circuit, resolution = phase_estimation(example_matrix, matrix_circuit, replicate_paper, eigval_list)"
   ]
  },
  {
   "cell_type": "code",
   "execution_count": 11,
   "metadata": {},
   "outputs": [
    {
     "name": "stdout",
     "output_type": "stream",
     "text": [
      "('0000', -0.0)\n",
      "('0001', 0.447)\n",
      "('0010', 0.224)\n",
      "('0011', 0.0)\n",
      "('0100', -0.0)\n",
      "('0101', 0.447)\n",
      "('0110', -0.224)\n",
      "('0111', 0.0)\n",
      "('1000', 0.0)\n",
      "('1001', 0.447)\n",
      "('1010', -0.224)\n",
      "('1011', 0.0)\n",
      "('1100', -0.0)\n",
      "('1101', 0.447)\n",
      "('1110', 0.224)\n",
      "('1111', -0.0)\n"
     ]
    },
    {
     "data": {
      "image/png": "[encoded data removed]",
      "text/plain": [
       "<Figure size 1087.87x451.5 with 1 Axes>"
      ]
     },
     "execution_count": 11,
     "metadata": {},
     "output_type": "execute_result"
    }
   ],
   "source": [
    "# Check that the circuit correctly estimates the eigenvalues \n",
    "# (only the states associated to the correct eigenvalues have probability amplitude different from 0)\n",
    "check_statevector(backend,pe_circuit,resolution,example_matrix)\n",
    "pe_circuit.measure_all()\n",
    "pe_circuit.decompose(reps=1).draw(\"mpl\")"
   ]
  },
  {
   "attachments": {},
   "cell_type": "markdown",
   "metadata": {},
   "source": [
    "#### Quantum State Tomography - Probability amplitude estimation"
   ]
  },
  {
   "cell_type": "code",
   "execution_count": 12,
   "metadata": {},
   "outputs": [
    {
     "data": {
      "image/png": "[encoded data removed]",
      "text/plain": [
       "<Figure size 700x500 with 1 Axes>"
      ]
     },
     "execution_count": 12,
     "metadata": {},
     "output_type": "execute_result"
    }
   ],
   "source": [
    "n_shots = 40960 # Increase to achieve higher accuracy\n",
    "backend_total = Aer.get_backend(\"qasm_simulator\")\n",
    "job = backend_total.run(transpile(pe_circuit, backend=backend_total), shots=n_shots)\n",
    "counts = job.result().get_counts()\n",
    "plot_histogram(counts)"
   ]
  },
  {
   "cell_type": "code",
   "execution_count": 13,
   "metadata": {},
   "outputs": [
    {
     "data": {
      "text/plain": [
       "{'1010': 0.22458729511038686,\n",
       " '1001': 0.44800447298269247,\n",
       " '0001': 0.44538102542935076,\n",
       " '1101': 0.4491474128139892,\n",
       " '1110': 0.22251228898647374,\n",
       " '0101': 0.4460109653921078,\n",
       " '0110': 0.22680482730202195,\n",
       " '0010': 0.22108132694779992}"
      ]
     },
     "execution_count": 13,
     "metadata": {},
     "output_type": "execute_result"
    }
   ],
   "source": [
    "reconstructed_statevector = {}\n",
    "\n",
    "for i in counts:\n",
    "    reconstructed_statevector[i]=np.sqrt(counts[i]/n_shots)\n",
    "\n",
    "reconstructed_statevector"
   ]
  },
  {
   "cell_type": "code",
   "execution_count": 14,
   "metadata": {},
   "outputs": [
    {
     "name": "stdout",
     "output_type": "stream",
     "text": [
      "Quantum method results:\n",
      "eigenvalue: 1 - eigenvector: [0.709 0.704]\n",
      "eigenvalue: 2 - eigenvector: [0.712 0.694]\n"
     ]
    }
   ],
   "source": [
    "print(\"Quantum method results:\")\n",
    "eigenvalues, eigenvectors = eigen_estimation(example_matrix, reconstructed_statevector, resolution=resolution)"
   ]
  },
  {
   "cell_type": "code",
   "execution_count": 15,
   "metadata": {},
   "outputs": [
    {
     "name": "stdout",
     "output_type": "stream",
     "text": [
      "Classically computed values:\n",
      "eigenvalue: 1 - eigenvector: [-0.707  0.707]\n",
      "eigenvalue: 2 - eigenvector: [0.707 0.707]\n"
     ]
    }
   ],
   "source": [
    "print(\"Classically computed values:\")\n",
    "for eigenval, eigenvec in zip(np.linalg.eig(example_matrix)[0][::-1], np.rot90(np.linalg.eig(example_matrix)[1])):\n",
    "    print(f'eigenvalue: {eigenval:.0f} - eigenvector: {eigenvec.round(3)}')"
   ]
  }
 ],
 "metadata": {
  "kernelspec": {
   "display_name": "Python 3 (ipykernel)",
   "language": "python",
   "name": "python3"
  },
  "language_info": {
   "codemirror_mode": {
    "name": "ipython",
    "version": 3
   },
   "file_extension": ".py",
   "mimetype": "text/x-python",
   "name": "python",
   "nbconvert_exporter": "python",
   "pygments_lexer": "ipython3",
   "version": "3.9.16"
  },
  "vscode": {
   "interpreter": {
    "hash": "31f2aee4e71d21fbe5cf8b01ff0e069b9275f58929596ceb00d14d90e3e16cd6"
   }
  }
 },
 "nbformat": 4,
 "nbformat_minor": 4
}
