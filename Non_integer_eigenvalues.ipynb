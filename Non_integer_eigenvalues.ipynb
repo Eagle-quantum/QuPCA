{
 "cells": [
  {
   "cell_type": "markdown",
   "metadata": {},
   "source": [
    "### Example taken from *A Low-Complexity Quantum Principal Component Analysis Algorithm*\n",
    "https://doi.org/10.1109/TQE.2021.3140152"
   ]
  },
  {
   "cell_type": "code",
   "execution_count": 301,
   "metadata": {},
   "outputs": [
    {
     "name": "stdout",
     "output_type": "stream",
     "text": [
      "[0.4298031  0.11902176 0.11902176 0.33215337]\n"
     ]
    }
   ],
   "source": [
    "import numpy as np\n",
    "import itertools\n",
    "from qiskit_experiments.library import StateTomography\n",
    "from qiskit.visualization import plot_state_city\n",
    "import qiskit.quantum_info as qi\n",
    "from qiskit.visualization import plot_histogram\n",
    "from qiskit.circuit.library.standard_gates import RYGate\n",
    "from qiskit import Aer, transpile, execute\n",
    "from qiskit import QuantumRegister, ClassicalRegister, QuantumCircuit\n",
    "from qiskit.algorithms.linear_solvers.matrices.numpy_matrix import NumPyMatrix\n",
    "from qiskit.circuit.library import PhaseEstimation\n",
    "import matplotlib.pyplot as plt\n",
    "from qiskit import BasicAer, execute\n",
    "import scipy as sc\n",
    "\n",
    "np.random.seed(14)\n",
    "\n",
    "example_matrix=np.random.rand(2,2)\n",
    "\n",
    "\n",
    "example_matrix=np.dot(example_matrix,example_matrix.T)\n",
    "\n",
    "sum_squares = (example_matrix**2).sum()\n",
    "input_probabilities = (example_matrix**2/sum_squares).flatten()\n",
    "\n",
    "print(input_probabilities)"
   ]
  },
  {
   "cell_type": "code",
   "execution_count": 302,
   "metadata": {},
   "outputs": [
    {
     "data": {
      "text/plain": [
       "(array([[0.86192196, 0.45357213],\n",
       "        [0.45357213, 0.75770911]]),\n",
       " (array([1.26637085, 0.35326021]),\n",
       "  array([[ 0.7463677 , -0.66553381],\n",
       "         [ 0.66553381,  0.7463677 ]])))"
      ]
     },
     "execution_count": 302,
     "metadata": {},
     "output_type": "execute_result"
    }
   ],
   "source": [
    "example_matrix,np.linalg.eig(example_matrix)"
   ]
  },
  {
   "cell_type": "code",
   "execution_count": 303,
   "metadata": {},
   "outputs": [
    {
     "data": {
      "text/plain": [
       "(array([[0.53217179, 0.28004658],\n",
       "        [0.28004658, 0.46782821]]),\n",
       " (array([0.78188847, 0.21811153]),\n",
       "  array([[ 0.7463677 , -0.66553381],\n",
       "         [ 0.66553381,  0.7463677 ]])))"
      ]
     },
     "execution_count": 303,
     "metadata": {},
     "output_type": "execute_result"
    }
   ],
   "source": [
    "example_matrix1=example_matrix/np.trace(example_matrix)\n",
    "example_matrix1,np.linalg.eig(example_matrix1)"
   ]
  },
  {
   "cell_type": "code",
   "execution_count": 304,
   "metadata": {},
   "outputs": [
    {
     "data": {
      "text/plain": [
       "array([1.26637085, 0.35326021])"
      ]
     },
     "execution_count": 304,
     "metadata": {},
     "output_type": "execute_result"
    }
   ],
   "source": [
    "np.trace(example_matrix)*np.linalg.eig(example_matrix1)[0]"
   ]
  },
  {
   "cell_type": "code",
   "execution_count": 305,
   "metadata": {},
   "outputs": [],
   "source": [
    "#Tommaso's great code for computing the thetas\n",
    "def thetas_computation(example_matrix):\n",
    "    lst_combination=[]\n",
    "\n",
    "    for k in range(1, int(np.ceil(np.log2(len(example_matrix)**2)))+1):\n",
    "        lst_combination.append(list(map(list, itertools.product([0, 1], repeat=k))))\n",
    "    container=[]\n",
    "    for lst in lst_combination:\n",
    "        container.append([''.join([''.join(str(j)) for j in i]) for i in lst])\n",
    "    all_combinations=[item for c in container for item in c]\n",
    "\n",
    "    general_bitstring=[''.join([''.join(str(j)) for j in i]) for i in list(map(list, itertools.product([0, 1], repeat=int(np.ceil(np.log2(len(example_matrix)**2))))))][:len(input_probabilities)]\n",
    "    \n",
    "    #Nodes contains all the values of the tree (except for the root)\n",
    "    nodes=[]\n",
    "    for st in all_combinations:\n",
    "        #print(st)\n",
    "        starts = [general_bitstring.index(l) for l in general_bitstring if l.startswith(st)]\n",
    "        #print(starts)\n",
    "        print(st,'->',np.sqrt(input_probabilities[starts].sum()))\n",
    "        nodes.append(np.sqrt(input_probabilities[starts].sum()))\n",
    "    \n",
    "    #add root tree\n",
    "    nodes.insert(0, 1)\n",
    "    thetas=[]\n",
    "    \n",
    "    '''for i in range(len(nodes)-len(input_probabilities)):\n",
    "        print('i',i)\n",
    "        right_node=i+idx_sub\n",
    "        left_node=right_node+1\n",
    "        #print(right_node,left_node)\n",
    "        #print(left_node,right_node)\n",
    "        if nodes[i]!=0:\n",
    "            #print(nodes[right_node],nodes[i])\n",
    "            thetas.append(2*np.arccos(nodes[right_node]/nodes[i]))\n",
    "            thetas.append(2*np.arcsin(nodes[left_node]/nodes[i]))\n",
    "        else:\n",
    "            thetas.append(0)\n",
    "            thetas.append(0)\n",
    "\n",
    "        idx_sub+=1\n",
    "    return thetas, all_combinations'''\n",
    "    idx=0\n",
    "    for i in range(1,len(nodes),2):\n",
    "        \n",
    "        right_node=i\n",
    "        left_node=right_node+1\n",
    "        if nodes[idx]!=0:\n",
    "            thetas.append(2*np.arccos(nodes[right_node]/nodes[idx]))\n",
    "            thetas.append(2*np.arcsin(nodes[left_node]/nodes[idx]))\n",
    "        else:\n",
    "            thetas.append(0)\n",
    "            thetas.append(0)\n",
    "\n",
    "        idx+=1\n",
    "    return thetas, all_combinations\n",
    "\n",
    "# SUB = str.maketrans(\"0123456789\", \"₀₁₂₃₄₅₆₇₈₉\")\n",
    "\n",
    "# for idx,th in zip(all_combinations,thetas):\n",
    "#     print('\\u03F4(R{})'.format((str(idx).translate(SUB))),'->', th)\n",
    "#thetas"
   ]
  },
  {
   "cell_type": "code",
   "execution_count": 306,
   "metadata": {},
   "outputs": [],
   "source": [
    "def generate_qram_circuit(thetas, all_combinations):\n",
    "    \n",
    "    right_nodes_indexes=list(range(0,len(thetas),2))\n",
    "    rotations_list=list(zip(np.array(all_combinations)[right_nodes_indexes],np.array(thetas)[right_nodes_indexes]))\n",
    "\n",
    "    #qc=QuantumCircuit(len(example_matrix))\n",
    "    qc=QuantumCircuit(int(np.ceil(np.log2(len(example_matrix)**2))))\n",
    "\n",
    "    for r_l in rotations_list:\n",
    "        target_qubit=len(r_l[0])-1\n",
    "        \n",
    "        #First case of R_0\n",
    "        if target_qubit==0:\n",
    "            qc.ry(theta=r_l[1],qubit=target_qubit)\n",
    "            continue\n",
    "            \n",
    "        not_gate=[]\n",
    "        for qb in range(target_qubit):\n",
    "            if r_l[0][qb]=='0':\n",
    "                not_gate.append(qb)\n",
    "                \n",
    "        c_t_qubits=list(range(len(r_l[0])))\n",
    "        n_controls=len(range(target_qubit))\n",
    "        \n",
    "        if len(not_gate)>0:\n",
    "            qc.x(not_gate)\n",
    "            c_ry = RYGate(r_l[1]).control(n_controls)\n",
    "            qc.append(c_ry, c_t_qubits)\n",
    "            qc.x(not_gate)\n",
    "        else:\n",
    "            c_ry = RYGate(r_l[1]).control(n_controls)\n",
    "            qc.append(c_ry, c_t_qubits)\n",
    "    return qc"
   ]
  },
  {
   "cell_type": "code",
   "execution_count": 307,
   "metadata": {},
   "outputs": [
    {
     "name": "stdout",
     "output_type": "stream",
     "text": [
      "0 -> 0.7408271470775015\n",
      "1 -> 0.6716957184268856\n",
      "00 -> 0.6555936986993236\n",
      "01 -> 0.3449953102184588\n",
      "10 -> 0.3449953102184588\n",
      "11 -> 0.5763274885690247\n"
     ]
    },
    {
     "data": {
      "text/html": [
       "<pre style=\"word-wrap: normal;white-space: pre;background: #fff0;line-height: 1.1;font-family: &quot;Courier New&quot;,Courier,monospace\">     ┌───────────┐┌───┐               ┌───┐              \n",
       "q_0: ┤ Ry(1.473) ├┤ X ├───────■───────┤ X ├──────■───────\n",
       "     └───────────┘└───┘┌──────┴──────┐└───┘┌─────┴──────┐\n",
       "q_1: ──────────────────┤ Ry(0.96883) ├─────┤ Ry(2.0628) ├\n",
       "                       └─────────────┘     └────────────┘</pre>"
      ],
      "text/plain": [
       "     ┌───────────┐┌───┐               ┌───┐              \n",
       "q_0: ┤ Ry(1.473) ├┤ X ├───────■───────┤ X ├──────■───────\n",
       "     └───────────┘└───┘┌──────┴──────┐└───┘┌─────┴──────┐\n",
       "q_1: ──────────────────┤ Ry(0.96883) ├─────┤ Ry(2.0628) ├\n",
       "                       └─────────────┘     └────────────┘"
      ]
     },
     "execution_count": 307,
     "metadata": {},
     "output_type": "execute_result"
    }
   ],
   "source": [
    "thetas, all_combinations = thetas_computation(example_matrix1)\n",
    "matrix_circuit = generate_qram_circuit(thetas, all_combinations)\n",
    "matrix_circuit.draw()"
   ]
  },
  {
   "cell_type": "code",
   "execution_count": 308,
   "metadata": {},
   "outputs": [
    {
     "name": "stderr",
     "output_type": "stream",
     "text": [
      "/opt/miniconda3/envs/EAGLE_environment/lib/python3.8/site-packages/numpy/linalg/linalg.py:2154: RuntimeWarning: divide by zero encountered in det\n",
      "  r = _umath_linalg.det(a, signature=signature)\n",
      "/opt/miniconda3/envs/EAGLE_environment/lib/python3.8/site-packages/numpy/linalg/linalg.py:2154: RuntimeWarning: invalid value encountered in det\n",
      "  r = _umath_linalg.det(a, signature=signature)\n"
     ]
    },
    {
     "data": {
      "text/plain": [
       "{'00': 0.42980309777426,\n",
       " '01': 0.119021764072731,\n",
       " '10': 0.119021764072731,\n",
       " '11': 0.332153374080279}"
      ]
     },
     "execution_count": 308,
     "metadata": {},
     "output_type": "execute_result"
    }
   ],
   "source": [
    "#Check matrix encoding\n",
    "backend = Aer.get_backend(\"statevector_simulator\")\n",
    "job = backend.run(transpile(matrix_circuit, backend=backend))\n",
    "job.result().get_counts()"
   ]
  },
  {
   "cell_type": "code",
   "execution_count": 309,
   "metadata": {},
   "outputs": [
    {
     "name": "stderr",
     "output_type": "stream",
     "text": [
      "/var/folders/rr/g930v2cj1wvdzc257kclm3lm0000gn/T/ipykernel_2777/115133202.py:4: DeprecationWarning: The NumPyMatrix class is deprecated as of Qiskit Terra 0.22.0 and will be removed no sooner than 3 months after the release date. \n",
      "  u_circuit = NumPyMatrix(example_matrix1, evolution_time=2*np.pi)\n"
     ]
    },
    {
     "data": {
      "text/plain": [
       "Operator([[ 1.99023273e-01-0.1118463j , -1.19230555e-16-0.97359136j],\n",
       "          [-1.19230555e-16-0.97359136j,  1.99023273e-01+0.1118463j ]],\n",
       "         input_dims=(2,), output_dims=(2,))"
      ]
     },
     "execution_count": 309,
     "metadata": {},
     "output_type": "execute_result"
    }
   ],
   "source": [
    "#Unitary for PE\n",
    "resolution = 2\n",
    "unitary_backend = Aer.get_backend(\"unitary_simulator\")\n",
    "u_circuit = NumPyMatrix(example_matrix1, evolution_time=2*np.pi)\n",
    "unitary_job = unitary_backend.run(transpile(u_circuit, backend=unitary_backend))\n",
    "unitary_job.result().get_unitary()"
   ]
  },
  {
   "cell_type": "code",
   "execution_count": 310,
   "metadata": {},
   "outputs": [
    {
     "data": {
      "image/png": "[encoded data removed]",
      "text/plain": [
       "<Figure size 658.969x204.68 with 1 Axes>"
      ]
     },
     "execution_count": 310,
     "metadata": {},
     "output_type": "execute_result"
    }
   ],
   "source": [
    "#PE circuit\n",
    "pe = PhaseEstimation(resolution, u_circuit, name = \"PE\")\n",
    "pe.decompose().draw(\"mpl\")"
   ]
  },
  {
   "cell_type": "markdown",
   "metadata": {},
   "source": [
    "# Check Statevector"
   ]
  },
  {
   "cell_type": "code",
   "execution_count": 311,
   "metadata": {},
   "outputs": [
    {
     "data": {
      "image/png": "[encoded data removed]",
      "text/plain": [
       "<Figure size 482.267x264.88 with 1 Axes>"
      ]
     },
     "execution_count": 311,
     "metadata": {},
     "output_type": "execute_result"
    }
   ],
   "source": [
    "tot_qubit = resolution+len(example_matrix)\n",
    "\n",
    "qr_total = QuantumRegister(tot_qubit, 'total')\n",
    "# classical = ClassicalRegister(4, 'measure')\n",
    "\n",
    "total_circuit = QuantumCircuit(qr_total , name='matrix')\n",
    "\n",
    "total_circuit.append(matrix_circuit.to_gate(), qr_total[resolution:])\n",
    "total_circuit.append(pe.to_gate(), qr_total[0:pe.num_qubits])\n",
    "# total_circuit.measure(qr_total[:2], classical[:])\n",
    "#total_circuit.swap(qr_total[0],qr_total[1])\n",
    "#total_circuit.measure_all()\n",
    "\n",
    "total_circuit.decompose(reps=1).draw(\"mpl\")"
   ]
  },
  {
   "cell_type": "code",
   "execution_count": 312,
   "metadata": {},
   "outputs": [],
   "source": [
    "backend_total = Aer.get_backend(\"statevector_simulator\")\n",
    "job = backend_total.run(transpile(total_circuit, backend=backend_total))\n",
    "statevector = np.asarray(job.result().get_statevector()).round(4)\n",
    "#plot_histogram(counts)"
   ]
  },
  {
   "cell_type": "code",
   "execution_count": 313,
   "metadata": {},
   "outputs": [],
   "source": [
    "def attach_bitstrings(vector):\n",
    "    return list(zip(bitstrings, vector))"
   ]
  },
  {
   "cell_type": "markdown",
   "metadata": {},
   "source": [
    "# First example (seed=1234)"
   ]
  },
  {
   "cell_type": "code",
   "execution_count": 149,
   "metadata": {},
   "outputs": [
    {
     "data": {
      "text/plain": [
       "[('0000', (0.345-0.031j)),\n",
       " ('0001', (0.001+0.0103j)),\n",
       " ('0010', (0.011+0.009j)),\n",
       " ('0011', (-0.0096+0.0117j)),\n",
       " ('0100', (0.466-0.0444j)),\n",
       " ('0101', (0.0014+0.0148j)),\n",
       " ('0110', (0.0156+0.013j)),\n",
       " ('0111', (-0.0138+0.0166j)),\n",
       " ('1000', (0.466-0.0444j)),\n",
       " ('1001', (0.0014+0.0148j)),\n",
       " ('1010', (0.0156+0.013j)),\n",
       " ('1011', (-0.0138+0.0166j)),\n",
       " ('1100', (0.6582-0.0609j)),\n",
       " ('1101', (0.0019+0.0202j)),\n",
       " ('1110', (0.0215+0.0178j)),\n",
       " ('1111', (-0.0189+0.0229j))]"
      ]
     },
     "execution_count": 149,
     "metadata": {},
     "output_type": "execute_result"
    }
   ],
   "source": [
    "bitstrings=[''.join([''.join(str(j)) for j in i]) for i in list(map(list, itertools.product([0, 1], repeat=resolution+len(example_matrix1))))]\n",
    "ss=attach_bitstrings(statevector)\n",
    "ss"
   ]
  },
  {
   "cell_type": "code",
   "execution_count": 159,
   "metadata": {},
   "outputs": [
    {
     "data": {
      "text/plain": [
       "<AxesSubplot: xlabel='0'>"
      ]
     },
     "execution_count": 159,
     "metadata": {},
     "output_type": "execute_result"
    },
    {
     "data": {
      "image/png": "[encoded data removed]",
      "text/plain": [
       "<Figure size 432x288 with 1 Axes>"
      ]
     },
     "metadata": {
      "needs_background": "light"
     },
     "output_type": "display_data"
    }
   ],
   "source": [
    "import pandas as pd\n",
    "df=pd.DataFrame(ss)\n",
    "df['module']=df[1].apply(lambda x: np.sqrt(x.real**2 + x.imag**2))\n",
    "df.set_index(0).module.plot(kind='bar')"
   ]
  },
  {
   "cell_type": "code",
   "execution_count": 160,
   "metadata": {},
   "outputs": [
    {
     "data": {
      "text/html": [
       "<div>\n",
       "<style scoped>\n",
       "    .dataframe tbody tr th:only-of-type {\n",
       "        vertical-align: middle;\n",
       "    }\n",
       "\n",
       "    .dataframe tbody tr th {\n",
       "        vertical-align: top;\n",
       "    }\n",
       "\n",
       "    .dataframe thead th {\n",
       "        text-align: right;\n",
       "    }\n",
       "</style>\n",
       "<table border=\"1\" class=\"dataframe\">\n",
       "  <thead>\n",
       "    <tr style=\"text-align: right;\">\n",
       "      <th></th>\n",
       "      <th>0</th>\n",
       "      <th>1</th>\n",
       "      <th>module</th>\n",
       "    </tr>\n",
       "  </thead>\n",
       "  <tbody>\n",
       "    <tr>\n",
       "      <th>0</th>\n",
       "      <td>0000</td>\n",
       "      <td>0.3450-0.0310j</td>\n",
       "      <td>0.346390</td>\n",
       "    </tr>\n",
       "    <tr>\n",
       "      <th>1</th>\n",
       "      <td>0001</td>\n",
       "      <td>0.0010+0.0103j</td>\n",
       "      <td>0.010348</td>\n",
       "    </tr>\n",
       "    <tr>\n",
       "      <th>2</th>\n",
       "      <td>0010</td>\n",
       "      <td>0.0110+0.0090j</td>\n",
       "      <td>0.014213</td>\n",
       "    </tr>\n",
       "    <tr>\n",
       "      <th>3</th>\n",
       "      <td>0011</td>\n",
       "      <td>-0.0096+0.0117j</td>\n",
       "      <td>0.015134</td>\n",
       "    </tr>\n",
       "    <tr>\n",
       "      <th>4</th>\n",
       "      <td>0100</td>\n",
       "      <td>0.4660-0.0444j</td>\n",
       "      <td>0.468110</td>\n",
       "    </tr>\n",
       "    <tr>\n",
       "      <th>5</th>\n",
       "      <td>0101</td>\n",
       "      <td>0.0014+0.0148j</td>\n",
       "      <td>0.014866</td>\n",
       "    </tr>\n",
       "    <tr>\n",
       "      <th>6</th>\n",
       "      <td>0110</td>\n",
       "      <td>0.0156+0.0130j</td>\n",
       "      <td>0.020307</td>\n",
       "    </tr>\n",
       "    <tr>\n",
       "      <th>7</th>\n",
       "      <td>0111</td>\n",
       "      <td>-0.0138+0.0166j</td>\n",
       "      <td>0.021587</td>\n",
       "    </tr>\n",
       "    <tr>\n",
       "      <th>8</th>\n",
       "      <td>1000</td>\n",
       "      <td>0.4660-0.0444j</td>\n",
       "      <td>0.468110</td>\n",
       "    </tr>\n",
       "    <tr>\n",
       "      <th>9</th>\n",
       "      <td>1001</td>\n",
       "      <td>0.0014+0.0148j</td>\n",
       "      <td>0.014866</td>\n",
       "    </tr>\n",
       "    <tr>\n",
       "      <th>10</th>\n",
       "      <td>1010</td>\n",
       "      <td>0.0156+0.0130j</td>\n",
       "      <td>0.020307</td>\n",
       "    </tr>\n",
       "    <tr>\n",
       "      <th>11</th>\n",
       "      <td>1011</td>\n",
       "      <td>-0.0138+0.0166j</td>\n",
       "      <td>0.021587</td>\n",
       "    </tr>\n",
       "    <tr>\n",
       "      <th>12</th>\n",
       "      <td>1100</td>\n",
       "      <td>0.6582-0.0609j</td>\n",
       "      <td>0.661011</td>\n",
       "    </tr>\n",
       "    <tr>\n",
       "      <th>13</th>\n",
       "      <td>1101</td>\n",
       "      <td>0.0019+0.0202j</td>\n",
       "      <td>0.020289</td>\n",
       "    </tr>\n",
       "    <tr>\n",
       "      <th>14</th>\n",
       "      <td>1110</td>\n",
       "      <td>0.0215+0.0178j</td>\n",
       "      <td>0.027912</td>\n",
       "    </tr>\n",
       "    <tr>\n",
       "      <th>15</th>\n",
       "      <td>1111</td>\n",
       "      <td>-0.0189+0.0229j</td>\n",
       "      <td>0.029692</td>\n",
       "    </tr>\n",
       "  </tbody>\n",
       "</table>\n",
       "</div>"
      ],
      "text/plain": [
       "       0               1    module\n",
       "0   0000  0.3450-0.0310j  0.346390\n",
       "1   0001  0.0010+0.0103j  0.010348\n",
       "2   0010  0.0110+0.0090j  0.014213\n",
       "3   0011 -0.0096+0.0117j  0.015134\n",
       "4   0100  0.4660-0.0444j  0.468110\n",
       "5   0101  0.0014+0.0148j  0.014866\n",
       "6   0110  0.0156+0.0130j  0.020307\n",
       "7   0111 -0.0138+0.0166j  0.021587\n",
       "8   1000  0.4660-0.0444j  0.468110\n",
       "9   1001  0.0014+0.0148j  0.014866\n",
       "10  1010  0.0156+0.0130j  0.020307\n",
       "11  1011 -0.0138+0.0166j  0.021587\n",
       "12  1100  0.6582-0.0609j  0.661011\n",
       "13  1101  0.0019+0.0202j  0.020289\n",
       "14  1110  0.0215+0.0178j  0.027912\n",
       "15  1111 -0.0189+0.0229j  0.029692"
      ]
     },
     "execution_count": 160,
     "metadata": {},
     "output_type": "execute_result"
    }
   ],
   "source": [
    "df"
   ]
  },
  {
   "cell_type": "code",
   "execution_count": 152,
   "metadata": {},
   "outputs": [
    {
     "data": {
      "text/plain": [
       "0    00\n",
       "3    11\n",
       "Name: 0, dtype: object"
      ]
     },
     "execution_count": 152,
     "metadata": {},
     "output_type": "execute_result"
    }
   ],
   "source": [
    "eig_qubits=df.loc[df.head(4)['module'].nlargest(2).index][0].str[-2:]\n",
    "eig_qubits"
   ]
  },
  {
   "cell_type": "markdown",
   "metadata": {},
   "source": [
    "Eigenvalues\n",
    "\n",
    "$$00 => 0*1/2^2+0*1/2^1 =>  0 $$\n",
    "\n",
    "$$11 => 1*1/2^2+1*1/2^1=>0.75$$\n",
    "\n",
    "\n",
    "seed=1234"
   ]
  },
  {
   "cell_type": "code",
   "execution_count": 153,
   "metadata": {},
   "outputs": [
    {
     "name": "stdout",
     "output_type": "stream",
     "text": [
      "00 [0.34638995 0.46811041 0.46811041 0.66101138]\n",
      "00 [0.34722835 0.46924342 0.46924342 0.66261128]\n",
      "11 [0.0151344  0.02158703 0.02158703 0.02969209]\n",
      "11 [0.33486214 0.47763248 0.47763248 0.65696406]\n"
     ]
    }
   ],
   "source": [
    "for i in eig_qubits:\n",
    "    df1=df[df[0].str.endswith(str(i))]\n",
    "    l=df1['module'].values\n",
    "    print(i, l)\n",
    "    normalization_factor=np.sqrt((1/(sum(l**2))))\n",
    "    l*=normalization_factor\n",
    "    print(i,l)"
   ]
  },
  {
   "cell_type": "markdown",
   "metadata": {},
   "source": [
    "$$\\left|00\\right\\rangle(0.34722835|00\\rangle+0.46924342|01\\rangle+0.46924342|10\\rangle+0.66261128|11\\rangle) =$$\n",
    "\n",
    "$$\\left|00\\right\\rangle(0.46924342|0\\rangle(0.7399|0\\rangle+|1\\rangle)+0.66261|1\\rangle(0.70|0\\rangle+|1\\rangle)) =$$\n",
    "\n",
    "$$\\sqrt{0.66261}=0.8140 -> posizione 1$$ \n",
    "\n",
    "$$0.8140*0.70=0.569 -> posizione 0$$\n",
    "\n",
    "\n",
    "$$\\left|11\\right\\rangle(0.33486214|00\\rangle+0.47763248|01\\rangle+0.47763248|10\\rangle+0.65696406|11\\rangle) =$$\n",
    "\n",
    "$$\\left|11\\right\\rangle(0.47763248|0\\rangle(0.70|0\\rangle+|1\\rangle)+0.65696406|1\\rangle(0.72|0\\rangle+|1\\rangle)) =$$\n",
    "\n",
    "$$\\sqrt{0.65696406}=0.8105 -> posizione 1$$ \n",
    "\n",
    "$$0.8140*0.70=0.58 -> posizione 0$$\n",
    "\n",
    "\n",
    "\n",
    "\n",
    "seed=1234"
   ]
  },
  {
   "cell_type": "code",
   "execution_count": 135,
   "metadata": {},
   "outputs": [
    {
     "data": {
      "text/plain": [
       "(array([0.0098868, 0.9901132]),\n",
       " array([[-0.81195046, -0.58372635],\n",
       "        [ 0.58372635, -0.81195046]]))"
      ]
     },
     "execution_count": 135,
     "metadata": {},
     "output_type": "execute_result"
    }
   ],
   "source": [
    "np.linalg.eig(example_matrix1)"
   ]
  },
  {
   "cell_type": "markdown",
   "metadata": {},
   "source": [
    "# Second example (seed=14)"
   ]
  },
  {
   "cell_type": "code",
   "execution_count": 314,
   "metadata": {},
   "outputs": [
    {
     "data": {
      "text/plain": [
       "[('0000', (-0.0471-0.0569j)),\n",
       " ('0001', (0.0731-0.0245j)),\n",
       " ('0010', (0.1264-0.0846j)),\n",
       " ('0011', (0.5032+0.166j)),\n",
       " ('0100', (-0.0248-0.0834j)),\n",
       " ('0101', (0.0384-0.0359j)),\n",
       " ('0110', (-0.1104-0.0063j)),\n",
       " ('0111', (0.4418+0.1256j)),\n",
       " ('1000', (-0.0248-0.0834j)),\n",
       " ('1001', (0.0384-0.0359j)),\n",
       " ('1010', (-0.1104-0.0063j)),\n",
       " ('1011', (0.4418+0.1256j)),\n",
       " ('1100', (-0.0414-0.0378j)),\n",
       " ('1101', (0.0642-0.0163j)),\n",
       " ('1110', (0.1518-0.0831j)),\n",
       " ('1111', (0.4017+0.1372j))]"
      ]
     },
     "execution_count": 314,
     "metadata": {},
     "output_type": "execute_result"
    }
   ],
   "source": [
    "bitstrings=[''.join([''.join(str(j)) for j in i]) for i in list(map(list, itertools.product([0, 1], repeat=resolution+len(example_matrix1))))]\n",
    "ss=attach_bitstrings(statevector)\n",
    "ss"
   ]
  },
  {
   "cell_type": "code",
   "execution_count": 315,
   "metadata": {},
   "outputs": [
    {
     "data": {
      "text/plain": [
       "<AxesSubplot: xlabel='0'>"
      ]
     },
     "execution_count": 315,
     "metadata": {},
     "output_type": "execute_result"
    },
    {
     "data": {
      "image/png": "[encoded data removed]",
      "text/plain": [
       "<Figure size 432x288 with 1 Axes>"
      ]
     },
     "metadata": {
      "needs_background": "light"
     },
     "output_type": "display_data"
    }
   ],
   "source": [
    "df=pd.DataFrame(ss)\n",
    "df['module']=df[1].apply(lambda x: np.sqrt(x.real**2 + x.imag**2))\n",
    "df.set_index(0).module.plot(kind='bar')"
   ]
  },
  {
   "cell_type": "code",
   "execution_count": 333,
   "metadata": {},
   "outputs": [
    {
     "data": {
      "text/plain": [
       "<AxesSubplot: xlabel='state'>"
      ]
     },
     "execution_count": 333,
     "metadata": {},
     "output_type": "execute_result"
    },
    {
     "data": {
      "image/png": "[encoded data removed]",
      "text/plain": [
       "<Figure size 432x288 with 1 Axes>"
      ]
     },
     "metadata": {
      "needs_background": "light"
     },
     "output_type": "display_data"
    }
   ],
   "source": [
    "df.columns=['state','dp','module']\n",
    "df.query(\"state.str.endswith('10')\").set_index(\"state\").module.plot(kind='bar')"
   ]
  },
  {
   "cell_type": "code",
   "execution_count": 334,
   "metadata": {},
   "outputs": [
    {
     "data": {
      "text/html": [
       "<div>\n",
       "<style scoped>\n",
       "    .dataframe tbody tr th:only-of-type {\n",
       "        vertical-align: middle;\n",
       "    }\n",
       "\n",
       "    .dataframe tbody tr th {\n",
       "        vertical-align: top;\n",
       "    }\n",
       "\n",
       "    .dataframe thead th {\n",
       "        text-align: right;\n",
       "    }\n",
       "</style>\n",
       "<table border=\"1\" class=\"dataframe\">\n",
       "  <thead>\n",
       "    <tr style=\"text-align: right;\">\n",
       "      <th></th>\n",
       "      <th>dp</th>\n",
       "      <th>module</th>\n",
       "    </tr>\n",
       "    <tr>\n",
       "      <th>state</th>\n",
       "      <th></th>\n",
       "      <th></th>\n",
       "    </tr>\n",
       "  </thead>\n",
       "  <tbody>\n",
       "    <tr>\n",
       "      <th>0010</th>\n",
       "      <td>0.1264-0.0846j</td>\n",
       "      <td>0.152099</td>\n",
       "    </tr>\n",
       "    <tr>\n",
       "      <th>0110</th>\n",
       "      <td>-0.1104-0.0063j</td>\n",
       "      <td>0.110580</td>\n",
       "    </tr>\n",
       "    <tr>\n",
       "      <th>1010</th>\n",
       "      <td>-0.1104-0.0063j</td>\n",
       "      <td>0.110580</td>\n",
       "    </tr>\n",
       "    <tr>\n",
       "      <th>1110</th>\n",
       "      <td>0.1518-0.0831j</td>\n",
       "      <td>0.173057</td>\n",
       "    </tr>\n",
       "  </tbody>\n",
       "</table>\n",
       "</div>"
      ],
      "text/plain": [
       "                   dp    module\n",
       "state                          \n",
       "0010   0.1264-0.0846j  0.152099\n",
       "0110  -0.1104-0.0063j  0.110580\n",
       "1010  -0.1104-0.0063j  0.110580\n",
       "1110   0.1518-0.0831j  0.173057"
      ]
     },
     "execution_count": 334,
     "metadata": {},
     "output_type": "execute_result"
    }
   ],
   "source": [
    "df.columns=['state','dp','module']\n",
    "df.query(\"state.str.endswith('10')\").set_index(\"state\")"
   ]
  },
  {
   "cell_type": "code",
   "execution_count": 316,
   "metadata": {},
   "outputs": [
    {
     "data": {
      "text/html": [
       "<div>\n",
       "<style scoped>\n",
       "    .dataframe tbody tr th:only-of-type {\n",
       "        vertical-align: middle;\n",
       "    }\n",
       "\n",
       "    .dataframe tbody tr th {\n",
       "        vertical-align: top;\n",
       "    }\n",
       "\n",
       "    .dataframe thead th {\n",
       "        text-align: right;\n",
       "    }\n",
       "</style>\n",
       "<table border=\"1\" class=\"dataframe\">\n",
       "  <thead>\n",
       "    <tr style=\"text-align: right;\">\n",
       "      <th></th>\n",
       "      <th>0</th>\n",
       "      <th>1</th>\n",
       "      <th>module</th>\n",
       "    </tr>\n",
       "  </thead>\n",
       "  <tbody>\n",
       "    <tr>\n",
       "      <th>0</th>\n",
       "      <td>0000</td>\n",
       "      <td>-0.0471-0.0569j</td>\n",
       "      <td>0.073865</td>\n",
       "    </tr>\n",
       "    <tr>\n",
       "      <th>1</th>\n",
       "      <td>0001</td>\n",
       "      <td>0.0731-0.0245j</td>\n",
       "      <td>0.077096</td>\n",
       "    </tr>\n",
       "    <tr>\n",
       "      <th>2</th>\n",
       "      <td>0010</td>\n",
       "      <td>0.1264-0.0846j</td>\n",
       "      <td>0.152099</td>\n",
       "    </tr>\n",
       "    <tr>\n",
       "      <th>3</th>\n",
       "      <td>0011</td>\n",
       "      <td>0.5032+0.1660j</td>\n",
       "      <td>0.529874</td>\n",
       "    </tr>\n",
       "    <tr>\n",
       "      <th>4</th>\n",
       "      <td>0100</td>\n",
       "      <td>-0.0248-0.0834j</td>\n",
       "      <td>0.087009</td>\n",
       "    </tr>\n",
       "    <tr>\n",
       "      <th>5</th>\n",
       "      <td>0101</td>\n",
       "      <td>0.0384-0.0359j</td>\n",
       "      <td>0.052568</td>\n",
       "    </tr>\n",
       "    <tr>\n",
       "      <th>6</th>\n",
       "      <td>0110</td>\n",
       "      <td>-0.1104-0.0063j</td>\n",
       "      <td>0.110580</td>\n",
       "    </tr>\n",
       "    <tr>\n",
       "      <th>7</th>\n",
       "      <td>0111</td>\n",
       "      <td>0.4418+0.1256j</td>\n",
       "      <td>0.459307</td>\n",
       "    </tr>\n",
       "    <tr>\n",
       "      <th>8</th>\n",
       "      <td>1000</td>\n",
       "      <td>-0.0248-0.0834j</td>\n",
       "      <td>0.087009</td>\n",
       "    </tr>\n",
       "    <tr>\n",
       "      <th>9</th>\n",
       "      <td>1001</td>\n",
       "      <td>0.0384-0.0359j</td>\n",
       "      <td>0.052568</td>\n",
       "    </tr>\n",
       "    <tr>\n",
       "      <th>10</th>\n",
       "      <td>1010</td>\n",
       "      <td>-0.1104-0.0063j</td>\n",
       "      <td>0.110580</td>\n",
       "    </tr>\n",
       "    <tr>\n",
       "      <th>11</th>\n",
       "      <td>1011</td>\n",
       "      <td>0.4418+0.1256j</td>\n",
       "      <td>0.459307</td>\n",
       "    </tr>\n",
       "    <tr>\n",
       "      <th>12</th>\n",
       "      <td>1100</td>\n",
       "      <td>-0.0414-0.0378j</td>\n",
       "      <td>0.056061</td>\n",
       "    </tr>\n",
       "    <tr>\n",
       "      <th>13</th>\n",
       "      <td>1101</td>\n",
       "      <td>0.0642-0.0163j</td>\n",
       "      <td>0.066237</td>\n",
       "    </tr>\n",
       "    <tr>\n",
       "      <th>14</th>\n",
       "      <td>1110</td>\n",
       "      <td>0.1518-0.0831j</td>\n",
       "      <td>0.173057</td>\n",
       "    </tr>\n",
       "    <tr>\n",
       "      <th>15</th>\n",
       "      <td>1111</td>\n",
       "      <td>0.4017+0.1372j</td>\n",
       "      <td>0.424484</td>\n",
       "    </tr>\n",
       "  </tbody>\n",
       "</table>\n",
       "</div>"
      ],
      "text/plain": [
       "       0               1    module\n",
       "0   0000 -0.0471-0.0569j  0.073865\n",
       "1   0001  0.0731-0.0245j  0.077096\n",
       "2   0010  0.1264-0.0846j  0.152099\n",
       "3   0011  0.5032+0.1660j  0.529874\n",
       "4   0100 -0.0248-0.0834j  0.087009\n",
       "5   0101  0.0384-0.0359j  0.052568\n",
       "6   0110 -0.1104-0.0063j  0.110580\n",
       "7   0111  0.4418+0.1256j  0.459307\n",
       "8   1000 -0.0248-0.0834j  0.087009\n",
       "9   1001  0.0384-0.0359j  0.052568\n",
       "10  1010 -0.1104-0.0063j  0.110580\n",
       "11  1011  0.4418+0.1256j  0.459307\n",
       "12  1100 -0.0414-0.0378j  0.056061\n",
       "13  1101  0.0642-0.0163j  0.066237\n",
       "14  1110  0.1518-0.0831j  0.173057\n",
       "15  1111  0.4017+0.1372j  0.424484"
      ]
     },
     "execution_count": 316,
     "metadata": {},
     "output_type": "execute_result"
    }
   ],
   "source": [
    "df"
   ]
  },
  {
   "cell_type": "code",
   "execution_count": 189,
   "metadata": {},
   "outputs": [
    {
     "data": {
      "text/plain": [
       "3    11\n",
       "2    10\n",
       "Name: 0, dtype: object"
      ]
     },
     "execution_count": 189,
     "metadata": {},
     "output_type": "execute_result"
    }
   ],
   "source": [
    "eig_qubits=df.loc[df.head(4)['module'].nlargest(2).index][0].str[-2:]\n",
    "eig_qubits"
   ]
  },
  {
   "cell_type": "markdown",
   "metadata": {},
   "source": [
    "Eigenvalues\n",
    "\n",
    "$$10 => 1*1/2^2+0*1/2^1 =>  0.25 $$\n",
    "\n",
    "$$11 => 1*1/2^2+1*1/2^1=>0.75$$\n",
    "\n",
    "\n",
    "seed=1234"
   ]
  },
  {
   "cell_type": "code",
   "execution_count": 191,
   "metadata": {},
   "outputs": [
    {
     "name": "stdout",
     "output_type": "stream",
     "text": [
      "11 [0.5298738  0.45930665 0.45930665 0.42448408]\n",
      "11 [0.56392592 0.4888238  0.4888238  0.45176337]\n",
      "10 [0.15209905 0.11057961 0.11057961 0.17305736]\n",
      "10 [0.54621965 0.39711462 0.39711462 0.62148536]\n"
     ]
    }
   ],
   "source": [
    "for i in eig_qubits:\n",
    "    df1=df[df[0].str.endswith(str(i))]\n",
    "    l=df1['module'].values\n",
    "    print(i, l)\n",
    "    normalization_factor=np.sqrt((1/(sum(l**2))))\n",
    "    l*=normalization_factor\n",
    "    print(i,l)"
   ]
  },
  {
   "cell_type": "markdown",
   "metadata": {},
   "source": [
    "$$\\left|11\\right\\rangle(0.56392592|00\\rangle+0.4888238|01\\rangle+0.4888238|10\\rangle+0.45176337|11\\rangle) =$$\n",
    "\n",
    "$$\\left|11\\right\\rangle(0.56392592|0\\rangle(|0\\rangle+0.8668|1\\rangle)+0.4888238|1\\rangle(|0\\rangle+0.92|1\\rangle)) =$$\n",
    "\n",
    "$$\\sqrt{0.56392592}=0.7509 -> posizione 0$$ \n",
    "\n",
    "$$0.8140*0.70=0.569 -> posizione 1$$\n",
    "\n",
    "\n",
    "$$\\left|10\\right\\rangle(0.54621965|00\\rangle+0.39711462|01\\rangle+0.39711462|10\\rangle+0.62148536|11\\rangle) =$$\n",
    "\n",
    "$$\\left|10\\right\\rangle(0.54621965|0\\rangle(|0\\rangle+0.72|1\\rangle)+0.62148536|1\\rangle(|0\\rangle+0.63|1\\rangle)) =$$\n",
    "\n",
    "$$\\sqrt{0.62148536}=0.788 -> posizione 0$$ \n",
    "\n",
    "$$0.788*0.63=0.4966 -> posizione 1$$\n",
    "\n",
    "\n",
    "\n",
    "\n",
    "seed=14"
   ]
  },
  {
   "cell_type": "code",
   "execution_count": 197,
   "metadata": {},
   "outputs": [
    {
     "data": {
      "text/plain": [
       "(array([0.78188847, 0.21811153]),\n",
       " array([[ 0.7463677 , -0.66553381],\n",
       "        [ 0.66553381,  0.7463677 ]]))"
      ]
     },
     "execution_count": 197,
     "metadata": {},
     "output_type": "execute_result"
    }
   ],
   "source": [
    "np.linalg.eig(example_matrix1)"
   ]
  },
  {
   "cell_type": "markdown",
   "metadata": {},
   "source": [
    "# 3 example (seed=26)"
   ]
  },
  {
   "cell_type": "code",
   "execution_count": 260,
   "metadata": {},
   "outputs": [
    {
     "data": {
      "text/plain": [
       "[('0000', (0.2318-0.0202j)),\n",
       " ('0001', (0.0007+0.0067j)),\n",
       " ('0010', (0.0072+0.0058j)),\n",
       " ('0011', (-0.0063+0.0076j)),\n",
       " ('0100', (0.411-0.0391j)),\n",
       " ('0101', (0.0012+0.013j)),\n",
       " ('0110', (0.0138+0.0115j)),\n",
       " ('0111', (-0.0122+0.0147j)),\n",
       " ('1000', (0.411-0.0391j)),\n",
       " ('1001', (0.0012+0.013j)),\n",
       " ('1010', (0.0138+0.0115j)),\n",
       " ('1011', (-0.0122+0.0147j)),\n",
       " ('1100', (0.7713-0.0716j)),\n",
       " ('1101', (0.0022+0.0238j)),\n",
       " ('1110', (0.0252+0.0209j)),\n",
       " ('1111', (-0.0223+0.0269j))]"
      ]
     },
     "execution_count": 260,
     "metadata": {},
     "output_type": "execute_result"
    }
   ],
   "source": [
    "bitstrings=[''.join([''.join(str(j)) for j in i]) for i in list(map(list, itertools.product([0, 1], repeat=resolution+len(example_matrix1))))]\n",
    "ss=attach_bitstrings(statevector)\n",
    "ss"
   ]
  },
  {
   "cell_type": "code",
   "execution_count": 261,
   "metadata": {},
   "outputs": [
    {
     "data": {
      "text/plain": [
       "<AxesSubplot: xlabel='0'>"
      ]
     },
     "execution_count": 261,
     "metadata": {},
     "output_type": "execute_result"
    },
    {
     "data": {
      "image/png": "[encoded data removed]",
      "text/plain": [
       "<Figure size 432x288 with 1 Axes>"
      ]
     },
     "metadata": {
      "needs_background": "light"
     },
     "output_type": "display_data"
    }
   ],
   "source": [
    "df=pd.DataFrame(ss)\n",
    "df['module']=df[1].apply(lambda x: np.sqrt(x.real**2 + x.imag**2))\n",
    "df.set_index(0).module.plot(kind='bar')"
   ]
  },
  {
   "cell_type": "code",
   "execution_count": 262,
   "metadata": {},
   "outputs": [
    {
     "data": {
      "text/html": [
       "<div>\n",
       "<style scoped>\n",
       "    .dataframe tbody tr th:only-of-type {\n",
       "        vertical-align: middle;\n",
       "    }\n",
       "\n",
       "    .dataframe tbody tr th {\n",
       "        vertical-align: top;\n",
       "    }\n",
       "\n",
       "    .dataframe thead th {\n",
       "        text-align: right;\n",
       "    }\n",
       "</style>\n",
       "<table border=\"1\" class=\"dataframe\">\n",
       "  <thead>\n",
       "    <tr style=\"text-align: right;\">\n",
       "      <th></th>\n",
       "      <th>0</th>\n",
       "      <th>1</th>\n",
       "      <th>module</th>\n",
       "    </tr>\n",
       "  </thead>\n",
       "  <tbody>\n",
       "    <tr>\n",
       "      <th>0</th>\n",
       "      <td>0000</td>\n",
       "      <td>0.2318-0.0202j</td>\n",
       "      <td>0.232678</td>\n",
       "    </tr>\n",
       "    <tr>\n",
       "      <th>1</th>\n",
       "      <td>0001</td>\n",
       "      <td>0.0007+0.0067j</td>\n",
       "      <td>0.006736</td>\n",
       "    </tr>\n",
       "    <tr>\n",
       "      <th>2</th>\n",
       "      <td>0010</td>\n",
       "      <td>0.0072+0.0058j</td>\n",
       "      <td>0.009246</td>\n",
       "    </tr>\n",
       "    <tr>\n",
       "      <th>3</th>\n",
       "      <td>0011</td>\n",
       "      <td>-0.0063+0.0076j</td>\n",
       "      <td>0.009872</td>\n",
       "    </tr>\n",
       "    <tr>\n",
       "      <th>4</th>\n",
       "      <td>0100</td>\n",
       "      <td>0.4110-0.0391j</td>\n",
       "      <td>0.412856</td>\n",
       "    </tr>\n",
       "    <tr>\n",
       "      <th>5</th>\n",
       "      <td>0101</td>\n",
       "      <td>0.0012+0.0130j</td>\n",
       "      <td>0.013055</td>\n",
       "    </tr>\n",
       "    <tr>\n",
       "      <th>6</th>\n",
       "      <td>0110</td>\n",
       "      <td>0.0138+0.0115j</td>\n",
       "      <td>0.017964</td>\n",
       "    </tr>\n",
       "    <tr>\n",
       "      <th>7</th>\n",
       "      <td>0111</td>\n",
       "      <td>-0.0122+0.0147j</td>\n",
       "      <td>0.019103</td>\n",
       "    </tr>\n",
       "    <tr>\n",
       "      <th>8</th>\n",
       "      <td>1000</td>\n",
       "      <td>0.4110-0.0391j</td>\n",
       "      <td>0.412856</td>\n",
       "    </tr>\n",
       "    <tr>\n",
       "      <th>9</th>\n",
       "      <td>1001</td>\n",
       "      <td>0.0012+0.0130j</td>\n",
       "      <td>0.013055</td>\n",
       "    </tr>\n",
       "    <tr>\n",
       "      <th>10</th>\n",
       "      <td>1010</td>\n",
       "      <td>0.0138+0.0115j</td>\n",
       "      <td>0.017964</td>\n",
       "    </tr>\n",
       "    <tr>\n",
       "      <th>11</th>\n",
       "      <td>1011</td>\n",
       "      <td>-0.0122+0.0147j</td>\n",
       "      <td>0.019103</td>\n",
       "    </tr>\n",
       "    <tr>\n",
       "      <th>12</th>\n",
       "      <td>1100</td>\n",
       "      <td>0.7713-0.0716j</td>\n",
       "      <td>0.774616</td>\n",
       "    </tr>\n",
       "    <tr>\n",
       "      <th>13</th>\n",
       "      <td>1101</td>\n",
       "      <td>0.0022+0.0238j</td>\n",
       "      <td>0.023901</td>\n",
       "    </tr>\n",
       "    <tr>\n",
       "      <th>14</th>\n",
       "      <td>1110</td>\n",
       "      <td>0.0252+0.0209j</td>\n",
       "      <td>0.032739</td>\n",
       "    </tr>\n",
       "    <tr>\n",
       "      <th>15</th>\n",
       "      <td>1111</td>\n",
       "      <td>-0.0223+0.0269j</td>\n",
       "      <td>0.034941</td>\n",
       "    </tr>\n",
       "  </tbody>\n",
       "</table>\n",
       "</div>"
      ],
      "text/plain": [
       "       0               1    module\n",
       "0   0000  0.2318-0.0202j  0.232678\n",
       "1   0001  0.0007+0.0067j  0.006736\n",
       "2   0010  0.0072+0.0058j  0.009246\n",
       "3   0011 -0.0063+0.0076j  0.009872\n",
       "4   0100  0.4110-0.0391j  0.412856\n",
       "5   0101  0.0012+0.0130j  0.013055\n",
       "6   0110  0.0138+0.0115j  0.017964\n",
       "7   0111 -0.0122+0.0147j  0.019103\n",
       "8   1000  0.4110-0.0391j  0.412856\n",
       "9   1001  0.0012+0.0130j  0.013055\n",
       "10  1010  0.0138+0.0115j  0.017964\n",
       "11  1011 -0.0122+0.0147j  0.019103\n",
       "12  1100  0.7713-0.0716j  0.774616\n",
       "13  1101  0.0022+0.0238j  0.023901\n",
       "14  1110  0.0252+0.0209j  0.032739\n",
       "15  1111 -0.0223+0.0269j  0.034941"
      ]
     },
     "execution_count": 262,
     "metadata": {},
     "output_type": "execute_result"
    }
   ],
   "source": [
    "df"
   ]
  },
  {
   "cell_type": "code",
   "execution_count": 263,
   "metadata": {},
   "outputs": [
    {
     "data": {
      "text/plain": [
       "0    00\n",
       "3    11\n",
       "Name: 0, dtype: object"
      ]
     },
     "execution_count": 263,
     "metadata": {},
     "output_type": "execute_result"
    }
   ],
   "source": [
    "eig_qubits=df.loc[df.head(4)['module'].nlargest(2).index][0].str[-2:]\n",
    "eig_qubits"
   ]
  },
  {
   "cell_type": "code",
   "execution_count": 264,
   "metadata": {},
   "outputs": [
    {
     "name": "stdout",
     "output_type": "stream",
     "text": [
      "00 [0.23267849 0.41285568 0.41285568 0.7746162 ]\n",
      "00 [0.23325427 0.41387732 0.41387732 0.77653305]\n",
      "11 [0.00987168 0.01910314 0.01910314 0.03494138]\n",
      "11 [0.21812411 0.42210213 0.42210213 0.77206312]\n"
     ]
    }
   ],
   "source": [
    "for i in eig_qubits:\n",
    "    df1=df[df[0].str.endswith(str(i))]\n",
    "    l=df1['module'].values\n",
    "    print(i, l)\n",
    "    normalization_factor=np.sqrt((1/(sum(l**2))))\n",
    "    l*=normalization_factor\n",
    "    print(i,l)"
   ]
  },
  {
   "cell_type": "markdown",
   "metadata": {},
   "source": [
    "$$\\left|00\\right\\rangle(0.23325427|00\\rangle+0.41387732|01\\rangle+0.41387732|10\\rangle+0.77653305|11\\rangle) =$$\n",
    "\n",
    "$$\\left|00\\right\\rangle(0.41387732|0\\rangle(.56|0\\rangle+|1\\rangle)+0.77653305|1\\rangle(.53|0\\rangle+|1\\rangle)) =$$\n",
    "\n",
    "$$\\sqrt{0.77653305}=0.8812 -> posizione 1$$ \n",
    "\n",
    "$$0.88*0.53=0.4670 -> posizione 0$$\n",
    "\n",
    "\n",
    "$$\\left|11\\right\\rangle(0.21812411|00\\rangle+0.42210213|01\\rangle+0.42210213|10\\rangle+0.77206312|11\\rangle) =...$$\n",
    "\n",
    "\n",
    "\n",
    "\n",
    "\n",
    "seed=26"
   ]
  },
  {
   "cell_type": "code",
   "execution_count": 270,
   "metadata": {},
   "outputs": [
    {
     "data": {
      "text/plain": [
       "(array([0.00987623, 0.99012377]),\n",
       " array([[-0.87996277, -0.47504266],\n",
       "        [ 0.47504266, -0.87996277]]))"
      ]
     },
     "execution_count": 270,
     "metadata": {},
     "output_type": "execute_result"
    }
   ],
   "source": [
    "np.linalg.eig(example_matrix1)"
   ]
  },
  {
   "cell_type": "markdown",
   "metadata": {},
   "source": [
    "# Seed 19"
   ]
  },
  {
   "cell_type": "code",
   "execution_count": 284,
   "metadata": {},
   "outputs": [
    {
     "data": {
      "text/plain": [
       "[('0000', (0.6358-0.522j)),\n",
       " ('0001', (0.1237+0.1479j)),\n",
       " ('0010', (0.2199+0.019j)),\n",
       " ('0011', (-0.0323+0.3551j)),\n",
       " ('0100', (0.1395-0.1355j)),\n",
       " ('0101', (0.0271+0.0384j)),\n",
       " ('0110', (0.0533+0.0117j)),\n",
       " ('0111', (-0.0121+0.0854j)),\n",
       " ('1000', (0.1395-0.1355j)),\n",
       " ('1001', (0.0271+0.0384j)),\n",
       " ('1010', (0.0533+0.0117j)),\n",
       " ('1011', (-0.0121+0.0854j)),\n",
       " ('1100', (0.0864+0.0115j)),\n",
       " ('1101', (0.0168-0.0033j)),\n",
       " ('1110', (0.01-0.027j)),\n",
       " ('1111', (0.0155+0.0187j))]"
      ]
     },
     "execution_count": 284,
     "metadata": {},
     "output_type": "execute_result"
    }
   ],
   "source": [
    "bitstrings=[''.join([''.join(str(j)) for j in i]) for i in list(map(list, itertools.product([0, 1], repeat=resolution+len(example_matrix1))))]\n",
    "ss=attach_bitstrings(statevector)\n",
    "ss"
   ]
  },
  {
   "cell_type": "code",
   "execution_count": 285,
   "metadata": {},
   "outputs": [
    {
     "data": {
      "text/plain": [
       "<AxesSubplot: xlabel='0'>"
      ]
     },
     "execution_count": 285,
     "metadata": {},
     "output_type": "execute_result"
    },
    {
     "data": {
      "image/png": "[encoded data removed]",
      "text/plain": [
       "<Figure size 432x288 with 1 Axes>"
      ]
     },
     "metadata": {
      "needs_background": "light"
     },
     "output_type": "display_data"
    }
   ],
   "source": [
    "df=pd.DataFrame(ss)\n",
    "df['module']=df[1].apply(lambda x: np.sqrt(x.real**2 + x.imag**2))\n",
    "df.set_index(0).module.plot(kind='bar')"
   ]
  },
  {
   "cell_type": "code",
   "execution_count": 286,
   "metadata": {},
   "outputs": [
    {
     "data": {
      "text/html": [
       "<div>\n",
       "<style scoped>\n",
       "    .dataframe tbody tr th:only-of-type {\n",
       "        vertical-align: middle;\n",
       "    }\n",
       "\n",
       "    .dataframe tbody tr th {\n",
       "        vertical-align: top;\n",
       "    }\n",
       "\n",
       "    .dataframe thead th {\n",
       "        text-align: right;\n",
       "    }\n",
       "</style>\n",
       "<table border=\"1\" class=\"dataframe\">\n",
       "  <thead>\n",
       "    <tr style=\"text-align: right;\">\n",
       "      <th></th>\n",
       "      <th>0</th>\n",
       "      <th>1</th>\n",
       "      <th>module</th>\n",
       "    </tr>\n",
       "  </thead>\n",
       "  <tbody>\n",
       "    <tr>\n",
       "      <th>0</th>\n",
       "      <td>0000</td>\n",
       "      <td>0.6358-0.5220j</td>\n",
       "      <td>0.822633</td>\n",
       "    </tr>\n",
       "    <tr>\n",
       "      <th>1</th>\n",
       "      <td>0001</td>\n",
       "      <td>0.1237+0.1479j</td>\n",
       "      <td>0.192811</td>\n",
       "    </tr>\n",
       "    <tr>\n",
       "      <th>2</th>\n",
       "      <td>0010</td>\n",
       "      <td>0.2199+0.0190j</td>\n",
       "      <td>0.220719</td>\n",
       "    </tr>\n",
       "    <tr>\n",
       "      <th>3</th>\n",
       "      <td>0011</td>\n",
       "      <td>-0.0323+0.3551j</td>\n",
       "      <td>0.356566</td>\n",
       "    </tr>\n",
       "    <tr>\n",
       "      <th>4</th>\n",
       "      <td>0100</td>\n",
       "      <td>0.1395-0.1355j</td>\n",
       "      <td>0.194475</td>\n",
       "    </tr>\n",
       "    <tr>\n",
       "      <th>5</th>\n",
       "      <td>0101</td>\n",
       "      <td>0.0271+0.0384j</td>\n",
       "      <td>0.047000</td>\n",
       "    </tr>\n",
       "    <tr>\n",
       "      <th>6</th>\n",
       "      <td>0110</td>\n",
       "      <td>0.0533+0.0117j</td>\n",
       "      <td>0.054569</td>\n",
       "    </tr>\n",
       "    <tr>\n",
       "      <th>7</th>\n",
       "      <td>0111</td>\n",
       "      <td>-0.0121+0.0854j</td>\n",
       "      <td>0.086253</td>\n",
       "    </tr>\n",
       "    <tr>\n",
       "      <th>8</th>\n",
       "      <td>1000</td>\n",
       "      <td>0.1395-0.1355j</td>\n",
       "      <td>0.194475</td>\n",
       "    </tr>\n",
       "    <tr>\n",
       "      <th>9</th>\n",
       "      <td>1001</td>\n",
       "      <td>0.0271+0.0384j</td>\n",
       "      <td>0.047000</td>\n",
       "    </tr>\n",
       "    <tr>\n",
       "      <th>10</th>\n",
       "      <td>1010</td>\n",
       "      <td>0.0533+0.0117j</td>\n",
       "      <td>0.054569</td>\n",
       "    </tr>\n",
       "    <tr>\n",
       "      <th>11</th>\n",
       "      <td>1011</td>\n",
       "      <td>-0.0121+0.0854j</td>\n",
       "      <td>0.086253</td>\n",
       "    </tr>\n",
       "    <tr>\n",
       "      <th>12</th>\n",
       "      <td>1100</td>\n",
       "      <td>0.0864+0.0115j</td>\n",
       "      <td>0.087162</td>\n",
       "    </tr>\n",
       "    <tr>\n",
       "      <th>13</th>\n",
       "      <td>1101</td>\n",
       "      <td>0.0168-0.0033j</td>\n",
       "      <td>0.017121</td>\n",
       "    </tr>\n",
       "    <tr>\n",
       "      <th>14</th>\n",
       "      <td>1110</td>\n",
       "      <td>0.0100-0.0270j</td>\n",
       "      <td>0.028792</td>\n",
       "    </tr>\n",
       "    <tr>\n",
       "      <th>15</th>\n",
       "      <td>1111</td>\n",
       "      <td>0.0155+0.0187j</td>\n",
       "      <td>0.024289</td>\n",
       "    </tr>\n",
       "  </tbody>\n",
       "</table>\n",
       "</div>"
      ],
      "text/plain": [
       "       0               1    module\n",
       "0   0000  0.6358-0.5220j  0.822633\n",
       "1   0001  0.1237+0.1479j  0.192811\n",
       "2   0010  0.2199+0.0190j  0.220719\n",
       "3   0011 -0.0323+0.3551j  0.356566\n",
       "4   0100  0.1395-0.1355j  0.194475\n",
       "5   0101  0.0271+0.0384j  0.047000\n",
       "6   0110  0.0533+0.0117j  0.054569\n",
       "7   0111 -0.0121+0.0854j  0.086253\n",
       "8   1000  0.1395-0.1355j  0.194475\n",
       "9   1001  0.0271+0.0384j  0.047000\n",
       "10  1010  0.0533+0.0117j  0.054569\n",
       "11  1011 -0.0121+0.0854j  0.086253\n",
       "12  1100  0.0864+0.0115j  0.087162\n",
       "13  1101  0.0168-0.0033j  0.017121\n",
       "14  1110  0.0100-0.0270j  0.028792\n",
       "15  1111  0.0155+0.0187j  0.024289"
      ]
     },
     "execution_count": 286,
     "metadata": {},
     "output_type": "execute_result"
    }
   ],
   "source": [
    "df"
   ]
  },
  {
   "cell_type": "code",
   "execution_count": 287,
   "metadata": {},
   "outputs": [
    {
     "data": {
      "text/plain": [
       "0    00\n",
       "3    11\n",
       "Name: 0, dtype: object"
      ]
     },
     "execution_count": 287,
     "metadata": {},
     "output_type": "execute_result"
    }
   ],
   "source": [
    "eig_qubits=df.loc[df.head(4)['module'].nlargest(2).index][0].str[-2:]\n",
    "eig_qubits"
   ]
  },
  {
   "cell_type": "code",
   "execution_count": 288,
   "metadata": {},
   "outputs": [
    {
     "name": "stdout",
     "output_type": "stream",
     "text": [
      "00 [0.82263336 0.19447493 0.19447493 0.08716198]\n",
      "00 [0.94364762 0.22308335 0.22308335 0.09998402]\n",
      "11 [0.35656598 0.08625294 0.08625294 0.02428868]\n",
      "11 [0.94420737 0.22840278 0.22840278 0.06431783]\n"
     ]
    }
   ],
   "source": [
    "for i in eig_qubits:\n",
    "    df1=df[df[0].str.endswith(str(i))]\n",
    "    l=df1['module'].values\n",
    "    print(i, l)\n",
    "    normalization_factor=np.sqrt((1/(sum(l**2))))\n",
    "    l*=normalization_factor\n",
    "    print(i,l)"
   ]
  },
  {
   "cell_type": "code",
   "execution_count": 297,
   "metadata": {},
   "outputs": [
    {
     "data": {
      "text/plain": [
       "0.23268863315598376"
      ]
     },
     "execution_count": 297,
     "metadata": {},
     "output_type": "execute_result"
    }
   ],
   "source": [
    "np.sqrt(0.94)*0.24"
   ]
  },
  {
   "cell_type": "markdown",
   "metadata": {},
   "source": [
    "$$\\left|00\\right\\rangle(0.94364762|00\\rangle+0.22308335|01\\rangle+0.22308335|10\\rangle+0.09998402|11\\rangle) =$$\n",
    "\n",
    "$$\\left|00\\right\\rangle(.94364762|0\\rangle(|0\\rangle+0.23640|1\\rangle)+0.223083|1\\rangle(|0\\rangle+0.448191|1\\rangle)) =$$\n",
    "\n",
    "$$\\sqrt{0.94364762}=0.9713 -> posizione 0$$ \n",
    "\n",
    "$$0.9713*0.23640=0.2296 -> posizione 1$$\n",
    "\n",
    "\n",
    "$$\\left|11\\right\\rangle(0.94420737|00\\rangle+0.22840278|01\\rangle+0.22840|10\\rangle+0.06431783|11\\rangle) =$$\n",
    "\n",
    "$$\\left|11\\right\\rangle(.94420737|0\\rangle(|0\\rangle+0.24|1\\rangle)+0.0.22840|1\\rangle(|0\\rangle+0.74|1\\rangle)) =$$\n",
    "\n",
    "$$\\sqrt{0.94420737}=0.97 -> posizione 0$$ \n",
    "\n",
    "$$0.97*0.23640=0.2326 -> posizione 1$$\n",
    "\n",
    "\n",
    "\n",
    "\n",
    "\n",
    "seed=26"
   ]
  },
  {
   "cell_type": "code",
   "execution_count": 292,
   "metadata": {},
   "outputs": [
    {
     "data": {
      "text/plain": [
       "(array([0.92658152, 0.07341848]),\n",
       " array([[ 0.9725247 , -0.23279972],\n",
       "        [ 0.23279972,  0.9725247 ]]))"
      ]
     },
     "execution_count": 292,
     "metadata": {},
     "output_type": "execute_result"
    }
   ],
   "source": [
    "np.linalg.eig(example_matrix1)"
   ]
  }
 ],
 "metadata": {
  "kernelspec": {
   "display_name": "Python 3 (ipykernel)",
   "language": "python",
   "name": "python3"
  },
  "language_info": {
   "codemirror_mode": {
    "name": "ipython",
    "version": 3
   },
   "file_extension": ".py",
   "mimetype": "text/x-python",
   "name": "python",
   "nbconvert_exporter": "python",
   "pygments_lexer": "ipython3",
   "version": "3.8.11"
  },
  "vscode": {
   "interpreter": {
    "hash": "3820477eeda6a2056d25dbf35341ad4ea495fec12a885dc74045ce43b88b4168"
   }
  }
 },
 "nbformat": 4,
 "nbformat_minor": 4
}
