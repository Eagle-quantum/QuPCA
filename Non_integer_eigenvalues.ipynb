{
 "cells": [
  {
   "cell_type": "markdown",
   "metadata": {},
   "source": [
    "### Example taken from *A Low-Complexity Quantum Principal Component Analysis Algorithm*\n",
    "https://doi.org/10.1109/TQE.2021.3140152"
   ]
  },
  {
   "cell_type": "code",
   "execution_count": 4,
   "metadata": {},
   "outputs": [
    {
     "name": "stdout",
     "output_type": "stream",
     "text": [
      "[0.01831475 0.01379765 0.01155882 0.03585797 0.01379765 0.0905509\n",
      " 0.05501382 0.07746914 0.01155882 0.05501382 0.0532836  0.09888337\n",
      " 0.03585797 0.07746914 0.09888337 0.25268921]\n"
     ]
    }
   ],
   "source": [
    "import numpy as np\n",
    "import itertools\n",
    "from qiskit_experiments.library import StateTomography\n",
    "from qiskit.visualization import plot_state_city,array_to_latex\n",
    "import qiskit.quantum_info as qi\n",
    "from qiskit.visualization import plot_histogram\n",
    "from qiskit.circuit.library.standard_gates import RYGate\n",
    "from qiskit import Aer, transpile, execute\n",
    "from qiskit import QuantumRegister, ClassicalRegister, QuantumCircuit\n",
    "from qiskit.algorithms.linear_solvers.matrices.numpy_matrix import NumPyMatrix\n",
    "from qiskit.circuit.library import PhaseEstimation\n",
    "import matplotlib.pyplot as plt\n",
    "from qiskit import BasicAer, execute\n",
    "import scipy as sc\n",
    "import pandas as pd\n",
    "from qiskit.circuit.library.data_preparation.state_preparation import *\n",
    "#9329 con 6 res\n",
    "#seed 10 con resolution 5\n",
    "np.random.seed(4747)\n",
    "\n",
    "example_matrix=np.random.rand(4,4)\n",
    "\n",
    "\n",
    "example_matrix=np.dot(example_matrix,example_matrix.T)\n",
    "\n",
    "sum_squares = (example_matrix**2).sum()\n",
    "input_probabilities = (example_matrix**2/sum_squares).flatten()\n",
    "\n",
    "print(input_probabilities)"
   ]
  },
  {
   "cell_type": "code",
   "execution_count": 5,
   "metadata": {},
   "outputs": [
    {
     "data": {
      "text/plain": [
       "(array([[0.63413752, 0.55040898, 0.50377871, 0.88731099],\n",
       "        [0.55040898, 1.41003332, 1.09905367, 1.30420951],\n",
       "        [0.50377871, 1.09905367, 1.08163257, 1.47348129],\n",
       "        [0.88731099, 1.30420951, 1.47348129, 2.35546331]]),\n",
       " (array([4.64707139, 0.52389412, 0.29437078, 0.01593043]),\n",
       "  array([[-0.27669967, -0.30381059,  0.88229208,  0.2295585 ],\n",
       "         [-0.48274483,  0.77216236,  0.20746302, -0.35732594],\n",
       "         [-0.47083591,  0.16297368, -0.30291613,  0.81240073],\n",
       "         [-0.68462272, -0.53376399, -0.29455322, -0.39953239]])))"
      ]
     },
     "execution_count": 5,
     "metadata": {},
     "output_type": "execute_result"
    }
   ],
   "source": [
    "example_matrix,np.linalg.eig(example_matrix)"
   ]
  },
  {
   "cell_type": "code",
   "execution_count": 39,
   "metadata": {},
   "outputs": [
    {
     "data": {
      "text/plain": [
       "(array([[0.11569178, 0.10041638, 0.09190918, 0.16188064],\n",
       "        [0.10041638, 0.25724589, 0.20051089, 0.23793944],\n",
       "        [0.09190918, 0.20051089, 0.19733259, 0.26882131],\n",
       "        [0.16188064, 0.23793944, 0.26882131, 0.42972974]]),\n",
       " (array([0.84780975, 0.09557902, 0.05370488, 0.00290634]),\n",
       "  array([[-0.27669967, -0.30381059,  0.88229208,  0.2295585 ],\n",
       "         [-0.48274483,  0.77216236,  0.20746302, -0.35732594],\n",
       "         [-0.47083591,  0.16297368, -0.30291613,  0.81240073],\n",
       "         [-0.68462272, -0.53376399, -0.29455322, -0.39953239]])))"
      ]
     },
     "execution_count": 39,
     "metadata": {},
     "output_type": "execute_result"
    }
   ],
   "source": [
    "example_matrix1=example_matrix/np.trace(example_matrix)\n",
    "example_matrix1,np.linalg.eig(example_matrix1)"
   ]
  },
  {
   "cell_type": "code",
   "execution_count": 11,
   "metadata": {},
   "outputs": [
    {
     "name": "stdout",
     "output_type": "stream",
     "text": [
      "[0.03293514 0.00067043 0.00658233 0.04495347 0.00067043 0.23402375\n",
      " 0.05536127 0.01292277 0.00658233 0.05536127 0.06566196 0.05601457\n",
      " 0.04495347 0.01292277 0.05601457 0.31436947]\n"
     ]
    }
   ],
   "source": [
    "eig,e_v=np.linalg.eig(example_matrix1)\n",
    "#b=np.array([.6,.4])\n",
    "b=[0.6,0.3,0.06,0.04]\n",
    "BB = e_v@np.diag(b)@e_v.T\n",
    "BB, np.linalg.eig(BB)\n",
    "example_matrix2=BB\n",
    "\n",
    "sum_squares = (example_matrix2**2).sum()\n",
    "input_probabilities = (example_matrix2**2/sum_squares).flatten()\n",
    "example_matrix2=example_matrix2/np.trace(example_matrix2)\n",
    "print(input_probabilities)"
   ]
  },
  {
   "cell_type": "code",
   "execution_count": 12,
   "metadata": {},
   "outputs": [
    {
     "data": {
      "text/plain": [
       "array([4.64707139, 0.52389412, 0.29437078, 0.01593043])"
      ]
     },
     "execution_count": 12,
     "metadata": {},
     "output_type": "execute_result"
    }
   ],
   "source": [
    "np.trace(example_matrix)*np.linalg.eig(example_matrix1)[0]"
   ]
  },
  {
   "cell_type": "code",
   "execution_count": 13,
   "metadata": {},
   "outputs": [],
   "source": [
    "#Tommaso's great code for computing the thetas\n",
    "def thetas_computation(example_matrix):\n",
    "    lst_combination=[]\n",
    "\n",
    "    for k in range(1, int(np.ceil(np.log2(len(example_matrix)**2)))+1):\n",
    "        lst_combination.append(list(map(list, itertools.product([0, 1], repeat=k))))\n",
    "    container=[]\n",
    "    for lst in lst_combination:\n",
    "        container.append([''.join([''.join(str(j)) for j in i]) for i in lst])\n",
    "    all_combinations=[item for c in container for item in c]\n",
    "\n",
    "    general_bitstring=[''.join([''.join(str(j)) for j in i]) for i in list(map(list, itertools.product([0, 1], repeat=int(np.ceil(np.log2(len(example_matrix)**2))))))][:len(input_probabilities)]\n",
    "    \n",
    "    #Nodes contains all the values of the tree (except for the root)\n",
    "    nodes=[]\n",
    "    for st in all_combinations:\n",
    "        #print(st)\n",
    "        starts = [general_bitstring.index(l) for l in general_bitstring if l.startswith(st)]\n",
    "        #print(starts)\n",
    "        print(st,'->',np.sqrt(input_probabilities[starts].sum()))\n",
    "        nodes.append(np.sqrt(input_probabilities[starts].sum()))\n",
    "    \n",
    "    #add root tree\n",
    "    nodes.insert(0, 1)\n",
    "    thetas=[]\n",
    "\n",
    "    idx=0\n",
    "    for i in range(1,len(nodes),2):\n",
    "        \n",
    "        right_node=i\n",
    "        left_node=right_node+1\n",
    "        if nodes[idx]!=0:\n",
    "            thetas.append(2*np.arccos(nodes[right_node]/nodes[idx]))\n",
    "            thetas.append(2*np.arcsin(nodes[left_node]/nodes[idx]))\n",
    "        else:\n",
    "            thetas.append(0)\n",
    "            thetas.append(0)\n",
    "\n",
    "        idx+=1\n",
    "    return thetas, all_combinations\n",
    "\n",
    "# SUB = str.maketrans(\"0123456789\", \"₀₁₂₃₄₅₆₇₈₉\")\n",
    "\n",
    "# for idx,th in zip(all_combinations,thetas):\n",
    "#     print('\\u03F4(R{})'.format((str(idx).translate(SUB))),'->', th)\n",
    "#thetas"
   ]
  },
  {
   "cell_type": "code",
   "execution_count": 14,
   "metadata": {},
   "outputs": [],
   "source": [
    "def generate_qram_circuit(thetas, all_combinations):\n",
    "    \n",
    "    right_nodes_indexes=list(range(0,len(thetas),2))\n",
    "    rotations_list=list(zip(np.array(all_combinations)[right_nodes_indexes],np.array(thetas)[right_nodes_indexes]))\n",
    "\n",
    "    #qc=QuantumCircuit(len(example_matrix))\n",
    "    qc=QuantumCircuit(int(np.ceil(np.log2(len(example_matrix)**2))))\n",
    "\n",
    "    for r_l in rotations_list:\n",
    "        target_qubit=len(r_l[0])-1\n",
    "        \n",
    "        #First case of R_0\n",
    "        if target_qubit==0:\n",
    "            qc.ry(theta=r_l[1],qubit=target_qubit)\n",
    "            continue\n",
    "            \n",
    "        not_gate=[]\n",
    "        for qb in range(target_qubit):\n",
    "            if r_l[0][qb]=='0':\n",
    "                not_gate.append(qb)\n",
    "                \n",
    "        c_t_qubits=list(range(len(r_l[0])))\n",
    "        n_controls=len(range(target_qubit))\n",
    "        \n",
    "        if len(not_gate)>0:\n",
    "            qc.x(not_gate)\n",
    "            c_ry = RYGate(r_l[1]).control(n_controls)\n",
    "            qc.append(c_ry, c_t_qubits)\n",
    "            qc.x(not_gate)\n",
    "        else:\n",
    "            c_ry = RYGate(r_l[1]).control(n_controls)\n",
    "            qc.append(c_ry, c_t_qubits)\n",
    "    return qc"
   ]
  },
  {
   "cell_type": "code",
   "execution_count": 16,
   "metadata": {},
   "outputs": [
    {
     "name": "stdout",
     "output_type": "stream",
     "text": [
      "0 -> 0.6229924447944897\n",
      "1 -> 0.7822278528210208\n",
      "00 -> 0.2917899335913018\n",
      "01 -> 0.5504345746097342\n",
      "10 -> 0.4285091962904865\n",
      "11 -> 0.6544159857639985\n",
      "000 -> 0.1833182082047906\n",
      "001 -> 0.22701497722793829\n",
      "010 -> 0.48445245247739294\n",
      "011 -> 0.26131215473918995\n",
      "100 -> 0.24888471146679436\n",
      "101 -> 0.34882163307858255\n",
      "110 -> 0.2405748168415186\n",
      "111 -> 0.6085918500318055\n",
      "0000 -> 0.18148040706659815\n",
      "0001 -> 0.0258926111150805\n",
      "0010 -> 0.08113155773647743\n",
      "0011 -> 0.21202233425998773\n",
      "0100 -> 0.02589261111508048\n",
      "0101 -> 0.48376001426430837\n",
      "0110 -> 0.23528975740809904\n",
      "0111 -> 0.1136783720558852\n",
      "1000 -> 0.08113155773647743\n",
      "1001 -> 0.23528975740809904\n",
      "1010 -> 0.2562458931909445\n",
      "1011 -> 0.2366739823605128\n",
      "1100 -> 0.21202233425998773\n",
      "1101 -> 0.11367837205588521\n",
      "1110 -> 0.23667398236051285\n",
      "1111 -> 0.5606866023000294\n"
     ]
    },
    {
     "data": {
      "text/html": [
       "<pre style=\"word-wrap: normal;white-space: pre;background: #fff0;line-height: 1.1;font-family: &quot;Courier New&quot;,Courier,monospace\">     ┌────────────┐┌───┐              ┌───┐              ┌───┐             »\n",
       "q_0: ┤ Ry(1.7965) ├┤ X ├──────■───────┤ X ├──────■───────┤ X ├──────■──────»\n",
       "     └────────────┘└───┘┌─────┴──────┐└───┘┌─────┴──────┐├───┤      │      »\n",
       "q_1: ───────────────────┤ Ry(2.1667) ├─────┤ Ry(1.9821) ├┤ X ├──────■──────»\n",
       "                        └────────────┘     └────────────┘└───┘┌─────┴─────┐»\n",
       "q_2: ─────────────────────────────────────────────────────────┤ Ry(1.783) ├»\n",
       "                                                              └───────────┘»\n",
       "q_3: ──────────────────────────────────────────────────────────────────────»\n",
       "                                                                           »\n",
       "«     ┌───┐┌───┐               ┌───┐                                 ┌───┐»\n",
       "«q_0: ┤ X ├┤ X ├───────■───────┤ X ├──────■──────────────────■───────┤ X ├»\n",
       "«     ├───┤└───┘       │       ├───┤      │       ┌───┐      │       ├───┤»\n",
       "«q_1: ┤ X ├────────────■───────┤ X ├──────■───────┤ X ├──────■───────┤ X ├»\n",
       "«     └───┘     ┌──────┴──────┐└───┘┌─────┴──────┐└───┘┌─────┴──────┐├───┤»\n",
       "«q_2: ──────────┤ Ry(0.98933) ├─────┤ Ry(1.9021) ├─────┤ Ry(2.3887) ├┤ X ├»\n",
       "«               └─────────────┘     └────────────┘     └────────────┘└───┘»\n",
       "«q_3: ────────────────────────────────────────────────────────────────────»\n",
       "«                                                                         »\n",
       "«                    ┌───┐┌───┐              ┌───┐┌───┐              ┌───┐┌───┐»\n",
       "«q_0: ───────■───────┤ X ├┤ X ├──────■───────┤ X ├┤ X ├──────■───────┤ X ├┤ X ├»\n",
       "«            │       ├───┤├───┤      │       ├───┤└───┘      │       └───┘└───┘»\n",
       "«q_1: ───────■───────┤ X ├┤ X ├──────■───────┤ X ├───────────■─────────────────»\n",
       "«            │       ├───┤└───┘      │       ├───┤           │       ┌───┐     »\n",
       "«q_2: ───────■───────┤ X ├───────────■───────┤ X ├───────────■───────┤ X ├─────»\n",
       "«     ┌──────┴──────┐└───┘     ┌─────┴──────┐└───┘     ┌─────┴──────┐└───┘     »\n",
       "«q_3: ┤ Ry(0.28344) ├──────────┤ Ry(2.4107) ├──────────┤ Ry(3.0346) ├──────────»\n",
       "«     └─────────────┘          └────────────┘          └────────────┘          »\n",
       "«                    ┌───┐                                           »\n",
       "«q_0: ───────■───────┤ X ├──────■───────────────────────■────────────»\n",
       "«            │       ├───┤      │       ┌───┐┌───┐      │       ┌───┐»\n",
       "«q_1: ───────■───────┤ X ├──────■───────┤ X ├┤ X ├──────■───────┤ X ├»\n",
       "«            │       ├───┤      │       ├───┤└───┘      │       ├───┤»\n",
       "«q_2: ───────■───────┤ X ├──────■───────┤ X ├───────────■───────┤ X ├»\n",
       "«     ┌──────┴──────┐└───┘┌─────┴──────┐└───┘     ┌─────┴──────┐└───┘»\n",
       "«q_3: ┤ Ry(0.90014) ├─────┤ Ry(2.4775) ├──────────┤ Ry(1.4914) ├─────»\n",
       "«     └─────────────┘     └────────────┘          └────────────┘     »\n",
       "«                                       \n",
       "«q_0: ───────■──────────────────■───────\n",
       "«            │                  │       \n",
       "«q_1: ───────■──────────────────■───────\n",
       "«            │       ┌───┐      │       \n",
       "«q_2: ───────■───────┤ X ├──────■───────\n",
       "«     ┌──────┴──────┐└───┘┌─────┴──────┐\n",
       "«q_3: ┤ Ry(0.98431) ├─────┤ Ry(2.3427) ├\n",
       "«     └─────────────┘     └────────────┘</pre>"
      ],
      "text/plain": [
       "     ┌────────────┐┌───┐              ┌───┐              ┌───┐             »\n",
       "q_0: ┤ Ry(1.7965) ├┤ X ├──────■───────┤ X ├──────■───────┤ X ├──────■──────»\n",
       "     └────────────┘└───┘┌─────┴──────┐└───┘┌─────┴──────┐├───┤      │      »\n",
       "q_1: ───────────────────┤ Ry(2.1667) ├─────┤ Ry(1.9821) ├┤ X ├──────■──────»\n",
       "                        └────────────┘     └────────────┘└───┘┌─────┴─────┐»\n",
       "q_2: ─────────────────────────────────────────────────────────┤ Ry(1.783) ├»\n",
       "                                                              └───────────┘»\n",
       "q_3: ──────────────────────────────────────────────────────────────────────»\n",
       "                                                                           »\n",
       "«     ┌───┐┌───┐               ┌───┐                                 ┌───┐»\n",
       "«q_0: ┤ X ├┤ X ├───────■───────┤ X ├──────■──────────────────■───────┤ X ├»\n",
       "«     ├───┤└───┘       │       ├───┤      │       ┌───┐      │       ├───┤»\n",
       "«q_1: ┤ X ├────────────■───────┤ X ├──────■───────┤ X ├──────■───────┤ X ├»\n",
       "«     └───┘     ┌──────┴──────┐└───┘┌─────┴──────┐└───┘┌─────┴──────┐├───┤»\n",
       "«q_2: ──────────┤ Ry(0.98933) ├─────┤ Ry(1.9021) ├─────┤ Ry(2.3887) ├┤ X ├»\n",
       "«               └─────────────┘     └────────────┘     └────────────┘└───┘»\n",
       "«q_3: ────────────────────────────────────────────────────────────────────»\n",
       "«                                                                         »\n",
       "«                    ┌───┐┌───┐              ┌───┐┌───┐              ┌───┐┌───┐»\n",
       "«q_0: ───────■───────┤ X ├┤ X ├──────■───────┤ X ├┤ X ├──────■───────┤ X ├┤ X ├»\n",
       "«            │       ├───┤├───┤      │       ├───┤└───┘      │       └───┘└───┘»\n",
       "«q_1: ───────■───────┤ X ├┤ X ├──────■───────┤ X ├───────────■─────────────────»\n",
       "«            │       ├───┤└───┘      │       ├───┤           │       ┌───┐     »\n",
       "«q_2: ───────■───────┤ X ├───────────■───────┤ X ├───────────■───────┤ X ├─────»\n",
       "«     ┌──────┴──────┐└───┘     ┌─────┴──────┐└───┘     ┌─────┴──────┐└───┘     »\n",
       "«q_3: ┤ Ry(0.28344) ├──────────┤ Ry(2.4107) ├──────────┤ Ry(3.0346) ├──────────»\n",
       "«     └─────────────┘          └────────────┘          └────────────┘          »\n",
       "«                    ┌───┐                                           »\n",
       "«q_0: ───────■───────┤ X ├──────■───────────────────────■────────────»\n",
       "«            │       ├───┤      │       ┌───┐┌───┐      │       ┌───┐»\n",
       "«q_1: ───────■───────┤ X ├──────■───────┤ X ├┤ X ├──────■───────┤ X ├»\n",
       "«            │       ├───┤      │       ├───┤└───┘      │       ├───┤»\n",
       "«q_2: ───────■───────┤ X ├──────■───────┤ X ├───────────■───────┤ X ├»\n",
       "«     ┌──────┴──────┐└───┘┌─────┴──────┐└───┘     ┌─────┴──────┐└───┘»\n",
       "«q_3: ┤ Ry(0.90014) ├─────┤ Ry(2.4775) ├──────────┤ Ry(1.4914) ├─────»\n",
       "«     └─────────────┘     └────────────┘          └────────────┘     »\n",
       "«                                       \n",
       "«q_0: ───────■──────────────────■───────\n",
       "«            │                  │       \n",
       "«q_1: ───────■──────────────────■───────\n",
       "«            │       ┌───┐      │       \n",
       "«q_2: ───────■───────┤ X ├──────■───────\n",
       "«     ┌──────┴──────┐└───┘┌─────┴──────┐\n",
       "«q_3: ┤ Ry(0.98431) ├─────┤ Ry(2.3427) ├\n",
       "«     └─────────────┘     └────────────┘"
      ]
     },
     "execution_count": 16,
     "metadata": {},
     "output_type": "execute_result"
    }
   ],
   "source": [
    "thetas, all_combinations = thetas_computation(example_matrix2)\n",
    "matrix_circuit = generate_qram_circuit(thetas, all_combinations)\n",
    "matrix_circuit.draw()"
   ]
  },
  {
   "cell_type": "code",
   "execution_count": 17,
   "metadata": {},
   "outputs": [
    {
     "name": "stderr",
     "output_type": "stream",
     "text": [
      "/opt/miniconda3/envs/EAGLE_environment/lib/python3.8/site-packages/numpy/linalg/linalg.py:2154: RuntimeWarning: divide by zero encountered in det\n",
      "  r = _umath_linalg.det(a, signature=signature)\n",
      "/opt/miniconda3/envs/EAGLE_environment/lib/python3.8/site-packages/numpy/linalg/linalg.py:2154: RuntimeWarning: invalid value encountered in det\n",
      "  r = _umath_linalg.det(a, signature=signature)\n"
     ]
    },
    {
     "data": {
      "text/plain": [
       "{'0000': 0.032935138149058,\n",
       " '0001': 0.006582329660747,\n",
       " '0010': 0.000670427310357,\n",
       " '0011': 0.044953470225054,\n",
       " '0100': 0.006582329660747,\n",
       " '0101': 0.065661957777225,\n",
       " '0110': 0.055361269941162,\n",
       " '0111': 0.056014573926384,\n",
       " '1000': 0.000670427310357,\n",
       " '1001': 0.055361269941162,\n",
       " '1010': 0.234023751401004,\n",
       " '1011': 0.012922772273276,\n",
       " '1100': 0.044953470225054,\n",
       " '1101': 0.056014573926384,\n",
       " '1110': 0.012922772273276,\n",
       " '1111': 0.314369465998752}"
      ]
     },
     "execution_count": 17,
     "metadata": {},
     "output_type": "execute_result"
    }
   ],
   "source": [
    "#Check matrix encoding\n",
    "backend = Aer.get_backend(\"statevector_simulator\")\n",
    "job = backend.run(transpile(matrix_circuit, backend=backend))\n",
    "job.result().get_counts()"
   ]
  },
  {
   "cell_type": "code",
   "execution_count": 18,
   "metadata": {},
   "outputs": [
    {
     "name": "stderr",
     "output_type": "stream",
     "text": [
      "/var/folders/rr/g930v2cj1wvdzc257kclm3lm0000gn/T/ipykernel_86911/3605696284.py:4: DeprecationWarning: The NumPyMatrix class is deprecated as of Qiskit Terra 0.22.0 and will be removed no sooner than 3 months after the release date. \n",
      "  u_circuit = NumPyMatrix(example_matrix2, evolution_time=2*np.pi)\n"
     ]
    },
    {
     "data": {
      "text/plain": [
       "Operator([[ 0.68435303+0.34244878j,  0.05516681-0.25463973j,\n",
       "           -0.15795652-0.17567264j, -0.53383398-0.07559849j],\n",
       "          [ 0.05516681-0.25463973j, -0.20909317+0.47767151j,\n",
       "           -0.56237432-0.10924386j, -0.05855595-0.57323408j],\n",
       "          [-0.15795652-0.17567264j, -0.56237432-0.10924386j,\n",
       "            0.53701885+0.09286894j, -0.4653252 -0.32007551j],\n",
       "          [-0.53383398-0.07559849j, -0.05855595-0.57323408j,\n",
       "           -0.4653252 -0.32007551j, -0.23195306+0.06709648j]],\n",
       "         input_dims=(2, 2), output_dims=(2, 2))"
      ]
     },
     "execution_count": 18,
     "metadata": {},
     "output_type": "execute_result"
    }
   ],
   "source": [
    "#Unitary for PE\n",
    "resolution = 7\n",
    "unitary_backend = Aer.get_backend(\"unitary_simulator\")\n",
    "u_circuit = NumPyMatrix(example_matrix2, evolution_time=2*np.pi)\n",
    "unitary_job = unitary_backend.run(transpile(u_circuit, backend=unitary_backend))\n",
    "unitary_job.result().get_unitary()"
   ]
  },
  {
   "cell_type": "code",
   "execution_count": 19,
   "metadata": {},
   "outputs": [
    {
     "data": {
      "image/png": "[encoded data removed]",
      "text/plain": [
       "<Figure size 1562.11x565.88 with 1 Axes>"
      ]
     },
     "execution_count": 19,
     "metadata": {},
     "output_type": "execute_result"
    }
   ],
   "source": [
    "#PE circuit\n",
    "pe = PhaseEstimation(resolution, u_circuit, name = \"PE\")\n",
    "pe.decompose().draw(\"mpl\")"
   ]
  },
  {
   "cell_type": "markdown",
   "metadata": {},
   "source": [
    "# Check Statevector"
   ]
  },
  {
   "cell_type": "code",
   "execution_count": 20,
   "metadata": {},
   "outputs": [
    {
     "data": {
      "image/png": "[encoded data removed]",
      "text/plain": [
       "<Figure size 1638.9x1408.68 with 1 Axes>"
      ]
     },
     "execution_count": 20,
     "metadata": {},
     "output_type": "execute_result"
    }
   ],
   "source": [
    "tot_qubit = resolution+len(example_matrix1)\n",
    "\n",
    "qr_total_sim = QuantumRegister(tot_qubit, 'total')\n",
    "# classical = ClassicalRegister(4, 'measure')\n",
    "\n",
    "total_circuit_sim = QuantumCircuit(qr_total_sim , name='matrix')\n",
    "\n",
    "total_circuit_sim.append(matrix_circuit.to_gate(), qr_total_sim[resolution:])\n",
    "total_circuit_sim.append(pe.to_gate(), qr_total_sim[0:pe.num_qubits])\n",
    "# total_circuit.measure(qr_total[:2], classical[:])\n",
    "#total_circuit.swap(qr_total[0],qr_total[1])\n",
    "#total_circuit.measure_all()\n",
    "\n",
    "total_circuit_sim.decompose(reps=1).draw(\"mpl\")"
   ]
  },
  {
   "cell_type": "code",
   "execution_count": 21,
   "metadata": {},
   "outputs": [],
   "source": [
    "# Create the first operator for tomography\n",
    "op_U=total_circuit_sim.to_gate(label='op_U').control()"
   ]
  },
  {
   "cell_type": "code",
   "execution_count": 22,
   "metadata": {},
   "outputs": [],
   "source": [
    "backend_total = Aer.get_backend(\"statevector_simulator\")\n",
    "job = backend_total.run(transpile(total_circuit_sim, backend=backend_total))\n",
    "statevector = np.asarray(job.result().get_statevector()).round(4)\n",
    "#plot_histogram(counts)"
   ]
  },
  {
   "cell_type": "code",
   "execution_count": 23,
   "metadata": {},
   "outputs": [],
   "source": [
    "def attach_bitstrings(vector):\n",
    "    return list(zip(bitstrings, vector))"
   ]
  },
  {
   "cell_type": "code",
   "execution_count": 24,
   "metadata": {},
   "outputs": [],
   "source": [
    "bitstrings=[''.join([''.join(str(j)) for j in i]) for i in list(map(list, itertools.product([0, 1], repeat=resolution+len(example_matrix1))))]\n",
    "sim_statevector=attach_bitstrings(statevector)\n"
   ]
  },
  {
   "cell_type": "markdown",
   "metadata": {},
   "source": [
    "# First example (seed=1234)"
   ]
  },
  {
   "cell_type": "code",
   "execution_count": 16,
   "metadata": {},
   "outputs": [],
   "source": [
    "bitstrings=[''.join([''.join(str(j)) for j in i]) for i in list(map(list, itertools.product([0, 1], repeat=resolution+len(example_matrix1))))]\n",
    "ss=attach_bitstrings(statevector)\n",
    "#ss"
   ]
  },
  {
   "cell_type": "code",
   "execution_count": 17,
   "metadata": {},
   "outputs": [
    {
     "data": {
      "text/plain": [
       "<AxesSubplot: xlabel='0'>"
      ]
     },
     "execution_count": 17,
     "metadata": {},
     "output_type": "execute_result"
    },
    {
     "data": {
      "image/png": "[encoded data removed]",
      "text/plain": [
       "<Figure size 432x288 with 1 Axes>"
      ]
     },
     "metadata": {
      "needs_background": "light"
     },
     "output_type": "display_data"
    }
   ],
   "source": [
    "\n",
    "df=pd.DataFrame(ss)\n",
    "df['module']=df[1].apply(lambda x: x.real**2 + x.imag**2)\n",
    "df.set_index(0).module.plot(kind='bar')"
   ]
  },
  {
   "cell_type": "code",
   "execution_count": 18,
   "metadata": {},
   "outputs": [
    {
     "data": {
      "text/html": [
       "<div>\n",
       "<style scoped>\n",
       "    .dataframe tbody tr th:only-of-type {\n",
       "        vertical-align: middle;\n",
       "    }\n",
       "\n",
       "    .dataframe tbody tr th {\n",
       "        vertical-align: top;\n",
       "    }\n",
       "\n",
       "    .dataframe thead th {\n",
       "        text-align: right;\n",
       "    }\n",
       "</style>\n",
       "<table border=\"1\" class=\"dataframe\">\n",
       "  <thead>\n",
       "    <tr style=\"text-align: right;\">\n",
       "      <th></th>\n",
       "      <th>module</th>\n",
       "    </tr>\n",
       "    <tr>\n",
       "      <th>lambda</th>\n",
       "      <th></th>\n",
       "    </tr>\n",
       "  </thead>\n",
       "  <tbody>\n",
       "    <tr>\n",
       "      <th>1000110</th>\n",
       "      <td>0.000006</td>\n",
       "    </tr>\n",
       "    <tr>\n",
       "      <th>0011010</th>\n",
       "      <td>0.000006</td>\n",
       "    </tr>\n",
       "    <tr>\n",
       "      <th>1011010</th>\n",
       "      <td>0.000006</td>\n",
       "    </tr>\n",
       "    <tr>\n",
       "      <th>1101010</th>\n",
       "      <td>0.000006</td>\n",
       "    </tr>\n",
       "    <tr>\n",
       "      <th>0101010</th>\n",
       "      <td>0.000006</td>\n",
       "    </tr>\n",
       "    <tr>\n",
       "      <th>...</th>\n",
       "      <td>...</td>\n",
       "    </tr>\n",
       "    <tr>\n",
       "      <th>0111011</th>\n",
       "      <td>0.002473</td>\n",
       "    </tr>\n",
       "    <tr>\n",
       "      <th>1101011</th>\n",
       "      <td>0.007431</td>\n",
       "    </tr>\n",
       "    <tr>\n",
       "      <th>1011011</th>\n",
       "      <td>0.010988</td>\n",
       "    </tr>\n",
       "    <tr>\n",
       "      <th>0010100</th>\n",
       "      <td>0.031781</td>\n",
       "    </tr>\n",
       "    <tr>\n",
       "      <th>0011011</th>\n",
       "      <td>0.937194</td>\n",
       "    </tr>\n",
       "  </tbody>\n",
       "</table>\n",
       "<p>128 rows × 1 columns</p>\n",
       "</div>"
      ],
      "text/plain": [
       "           module\n",
       "lambda           \n",
       "1000110  0.000006\n",
       "0011010  0.000006\n",
       "1011010  0.000006\n",
       "1101010  0.000006\n",
       "0101010  0.000006\n",
       "...           ...\n",
       "0111011  0.002473\n",
       "1101011  0.007431\n",
       "1011011  0.010988\n",
       "0010100  0.031781\n",
       "0011011  0.937194\n",
       "\n",
       "[128 rows x 1 columns]"
      ]
     },
     "execution_count": 18,
     "metadata": {},
     "output_type": "execute_result"
    }
   ],
   "source": [
    "df['lambda']=df[0].apply(lambda x: x[-resolution:])\n",
    "df1=df.groupby('lambda').agg({'module':'sum'})\n",
    "#df1['module_new']=df1['module'].apply(lambda x: np.sqrt(x.real**2 + x.imag**2))\n",
    "df1.sort_values('module')"
   ]
  },
  {
   "cell_type": "code",
   "execution_count": 333,
   "metadata": {},
   "outputs": [
    {
     "data": {
      "text/html": [
       "<div>\n",
       "<style scoped>\n",
       "    .dataframe tbody tr th:only-of-type {\n",
       "        vertical-align: middle;\n",
       "    }\n",
       "\n",
       "    .dataframe tbody tr th {\n",
       "        vertical-align: top;\n",
       "    }\n",
       "\n",
       "    .dataframe thead th {\n",
       "        text-align: right;\n",
       "    }\n",
       "</style>\n",
       "<table border=\"1\" class=\"dataframe\">\n",
       "  <thead>\n",
       "    <tr style=\"text-align: right;\">\n",
       "      <th></th>\n",
       "      <th>state</th>\n",
       "      <th>st</th>\n",
       "      <th>module</th>\n",
       "      <th>lambda</th>\n",
       "    </tr>\n",
       "  </thead>\n",
       "  <tbody>\n",
       "    <tr>\n",
       "      <th>0</th>\n",
       "      <td>000000000</td>\n",
       "      <td>0.0449-0.0448j</td>\n",
       "      <td>0.004023</td>\n",
       "      <td>0000000</td>\n",
       "    </tr>\n",
       "    <tr>\n",
       "      <th>1</th>\n",
       "      <td>000000001</td>\n",
       "      <td>0.0014+0.0013j</td>\n",
       "      <td>0.000004</td>\n",
       "      <td>0000001</td>\n",
       "    </tr>\n",
       "    <tr>\n",
       "      <th>2</th>\n",
       "      <td>000000010</td>\n",
       "      <td>0.0027-0.0001j</td>\n",
       "      <td>0.000007</td>\n",
       "      <td>0000010</td>\n",
       "    </tr>\n",
       "    <tr>\n",
       "      <th>3</th>\n",
       "      <td>000000011</td>\n",
       "      <td>0.0001+0.0029j</td>\n",
       "      <td>0.000008</td>\n",
       "      <td>0000011</td>\n",
       "    </tr>\n",
       "    <tr>\n",
       "      <th>4</th>\n",
       "      <td>000000100</td>\n",
       "      <td>0.0044-0.0020j</td>\n",
       "      <td>0.000023</td>\n",
       "      <td>0000100</td>\n",
       "    </tr>\n",
       "    <tr>\n",
       "      <th>...</th>\n",
       "      <td>...</td>\n",
       "      <td>...</td>\n",
       "      <td>...</td>\n",
       "      <td>...</td>\n",
       "    </tr>\n",
       "    <tr>\n",
       "      <th>507</th>\n",
       "      <td>111111011</td>\n",
       "      <td>-0.0034+0.0095j</td>\n",
       "      <td>0.000102</td>\n",
       "      <td>1111011</td>\n",
       "    </tr>\n",
       "    <tr>\n",
       "      <th>508</th>\n",
       "      <td>111111100</td>\n",
       "      <td>0.0054-0.0003j</td>\n",
       "      <td>0.000029</td>\n",
       "      <td>1111100</td>\n",
       "    </tr>\n",
       "    <tr>\n",
       "      <th>509</th>\n",
       "      <td>111111101</td>\n",
       "      <td>0.0003+0.0054j</td>\n",
       "      <td>0.000029</td>\n",
       "      <td>1111101</td>\n",
       "    </tr>\n",
       "    <tr>\n",
       "      <th>510</th>\n",
       "      <td>111111110</td>\n",
       "      <td>0.0028+0.0026j</td>\n",
       "      <td>0.000015</td>\n",
       "      <td>1111110</td>\n",
       "    </tr>\n",
       "    <tr>\n",
       "      <th>511</th>\n",
       "      <td>111111111</td>\n",
       "      <td>0.3964-0.4308j</td>\n",
       "      <td>0.342722</td>\n",
       "      <td>1111111</td>\n",
       "    </tr>\n",
       "  </tbody>\n",
       "</table>\n",
       "<p>512 rows × 4 columns</p>\n",
       "</div>"
      ],
      "text/plain": [
       "         state              st    module   lambda\n",
       "0    000000000  0.0449-0.0448j  0.004023  0000000\n",
       "1    000000001  0.0014+0.0013j  0.000004  0000001\n",
       "2    000000010  0.0027-0.0001j  0.000007  0000010\n",
       "3    000000011  0.0001+0.0029j  0.000008  0000011\n",
       "4    000000100  0.0044-0.0020j  0.000023  0000100\n",
       "..         ...             ...       ...      ...\n",
       "507  111111011 -0.0034+0.0095j  0.000102  1111011\n",
       "508  111111100  0.0054-0.0003j  0.000029  1111100\n",
       "509  111111101  0.0003+0.0054j  0.000029  1111101\n",
       "510  111111110  0.0028+0.0026j  0.000015  1111110\n",
       "511  111111111  0.3964-0.4308j  0.342722  1111111\n",
       "\n",
       "[512 rows x 4 columns]"
      ]
     },
     "execution_count": 333,
     "metadata": {},
     "output_type": "execute_result"
    }
   ],
   "source": [
    "df.columns=['state','st','module','lambda']\n",
    "df"
   ]
  },
  {
   "cell_type": "code",
   "execution_count": 334,
   "metadata": {},
   "outputs": [
    {
     "data": {
      "text/html": [
       "<div>\n",
       "<style scoped>\n",
       "    .dataframe tbody tr th:only-of-type {\n",
       "        vertical-align: middle;\n",
       "    }\n",
       "\n",
       "    .dataframe tbody tr th {\n",
       "        vertical-align: top;\n",
       "    }\n",
       "\n",
       "    .dataframe thead th {\n",
       "        text-align: right;\n",
       "    }\n",
       "</style>\n",
       "<table border=\"1\" class=\"dataframe\">\n",
       "  <thead>\n",
       "    <tr style=\"text-align: right;\">\n",
       "      <th></th>\n",
       "      <th>state</th>\n",
       "      <th>st</th>\n",
       "      <th>module</th>\n",
       "      <th>lambda</th>\n",
       "    </tr>\n",
       "  </thead>\n",
       "  <tbody>\n",
       "    <tr>\n",
       "      <th>63</th>\n",
       "      <td>000111111</td>\n",
       "      <td>-0.0717+0.0827j</td>\n",
       "      <td>0.011980</td>\n",
       "      <td>0111111</td>\n",
       "    </tr>\n",
       "    <tr>\n",
       "      <th>191</th>\n",
       "      <td>010111111</td>\n",
       "      <td>-0.1004+0.1143j</td>\n",
       "      <td>0.023145</td>\n",
       "      <td>0111111</td>\n",
       "    </tr>\n",
       "    <tr>\n",
       "      <th>319</th>\n",
       "      <td>100111111</td>\n",
       "      <td>-0.1004+0.1143j</td>\n",
       "      <td>0.023145</td>\n",
       "      <td>0111111</td>\n",
       "    </tr>\n",
       "    <tr>\n",
       "      <th>447</th>\n",
       "      <td>110111111</td>\n",
       "      <td>-0.1391+0.1595j</td>\n",
       "      <td>0.044789</td>\n",
       "      <td>0111111</td>\n",
       "    </tr>\n",
       "  </tbody>\n",
       "</table>\n",
       "</div>"
      ],
      "text/plain": [
       "         state              st    module   lambda\n",
       "63   000111111 -0.0717+0.0827j  0.011980  0111111\n",
       "191  010111111 -0.1004+0.1143j  0.023145  0111111\n",
       "319  100111111 -0.1004+0.1143j  0.023145  0111111\n",
       "447  110111111 -0.1391+0.1595j  0.044789  0111111"
      ]
     },
     "execution_count": 334,
     "metadata": {},
     "output_type": "execute_result"
    }
   ],
   "source": [
    "df.query(\"state.str.endswith('0111111')\")"
   ]
  },
  {
   "cell_type": "code",
   "execution_count": 335,
   "metadata": {},
   "outputs": [],
   "source": [
    "a1=np.array(df.query(\"state.str.endswith('0111111')\")['module'].values)\n",
    "a_1_sqrt=np.sqrt(a1)"
   ]
  },
  {
   "cell_type": "code",
   "execution_count": 336,
   "metadata": {},
   "outputs": [],
   "source": [
    "a2=np.array(df.query(\"state.str.endswith('1111111')\")['module'].values)\n",
    "a_2_sqrt=np.sqrt(a2)"
   ]
  },
  {
   "cell_type": "code",
   "execution_count": 337,
   "metadata": {
    "collapsed": true,
    "jupyter": {
     "outputs_hidden": true
    }
   },
   "outputs": [
    {
     "data": {
      "text/plain": [
       "[array([0.10945401, 0.15213366, 0.15213366, 0.21163426]),\n",
       " array([0.30252988, 0.4208413 , 0.4208413 , 0.58542429])]"
      ]
     },
     "execution_count": 337,
     "metadata": {},
     "output_type": "execute_result"
    }
   ],
   "source": [
    "a=[a_1_sqrt,a_2_sqrt]\n",
    "#a=[a1,a2]\n",
    "a"
   ]
  },
  {
   "cell_type": "code",
   "execution_count": 338,
   "metadata": {},
   "outputs": [
    {
     "data": {
      "text/plain": [
       "(0.984375, 0.9921875)"
      ]
     },
     "execution_count": 338,
     "metadata": {},
     "output_type": "execute_result"
    }
   ],
   "source": [
    "int('0111111'[::-1],base=2)/(2**resolution),int('1111111'[::-1],base=2)/(2**resolution)"
   ]
  },
  {
   "cell_type": "code",
   "execution_count": 339,
   "metadata": {},
   "outputs": [
    {
     "data": {
      "text/plain": [
       "(array([0.0098868, 0.9901132]),\n",
       " array([[-0.81195046, -0.58372635],\n",
       "        [ 0.58372635, -0.81195046]]))"
      ]
     },
     "execution_count": 339,
     "metadata": {},
     "output_type": "execute_result"
    }
   ],
   "source": [
    "np.linalg.eig(example_matrix1)"
   ]
  },
  {
   "cell_type": "code",
   "execution_count": 340,
   "metadata": {
    "collapsed": true,
    "jupyter": {
     "outputs_hidden": true
    }
   },
   "outputs": [
    {
     "name": "stdout",
     "output_type": "stream",
     "text": [
      "[0.10945401 0.15213366 0.15213366 0.21163426]\n",
      "3.114999685709786\n",
      "[array([0.3409492 , 0.4738963 , 0.4738963 , 0.65924065]), array([0.30252988, 0.4208413 , 0.4208413 , 0.58542429])]\n",
      "[0.30252988 0.4208413  0.4208413  0.58542429]\n",
      "1.1261855901192184\n",
      "[array([0.3409492 , 0.4738963 , 0.4738963 , 0.65924065]), array([0.34070479, 0.47394541, 0.47394541, 0.6592964 ])]\n"
     ]
    }
   ],
   "source": [
    "for i in a:\n",
    "    print(i)\n",
    "    normalization_factor=np.sqrt((1/(sum(i**2))))\n",
    "    print(normalization_factor)\n",
    "    i*=normalization_factor\n",
    "    print(a)"
   ]
  },
  {
   "cell_type": "code",
   "execution_count": 454,
   "metadata": {
    "collapsed": true,
    "jupyter": {
     "outputs_hidden": true
    }
   },
   "outputs": [
    {
     "data": {
      "text/plain": [
       "0.5770583944023632"
      ]
     },
     "execution_count": 454,
     "metadata": {},
     "output_type": "execute_result"
    }
   ],
   "source": [
    "np.sqrt(0.66233483)*(0.46963295/0.66233483)"
   ]
  },
  {
   "cell_type": "markdown",
   "metadata": {},
   "source": [
    "$$\\left|00\\right\\rangle(0.34722835|00\\rangle+0.46924342|01\\rangle+0.46924342|10\\rangle+0.66261128|11\\rangle) =$$\n",
    "\n",
    "$$\\left|00\\right\\rangle(0.46924342|0\\rangle(0.7399|0\\rangle+|1\\rangle)+0.66261|1\\rangle(0.70|0\\rangle+|1\\rangle)) =$$\n",
    "\n",
    "$$\\sqrt{0.66261}=0.8140 -> posizione 1$$ \n",
    "\n",
    "$$0.8140*0.70=0.569 -> posizione 0$$\n",
    "\n",
    "\n",
    "$$\\left|11\\right\\rangle(0.33486214|00\\rangle+0.47763248|01\\rangle+0.47763248|10\\rangle+0.65696406|11\\rangle) =$$\n",
    "\n",
    "$$\\left|11\\right\\rangle(0.47763248|0\\rangle(0.70|0\\rangle+|1\\rangle)+0.65696406|1\\rangle(0.72|0\\rangle+|1\\rangle)) =$$\n",
    "\n",
    "$$\\sqrt{0.65696406}=0.8105 -> posizione 1$$ \n",
    "\n",
    "$$0.8140*0.70=0.58 -> posizione 0$$\n",
    "\n",
    "\n",
    "\n",
    "\n",
    "seed=1234"
   ]
  },
  {
   "cell_type": "markdown",
   "metadata": {},
   "source": [
    "$$\\left|10\\right\\rangle(\\frac{1}{2}|00\\rangle+\\frac{1}{2}|01\\rangle+\\frac{1}{2}|10\\rangle+\\frac{1}{2}|11\\rangle) =$$\n",
    "\n",
    "$$\\left|10\\right\\rangle(\\frac{1}{2}|0\\rangle(|0\\rangle+|1\\rangle)+\\frac{1}{2}|1\\rangle(|0\\rangle+|1\\rangle)) =$$\n",
    "\n",
    "$$\\sqrt{\\frac{1}{2}}=\\frac{1}{\\sqrt{2}} -> posizione 0$$ \n",
    "\n",
    "$$\\frac{1}{\\sqrt{2}}*1=\\frac{1}{\\sqrt{2}} -> posizione 1$$\n",
    "\n",
    "\n",
    "$$\\left|11\\right\\rangle(0.33486214|00\\rangle+0.47763248|01\\rangle+0.47763248|10\\rangle+0.65696406|11\\rangle) =$$\n",
    "\n",
    "$$\\left|11\\right\\rangle(0.47763248|0\\rangle(0.70|0\\rangle+|1\\rangle)+0.65696406|1\\rangle(0.72|0\\rangle+|1\\rangle)) =$$\n",
    "\n",
    "$$\\sqrt{0.65696406}=0.8105 -> posizione 1$$ \n",
    "\n",
    "$$0.8140*0.70=0.58 -> posizione 0$$\n",
    "\n",
    "\n",
    "\n",
    "\n",
    "seed=1234"
   ]
  },
  {
   "cell_type": "code",
   "execution_count": 516,
   "metadata": {
    "collapsed": true,
    "jupyter": {
     "outputs_hidden": true
    }
   },
   "outputs": [
    {
     "data": {
      "text/plain": [
       "(array([0.0098868, 0.9901132]),\n",
       " array([[-0.81195046, -0.58372635],\n",
       "        [ 0.58372635, -0.81195046]]))"
      ]
     },
     "execution_count": 516,
     "metadata": {},
     "output_type": "execute_result"
    }
   ],
   "source": [
    "np.linalg.eig(example_matrix1)"
   ]
  },
  {
   "cell_type": "markdown",
   "metadata": {},
   "source": [
    "# Second example (seed=14)"
   ]
  },
  {
   "cell_type": "code",
   "execution_count": 60,
   "metadata": {},
   "outputs": [],
   "source": [
    "bitstrings=[''.join([''.join(str(j)) for j in i]) for i in list(map(list, itertools.product([0, 1], repeat=resolution+len(example_matrix1))))]\n",
    "ss=attach_bitstrings(statevector)\n",
    "#ss"
   ]
  },
  {
   "cell_type": "code",
   "execution_count": 61,
   "metadata": {},
   "outputs": [
    {
     "data": {
      "text/plain": [
       "<AxesSubplot: xlabel='0'>"
      ]
     },
     "execution_count": 61,
     "metadata": {},
     "output_type": "execute_result"
    },
    {
     "data": {
      "image/png": "[encoded data removed]",
      "text/plain": [
       "<Figure size 1440x1080 with 1 Axes>"
      ]
     },
     "metadata": {
      "needs_background": "light"
     },
     "output_type": "display_data"
    }
   ],
   "source": [
    "import pandas as pd\n",
    "df=pd.DataFrame(ss)\n",
    "df['module']=df[1].apply(lambda x: x.real**2 + x.imag**2)\n",
    "df.set_index(0).module.plot(kind='bar',figsize=(20,15))"
   ]
  },
  {
   "cell_type": "code",
   "execution_count": 62,
   "metadata": {},
   "outputs": [
    {
     "data": {
      "text/html": [
       "<div>\n",
       "<style scoped>\n",
       "    .dataframe tbody tr th:only-of-type {\n",
       "        vertical-align: middle;\n",
       "    }\n",
       "\n",
       "    .dataframe tbody tr th {\n",
       "        vertical-align: top;\n",
       "    }\n",
       "\n",
       "    .dataframe thead th {\n",
       "        text-align: right;\n",
       "    }\n",
       "</style>\n",
       "<table border=\"1\" class=\"dataframe\">\n",
       "  <thead>\n",
       "    <tr style=\"text-align: right;\">\n",
       "      <th></th>\n",
       "      <th>0</th>\n",
       "      <th>1</th>\n",
       "      <th>module</th>\n",
       "    </tr>\n",
       "  </thead>\n",
       "  <tbody>\n",
       "    <tr>\n",
       "      <th>0</th>\n",
       "      <td>000000000</td>\n",
       "      <td>-0.0012-0.0011j</td>\n",
       "      <td>0.000003</td>\n",
       "    </tr>\n",
       "    <tr>\n",
       "      <th>1</th>\n",
       "      <td>000000001</td>\n",
       "      <td>0.0014-0.0006j</td>\n",
       "      <td>0.000002</td>\n",
       "    </tr>\n",
       "    <tr>\n",
       "      <th>2</th>\n",
       "      <td>000000010</td>\n",
       "      <td>0.0025-0.0014j</td>\n",
       "      <td>0.000008</td>\n",
       "    </tr>\n",
       "    <tr>\n",
       "      <th>3</th>\n",
       "      <td>000000011</td>\n",
       "      <td>0.0106+0.0019j</td>\n",
       "      <td>0.000116</td>\n",
       "    </tr>\n",
       "    <tr>\n",
       "      <th>4</th>\n",
       "      <td>000000100</td>\n",
       "      <td>-0.0010-0.0007j</td>\n",
       "      <td>0.000001</td>\n",
       "    </tr>\n",
       "    <tr>\n",
       "      <th>...</th>\n",
       "      <td>...</td>\n",
       "      <td>...</td>\n",
       "      <td>...</td>\n",
       "    </tr>\n",
       "    <tr>\n",
       "      <th>507</th>\n",
       "      <td>111111011</td>\n",
       "      <td>-0.0028-0.0013j</td>\n",
       "      <td>0.000010</td>\n",
       "    </tr>\n",
       "    <tr>\n",
       "      <th>508</th>\n",
       "      <td>111111100</td>\n",
       "      <td>0.0040-0.0016j</td>\n",
       "      <td>0.000019</td>\n",
       "    </tr>\n",
       "    <tr>\n",
       "      <th>509</th>\n",
       "      <td>111111101</td>\n",
       "      <td>0.0068+0.0012j</td>\n",
       "      <td>0.000048</td>\n",
       "    </tr>\n",
       "    <tr>\n",
       "      <th>510</th>\n",
       "      <td>111111110</td>\n",
       "      <td>0.0012-0.0004j</td>\n",
       "      <td>0.000002</td>\n",
       "    </tr>\n",
       "    <tr>\n",
       "      <th>511</th>\n",
       "      <td>111111111</td>\n",
       "      <td>-0.0011-0.0007j</td>\n",
       "      <td>0.000002</td>\n",
       "    </tr>\n",
       "  </tbody>\n",
       "</table>\n",
       "<p>512 rows × 3 columns</p>\n",
       "</div>"
      ],
      "text/plain": [
       "             0               1    module\n",
       "0    000000000 -0.0012-0.0011j  0.000003\n",
       "1    000000001  0.0014-0.0006j  0.000002\n",
       "2    000000010  0.0025-0.0014j  0.000008\n",
       "3    000000011  0.0106+0.0019j  0.000116\n",
       "4    000000100 -0.0010-0.0007j  0.000001\n",
       "..         ...             ...       ...\n",
       "507  111111011 -0.0028-0.0013j  0.000010\n",
       "508  111111100  0.0040-0.0016j  0.000019\n",
       "509  111111101  0.0068+0.0012j  0.000048\n",
       "510  111111110  0.0012-0.0004j  0.000002\n",
       "511  111111111 -0.0011-0.0007j  0.000002\n",
       "\n",
       "[512 rows x 3 columns]"
      ]
     },
     "execution_count": 62,
     "metadata": {},
     "output_type": "execute_result"
    }
   ],
   "source": [
    "df"
   ]
  },
  {
   "cell_type": "code",
   "execution_count": 63,
   "metadata": {},
   "outputs": [
    {
     "data": {
      "text/html": [
       "<div>\n",
       "<style scoped>\n",
       "    .dataframe tbody tr th:only-of-type {\n",
       "        vertical-align: middle;\n",
       "    }\n",
       "\n",
       "    .dataframe tbody tr th {\n",
       "        vertical-align: top;\n",
       "    }\n",
       "\n",
       "    .dataframe thead th {\n",
       "        text-align: right;\n",
       "    }\n",
       "</style>\n",
       "<table border=\"1\" class=\"dataframe\">\n",
       "  <thead>\n",
       "    <tr style=\"text-align: right;\">\n",
       "      <th></th>\n",
       "      <th>module</th>\n",
       "    </tr>\n",
       "    <tr>\n",
       "      <th>lambda</th>\n",
       "      <th></th>\n",
       "    </tr>\n",
       "  </thead>\n",
       "  <tbody>\n",
       "    <tr>\n",
       "      <th>1110110</th>\n",
       "      <td>0.000005</td>\n",
       "    </tr>\n",
       "    <tr>\n",
       "      <th>1010110</th>\n",
       "      <td>0.000005</td>\n",
       "    </tr>\n",
       "    <tr>\n",
       "      <th>0000110</th>\n",
       "      <td>0.000005</td>\n",
       "    </tr>\n",
       "    <tr>\n",
       "      <th>1000110</th>\n",
       "      <td>0.000005</td>\n",
       "    </tr>\n",
       "    <tr>\n",
       "      <th>1111010</th>\n",
       "      <td>0.000005</td>\n",
       "    </tr>\n",
       "    <tr>\n",
       "      <th>...</th>\n",
       "      <td>...</td>\n",
       "    </tr>\n",
       "    <tr>\n",
       "      <th>0110011</th>\n",
       "      <td>0.001647</td>\n",
       "    </tr>\n",
       "    <tr>\n",
       "      <th>1100011</th>\n",
       "      <td>0.005189</td>\n",
       "    </tr>\n",
       "    <tr>\n",
       "      <th>1010011</th>\n",
       "      <td>0.007192</td>\n",
       "    </tr>\n",
       "    <tr>\n",
       "      <th>0011100</th>\n",
       "      <td>0.070634</td>\n",
       "    </tr>\n",
       "    <tr>\n",
       "      <th>0010011</th>\n",
       "      <td>0.907562</td>\n",
       "    </tr>\n",
       "  </tbody>\n",
       "</table>\n",
       "<p>128 rows × 1 columns</p>\n",
       "</div>"
      ],
      "text/plain": [
       "           module\n",
       "lambda           \n",
       "1110110  0.000005\n",
       "1010110  0.000005\n",
       "0000110  0.000005\n",
       "1000110  0.000005\n",
       "1111010  0.000005\n",
       "...           ...\n",
       "0110011  0.001647\n",
       "1100011  0.005189\n",
       "1010011  0.007192\n",
       "0011100  0.070634\n",
       "0010011  0.907562\n",
       "\n",
       "[128 rows x 1 columns]"
      ]
     },
     "execution_count": 63,
     "metadata": {},
     "output_type": "execute_result"
    }
   ],
   "source": [
    "df['lambda']=df[0].apply(lambda x: x[-resolution:])\n",
    "df1=df.groupby('lambda').agg({'module':'sum'})\n",
    "#df1['module_new']=df1['module'].apply(lambda x: np.sqrt(x.real**2 + x.imag**2))\n",
    "df1.sort_values('module')"
   ]
  },
  {
   "cell_type": "code",
   "execution_count": 64,
   "metadata": {
    "collapsed": true,
    "jupyter": {
     "outputs_hidden": true
    }
   },
   "outputs": [
    {
     "data": {
      "text/html": [
       "<div>\n",
       "<style scoped>\n",
       "    .dataframe tbody tr th:only-of-type {\n",
       "        vertical-align: middle;\n",
       "    }\n",
       "\n",
       "    .dataframe tbody tr th {\n",
       "        vertical-align: top;\n",
       "    }\n",
       "\n",
       "    .dataframe thead th {\n",
       "        text-align: right;\n",
       "    }\n",
       "</style>\n",
       "<table border=\"1\" class=\"dataframe\">\n",
       "  <thead>\n",
       "    <tr style=\"text-align: right;\">\n",
       "      <th></th>\n",
       "      <th>state</th>\n",
       "      <th>st</th>\n",
       "      <th>module</th>\n",
       "      <th>lambda</th>\n",
       "    </tr>\n",
       "  </thead>\n",
       "  <tbody>\n",
       "    <tr>\n",
       "      <th>0</th>\n",
       "      <td>000000000</td>\n",
       "      <td>-0.0012-0.0011j</td>\n",
       "      <td>0.000003</td>\n",
       "      <td>0000000</td>\n",
       "    </tr>\n",
       "    <tr>\n",
       "      <th>1</th>\n",
       "      <td>000000001</td>\n",
       "      <td>0.0014-0.0006j</td>\n",
       "      <td>0.000002</td>\n",
       "      <td>0000001</td>\n",
       "    </tr>\n",
       "    <tr>\n",
       "      <th>2</th>\n",
       "      <td>000000010</td>\n",
       "      <td>0.0025-0.0014j</td>\n",
       "      <td>0.000008</td>\n",
       "      <td>0000010</td>\n",
       "    </tr>\n",
       "    <tr>\n",
       "      <th>3</th>\n",
       "      <td>000000011</td>\n",
       "      <td>0.0106+0.0019j</td>\n",
       "      <td>0.000116</td>\n",
       "      <td>0000011</td>\n",
       "    </tr>\n",
       "    <tr>\n",
       "      <th>4</th>\n",
       "      <td>000000100</td>\n",
       "      <td>-0.0010-0.0007j</td>\n",
       "      <td>0.000001</td>\n",
       "      <td>0000100</td>\n",
       "    </tr>\n",
       "    <tr>\n",
       "      <th>...</th>\n",
       "      <td>...</td>\n",
       "      <td>...</td>\n",
       "      <td>...</td>\n",
       "      <td>...</td>\n",
       "    </tr>\n",
       "    <tr>\n",
       "      <th>507</th>\n",
       "      <td>111111011</td>\n",
       "      <td>-0.0028-0.0013j</td>\n",
       "      <td>0.000010</td>\n",
       "      <td>1111011</td>\n",
       "    </tr>\n",
       "    <tr>\n",
       "      <th>508</th>\n",
       "      <td>111111100</td>\n",
       "      <td>0.0040-0.0016j</td>\n",
       "      <td>0.000019</td>\n",
       "      <td>1111100</td>\n",
       "    </tr>\n",
       "    <tr>\n",
       "      <th>509</th>\n",
       "      <td>111111101</td>\n",
       "      <td>0.0068+0.0012j</td>\n",
       "      <td>0.000048</td>\n",
       "      <td>1111101</td>\n",
       "    </tr>\n",
       "    <tr>\n",
       "      <th>510</th>\n",
       "      <td>111111110</td>\n",
       "      <td>0.0012-0.0004j</td>\n",
       "      <td>0.000002</td>\n",
       "      <td>1111110</td>\n",
       "    </tr>\n",
       "    <tr>\n",
       "      <th>511</th>\n",
       "      <td>111111111</td>\n",
       "      <td>-0.0011-0.0007j</td>\n",
       "      <td>0.000002</td>\n",
       "      <td>1111111</td>\n",
       "    </tr>\n",
       "  </tbody>\n",
       "</table>\n",
       "<p>512 rows × 4 columns</p>\n",
       "</div>"
      ],
      "text/plain": [
       "         state              st    module   lambda\n",
       "0    000000000 -0.0012-0.0011j  0.000003  0000000\n",
       "1    000000001  0.0014-0.0006j  0.000002  0000001\n",
       "2    000000010  0.0025-0.0014j  0.000008  0000010\n",
       "3    000000011  0.0106+0.0019j  0.000116  0000011\n",
       "4    000000100 -0.0010-0.0007j  0.000001  0000100\n",
       "..         ...             ...       ...      ...\n",
       "507  111111011 -0.0028-0.0013j  0.000010  1111011\n",
       "508  111111100  0.0040-0.0016j  0.000019  1111100\n",
       "509  111111101  0.0068+0.0012j  0.000048  1111101\n",
       "510  111111110  0.0012-0.0004j  0.000002  1111110\n",
       "511  111111111 -0.0011-0.0007j  0.000002  1111111\n",
       "\n",
       "[512 rows x 4 columns]"
      ]
     },
     "execution_count": 64,
     "metadata": {},
     "output_type": "execute_result"
    }
   ],
   "source": [
    "df.columns=['state','st','module','lambda']\n",
    "df"
   ]
  },
  {
   "cell_type": "code",
   "execution_count": 67,
   "metadata": {
    "collapsed": true,
    "jupyter": {
     "outputs_hidden": true
    }
   },
   "outputs": [
    {
     "data": {
      "text/html": [
       "<div>\n",
       "<style scoped>\n",
       "    .dataframe tbody tr th:only-of-type {\n",
       "        vertical-align: middle;\n",
       "    }\n",
       "\n",
       "    .dataframe tbody tr th {\n",
       "        vertical-align: top;\n",
       "    }\n",
       "\n",
       "    .dataframe thead th {\n",
       "        text-align: right;\n",
       "    }\n",
       "</style>\n",
       "<table border=\"1\" class=\"dataframe\">\n",
       "  <thead>\n",
       "    <tr style=\"text-align: right;\">\n",
       "      <th></th>\n",
       "      <th>state</th>\n",
       "      <th>st</th>\n",
       "      <th>module</th>\n",
       "      <th>lambda</th>\n",
       "    </tr>\n",
       "  </thead>\n",
       "  <tbody>\n",
       "    <tr>\n",
       "      <th>28</th>\n",
       "      <td>000011100</td>\n",
       "      <td>0.1140-0.0307j</td>\n",
       "      <td>0.013938</td>\n",
       "      <td>0011100</td>\n",
       "    </tr>\n",
       "    <tr>\n",
       "      <th>156</th>\n",
       "      <td>010011100</td>\n",
       "      <td>-0.1277+0.0323j</td>\n",
       "      <td>0.017351</td>\n",
       "      <td>0011100</td>\n",
       "    </tr>\n",
       "    <tr>\n",
       "      <th>284</th>\n",
       "      <td>100011100</td>\n",
       "      <td>-0.1277+0.0323j</td>\n",
       "      <td>0.017351</td>\n",
       "      <td>0011100</td>\n",
       "    </tr>\n",
       "    <tr>\n",
       "      <th>412</th>\n",
       "      <td>110011100</td>\n",
       "      <td>0.1433-0.0382j</td>\n",
       "      <td>0.021994</td>\n",
       "      <td>0011100</td>\n",
       "    </tr>\n",
       "  </tbody>\n",
       "</table>\n",
       "</div>"
      ],
      "text/plain": [
       "         state              st    module   lambda\n",
       "28   000011100  0.1140-0.0307j  0.013938  0011100\n",
       "156  010011100 -0.1277+0.0323j  0.017351  0011100\n",
       "284  100011100 -0.1277+0.0323j  0.017351  0011100\n",
       "412  110011100  0.1433-0.0382j  0.021994  0011100"
      ]
     },
     "execution_count": 67,
     "metadata": {},
     "output_type": "execute_result"
    }
   ],
   "source": [
    "df.query(\"state.str.endswith('0011100')\")"
   ]
  },
  {
   "cell_type": "code",
   "execution_count": 69,
   "metadata": {
    "collapsed": true,
    "jupyter": {
     "outputs_hidden": true
    }
   },
   "outputs": [
    {
     "data": {
      "text/html": [
       "<div>\n",
       "<style scoped>\n",
       "    .dataframe tbody tr th:only-of-type {\n",
       "        vertical-align: middle;\n",
       "    }\n",
       "\n",
       "    .dataframe tbody tr th {\n",
       "        vertical-align: top;\n",
       "    }\n",
       "\n",
       "    .dataframe thead th {\n",
       "        text-align: right;\n",
       "    }\n",
       "</style>\n",
       "<table border=\"1\" class=\"dataframe\">\n",
       "  <thead>\n",
       "    <tr style=\"text-align: right;\">\n",
       "      <th></th>\n",
       "      <th>state</th>\n",
       "      <th>st</th>\n",
       "      <th>module</th>\n",
       "      <th>lambda</th>\n",
       "    </tr>\n",
       "  </thead>\n",
       "  <tbody>\n",
       "    <tr>\n",
       "      <th>19</th>\n",
       "      <td>000010011</td>\n",
       "      <td>0.5136+0.1340j</td>\n",
       "      <td>0.281741</td>\n",
       "      <td>0010011</td>\n",
       "    </tr>\n",
       "    <tr>\n",
       "      <th>147</th>\n",
       "      <td>010010011</td>\n",
       "      <td>0.4579+0.1190j</td>\n",
       "      <td>0.223833</td>\n",
       "      <td>0010011</td>\n",
       "    </tr>\n",
       "    <tr>\n",
       "      <th>275</th>\n",
       "      <td>100010011</td>\n",
       "      <td>0.4579+0.1190j</td>\n",
       "      <td>0.223833</td>\n",
       "      <td>0010011</td>\n",
       "    </tr>\n",
       "    <tr>\n",
       "      <th>403</th>\n",
       "      <td>110010011</td>\n",
       "      <td>0.4084+0.1066j</td>\n",
       "      <td>0.178154</td>\n",
       "      <td>0010011</td>\n",
       "    </tr>\n",
       "  </tbody>\n",
       "</table>\n",
       "</div>"
      ],
      "text/plain": [
       "         state              st    module   lambda\n",
       "19   000010011  0.5136+0.1340j  0.281741  0010011\n",
       "147  010010011  0.4579+0.1190j  0.223833  0010011\n",
       "275  100010011  0.4579+0.1190j  0.223833  0010011\n",
       "403  110010011  0.4084+0.1066j  0.178154  0010011"
      ]
     },
     "execution_count": 69,
     "metadata": {},
     "output_type": "execute_result"
    }
   ],
   "source": [
    "df.query(\"state.str.endswith('0010011')\")"
   ]
  },
  {
   "cell_type": "code",
   "execution_count": 71,
   "metadata": {},
   "outputs": [],
   "source": [
    "a1=np.array(df.query(\"state.str.endswith('0011100')\")['module'].values)\n",
    "a1,sum(a1)\n",
    "a_1_sqrt=np.sqrt(a1)"
   ]
  },
  {
   "cell_type": "code",
   "execution_count": 72,
   "metadata": {},
   "outputs": [],
   "source": [
    "a2=np.array(df.query(\"state.str.endswith('0010011')\")['module'].values)\n",
    "a2,sum(a2)\n",
    "a_2_sqrt=np.sqrt(a2)"
   ]
  },
  {
   "cell_type": "code",
   "execution_count": 73,
   "metadata": {
    "collapsed": true,
    "jupyter": {
     "outputs_hidden": true
    }
   },
   "outputs": [
    {
     "data": {
      "text/plain": [
       "[array([0.11806138, 0.1317216 , 0.1317216 , 0.14830418]),\n",
       " array([0.53079277, 0.47311036, 0.47311036, 0.42208307])]"
      ]
     },
     "execution_count": 73,
     "metadata": {},
     "output_type": "execute_result"
    }
   ],
   "source": [
    "a=[a_1_sqrt,a_2_sqrt]\n",
    "#a=[a1,a2]\n",
    "a"
   ]
  },
  {
   "cell_type": "code",
   "execution_count": 74,
   "metadata": {
    "collapsed": true,
    "jupyter": {
     "outputs_hidden": true
    }
   },
   "outputs": [
    {
     "data": {
      "text/plain": [
       "(0.21875, 0.78125)"
      ]
     },
     "execution_count": 74,
     "metadata": {},
     "output_type": "execute_result"
    }
   ],
   "source": [
    "int('0011100'[::-1],base=2)/(2**resolution),int('0010011'[::-1],base=2)/(2**resolution)"
   ]
  },
  {
   "cell_type": "code",
   "execution_count": 75,
   "metadata": {
    "collapsed": true,
    "jupyter": {
     "outputs_hidden": true
    }
   },
   "outputs": [
    {
     "data": {
      "text/plain": [
       "(array([0.78188847, 0.21811153]),\n",
       " array([[ 0.7463677 , -0.66553381],\n",
       "        [ 0.66553381,  0.7463677 ]]))"
      ]
     },
     "execution_count": 75,
     "metadata": {},
     "output_type": "execute_result"
    }
   ],
   "source": [
    "np.linalg.eig(example_matrix1)"
   ]
  },
  {
   "cell_type": "code",
   "execution_count": 357,
   "metadata": {
    "collapsed": true,
    "jupyter": {
     "outputs_hidden": true
    }
   },
   "outputs": [
    {
     "name": "stdout",
     "output_type": "stream",
     "text": [
      "[0.38706612 0.34515869 0.34515869 0.30779036]\n",
      "1.4391481917317492\n",
      "[array([0.5570455 , 0.49673451, 0.49673451, 0.44295594]), array([0.16249386, 0.18244004, 0.18244004, 0.20437186])]\n",
      "[0.16249386 0.18244004 0.18244004 0.20437186]\n",
      "2.7242712973456475\n",
      "[array([0.5570455 , 0.49673451, 0.49673451, 0.44295594]), array([0.44267737, 0.49701617, 0.49701617, 0.55676439])]\n"
     ]
    }
   ],
   "source": [
    "for i in a:\n",
    "    print(i)\n",
    "    normalization_factor=np.sqrt((1/(sum(i**2))))\n",
    "    print(normalization_factor)\n",
    "    i*=normalization_factor\n",
    "    print(a)"
   ]
  },
  {
   "cell_type": "markdown",
   "metadata": {},
   "source": [
    "$$\\left|11100\\right\\rangle(0.44267737|00\\rangle+0.49701617|01\\rangle+0.49701617|10\\rangle+0.55676439|11\\rangle) =$$\n",
    "\n",
    "$$\\left|11100\\right\\rangle(0.49701617|0\\rangle(0.89|0\\rangle+|1\\rangle)+0.55676439|1\\rangle(0.89|0\\rangle+|1\\rangle)) =$$\n",
    "\n",
    "$$\\sqrt{0.55676439}=0.7461 -> posizione 1$$ \n",
    "\n",
    "$$0.7461*0.89=0.66609 -> posizione 0$$\n",
    "\n",
    "\n",
    "\n",
    "$$\\left|10011\\right\\rangle(0.5570455|00\\rangle+0.49673451|01\\rangle+0.49673451|10\\rangle+0.44295594|11\\rangle) =$$\n",
    "\n",
    "$$\\left|10011\\right\\rangle(0.5570455|0\\rangle(|0\\rangle+0.89|1\\rangle)+0.49673451|1\\rangle(|0\\rangle+0.89|1\\rangle)) =$$\n",
    "\n",
    "$$\\sqrt{0.5570455}=0.7463 -> posizione 0$$ \n",
    "\n",
    "$$0.788*0.63=0.6642 -> posizione 1$$\n",
    "\n",
    "\n",
    "\n",
    "\n",
    "seed=14"
   ]
  },
  {
   "cell_type": "code",
   "execution_count": 197,
   "metadata": {
    "collapsed": true,
    "jupyter": {
     "outputs_hidden": true
    }
   },
   "outputs": [
    {
     "data": {
      "text/plain": [
       "(array([0.78188847, 0.21811153]),\n",
       " array([[ 0.7463677 , -0.66553381],\n",
       "        [ 0.66553381,  0.7463677 ]]))"
      ]
     },
     "execution_count": 197,
     "metadata": {},
     "output_type": "execute_result"
    }
   ],
   "source": [
    "np.linalg.eig(example_matrix1)"
   ]
  },
  {
   "cell_type": "markdown",
   "metadata": {},
   "source": [
    "# 3 example (seed=26)"
   ]
  },
  {
   "cell_type": "code",
   "execution_count": 207,
   "metadata": {},
   "outputs": [],
   "source": [
    "bitstrings=[''.join([''.join(str(j)) for j in i]) for i in list(map(list, itertools.product([0, 1], repeat=resolution+len(example_matrix2))))]\n",
    "ss=attach_bitstrings(statevector)\n",
    "#ss"
   ]
  },
  {
   "cell_type": "code",
   "execution_count": 458,
   "metadata": {},
   "outputs": [],
   "source": [
    "df=pd.DataFrame(ss)\n",
    "df['module']=df[1].apply(lambda x: x.real**2 + x.imag**2)\n",
    "#df.set_index(0).module.plot(kind='bar')"
   ]
  },
  {
   "cell_type": "code",
   "execution_count": 459,
   "metadata": {
    "collapsed": true,
    "jupyter": {
     "outputs_hidden": true
    }
   },
   "outputs": [
    {
     "data": {
      "text/html": [
       "<div>\n",
       "<style scoped>\n",
       "    .dataframe tbody tr th:only-of-type {\n",
       "        vertical-align: middle;\n",
       "    }\n",
       "\n",
       "    .dataframe tbody tr th {\n",
       "        vertical-align: top;\n",
       "    }\n",
       "\n",
       "    .dataframe thead th {\n",
       "        text-align: right;\n",
       "    }\n",
       "</style>\n",
       "<table border=\"1\" class=\"dataframe\">\n",
       "  <thead>\n",
       "    <tr style=\"text-align: right;\">\n",
       "      <th></th>\n",
       "      <th>module</th>\n",
       "    </tr>\n",
       "    <tr>\n",
       "      <th>lambda</th>\n",
       "      <th></th>\n",
       "    </tr>\n",
       "  </thead>\n",
       "  <tbody>\n",
       "    <tr>\n",
       "      <th>1000001</th>\n",
       "      <td>0.000033</td>\n",
       "    </tr>\n",
       "    <tr>\n",
       "      <th>0111110</th>\n",
       "      <td>0.000033</td>\n",
       "    </tr>\n",
       "    <tr>\n",
       "      <th>1011110</th>\n",
       "      <td>0.000033</td>\n",
       "    </tr>\n",
       "    <tr>\n",
       "      <th>0000001</th>\n",
       "      <td>0.000033</td>\n",
       "    </tr>\n",
       "    <tr>\n",
       "      <th>0011110</th>\n",
       "      <td>0.000033</td>\n",
       "    </tr>\n",
       "    <tr>\n",
       "      <th>...</th>\n",
       "      <td>...</td>\n",
       "    </tr>\n",
       "    <tr>\n",
       "      <th>1000000</th>\n",
       "      <td>0.010851</td>\n",
       "    </tr>\n",
       "    <tr>\n",
       "      <th>1011111</th>\n",
       "      <td>0.018309</td>\n",
       "    </tr>\n",
       "    <tr>\n",
       "      <th>0000000</th>\n",
       "      <td>0.034524</td>\n",
       "    </tr>\n",
       "    <tr>\n",
       "      <th>0111111</th>\n",
       "      <td>0.101922</td>\n",
       "    </tr>\n",
       "    <tr>\n",
       "      <th>1111111</th>\n",
       "      <td>0.790461</td>\n",
       "    </tr>\n",
       "  </tbody>\n",
       "</table>\n",
       "<p>128 rows × 1 columns</p>\n",
       "</div>"
      ],
      "text/plain": [
       "           module\n",
       "lambda           \n",
       "1000001  0.000033\n",
       "0111110  0.000033\n",
       "1011110  0.000033\n",
       "0000001  0.000033\n",
       "0011110  0.000033\n",
       "...           ...\n",
       "1000000  0.010851\n",
       "1011111  0.018309\n",
       "0000000  0.034524\n",
       "0111111  0.101922\n",
       "1111111  0.790461\n",
       "\n",
       "[128 rows x 1 columns]"
      ]
     },
     "execution_count": 459,
     "metadata": {},
     "output_type": "execute_result"
    }
   ],
   "source": [
    "df['lambda']=df[0].apply(lambda x: x[-resolution:])\n",
    "df1=df.groupby('lambda').agg({'module':'sum'})\n",
    "#df1['module_new']=df1['module'].apply(lambda x: np.sqrt(x.real**2 + x.imag**2))\n",
    "df1.sort_values('module')\n",
    "#int('10011'[::-1],base=2)/32"
   ]
  },
  {
   "cell_type": "code",
   "execution_count": 461,
   "metadata": {
    "collapsed": true,
    "jupyter": {
     "outputs_hidden": true
    }
   },
   "outputs": [
    {
     "data": {
      "text/plain": [
       "(0.984375, 0.9921875)"
      ]
     },
     "execution_count": 461,
     "metadata": {},
     "output_type": "execute_result"
    }
   ],
   "source": [
    "int('0111111'[::-1],base=2)/(2**resolution),int('1111111'[::-1],base=2)/(2**resolution)"
   ]
  },
  {
   "cell_type": "code",
   "execution_count": 462,
   "metadata": {
    "collapsed": true,
    "jupyter": {
     "outputs_hidden": true
    }
   },
   "outputs": [
    {
     "data": {
      "text/plain": [
       "(array([0.00987623, 0.99012377]),\n",
       " array([[-0.87996277, -0.47504266],\n",
       "        [ 0.47504266, -0.87996277]]))"
      ]
     },
     "execution_count": 462,
     "metadata": {},
     "output_type": "execute_result"
    }
   ],
   "source": [
    "np.linalg.eig(example_matrix1)"
   ]
  },
  {
   "cell_type": "code",
   "execution_count": 263,
   "metadata": {
    "collapsed": true,
    "jupyter": {
     "outputs_hidden": true
    }
   },
   "outputs": [
    {
     "data": {
      "text/plain": [
       "0    00\n",
       "3    11\n",
       "Name: 0, dtype: object"
      ]
     },
     "execution_count": 263,
     "metadata": {},
     "output_type": "execute_result"
    }
   ],
   "source": [
    "eig_qubits=df.loc[df.head(4)['module'].nlargest(2).index][0].str[-2:]\n",
    "eig_qubits"
   ]
  },
  {
   "cell_type": "code",
   "execution_count": 264,
   "metadata": {
    "collapsed": true,
    "jupyter": {
     "outputs_hidden": true
    }
   },
   "outputs": [
    {
     "name": "stdout",
     "output_type": "stream",
     "text": [
      "00 [0.23267849 0.41285568 0.41285568 0.7746162 ]\n",
      "00 [0.23325427 0.41387732 0.41387732 0.77653305]\n",
      "11 [0.00987168 0.01910314 0.01910314 0.03494138]\n",
      "11 [0.21812411 0.42210213 0.42210213 0.77206312]\n"
     ]
    }
   ],
   "source": [
    "for i in eig_qubits:\n",
    "    df1=df[df[0].str.endswith(str(i))]\n",
    "    l=df1['module'].values\n",
    "    print(i, l)\n",
    "    normalization_factor=np.sqrt((1/(sum(l**2))))\n",
    "    l*=normalization_factor\n",
    "    print(i,l)"
   ]
  },
  {
   "cell_type": "markdown",
   "metadata": {},
   "source": [
    "$$\\left|00\\right\\rangle(0.23325427|00\\rangle+0.41387732|01\\rangle+0.41387732|10\\rangle+0.77653305|11\\rangle) =$$\n",
    "\n",
    "$$\\left|00\\right\\rangle(0.41387732|0\\rangle(.56|0\\rangle+|1\\rangle)+0.77653305|1\\rangle(.53|0\\rangle+|1\\rangle)) =$$\n",
    "\n",
    "$$\\sqrt{0.77653305}=0.8812 -> posizione 1$$ \n",
    "\n",
    "$$0.88*0.53=0.4670 -> posizione 0$$\n",
    "\n",
    "\n",
    "$$\\left|11\\right\\rangle(0.21812411|00\\rangle+0.42210213|01\\rangle+0.42210213|10\\rangle+0.77206312|11\\rangle) =...$$\n",
    "\n",
    "\n",
    "\n",
    "\n",
    "\n",
    "seed=26"
   ]
  },
  {
   "cell_type": "code",
   "execution_count": 270,
   "metadata": {
    "collapsed": true,
    "jupyter": {
     "outputs_hidden": true
    }
   },
   "outputs": [
    {
     "data": {
      "text/plain": [
       "(array([0.00987623, 0.99012377]),\n",
       " array([[-0.87996277, -0.47504266],\n",
       "        [ 0.47504266, -0.87996277]]))"
      ]
     },
     "execution_count": 270,
     "metadata": {},
     "output_type": "execute_result"
    }
   ],
   "source": [
    "np.linalg.eig(example_matrix1)"
   ]
  },
  {
   "cell_type": "markdown",
   "metadata": {},
   "source": [
    "# 4X4 Seed=12"
   ]
  },
  {
   "cell_type": "code",
   "execution_count": 25,
   "metadata": {},
   "outputs": [],
   "source": [
    "bitstrings=[''.join([''.join(str(j)) for j in i]) for i in list(map(list, itertools.product([0, 1], repeat=resolution+len(example_matrix1))))]\n",
    "ss=attach_bitstrings(statevector)\n",
    "#ss"
   ]
  },
  {
   "cell_type": "code",
   "execution_count": 27,
   "metadata": {},
   "outputs": [
    {
     "data": {
      "text/plain": [
       "<AxesSubplot: xlabel='0'>"
      ]
     },
     "execution_count": 27,
     "metadata": {},
     "output_type": "execute_result"
    },
    {
     "data": {
      "image/png": "[encoded data removed]",
      "text/plain": [
       "<Figure size 1440x1080 with 1 Axes>"
      ]
     },
     "metadata": {
      "needs_background": "light"
     },
     "output_type": "display_data"
    }
   ],
   "source": [
    "import pandas as pd\n",
    "df=pd.DataFrame(ss)\n",
    "df['module']=df[1].apply(lambda x: x.real**2 + x.imag**2)\n",
    "df.set_index(0).module.plot(kind='bar',figsize=(20,15))"
   ]
  },
  {
   "cell_type": "code",
   "execution_count": 28,
   "metadata": {},
   "outputs": [
    {
     "data": {
      "text/html": [
       "<div>\n",
       "<style scoped>\n",
       "    .dataframe tbody tr th:only-of-type {\n",
       "        vertical-align: middle;\n",
       "    }\n",
       "\n",
       "    .dataframe tbody tr th {\n",
       "        vertical-align: top;\n",
       "    }\n",
       "\n",
       "    .dataframe thead th {\n",
       "        text-align: right;\n",
       "    }\n",
       "</style>\n",
       "<table border=\"1\" class=\"dataframe\">\n",
       "  <thead>\n",
       "    <tr style=\"text-align: right;\">\n",
       "      <th></th>\n",
       "      <th>module</th>\n",
       "    </tr>\n",
       "    <tr>\n",
       "      <th>lambda</th>\n",
       "      <th></th>\n",
       "    </tr>\n",
       "  </thead>\n",
       "  <tbody>\n",
       "    <tr>\n",
       "      <th>0100111</th>\n",
       "      <td>0.000039</td>\n",
       "    </tr>\n",
       "    <tr>\n",
       "      <th>1100111</th>\n",
       "      <td>0.000040</td>\n",
       "    </tr>\n",
       "    <tr>\n",
       "      <th>1000111</th>\n",
       "      <td>0.000040</td>\n",
       "    </tr>\n",
       "    <tr>\n",
       "      <th>0110111</th>\n",
       "      <td>0.000040</td>\n",
       "    </tr>\n",
       "    <tr>\n",
       "      <th>0010111</th>\n",
       "      <td>0.000040</td>\n",
       "    </tr>\n",
       "    <tr>\n",
       "      <th>...</th>\n",
       "      <td>...</td>\n",
       "    </tr>\n",
       "    <tr>\n",
       "      <th>1110010</th>\n",
       "      <td>0.020592</td>\n",
       "    </tr>\n",
       "    <tr>\n",
       "      <th>0011001</th>\n",
       "      <td>0.043280</td>\n",
       "    </tr>\n",
       "    <tr>\n",
       "      <th>0110010</th>\n",
       "      <td>0.046303</td>\n",
       "    </tr>\n",
       "    <tr>\n",
       "      <th>1010000</th>\n",
       "      <td>0.099308</td>\n",
       "    </tr>\n",
       "    <tr>\n",
       "      <th>1011001</th>\n",
       "      <td>0.691955</td>\n",
       "    </tr>\n",
       "  </tbody>\n",
       "</table>\n",
       "<p>128 rows × 1 columns</p>\n",
       "</div>"
      ],
      "text/plain": [
       "           module\n",
       "lambda           \n",
       "0100111  0.000039\n",
       "1100111  0.000040\n",
       "1000111  0.000040\n",
       "0110111  0.000040\n",
       "0010111  0.000040\n",
       "...           ...\n",
       "1110010  0.020592\n",
       "0011001  0.043280\n",
       "0110010  0.046303\n",
       "1010000  0.099308\n",
       "1011001  0.691955\n",
       "\n",
       "[128 rows x 1 columns]"
      ]
     },
     "execution_count": 28,
     "metadata": {},
     "output_type": "execute_result"
    }
   ],
   "source": [
    "df['lambda']=df[0].apply(lambda x: x[-resolution:])\n",
    "df1=df.groupby('lambda').agg({'module':'sum'})\n",
    "#df1['module_new']=df1['module'].apply(lambda x: np.sqrt(x.real**2 + x.imag**2))\n",
    "df1.sort_values('module')"
   ]
  },
  {
   "cell_type": "code",
   "execution_count": 29,
   "metadata": {},
   "outputs": [
    {
     "data": {
      "text/html": [
       "<div>\n",
       "<style scoped>\n",
       "    .dataframe tbody tr th:only-of-type {\n",
       "        vertical-align: middle;\n",
       "    }\n",
       "\n",
       "    .dataframe tbody tr th {\n",
       "        vertical-align: top;\n",
       "    }\n",
       "\n",
       "    .dataframe thead th {\n",
       "        text-align: right;\n",
       "    }\n",
       "</style>\n",
       "<table border=\"1\" class=\"dataframe\">\n",
       "  <thead>\n",
       "    <tr style=\"text-align: right;\">\n",
       "      <th></th>\n",
       "      <th>state</th>\n",
       "      <th>st</th>\n",
       "      <th>module</th>\n",
       "      <th>lambda</th>\n",
       "    </tr>\n",
       "  </thead>\n",
       "  <tbody>\n",
       "    <tr>\n",
       "      <th>0</th>\n",
       "      <td>00000000000</td>\n",
       "      <td>-0.0009+0.0033j</td>\n",
       "      <td>1.170000e-05</td>\n",
       "      <td>0000000</td>\n",
       "    </tr>\n",
       "    <tr>\n",
       "      <th>1</th>\n",
       "      <td>00000000001</td>\n",
       "      <td>0.0001+0.0007j</td>\n",
       "      <td>5.000000e-07</td>\n",
       "      <td>0000001</td>\n",
       "    </tr>\n",
       "    <tr>\n",
       "      <th>2</th>\n",
       "      <td>00000000010</td>\n",
       "      <td>0.0018+0.0013j</td>\n",
       "      <td>4.930000e-06</td>\n",
       "      <td>0000010</td>\n",
       "    </tr>\n",
       "    <tr>\n",
       "      <th>3</th>\n",
       "      <td>00000000011</td>\n",
       "      <td>0.0011+0.0005j</td>\n",
       "      <td>1.460000e-06</td>\n",
       "      <td>0000011</td>\n",
       "    </tr>\n",
       "    <tr>\n",
       "      <th>4</th>\n",
       "      <td>00000000100</td>\n",
       "      <td>0.0027-0.0016j</td>\n",
       "      <td>9.850000e-06</td>\n",
       "      <td>0000100</td>\n",
       "    </tr>\n",
       "    <tr>\n",
       "      <th>...</th>\n",
       "      <td>...</td>\n",
       "      <td>...</td>\n",
       "      <td>...</td>\n",
       "      <td>...</td>\n",
       "    </tr>\n",
       "    <tr>\n",
       "      <th>2043</th>\n",
       "      <td>11111111011</td>\n",
       "      <td>0.0035+0.0003j</td>\n",
       "      <td>1.234000e-05</td>\n",
       "      <td>1111011</td>\n",
       "    </tr>\n",
       "    <tr>\n",
       "      <th>2044</th>\n",
       "      <td>11111111100</td>\n",
       "      <td>0.0018+0.0050j</td>\n",
       "      <td>2.824000e-05</td>\n",
       "      <td>1111100</td>\n",
       "    </tr>\n",
       "    <tr>\n",
       "      <th>2045</th>\n",
       "      <td>11111111101</td>\n",
       "      <td>0.0051-0.0013j</td>\n",
       "      <td>2.770000e-05</td>\n",
       "      <td>1111101</td>\n",
       "    </tr>\n",
       "    <tr>\n",
       "      <th>2046</th>\n",
       "      <td>11111111110</td>\n",
       "      <td>-0.0030+0.0035j</td>\n",
       "      <td>2.125000e-05</td>\n",
       "      <td>1111110</td>\n",
       "    </tr>\n",
       "    <tr>\n",
       "      <th>2047</th>\n",
       "      <td>11111111111</td>\n",
       "      <td>0.0038+0.0014j</td>\n",
       "      <td>1.640000e-05</td>\n",
       "      <td>1111111</td>\n",
       "    </tr>\n",
       "  </tbody>\n",
       "</table>\n",
       "<p>2048 rows × 4 columns</p>\n",
       "</div>"
      ],
      "text/plain": [
       "            state              st        module   lambda\n",
       "0     00000000000 -0.0009+0.0033j  1.170000e-05  0000000\n",
       "1     00000000001  0.0001+0.0007j  5.000000e-07  0000001\n",
       "2     00000000010  0.0018+0.0013j  4.930000e-06  0000010\n",
       "3     00000000011  0.0011+0.0005j  1.460000e-06  0000011\n",
       "4     00000000100  0.0027-0.0016j  9.850000e-06  0000100\n",
       "...           ...             ...           ...      ...\n",
       "2043  11111111011  0.0035+0.0003j  1.234000e-05  1111011\n",
       "2044  11111111100  0.0018+0.0050j  2.824000e-05  1111100\n",
       "2045  11111111101  0.0051-0.0013j  2.770000e-05  1111101\n",
       "2046  11111111110 -0.0030+0.0035j  2.125000e-05  1111110\n",
       "2047  11111111111  0.0038+0.0014j  1.640000e-05  1111111\n",
       "\n",
       "[2048 rows x 4 columns]"
      ]
     },
     "execution_count": 29,
     "metadata": {},
     "output_type": "execute_result"
    }
   ],
   "source": [
    "df.columns=['state','st','module','lambda']\n",
    "df"
   ]
  },
  {
   "cell_type": "code",
   "execution_count": 34,
   "metadata": {},
   "outputs": [
    {
     "data": {
      "text/html": [
       "<div>\n",
       "<style scoped>\n",
       "    .dataframe tbody tr th:only-of-type {\n",
       "        vertical-align: middle;\n",
       "    }\n",
       "\n",
       "    .dataframe tbody tr th {\n",
       "        vertical-align: top;\n",
       "    }\n",
       "\n",
       "    .dataframe thead th {\n",
       "        text-align: right;\n",
       "    }\n",
       "</style>\n",
       "<table border=\"1\" class=\"dataframe\">\n",
       "  <thead>\n",
       "    <tr style=\"text-align: right;\">\n",
       "      <th></th>\n",
       "      <th>state</th>\n",
       "      <th>st</th>\n",
       "      <th>module</th>\n",
       "      <th>lambda</th>\n",
       "    </tr>\n",
       "  </thead>\n",
       "  <tbody>\n",
       "    <tr>\n",
       "      <th>89</th>\n",
       "      <td>00001011001</td>\n",
       "      <td>0.0525-0.0371j</td>\n",
       "      <td>0.004133</td>\n",
       "      <td>1011001</td>\n",
       "    </tr>\n",
       "    <tr>\n",
       "      <th>217</th>\n",
       "      <td>00011011001</td>\n",
       "      <td>0.0902-0.0644j</td>\n",
       "      <td>0.012283</td>\n",
       "      <td>1011001</td>\n",
       "    </tr>\n",
       "    <tr>\n",
       "      <th>345</th>\n",
       "      <td>00101011001</td>\n",
       "      <td>0.0879-0.0634j</td>\n",
       "      <td>0.011746</td>\n",
       "      <td>1011001</td>\n",
       "    </tr>\n",
       "    <tr>\n",
       "      <th>473</th>\n",
       "      <td>00111011001</td>\n",
       "      <td>0.1285-0.0928j</td>\n",
       "      <td>0.025124</td>\n",
       "      <td>1011001</td>\n",
       "    </tr>\n",
       "    <tr>\n",
       "      <th>601</th>\n",
       "      <td>01001011001</td>\n",
       "      <td>0.0878-0.0632j</td>\n",
       "      <td>0.011703</td>\n",
       "      <td>1011001</td>\n",
       "    </tr>\n",
       "    <tr>\n",
       "      <th>729</th>\n",
       "      <td>01011011001</td>\n",
       "      <td>0.1539-0.1109j</td>\n",
       "      <td>0.035984</td>\n",
       "      <td>1011001</td>\n",
       "    </tr>\n",
       "    <tr>\n",
       "      <th>857</th>\n",
       "      <td>01101011001</td>\n",
       "      <td>0.1500-0.1079j</td>\n",
       "      <td>0.034142</td>\n",
       "      <td>1011001</td>\n",
       "    </tr>\n",
       "    <tr>\n",
       "      <th>985</th>\n",
       "      <td>01111011001</td>\n",
       "      <td>0.2176-0.1563j</td>\n",
       "      <td>0.071779</td>\n",
       "      <td>1011001</td>\n",
       "    </tr>\n",
       "    <tr>\n",
       "      <th>1113</th>\n",
       "      <td>10001011001</td>\n",
       "      <td>0.0889-0.0646j</td>\n",
       "      <td>0.012076</td>\n",
       "      <td>1011001</td>\n",
       "    </tr>\n",
       "    <tr>\n",
       "      <th>1241</th>\n",
       "      <td>10011011001</td>\n",
       "      <td>0.1569-0.1134j</td>\n",
       "      <td>0.037477</td>\n",
       "      <td>1011001</td>\n",
       "    </tr>\n",
       "    <tr>\n",
       "      <th>1369</th>\n",
       "      <td>10101011001</td>\n",
       "      <td>0.1531-0.1103j</td>\n",
       "      <td>0.035606</td>\n",
       "      <td>1011001</td>\n",
       "    </tr>\n",
       "    <tr>\n",
       "      <th>1497</th>\n",
       "      <td>10111011001</td>\n",
       "      <td>0.2211-0.1583j</td>\n",
       "      <td>0.073944</td>\n",
       "      <td>1011001</td>\n",
       "    </tr>\n",
       "    <tr>\n",
       "      <th>1625</th>\n",
       "      <td>11001011001</td>\n",
       "      <td>0.1286-0.0924j</td>\n",
       "      <td>0.025076</td>\n",
       "      <td>1011001</td>\n",
       "    </tr>\n",
       "    <tr>\n",
       "      <th>1753</th>\n",
       "      <td>11011011001</td>\n",
       "      <td>0.2232-0.1601j</td>\n",
       "      <td>0.075450</td>\n",
       "      <td>1011001</td>\n",
       "    </tr>\n",
       "    <tr>\n",
       "      <th>1881</th>\n",
       "      <td>11101011001</td>\n",
       "      <td>0.2178-0.1565j</td>\n",
       "      <td>0.071929</td>\n",
       "      <td>1011001</td>\n",
       "    </tr>\n",
       "    <tr>\n",
       "      <th>2009</th>\n",
       "      <td>11111011001</td>\n",
       "      <td>0.3179-0.2290j</td>\n",
       "      <td>0.153501</td>\n",
       "      <td>1011001</td>\n",
       "    </tr>\n",
       "  </tbody>\n",
       "</table>\n",
       "</div>"
      ],
      "text/plain": [
       "            state              st    module   lambda\n",
       "89    00001011001  0.0525-0.0371j  0.004133  1011001\n",
       "217   00011011001  0.0902-0.0644j  0.012283  1011001\n",
       "345   00101011001  0.0879-0.0634j  0.011746  1011001\n",
       "473   00111011001  0.1285-0.0928j  0.025124  1011001\n",
       "601   01001011001  0.0878-0.0632j  0.011703  1011001\n",
       "729   01011011001  0.1539-0.1109j  0.035984  1011001\n",
       "857   01101011001  0.1500-0.1079j  0.034142  1011001\n",
       "985   01111011001  0.2176-0.1563j  0.071779  1011001\n",
       "1113  10001011001  0.0889-0.0646j  0.012076  1011001\n",
       "1241  10011011001  0.1569-0.1134j  0.037477  1011001\n",
       "1369  10101011001  0.1531-0.1103j  0.035606  1011001\n",
       "1497  10111011001  0.2211-0.1583j  0.073944  1011001\n",
       "1625  11001011001  0.1286-0.0924j  0.025076  1011001\n",
       "1753  11011011001  0.2232-0.1601j  0.075450  1011001\n",
       "1881  11101011001  0.2178-0.1565j  0.071929  1011001\n",
       "2009  11111011001  0.3179-0.2290j  0.153501  1011001"
      ]
     },
     "execution_count": 34,
     "metadata": {},
     "output_type": "execute_result"
    }
   ],
   "source": [
    "df.query(\"state.str.endswith('1011001')\")"
   ]
  },
  {
   "cell_type": "code",
   "execution_count": 37,
   "metadata": {},
   "outputs": [
    {
     "data": {
      "text/plain": [
       "(0.06428841264178173, 0.6259329330467589)"
      ]
     },
     "execution_count": 37,
     "metadata": {},
     "output_type": "execute_result"
    }
   ],
   "source": [
    "np.sqrt(0.004133),np.sqrt(0.3917920366725184)"
   ]
  },
  {
   "cell_type": "code",
   "execution_count": 18,
   "metadata": {},
   "outputs": [],
   "source": [
    "a1=np.array(df.query(\"state.str.endswith('1011001')\")['module'].values)\n",
    "a1,sum(a1)\n",
    "a_1_sqrt=np.sqrt(a1)"
   ]
  },
  {
   "cell_type": "code",
   "execution_count": 19,
   "metadata": {},
   "outputs": [],
   "source": [
    "a2=np.array(df.query(\"state.str.endswith('0100000')\")['module'].values)\n",
    "a2,sum(a1)\n",
    "a_2_sqrt=np.sqrt(a2)"
   ]
  },
  {
   "cell_type": "code",
   "execution_count": 20,
   "metadata": {},
   "outputs": [],
   "source": [
    "a3=np.array(df.query(\"state.str.endswith('0110000')\")['module'].values)\n",
    "a3,sum(a3)\n",
    "a_3_sqrt=np.sqrt(a3)"
   ]
  },
  {
   "cell_type": "code",
   "execution_count": 21,
   "metadata": {},
   "outputs": [],
   "source": [
    "a4=np.array(df.query(\"state.str.endswith('1011100')\")['module'].values)\n",
    "a4,sum(a4)\n",
    "a_4_sqrt=np.sqrt(a4)"
   ]
  },
  {
   "cell_type": "code",
   "execution_count": 22,
   "metadata": {
    "collapsed": true,
    "jupyter": {
     "outputs_hidden": true
    }
   },
   "outputs": [
    {
     "data": {
      "text/plain": [
       "[array([0.17170073, 0.17736496, 0.18827538, 0.25341138, 0.1844218 ,\n",
       "        0.19247922, 0.20216689, 0.27355749, 0.18058641, 0.18540423,\n",
       "        0.19814338, 0.2659364 , 0.25084836, 0.26068235, 0.2752061 ,\n",
       "        0.37162069]),\n",
       " array([0.03301348, 0.01222988, 0.00907359, 0.02253752, 0.06707406,\n",
       "        0.02332381, 0.02042866, 0.04194878, 0.08521766, 0.0310601 ,\n",
       "        0.02452468, 0.05611702, 0.04666615, 0.01534959, 0.01423938,\n",
       "        0.02840035]),\n",
       " array([0.00345254, 0.0005099 , 0.00224722, 0.0021095 , 0.01609627,\n",
       "        0.01172092, 0.02200818, 0.01481891, 0.05105487, 0.04210428,\n",
       "        0.08168843, 0.0564985 , 0.03009585, 0.02551255, 0.0492123 ,\n",
       "        0.03392713]),\n",
       " array([0.00264764, 0.01317953, 0.00933916, 0.00586941, 0.0190683 ,\n",
       "        0.07555713, 0.04768197, 0.02863564, 0.01730029, 0.07274868,\n",
       "        0.04762709, 0.02920976, 0.00863481, 0.03389543, 0.0206526 ,\n",
       "        0.01184567])]"
      ]
     },
     "execution_count": 22,
     "metadata": {},
     "output_type": "execute_result"
    }
   ],
   "source": [
    "a=[a_1_sqrt,a_2_sqrt,a_3_sqrt,a_4_sqrt]\n",
    "#a=[a1,a2]\n",
    "a"
   ]
  },
  {
   "cell_type": "code",
   "execution_count": 32,
   "metadata": {},
   "outputs": [
    {
     "data": {
      "text/plain": [
       "(0.6015625, 0.015625, 0.046875, 0.2265625)"
      ]
     },
     "execution_count": 32,
     "metadata": {},
     "output_type": "execute_result"
    }
   ],
   "source": [
    "int('1011001'[::-1],base=2)/(2**resolution),int('0100000'[::-1],base=2)/(2**resolution),int('0110000'[::-1],base=2)/(2**resolution),int('1011100'[::-1],base=2)/(2**resolution)"
   ]
  },
  {
   "cell_type": "code",
   "execution_count": 25,
   "metadata": {
    "collapsed": true,
    "jupyter": {
     "outputs_hidden": true
    }
   },
   "outputs": [
    {
     "data": {
      "text/plain": [
       "(array([0.71180655, 0.22316477, 0.01821782, 0.04681086]),\n",
       " array([[ 0.42777602,  0.20326857,  0.78671927,  0.39593227],\n",
       "        [ 0.44316532,  0.78097832, -0.26649827, -0.35022284],\n",
       "        [ 0.46933345, -0.50082482,  0.22263581, -0.69233945],\n",
       "        [ 0.63272292, -0.31293648, -0.51037708,  0.49116972]]))"
      ]
     },
     "execution_count": 25,
     "metadata": {},
     "output_type": "execute_result"
    }
   ],
   "source": [
    "np.linalg.eig(example_matrix1)"
   ]
  },
  {
   "cell_type": "code",
   "execution_count": 26,
   "metadata": {
    "collapsed": true,
    "jupyter": {
     "outputs_hidden": true
    }
   },
   "outputs": [
    {
     "name": "stdout",
     "output_type": "stream",
     "text": [
      "[0.17170073 0.17736496 0.18827538 0.25341138 0.1844218  0.19247922\n",
      " 0.20216689 0.27355749 0.18058641 0.18540423 0.19814338 0.2659364\n",
      " 0.25084836 0.26068235 0.2752061  0.37162069]\n",
      "1.0726928707065038\n",
      "[array([0.18418215, 0.19025813, 0.20196166, 0.27183259, 0.19782795,\n",
      "       0.20647109, 0.21686298, 0.29344317, 0.19371375, 0.1988818 ,\n",
      "       0.21254699, 0.28526808, 0.26908325, 0.2796321 , 0.29521163,\n",
      "       0.39863487]), array([0.03301348, 0.01222988, 0.00907359, 0.02253752, 0.06707406,\n",
      "       0.02332381, 0.02042866, 0.04194878, 0.08521766, 0.0310601 ,\n",
      "       0.02452468, 0.05611702, 0.04666615, 0.01534959, 0.01423938,\n",
      "       0.02840035]), array([0.00345254, 0.0005099 , 0.00224722, 0.0021095 , 0.01609627,\n",
      "       0.01172092, 0.02200818, 0.01481891, 0.05105487, 0.04210428,\n",
      "       0.08168843, 0.0564985 , 0.03009585, 0.02551255, 0.0492123 ,\n",
      "       0.03392713]), array([0.00264764, 0.01317953, 0.00933916, 0.00586941, 0.0190683 ,\n",
      "       0.07555713, 0.04768197, 0.02863564, 0.01730029, 0.07274868,\n",
      "       0.04762709, 0.02920976, 0.00863481, 0.03389543, 0.0206526 ,\n",
      "       0.01184567])]\n",
      "[0.03301348 0.01222988 0.00907359 0.02253752 0.06707406 0.02332381\n",
      " 0.02042866 0.04194878 0.08521766 0.0310601  0.02452468 0.05611702\n",
      " 0.04666615 0.01534959 0.01423938 0.02840035]\n",
      "6.3953301056469\n",
      "[array([0.18418215, 0.19025813, 0.20196166, 0.27183259, 0.19782795,\n",
      "       0.20647109, 0.21686298, 0.29344317, 0.19371375, 0.1988818 ,\n",
      "       0.21254699, 0.28526808, 0.26908325, 0.2796321 , 0.29521163,\n",
      "       0.39863487]), array([0.21113212, 0.07821413, 0.05802859, 0.14413491, 0.42896078,\n",
      "       0.14916345, 0.130648  , 0.26827628, 0.54499508, 0.19863961,\n",
      "       0.15684343, 0.35888687, 0.29844546, 0.09816571, 0.09106555,\n",
      "       0.18162963]), array([0.00345254, 0.0005099 , 0.00224722, 0.0021095 , 0.01609627,\n",
      "       0.01172092, 0.02200818, 0.01481891, 0.05105487, 0.04210428,\n",
      "       0.08168843, 0.0564985 , 0.03009585, 0.02551255, 0.0492123 ,\n",
      "       0.03392713]), array([0.00264764, 0.01317953, 0.00933916, 0.00586941, 0.0190683 ,\n",
      "       0.07555713, 0.04768197, 0.02863564, 0.01730029, 0.07274868,\n",
      "       0.04762709, 0.02920976, 0.00863481, 0.03389543, 0.0206526 ,\n",
      "       0.01184567])]\n",
      "[0.00345254 0.0005099  0.00224722 0.0021095  0.01609627 0.01172092\n",
      " 0.02200818 0.01481891 0.05105487 0.04210428 0.08168843 0.0564985\n",
      " 0.03009585 0.02551255 0.0492123  0.03392713]\n",
      "6.9849657090548245\n",
      "[array([0.18418215, 0.19025813, 0.20196166, 0.27183259, 0.19782795,\n",
      "       0.20647109, 0.21686298, 0.29344317, 0.19371375, 0.1988818 ,\n",
      "       0.21254699, 0.28526808, 0.26908325, 0.2796321 , 0.29521163,\n",
      "       0.39863487]), array([0.21113212, 0.07821413, 0.05802859, 0.14413491, 0.42896078,\n",
      "       0.14916345, 0.130648  , 0.26827628, 0.54499508, 0.19863961,\n",
      "       0.15684343, 0.35888687, 0.29844546, 0.09816571, 0.09106555,\n",
      "       0.18162963]), array([0.02411584, 0.00356165, 0.01569676, 0.0147348 , 0.11243191,\n",
      "       0.08187023, 0.15372638, 0.10350956, 0.35661653, 0.29409692,\n",
      "       0.5705909 , 0.39464005, 0.21021846, 0.17820426, 0.34374619,\n",
      "       0.23697982]), array([0.00264764, 0.01317953, 0.00933916, 0.00586941, 0.0190683 ,\n",
      "       0.07555713, 0.04768197, 0.02863564, 0.01730029, 0.07274868,\n",
      "       0.04762709, 0.02920976, 0.00863481, 0.03389543, 0.0206526 ,\n",
      "       0.01184567])]\n",
      "[0.00264764 0.01317953 0.00933916 0.00586941 0.0190683  0.07555713\n",
      " 0.04768197 0.02863564 0.01730029 0.07274868 0.04762709 0.02920976\n",
      " 0.00863481 0.03389543 0.0206526  0.01184567]\n",
      "7.076029848593226\n",
      "[array([0.18418215, 0.19025813, 0.20196166, 0.27183259, 0.19782795,\n",
      "       0.20647109, 0.21686298, 0.29344317, 0.19371375, 0.1988818 ,\n",
      "       0.21254699, 0.28526808, 0.26908325, 0.2796321 , 0.29521163,\n",
      "       0.39863487]), array([0.21113212, 0.07821413, 0.05802859, 0.14413491, 0.42896078,\n",
      "       0.14916345, 0.130648  , 0.26827628, 0.54499508, 0.19863961,\n",
      "       0.15684343, 0.35888687, 0.29844546, 0.09816571, 0.09106555,\n",
      "       0.18162963]), array([0.02411584, 0.00356165, 0.01569676, 0.0147348 , 0.11243191,\n",
      "       0.08187023, 0.15372638, 0.10350956, 0.35661653, 0.29409692,\n",
      "       0.5705909 , 0.39464005, 0.21021846, 0.17820426, 0.34374619,\n",
      "       0.23697982]), array([0.01873478, 0.09325874, 0.06608421, 0.04153214, 0.13492785,\n",
      "       0.53464451, 0.33739902, 0.20262666, 0.12241736, 0.51477181,\n",
      "       0.33701073, 0.20668912, 0.0611002 , 0.23984506, 0.14613843,\n",
      "       0.08382035])]\n"
     ]
    }
   ],
   "source": [
    "for i in a:\n",
    "    print(i)\n",
    "    normalization_factor=np.sqrt((1/(sum(i**2))))\n",
    "    print(normalization_factor)\n",
    "    i*=normalization_factor\n",
    "    print(a)"
   ]
  },
  {
   "cell_type": "code",
   "execution_count": null,
   "metadata": {},
   "outputs": [],
   "source": []
  },
  {
   "cell_type": "code",
   "execution_count": null,
   "metadata": {},
   "outputs": [],
   "source": []
  },
  {
   "cell_type": "code",
   "execution_count": 40,
   "metadata": {
    "collapsed": true,
    "jupyter": {
     "outputs_hidden": true
    }
   },
   "outputs": [
    {
     "data": {
      "text/html": [
       "<div>\n",
       "<style scoped>\n",
       "    .dataframe tbody tr th:only-of-type {\n",
       "        vertical-align: middle;\n",
       "    }\n",
       "\n",
       "    .dataframe tbody tr th {\n",
       "        vertical-align: top;\n",
       "    }\n",
       "\n",
       "    .dataframe thead th {\n",
       "        text-align: right;\n",
       "    }\n",
       "</style>\n",
       "<table border=\"1\" class=\"dataframe\">\n",
       "  <thead>\n",
       "    <tr style=\"text-align: right;\">\n",
       "      <th></th>\n",
       "      <th>state</th>\n",
       "      <th>st</th>\n",
       "      <th>module</th>\n",
       "      <th>lambda</th>\n",
       "    </tr>\n",
       "  </thead>\n",
       "  <tbody>\n",
       "    <tr>\n",
       "      <th>109</th>\n",
       "      <td>00001101101</td>\n",
       "      <td>0.1615+0.0583j</td>\n",
       "      <td>0.029481</td>\n",
       "      <td>1101101</td>\n",
       "    </tr>\n",
       "    <tr>\n",
       "      <th>237</th>\n",
       "      <td>00011101101</td>\n",
       "      <td>0.1668+0.0603j</td>\n",
       "      <td>0.031458</td>\n",
       "      <td>1101101</td>\n",
       "    </tr>\n",
       "    <tr>\n",
       "      <th>365</th>\n",
       "      <td>00101101101</td>\n",
       "      <td>0.1771+0.0639j</td>\n",
       "      <td>0.035448</td>\n",
       "      <td>1101101</td>\n",
       "    </tr>\n",
       "    <tr>\n",
       "      <th>493</th>\n",
       "      <td>00111101101</td>\n",
       "      <td>0.2383+0.0862j</td>\n",
       "      <td>0.064217</td>\n",
       "      <td>1101101</td>\n",
       "    </tr>\n",
       "    <tr>\n",
       "      <th>621</th>\n",
       "      <td>01001101101</td>\n",
       "      <td>0.1734+0.0628j</td>\n",
       "      <td>0.034011</td>\n",
       "      <td>1101101</td>\n",
       "    </tr>\n",
       "    <tr>\n",
       "      <th>749</th>\n",
       "      <td>01011101101</td>\n",
       "      <td>0.1811+0.0652j</td>\n",
       "      <td>0.037048</td>\n",
       "      <td>1101101</td>\n",
       "    </tr>\n",
       "    <tr>\n",
       "      <th>877</th>\n",
       "      <td>01101101101</td>\n",
       "      <td>0.1901+0.0688j</td>\n",
       "      <td>0.040871</td>\n",
       "      <td>1101101</td>\n",
       "    </tr>\n",
       "    <tr>\n",
       "      <th>1005</th>\n",
       "      <td>01111101101</td>\n",
       "      <td>0.2573+0.0929j</td>\n",
       "      <td>0.074834</td>\n",
       "      <td>1101101</td>\n",
       "    </tr>\n",
       "    <tr>\n",
       "      <th>1133</th>\n",
       "      <td>10001101101</td>\n",
       "      <td>0.1699+0.0612j</td>\n",
       "      <td>0.032611</td>\n",
       "      <td>1101101</td>\n",
       "    </tr>\n",
       "    <tr>\n",
       "      <th>1261</th>\n",
       "      <td>10011101101</td>\n",
       "      <td>0.1743+0.0632j</td>\n",
       "      <td>0.034375</td>\n",
       "      <td>1101101</td>\n",
       "    </tr>\n",
       "    <tr>\n",
       "      <th>1389</th>\n",
       "      <td>10101101101</td>\n",
       "      <td>0.1864+0.0672j</td>\n",
       "      <td>0.039261</td>\n",
       "      <td>1101101</td>\n",
       "    </tr>\n",
       "    <tr>\n",
       "      <th>1517</th>\n",
       "      <td>10111101101</td>\n",
       "      <td>0.2501+0.0904j</td>\n",
       "      <td>0.070722</td>\n",
       "      <td>1101101</td>\n",
       "    </tr>\n",
       "    <tr>\n",
       "      <th>1645</th>\n",
       "      <td>11001101101</td>\n",
       "      <td>0.2359+0.0853j</td>\n",
       "      <td>0.062925</td>\n",
       "      <td>1101101</td>\n",
       "    </tr>\n",
       "    <tr>\n",
       "      <th>1773</th>\n",
       "      <td>11011101101</td>\n",
       "      <td>0.2452+0.0885j</td>\n",
       "      <td>0.067955</td>\n",
       "      <td>1101101</td>\n",
       "    </tr>\n",
       "    <tr>\n",
       "      <th>1901</th>\n",
       "      <td>11101101101</td>\n",
       "      <td>0.2588+0.0936j</td>\n",
       "      <td>0.075738</td>\n",
       "      <td>1101101</td>\n",
       "    </tr>\n",
       "    <tr>\n",
       "      <th>2029</th>\n",
       "      <td>11111101101</td>\n",
       "      <td>0.3495+0.1263j</td>\n",
       "      <td>0.138102</td>\n",
       "      <td>1101101</td>\n",
       "    </tr>\n",
       "  </tbody>\n",
       "</table>\n",
       "</div>"
      ],
      "text/plain": [
       "            state              st    module   lambda\n",
       "109   00001101101  0.1615+0.0583j  0.029481  1101101\n",
       "237   00011101101  0.1668+0.0603j  0.031458  1101101\n",
       "365   00101101101  0.1771+0.0639j  0.035448  1101101\n",
       "493   00111101101  0.2383+0.0862j  0.064217  1101101\n",
       "621   01001101101  0.1734+0.0628j  0.034011  1101101\n",
       "749   01011101101  0.1811+0.0652j  0.037048  1101101\n",
       "877   01101101101  0.1901+0.0688j  0.040871  1101101\n",
       "1005  01111101101  0.2573+0.0929j  0.074834  1101101\n",
       "1133  10001101101  0.1699+0.0612j  0.032611  1101101\n",
       "1261  10011101101  0.1743+0.0632j  0.034375  1101101\n",
       "1389  10101101101  0.1864+0.0672j  0.039261  1101101\n",
       "1517  10111101101  0.2501+0.0904j  0.070722  1101101\n",
       "1645  11001101101  0.2359+0.0853j  0.062925  1101101\n",
       "1773  11011101101  0.2452+0.0885j  0.067955  1101101\n",
       "1901  11101101101  0.2588+0.0936j  0.075738  1101101\n",
       "2029  11111101101  0.3495+0.1263j  0.138102  1101101"
      ]
     },
     "execution_count": 40,
     "metadata": {},
     "output_type": "execute_result"
    }
   ],
   "source": [
    "df.query(\"state.str.endswith('1101101')\")"
   ]
  },
  {
   "cell_type": "markdown",
   "metadata": {},
   "source": [
    "Autovalore 1101101 =>0.71\n",
    "\n",
    "$$\\left|1101101\\right\\rangle(0.18418215|0000\\rangle+0.19025813|0001\\rangle+0.20196166|0010\\rangle+0.27183259|0011\\rangle+\n",
    "0.19782795|0100\\rangle+0.20647109|0101\\rangle+0.21686298|0110\\rangle+0.29344317|0111\\rangle+0.19371375|1000\\rangle+0.1988818|1001\\rangle+0.21254699|1010\\rangle+0.28526808|1011\\rangle+\n",
    "0.26908325|1100\\rangle+0.2796321|1101\\rangle+0.29521163|1110\\rangle+0.39863487|1111\\rangle) =$$\n",
    "\n",
    "$$\\left|1101101\\right\\rangle\\left[\\textbf{...|00}\\rangle(...|00\\rangle+...|01\\rangle+...|10\\rangle+|11\\rangle)+\\\\\n",
    "\\textbf{...|01}\\rangle(...|00\\rangle+...|01\\rangle+...|10\\rangle+|11\\rangle)+\\\\\n",
    "\\textbf{...|10}\\rangle(...|00\\rangle+...|01\\rangle+...|10\\rangle+|11\\rangle)+\\\\\n",
    "\\textbf{0.39863|11}\\rangle(0.6750|00\\rangle+0.7014|01\\rangle+0.74055|10\\rangle+|11\\rangle)\\right]\\\\\n",
    "$$\n",
    "\n",
    "$$\\sqrt{.39863}=.6313 -> 4 posizione \n",
    "\\\\\n",
    "0.6313*0.6750=0.4261-> 1 posizione\n",
    "\\\\\n",
    "0.6313*0.7014=0.44289 -> 2 posizione\n",
    "\\\\\n",
    "0.6313*0.74055=0.4675 -> 3 posizione\n",
    "$$\n",
    "\n",
    "Guardando lo statevector si vede tutti segni positivi=> tutti i valori dell'autovettore saranno positivi"
   ]
  },
  {
   "cell_type": "code",
   "execution_count": 41,
   "metadata": {
    "collapsed": true,
    "jupyter": {
     "outputs_hidden": true
    }
   },
   "outputs": [
    {
     "data": {
      "text/html": [
       "<div>\n",
       "<style scoped>\n",
       "    .dataframe tbody tr th:only-of-type {\n",
       "        vertical-align: middle;\n",
       "    }\n",
       "\n",
       "    .dataframe tbody tr th {\n",
       "        vertical-align: top;\n",
       "    }\n",
       "\n",
       "    .dataframe thead th {\n",
       "        text-align: right;\n",
       "    }\n",
       "</style>\n",
       "<table border=\"1\" class=\"dataframe\">\n",
       "  <thead>\n",
       "    <tr style=\"text-align: right;\">\n",
       "      <th></th>\n",
       "      <th>state</th>\n",
       "      <th>st</th>\n",
       "      <th>module</th>\n",
       "      <th>lambda</th>\n",
       "    </tr>\n",
       "  </thead>\n",
       "  <tbody>\n",
       "    <tr>\n",
       "      <th>32</th>\n",
       "      <td>00000100000</td>\n",
       "      <td>0.0170+0.0283j</td>\n",
       "      <td>0.001090</td>\n",
       "      <td>0100000</td>\n",
       "    </tr>\n",
       "    <tr>\n",
       "      <th>160</th>\n",
       "      <td>00010100000</td>\n",
       "      <td>-0.0061-0.0106j</td>\n",
       "      <td>0.000150</td>\n",
       "      <td>0100000</td>\n",
       "    </tr>\n",
       "    <tr>\n",
       "      <th>288</th>\n",
       "      <td>00100100000</td>\n",
       "      <td>0.0048+0.0077j</td>\n",
       "      <td>0.000082</td>\n",
       "      <td>0100000</td>\n",
       "    </tr>\n",
       "    <tr>\n",
       "      <th>416</th>\n",
       "      <td>00110100000</td>\n",
       "      <td>-0.0113-0.0195j</td>\n",
       "      <td>0.000508</td>\n",
       "      <td>0100000</td>\n",
       "    </tr>\n",
       "    <tr>\n",
       "      <th>544</th>\n",
       "      <td>01000100000</td>\n",
       "      <td>-0.0342-0.0577j</td>\n",
       "      <td>0.004499</td>\n",
       "      <td>0100000</td>\n",
       "    </tr>\n",
       "    <tr>\n",
       "      <th>672</th>\n",
       "      <td>01010100000</td>\n",
       "      <td>0.0120+0.0200j</td>\n",
       "      <td>0.000544</td>\n",
       "      <td>0100000</td>\n",
       "    </tr>\n",
       "    <tr>\n",
       "      <th>800</th>\n",
       "      <td>01100100000</td>\n",
       "      <td>-0.0102-0.0177j</td>\n",
       "      <td>0.000417</td>\n",
       "      <td>0100000</td>\n",
       "    </tr>\n",
       "    <tr>\n",
       "      <th>928</th>\n",
       "      <td>01110100000</td>\n",
       "      <td>0.0217+0.0359j</td>\n",
       "      <td>0.001760</td>\n",
       "      <td>0100000</td>\n",
       "    </tr>\n",
       "    <tr>\n",
       "      <th>1056</th>\n",
       "      <td>10000100000</td>\n",
       "      <td>0.0438+0.0731j</td>\n",
       "      <td>0.007262</td>\n",
       "      <td>0100000</td>\n",
       "    </tr>\n",
       "    <tr>\n",
       "      <th>1184</th>\n",
       "      <td>10010100000</td>\n",
       "      <td>-0.0157-0.0268j</td>\n",
       "      <td>0.000965</td>\n",
       "      <td>0100000</td>\n",
       "    </tr>\n",
       "    <tr>\n",
       "      <th>1312</th>\n",
       "      <td>10100100000</td>\n",
       "      <td>0.0125+0.0211j</td>\n",
       "      <td>0.000601</td>\n",
       "      <td>0100000</td>\n",
       "    </tr>\n",
       "    <tr>\n",
       "      <th>1440</th>\n",
       "      <td>10110100000</td>\n",
       "      <td>-0.0284-0.0484j</td>\n",
       "      <td>0.003149</td>\n",
       "      <td>0100000</td>\n",
       "    </tr>\n",
       "    <tr>\n",
       "      <th>1568</th>\n",
       "      <td>11000100000</td>\n",
       "      <td>-0.0237-0.0402j</td>\n",
       "      <td>0.002178</td>\n",
       "      <td>0100000</td>\n",
       "    </tr>\n",
       "    <tr>\n",
       "      <th>1696</th>\n",
       "      <td>11010100000</td>\n",
       "      <td>0.0080+0.0131j</td>\n",
       "      <td>0.000236</td>\n",
       "      <td>0100000</td>\n",
       "    </tr>\n",
       "    <tr>\n",
       "      <th>1824</th>\n",
       "      <td>11100100000</td>\n",
       "      <td>-0.0070-0.0124j</td>\n",
       "      <td>0.000203</td>\n",
       "      <td>0100000</td>\n",
       "    </tr>\n",
       "    <tr>\n",
       "      <th>1952</th>\n",
       "      <td>11110100000</td>\n",
       "      <td>0.0147+0.0243j</td>\n",
       "      <td>0.000807</td>\n",
       "      <td>0100000</td>\n",
       "    </tr>\n",
       "  </tbody>\n",
       "</table>\n",
       "</div>"
      ],
      "text/plain": [
       "            state              st    module   lambda\n",
       "32    00000100000  0.0170+0.0283j  0.001090  0100000\n",
       "160   00010100000 -0.0061-0.0106j  0.000150  0100000\n",
       "288   00100100000  0.0048+0.0077j  0.000082  0100000\n",
       "416   00110100000 -0.0113-0.0195j  0.000508  0100000\n",
       "544   01000100000 -0.0342-0.0577j  0.004499  0100000\n",
       "672   01010100000  0.0120+0.0200j  0.000544  0100000\n",
       "800   01100100000 -0.0102-0.0177j  0.000417  0100000\n",
       "928   01110100000  0.0217+0.0359j  0.001760  0100000\n",
       "1056  10000100000  0.0438+0.0731j  0.007262  0100000\n",
       "1184  10010100000 -0.0157-0.0268j  0.000965  0100000\n",
       "1312  10100100000  0.0125+0.0211j  0.000601  0100000\n",
       "1440  10110100000 -0.0284-0.0484j  0.003149  0100000\n",
       "1568  11000100000 -0.0237-0.0402j  0.002178  0100000\n",
       "1696  11010100000  0.0080+0.0131j  0.000236  0100000\n",
       "1824  11100100000 -0.0070-0.0124j  0.000203  0100000\n",
       "1952  11110100000  0.0147+0.0243j  0.000807  0100000"
      ]
     },
     "execution_count": 41,
     "metadata": {},
     "output_type": "execute_result"
    }
   ],
   "source": [
    "df.query(\"state.str.endswith('0100000')\")"
   ]
  },
  {
   "cell_type": "markdown",
   "metadata": {},
   "source": [
    "Autovalore 0100000 => 0.015\n",
    "\n",
    "$$\\left|0100000\\right\\rangle(0.21113212|0000\\rangle+0.07821413|0001\\rangle+0.05802859|0010\\rangle+0.14413491|0011\\rangle+\n",
    "0.42896078|0100\\rangle+0.14916345|0101\\rangle+0.130648|0110\\rangle+0.26827628|0111\\rangle+0.54499508|1000\\rangle+0.19863961|1001\\rangle+0.15684343|1010\\rangle+0.35888687|1011\\rangle+\n",
    "0.29844546|1100\\rangle+0.09816571|1101\\rangle+0.09106555|1110\\rangle+0.18162963|1111\\rangle) =$$\n",
    "\n",
    "$$\\left|1101101\\right\\rangle\\left[\\textbf{...|00}\\rangle(...|00\\rangle+...|01\\rangle+...|10\\rangle+|11\\rangle)+\\\\\n",
    "\\textbf{...|01}\\rangle(...|00\\rangle+...|01\\rangle+...|10\\rangle+|11\\rangle)+\\\\\n",
    "\\textbf{.54499508|10}\\rangle(|00\\rangle+0.3644|01\\rangle+ 0.2877|10\\rangle+0.6585|11\\rangle)+\\\\\n",
    "\\textbf{...|11}\\rangle(...|00\\rangle+...|01\\rangle+...|10\\rangle+...|11\\rangle)\\right]\\\\\n",
    "$$\n",
    "\n",
    "$$\\sqrt{.54499508}=.7382 -> 1 posizione \n",
    "\\\\\n",
    "0.7382*0.3644=0.2690-> 2 posizione\n",
    "\\\\\n",
    "0.7382*0.2877=0.2124 -> 3 posizione\n",
    "\\\\\n",
    "0.7382*0.6585=0.4861 -> 4 posizione\n",
    "$$\n",
    "\n",
    "I segni sono alternati con + e - =>> coppia di segni negativi alterni"
   ]
  },
  {
   "cell_type": "markdown",
   "metadata": {},
   "source": [
    "$$\\left|0100000\\right\\rangle((+...+j)|0000\\rangle+(-...-j)|0001\\rangle+(+...+j)|0010\\rangle+(-...-j)|0011\\rangle+\n",
    "(-...-j)|0100\\rangle+(+...+j)|0101\\rangle+(-...-j)|0110\\rangle+(+...+j)|0111\\rangle+\\textbf{(+...+j)}\\textbf{|1000}\\rangle+\\textbf{(-...-j)|1001}\\rangle+\\textbf{(+...+j)|1010}\\rangle+\\textbf{(-...-j)|1011}\\rangle+\n",
    "(-...-j)|1100\\rangle+(+...+j)|1101\\rangle+(-...-j)|1110\\rangle+(+...+j)|1111\\rangle) =$$\n",
    "\n",
    "Si guarda sempre il segno della parte reale-> segni alterni +-+- o -+-+"
   ]
  },
  {
   "cell_type": "code",
   "execution_count": 42,
   "metadata": {
    "collapsed": true,
    "jupyter": {
     "outputs_hidden": true
    }
   },
   "outputs": [
    {
     "data": {
      "text/html": [
       "<div>\n",
       "<style scoped>\n",
       "    .dataframe tbody tr th:only-of-type {\n",
       "        vertical-align: middle;\n",
       "    }\n",
       "\n",
       "    .dataframe tbody tr th {\n",
       "        vertical-align: top;\n",
       "    }\n",
       "\n",
       "    .dataframe thead th {\n",
       "        text-align: right;\n",
       "    }\n",
       "</style>\n",
       "<table border=\"1\" class=\"dataframe\">\n",
       "  <thead>\n",
       "    <tr style=\"text-align: right;\">\n",
       "      <th></th>\n",
       "      <th>state</th>\n",
       "      <th>st</th>\n",
       "      <th>module</th>\n",
       "      <th>lambda</th>\n",
       "    </tr>\n",
       "  </thead>\n",
       "  <tbody>\n",
       "    <tr>\n",
       "      <th>92</th>\n",
       "      <td>00001011100</td>\n",
       "      <td>-0.0005+0.0026j</td>\n",
       "      <td>0.000007</td>\n",
       "      <td>1011100</td>\n",
       "    </tr>\n",
       "    <tr>\n",
       "      <th>220</th>\n",
       "      <td>00011011100</td>\n",
       "      <td>-0.0027+0.0129j</td>\n",
       "      <td>0.000174</td>\n",
       "      <td>1011100</td>\n",
       "    </tr>\n",
       "    <tr>\n",
       "      <th>348</th>\n",
       "      <td>00101011100</td>\n",
       "      <td>0.0021-0.0091j</td>\n",
       "      <td>0.000087</td>\n",
       "      <td>1011100</td>\n",
       "    </tr>\n",
       "    <tr>\n",
       "      <th>476</th>\n",
       "      <td>00111011100</td>\n",
       "      <td>0.0014-0.0057j</td>\n",
       "      <td>0.000034</td>\n",
       "      <td>1011100</td>\n",
       "    </tr>\n",
       "    <tr>\n",
       "      <th>604</th>\n",
       "      <td>01001011100</td>\n",
       "      <td>0.0042-0.0186j</td>\n",
       "      <td>0.000364</td>\n",
       "      <td>1011100</td>\n",
       "    </tr>\n",
       "    <tr>\n",
       "      <th>732</th>\n",
       "      <td>01011011100</td>\n",
       "      <td>0.0162-0.0738j</td>\n",
       "      <td>0.005709</td>\n",
       "      <td>1011100</td>\n",
       "    </tr>\n",
       "    <tr>\n",
       "      <th>860</th>\n",
       "      <td>01101011100</td>\n",
       "      <td>-0.0101+0.0466j</td>\n",
       "      <td>0.002274</td>\n",
       "      <td>1011100</td>\n",
       "    </tr>\n",
       "    <tr>\n",
       "      <th>988</th>\n",
       "      <td>01111011100</td>\n",
       "      <td>-0.0060+0.0280j</td>\n",
       "      <td>0.000820</td>\n",
       "      <td>1011100</td>\n",
       "    </tr>\n",
       "    <tr>\n",
       "      <th>1116</th>\n",
       "      <td>10001011100</td>\n",
       "      <td>-0.0037+0.0169j</td>\n",
       "      <td>0.000299</td>\n",
       "      <td>1011100</td>\n",
       "    </tr>\n",
       "    <tr>\n",
       "      <th>1244</th>\n",
       "      <td>10011011100</td>\n",
       "      <td>-0.0154+0.0711j</td>\n",
       "      <td>0.005292</td>\n",
       "      <td>1011100</td>\n",
       "    </tr>\n",
       "    <tr>\n",
       "      <th>1372</th>\n",
       "      <td>10101011100</td>\n",
       "      <td>0.0103-0.0465j</td>\n",
       "      <td>0.002268</td>\n",
       "      <td>1011100</td>\n",
       "    </tr>\n",
       "    <tr>\n",
       "      <th>1500</th>\n",
       "      <td>10111011100</td>\n",
       "      <td>0.0064-0.0285j</td>\n",
       "      <td>0.000853</td>\n",
       "      <td>1011100</td>\n",
       "    </tr>\n",
       "    <tr>\n",
       "      <th>1628</th>\n",
       "      <td>11001011100</td>\n",
       "      <td>0.0020-0.0084j</td>\n",
       "      <td>0.000075</td>\n",
       "      <td>1011100</td>\n",
       "    </tr>\n",
       "    <tr>\n",
       "      <th>1756</th>\n",
       "      <td>11011011100</td>\n",
       "      <td>0.0073-0.0331j</td>\n",
       "      <td>0.001149</td>\n",
       "      <td>1011100</td>\n",
       "    </tr>\n",
       "    <tr>\n",
       "      <th>1884</th>\n",
       "      <td>11101011100</td>\n",
       "      <td>-0.0043+0.0202j</td>\n",
       "      <td>0.000427</td>\n",
       "      <td>1011100</td>\n",
       "    </tr>\n",
       "    <tr>\n",
       "      <th>2012</th>\n",
       "      <td>11111011100</td>\n",
       "      <td>-0.0024+0.0116j</td>\n",
       "      <td>0.000140</td>\n",
       "      <td>1011100</td>\n",
       "    </tr>\n",
       "  </tbody>\n",
       "</table>\n",
       "</div>"
      ],
      "text/plain": [
       "            state              st    module   lambda\n",
       "92    00001011100 -0.0005+0.0026j  0.000007  1011100\n",
       "220   00011011100 -0.0027+0.0129j  0.000174  1011100\n",
       "348   00101011100  0.0021-0.0091j  0.000087  1011100\n",
       "476   00111011100  0.0014-0.0057j  0.000034  1011100\n",
       "604   01001011100  0.0042-0.0186j  0.000364  1011100\n",
       "732   01011011100  0.0162-0.0738j  0.005709  1011100\n",
       "860   01101011100 -0.0101+0.0466j  0.002274  1011100\n",
       "988   01111011100 -0.0060+0.0280j  0.000820  1011100\n",
       "1116  10001011100 -0.0037+0.0169j  0.000299  1011100\n",
       "1244  10011011100 -0.0154+0.0711j  0.005292  1011100\n",
       "1372  10101011100  0.0103-0.0465j  0.002268  1011100\n",
       "1500  10111011100  0.0064-0.0285j  0.000853  1011100\n",
       "1628  11001011100  0.0020-0.0084j  0.000075  1011100\n",
       "1756  11011011100  0.0073-0.0331j  0.001149  1011100\n",
       "1884  11101011100 -0.0043+0.0202j  0.000427  1011100\n",
       "2012  11111011100 -0.0024+0.0116j  0.000140  1011100"
      ]
     },
     "execution_count": 42,
     "metadata": {},
     "output_type": "execute_result"
    }
   ],
   "source": [
    "df.query(\"state.str.endswith('1011100')\")"
   ]
  },
  {
   "cell_type": "markdown",
   "metadata": {},
   "source": [
    "$$\\left|1011100\\right\\rangle((-...+j)|0000\\rangle+(-...+j)|0001\\rangle+(+...-j)|0010\\rangle+(+...-j)|0011\\rangle+\n",
    "(+...-j)|0100\\rangle+(+...-j)|0101\\rangle+(-...+j)|0110\\rangle+(-...+j)|0111\\rangle+\\textbf{(-...+j)}\\textbf{|1000}\\rangle+\\textbf{(-...+j)|1001}\\rangle+\\textbf{(+...-j)|1010}\\rangle+\\textbf{(+...-j)|1011}\\rangle+\n",
    "(+...-j)|1100\\rangle+(+...-j)|1101\\rangle+(-...+j)|1110\\rangle+(-...+j)|1111\\rangle) =$$\n",
    "\n",
    "Si guarda sempre il segno della parte reale (o della parte immaginaria)-> segni concordi ++-- o --++ "
   ]
  },
  {
   "cell_type": "markdown",
   "metadata": {},
   "source": [
    "Per i segni: a vedere dallo statevector, sembra che se abbiamo valori con parte reale negativa e parte immaginaria positiva seguiti da valori con parte reale positiva e parte immaginaria negativa=> segni concordi.\n",
    "Invece, se vediamo parte reale e immaginaria negativa insieme=> segni discordi\n",
    "\n",
    "Da Verificare meglio!!!"
   ]
  },
  {
   "cell_type": "code",
   "execution_count": 27,
   "metadata": {
    "collapsed": true,
    "jupyter": {
     "outputs_hidden": true
    }
   },
   "outputs": [
    {
     "data": {
      "text/html": [
       "<div>\n",
       "<style scoped>\n",
       "    .dataframe tbody tr th:only-of-type {\n",
       "        vertical-align: middle;\n",
       "    }\n",
       "\n",
       "    .dataframe tbody tr th {\n",
       "        vertical-align: top;\n",
       "    }\n",
       "\n",
       "    .dataframe thead th {\n",
       "        text-align: right;\n",
       "    }\n",
       "</style>\n",
       "<table border=\"1\" class=\"dataframe\">\n",
       "  <thead>\n",
       "    <tr style=\"text-align: right;\">\n",
       "      <th></th>\n",
       "      <th>state</th>\n",
       "      <th>st</th>\n",
       "      <th>module</th>\n",
       "      <th>lambda</th>\n",
       "    </tr>\n",
       "  </thead>\n",
       "  <tbody>\n",
       "    <tr>\n",
       "      <th>48</th>\n",
       "      <td>00000110000</td>\n",
       "      <td>-0.0006-0.0034j</td>\n",
       "      <td>1.192000e-05</td>\n",
       "      <td>0110000</td>\n",
       "    </tr>\n",
       "    <tr>\n",
       "      <th>176</th>\n",
       "      <td>00010110000</td>\n",
       "      <td>-0.0005+0.0001j</td>\n",
       "      <td>2.600000e-07</td>\n",
       "      <td>0110000</td>\n",
       "    </tr>\n",
       "    <tr>\n",
       "      <th>304</th>\n",
       "      <td>00100110000</td>\n",
       "      <td>-0.0019-0.0012j</td>\n",
       "      <td>5.050000e-06</td>\n",
       "      <td>0110000</td>\n",
       "    </tr>\n",
       "    <tr>\n",
       "      <th>432</th>\n",
       "      <td>00110110000</td>\n",
       "      <td>0.0018+0.0011j</td>\n",
       "      <td>4.450000e-06</td>\n",
       "      <td>0110000</td>\n",
       "    </tr>\n",
       "    <tr>\n",
       "      <th>560</th>\n",
       "      <td>01000110000</td>\n",
       "      <td>0.0153+0.0050j</td>\n",
       "      <td>2.590900e-04</td>\n",
       "      <td>0110000</td>\n",
       "    </tr>\n",
       "    <tr>\n",
       "      <th>688</th>\n",
       "      <td>01010110000</td>\n",
       "      <td>-0.0117-0.0007j</td>\n",
       "      <td>1.373800e-04</td>\n",
       "      <td>0110000</td>\n",
       "    </tr>\n",
       "    <tr>\n",
       "      <th>816</th>\n",
       "      <td>01100110000</td>\n",
       "      <td>-0.0220+0.0006j</td>\n",
       "      <td>4.843600e-04</td>\n",
       "      <td>0110000</td>\n",
       "    </tr>\n",
       "    <tr>\n",
       "      <th>944</th>\n",
       "      <td>01110110000</td>\n",
       "      <td>0.0138-0.0054j</td>\n",
       "      <td>2.196000e-04</td>\n",
       "      <td>0110000</td>\n",
       "    </tr>\n",
       "    <tr>\n",
       "      <th>1072</th>\n",
       "      <td>10000110000</td>\n",
       "      <td>-0.0506-0.0068j</td>\n",
       "      <td>2.606600e-03</td>\n",
       "      <td>0110000</td>\n",
       "    </tr>\n",
       "    <tr>\n",
       "      <th>1200</th>\n",
       "      <td>10010110000</td>\n",
       "      <td>0.0421-0.0006j</td>\n",
       "      <td>1.772770e-03</td>\n",
       "      <td>0110000</td>\n",
       "    </tr>\n",
       "    <tr>\n",
       "      <th>1328</th>\n",
       "      <td>10100110000</td>\n",
       "      <td>0.0816-0.0038j</td>\n",
       "      <td>6.673000e-03</td>\n",
       "      <td>0110000</td>\n",
       "    </tr>\n",
       "    <tr>\n",
       "      <th>1456</th>\n",
       "      <td>10110110000</td>\n",
       "      <td>-0.0562+0.0058j</td>\n",
       "      <td>3.192080e-03</td>\n",
       "      <td>0110000</td>\n",
       "    </tr>\n",
       "    <tr>\n",
       "      <th>1584</th>\n",
       "      <td>11000110000</td>\n",
       "      <td>0.0300+0.0024j</td>\n",
       "      <td>9.057600e-04</td>\n",
       "      <td>0110000</td>\n",
       "    </tr>\n",
       "    <tr>\n",
       "      <th>1712</th>\n",
       "      <td>11010110000</td>\n",
       "      <td>-0.0255-0.0008j</td>\n",
       "      <td>6.508900e-04</td>\n",
       "      <td>0110000</td>\n",
       "    </tr>\n",
       "    <tr>\n",
       "      <th>1840</th>\n",
       "      <td>11100110000</td>\n",
       "      <td>-0.0492+0.0011j</td>\n",
       "      <td>2.421850e-03</td>\n",
       "      <td>0110000</td>\n",
       "    </tr>\n",
       "    <tr>\n",
       "      <th>1968</th>\n",
       "      <td>11110110000</td>\n",
       "      <td>0.0336-0.0047j</td>\n",
       "      <td>1.151050e-03</td>\n",
       "      <td>0110000</td>\n",
       "    </tr>\n",
       "  </tbody>\n",
       "</table>\n",
       "</div>"
      ],
      "text/plain": [
       "            state              st        module   lambda\n",
       "48    00000110000 -0.0006-0.0034j  1.192000e-05  0110000\n",
       "176   00010110000 -0.0005+0.0001j  2.600000e-07  0110000\n",
       "304   00100110000 -0.0019-0.0012j  5.050000e-06  0110000\n",
       "432   00110110000  0.0018+0.0011j  4.450000e-06  0110000\n",
       "560   01000110000  0.0153+0.0050j  2.590900e-04  0110000\n",
       "688   01010110000 -0.0117-0.0007j  1.373800e-04  0110000\n",
       "816   01100110000 -0.0220+0.0006j  4.843600e-04  0110000\n",
       "944   01110110000  0.0138-0.0054j  2.196000e-04  0110000\n",
       "1072  10000110000 -0.0506-0.0068j  2.606600e-03  0110000\n",
       "1200  10010110000  0.0421-0.0006j  1.772770e-03  0110000\n",
       "1328  10100110000  0.0816-0.0038j  6.673000e-03  0110000\n",
       "1456  10110110000 -0.0562+0.0058j  3.192080e-03  0110000\n",
       "1584  11000110000  0.0300+0.0024j  9.057600e-04  0110000\n",
       "1712  11010110000 -0.0255-0.0008j  6.508900e-04  0110000\n",
       "1840  11100110000 -0.0492+0.0011j  2.421850e-03  0110000\n",
       "1968  11110110000  0.0336-0.0047j  1.151050e-03  0110000"
      ]
     },
     "execution_count": 27,
     "metadata": {},
     "output_type": "execute_result"
    }
   ],
   "source": [
    "df.query(\"state.str.endswith('0110000')\")"
   ]
  },
  {
   "cell_type": "code",
   "execution_count": 638,
   "metadata": {
    "collapsed": true,
    "jupyter": {
     "outputs_hidden": true
    }
   },
   "outputs": [
    {
     "data": {
      "text/plain": [
       "(array([0.71180655, 0.22316477, 0.01821782, 0.04681086]),\n",
       " array([[ 0.42777602,  0.20326857,  0.78671927,  0.39593227],\n",
       "        [ 0.44316532,  0.78097832, -0.26649827, -0.35022284],\n",
       "        [ 0.46933345, -0.50082482,  0.22263581, -0.69233945],\n",
       "        [ 0.63272292, -0.31293648, -0.51037708,  0.49116972]]))"
      ]
     },
     "execution_count": 638,
     "metadata": {},
     "output_type": "execute_result"
    }
   ],
   "source": [
    "np.linalg.eig(example_matrix1)"
   ]
  },
  {
   "cell_type": "code",
   "execution_count": null,
   "metadata": {},
   "outputs": [],
   "source": []
  },
  {
   "cell_type": "code",
   "execution_count": 539,
   "metadata": {},
   "outputs": [
    {
     "data": {
      "image/png": "[encoded data removed]",
      "text/plain": [
       "<Figure size 1024.07x626.08 with 1 Axes>"
      ]
     },
     "execution_count": 539,
     "metadata": {},
     "output_type": "execute_result"
    }
   ],
   "source": [
    "tot_qubit = resolution+len(example_matrix1)\n",
    "\n",
    "qr_total = QuantumRegister(tot_qubit, 'total')\n",
    "\n",
    "total_circuit = QuantumCircuit(qr_total , name='matrix')\n",
    "\n",
    "total_circuit.append(matrix_circuit.to_gate(), qr_total[resolution:])\n",
    "total_circuit.append(pe.to_gate(), qr_total[0:pe.num_qubits])\n",
    "total_circuit.barrier()\n",
    "\n",
    "total_circuit.measure_all()\n",
    "total_circuit.draw(\"mpl\")"
   ]
  },
  {
   "cell_type": "code",
   "execution_count": 540,
   "metadata": {},
   "outputs": [
    {
     "data": {
      "image/png": "[encoded data removed]",
      "text/plain": [
       "<Figure size 504x360 with 1 Axes>"
      ]
     },
     "execution_count": 540,
     "metadata": {},
     "output_type": "execute_result"
    }
   ],
   "source": [
    "n_shots=100000\n",
    "backend_total = Aer.get_backend(\"qasm_simulator\")\n",
    "job = backend_total.run(transpile(total_circuit, backend=backend_total), shots=n_shots)\n",
    "counts = job.result().get_counts()\n",
    "plot_histogram(counts)"
   ]
  },
  {
   "cell_type": "code",
   "execution_count": 541,
   "metadata": {},
   "outputs": [],
   "source": [
    "for i in counts:\n",
    "    counts[i]/=n_shots\n",
    "#counts"
   ]
  },
  {
   "cell_type": "code",
   "execution_count": 542,
   "metadata": {},
   "outputs": [],
   "source": [
    "statevector=np.zeros(2**tot_qubit)\n",
    "for i in counts:\n",
    "    statevector[int(i,2)]=counts[i]\n",
    "#statevector"
   ]
  },
  {
   "cell_type": "code",
   "execution_count": 543,
   "metadata": {},
   "outputs": [],
   "source": [
    "#Create second operator tomography\n",
    "op_V = StatePreparation(np.sqrt(statevector),label='c_V').control()"
   ]
  },
  {
   "cell_type": "code",
   "execution_count": 544,
   "metadata": {},
   "outputs": [
    {
     "data": {
      "image/png": "[encoded data removed]",
      "text/plain": [
       "<Figure size 1701.79x686.28 with 1 Axes>"
      ]
     },
     "execution_count": 544,
     "metadata": {},
     "output_type": "execute_result"
    }
   ],
   "source": [
    "\n",
    "tot_qubit = resolution+len(example_matrix)\n",
    "\n",
    "qr_total_xi = QuantumRegister(tot_qubit, 'target')\n",
    "qr_control = QuantumRegister(1, 'control_qubit')\n",
    "\n",
    "total_circuit_2 = QuantumCircuit(qr_total_xi,qr_control, name='matrix')\n",
    "total_circuit_2.h(qr_control)\n",
    "total_circuit_2.x(qr_control)\n",
    "total_circuit_2.append(op_U, qr_control[:]+qr_total_xi[:])\n",
    "total_circuit_2.x(qr_control)\n",
    "total_circuit_2.append(op_V, qr_control[:]+qr_total_xi[:])\n",
    "total_circuit_2.h(qr_control)\n",
    "total_circuit_2.measure_all()\n",
    "total_circuit_2.draw(\"mpl\")"
   ]
  },
  {
   "cell_type": "code",
   "execution_count": 545,
   "metadata": {},
   "outputs": [
    {
     "data": {
      "image/png": "[encoded data removed]",
      "text/plain": [
       "<Figure size 504x360 with 1 Axes>"
      ]
     },
     "execution_count": 545,
     "metadata": {},
     "output_type": "execute_result"
    }
   ],
   "source": [
    "backend_total = Aer.get_backend(\"qasm_simulator\")\n",
    "job = backend_total.run(transpile(total_circuit_2, backend=backend_total), shots=n_shots)\n",
    "counts_for_sign = job.result().get_counts()\n",
    "plot_histogram(counts_for_sign)"
   ]
  },
  {
   "cell_type": "code",
   "execution_count": 546,
   "metadata": {},
   "outputs": [],
   "source": [
    "#Take only counts with control qubits equal to 0\n",
    "tmp=np.zeros(2**tot_qubit)\n",
    "for c in counts_for_sign:\n",
    "    if c[0]=='0':\n",
    "        tmp[int(c[1:],2)]=counts_for_sign[c]\n",
    "#tmp"
   ]
  },
  {
   "cell_type": "code",
   "execution_count": 547,
   "metadata": {},
   "outputs": [],
   "source": [
    "#Sign estimation\n",
    "sign_dictionary={}\n",
    "sign=0\n",
    "for e, (count, prob) in enumerate(zip(tmp, statevector)):\n",
    "    if count>0.4*prob*n_shots:\n",
    "        sign=1\n",
    "    else:\n",
    "        sign=-1\n",
    "    if prob==0:\n",
    "        sign=1\n",
    "    sign_dictionary.update({bin(e)[2:].zfill(tot_qubit):sign})"
   ]
  },
  {
   "cell_type": "code",
   "execution_count": 548,
   "metadata": {},
   "outputs": [],
   "source": [
    "statevector_dictionary={}\n",
    "for e,key in enumerate(sign_dictionary):\n",
    "    statevector_dictionary[key]=sign_dictionary[key]*np.sqrt(statevector[e])\n",
    "\n",
    "#statevector_dictionary"
   ]
  },
  {
   "cell_type": "code",
   "execution_count": 684,
   "metadata": {},
   "outputs": [],
   "source": [
    "'''ok=[]\n",
    "ko=[]\n",
    "for e,i in enumerate(sign_dictionary):\n",
    "    if sign_dictionary[i]==np.sign(ss[e][1].real):\n",
    "        ok.append(i)\n",
    "    else:\n",
    "        ko.append(i)\n",
    "    \n",
    "len(ko),len(ok)        '''"
   ]
  },
  {
   "cell_type": "code",
   "execution_count": 241,
   "metadata": {},
   "outputs": [
    {
     "name": "stderr",
     "output_type": "stream",
     "text": [
      "/var/folders/rr/g930v2cj1wvdzc257kclm3lm0000gn/T/ipykernel_1540/2527842937.py:9: RuntimeWarning: invalid value encountered in double_scalars\n",
      "  x=(np.sqrt(statevector[i])*0.5)+(((statevector[i])/np.sqrt(statevector[i]))*0.5) - (tmp_[i]/(2*np.sqrt(statevector[i])))\n",
      "/var/folders/rr/g930v2cj1wvdzc257kclm3lm0000gn/T/ipykernel_1540/2527842937.py:9: RuntimeWarning: divide by zero encountered in double_scalars\n",
      "  x=(np.sqrt(statevector[i])*0.5)+(((statevector[i])/np.sqrt(statevector[i]))*0.5) - (tmp_[i]/(2*np.sqrt(statevector[i])))\n"
     ]
    }
   ],
   "source": [
    "###Metodo Nannicini\n",
    "\n",
    "tmp_=tmp/(sum(tmp))\n",
    "\n",
    "sign_diff=[]\n",
    "sign=[]\n",
    "x_list=[]\n",
    "for i in range(len(tmp_)):\n",
    "    x=(np.sqrt(statevector[i])*0.5)+(((statevector[i])/np.sqrt(statevector[i]))*0.5) - (tmp_[i]/(2*np.sqrt(statevector[i])))\n",
    "    \n",
    "    x_list.append(x)\n",
    "    \n",
    "    sign_diff.append(np.sign(x)+np.sign((sim_statevector[i][1].real)))\n",
    "    sign.append(np.sign(x))\n",
    "    "
   ]
  },
  {
   "cell_type": "code",
   "execution_count": 138,
   "metadata": {
    "jupyter": {
     "source_hidden": true
    }
   },
   "outputs": [],
   "source": [
    "x_real_list=[h[1].real for h in ss]"
   ]
  },
  {
   "cell_type": "code",
   "execution_count": 57,
   "metadata": {
    "collapsed": true,
    "jupyter": {
     "outputs_hidden": true,
     "source_hidden": true
    }
   },
   "outputs": [
    {
     "data": {
      "text/html": [
       "<div>\n",
       "<style scoped>\n",
       "    .dataframe tbody tr th:only-of-type {\n",
       "        vertical-align: middle;\n",
       "    }\n",
       "\n",
       "    .dataframe tbody tr th {\n",
       "        vertical-align: top;\n",
       "    }\n",
       "\n",
       "    .dataframe thead th {\n",
       "        text-align: right;\n",
       "    }\n",
       "</style>\n",
       "<table border=\"1\" class=\"dataframe\">\n",
       "  <thead>\n",
       "    <tr style=\"text-align: right;\">\n",
       "      <th></th>\n",
       "      <th>x</th>\n",
       "      <th>x_real</th>\n",
       "    </tr>\n",
       "  </thead>\n",
       "  <tbody>\n",
       "    <tr>\n",
       "      <th>0</th>\n",
       "      <td>0.300129</td>\n",
       "      <td>0.11065</td>\n",
       "    </tr>\n",
       "    <tr>\n",
       "      <th>1</th>\n",
       "      <td>0.005164</td>\n",
       "      <td>0.00020</td>\n",
       "    </tr>\n",
       "    <tr>\n",
       "      <th>2</th>\n",
       "      <td>0.012649</td>\n",
       "      <td>0.00020</td>\n",
       "    </tr>\n",
       "    <tr>\n",
       "      <th>3</th>\n",
       "      <td>-0.004243</td>\n",
       "      <td>0.00020</td>\n",
       "    </tr>\n",
       "    <tr>\n",
       "      <th>4</th>\n",
       "      <td>0.023452</td>\n",
       "      <td>0.00065</td>\n",
       "    </tr>\n",
       "    <tr>\n",
       "      <th>...</th>\n",
       "      <td>...</td>\n",
       "      <td>...</td>\n",
       "    </tr>\n",
       "    <tr>\n",
       "      <th>59</th>\n",
       "      <td>-0.023479</td>\n",
       "      <td>0.00130</td>\n",
       "    </tr>\n",
       "    <tr>\n",
       "      <th>60</th>\n",
       "      <td>0.032426</td>\n",
       "      <td>0.00090</td>\n",
       "    </tr>\n",
       "    <tr>\n",
       "      <th>61</th>\n",
       "      <td>-0.003322</td>\n",
       "      <td>0.00050</td>\n",
       "    </tr>\n",
       "    <tr>\n",
       "      <th>62</th>\n",
       "      <td>0.010791</td>\n",
       "      <td>0.00040</td>\n",
       "    </tr>\n",
       "    <tr>\n",
       "      <th>63</th>\n",
       "      <td>-0.094070</td>\n",
       "      <td>0.01325</td>\n",
       "    </tr>\n",
       "  </tbody>\n",
       "</table>\n",
       "<p>64 rows × 2 columns</p>\n",
       "</div>"
      ],
      "text/plain": [
       "           x   x_real\n",
       "0   0.300129  0.11065\n",
       "1   0.005164  0.00020\n",
       "2   0.012649  0.00020\n",
       "3  -0.004243  0.00020\n",
       "4   0.023452  0.00065\n",
       "..       ...      ...\n",
       "59 -0.023479  0.00130\n",
       "60  0.032426  0.00090\n",
       "61 -0.003322  0.00050\n",
       "62  0.010791  0.00040\n",
       "63 -0.094070  0.01325\n",
       "\n",
       "[64 rows x 2 columns]"
      ]
     },
     "execution_count": 57,
     "metadata": {},
     "output_type": "execute_result"
    }
   ],
   "source": [
    "df_sign=pd.DataFrame({'x':x_list,'x_real':x_real_list}).fillna(0)\n",
    "df_sign"
   ]
  },
  {
   "cell_type": "code",
   "execution_count": 58,
   "metadata": {
    "collapsed": true,
    "jupyter": {
     "outputs_hidden": true,
     "source_hidden": true
    }
   },
   "outputs": [
    {
     "data": {
      "text/html": [
       "<div>\n",
       "<style scoped>\n",
       "    .dataframe tbody tr th:only-of-type {\n",
       "        vertical-align: middle;\n",
       "    }\n",
       "\n",
       "    .dataframe tbody tr th {\n",
       "        vertical-align: top;\n",
       "    }\n",
       "\n",
       "    .dataframe thead th {\n",
       "        text-align: right;\n",
       "    }\n",
       "</style>\n",
       "<table border=\"1\" class=\"dataframe\">\n",
       "  <thead>\n",
       "    <tr style=\"text-align: right;\">\n",
       "      <th></th>\n",
       "      <th>x</th>\n",
       "      <th>x_real</th>\n",
       "      <th>sign</th>\n",
       "    </tr>\n",
       "  </thead>\n",
       "  <tbody>\n",
       "    <tr>\n",
       "      <th>0</th>\n",
       "      <td>0.300129</td>\n",
       "      <td>0.11065</td>\n",
       "      <td>2.0</td>\n",
       "    </tr>\n",
       "    <tr>\n",
       "      <th>1</th>\n",
       "      <td>0.005164</td>\n",
       "      <td>0.00020</td>\n",
       "      <td>2.0</td>\n",
       "    </tr>\n",
       "    <tr>\n",
       "      <th>2</th>\n",
       "      <td>0.012649</td>\n",
       "      <td>0.00020</td>\n",
       "      <td>2.0</td>\n",
       "    </tr>\n",
       "    <tr>\n",
       "      <th>3</th>\n",
       "      <td>-0.004243</td>\n",
       "      <td>0.00020</td>\n",
       "      <td>0.0</td>\n",
       "    </tr>\n",
       "    <tr>\n",
       "      <th>4</th>\n",
       "      <td>0.023452</td>\n",
       "      <td>0.00065</td>\n",
       "      <td>2.0</td>\n",
       "    </tr>\n",
       "    <tr>\n",
       "      <th>...</th>\n",
       "      <td>...</td>\n",
       "      <td>...</td>\n",
       "      <td>...</td>\n",
       "    </tr>\n",
       "    <tr>\n",
       "      <th>59</th>\n",
       "      <td>-0.023479</td>\n",
       "      <td>0.00130</td>\n",
       "      <td>0.0</td>\n",
       "    </tr>\n",
       "    <tr>\n",
       "      <th>60</th>\n",
       "      <td>0.032426</td>\n",
       "      <td>0.00090</td>\n",
       "      <td>2.0</td>\n",
       "    </tr>\n",
       "    <tr>\n",
       "      <th>61</th>\n",
       "      <td>-0.003322</td>\n",
       "      <td>0.00050</td>\n",
       "      <td>0.0</td>\n",
       "    </tr>\n",
       "    <tr>\n",
       "      <th>62</th>\n",
       "      <td>0.010791</td>\n",
       "      <td>0.00040</td>\n",
       "      <td>2.0</td>\n",
       "    </tr>\n",
       "    <tr>\n",
       "      <th>63</th>\n",
       "      <td>-0.094070</td>\n",
       "      <td>0.01325</td>\n",
       "      <td>0.0</td>\n",
       "    </tr>\n",
       "  </tbody>\n",
       "</table>\n",
       "<p>64 rows × 3 columns</p>\n",
       "</div>"
      ],
      "text/plain": [
       "           x   x_real  sign\n",
       "0   0.300129  0.11065   2.0\n",
       "1   0.005164  0.00020   2.0\n",
       "2   0.012649  0.00020   2.0\n",
       "3  -0.004243  0.00020   0.0\n",
       "4   0.023452  0.00065   2.0\n",
       "..       ...      ...   ...\n",
       "59 -0.023479  0.00130   0.0\n",
       "60  0.032426  0.00090   2.0\n",
       "61 -0.003322  0.00050   0.0\n",
       "62  0.010791  0.00040   2.0\n",
       "63 -0.094070  0.01325   0.0\n",
       "\n",
       "[64 rows x 3 columns]"
      ]
     },
     "execution_count": 58,
     "metadata": {},
     "output_type": "execute_result"
    }
   ],
   "source": [
    "df_sign['sign']=np.sign(df_sign['x'].values)+np.sign(df_sign['x_real'].values)\n",
    "df_sign"
   ]
  },
  {
   "cell_type": "code",
   "execution_count": 59,
   "metadata": {
    "collapsed": true,
    "jupyter": {
     "outputs_hidden": true,
     "source_hidden": true
    }
   },
   "outputs": [
    {
     "data": {
      "text/plain": [
       "2.0    41\n",
       "0.0    21\n",
       "1.0     2\n",
       "Name: sign, dtype: int64"
      ]
     },
     "execution_count": 59,
     "metadata": {},
     "output_type": "execute_result"
    }
   ],
   "source": [
    "df_sign['sign'].value_counts()"
   ]
  },
  {
   "cell_type": "code",
   "execution_count": 549,
   "metadata": {},
   "outputs": [],
   "source": [
    "bitstrings=[''.join([''.join(str(j)) for j in i]) for i in list(map(list, itertools.product([0, 1], repeat=resolution+len(example_matrix1))))]\n",
    "ss=attach_bitstrings(statevector)\n",
    "#ss"
   ]
  },
  {
   "cell_type": "code",
   "execution_count": 550,
   "metadata": {},
   "outputs": [
    {
     "data": {
      "text/html": [
       "<div>\n",
       "<style scoped>\n",
       "    .dataframe tbody tr th:only-of-type {\n",
       "        vertical-align: middle;\n",
       "    }\n",
       "\n",
       "    .dataframe tbody tr th {\n",
       "        vertical-align: top;\n",
       "    }\n",
       "\n",
       "    .dataframe thead th {\n",
       "        text-align: right;\n",
       "    }\n",
       "</style>\n",
       "<table border=\"1\" class=\"dataframe\">\n",
       "  <thead>\n",
       "    <tr style=\"text-align: right;\">\n",
       "      <th></th>\n",
       "      <th>state</th>\n",
       "      <th>module</th>\n",
       "    </tr>\n",
       "  </thead>\n",
       "  <tbody>\n",
       "    <tr>\n",
       "      <th>0</th>\n",
       "      <td>000000000</td>\n",
       "      <td>0.00001</td>\n",
       "    </tr>\n",
       "    <tr>\n",
       "      <th>1</th>\n",
       "      <td>000000001</td>\n",
       "      <td>0.00000</td>\n",
       "    </tr>\n",
       "    <tr>\n",
       "      <th>2</th>\n",
       "      <td>000000010</td>\n",
       "      <td>0.00000</td>\n",
       "    </tr>\n",
       "    <tr>\n",
       "      <th>3</th>\n",
       "      <td>000000011</td>\n",
       "      <td>0.00000</td>\n",
       "    </tr>\n",
       "    <tr>\n",
       "      <th>4</th>\n",
       "      <td>000000100</td>\n",
       "      <td>0.00001</td>\n",
       "    </tr>\n",
       "    <tr>\n",
       "      <th>...</th>\n",
       "      <td>...</td>\n",
       "      <td>...</td>\n",
       "    </tr>\n",
       "    <tr>\n",
       "      <th>507</th>\n",
       "      <td>111111011</td>\n",
       "      <td>0.00049</td>\n",
       "    </tr>\n",
       "    <tr>\n",
       "      <th>508</th>\n",
       "      <td>111111100</td>\n",
       "      <td>0.00000</td>\n",
       "    </tr>\n",
       "    <tr>\n",
       "      <th>509</th>\n",
       "      <td>111111101</td>\n",
       "      <td>0.00001</td>\n",
       "    </tr>\n",
       "    <tr>\n",
       "      <th>510</th>\n",
       "      <td>111111110</td>\n",
       "      <td>0.00000</td>\n",
       "    </tr>\n",
       "    <tr>\n",
       "      <th>511</th>\n",
       "      <td>111111111</td>\n",
       "      <td>0.00001</td>\n",
       "    </tr>\n",
       "  </tbody>\n",
       "</table>\n",
       "<p>512 rows × 2 columns</p>\n",
       "</div>"
      ],
      "text/plain": [
       "         state   module\n",
       "0    000000000  0.00001\n",
       "1    000000001  0.00000\n",
       "2    000000010  0.00000\n",
       "3    000000011  0.00000\n",
       "4    000000100  0.00001\n",
       "..         ...      ...\n",
       "507  111111011  0.00049\n",
       "508  111111100  0.00000\n",
       "509  111111101  0.00001\n",
       "510  111111110  0.00000\n",
       "511  111111111  0.00001\n",
       "\n",
       "[512 rows x 2 columns]"
      ]
     },
     "execution_count": 550,
     "metadata": {},
     "output_type": "execute_result"
    }
   ],
   "source": [
    "df=pd.DataFrame(ss)\n",
    "#df['module']=df[1].apply(lambda x: x.real**2 + x.imag**2)\n",
    "#df.set_index(0).module.plot(kind='bar')\n",
    "df.columns=['state','module']\n",
    "df\n",
    "df"
   ]
  },
  {
   "cell_type": "code",
   "execution_count": 551,
   "metadata": {},
   "outputs": [
    {
     "data": {
      "text/html": [
       "<div>\n",
       "<style scoped>\n",
       "    .dataframe tbody tr th:only-of-type {\n",
       "        vertical-align: middle;\n",
       "    }\n",
       "\n",
       "    .dataframe tbody tr th {\n",
       "        vertical-align: top;\n",
       "    }\n",
       "\n",
       "    .dataframe thead th {\n",
       "        text-align: right;\n",
       "    }\n",
       "</style>\n",
       "<table border=\"1\" class=\"dataframe\">\n",
       "  <thead>\n",
       "    <tr style=\"text-align: right;\">\n",
       "      <th></th>\n",
       "      <th>module</th>\n",
       "    </tr>\n",
       "    <tr>\n",
       "      <th>lambda</th>\n",
       "      <th></th>\n",
       "    </tr>\n",
       "  </thead>\n",
       "  <tbody>\n",
       "    <tr>\n",
       "      <th>0101010</th>\n",
       "      <td>0.00000</td>\n",
       "    </tr>\n",
       "    <tr>\n",
       "      <th>1101110</th>\n",
       "      <td>0.00000</td>\n",
       "    </tr>\n",
       "    <tr>\n",
       "      <th>1101100</th>\n",
       "      <td>0.00000</td>\n",
       "    </tr>\n",
       "    <tr>\n",
       "      <th>0100101</th>\n",
       "      <td>0.00000</td>\n",
       "    </tr>\n",
       "    <tr>\n",
       "      <th>0100110</th>\n",
       "      <td>0.00000</td>\n",
       "    </tr>\n",
       "    <tr>\n",
       "      <th>...</th>\n",
       "      <td>...</td>\n",
       "    </tr>\n",
       "    <tr>\n",
       "      <th>0111011</th>\n",
       "      <td>0.00241</td>\n",
       "    </tr>\n",
       "    <tr>\n",
       "      <th>1101011</th>\n",
       "      <td>0.00694</td>\n",
       "    </tr>\n",
       "    <tr>\n",
       "      <th>1011011</th>\n",
       "      <td>0.01091</td>\n",
       "    </tr>\n",
       "    <tr>\n",
       "      <th>0010100</th>\n",
       "      <td>0.03323</td>\n",
       "    </tr>\n",
       "    <tr>\n",
       "      <th>0011011</th>\n",
       "      <td>0.93648</td>\n",
       "    </tr>\n",
       "  </tbody>\n",
       "</table>\n",
       "<p>128 rows × 1 columns</p>\n",
       "</div>"
      ],
      "text/plain": [
       "          module\n",
       "lambda          \n",
       "0101010  0.00000\n",
       "1101110  0.00000\n",
       "1101100  0.00000\n",
       "0100101  0.00000\n",
       "0100110  0.00000\n",
       "...          ...\n",
       "0111011  0.00241\n",
       "1101011  0.00694\n",
       "1011011  0.01091\n",
       "0010100  0.03323\n",
       "0011011  0.93648\n",
       "\n",
       "[128 rows x 1 columns]"
      ]
     },
     "execution_count": 551,
     "metadata": {},
     "output_type": "execute_result"
    }
   ],
   "source": [
    "df['lambda']=df['state'].apply(lambda x: x[-resolution:])\n",
    "df1=df.groupby('lambda').agg({'module':'sum'})\n",
    "#df1['module_new']=df1['module'].apply(lambda x: np.sqrt(x.real**2 + x.imag**2))\n",
    "df1=df1.sort_values('module')\n",
    "df1"
   ]
  },
  {
   "cell_type": "code",
   "execution_count": 552,
   "metadata": {},
   "outputs": [],
   "source": [
    "lambdas=df1.tail(len(example_matrix1)).index.values"
   ]
  },
  {
   "cell_type": "code",
   "execution_count": 553,
   "metadata": {},
   "outputs": [
    {
     "data": {
      "text/plain": [
       "array(['0010100', '0011011'], dtype=object)"
      ]
     },
     "execution_count": 553,
     "metadata": {},
     "output_type": "execute_result"
    }
   ],
   "source": [
    "lambdas"
   ]
  },
  {
   "cell_type": "code",
   "execution_count": 554,
   "metadata": {},
   "outputs": [
    {
     "data": {
      "text/html": [
       "<div>\n",
       "<style scoped>\n",
       "    .dataframe tbody tr th:only-of-type {\n",
       "        vertical-align: middle;\n",
       "    }\n",
       "\n",
       "    .dataframe tbody tr th {\n",
       "        vertical-align: top;\n",
       "    }\n",
       "\n",
       "    .dataframe thead th {\n",
       "        text-align: right;\n",
       "    }\n",
       "</style>\n",
       "<table border=\"1\" class=\"dataframe\">\n",
       "  <thead>\n",
       "    <tr style=\"text-align: right;\">\n",
       "      <th></th>\n",
       "      <th>state</th>\n",
       "      <th>module</th>\n",
       "      <th>lambda</th>\n",
       "    </tr>\n",
       "  </thead>\n",
       "  <tbody>\n",
       "    <tr>\n",
       "      <th>0</th>\n",
       "      <td>000000000</td>\n",
       "      <td>0.00001</td>\n",
       "      <td>0000000</td>\n",
       "    </tr>\n",
       "    <tr>\n",
       "      <th>1</th>\n",
       "      <td>000000001</td>\n",
       "      <td>0.00000</td>\n",
       "      <td>0000001</td>\n",
       "    </tr>\n",
       "    <tr>\n",
       "      <th>2</th>\n",
       "      <td>000000010</td>\n",
       "      <td>0.00000</td>\n",
       "      <td>0000010</td>\n",
       "    </tr>\n",
       "    <tr>\n",
       "      <th>3</th>\n",
       "      <td>000000011</td>\n",
       "      <td>0.00000</td>\n",
       "      <td>0000011</td>\n",
       "    </tr>\n",
       "    <tr>\n",
       "      <th>4</th>\n",
       "      <td>000000100</td>\n",
       "      <td>0.00001</td>\n",
       "      <td>0000100</td>\n",
       "    </tr>\n",
       "    <tr>\n",
       "      <th>...</th>\n",
       "      <td>...</td>\n",
       "      <td>...</td>\n",
       "      <td>...</td>\n",
       "    </tr>\n",
       "    <tr>\n",
       "      <th>507</th>\n",
       "      <td>111111011</td>\n",
       "      <td>0.00049</td>\n",
       "      <td>1111011</td>\n",
       "    </tr>\n",
       "    <tr>\n",
       "      <th>508</th>\n",
       "      <td>111111100</td>\n",
       "      <td>0.00000</td>\n",
       "      <td>1111100</td>\n",
       "    </tr>\n",
       "    <tr>\n",
       "      <th>509</th>\n",
       "      <td>111111101</td>\n",
       "      <td>0.00001</td>\n",
       "      <td>1111101</td>\n",
       "    </tr>\n",
       "    <tr>\n",
       "      <th>510</th>\n",
       "      <td>111111110</td>\n",
       "      <td>0.00000</td>\n",
       "      <td>1111110</td>\n",
       "    </tr>\n",
       "    <tr>\n",
       "      <th>511</th>\n",
       "      <td>111111111</td>\n",
       "      <td>0.00001</td>\n",
       "      <td>1111111</td>\n",
       "    </tr>\n",
       "  </tbody>\n",
       "</table>\n",
       "<p>512 rows × 3 columns</p>\n",
       "</div>"
      ],
      "text/plain": [
       "         state   module   lambda\n",
       "0    000000000  0.00001  0000000\n",
       "1    000000001  0.00000  0000001\n",
       "2    000000010  0.00000  0000010\n",
       "3    000000011  0.00000  0000011\n",
       "4    000000100  0.00001  0000100\n",
       "..         ...      ...      ...\n",
       "507  111111011  0.00049  1111011\n",
       "508  111111100  0.00000  1111100\n",
       "509  111111101  0.00001  1111101\n",
       "510  111111110  0.00000  1111110\n",
       "511  111111111  0.00001  1111111\n",
       "\n",
       "[512 rows x 3 columns]"
      ]
     },
     "execution_count": 554,
     "metadata": {},
     "output_type": "execute_result"
    }
   ],
   "source": [
    "df.columns=['state','module','lambda']\n",
    "df"
   ]
  },
  {
   "cell_type": "code",
   "execution_count": 382,
   "metadata": {},
   "outputs": [
    {
     "data": {
      "text/plain": [
       "0.14346943263287829"
      ]
     },
     "execution_count": 382,
     "metadata": {},
     "output_type": "execute_result"
    }
   ],
   "source": [
    "np.sqrt((0.1615-0.03041)**2+0.0583**2)"
   ]
  },
  {
   "cell_type": "code",
   "execution_count": 555,
   "metadata": {},
   "outputs": [
    {
     "data": {
      "text/html": [
       "<div>\n",
       "<style scoped>\n",
       "    .dataframe tbody tr th:only-of-type {\n",
       "        vertical-align: middle;\n",
       "    }\n",
       "\n",
       "    .dataframe tbody tr th {\n",
       "        vertical-align: top;\n",
       "    }\n",
       "\n",
       "    .dataframe thead th {\n",
       "        text-align: right;\n",
       "    }\n",
       "</style>\n",
       "<table border=\"1\" class=\"dataframe\">\n",
       "  <thead>\n",
       "    <tr style=\"text-align: right;\">\n",
       "      <th></th>\n",
       "      <th>state</th>\n",
       "      <th>module</th>\n",
       "      <th>lambda</th>\n",
       "      <th>sign</th>\n",
       "    </tr>\n",
       "  </thead>\n",
       "  <tbody>\n",
       "    <tr>\n",
       "      <th>0</th>\n",
       "      <td>000000000</td>\n",
       "      <td>0.00001</td>\n",
       "      <td>0000000</td>\n",
       "      <td>-1</td>\n",
       "    </tr>\n",
       "    <tr>\n",
       "      <th>1</th>\n",
       "      <td>000000001</td>\n",
       "      <td>0.00000</td>\n",
       "      <td>0000001</td>\n",
       "      <td>1</td>\n",
       "    </tr>\n",
       "    <tr>\n",
       "      <th>2</th>\n",
       "      <td>000000010</td>\n",
       "      <td>0.00000</td>\n",
       "      <td>0000010</td>\n",
       "      <td>1</td>\n",
       "    </tr>\n",
       "    <tr>\n",
       "      <th>3</th>\n",
       "      <td>000000011</td>\n",
       "      <td>0.00000</td>\n",
       "      <td>0000011</td>\n",
       "      <td>1</td>\n",
       "    </tr>\n",
       "    <tr>\n",
       "      <th>4</th>\n",
       "      <td>000000100</td>\n",
       "      <td>0.00001</td>\n",
       "      <td>0000100</td>\n",
       "      <td>-1</td>\n",
       "    </tr>\n",
       "    <tr>\n",
       "      <th>...</th>\n",
       "      <td>...</td>\n",
       "      <td>...</td>\n",
       "      <td>...</td>\n",
       "      <td>...</td>\n",
       "    </tr>\n",
       "    <tr>\n",
       "      <th>507</th>\n",
       "      <td>111111011</td>\n",
       "      <td>0.00049</td>\n",
       "      <td>1111011</td>\n",
       "      <td>-1</td>\n",
       "    </tr>\n",
       "    <tr>\n",
       "      <th>508</th>\n",
       "      <td>111111100</td>\n",
       "      <td>0.00000</td>\n",
       "      <td>1111100</td>\n",
       "      <td>1</td>\n",
       "    </tr>\n",
       "    <tr>\n",
       "      <th>509</th>\n",
       "      <td>111111101</td>\n",
       "      <td>0.00001</td>\n",
       "      <td>1111101</td>\n",
       "      <td>1</td>\n",
       "    </tr>\n",
       "    <tr>\n",
       "      <th>510</th>\n",
       "      <td>111111110</td>\n",
       "      <td>0.00000</td>\n",
       "      <td>1111110</td>\n",
       "      <td>1</td>\n",
       "    </tr>\n",
       "    <tr>\n",
       "      <th>511</th>\n",
       "      <td>111111111</td>\n",
       "      <td>0.00001</td>\n",
       "      <td>1111111</td>\n",
       "      <td>-1</td>\n",
       "    </tr>\n",
       "  </tbody>\n",
       "</table>\n",
       "<p>512 rows × 4 columns</p>\n",
       "</div>"
      ],
      "text/plain": [
       "         state   module   lambda  sign\n",
       "0    000000000  0.00001  0000000    -1\n",
       "1    000000001  0.00000  0000001     1\n",
       "2    000000010  0.00000  0000010     1\n",
       "3    000000011  0.00000  0000011     1\n",
       "4    000000100  0.00001  0000100    -1\n",
       "..         ...      ...      ...   ...\n",
       "507  111111011  0.00049  1111011    -1\n",
       "508  111111100  0.00000  1111100     1\n",
       "509  111111101  0.00001  1111101     1\n",
       "510  111111110  0.00000  1111110     1\n",
       "511  111111111  0.00001  1111111    -1\n",
       "\n",
       "[512 rows x 4 columns]"
      ]
     },
     "execution_count": 555,
     "metadata": {},
     "output_type": "execute_result"
    }
   ],
   "source": [
    "df['sign']=np.array(list(sign_dictionary.values()))\n",
    "#df['sign']=np.array(sign)\n",
    "df"
   ]
  },
  {
   "cell_type": "code",
   "execution_count": 556,
   "metadata": {},
   "outputs": [
    {
     "data": {
      "text/html": [
       "<div>\n",
       "<style scoped>\n",
       "    .dataframe tbody tr th:only-of-type {\n",
       "        vertical-align: middle;\n",
       "    }\n",
       "\n",
       "    .dataframe tbody tr th {\n",
       "        vertical-align: top;\n",
       "    }\n",
       "\n",
       "    .dataframe thead th {\n",
       "        text-align: right;\n",
       "    }\n",
       "</style>\n",
       "<table border=\"1\" class=\"dataframe\">\n",
       "  <thead>\n",
       "    <tr style=\"text-align: right;\">\n",
       "      <th></th>\n",
       "      <th>state</th>\n",
       "      <th>module</th>\n",
       "      <th>lambda</th>\n",
       "      <th>sign</th>\n",
       "    </tr>\n",
       "  </thead>\n",
       "  <tbody>\n",
       "    <tr>\n",
       "      <th>0</th>\n",
       "      <td>000000000</td>\n",
       "      <td>-0.00001</td>\n",
       "      <td>0000000</td>\n",
       "      <td>-1</td>\n",
       "    </tr>\n",
       "    <tr>\n",
       "      <th>1</th>\n",
       "      <td>000000001</td>\n",
       "      <td>0.00000</td>\n",
       "      <td>0000001</td>\n",
       "      <td>1</td>\n",
       "    </tr>\n",
       "    <tr>\n",
       "      <th>2</th>\n",
       "      <td>000000010</td>\n",
       "      <td>0.00000</td>\n",
       "      <td>0000010</td>\n",
       "      <td>1</td>\n",
       "    </tr>\n",
       "    <tr>\n",
       "      <th>3</th>\n",
       "      <td>000000011</td>\n",
       "      <td>0.00000</td>\n",
       "      <td>0000011</td>\n",
       "      <td>1</td>\n",
       "    </tr>\n",
       "    <tr>\n",
       "      <th>4</th>\n",
       "      <td>000000100</td>\n",
       "      <td>-0.00001</td>\n",
       "      <td>0000100</td>\n",
       "      <td>-1</td>\n",
       "    </tr>\n",
       "    <tr>\n",
       "      <th>...</th>\n",
       "      <td>...</td>\n",
       "      <td>...</td>\n",
       "      <td>...</td>\n",
       "      <td>...</td>\n",
       "    </tr>\n",
       "    <tr>\n",
       "      <th>507</th>\n",
       "      <td>111111011</td>\n",
       "      <td>-0.00049</td>\n",
       "      <td>1111011</td>\n",
       "      <td>-1</td>\n",
       "    </tr>\n",
       "    <tr>\n",
       "      <th>508</th>\n",
       "      <td>111111100</td>\n",
       "      <td>0.00000</td>\n",
       "      <td>1111100</td>\n",
       "      <td>1</td>\n",
       "    </tr>\n",
       "    <tr>\n",
       "      <th>509</th>\n",
       "      <td>111111101</td>\n",
       "      <td>0.00001</td>\n",
       "      <td>1111101</td>\n",
       "      <td>1</td>\n",
       "    </tr>\n",
       "    <tr>\n",
       "      <th>510</th>\n",
       "      <td>111111110</td>\n",
       "      <td>0.00000</td>\n",
       "      <td>1111110</td>\n",
       "      <td>1</td>\n",
       "    </tr>\n",
       "    <tr>\n",
       "      <th>511</th>\n",
       "      <td>111111111</td>\n",
       "      <td>-0.00001</td>\n",
       "      <td>1111111</td>\n",
       "      <td>-1</td>\n",
       "    </tr>\n",
       "  </tbody>\n",
       "</table>\n",
       "<p>512 rows × 4 columns</p>\n",
       "</div>"
      ],
      "text/plain": [
       "         state   module   lambda  sign\n",
       "0    000000000 -0.00001  0000000    -1\n",
       "1    000000001  0.00000  0000001     1\n",
       "2    000000010  0.00000  0000010     1\n",
       "3    000000011  0.00000  0000011     1\n",
       "4    000000100 -0.00001  0000100    -1\n",
       "..         ...      ...      ...   ...\n",
       "507  111111011 -0.00049  1111011    -1\n",
       "508  111111100  0.00000  1111100     1\n",
       "509  111111101  0.00001  1111101     1\n",
       "510  111111110  0.00000  1111110     1\n",
       "511  111111111 -0.00001  1111111    -1\n",
       "\n",
       "[512 rows x 4 columns]"
      ]
     },
     "execution_count": 556,
     "metadata": {},
     "output_type": "execute_result"
    }
   ],
   "source": [
    "df['module']=df['module'].multiply(np.array(list(sign_dictionary.values())), axis=0)\n",
    "#df['module']=df['module'].multiply(np.array(sign), axis=0)\n",
    "df=df.fillna(0)\n",
    "df"
   ]
  },
  {
   "cell_type": "code",
   "execution_count": 557,
   "metadata": {},
   "outputs": [
    {
     "name": "stdout",
     "output_type": "stream",
     "text": [
      "[0.12153189 0.08579044 0.08402381 0.06356099]\n",
      "5.485735064374616\n",
      "[array([ 0.66669174, -0.47062364, -0.46093234,  0.34867878]), array([0.31591138, 0.45604824, 0.45396035, 0.6500923 ])]\n",
      "[0.31591138 0.45604824 0.45396035 0.6500923 ]\n",
      "1.0333578586508825\n",
      "[array([ 0.66669174, -0.47062364, -0.46093234,  0.34867878]), array([0.32644951, 0.47126104, 0.4691035 , 0.67177799])]\n"
     ]
    }
   ],
   "source": [
    "a=[]\n",
    "save_sign=[]\n",
    "eigenvalues=[]\n",
    "for l in lambdas:\n",
    "    eigenvalues.append(int(l[::-1],base=2)/(2**resolution))\n",
    "    a_=np.array(df.query(\"state.str.endswith(@l)\")['module'].values)\n",
    "    #print(a_)\n",
    "    save_sign.append(np.sign(a_))\n",
    "    #print(save_sign)\n",
    "    \n",
    "    a.append(np.sqrt(abs(a_)))\n",
    "\n",
    "#a=[a1,a2]\n",
    "\n",
    "for i in range(len(a)):\n",
    "    print(a[i])\n",
    "    normalization_factor=np.sqrt((1/(sum(a[i]**2))))\n",
    "    print(normalization_factor)\n",
    "    a[i]*=normalization_factor\n",
    "    a[i]*=save_sign[i]\n",
    "    \n",
    "    print(a)"
   ]
  },
  {
   "cell_type": "code",
   "execution_count": 558,
   "metadata": {},
   "outputs": [
    {
     "data": {
      "text/plain": [
       "[0.15625, 0.84375]"
      ]
     },
     "execution_count": 558,
     "metadata": {},
     "output_type": "execute_result"
    }
   ],
   "source": [
    "eigenvalues"
   ]
  },
  {
   "cell_type": "code",
   "execution_count": 559,
   "metadata": {},
   "outputs": [
    {
     "name": "stdout",
     "output_type": "stream",
     "text": [
      "reconstructed_eigenvector: [ 0.81651194 -0.57638305]\n",
      "reconstructed_eigenvalue: 0.15625\n",
      "reconstructed_eigenvector: [0.57234222 0.81962064]\n",
      "reconstructed_eigenvalue: 0.84375\n"
     ]
    }
   ],
   "source": [
    "#TODO: Capire se fare la media tra i vari fattori di rescaling\n",
    "eigenvectors=[]\n",
    "for ll, eig in zip(a,eigenvalues):\n",
    "    \n",
    "    eigenvector=np.zeros(len(example_matrix1)) #put length of eigenvector\n",
    "    save_sign=np.sign(ll)\n",
    "    sv=abs(ll)\n",
    "    max_list=[]\n",
    "    scaled_statevectors=[]\n",
    "    for e,i in enumerate(range(0,len(sv),len(example_matrix1))):\n",
    "        max_list.append(max(sv[i:i+len(example_matrix1)]))\n",
    "        scaled_statevectors.append(sv[i:i+len(example_matrix1)]/max_list[e])\n",
    "        #print(max_list,scaled_statevectors)\n",
    "    idx_max=np.argmax(max_list)\n",
    "    #print(idx_max)\n",
    "    max_max=max_list[idx_max]\n",
    "    #print(max_max)\n",
    "    value=np.sqrt(max_max)\n",
    "    #eigenvector=scaled_statevectors[idx_max]*value*save_sign[:len(example_matrix)]\n",
    "    eigenvector=scaled_statevectors[idx_max]*value*save_sign[len(example_matrix1)*idx_max:len(example_matrix1)*idx_max+len(example_matrix1)]\n",
    "    eigenvectors.append((eig,eigenvector))\n",
    "    print('reconstructed_eigenvector:',eigenvector)\n",
    "    print('reconstructed_eigenvalue:', eig)\n",
    "    "
   ]
  },
  {
   "cell_type": "code",
   "execution_count": 560,
   "metadata": {},
   "outputs": [
    {
     "data": {
      "text/plain": [
       "(array([0.15548669, 0.84451331]),\n",
       " array([[-0.81909218, -0.57366192],\n",
       "        [ 0.57366192, -0.81909218]]))"
      ]
     },
     "execution_count": 560,
     "metadata": {},
     "output_type": "execute_result"
    }
   ],
   "source": [
    "np.linalg.eig(example_matrix1)"
   ]
  },
  {
   "cell_type": "code",
   "execution_count": 502,
   "metadata": {},
   "outputs": [
    {
     "data": {
      "text/plain": [
       "(0.0007633099999999893, 0.0007633099999999615)"
      ]
     },
     "execution_count": 502,
     "metadata": {},
     "output_type": "execute_result"
    }
   ],
   "source": [
    "0.15625-0.15548669,0.84451331-0.84375"
   ]
  },
  {
   "cell_type": "code",
   "execution_count": 255,
   "metadata": {},
   "outputs": [
    {
     "data": {
      "text/plain": [
       "(150, 512)"
      ]
     },
     "execution_count": 255,
     "metadata": {},
     "output_type": "execute_result"
    }
   ],
   "source": [
    "zeros=[s for s in sign_diff if s==0]\n",
    "len(zeros),len(sign_diff)"
   ]
  },
  {
   "cell_type": "code",
   "execution_count": 427,
   "metadata": {},
   "outputs": [
    {
     "data": {
      "text/plain": [
       "0.01171875"
      ]
     },
     "execution_count": 427,
     "metadata": {},
     "output_type": "execute_result"
    }
   ],
   "source": [
    "1/(2**7)+1/(2**8)"
   ]
  },
  {
   "cell_type": "code",
   "execution_count": 259,
   "metadata": {},
   "outputs": [
    {
     "data": {
      "text/plain": [
       "0.625"
      ]
     },
     "execution_count": 259,
     "metadata": {},
     "output_type": "execute_result"
    }
   ],
   "source": [
    "0.5+0.125"
   ]
  },
  {
   "cell_type": "code",
   "execution_count": 197,
   "metadata": {},
   "outputs": [
    {
     "data": {
      "text/plain": [
       "0.0078125"
      ]
     },
     "execution_count": 197,
     "metadata": {},
     "output_type": "execute_result"
    }
   ],
   "source": [
    "1/2**7"
   ]
  },
  {
   "cell_type": "code",
   "execution_count": 256,
   "metadata": {},
   "outputs": [
    {
     "data": {
      "text/plain": [
       "0.127"
      ]
     },
     "execution_count": 256,
     "metadata": {},
     "output_type": "execute_result"
    }
   ],
   "source": [
    "0.75-0.623\n"
   ]
  },
  {
   "cell_type": "code",
   "execution_count": 257,
   "metadata": {},
   "outputs": [
    {
     "data": {
      "text/plain": [
       "-0.123"
      ]
     },
     "execution_count": 257,
     "metadata": {},
     "output_type": "execute_result"
    }
   ],
   "source": [
    "0.5-0.623"
   ]
  },
  {
   "cell_type": "code",
   "execution_count": 260,
   "metadata": {},
   "outputs": [
    {
     "data": {
      "text/plain": [
       "0.625"
      ]
     },
     "execution_count": 260,
     "metadata": {},
     "output_type": "execute_result"
    }
   ],
   "source": [
    "5/8"
   ]
  },
  {
   "cell_type": "code",
   "execution_count": null,
   "metadata": {},
   "outputs": [],
   "source": []
  }
 ],
 "metadata": {
  "kernelspec": {
   "display_name": "Python 3 (ipykernel)",
   "language": "python",
   "name": "python3"
  },
  "language_info": {
   "codemirror_mode": {
    "name": "ipython",
    "version": 3
   },
   "file_extension": ".py",
   "mimetype": "text/x-python",
   "name": "python",
   "nbconvert_exporter": "python",
   "pygments_lexer": "ipython3",
   "version": "3.8.11"
  },
  "vscode": {
   "interpreter": {
    "hash": "3820477eeda6a2056d25dbf35341ad4ea495fec12a885dc74045ce43b88b4168"
   }
  }
 },
 "nbformat": 4,
 "nbformat_minor": 4
}
