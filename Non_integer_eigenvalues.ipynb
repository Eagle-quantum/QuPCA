{
 "cells": [
  {
   "cell_type": "markdown",
   "metadata": {},
   "source": [
    "### Example taken from *A Low-Complexity Quantum Principal Component Analysis Algorithm*\n",
    "https://doi.org/10.1109/TQE.2021.3140152"
   ]
  },
  {
   "cell_type": "code",
   "execution_count": 1,
   "metadata": {},
   "outputs": [
    {
     "name": "stdout",
     "output_type": "stream",
     "text": [
      "[0.04470943 0.0458295  0.02186287 0.05812434 0.0458295  0.14321806\n",
      " 0.00902626 0.03480099 0.02186287 0.00902626 0.09972801 0.09329284\n",
      " 0.05812434 0.03480099 0.09329284 0.18647091]\n"
     ]
    }
   ],
   "source": [
    "import numpy as np\n",
    "import itertools\n",
    "from qiskit_experiments.library import StateTomography\n",
    "from qiskit.visualization import plot_state_city\n",
    "import qiskit.quantum_info as qi\n",
    "from qiskit.visualization import plot_histogram\n",
    "from qiskit.circuit.library.standard_gates import RYGate\n",
    "from qiskit import Aer, transpile, execute\n",
    "from qiskit import QuantumRegister, ClassicalRegister, QuantumCircuit\n",
    "from qiskit.algorithms.linear_solvers.matrices.numpy_matrix import NumPyMatrix\n",
    "from qiskit.circuit.library import PhaseEstimation\n",
    "import matplotlib.pyplot as plt\n",
    "from qiskit import BasicAer, execute\n",
    "import scipy as sc\n",
    "#9329\n",
    "np.random.seed(12)\n",
    "\n",
    "example_matrix=np.random.rand(4,4)\n",
    "\n",
    "\n",
    "example_matrix=np.dot(example_matrix,example_matrix.T)\n",
    "\n",
    "sum_squares = (example_matrix**2).sum()\n",
    "input_probabilities = (example_matrix**2/sum_squares).flatten()\n",
    "\n",
    "print(input_probabilities)"
   ]
  },
  {
   "cell_type": "code",
   "execution_count": 2,
   "metadata": {},
   "outputs": [
    {
     "data": {
      "text/plain": [
       "(array([[0.92565227, 0.93717544, 0.64729448, 1.05542486],\n",
       "        [0.93717544, 1.65671273, 0.41591273, 0.81666532],\n",
       "        [0.64729448, 0.41591273, 1.38247379, 1.33712645],\n",
       "        [1.05542486, 0.81666532, 1.33712645, 1.89040069]]),\n",
       " (array([4.16779779, 1.3066832 , 0.10666971, 0.27408878]),\n",
       "  array([[ 0.42777602,  0.20326857,  0.78671927,  0.39593227],\n",
       "         [ 0.44316532,  0.78097832, -0.26649827, -0.35022284],\n",
       "         [ 0.46933345, -0.50082482,  0.22263581, -0.69233945],\n",
       "         [ 0.63272292, -0.31293648, -0.51037708,  0.49116972]])))"
      ]
     },
     "execution_count": 2,
     "metadata": {},
     "output_type": "execute_result"
    }
   ],
   "source": [
    "example_matrix,np.linalg.eig(example_matrix)"
   ]
  },
  {
   "cell_type": "code",
   "execution_count": 3,
   "metadata": {},
   "outputs": [
    {
     "data": {
      "text/plain": [
       "(array([[0.15808957, 0.16005758, 0.11054962, 0.18025306],\n",
       "        [0.16005758, 0.28294534, 0.07103257, 0.13947599],\n",
       "        [0.11054962, 0.07103257, 0.23610884, 0.22836409],\n",
       "        [0.18025306, 0.13947599, 0.22836409, 0.32285625]]),\n",
       " (array([0.71180655, 0.22316477, 0.01821782, 0.04681086]),\n",
       "  array([[ 0.42777602,  0.20326857,  0.78671927,  0.39593227],\n",
       "         [ 0.44316532,  0.78097832, -0.26649827, -0.35022284],\n",
       "         [ 0.46933345, -0.50082482,  0.22263581, -0.69233945],\n",
       "         [ 0.63272292, -0.31293648, -0.51037708,  0.49116972]])))"
      ]
     },
     "execution_count": 3,
     "metadata": {},
     "output_type": "execute_result"
    }
   ],
   "source": [
    "example_matrix1=example_matrix/np.trace(example_matrix)\n",
    "example_matrix1,np.linalg.eig(example_matrix1)"
   ]
  },
  {
   "cell_type": "code",
   "execution_count": 49,
   "metadata": {},
   "outputs": [
    {
     "data": {
      "text/plain": [
       "'eig,e_v=np.linalg.eig(example_matrix1)\\nb=np.array([.9,.1])\\n#b=np.array([3.,2.,1.,0])\\nBB = e_v@np.diag(b)@e_v.T\\nBB, np.linalg.eig(BB)\\nexample_matrix2=BB\\n\\nsum_squares = (example_matrix2**2).sum()\\ninput_probabilities = (example_matrix2**2/sum_squares).flatten()\\n\\nprint(input_probabilities)'"
      ]
     },
     "execution_count": 49,
     "metadata": {},
     "output_type": "execute_result"
    }
   ],
   "source": [
    "'''eig,e_v=np.linalg.eig(example_matrix1)\n",
    "b=np.array([.9,.1])\n",
    "#b=np.array([3.,2.,1.,0])\n",
    "BB = e_v@np.diag(b)@e_v.T\n",
    "BB, np.linalg.eig(BB)\n",
    "example_matrix2=BB\n",
    "\n",
    "sum_squares = (example_matrix2**2).sum()\n",
    "input_probabilities = (example_matrix2**2/sum_squares).flatten()\n",
    "\n",
    "print(input_probabilities)'''"
   ]
  },
  {
   "cell_type": "code",
   "execution_count": 4,
   "metadata": {},
   "outputs": [
    {
     "data": {
      "text/plain": [
       "array([4.16779779, 1.3066832 , 0.10666971, 0.27408878])"
      ]
     },
     "execution_count": 4,
     "metadata": {},
     "output_type": "execute_result"
    }
   ],
   "source": [
    "np.trace(example_matrix)*np.linalg.eig(example_matrix1)[0]"
   ]
  },
  {
   "cell_type": "code",
   "execution_count": 5,
   "metadata": {},
   "outputs": [],
   "source": [
    "#Tommaso's great code for computing the thetas\n",
    "def thetas_computation(example_matrix):\n",
    "    lst_combination=[]\n",
    "\n",
    "    for k in range(1, int(np.ceil(np.log2(len(example_matrix)**2)))+1):\n",
    "        lst_combination.append(list(map(list, itertools.product([0, 1], repeat=k))))\n",
    "    container=[]\n",
    "    for lst in lst_combination:\n",
    "        container.append([''.join([''.join(str(j)) for j in i]) for i in lst])\n",
    "    all_combinations=[item for c in container for item in c]\n",
    "\n",
    "    general_bitstring=[''.join([''.join(str(j)) for j in i]) for i in list(map(list, itertools.product([0, 1], repeat=int(np.ceil(np.log2(len(example_matrix)**2))))))][:len(input_probabilities)]\n",
    "    \n",
    "    #Nodes contains all the values of the tree (except for the root)\n",
    "    nodes=[]\n",
    "    for st in all_combinations:\n",
    "        #print(st)\n",
    "        starts = [general_bitstring.index(l) for l in general_bitstring if l.startswith(st)]\n",
    "        #print(starts)\n",
    "        print(st,'->',np.sqrt(input_probabilities[starts].sum()))\n",
    "        nodes.append(np.sqrt(input_probabilities[starts].sum()))\n",
    "    \n",
    "    #add root tree\n",
    "    nodes.insert(0, 1)\n",
    "    thetas=[]\n",
    "\n",
    "    idx=0\n",
    "    for i in range(1,len(nodes),2):\n",
    "        \n",
    "        right_node=i\n",
    "        left_node=right_node+1\n",
    "        if nodes[idx]!=0:\n",
    "            thetas.append(2*np.arccos(nodes[right_node]/nodes[idx]))\n",
    "            thetas.append(2*np.arcsin(nodes[left_node]/nodes[idx]))\n",
    "        else:\n",
    "            thetas.append(0)\n",
    "            thetas.append(0)\n",
    "\n",
    "        idx+=1\n",
    "    return thetas, all_combinations\n",
    "\n",
    "# SUB = str.maketrans(\"0123456789\", \"₀₁₂₃₄₅₆₇₈₉\")\n",
    "\n",
    "# for idx,th in zip(all_combinations,thetas):\n",
    "#     print('\\u03F4(R{})'.format((str(idx).translate(SUB))),'->', th)\n",
    "#thetas"
   ]
  },
  {
   "cell_type": "code",
   "execution_count": 6,
   "metadata": {},
   "outputs": [],
   "source": [
    "def generate_qram_circuit(thetas, all_combinations):\n",
    "    \n",
    "    right_nodes_indexes=list(range(0,len(thetas),2))\n",
    "    rotations_list=list(zip(np.array(all_combinations)[right_nodes_indexes],np.array(thetas)[right_nodes_indexes]))\n",
    "\n",
    "    #qc=QuantumCircuit(len(example_matrix))\n",
    "    qc=QuantumCircuit(int(np.ceil(np.log2(len(example_matrix)**2))))\n",
    "\n",
    "    for r_l in rotations_list:\n",
    "        target_qubit=len(r_l[0])-1\n",
    "        \n",
    "        #First case of R_0\n",
    "        if target_qubit==0:\n",
    "            qc.ry(theta=r_l[1],qubit=target_qubit)\n",
    "            continue\n",
    "            \n",
    "        not_gate=[]\n",
    "        for qb in range(target_qubit):\n",
    "            if r_l[0][qb]=='0':\n",
    "                not_gate.append(qb)\n",
    "                \n",
    "        c_t_qubits=list(range(len(r_l[0])))\n",
    "        n_controls=len(range(target_qubit))\n",
    "        \n",
    "        if len(not_gate)>0:\n",
    "            qc.x(not_gate)\n",
    "            c_ry = RYGate(r_l[1]).control(n_controls)\n",
    "            qc.append(c_ry, c_t_qubits)\n",
    "            qc.x(not_gate)\n",
    "        else:\n",
    "            c_ry = RYGate(r_l[1]).control(n_controls)\n",
    "            qc.append(c_ry, c_t_qubits)\n",
    "    return qc"
   ]
  },
  {
   "cell_type": "code",
   "execution_count": 7,
   "metadata": {},
   "outputs": [
    {
     "name": "stdout",
     "output_type": "stream",
     "text": [
      "0 -> 0.6351385232993839\n",
      "1 -> 0.7723982497527282\n",
      "00 -> 0.41294810255808595\n",
      "01 -> 0.4825710397160179\n",
      "10 -> 0.4731912750691917\n",
      "11 -> 0.6104826561168388\n",
      "000 -> 0.3008968766336157\n",
      "001 -> 0.28282009305998423\n",
      "010 -> 0.4347959991976505\n",
      "011 -> 0.20934958193011816\n",
      "100 -> 0.17575303366284295\n",
      "101 -> 0.43934138657758504\n",
      "110 -> 0.3048365523540131\n",
      "111 -> 0.5289269796185382\n",
      "0000 -> 0.21144603714392982\n",
      "0001 -> 0.21407826546380926\n",
      "0010 -> 0.1478609815819888\n",
      "0011 -> 0.2410898902153902\n",
      "0100 -> 0.21407826546380926\n",
      "0101 -> 0.37844161659929804\n",
      "0110 -> 0.09500662591263398\n",
      "0111 -> 0.1865502304662529\n",
      "1000 -> 0.1478609815819888\n",
      "1001 -> 0.09500662591263398\n",
      "1010 -> 0.3157974253370741\n",
      "1011 -> 0.3054387665480433\n",
      "1100 -> 0.2410898902153902\n",
      "1101 -> 0.1865502304662529\n",
      "1110 -> 0.3054387665480433\n",
      "1111 -> 0.4318227757518116\n"
     ]
    },
    {
     "data": {
      "text/html": [
       "<pre style=\"word-wrap: normal;white-space: pre;background: #fff0;line-height: 1.1;font-family: &quot;Courier New&quot;,Courier,monospace\">     ┌────────────┐┌───┐             ┌───┐              ┌───┐              »\n",
       "q_0: ┤ Ry(1.7652) ├┤ X ├──────■──────┤ X ├──────■───────┤ X ├──────■───────»\n",
       "     └────────────┘└───┘┌─────┴─────┐└───┘┌─────┴──────┐├───┤      │       »\n",
       "q_1: ───────────────────┤ Ry(1.726) ├─────┤ Ry(1.8228) ├┤ X ├──────■───────»\n",
       "                        └───────────┘     └────────────┘└───┘┌─────┴──────┐»\n",
       "q_2: ────────────────────────────────────────────────────────┤ Ry(1.5089) ├»\n",
       "                                                             └────────────┘»\n",
       "q_3: ──────────────────────────────────────────────────────────────────────»\n",
       "                                                                           »\n",
       "«     ┌───┐┌───┐               ┌───┐                                 ┌───┐»\n",
       "«q_0: ┤ X ├┤ X ├───────■───────┤ X ├──────■──────────────────■───────┤ X ├»\n",
       "«     ├───┤└───┘       │       ├───┤      │       ┌───┐      │       ├───┤»\n",
       "«q_1: ┤ X ├────────────■───────┤ X ├──────■───────┤ X ├──────■───────┤ X ├»\n",
       "«     └───┘     ┌──────┴──────┐└───┘┌─────┴──────┐└───┘┌─────┴──────┐├───┤»\n",
       "«q_2: ──────────┤ Ry(0.89746) ├─────┤ Ry(2.3805) ├─────┤ Ry(2.0959) ├┤ X ├»\n",
       "«               └─────────────┘     └────────────┘     └────────────┘└───┘»\n",
       "«q_3: ────────────────────────────────────────────────────────────────────»\n",
       "«                                                                         »\n",
       "«                   ┌───┐┌───┐              ┌───┐┌───┐             ┌───┐┌───┐»\n",
       "«q_0: ──────■───────┤ X ├┤ X ├──────■───────┤ X ├┤ X ├──────■──────┤ X ├┤ X ├»\n",
       "«           │       ├───┤├───┤      │       ├───┤└───┘      │      └───┘└───┘»\n",
       "«q_1: ──────■───────┤ X ├┤ X ├──────■───────┤ X ├───────────■────────────────»\n",
       "«           │       ├───┤└───┘      │       ├───┤           │      ┌───┐     »\n",
       "«q_2: ──────■───────┤ X ├───────────■───────┤ X ├───────────■──────┤ X ├─────»\n",
       "«     ┌─────┴──────┐└───┘     ┌─────┴──────┐└───┘     ┌─────┴─────┐└───┘     »\n",
       "«q_3: ┤ Ry(1.5832) ├──────────┤ Ry(2.0413) ├──────────┤ Ry(2.112) ├──────────»\n",
       "«     └────────────┘          └────────────┘          └───────────┘          »\n",
       "«                   ┌───┐                                           »\n",
       "«q_0: ──────■───────┤ X ├──────■───────────────────────■────────────»\n",
       "«           │       ├───┤      │       ┌───┐┌───┐      │       ┌───┐»\n",
       "«q_1: ──────■───────┤ X ├──────■───────┤ X ├┤ X ├──────■───────┤ X ├»\n",
       "«           │       ├───┤      │       ├───┤└───┘      │       ├───┤»\n",
       "«q_2: ──────■───────┤ X ├──────■───────┤ X ├───────────■───────┤ X ├»\n",
       "«     ┌─────┴──────┐└───┘┌─────┴──────┐└───┘     ┌─────┴──────┐└───┘»\n",
       "«q_3: ┤ Ry(2.1995) ├─────┤ Ry(1.1422) ├──────────┤ Ry(1.5375) ├─────»\n",
       "«     └────────────┘     └────────────┘          └────────────┘     »\n",
       "«                                      \n",
       "«q_0: ──────■──────────────────■───────\n",
       "«           │                  │       \n",
       "«q_1: ──────■──────────────────■───────\n",
       "«           │       ┌───┐      │       \n",
       "«q_2: ──────■───────┤ X ├──────■───────\n",
       "«     ┌─────┴──────┐└───┘┌─────┴──────┐\n",
       "«q_3: ┤ Ry(1.3171) ├─────┤ Ry(1.9103) ├\n",
       "«     └────────────┘     └────────────┘</pre>"
      ],
      "text/plain": [
       "     ┌────────────┐┌───┐             ┌───┐              ┌───┐              »\n",
       "q_0: ┤ Ry(1.7652) ├┤ X ├──────■──────┤ X ├──────■───────┤ X ├──────■───────»\n",
       "     └────────────┘└───┘┌─────┴─────┐└───┘┌─────┴──────┐├───┤      │       »\n",
       "q_1: ───────────────────┤ Ry(1.726) ├─────┤ Ry(1.8228) ├┤ X ├──────■───────»\n",
       "                        └───────────┘     └────────────┘└───┘┌─────┴──────┐»\n",
       "q_2: ────────────────────────────────────────────────────────┤ Ry(1.5089) ├»\n",
       "                                                             └────────────┘»\n",
       "q_3: ──────────────────────────────────────────────────────────────────────»\n",
       "                                                                           »\n",
       "«     ┌───┐┌───┐               ┌───┐                                 ┌───┐»\n",
       "«q_0: ┤ X ├┤ X ├───────■───────┤ X ├──────■──────────────────■───────┤ X ├»\n",
       "«     ├───┤└───┘       │       ├───┤      │       ┌───┐      │       ├───┤»\n",
       "«q_1: ┤ X ├────────────■───────┤ X ├──────■───────┤ X ├──────■───────┤ X ├»\n",
       "«     └───┘     ┌──────┴──────┐└───┘┌─────┴──────┐└───┘┌─────┴──────┐├───┤»\n",
       "«q_2: ──────────┤ Ry(0.89746) ├─────┤ Ry(2.3805) ├─────┤ Ry(2.0959) ├┤ X ├»\n",
       "«               └─────────────┘     └────────────┘     └────────────┘└───┘»\n",
       "«q_3: ────────────────────────────────────────────────────────────────────»\n",
       "«                                                                         »\n",
       "«                   ┌───┐┌───┐              ┌───┐┌───┐             ┌───┐┌───┐»\n",
       "«q_0: ──────■───────┤ X ├┤ X ├──────■───────┤ X ├┤ X ├──────■──────┤ X ├┤ X ├»\n",
       "«           │       ├───┤├───┤      │       ├───┤└───┘      │      └───┘└───┘»\n",
       "«q_1: ──────■───────┤ X ├┤ X ├──────■───────┤ X ├───────────■────────────────»\n",
       "«           │       ├───┤└───┘      │       ├───┤           │      ┌───┐     »\n",
       "«q_2: ──────■───────┤ X ├───────────■───────┤ X ├───────────■──────┤ X ├─────»\n",
       "«     ┌─────┴──────┐└───┘     ┌─────┴──────┐└───┘     ┌─────┴─────┐└───┘     »\n",
       "«q_3: ┤ Ry(1.5832) ├──────────┤ Ry(2.0413) ├──────────┤ Ry(2.112) ├──────────»\n",
       "«     └────────────┘          └────────────┘          └───────────┘          »\n",
       "«                   ┌───┐                                           »\n",
       "«q_0: ──────■───────┤ X ├──────■───────────────────────■────────────»\n",
       "«           │       ├───┤      │       ┌───┐┌───┐      │       ┌───┐»\n",
       "«q_1: ──────■───────┤ X ├──────■───────┤ X ├┤ X ├──────■───────┤ X ├»\n",
       "«           │       ├───┤      │       ├───┤└───┘      │       ├───┤»\n",
       "«q_2: ──────■───────┤ X ├──────■───────┤ X ├───────────■───────┤ X ├»\n",
       "«     ┌─────┴──────┐└───┘┌─────┴──────┐└───┘     ┌─────┴──────┐└───┘»\n",
       "«q_3: ┤ Ry(2.1995) ├─────┤ Ry(1.1422) ├──────────┤ Ry(1.5375) ├─────»\n",
       "«     └────────────┘     └────────────┘          └────────────┘     »\n",
       "«                                      \n",
       "«q_0: ──────■──────────────────■───────\n",
       "«           │                  │       \n",
       "«q_1: ──────■──────────────────■───────\n",
       "«           │       ┌───┐      │       \n",
       "«q_2: ──────■───────┤ X ├──────■───────\n",
       "«     ┌─────┴──────┐└───┘┌─────┴──────┐\n",
       "«q_3: ┤ Ry(1.3171) ├─────┤ Ry(1.9103) ├\n",
       "«     └────────────┘     └────────────┘"
      ]
     },
     "execution_count": 7,
     "metadata": {},
     "output_type": "execute_result"
    }
   ],
   "source": [
    "thetas, all_combinations = thetas_computation(example_matrix1)\n",
    "matrix_circuit = generate_qram_circuit(thetas, all_combinations)\n",
    "matrix_circuit.draw()"
   ]
  },
  {
   "cell_type": "code",
   "execution_count": 8,
   "metadata": {},
   "outputs": [
    {
     "name": "stderr",
     "output_type": "stream",
     "text": [
      "/opt/miniconda3/envs/EAGLE_environment/lib/python3.8/site-packages/numpy/linalg/linalg.py:2154: RuntimeWarning: divide by zero encountered in det\n",
      "  r = _umath_linalg.det(a, signature=signature)\n",
      "/opt/miniconda3/envs/EAGLE_environment/lib/python3.8/site-packages/numpy/linalg/linalg.py:2154: RuntimeWarning: invalid value encountered in det\n",
      "  r = _umath_linalg.det(a, signature=signature)\n"
     ]
    },
    {
     "data": {
      "text/plain": [
       "{'0000': 0.044709426623872,\n",
       " '0001': 0.021862869874389,\n",
       " '0010': 0.045829503743993,\n",
       " '0011': 0.058124335164069,\n",
       " '0100': 0.021862869874389,\n",
       " '0101': 0.099728013849525,\n",
       " '0110': 0.009026258967303,\n",
       " '0111': 0.09329284011039,\n",
       " '1000': 0.045829503743993,\n",
       " '1001': 0.009026258967303,\n",
       " '1010': 0.14321805717429,\n",
       " '1011': 0.034800988487012,\n",
       " '1100': 0.058124335164069,\n",
       " '1101': 0.09329284011039,\n",
       " '1110': 0.034800988487012,\n",
       " '1111': 0.186470909657998}"
      ]
     },
     "execution_count": 8,
     "metadata": {},
     "output_type": "execute_result"
    }
   ],
   "source": [
    "#Check matrix encoding\n",
    "backend = Aer.get_backend(\"statevector_simulator\")\n",
    "job = backend.run(transpile(matrix_circuit, backend=backend))\n",
    "job.result().get_counts()"
   ]
  },
  {
   "cell_type": "code",
   "execution_count": 9,
   "metadata": {},
   "outputs": [
    {
     "name": "stderr",
     "output_type": "stream",
     "text": [
      "/var/folders/rr/g930v2cj1wvdzc257kclm3lm0000gn/T/ipykernel_2421/3650853209.py:4: DeprecationWarning: The NumPyMatrix class is deprecated as of Qiskit Terra 0.22.0 and will be removed no sooner than 3 months after the release date. \n",
      "  u_circuit = NumPyMatrix(example_matrix1, evolution_time=2*np.pi)\n"
     ]
    },
    {
     "data": {
      "text/plain": [
       "Operator([[ 0.72834757-0.02087951j, -0.35941543-0.091791j  ,\n",
       "           -0.15314497-0.35483633j, -0.28778293-0.31509935j],\n",
       "          [-0.35941543-0.091791j  ,  0.2436198 +0.45417982j,\n",
       "            0.05804404-0.52410258j, -0.13716591-0.54762937j],\n",
       "          [-0.15314497-0.35483633j,  0.05804404-0.52410258j,\n",
       "            0.49772942+0.17792663j, -0.48261808-0.24550458j],\n",
       "          [-0.28778293-0.31509935j, -0.13716591-0.54762937j,\n",
       "           -0.48261808-0.24550458j,  0.41094943-0.1926365j ]],\n",
       "         input_dims=(2, 2), output_dims=(2, 2))"
      ]
     },
     "execution_count": 9,
     "metadata": {},
     "output_type": "execute_result"
    }
   ],
   "source": [
    "#Unitary for PE\n",
    "resolution =7\n",
    "unitary_backend = Aer.get_backend(\"unitary_simulator\")\n",
    "u_circuit = NumPyMatrix(example_matrix1, evolution_time=2*np.pi)\n",
    "unitary_job = unitary_backend.run(transpile(u_circuit, backend=unitary_backend))\n",
    "unitary_job.result().get_unitary()"
   ]
  },
  {
   "cell_type": "code",
   "execution_count": 10,
   "metadata": {},
   "outputs": [
    {
     "data": {
      "image/png": "[encoded data removed]",
      "text/plain": [
       "<Figure size 1562.11x565.88 with 1 Axes>"
      ]
     },
     "execution_count": 10,
     "metadata": {},
     "output_type": "execute_result"
    }
   ],
   "source": [
    "#PE circuit\n",
    "pe = PhaseEstimation(resolution, u_circuit, name = \"PE\")\n",
    "pe.decompose().draw(\"mpl\")"
   ]
  },
  {
   "cell_type": "markdown",
   "metadata": {},
   "source": [
    "# Check Statevector"
   ]
  },
  {
   "cell_type": "code",
   "execution_count": 11,
   "metadata": {},
   "outputs": [
    {
     "data": {
      "image/png": "[encoded data removed]",
      "text/plain": [
       "<Figure size 1638.9x1408.68 with 1 Axes>"
      ]
     },
     "execution_count": 11,
     "metadata": {},
     "output_type": "execute_result"
    }
   ],
   "source": [
    "tot_qubit = resolution+len(example_matrix1)\n",
    "\n",
    "qr_total = QuantumRegister(tot_qubit, 'total')\n",
    "# classical = ClassicalRegister(4, 'measure')\n",
    "\n",
    "total_circuit = QuantumCircuit(qr_total , name='matrix')\n",
    "\n",
    "total_circuit.append(matrix_circuit.to_gate(), qr_total[resolution:])\n",
    "total_circuit.append(pe.to_gate(), qr_total[0:pe.num_qubits])\n",
    "# total_circuit.measure(qr_total[:2], classical[:])\n",
    "#total_circuit.swap(qr_total[0],qr_total[1])\n",
    "#total_circuit.measure_all()\n",
    "\n",
    "total_circuit.decompose(reps=1).draw(\"mpl\")"
   ]
  },
  {
   "cell_type": "code",
   "execution_count": 12,
   "metadata": {},
   "outputs": [],
   "source": [
    "backend_total = Aer.get_backend(\"statevector_simulator\")\n",
    "job = backend_total.run(transpile(total_circuit, backend=backend_total))\n",
    "statevector = np.asarray(job.result().get_statevector()).round(4)\n",
    "#plot_histogram(counts)"
   ]
  },
  {
   "cell_type": "code",
   "execution_count": 13,
   "metadata": {},
   "outputs": [],
   "source": [
    "def attach_bitstrings(vector):\n",
    "    return list(zip(bitstrings, vector))"
   ]
  },
  {
   "cell_type": "markdown",
   "metadata": {},
   "source": [
    "# First example (seed=1234)"
   ]
  },
  {
   "cell_type": "code",
   "execution_count": 37,
   "metadata": {
    "collapsed": true,
    "jupyter": {
     "outputs_hidden": true
    }
   },
   "outputs": [
    {
     "data": {
      "text/plain": [
       "[('000000000', (-0.0154-0.0729j)),\n",
       " ('000000001', (0.0047-0.001j)),\n",
       " ('000000010', (0.0036-0.0054j)),\n",
       " ('000000011', (0.0061+0.004j)),\n",
       " ('000000100', (0.0021-0.0108j)),\n",
       " ('000000101', (0.0053+0.001j)),\n",
       " ('000000110', (0.0042-0.0028j)),\n",
       " ('000000111', (0.0083+0.0124j)),\n",
       " ('000001000', -0.019j),\n",
       " ('000001001', (0.005-0j)),\n",
       " ('000001010', (0.0039-0.004j)),\n",
       " ('000001011', (0.0068+0.0068j)),\n",
       " ('000001100', (0.003-0.0074j)),\n",
       " ('000001101', (0.0056+0.0023j)),\n",
       " ('000001110', (0.0045-0.0019j)),\n",
       " ('000001111', (0.014+0.0334j)),\n",
       " ('000010000', (-0.0026-0.0311j)),\n",
       " ('000010001', (0.0049-0.0005j)),\n",
       " ('000010010', (0.0038-0.0046j)),\n",
       " ('000010011', (0.0064+0.0052j)),\n",
       " ('000010100', (0.0027-0.0088j)),\n",
       " ('000010101', (0.0054+0.0016j)),\n",
       " ('000010110', (0.0044-0.0023j)),\n",
       " ('000010111', (0.01+0.0185j)),\n",
       " ('000011000', (0.0014-0.0138j)),\n",
       " ('000011001', (0.0051+0.0005j)),\n",
       " ('000011010', (0.0041-0.0034j)),\n",
       " ('000011011', (0.0074+0.009j)),\n",
       " ('000011100', (0.0033-0.0063j)),\n",
       " ('000011101', (0.0058+0.0031j)),\n",
       " ('000011110', (0.0046-0.0014j)),\n",
       " ('000011111', (0.0408+0.1317j)),\n",
       " ('000100000', (-0.0075-0.0382j)),\n",
       " ('000100001', (0.0048-0.0007j)),\n",
       " ('000100010', (0.0037-0.005j)),\n",
       " ('000100011', (0.0062+0.0046j)),\n",
       " ('000100100', (0.0024-0.0097j)),\n",
       " ('000100101', (0.0054+0.0013j)),\n",
       " ('000100110', (0.0043-0.0026j)),\n",
       " ('000100111', (0.009+0.0149j)),\n",
       " ('000101000', (0.0008-0.016j)),\n",
       " ('000101001', (0.0051+0.0002j)),\n",
       " ('000101010', (0.004-0.0037j)),\n",
       " ('000101011', (0.0071+0.0078j)),\n",
       " ('000101100', (0.0032-0.0068j)),\n",
       " ('000101101', (0.0057+0.0027j)),\n",
       " ('000101110', (0.0046-0.0016j)),\n",
       " ('000101111', (0.0196+0.0539j)),\n",
       " ('000110000', (-0.001-0.0234j)),\n",
       " ('000110001', (0.0049-0.0003j)),\n",
       " ('000110010', (0.0039-0.0043j)),\n",
       " ('000110011', (0.0066+0.0059j)),\n",
       " ('000110100', (0.0029-0.008j)),\n",
       " ('000110101', (0.0055+0.002j)),\n",
       " ('000110110', (0.0044-0.0021j)),\n",
       " ('000110111', (0.0114+0.024j)),\n",
       " ('000111000', (0.0018-0.0121j)),\n",
       " ('000111001', (0.0052+0.0008j)),\n",
       " ('000111010', (0.0042-0.0031j)),\n",
       " ('000111011', (0.0078+0.0104j)),\n",
       " ('000111100', (0.0035-0.0058j)),\n",
       " ('000111101', (0.0059+0.0035j)),\n",
       " ('000111110', (0.0047-0.0012j)),\n",
       " ('000111111', (-0.0831-0.3217j)),\n",
       " ('001000000', (-0.01-0.0521j)),\n",
       " ('001000001', (0.0048-0.0008j)),\n",
       " ('001000010', (0.0036-0.0052j)),\n",
       " ('001000011', (0.0061+0.0043j)),\n",
       " ('001000100', (0.0023-0.0102j)),\n",
       " ('001000101', (0.0053+0.0012j)),\n",
       " ('001000110', (0.0043-0.0027j)),\n",
       " ('001000111', (0.0086+0.0135j)),\n",
       " ('001001000', (0.0005-0.0174j)),\n",
       " ('001001001', (0.005+0.0001j)),\n",
       " ('001001010', (0.004-0.0038j)),\n",
       " ('001001011', (0.0069+0.0072j)),\n",
       " ('001001100', (0.0031-0.0071j)),\n",
       " ('001001101', (0.0057+0.0025j)),\n",
       " ('001001110', (0.0045-0.0018j)),\n",
       " ('001001111', (0.0162+0.0413j)),\n",
       " ('001010000', (-0.0018-0.0266j)),\n",
       " ('001010001', (0.0049-0.0004j)),\n",
       " ('001010010', (0.0038-0.0044j)),\n",
       " ('001010011', (0.0065+0.0056j)),\n",
       " ('001010100', (0.0028-0.0084j)),\n",
       " ('001010101', (0.0055+0.0018j)),\n",
       " ('001010110', (0.0044-0.0022j)),\n",
       " ('001010111', (0.0106+0.0209j)),\n",
       " ('001011000', (0.0016-0.0129j)),\n",
       " ('001011001', (0.0052+0.0006j)),\n",
       " ('001011010', (0.0041-0.0032j)),\n",
       " ('001011011', (0.0076+0.0097j)),\n",
       " ('001011100', (0.0034-0.006j)),\n",
       " ('001011101', (0.0059+0.0033j)),\n",
       " ('001011110', (0.0047-0.0013j)),\n",
       " ('001011111', (0.1279+0.4513j)),\n",
       " ('001100000', (-0.003-0.04j)),\n",
       " ('001100001', (0.0048-0.0006j)),\n",
       " ('001100010', (0.0037-0.0048j)),\n",
       " ('001100011', (0.0063+0.0049j)),\n",
       " ('001100100', (0.0026-0.0092j)),\n",
       " ('001100101', (0.0054+0.0015j)),\n",
       " ('001100110', (0.0043-0.0025j)),\n",
       " ('001100111', (0.0094+0.0165j)),\n",
       " ('001101000', (0.0011-0.0148j)),\n",
       " ('001101001', (0.0051+0.0004j)),\n",
       " ('001101010', (0.0041-0.0035j)),\n",
       " ('001101011', (0.0072+0.0083j)),\n",
       " ('001101100', (0.0033-0.0065j)),\n",
       " ('001101101', (0.0058+0.0029j)),\n",
       " ('001101110', (0.0046-0.0015j)),\n",
       " ('001101111', (0.0258+0.0767j)),\n",
       " ('001110000', (-0.0004-0.021j)),\n",
       " ('001110001', (0.005-0.0001j)),\n",
       " ('001110010', (0.0039-0.0041j)),\n",
       " ('001110011', (0.0067+0.0063j)),\n",
       " ('001110100', (0.003-0.0077j)),\n",
       " ('001110101', (0.0056+0.0021j)),\n",
       " ('001110110', (0.0045-0.002j)),\n",
       " ('001110111', (0.0125+0.028j)),\n",
       " ('001111000', (0.002-0.0114j)),\n",
       " ('001111001', (0.0052+0.0009j)),\n",
       " ('001111010', (0.0042-0.003j)),\n",
       " ('001111011', (0.008+0.0113j)),\n",
       " ('001111100', (0.0035-0.0056j)),\n",
       " ('001111101', (0.006+0.0038j)),\n",
       " ('001111110', (0.0047-0.0011j)),\n",
       " ('001111111', (-0.0278-0.119j)),\n",
       " ('010000000', (-0.0113-0.0572j)),\n",
       " ('010000001', (0.0035-0.0007j)),\n",
       " ('010000010', (0.0026-0.004j)),\n",
       " ('010000011', (0.0045+0.0029j)),\n",
       " ('010000100', (0.0014-0.0079j)),\n",
       " ('010000101', (0.0039+0.0007j)),\n",
       " ('010000110', (0.0031-0.0021j)),\n",
       " ('010000111', (0.0063+0.0091j)),\n",
       " ('010001000', (-0.0003-0.0136j)),\n",
       " ('010001001', (0.0037-0.0001j)),\n",
       " ('010001010', (0.0029-0.003j)),\n",
       " ('010001011', (0.0051+0.005j)),\n",
       " ('010001100', (0.0021-0.0054j)),\n",
       " ('010001101', (0.0042+0.0017j)),\n",
       " ('010001110', (0.0033-0.0014j)),\n",
       " ('010001111', (0.0107+0.0249j)),\n",
       " ('010010000', (-0.003-0.0204j)),\n",
       " ('010010001', (0.0036-0.0004j)),\n",
       " ('010010010', (0.0027-0.0034j)),\n",
       " ('010010011', (0.0048+0.0038j)),\n",
       " ('010010100', (0.0018-0.0065j)),\n",
       " ('010010101', (0.004+0.0012j)),\n",
       " ('010010110', (0.0032-0.0018j)),\n",
       " ('010010111', (0.0075+0.0137j)),\n",
       " ('010011000', (0.0008-0.01j)),\n",
       " ('010011001', (0.0038+0.0003j)),\n",
       " ('010011010', (0.003-0.0025j)),\n",
       " ('010011011', (0.0056+0.0066j)),\n",
       " ('010011100', (0.0024-0.0046j)),\n",
       " ('010011101', (0.0043+0.0022j)),\n",
       " ('010011110', (0.0034-0.0011j)),\n",
       " ('010011111', (0.0311+0.0994j)),\n",
       " ('010100000', (-0.0037-0.037j)),\n",
       " ('010100001', (0.0035-0.0006j)),\n",
       " ('010100010', (0.0026-0.0037j)),\n",
       " ('010100011', (0.0046+0.0033j)),\n",
       " ('010100100', (0.0017-0.0071j)),\n",
       " ('010100101', (0.004+0.0009j)),\n",
       " ('010100110', (0.0031-0.002j)),\n",
       " ('010100111', (0.0068+0.011j)),\n",
       " ('010101000', (0.0003-0.0116j)),\n",
       " ('010101001', (0.0037+0.0001j)),\n",
       " ('010101010', (0.0029-0.0027j)),\n",
       " ('010101011', (0.0053+0.0057j)),\n",
       " ('010101100', (0.0023-0.005j)),\n",
       " ('010101101', (0.0043+0.0019j)),\n",
       " ('010101110', (0.0033-0.0013j)),\n",
       " ('010101111', (0.0149+0.0404j)),\n",
       " ('010110000', (-0.0013-0.0165j)),\n",
       " ('010110001', (0.0036-0.0002j)),\n",
       " ('010110010', (0.0028-0.0032j)),\n",
       " ('010110011', (0.0049+0.0043j)),\n",
       " ('010110100', (0.002-0.0059j)),\n",
       " ('010110101', (0.0041+0.0014j)),\n",
       " ('010110110', (0.0032-0.0016j)),\n",
       " ('010110111', (0.0087+0.0178j)),\n",
       " ('010111000', (0.0011-0.0088j)),\n",
       " ('010111001', (0.0038+0.0005j)),\n",
       " ('010111010', (0.003-0.0023j)),\n",
       " ('010111011', (0.0059+0.0077j)),\n",
       " ('010111100', (0.0025-0.0043j)),\n",
       " ('010111101', (0.0044+0.0026j)),\n",
       " ('010111110', (0.0034-0.0009j)),\n",
       " ('010111111', (-0.063-0.2456j)),\n",
       " ('011000000', (-0.0069-0.0425j)),\n",
       " ('011000001', (0.0035-0.0007j)),\n",
       " ('011000010', (0.0026-0.0038j)),\n",
       " ('011000011', (0.0046+0.0031j)),\n",
       " ('011000100', (0.0015-0.0075j)),\n",
       " ('011000101', (0.0039+0.0008j)),\n",
       " ('011000110', (0.0031-0.002j)),\n",
       " ('011000111', (0.0065+0.01j)),\n",
       " ('011001000', -0.0125j),\n",
       " ('011001001', (0.0037+0j)),\n",
       " ('011001010', (0.0029-0.0028j)),\n",
       " ('011001011', (0.0052+0.0053j)),\n",
       " ('011001100', (0.0022-0.0052j)),\n",
       " ('011001101', (0.0042+0.0018j)),\n",
       " ('011001110', (0.0033-0.0013j)),\n",
       " ('011001111', (0.0123+0.0309j)),\n",
       " ('011010000', (-0.002-0.0184j)),\n",
       " ('011010001', (0.0036-0.0003j)),\n",
       " ('011010010', (0.0028-0.0033j)),\n",
       " ('011010011', (0.0049+0.0041j)),\n",
       " ('011010100', (0.0019-0.0062j)),\n",
       " ('011010101', (0.0041+0.0013j)),\n",
       " ('011010110', (0.0032-0.0017j)),\n",
       " ('011010111', (0.008+0.0155j)),\n",
       " ('011011000', (0.001-0.0094j)),\n",
       " ('011011001', (0.0038+0.0004j)),\n",
       " ('011011010', (0.003-0.0024j)),\n",
       " ('011011011', (0.0057+0.0071j)),\n",
       " ('011011100', (0.0024-0.0045j)),\n",
       " ('011011101', (0.0044+0.0024j)),\n",
       " ('011011110', (0.0034-0.001j)),\n",
       " ('011011111', (0.0974+0.3422j)),\n",
       " ('011100000', (-0.0054-0.0193j)),\n",
       " ('011100001', (0.0036-0.0005j)),\n",
       " ('011100010', (0.0027-0.0036j)),\n",
       " ('011100011', (0.0047+0.0036j)),\n",
       " ('011100100', (0.0018-0.0068j)),\n",
       " ('011100101', (0.004+0.001j)),\n",
       " ('011100110', (0.0032-0.0019j)),\n",
       " ('011100111', (0.0071+0.0122j)),\n",
       " ('011101000', (0.0006-0.0107j)),\n",
       " ('011101001', (0.0038+0.0002j)),\n",
       " ('011101010', (0.003-0.0026j)),\n",
       " ('011101011', (0.0054+0.0061j)),\n",
       " ('011101100', (0.0023-0.0048j)),\n",
       " ('011101101', (0.0043+0.0021j)),\n",
       " ('011101110', (0.0034-0.0012j)),\n",
       " ('011101111', (0.0196+0.0577j)),\n",
       " ('011110000', (-0.0007-0.0149j)),\n",
       " ('011110001', (0.0037-0.0001j)),\n",
       " ('011110010', (0.0028-0.0031j)),\n",
       " ('011110011', (0.005+0.0046j)),\n",
       " ('011110100', (0.0021-0.0057j)),\n",
       " ('011110101', (0.0041+0.0015j)),\n",
       " ('011110110', (0.0033-0.0015j)),\n",
       " ('011110111', (0.0095+0.0208j)),\n",
       " ('011111000', (0.0013-0.0084j)),\n",
       " ('011111001', (0.0039+0.0006j)),\n",
       " ('011111010', (0.0031-0.0022j)),\n",
       " ('011111011', (0.0061+0.0084j)),\n",
       " ('011111100', (0.0025-0.0041j)),\n",
       " ('011111101', (0.0045+0.0027j)),\n",
       " ('011111110', (0.0035-0.0008j)),\n",
       " ('011111111', (-0.0209-0.0918j)),\n",
       " ('100000000', (-0.0113-0.0572j)),\n",
       " ('100000001', (0.0035-0.0007j)),\n",
       " ('100000010', (0.0026-0.004j)),\n",
       " ('100000011', (0.0045+0.0029j)),\n",
       " ('100000100', (0.0014-0.0079j)),\n",
       " ('100000101', (0.0039+0.0007j)),\n",
       " ('100000110', (0.0031-0.0021j)),\n",
       " ('100000111', (0.0063+0.0091j)),\n",
       " ('100001000', (-0.0003-0.0136j)),\n",
       " ('100001001', (0.0037-0.0001j)),\n",
       " ('100001010', (0.0029-0.003j)),\n",
       " ('100001011', (0.0051+0.005j)),\n",
       " ('100001100', (0.0021-0.0054j)),\n",
       " ('100001101', (0.0042+0.0017j)),\n",
       " ('100001110', (0.0033-0.0014j)),\n",
       " ('100001111', (0.0107+0.0249j)),\n",
       " ('100010000', (-0.003-0.0204j)),\n",
       " ('100010001', (0.0036-0.0004j)),\n",
       " ('100010010', (0.0027-0.0034j)),\n",
       " ('100010011', (0.0048+0.0038j)),\n",
       " ('100010100', (0.0018-0.0065j)),\n",
       " ('100010101', (0.004+0.0012j)),\n",
       " ('100010110', (0.0032-0.0018j)),\n",
       " ('100010111', (0.0075+0.0137j)),\n",
       " ('100011000', (0.0008-0.01j)),\n",
       " ('100011001', (0.0038+0.0003j)),\n",
       " ('100011010', (0.003-0.0025j)),\n",
       " ('100011011', (0.0056+0.0066j)),\n",
       " ('100011100', (0.0024-0.0046j)),\n",
       " ('100011101', (0.0043+0.0022j)),\n",
       " ('100011110', (0.0034-0.0011j)),\n",
       " ('100011111', (0.0311+0.0994j)),\n",
       " ('100100000', (-0.0037-0.037j)),\n",
       " ('100100001', (0.0035-0.0006j)),\n",
       " ('100100010', (0.0026-0.0037j)),\n",
       " ('100100011', (0.0046+0.0033j)),\n",
       " ('100100100', (0.0017-0.0071j)),\n",
       " ('100100101', (0.004+0.0009j)),\n",
       " ('100100110', (0.0031-0.002j)),\n",
       " ('100100111', (0.0068+0.011j)),\n",
       " ('100101000', (0.0003-0.0116j)),\n",
       " ('100101001', (0.0037+0.0001j)),\n",
       " ('100101010', (0.0029-0.0027j)),\n",
       " ('100101011', (0.0053+0.0057j)),\n",
       " ('100101100', (0.0023-0.005j)),\n",
       " ('100101101', (0.0043+0.0019j)),\n",
       " ('100101110', (0.0033-0.0013j)),\n",
       " ('100101111', (0.0149+0.0404j)),\n",
       " ('100110000', (-0.0013-0.0165j)),\n",
       " ('100110001', (0.0036-0.0002j)),\n",
       " ('100110010', (0.0028-0.0032j)),\n",
       " ('100110011', (0.0049+0.0043j)),\n",
       " ('100110100', (0.002-0.0059j)),\n",
       " ('100110101', (0.0041+0.0014j)),\n",
       " ('100110110', (0.0032-0.0016j)),\n",
       " ('100110111', (0.0087+0.0178j)),\n",
       " ('100111000', (0.0011-0.0088j)),\n",
       " ('100111001', (0.0038+0.0005j)),\n",
       " ('100111010', (0.003-0.0023j)),\n",
       " ('100111011', (0.0059+0.0077j)),\n",
       " ('100111100', (0.0025-0.0043j)),\n",
       " ('100111101', (0.0044+0.0026j)),\n",
       " ('100111110', (0.0034-0.0009j)),\n",
       " ('100111111', (-0.063-0.2456j)),\n",
       " ('101000000', (-0.0069-0.0425j)),\n",
       " ('101000001', (0.0035-0.0007j)),\n",
       " ('101000010', (0.0026-0.0038j)),\n",
       " ('101000011', (0.0046+0.0031j)),\n",
       " ('101000100', (0.0015-0.0075j)),\n",
       " ('101000101', (0.0039+0.0008j)),\n",
       " ('101000110', (0.0031-0.002j)),\n",
       " ('101000111', (0.0065+0.01j)),\n",
       " ('101001000', -0.0125j),\n",
       " ('101001001', (0.0037+0j)),\n",
       " ('101001010', (0.0029-0.0028j)),\n",
       " ('101001011', (0.0052+0.0053j)),\n",
       " ('101001100', (0.0022-0.0052j)),\n",
       " ('101001101', (0.0042+0.0018j)),\n",
       " ('101001110', (0.0033-0.0013j)),\n",
       " ('101001111', (0.0123+0.0309j)),\n",
       " ('101010000', (-0.002-0.0184j)),\n",
       " ('101010001', (0.0036-0.0003j)),\n",
       " ('101010010', (0.0028-0.0033j)),\n",
       " ('101010011', (0.0049+0.0041j)),\n",
       " ('101010100', (0.0019-0.0062j)),\n",
       " ('101010101', (0.0041+0.0013j)),\n",
       " ('101010110', (0.0032-0.0017j)),\n",
       " ('101010111', (0.008+0.0155j)),\n",
       " ('101011000', (0.001-0.0094j)),\n",
       " ('101011001', (0.0038+0.0004j)),\n",
       " ('101011010', (0.003-0.0024j)),\n",
       " ('101011011', (0.0057+0.0071j)),\n",
       " ('101011100', (0.0024-0.0045j)),\n",
       " ('101011101', (0.0044+0.0024j)),\n",
       " ('101011110', (0.0034-0.001j)),\n",
       " ('101011111', (0.0974+0.3422j)),\n",
       " ('101100000', (-0.0054-0.0193j)),\n",
       " ('101100001', (0.0036-0.0005j)),\n",
       " ('101100010', (0.0027-0.0036j)),\n",
       " ('101100011', (0.0047+0.0036j)),\n",
       " ('101100100', (0.0018-0.0068j)),\n",
       " ('101100101', (0.004+0.001j)),\n",
       " ('101100110', (0.0032-0.0019j)),\n",
       " ('101100111', (0.0071+0.0122j)),\n",
       " ('101101000', (0.0006-0.0107j)),\n",
       " ('101101001', (0.0038+0.0002j)),\n",
       " ('101101010', (0.003-0.0026j)),\n",
       " ('101101011', (0.0054+0.0061j)),\n",
       " ('101101100', (0.0023-0.0048j)),\n",
       " ('101101101', (0.0043+0.0021j)),\n",
       " ('101101110', (0.0034-0.0012j)),\n",
       " ('101101111', (0.0196+0.0577j)),\n",
       " ('101110000', (-0.0007-0.0149j)),\n",
       " ('101110001', (0.0037-0.0001j)),\n",
       " ('101110010', (0.0028-0.0031j)),\n",
       " ('101110011', (0.005+0.0046j)),\n",
       " ('101110100', (0.0021-0.0057j)),\n",
       " ('101110101', (0.0041+0.0015j)),\n",
       " ('101110110', (0.0033-0.0015j)),\n",
       " ('101110111', (0.0095+0.0208j)),\n",
       " ('101111000', (0.0013-0.0084j)),\n",
       " ('101111001', (0.0039+0.0006j)),\n",
       " ('101111010', (0.0031-0.0022j)),\n",
       " ('101111011', (0.0061+0.0084j)),\n",
       " ('101111100', (0.0025-0.0041j)),\n",
       " ('101111101', (0.0045+0.0027j)),\n",
       " ('101111110', (0.0035-0.0008j)),\n",
       " ('101111111', (-0.0209-0.0918j)),\n",
       " ('110000000', (-0.0091-0.0411j)),\n",
       " ('110000001', (0.0028-0.0005j)),\n",
       " ('110000010', (0.0021-0.0032j)),\n",
       " ('110000011', (0.0036+0.0024j)),\n",
       " ('110000100', (0.0014-0.0064j)),\n",
       " ('110000101', (0.0031+0.0006j)),\n",
       " ('110000110', (0.0025-0.0017j)),\n",
       " ('110000111', (0.0048+0.0073j)),\n",
       " ('110001000', (0.0002-0.0114j)),\n",
       " ('110001001', (0.0029+0j)),\n",
       " ('110001010', (0.0024-0.0023j)),\n",
       " ('110001011', (0.004+0.004j)),\n",
       " ('110001100', (0.0019-0.0043j)),\n",
       " ('110001101', (0.0033+0.0014j)),\n",
       " ('110001110', (0.0027-0.0011j)),\n",
       " ('110001111', (0.0081+0.0196j)),\n",
       " ('110010000', (-0.001-0.0198j)),\n",
       " ('110010001', (0.0029-0.0003j)),\n",
       " ('110010010', (0.0023-0.0027j)),\n",
       " ('110010011', (0.0037+0.0031j)),\n",
       " ('110010100', (0.0016-0.0052j)),\n",
       " ('110010101', (0.0032+0.001j)),\n",
       " ('110010110', (0.0026-0.0014j)),\n",
       " ('110010111', (0.0058+0.0109j)),\n",
       " ('110011000', (0.0009-0.0082j)),\n",
       " ('110011001', (0.003+0.0003j)),\n",
       " ('110011010', (0.0024-0.002j)),\n",
       " ('110011011', (0.0043+0.0053j)),\n",
       " ('110011100', (0.002-0.0037j)),\n",
       " ('110011101', (0.0034+0.0019j)),\n",
       " ('110011110', (0.0027-0.0008j)),\n",
       " ('110011111', (0.0235+0.0765j)),\n",
       " ('110100000', (-0.0055-0.0176j)),\n",
       " ('110100001', (0.0028-0.0004j)),\n",
       " ('110100010', (0.0022-0.0029j)),\n",
       " ('110100011', (0.0036+0.0027j)),\n",
       " ('110100100', (0.0015-0.0058j)),\n",
       " ('110100101', (0.0031+0.0008j)),\n",
       " ('110100110', (0.0026-0.0015j)),\n",
       " ('110100111', (0.0052+0.0088j)),\n",
       " ('110101000', (0.0006-0.0096j)),\n",
       " ('110101001', (0.003+0.0002j)),\n",
       " ('110101010', (0.0024-0.0021j)),\n",
       " ('110101011', (0.0041+0.0046j)),\n",
       " ('110101100', (0.0019-0.004j)),\n",
       " ('110101101', (0.0034+0.0016j)),\n",
       " ('110101110', (0.0027-0.0009j)),\n",
       " ('110101111', (0.0113+0.0314j)),\n",
       " ('110110000', (-0.0003-0.0143j)),\n",
       " ('110110001', (0.0029-0.0001j)),\n",
       " ('110110010', (0.0023-0.0025j)),\n",
       " ('110110011', (0.0038+0.0035j)),\n",
       " ('110110100', (0.0018-0.0047j)),\n",
       " ('110110101', (0.0032+0.0012j)),\n",
       " ('110110110', (0.0026-0.0012j)),\n",
       " ('110110111', (0.0066+0.0141j)),\n",
       " ('110111000', (0.0012-0.0072j)),\n",
       " ('110111001', (0.0031+0.0005j)),\n",
       " ('110111010', (0.0025-0.0018j)),\n",
       " ('110111011', (0.0045+0.0062j)),\n",
       " ('110111100', (0.0021-0.0034j)),\n",
       " ('110111101', (0.0035+0.0021j)),\n",
       " ('110111110', (0.0028-0.0007j)),\n",
       " ('110111111', (-0.0481-0.1853j)),\n",
       " ('111000000', (-0.0061-0.0284j)),\n",
       " ('111000001', (0.0028-0.0005j)),\n",
       " ('111000010', (0.0022-0.003j)),\n",
       " ('111000011', (0.0036+0.0026j)),\n",
       " ('111000100', (0.0014-0.0061j)),\n",
       " ('111000101', (0.0031+0.0007j)),\n",
       " ('111000110', (0.0025-0.0016j)),\n",
       " ('111000111', (0.005+0.008j)),\n",
       " ('111001000', (0.0004-0.0104j)),\n",
       " ('111001001', (0.003+0.0001j)),\n",
       " ('111001010', (0.0024-0.0022j)),\n",
       " ('111001011', (0.004+0.0043j)),\n",
       " ('111001100', (0.0019-0.0042j)),\n",
       " ('111001101', (0.0033+0.0015j)),\n",
       " ('111001110', (0.0027-0.001j)),\n",
       " ('111001111', (0.0093+0.0242j)),\n",
       " ('111010000', (-0.0007-0.0164j)),\n",
       " ('111010001', (0.0029-0.0002j)),\n",
       " ('111010010', (0.0023-0.0026j)),\n",
       " ('111010011', (0.0038+0.0033j)),\n",
       " ('111010100', (0.0017-0.005j)),\n",
       " ('111010101', (0.0032+0.0011j)),\n",
       " ('111010110', (0.0026-0.0013j)),\n",
       " ('111010111', (0.0061+0.0123j)),\n",
       " ('111011000', (0.0011-0.0077j)),\n",
       " ('111011001', (0.003+0.0004j)),\n",
       " ('111011010', (0.0025-0.0019j)),\n",
       " ('111011011', (0.0044+0.0057j)),\n",
       " ('111011100', (0.002-0.0035j)),\n",
       " ('111011101', (0.0034+0.002j)),\n",
       " ('111011110', (0.0028-0.0007j)),\n",
       " ('111011111', (0.0739+0.2612j)),\n",
       " ('111100000', -0.0293j),\n",
       " ('111100001', (0.0029-0.0003j)),\n",
       " ('111100010', (0.0022-0.0028j)),\n",
       " ('111100011', (0.0037+0.0029j)),\n",
       " ('111100100', (0.0016-0.0055j)),\n",
       " ('111100101', (0.0032+0.0009j)),\n",
       " ('111100110', (0.0026-0.0014j)),\n",
       " ('111100111', (0.0055+0.0097j)),\n",
       " ('111101000', (0.0008-0.0088j)),\n",
       " ('111101001', (0.003+0.0002j)),\n",
       " ('111101010', (0.0024-0.0021j)),\n",
       " ('111101011', (0.0042+0.0049j)),\n",
       " ('111101100', (0.002-0.0038j)),\n",
       " ('111101101', (0.0034+0.0017j)),\n",
       " ('111101110', (0.0027-0.0009j)),\n",
       " ('111101111', (0.0149+0.0447j)),\n",
       " ('111110000', (-0-0.0127j)),\n",
       " ('111110001', (0.0029-0.0001j)),\n",
       " ('111110010', (0.0023-0.0024j)),\n",
       " ('111110011', (0.0039+0.0038j)),\n",
       " ('111110100', (0.0018-0.0045j)),\n",
       " ('111110101', (0.0033+0.0013j)),\n",
       " ('111110110', (0.0026-0.0012j)),\n",
       " ('111110111', (0.0072+0.0164j)),\n",
       " ('111111000', (0.0013-0.0068j)),\n",
       " ('111111001', (0.0031+0.0006j)),\n",
       " ('111111010', (0.0025-0.0017j)),\n",
       " ('111111011', (0.0047+0.0067j)),\n",
       " ('111111100', (0.0021-0.0033j)),\n",
       " ('111111101', (0.0035+0.0023j)),\n",
       " ('111111110', (0.0028-0.0006j)),\n",
       " ('111111111', (-0.0162-0.068j))]"
      ]
     },
     "execution_count": 37,
     "metadata": {},
     "output_type": "execute_result"
    }
   ],
   "source": [
    "bitstrings=[''.join([''.join(str(j)) for j in i]) for i in list(map(list, itertools.product([0, 1], repeat=resolution+len(example_matrix1))))]\n",
    "ss=attach_bitstrings(statevector)\n",
    "ss"
   ]
  },
  {
   "cell_type": "code",
   "execution_count": 38,
   "metadata": {},
   "outputs": [
    {
     "data": {
      "text/plain": [
       "<AxesSubplot: xlabel='0'>"
      ]
     },
     "execution_count": 38,
     "metadata": {},
     "output_type": "execute_result"
    },
    {
     "data": {
      "image/png": "[encoded data removed]",
      "text/plain": [
       "<Figure size 432x288 with 1 Axes>"
      ]
     },
     "metadata": {
      "needs_background": "light"
     },
     "output_type": "display_data"
    }
   ],
   "source": [
    "import pandas as pd\n",
    "df=pd.DataFrame(ss)\n",
    "df['module']=df[1].apply(lambda x: x.real**2 + x.imag**2)\n",
    "df.set_index(0).module.plot(kind='bar')"
   ]
  },
  {
   "cell_type": "code",
   "execution_count": 39,
   "metadata": {},
   "outputs": [
    {
     "data": {
      "text/html": [
       "<div>\n",
       "<style scoped>\n",
       "    .dataframe tbody tr th:only-of-type {\n",
       "        vertical-align: middle;\n",
       "    }\n",
       "\n",
       "    .dataframe tbody tr th {\n",
       "        vertical-align: top;\n",
       "    }\n",
       "\n",
       "    .dataframe thead th {\n",
       "        text-align: right;\n",
       "    }\n",
       "</style>\n",
       "<table border=\"1\" class=\"dataframe\">\n",
       "  <thead>\n",
       "    <tr style=\"text-align: right;\">\n",
       "      <th></th>\n",
       "      <th>module</th>\n",
       "    </tr>\n",
       "    <tr>\n",
       "      <th>lambda</th>\n",
       "      <th></th>\n",
       "    </tr>\n",
       "  </thead>\n",
       "  <tbody>\n",
       "    <tr>\n",
       "      <th>0011110</th>\n",
       "      <td>0.000057</td>\n",
       "    </tr>\n",
       "    <tr>\n",
       "      <th>0111110</th>\n",
       "      <td>0.000057</td>\n",
       "    </tr>\n",
       "    <tr>\n",
       "      <th>0000001</th>\n",
       "      <td>0.000057</td>\n",
       "    </tr>\n",
       "    <tr>\n",
       "      <th>0100001</th>\n",
       "      <td>0.000057</td>\n",
       "    </tr>\n",
       "    <tr>\n",
       "      <th>1001110</th>\n",
       "      <td>0.000057</td>\n",
       "    </tr>\n",
       "    <tr>\n",
       "      <th>...</th>\n",
       "      <td>...</td>\n",
       "    </tr>\n",
       "    <tr>\n",
       "      <th>1101111</th>\n",
       "      <td>0.016196</td>\n",
       "    </tr>\n",
       "    <tr>\n",
       "      <th>1111111</th>\n",
       "      <td>0.037548</td>\n",
       "    </tr>\n",
       "    <tr>\n",
       "      <th>0011111</th>\n",
       "      <td>0.047109</td>\n",
       "    </tr>\n",
       "    <tr>\n",
       "      <th>0111111</th>\n",
       "      <td>0.275623</td>\n",
       "    </tr>\n",
       "    <tr>\n",
       "      <th>1011111</th>\n",
       "      <td>0.546892</td>\n",
       "    </tr>\n",
       "  </tbody>\n",
       "</table>\n",
       "<p>128 rows × 1 columns</p>\n",
       "</div>"
      ],
      "text/plain": [
       "           module\n",
       "lambda           \n",
       "0011110  0.000057\n",
       "0111110  0.000057\n",
       "0000001  0.000057\n",
       "0100001  0.000057\n",
       "1001110  0.000057\n",
       "...           ...\n",
       "1101111  0.016196\n",
       "1111111  0.037548\n",
       "0011111  0.047109\n",
       "0111111  0.275623\n",
       "1011111  0.546892\n",
       "\n",
       "[128 rows x 1 columns]"
      ]
     },
     "execution_count": 39,
     "metadata": {},
     "output_type": "execute_result"
    }
   ],
   "source": [
    "df['lambda']=df[0].apply(lambda x: x[-resolution:])\n",
    "df1=df.groupby('lambda').agg({'module':'sum'})\n",
    "#df1['module_new']=df1['module'].apply(lambda x: np.sqrt(x.real**2 + x.imag**2))\n",
    "df1.sort_values('module')"
   ]
  },
  {
   "cell_type": "code",
   "execution_count": 40,
   "metadata": {},
   "outputs": [
    {
     "data": {
      "text/html": [
       "<div>\n",
       "<style scoped>\n",
       "    .dataframe tbody tr th:only-of-type {\n",
       "        vertical-align: middle;\n",
       "    }\n",
       "\n",
       "    .dataframe tbody tr th {\n",
       "        vertical-align: top;\n",
       "    }\n",
       "\n",
       "    .dataframe thead th {\n",
       "        text-align: right;\n",
       "    }\n",
       "</style>\n",
       "<table border=\"1\" class=\"dataframe\">\n",
       "  <thead>\n",
       "    <tr style=\"text-align: right;\">\n",
       "      <th></th>\n",
       "      <th>state</th>\n",
       "      <th>st</th>\n",
       "      <th>module</th>\n",
       "      <th>lambda</th>\n",
       "    </tr>\n",
       "  </thead>\n",
       "  <tbody>\n",
       "    <tr>\n",
       "      <th>0</th>\n",
       "      <td>000000000</td>\n",
       "      <td>-0.0154-0.0729j</td>\n",
       "      <td>0.005552</td>\n",
       "      <td>0000000</td>\n",
       "    </tr>\n",
       "    <tr>\n",
       "      <th>1</th>\n",
       "      <td>000000001</td>\n",
       "      <td>0.0047-0.0010j</td>\n",
       "      <td>0.000023</td>\n",
       "      <td>0000001</td>\n",
       "    </tr>\n",
       "    <tr>\n",
       "      <th>2</th>\n",
       "      <td>000000010</td>\n",
       "      <td>0.0036-0.0054j</td>\n",
       "      <td>0.000042</td>\n",
       "      <td>0000010</td>\n",
       "    </tr>\n",
       "    <tr>\n",
       "      <th>3</th>\n",
       "      <td>000000011</td>\n",
       "      <td>0.0061+0.0040j</td>\n",
       "      <td>0.000053</td>\n",
       "      <td>0000011</td>\n",
       "    </tr>\n",
       "    <tr>\n",
       "      <th>4</th>\n",
       "      <td>000000100</td>\n",
       "      <td>0.0021-0.0108j</td>\n",
       "      <td>0.000121</td>\n",
       "      <td>0000100</td>\n",
       "    </tr>\n",
       "    <tr>\n",
       "      <th>...</th>\n",
       "      <td>...</td>\n",
       "      <td>...</td>\n",
       "      <td>...</td>\n",
       "      <td>...</td>\n",
       "    </tr>\n",
       "    <tr>\n",
       "      <th>507</th>\n",
       "      <td>111111011</td>\n",
       "      <td>0.0047+0.0067j</td>\n",
       "      <td>0.000067</td>\n",
       "      <td>1111011</td>\n",
       "    </tr>\n",
       "    <tr>\n",
       "      <th>508</th>\n",
       "      <td>111111100</td>\n",
       "      <td>0.0021-0.0033j</td>\n",
       "      <td>0.000015</td>\n",
       "      <td>1111100</td>\n",
       "    </tr>\n",
       "    <tr>\n",
       "      <th>509</th>\n",
       "      <td>111111101</td>\n",
       "      <td>0.0035+0.0023j</td>\n",
       "      <td>0.000018</td>\n",
       "      <td>1111101</td>\n",
       "    </tr>\n",
       "    <tr>\n",
       "      <th>510</th>\n",
       "      <td>111111110</td>\n",
       "      <td>0.0028-0.0006j</td>\n",
       "      <td>0.000008</td>\n",
       "      <td>1111110</td>\n",
       "    </tr>\n",
       "    <tr>\n",
       "      <th>511</th>\n",
       "      <td>111111111</td>\n",
       "      <td>-0.0162-0.0680j</td>\n",
       "      <td>0.004886</td>\n",
       "      <td>1111111</td>\n",
       "    </tr>\n",
       "  </tbody>\n",
       "</table>\n",
       "<p>512 rows × 4 columns</p>\n",
       "</div>"
      ],
      "text/plain": [
       "         state              st    module   lambda\n",
       "0    000000000 -0.0154-0.0729j  0.005552  0000000\n",
       "1    000000001  0.0047-0.0010j  0.000023  0000001\n",
       "2    000000010  0.0036-0.0054j  0.000042  0000010\n",
       "3    000000011  0.0061+0.0040j  0.000053  0000011\n",
       "4    000000100  0.0021-0.0108j  0.000121  0000100\n",
       "..         ...             ...       ...      ...\n",
       "507  111111011  0.0047+0.0067j  0.000067  1111011\n",
       "508  111111100  0.0021-0.0033j  0.000015  1111100\n",
       "509  111111101  0.0035+0.0023j  0.000018  1111101\n",
       "510  111111110  0.0028-0.0006j  0.000008  1111110\n",
       "511  111111111 -0.0162-0.0680j  0.004886  1111111\n",
       "\n",
       "[512 rows x 4 columns]"
      ]
     },
     "execution_count": 40,
     "metadata": {},
     "output_type": "execute_result"
    }
   ],
   "source": [
    "df.columns=['state','st','module','lambda']\n",
    "df"
   ]
  },
  {
   "cell_type": "code",
   "execution_count": 41,
   "metadata": {},
   "outputs": [],
   "source": [
    "a1=np.array(df.query(\"state.str.endswith('0111111')\")['module'].values)\n",
    "a_1_sqrt=np.sqrt(a1)"
   ]
  },
  {
   "cell_type": "code",
   "execution_count": 42,
   "metadata": {},
   "outputs": [],
   "source": [
    "a2=np.array(df.query(\"state.str.endswith('1011111')\")['module'].values)\n",
    "a_2_sqrt=np.sqrt(a2)"
   ]
  },
  {
   "cell_type": "code",
   "execution_count": 43,
   "metadata": {},
   "outputs": [
    {
     "data": {
      "text/plain": [
       "[array([0.33225969, 0.25355149, 0.25355149, 0.19144111]),\n",
       " array([0.46907366, 0.35579151, 0.35579151, 0.27145285])]"
      ]
     },
     "execution_count": 43,
     "metadata": {},
     "output_type": "execute_result"
    }
   ],
   "source": [
    "a=[a_1_sqrt,a_2_sqrt]\n",
    "#a=[a1,a2]\n",
    "a"
   ]
  },
  {
   "cell_type": "code",
   "execution_count": 44,
   "metadata": {},
   "outputs": [
    {
     "data": {
      "text/plain": [
       "(0.984375, 0.9765625)"
      ]
     },
     "execution_count": 44,
     "metadata": {},
     "output_type": "execute_result"
    }
   ],
   "source": [
    "int('0111111'[::-1],base=2)/(2**resolution),int('1011111'[::-1],base=2)/(2**resolution)"
   ]
  },
  {
   "cell_type": "code",
   "execution_count": 45,
   "metadata": {},
   "outputs": [
    {
     "data": {
      "text/plain": [
       "(array([0.9798062, 0.0201938]),\n",
       " array([[ 0.796112 , -0.6051493],\n",
       "        [ 0.6051493,  0.796112 ]]))"
      ]
     },
     "execution_count": 45,
     "metadata": {},
     "output_type": "execute_result"
    }
   ],
   "source": [
    "np.linalg.eig(example_matrix1)"
   ]
  },
  {
   "cell_type": "code",
   "execution_count": 487,
   "metadata": {},
   "outputs": [
    {
     "name": "stdout",
     "output_type": "stream",
     "text": [
      "[0.10945401 0.15213366 0.15213366 0.21163426]\n",
      "3.114999685709786\n",
      "[array([0.3409492 , 0.4738963 , 0.4738963 , 0.65924065]), array([0.30252988, 0.4208413 , 0.4208413 , 0.58542429])]\n",
      "[0.30252988 0.4208413  0.4208413  0.58542429]\n",
      "1.1261855901192184\n",
      "[array([0.3409492 , 0.4738963 , 0.4738963 , 0.65924065]), array([0.34070479, 0.47394541, 0.47394541, 0.6592964 ])]\n"
     ]
    }
   ],
   "source": [
    "for i in a:\n",
    "    print(i)\n",
    "    normalization_factor=np.sqrt((1/(sum(i**2))))\n",
    "    print(normalization_factor)\n",
    "    i*=normalization_factor\n",
    "    print(a)"
   ]
  },
  {
   "cell_type": "code",
   "execution_count": 454,
   "metadata": {},
   "outputs": [
    {
     "data": {
      "text/plain": [
       "0.5770583944023632"
      ]
     },
     "execution_count": 454,
     "metadata": {},
     "output_type": "execute_result"
    }
   ],
   "source": [
    "np.sqrt(0.66233483)*(0.46963295/0.66233483)"
   ]
  },
  {
   "cell_type": "markdown",
   "metadata": {},
   "source": [
    "$$\\left|00\\right\\rangle(0.34722835|00\\rangle+0.46924342|01\\rangle+0.46924342|10\\rangle+0.66261128|11\\rangle) =$$\n",
    "\n",
    "$$\\left|00\\right\\rangle(0.46924342|0\\rangle(0.7399|0\\rangle+|1\\rangle)+0.66261|1\\rangle(0.70|0\\rangle+|1\\rangle)) =$$\n",
    "\n",
    "$$\\sqrt{0.66261}=0.8140 -> posizione 1$$ \n",
    "\n",
    "$$0.8140*0.70=0.569 -> posizione 0$$\n",
    "\n",
    "\n",
    "$$\\left|11\\right\\rangle(0.33486214|00\\rangle+0.47763248|01\\rangle+0.47763248|10\\rangle+0.65696406|11\\rangle) =$$\n",
    "\n",
    "$$\\left|11\\right\\rangle(0.47763248|0\\rangle(0.70|0\\rangle+|1\\rangle)+0.65696406|1\\rangle(0.72|0\\rangle+|1\\rangle)) =$$\n",
    "\n",
    "$$\\sqrt{0.65696406}=0.8105 -> posizione 1$$ \n",
    "\n",
    "$$0.8140*0.70=0.58 -> posizione 0$$\n",
    "\n",
    "\n",
    "\n",
    "\n",
    "seed=1234"
   ]
  },
  {
   "cell_type": "code",
   "execution_count": 516,
   "metadata": {},
   "outputs": [
    {
     "data": {
      "text/plain": [
       "(array([0.0098868, 0.9901132]),\n",
       " array([[-0.81195046, -0.58372635],\n",
       "        [ 0.58372635, -0.81195046]]))"
      ]
     },
     "execution_count": 516,
     "metadata": {},
     "output_type": "execute_result"
    }
   ],
   "source": [
    "np.linalg.eig(example_matrix1)"
   ]
  },
  {
   "cell_type": "markdown",
   "metadata": {},
   "source": [
    "# Second example (seed=14)"
   ]
  },
  {
   "cell_type": "code",
   "execution_count": 60,
   "metadata": {},
   "outputs": [],
   "source": [
    "bitstrings=[''.join([''.join(str(j)) for j in i]) for i in list(map(list, itertools.product([0, 1], repeat=resolution+len(example_matrix1))))]\n",
    "ss=attach_bitstrings(statevector)\n",
    "#ss"
   ]
  },
  {
   "cell_type": "code",
   "execution_count": 61,
   "metadata": {},
   "outputs": [
    {
     "data": {
      "text/plain": [
       "<AxesSubplot: xlabel='0'>"
      ]
     },
     "execution_count": 61,
     "metadata": {},
     "output_type": "execute_result"
    },
    {
     "data": {
      "image/png": "[encoded data removed]",
      "text/plain": [
       "<Figure size 1440x1080 with 1 Axes>"
      ]
     },
     "metadata": {
      "needs_background": "light"
     },
     "output_type": "display_data"
    }
   ],
   "source": [
    "import pandas as pd\n",
    "df=pd.DataFrame(ss)\n",
    "df['module']=df[1].apply(lambda x: x.real**2 + x.imag**2)\n",
    "df.set_index(0).module.plot(kind='bar',figsize=(20,15))"
   ]
  },
  {
   "cell_type": "code",
   "execution_count": 62,
   "metadata": {},
   "outputs": [
    {
     "data": {
      "text/html": [
       "<div>\n",
       "<style scoped>\n",
       "    .dataframe tbody tr th:only-of-type {\n",
       "        vertical-align: middle;\n",
       "    }\n",
       "\n",
       "    .dataframe tbody tr th {\n",
       "        vertical-align: top;\n",
       "    }\n",
       "\n",
       "    .dataframe thead th {\n",
       "        text-align: right;\n",
       "    }\n",
       "</style>\n",
       "<table border=\"1\" class=\"dataframe\">\n",
       "  <thead>\n",
       "    <tr style=\"text-align: right;\">\n",
       "      <th></th>\n",
       "      <th>0</th>\n",
       "      <th>1</th>\n",
       "      <th>module</th>\n",
       "    </tr>\n",
       "  </thead>\n",
       "  <tbody>\n",
       "    <tr>\n",
       "      <th>0</th>\n",
       "      <td>000000000</td>\n",
       "      <td>-0.0012-0.0011j</td>\n",
       "      <td>0.000003</td>\n",
       "    </tr>\n",
       "    <tr>\n",
       "      <th>1</th>\n",
       "      <td>000000001</td>\n",
       "      <td>0.0014-0.0006j</td>\n",
       "      <td>0.000002</td>\n",
       "    </tr>\n",
       "    <tr>\n",
       "      <th>2</th>\n",
       "      <td>000000010</td>\n",
       "      <td>0.0025-0.0014j</td>\n",
       "      <td>0.000008</td>\n",
       "    </tr>\n",
       "    <tr>\n",
       "      <th>3</th>\n",
       "      <td>000000011</td>\n",
       "      <td>0.0106+0.0019j</td>\n",
       "      <td>0.000116</td>\n",
       "    </tr>\n",
       "    <tr>\n",
       "      <th>4</th>\n",
       "      <td>000000100</td>\n",
       "      <td>-0.0010-0.0007j</td>\n",
       "      <td>0.000001</td>\n",
       "    </tr>\n",
       "    <tr>\n",
       "      <th>...</th>\n",
       "      <td>...</td>\n",
       "      <td>...</td>\n",
       "      <td>...</td>\n",
       "    </tr>\n",
       "    <tr>\n",
       "      <th>507</th>\n",
       "      <td>111111011</td>\n",
       "      <td>-0.0028-0.0013j</td>\n",
       "      <td>0.000010</td>\n",
       "    </tr>\n",
       "    <tr>\n",
       "      <th>508</th>\n",
       "      <td>111111100</td>\n",
       "      <td>0.0040-0.0016j</td>\n",
       "      <td>0.000019</td>\n",
       "    </tr>\n",
       "    <tr>\n",
       "      <th>509</th>\n",
       "      <td>111111101</td>\n",
       "      <td>0.0068+0.0012j</td>\n",
       "      <td>0.000048</td>\n",
       "    </tr>\n",
       "    <tr>\n",
       "      <th>510</th>\n",
       "      <td>111111110</td>\n",
       "      <td>0.0012-0.0004j</td>\n",
       "      <td>0.000002</td>\n",
       "    </tr>\n",
       "    <tr>\n",
       "      <th>511</th>\n",
       "      <td>111111111</td>\n",
       "      <td>-0.0011-0.0007j</td>\n",
       "      <td>0.000002</td>\n",
       "    </tr>\n",
       "  </tbody>\n",
       "</table>\n",
       "<p>512 rows × 3 columns</p>\n",
       "</div>"
      ],
      "text/plain": [
       "             0               1    module\n",
       "0    000000000 -0.0012-0.0011j  0.000003\n",
       "1    000000001  0.0014-0.0006j  0.000002\n",
       "2    000000010  0.0025-0.0014j  0.000008\n",
       "3    000000011  0.0106+0.0019j  0.000116\n",
       "4    000000100 -0.0010-0.0007j  0.000001\n",
       "..         ...             ...       ...\n",
       "507  111111011 -0.0028-0.0013j  0.000010\n",
       "508  111111100  0.0040-0.0016j  0.000019\n",
       "509  111111101  0.0068+0.0012j  0.000048\n",
       "510  111111110  0.0012-0.0004j  0.000002\n",
       "511  111111111 -0.0011-0.0007j  0.000002\n",
       "\n",
       "[512 rows x 3 columns]"
      ]
     },
     "execution_count": 62,
     "metadata": {},
     "output_type": "execute_result"
    }
   ],
   "source": [
    "df"
   ]
  },
  {
   "cell_type": "code",
   "execution_count": 63,
   "metadata": {},
   "outputs": [
    {
     "data": {
      "text/html": [
       "<div>\n",
       "<style scoped>\n",
       "    .dataframe tbody tr th:only-of-type {\n",
       "        vertical-align: middle;\n",
       "    }\n",
       "\n",
       "    .dataframe tbody tr th {\n",
       "        vertical-align: top;\n",
       "    }\n",
       "\n",
       "    .dataframe thead th {\n",
       "        text-align: right;\n",
       "    }\n",
       "</style>\n",
       "<table border=\"1\" class=\"dataframe\">\n",
       "  <thead>\n",
       "    <tr style=\"text-align: right;\">\n",
       "      <th></th>\n",
       "      <th>module</th>\n",
       "    </tr>\n",
       "    <tr>\n",
       "      <th>lambda</th>\n",
       "      <th></th>\n",
       "    </tr>\n",
       "  </thead>\n",
       "  <tbody>\n",
       "    <tr>\n",
       "      <th>1110110</th>\n",
       "      <td>0.000005</td>\n",
       "    </tr>\n",
       "    <tr>\n",
       "      <th>1010110</th>\n",
       "      <td>0.000005</td>\n",
       "    </tr>\n",
       "    <tr>\n",
       "      <th>0000110</th>\n",
       "      <td>0.000005</td>\n",
       "    </tr>\n",
       "    <tr>\n",
       "      <th>1000110</th>\n",
       "      <td>0.000005</td>\n",
       "    </tr>\n",
       "    <tr>\n",
       "      <th>1111010</th>\n",
       "      <td>0.000005</td>\n",
       "    </tr>\n",
       "    <tr>\n",
       "      <th>...</th>\n",
       "      <td>...</td>\n",
       "    </tr>\n",
       "    <tr>\n",
       "      <th>0110011</th>\n",
       "      <td>0.001647</td>\n",
       "    </tr>\n",
       "    <tr>\n",
       "      <th>1100011</th>\n",
       "      <td>0.005189</td>\n",
       "    </tr>\n",
       "    <tr>\n",
       "      <th>1010011</th>\n",
       "      <td>0.007192</td>\n",
       "    </tr>\n",
       "    <tr>\n",
       "      <th>0011100</th>\n",
       "      <td>0.070634</td>\n",
       "    </tr>\n",
       "    <tr>\n",
       "      <th>0010011</th>\n",
       "      <td>0.907562</td>\n",
       "    </tr>\n",
       "  </tbody>\n",
       "</table>\n",
       "<p>128 rows × 1 columns</p>\n",
       "</div>"
      ],
      "text/plain": [
       "           module\n",
       "lambda           \n",
       "1110110  0.000005\n",
       "1010110  0.000005\n",
       "0000110  0.000005\n",
       "1000110  0.000005\n",
       "1111010  0.000005\n",
       "...           ...\n",
       "0110011  0.001647\n",
       "1100011  0.005189\n",
       "1010011  0.007192\n",
       "0011100  0.070634\n",
       "0010011  0.907562\n",
       "\n",
       "[128 rows x 1 columns]"
      ]
     },
     "execution_count": 63,
     "metadata": {},
     "output_type": "execute_result"
    }
   ],
   "source": [
    "df['lambda']=df[0].apply(lambda x: x[-resolution:])\n",
    "df1=df.groupby('lambda').agg({'module':'sum'})\n",
    "#df1['module_new']=df1['module'].apply(lambda x: np.sqrt(x.real**2 + x.imag**2))\n",
    "df1.sort_values('module')"
   ]
  },
  {
   "cell_type": "code",
   "execution_count": 64,
   "metadata": {},
   "outputs": [
    {
     "data": {
      "text/html": [
       "<div>\n",
       "<style scoped>\n",
       "    .dataframe tbody tr th:only-of-type {\n",
       "        vertical-align: middle;\n",
       "    }\n",
       "\n",
       "    .dataframe tbody tr th {\n",
       "        vertical-align: top;\n",
       "    }\n",
       "\n",
       "    .dataframe thead th {\n",
       "        text-align: right;\n",
       "    }\n",
       "</style>\n",
       "<table border=\"1\" class=\"dataframe\">\n",
       "  <thead>\n",
       "    <tr style=\"text-align: right;\">\n",
       "      <th></th>\n",
       "      <th>state</th>\n",
       "      <th>st</th>\n",
       "      <th>module</th>\n",
       "      <th>lambda</th>\n",
       "    </tr>\n",
       "  </thead>\n",
       "  <tbody>\n",
       "    <tr>\n",
       "      <th>0</th>\n",
       "      <td>000000000</td>\n",
       "      <td>-0.0012-0.0011j</td>\n",
       "      <td>0.000003</td>\n",
       "      <td>0000000</td>\n",
       "    </tr>\n",
       "    <tr>\n",
       "      <th>1</th>\n",
       "      <td>000000001</td>\n",
       "      <td>0.0014-0.0006j</td>\n",
       "      <td>0.000002</td>\n",
       "      <td>0000001</td>\n",
       "    </tr>\n",
       "    <tr>\n",
       "      <th>2</th>\n",
       "      <td>000000010</td>\n",
       "      <td>0.0025-0.0014j</td>\n",
       "      <td>0.000008</td>\n",
       "      <td>0000010</td>\n",
       "    </tr>\n",
       "    <tr>\n",
       "      <th>3</th>\n",
       "      <td>000000011</td>\n",
       "      <td>0.0106+0.0019j</td>\n",
       "      <td>0.000116</td>\n",
       "      <td>0000011</td>\n",
       "    </tr>\n",
       "    <tr>\n",
       "      <th>4</th>\n",
       "      <td>000000100</td>\n",
       "      <td>-0.0010-0.0007j</td>\n",
       "      <td>0.000001</td>\n",
       "      <td>0000100</td>\n",
       "    </tr>\n",
       "    <tr>\n",
       "      <th>...</th>\n",
       "      <td>...</td>\n",
       "      <td>...</td>\n",
       "      <td>...</td>\n",
       "      <td>...</td>\n",
       "    </tr>\n",
       "    <tr>\n",
       "      <th>507</th>\n",
       "      <td>111111011</td>\n",
       "      <td>-0.0028-0.0013j</td>\n",
       "      <td>0.000010</td>\n",
       "      <td>1111011</td>\n",
       "    </tr>\n",
       "    <tr>\n",
       "      <th>508</th>\n",
       "      <td>111111100</td>\n",
       "      <td>0.0040-0.0016j</td>\n",
       "      <td>0.000019</td>\n",
       "      <td>1111100</td>\n",
       "    </tr>\n",
       "    <tr>\n",
       "      <th>509</th>\n",
       "      <td>111111101</td>\n",
       "      <td>0.0068+0.0012j</td>\n",
       "      <td>0.000048</td>\n",
       "      <td>1111101</td>\n",
       "    </tr>\n",
       "    <tr>\n",
       "      <th>510</th>\n",
       "      <td>111111110</td>\n",
       "      <td>0.0012-0.0004j</td>\n",
       "      <td>0.000002</td>\n",
       "      <td>1111110</td>\n",
       "    </tr>\n",
       "    <tr>\n",
       "      <th>511</th>\n",
       "      <td>111111111</td>\n",
       "      <td>-0.0011-0.0007j</td>\n",
       "      <td>0.000002</td>\n",
       "      <td>1111111</td>\n",
       "    </tr>\n",
       "  </tbody>\n",
       "</table>\n",
       "<p>512 rows × 4 columns</p>\n",
       "</div>"
      ],
      "text/plain": [
       "         state              st    module   lambda\n",
       "0    000000000 -0.0012-0.0011j  0.000003  0000000\n",
       "1    000000001  0.0014-0.0006j  0.000002  0000001\n",
       "2    000000010  0.0025-0.0014j  0.000008  0000010\n",
       "3    000000011  0.0106+0.0019j  0.000116  0000011\n",
       "4    000000100 -0.0010-0.0007j  0.000001  0000100\n",
       "..         ...             ...       ...      ...\n",
       "507  111111011 -0.0028-0.0013j  0.000010  1111011\n",
       "508  111111100  0.0040-0.0016j  0.000019  1111100\n",
       "509  111111101  0.0068+0.0012j  0.000048  1111101\n",
       "510  111111110  0.0012-0.0004j  0.000002  1111110\n",
       "511  111111111 -0.0011-0.0007j  0.000002  1111111\n",
       "\n",
       "[512 rows x 4 columns]"
      ]
     },
     "execution_count": 64,
     "metadata": {},
     "output_type": "execute_result"
    }
   ],
   "source": [
    "df.columns=['state','st','module','lambda']\n",
    "df"
   ]
  },
  {
   "cell_type": "code",
   "execution_count": 67,
   "metadata": {},
   "outputs": [
    {
     "data": {
      "text/html": [
       "<div>\n",
       "<style scoped>\n",
       "    .dataframe tbody tr th:only-of-type {\n",
       "        vertical-align: middle;\n",
       "    }\n",
       "\n",
       "    .dataframe tbody tr th {\n",
       "        vertical-align: top;\n",
       "    }\n",
       "\n",
       "    .dataframe thead th {\n",
       "        text-align: right;\n",
       "    }\n",
       "</style>\n",
       "<table border=\"1\" class=\"dataframe\">\n",
       "  <thead>\n",
       "    <tr style=\"text-align: right;\">\n",
       "      <th></th>\n",
       "      <th>state</th>\n",
       "      <th>st</th>\n",
       "      <th>module</th>\n",
       "      <th>lambda</th>\n",
       "    </tr>\n",
       "  </thead>\n",
       "  <tbody>\n",
       "    <tr>\n",
       "      <th>28</th>\n",
       "      <td>000011100</td>\n",
       "      <td>0.1140-0.0307j</td>\n",
       "      <td>0.013938</td>\n",
       "      <td>0011100</td>\n",
       "    </tr>\n",
       "    <tr>\n",
       "      <th>156</th>\n",
       "      <td>010011100</td>\n",
       "      <td>-0.1277+0.0323j</td>\n",
       "      <td>0.017351</td>\n",
       "      <td>0011100</td>\n",
       "    </tr>\n",
       "    <tr>\n",
       "      <th>284</th>\n",
       "      <td>100011100</td>\n",
       "      <td>-0.1277+0.0323j</td>\n",
       "      <td>0.017351</td>\n",
       "      <td>0011100</td>\n",
       "    </tr>\n",
       "    <tr>\n",
       "      <th>412</th>\n",
       "      <td>110011100</td>\n",
       "      <td>0.1433-0.0382j</td>\n",
       "      <td>0.021994</td>\n",
       "      <td>0011100</td>\n",
       "    </tr>\n",
       "  </tbody>\n",
       "</table>\n",
       "</div>"
      ],
      "text/plain": [
       "         state              st    module   lambda\n",
       "28   000011100  0.1140-0.0307j  0.013938  0011100\n",
       "156  010011100 -0.1277+0.0323j  0.017351  0011100\n",
       "284  100011100 -0.1277+0.0323j  0.017351  0011100\n",
       "412  110011100  0.1433-0.0382j  0.021994  0011100"
      ]
     },
     "execution_count": 67,
     "metadata": {},
     "output_type": "execute_result"
    }
   ],
   "source": [
    "df.query(\"state.str.endswith('0011100')\")"
   ]
  },
  {
   "cell_type": "code",
   "execution_count": 69,
   "metadata": {},
   "outputs": [
    {
     "data": {
      "text/html": [
       "<div>\n",
       "<style scoped>\n",
       "    .dataframe tbody tr th:only-of-type {\n",
       "        vertical-align: middle;\n",
       "    }\n",
       "\n",
       "    .dataframe tbody tr th {\n",
       "        vertical-align: top;\n",
       "    }\n",
       "\n",
       "    .dataframe thead th {\n",
       "        text-align: right;\n",
       "    }\n",
       "</style>\n",
       "<table border=\"1\" class=\"dataframe\">\n",
       "  <thead>\n",
       "    <tr style=\"text-align: right;\">\n",
       "      <th></th>\n",
       "      <th>state</th>\n",
       "      <th>st</th>\n",
       "      <th>module</th>\n",
       "      <th>lambda</th>\n",
       "    </tr>\n",
       "  </thead>\n",
       "  <tbody>\n",
       "    <tr>\n",
       "      <th>19</th>\n",
       "      <td>000010011</td>\n",
       "      <td>0.5136+0.1340j</td>\n",
       "      <td>0.281741</td>\n",
       "      <td>0010011</td>\n",
       "    </tr>\n",
       "    <tr>\n",
       "      <th>147</th>\n",
       "      <td>010010011</td>\n",
       "      <td>0.4579+0.1190j</td>\n",
       "      <td>0.223833</td>\n",
       "      <td>0010011</td>\n",
       "    </tr>\n",
       "    <tr>\n",
       "      <th>275</th>\n",
       "      <td>100010011</td>\n",
       "      <td>0.4579+0.1190j</td>\n",
       "      <td>0.223833</td>\n",
       "      <td>0010011</td>\n",
       "    </tr>\n",
       "    <tr>\n",
       "      <th>403</th>\n",
       "      <td>110010011</td>\n",
       "      <td>0.4084+0.1066j</td>\n",
       "      <td>0.178154</td>\n",
       "      <td>0010011</td>\n",
       "    </tr>\n",
       "  </tbody>\n",
       "</table>\n",
       "</div>"
      ],
      "text/plain": [
       "         state              st    module   lambda\n",
       "19   000010011  0.5136+0.1340j  0.281741  0010011\n",
       "147  010010011  0.4579+0.1190j  0.223833  0010011\n",
       "275  100010011  0.4579+0.1190j  0.223833  0010011\n",
       "403  110010011  0.4084+0.1066j  0.178154  0010011"
      ]
     },
     "execution_count": 69,
     "metadata": {},
     "output_type": "execute_result"
    }
   ],
   "source": [
    "df.query(\"state.str.endswith('0010011')\")"
   ]
  },
  {
   "cell_type": "code",
   "execution_count": 71,
   "metadata": {},
   "outputs": [],
   "source": [
    "a1=np.array(df.query(\"state.str.endswith('0011100')\")['module'].values)\n",
    "a1,sum(a1)\n",
    "a_1_sqrt=np.sqrt(a1)"
   ]
  },
  {
   "cell_type": "code",
   "execution_count": 72,
   "metadata": {},
   "outputs": [],
   "source": [
    "a2=np.array(df.query(\"state.str.endswith('0010011')\")['module'].values)\n",
    "a2,sum(a2)\n",
    "a_2_sqrt=np.sqrt(a2)"
   ]
  },
  {
   "cell_type": "code",
   "execution_count": 73,
   "metadata": {},
   "outputs": [
    {
     "data": {
      "text/plain": [
       "[array([0.11806138, 0.1317216 , 0.1317216 , 0.14830418]),\n",
       " array([0.53079277, 0.47311036, 0.47311036, 0.42208307])]"
      ]
     },
     "execution_count": 73,
     "metadata": {},
     "output_type": "execute_result"
    }
   ],
   "source": [
    "a=[a_1_sqrt,a_2_sqrt]\n",
    "#a=[a1,a2]\n",
    "a"
   ]
  },
  {
   "cell_type": "code",
   "execution_count": 74,
   "metadata": {},
   "outputs": [
    {
     "data": {
      "text/plain": [
       "(0.21875, 0.78125)"
      ]
     },
     "execution_count": 74,
     "metadata": {},
     "output_type": "execute_result"
    }
   ],
   "source": [
    "int('0011100'[::-1],base=2)/(2**resolution),int('0010011'[::-1],base=2)/(2**resolution)"
   ]
  },
  {
   "cell_type": "code",
   "execution_count": 75,
   "metadata": {},
   "outputs": [
    {
     "data": {
      "text/plain": [
       "(array([0.78188847, 0.21811153]),\n",
       " array([[ 0.7463677 , -0.66553381],\n",
       "        [ 0.66553381,  0.7463677 ]]))"
      ]
     },
     "execution_count": 75,
     "metadata": {},
     "output_type": "execute_result"
    }
   ],
   "source": [
    "np.linalg.eig(example_matrix1)"
   ]
  },
  {
   "cell_type": "code",
   "execution_count": 357,
   "metadata": {},
   "outputs": [
    {
     "name": "stdout",
     "output_type": "stream",
     "text": [
      "[0.38706612 0.34515869 0.34515869 0.30779036]\n",
      "1.4391481917317492\n",
      "[array([0.5570455 , 0.49673451, 0.49673451, 0.44295594]), array([0.16249386, 0.18244004, 0.18244004, 0.20437186])]\n",
      "[0.16249386 0.18244004 0.18244004 0.20437186]\n",
      "2.7242712973456475\n",
      "[array([0.5570455 , 0.49673451, 0.49673451, 0.44295594]), array([0.44267737, 0.49701617, 0.49701617, 0.55676439])]\n"
     ]
    }
   ],
   "source": [
    "for i in a:\n",
    "    print(i)\n",
    "    normalization_factor=np.sqrt((1/(sum(i**2))))\n",
    "    print(normalization_factor)\n",
    "    i*=normalization_factor\n",
    "    print(a)"
   ]
  },
  {
   "cell_type": "markdown",
   "metadata": {},
   "source": [
    "$$\\left|11100\\right\\rangle(0.44267737|00\\rangle+0.49701617|01\\rangle+0.49701617|10\\rangle+0.55676439|11\\rangle) =$$\n",
    "\n",
    "$$\\left|11100\\right\\rangle(0.49701617|0\\rangle(0.89|0\\rangle+|1\\rangle)+0.55676439|1\\rangle(0.89|0\\rangle+|1\\rangle)) =$$\n",
    "\n",
    "$$\\sqrt{0.55676439}=0.7461 -> posizione 1$$ \n",
    "\n",
    "$$0.7461*0.89=0.66609 -> posizione 0$$\n",
    "\n",
    "\n",
    "\n",
    "$$\\left|10011\\right\\rangle(0.5570455|00\\rangle+0.49673451|01\\rangle+0.49673451|10\\rangle+0.44295594|11\\rangle) =$$\n",
    "\n",
    "$$\\left|10011\\right\\rangle(0.5570455|0\\rangle(|0\\rangle+0.89|1\\rangle)+0.49673451|1\\rangle(|0\\rangle+0.89|1\\rangle)) =$$\n",
    "\n",
    "$$\\sqrt{0.5570455}=0.7463 -> posizione 0$$ \n",
    "\n",
    "$$0.788*0.63=0.6642 -> posizione 1$$\n",
    "\n",
    "\n",
    "\n",
    "\n",
    "seed=14"
   ]
  },
  {
   "cell_type": "code",
   "execution_count": 197,
   "metadata": {},
   "outputs": [
    {
     "data": {
      "text/plain": [
       "(array([0.78188847, 0.21811153]),\n",
       " array([[ 0.7463677 , -0.66553381],\n",
       "        [ 0.66553381,  0.7463677 ]]))"
      ]
     },
     "execution_count": 197,
     "metadata": {},
     "output_type": "execute_result"
    }
   ],
   "source": [
    "np.linalg.eig(example_matrix1)"
   ]
  },
  {
   "cell_type": "markdown",
   "metadata": {},
   "source": [
    "# 3 example (seed=26)"
   ]
  },
  {
   "cell_type": "code",
   "execution_count": 207,
   "metadata": {},
   "outputs": [],
   "source": [
    "bitstrings=[''.join([''.join(str(j)) for j in i]) for i in list(map(list, itertools.product([0, 1], repeat=resolution+len(example_matrix2))))]\n",
    "ss=attach_bitstrings(statevector)\n",
    "#ss"
   ]
  },
  {
   "cell_type": "code",
   "execution_count": 208,
   "metadata": {},
   "outputs": [],
   "source": [
    "df=pd.DataFrame(ss)\n",
    "df['module']=df[1].apply(lambda x: x.real**2 + x.imag**2)\n",
    "#df.set_index(0).module.plot(kind='bar')"
   ]
  },
  {
   "cell_type": "code",
   "execution_count": 209,
   "metadata": {},
   "outputs": [
    {
     "data": {
      "text/html": [
       "<div>\n",
       "<style scoped>\n",
       "    .dataframe tbody tr th:only-of-type {\n",
       "        vertical-align: middle;\n",
       "    }\n",
       "\n",
       "    .dataframe tbody tr th {\n",
       "        vertical-align: top;\n",
       "    }\n",
       "\n",
       "    .dataframe thead th {\n",
       "        text-align: right;\n",
       "    }\n",
       "</style>\n",
       "<table border=\"1\" class=\"dataframe\">\n",
       "  <thead>\n",
       "    <tr style=\"text-align: right;\">\n",
       "      <th></th>\n",
       "      <th>module</th>\n",
       "    </tr>\n",
       "    <tr>\n",
       "      <th>lambda</th>\n",
       "      <th></th>\n",
       "    </tr>\n",
       "  </thead>\n",
       "  <tbody>\n",
       "    <tr>\n",
       "      <th>110001110</th>\n",
       "      <td>0.000001</td>\n",
       "    </tr>\n",
       "    <tr>\n",
       "      <th>001001110</th>\n",
       "      <td>0.000001</td>\n",
       "    </tr>\n",
       "    <tr>\n",
       "      <th>011001010</th>\n",
       "      <td>0.000001</td>\n",
       "    </tr>\n",
       "    <tr>\n",
       "      <th>101001010</th>\n",
       "      <td>0.000001</td>\n",
       "    </tr>\n",
       "    <tr>\n",
       "      <th>100100110</th>\n",
       "      <td>0.000001</td>\n",
       "    </tr>\n",
       "    <tr>\n",
       "      <th>...</th>\n",
       "      <td>...</td>\n",
       "    </tr>\n",
       "    <tr>\n",
       "      <th>110100111</th>\n",
       "      <td>0.010673</td>\n",
       "    </tr>\n",
       "    <tr>\n",
       "      <th>110011000</th>\n",
       "      <td>0.010683</td>\n",
       "    </tr>\n",
       "    <tr>\n",
       "      <th>011100111</th>\n",
       "      <td>0.024000</td>\n",
       "    </tr>\n",
       "    <tr>\n",
       "      <th>001100111</th>\n",
       "      <td>0.054043</td>\n",
       "    </tr>\n",
       "    <tr>\n",
       "      <th>101100111</th>\n",
       "      <td>0.864396</td>\n",
       "    </tr>\n",
       "  </tbody>\n",
       "</table>\n",
       "<p>512 rows × 1 columns</p>\n",
       "</div>"
      ],
      "text/plain": [
       "             module\n",
       "lambda             \n",
       "110001110  0.000001\n",
       "001001110  0.000001\n",
       "011001010  0.000001\n",
       "101001010  0.000001\n",
       "100100110  0.000001\n",
       "...             ...\n",
       "110100111  0.010673\n",
       "110011000  0.010683\n",
       "011100111  0.024000\n",
       "001100111  0.054043\n",
       "101100111  0.864396\n",
       "\n",
       "[512 rows x 1 columns]"
      ]
     },
     "execution_count": 209,
     "metadata": {},
     "output_type": "execute_result"
    }
   ],
   "source": [
    "df['lambda']=df[0].apply(lambda x: x[-resolution:])\n",
    "df1=df.groupby('lambda').agg({'module':'sum'})\n",
    "#df1['module_new']=df1['module'].apply(lambda x: np.sqrt(x.real**2 + x.imag**2))\n",
    "df1.sort_values('module')\n",
    "#int('10011'[::-1],base=2)/32"
   ]
  },
  {
   "cell_type": "code",
   "execution_count": 211,
   "metadata": {},
   "outputs": [
    {
     "data": {
      "text/plain": [
       "(0.2265625, 0.224609375)"
      ]
     },
     "execution_count": 211,
     "metadata": {},
     "output_type": "execute_result"
    }
   ],
   "source": [
    "int('0010111'[::-1],base=2)/(2**resolution),int('1100111'[::-1],base=2)/(2**resolution)"
   ]
  },
  {
   "cell_type": "code",
   "execution_count": 201,
   "metadata": {},
   "outputs": [
    {
     "data": {
      "text/plain": [
       "(array([0.9, 0.1]),\n",
       " array([[ 0.81361536, -0.58140352],\n",
       "        [ 0.58140352,  0.81361536]]))"
      ]
     },
     "execution_count": 201,
     "metadata": {},
     "output_type": "execute_result"
    }
   ],
   "source": [
    "np.linalg.eig(example_matrix2)"
   ]
  },
  {
   "cell_type": "code",
   "execution_count": 263,
   "metadata": {},
   "outputs": [
    {
     "data": {
      "text/plain": [
       "0    00\n",
       "3    11\n",
       "Name: 0, dtype: object"
      ]
     },
     "execution_count": 263,
     "metadata": {},
     "output_type": "execute_result"
    }
   ],
   "source": [
    "eig_qubits=df.loc[df.head(4)['module'].nlargest(2).index][0].str[-2:]\n",
    "eig_qubits"
   ]
  },
  {
   "cell_type": "code",
   "execution_count": 264,
   "metadata": {},
   "outputs": [
    {
     "name": "stdout",
     "output_type": "stream",
     "text": [
      "00 [0.23267849 0.41285568 0.41285568 0.7746162 ]\n",
      "00 [0.23325427 0.41387732 0.41387732 0.77653305]\n",
      "11 [0.00987168 0.01910314 0.01910314 0.03494138]\n",
      "11 [0.21812411 0.42210213 0.42210213 0.77206312]\n"
     ]
    }
   ],
   "source": [
    "for i in eig_qubits:\n",
    "    df1=df[df[0].str.endswith(str(i))]\n",
    "    l=df1['module'].values\n",
    "    print(i, l)\n",
    "    normalization_factor=np.sqrt((1/(sum(l**2))))\n",
    "    l*=normalization_factor\n",
    "    print(i,l)"
   ]
  },
  {
   "cell_type": "markdown",
   "metadata": {},
   "source": [
    "$$\\left|00\\right\\rangle(0.23325427|00\\rangle+0.41387732|01\\rangle+0.41387732|10\\rangle+0.77653305|11\\rangle) =$$\n",
    "\n",
    "$$\\left|00\\right\\rangle(0.41387732|0\\rangle(.56|0\\rangle+|1\\rangle)+0.77653305|1\\rangle(.53|0\\rangle+|1\\rangle)) =$$\n",
    "\n",
    "$$\\sqrt{0.77653305}=0.8812 -> posizione 1$$ \n",
    "\n",
    "$$0.88*0.53=0.4670 -> posizione 0$$\n",
    "\n",
    "\n",
    "$$\\left|11\\right\\rangle(0.21812411|00\\rangle+0.42210213|01\\rangle+0.42210213|10\\rangle+0.77206312|11\\rangle) =...$$\n",
    "\n",
    "\n",
    "\n",
    "\n",
    "\n",
    "seed=26"
   ]
  },
  {
   "cell_type": "code",
   "execution_count": 270,
   "metadata": {},
   "outputs": [
    {
     "data": {
      "text/plain": [
       "(array([0.00987623, 0.99012377]),\n",
       " array([[-0.87996277, -0.47504266],\n",
       "        [ 0.47504266, -0.87996277]]))"
      ]
     },
     "execution_count": 270,
     "metadata": {},
     "output_type": "execute_result"
    }
   ],
   "source": [
    "np.linalg.eig(example_matrix1)"
   ]
  },
  {
   "cell_type": "markdown",
   "metadata": {},
   "source": [
    "# 4X4 Seed=1234"
   ]
  },
  {
   "cell_type": "code",
   "execution_count": 14,
   "metadata": {},
   "outputs": [],
   "source": [
    "bitstrings=[''.join([''.join(str(j)) for j in i]) for i in list(map(list, itertools.product([0, 1], repeat=resolution+len(example_matrix1))))]\n",
    "ss=attach_bitstrings(statevector)\n",
    "#ss"
   ]
  },
  {
   "cell_type": "code",
   "execution_count": 15,
   "metadata": {},
   "outputs": [
    {
     "data": {
      "text/plain": [
       "<AxesSubplot: xlabel='0'>"
      ]
     },
     "execution_count": 15,
     "metadata": {},
     "output_type": "execute_result"
    },
    {
     "data": {
      "image/png": "[encoded data removed]",
      "text/plain": [
       "<Figure size 1440x1080 with 1 Axes>"
      ]
     },
     "metadata": {
      "needs_background": "light"
     },
     "output_type": "display_data"
    }
   ],
   "source": [
    "import pandas as pd\n",
    "df=pd.DataFrame(ss)\n",
    "df['module']=df[1].apply(lambda x: x.real**2 + x.imag**2)\n",
    "df.set_index(0).module.plot(kind='bar',figsize=(20,15))"
   ]
  },
  {
   "cell_type": "code",
   "execution_count": 16,
   "metadata": {},
   "outputs": [
    {
     "data": {
      "text/html": [
       "<div>\n",
       "<style scoped>\n",
       "    .dataframe tbody tr th:only-of-type {\n",
       "        vertical-align: middle;\n",
       "    }\n",
       "\n",
       "    .dataframe tbody tr th {\n",
       "        vertical-align: top;\n",
       "    }\n",
       "\n",
       "    .dataframe thead th {\n",
       "        text-align: right;\n",
       "    }\n",
       "</style>\n",
       "<table border=\"1\" class=\"dataframe\">\n",
       "  <thead>\n",
       "    <tr style=\"text-align: right;\">\n",
       "      <th></th>\n",
       "      <th>module</th>\n",
       "    </tr>\n",
       "    <tr>\n",
       "      <th>lambda</th>\n",
       "      <th></th>\n",
       "    </tr>\n",
       "  </thead>\n",
       "  <tbody>\n",
       "    <tr>\n",
       "      <th>0001110</th>\n",
       "      <td>0.000019</td>\n",
       "    </tr>\n",
       "    <tr>\n",
       "      <th>0110110</th>\n",
       "      <td>0.000019</td>\n",
       "    </tr>\n",
       "    <tr>\n",
       "      <th>1010110</th>\n",
       "      <td>0.000019</td>\n",
       "    </tr>\n",
       "    <tr>\n",
       "      <th>1001110</th>\n",
       "      <td>0.000019</td>\n",
       "    </tr>\n",
       "    <tr>\n",
       "      <th>1110110</th>\n",
       "      <td>0.000019</td>\n",
       "    </tr>\n",
       "    <tr>\n",
       "      <th>...</th>\n",
       "      <td>...</td>\n",
       "    </tr>\n",
       "    <tr>\n",
       "      <th>0011101</th>\n",
       "      <td>0.013616</td>\n",
       "    </tr>\n",
       "    <tr>\n",
       "      <th>1011100</th>\n",
       "      <td>0.019972</td>\n",
       "    </tr>\n",
       "    <tr>\n",
       "      <th>0110000</th>\n",
       "      <td>0.020496</td>\n",
       "    </tr>\n",
       "    <tr>\n",
       "      <th>0100000</th>\n",
       "      <td>0.024450</td>\n",
       "    </tr>\n",
       "    <tr>\n",
       "      <th>1101101</th>\n",
       "      <td>0.869059</td>\n",
       "    </tr>\n",
       "  </tbody>\n",
       "</table>\n",
       "<p>128 rows × 1 columns</p>\n",
       "</div>"
      ],
      "text/plain": [
       "           module\n",
       "lambda           \n",
       "0001110  0.000019\n",
       "0110110  0.000019\n",
       "1010110  0.000019\n",
       "1001110  0.000019\n",
       "1110110  0.000019\n",
       "...           ...\n",
       "0011101  0.013616\n",
       "1011100  0.019972\n",
       "0110000  0.020496\n",
       "0100000  0.024450\n",
       "1101101  0.869059\n",
       "\n",
       "[128 rows x 1 columns]"
      ]
     },
     "execution_count": 16,
     "metadata": {},
     "output_type": "execute_result"
    }
   ],
   "source": [
    "df['lambda']=df[0].apply(lambda x: x[-resolution:])\n",
    "df1=df.groupby('lambda').agg({'module':'sum'})\n",
    "#df1['module_new']=df1['module'].apply(lambda x: np.sqrt(x.real**2 + x.imag**2))\n",
    "df1.sort_values('module')"
   ]
  },
  {
   "cell_type": "code",
   "execution_count": 17,
   "metadata": {},
   "outputs": [
    {
     "data": {
      "text/html": [
       "<div>\n",
       "<style scoped>\n",
       "    .dataframe tbody tr th:only-of-type {\n",
       "        vertical-align: middle;\n",
       "    }\n",
       "\n",
       "    .dataframe tbody tr th {\n",
       "        vertical-align: top;\n",
       "    }\n",
       "\n",
       "    .dataframe thead th {\n",
       "        text-align: right;\n",
       "    }\n",
       "</style>\n",
       "<table border=\"1\" class=\"dataframe\">\n",
       "  <thead>\n",
       "    <tr style=\"text-align: right;\">\n",
       "      <th></th>\n",
       "      <th>state</th>\n",
       "      <th>st</th>\n",
       "      <th>module</th>\n",
       "      <th>lambda</th>\n",
       "    </tr>\n",
       "  </thead>\n",
       "  <tbody>\n",
       "    <tr>\n",
       "      <th>0</th>\n",
       "      <td>00000000000</td>\n",
       "      <td>0.0024+0.0034j</td>\n",
       "      <td>1.732000e-05</td>\n",
       "      <td>0000000</td>\n",
       "    </tr>\n",
       "    <tr>\n",
       "      <th>1</th>\n",
       "      <td>00000000001</td>\n",
       "      <td>0.0009-0.0004j</td>\n",
       "      <td>9.700000e-07</td>\n",
       "      <td>0000001</td>\n",
       "    </tr>\n",
       "    <tr>\n",
       "      <th>2</th>\n",
       "      <td>00000000010</td>\n",
       "      <td>0.0002-0.0004j</td>\n",
       "      <td>2.000000e-07</td>\n",
       "      <td>0000010</td>\n",
       "    </tr>\n",
       "    <tr>\n",
       "      <th>3</th>\n",
       "      <td>00000000011</td>\n",
       "      <td>-0.0032-0.0017j</td>\n",
       "      <td>1.313000e-05</td>\n",
       "      <td>0000011</td>\n",
       "    </tr>\n",
       "    <tr>\n",
       "      <th>4</th>\n",
       "      <td>00000000100</td>\n",
       "      <td>-0.0001-0.0014j</td>\n",
       "      <td>1.970000e-06</td>\n",
       "      <td>0000100</td>\n",
       "    </tr>\n",
       "    <tr>\n",
       "      <th>...</th>\n",
       "      <td>...</td>\n",
       "      <td>...</td>\n",
       "      <td>...</td>\n",
       "      <td>...</td>\n",
       "    </tr>\n",
       "    <tr>\n",
       "      <th>2043</th>\n",
       "      <td>11111111011</td>\n",
       "      <td>-0.0011-0.0014j</td>\n",
       "      <td>3.170000e-06</td>\n",
       "      <td>1111011</td>\n",
       "    </tr>\n",
       "    <tr>\n",
       "      <th>2044</th>\n",
       "      <td>11111111100</td>\n",
       "      <td>-0.0001+0.0010j</td>\n",
       "      <td>1.010000e-06</td>\n",
       "      <td>1111100</td>\n",
       "    </tr>\n",
       "    <tr>\n",
       "      <th>2045</th>\n",
       "      <td>11111111101</td>\n",
       "      <td>-0.0094-0.0046j</td>\n",
       "      <td>1.095200e-04</td>\n",
       "      <td>1111101</td>\n",
       "    </tr>\n",
       "    <tr>\n",
       "      <th>2046</th>\n",
       "      <td>11111111110</td>\n",
       "      <td>0.0015-0.0006j</td>\n",
       "      <td>2.610000e-06</td>\n",
       "      <td>1111110</td>\n",
       "    </tr>\n",
       "    <tr>\n",
       "      <th>2047</th>\n",
       "      <td>11111111111</td>\n",
       "      <td>0.0011+0.0010j</td>\n",
       "      <td>2.210000e-06</td>\n",
       "      <td>1111111</td>\n",
       "    </tr>\n",
       "  </tbody>\n",
       "</table>\n",
       "<p>2048 rows × 4 columns</p>\n",
       "</div>"
      ],
      "text/plain": [
       "            state              st        module   lambda\n",
       "0     00000000000  0.0024+0.0034j  1.732000e-05  0000000\n",
       "1     00000000001  0.0009-0.0004j  9.700000e-07  0000001\n",
       "2     00000000010  0.0002-0.0004j  2.000000e-07  0000010\n",
       "3     00000000011 -0.0032-0.0017j  1.313000e-05  0000011\n",
       "4     00000000100 -0.0001-0.0014j  1.970000e-06  0000100\n",
       "...           ...             ...           ...      ...\n",
       "2043  11111111011 -0.0011-0.0014j  3.170000e-06  1111011\n",
       "2044  11111111100 -0.0001+0.0010j  1.010000e-06  1111100\n",
       "2045  11111111101 -0.0094-0.0046j  1.095200e-04  1111101\n",
       "2046  11111111110  0.0015-0.0006j  2.610000e-06  1111110\n",
       "2047  11111111111  0.0011+0.0010j  2.210000e-06  1111111\n",
       "\n",
       "[2048 rows x 4 columns]"
      ]
     },
     "execution_count": 17,
     "metadata": {},
     "output_type": "execute_result"
    }
   ],
   "source": [
    "df.columns=['state','st','module','lambda']\n",
    "df"
   ]
  },
  {
   "cell_type": "code",
   "execution_count": 18,
   "metadata": {},
   "outputs": [],
   "source": [
    "a1=np.array(df.query(\"state.str.endswith('1101101')\")['module'].values)\n",
    "a1,sum(a1)\n",
    "a_1_sqrt=np.sqrt(a1)"
   ]
  },
  {
   "cell_type": "code",
   "execution_count": 19,
   "metadata": {},
   "outputs": [],
   "source": [
    "a2=np.array(df.query(\"state.str.endswith('0100000')\")['module'].values)\n",
    "a2,sum(a1)\n",
    "a_2_sqrt=np.sqrt(a2)"
   ]
  },
  {
   "cell_type": "code",
   "execution_count": 20,
   "metadata": {},
   "outputs": [],
   "source": [
    "a3=np.array(df.query(\"state.str.endswith('0110000')\")['module'].values)\n",
    "a3,sum(a3)\n",
    "a_3_sqrt=np.sqrt(a3)"
   ]
  },
  {
   "cell_type": "code",
   "execution_count": 21,
   "metadata": {},
   "outputs": [],
   "source": [
    "a4=np.array(df.query(\"state.str.endswith('1011100')\")['module'].values)\n",
    "a4,sum(a4)\n",
    "a_4_sqrt=np.sqrt(a4)"
   ]
  },
  {
   "cell_type": "code",
   "execution_count": 22,
   "metadata": {},
   "outputs": [
    {
     "data": {
      "text/plain": [
       "[array([0.17170073, 0.17736496, 0.18827538, 0.25341138, 0.1844218 ,\n",
       "        0.19247922, 0.20216689, 0.27355749, 0.18058641, 0.18540423,\n",
       "        0.19814338, 0.2659364 , 0.25084836, 0.26068235, 0.2752061 ,\n",
       "        0.37162069]),\n",
       " array([0.03301348, 0.01222988, 0.00907359, 0.02253752, 0.06707406,\n",
       "        0.02332381, 0.02042866, 0.04194878, 0.08521766, 0.0310601 ,\n",
       "        0.02452468, 0.05611702, 0.04666615, 0.01534959, 0.01423938,\n",
       "        0.02840035]),\n",
       " array([0.00345254, 0.0005099 , 0.00224722, 0.0021095 , 0.01609627,\n",
       "        0.01172092, 0.02200818, 0.01481891, 0.05105487, 0.04210428,\n",
       "        0.08168843, 0.0564985 , 0.03009585, 0.02551255, 0.0492123 ,\n",
       "        0.03392713]),\n",
       " array([0.00264764, 0.01317953, 0.00933916, 0.00586941, 0.0190683 ,\n",
       "        0.07555713, 0.04768197, 0.02863564, 0.01730029, 0.07274868,\n",
       "        0.04762709, 0.02920976, 0.00863481, 0.03389543, 0.0206526 ,\n",
       "        0.01184567])]"
      ]
     },
     "execution_count": 22,
     "metadata": {},
     "output_type": "execute_result"
    }
   ],
   "source": [
    "a=[a_1_sqrt,a_2_sqrt,a_3_sqrt,a_4_sqrt]\n",
    "#a=[a1,a2]\n",
    "a"
   ]
  },
  {
   "cell_type": "code",
   "execution_count": 23,
   "metadata": {},
   "outputs": [
    {
     "data": {
      "text/plain": [
       "(0.7109375, 0.015625, 0.046875, 0.2265625)"
      ]
     },
     "execution_count": 23,
     "metadata": {},
     "output_type": "execute_result"
    }
   ],
   "source": [
    "int('1101101'[::-1],base=2)/(2**resolution),int('0100000'[::-1],base=2)/(2**resolution),int('0110000'[::-1],base=2)/(2**resolution),int('1011100'[::-1],base=2)/(2**resolution)"
   ]
  },
  {
   "cell_type": "code",
   "execution_count": 24,
   "metadata": {},
   "outputs": [
    {
     "data": {
      "text/plain": [
       "(array([0.71180655, 0.22316477, 0.01821782, 0.04681086]),\n",
       " array([[ 0.42777602,  0.20326857,  0.78671927,  0.39593227],\n",
       "        [ 0.44316532,  0.78097832, -0.26649827, -0.35022284],\n",
       "        [ 0.46933345, -0.50082482,  0.22263581, -0.69233945],\n",
       "        [ 0.63272292, -0.31293648, -0.51037708,  0.49116972]]))"
      ]
     },
     "execution_count": 24,
     "metadata": {},
     "output_type": "execute_result"
    }
   ],
   "source": [
    "np.linalg.eig(example_matrix1)"
   ]
  },
  {
   "cell_type": "code",
   "execution_count": 25,
   "metadata": {},
   "outputs": [
    {
     "name": "stdout",
     "output_type": "stream",
     "text": [
      "[0.17170073 0.17736496 0.18827538 0.25341138 0.1844218  0.19247922\n",
      " 0.20216689 0.27355749 0.18058641 0.18540423 0.19814338 0.2659364\n",
      " 0.25084836 0.26068235 0.2752061  0.37162069]\n",
      "1.0726928707065038\n",
      "[array([0.18418215, 0.19025813, 0.20196166, 0.27183259, 0.19782795,\n",
      "       0.20647109, 0.21686298, 0.29344317, 0.19371375, 0.1988818 ,\n",
      "       0.21254699, 0.28526808, 0.26908325, 0.2796321 , 0.29521163,\n",
      "       0.39863487]), array([0.03301348, 0.01222988, 0.00907359, 0.02253752, 0.06707406,\n",
      "       0.02332381, 0.02042866, 0.04194878, 0.08521766, 0.0310601 ,\n",
      "       0.02452468, 0.05611702, 0.04666615, 0.01534959, 0.01423938,\n",
      "       0.02840035]), array([0.00345254, 0.0005099 , 0.00224722, 0.0021095 , 0.01609627,\n",
      "       0.01172092, 0.02200818, 0.01481891, 0.05105487, 0.04210428,\n",
      "       0.08168843, 0.0564985 , 0.03009585, 0.02551255, 0.0492123 ,\n",
      "       0.03392713]), array([0.00264764, 0.01317953, 0.00933916, 0.00586941, 0.0190683 ,\n",
      "       0.07555713, 0.04768197, 0.02863564, 0.01730029, 0.07274868,\n",
      "       0.04762709, 0.02920976, 0.00863481, 0.03389543, 0.0206526 ,\n",
      "       0.01184567])]\n",
      "[0.03301348 0.01222988 0.00907359 0.02253752 0.06707406 0.02332381\n",
      " 0.02042866 0.04194878 0.08521766 0.0310601  0.02452468 0.05611702\n",
      " 0.04666615 0.01534959 0.01423938 0.02840035]\n",
      "6.3953301056469\n",
      "[array([0.18418215, 0.19025813, 0.20196166, 0.27183259, 0.19782795,\n",
      "       0.20647109, 0.21686298, 0.29344317, 0.19371375, 0.1988818 ,\n",
      "       0.21254699, 0.28526808, 0.26908325, 0.2796321 , 0.29521163,\n",
      "       0.39863487]), array([0.21113212, 0.07821413, 0.05802859, 0.14413491, 0.42896078,\n",
      "       0.14916345, 0.130648  , 0.26827628, 0.54499508, 0.19863961,\n",
      "       0.15684343, 0.35888687, 0.29844546, 0.09816571, 0.09106555,\n",
      "       0.18162963]), array([0.00345254, 0.0005099 , 0.00224722, 0.0021095 , 0.01609627,\n",
      "       0.01172092, 0.02200818, 0.01481891, 0.05105487, 0.04210428,\n",
      "       0.08168843, 0.0564985 , 0.03009585, 0.02551255, 0.0492123 ,\n",
      "       0.03392713]), array([0.00264764, 0.01317953, 0.00933916, 0.00586941, 0.0190683 ,\n",
      "       0.07555713, 0.04768197, 0.02863564, 0.01730029, 0.07274868,\n",
      "       0.04762709, 0.02920976, 0.00863481, 0.03389543, 0.0206526 ,\n",
      "       0.01184567])]\n",
      "[0.00345254 0.0005099  0.00224722 0.0021095  0.01609627 0.01172092\n",
      " 0.02200818 0.01481891 0.05105487 0.04210428 0.08168843 0.0564985\n",
      " 0.03009585 0.02551255 0.0492123  0.03392713]\n",
      "6.9849657090548245\n",
      "[array([0.18418215, 0.19025813, 0.20196166, 0.27183259, 0.19782795,\n",
      "       0.20647109, 0.21686298, 0.29344317, 0.19371375, 0.1988818 ,\n",
      "       0.21254699, 0.28526808, 0.26908325, 0.2796321 , 0.29521163,\n",
      "       0.39863487]), array([0.21113212, 0.07821413, 0.05802859, 0.14413491, 0.42896078,\n",
      "       0.14916345, 0.130648  , 0.26827628, 0.54499508, 0.19863961,\n",
      "       0.15684343, 0.35888687, 0.29844546, 0.09816571, 0.09106555,\n",
      "       0.18162963]), array([0.02411584, 0.00356165, 0.01569676, 0.0147348 , 0.11243191,\n",
      "       0.08187023, 0.15372638, 0.10350956, 0.35661653, 0.29409692,\n",
      "       0.5705909 , 0.39464005, 0.21021846, 0.17820426, 0.34374619,\n",
      "       0.23697982]), array([0.00264764, 0.01317953, 0.00933916, 0.00586941, 0.0190683 ,\n",
      "       0.07555713, 0.04768197, 0.02863564, 0.01730029, 0.07274868,\n",
      "       0.04762709, 0.02920976, 0.00863481, 0.03389543, 0.0206526 ,\n",
      "       0.01184567])]\n",
      "[0.00264764 0.01317953 0.00933916 0.00586941 0.0190683  0.07555713\n",
      " 0.04768197 0.02863564 0.01730029 0.07274868 0.04762709 0.02920976\n",
      " 0.00863481 0.03389543 0.0206526  0.01184567]\n",
      "7.076029848593226\n",
      "[array([0.18418215, 0.19025813, 0.20196166, 0.27183259, 0.19782795,\n",
      "       0.20647109, 0.21686298, 0.29344317, 0.19371375, 0.1988818 ,\n",
      "       0.21254699, 0.28526808, 0.26908325, 0.2796321 , 0.29521163,\n",
      "       0.39863487]), array([0.21113212, 0.07821413, 0.05802859, 0.14413491, 0.42896078,\n",
      "       0.14916345, 0.130648  , 0.26827628, 0.54499508, 0.19863961,\n",
      "       0.15684343, 0.35888687, 0.29844546, 0.09816571, 0.09106555,\n",
      "       0.18162963]), array([0.02411584, 0.00356165, 0.01569676, 0.0147348 , 0.11243191,\n",
      "       0.08187023, 0.15372638, 0.10350956, 0.35661653, 0.29409692,\n",
      "       0.5705909 , 0.39464005, 0.21021846, 0.17820426, 0.34374619,\n",
      "       0.23697982]), array([0.01873478, 0.09325874, 0.06608421, 0.04153214, 0.13492785,\n",
      "       0.53464451, 0.33739902, 0.20262666, 0.12241736, 0.51477181,\n",
      "       0.33701073, 0.20668912, 0.0611002 , 0.23984506, 0.14613843,\n",
      "       0.08382035])]\n"
     ]
    }
   ],
   "source": [
    "for i in a:\n",
    "    print(i)\n",
    "    normalization_factor=np.sqrt((1/(sum(i**2))))\n",
    "    print(normalization_factor)\n",
    "    i*=normalization_factor\n",
    "    print(a)"
   ]
  },
  {
   "cell_type": "code",
   "execution_count": 40,
   "metadata": {},
   "outputs": [
    {
     "data": {
      "text/html": [
       "<div>\n",
       "<style scoped>\n",
       "    .dataframe tbody tr th:only-of-type {\n",
       "        vertical-align: middle;\n",
       "    }\n",
       "\n",
       "    .dataframe tbody tr th {\n",
       "        vertical-align: top;\n",
       "    }\n",
       "\n",
       "    .dataframe thead th {\n",
       "        text-align: right;\n",
       "    }\n",
       "</style>\n",
       "<table border=\"1\" class=\"dataframe\">\n",
       "  <thead>\n",
       "    <tr style=\"text-align: right;\">\n",
       "      <th></th>\n",
       "      <th>state</th>\n",
       "      <th>st</th>\n",
       "      <th>module</th>\n",
       "      <th>lambda</th>\n",
       "    </tr>\n",
       "  </thead>\n",
       "  <tbody>\n",
       "    <tr>\n",
       "      <th>109</th>\n",
       "      <td>00001101101</td>\n",
       "      <td>0.1615+0.0583j</td>\n",
       "      <td>0.029481</td>\n",
       "      <td>1101101</td>\n",
       "    </tr>\n",
       "    <tr>\n",
       "      <th>237</th>\n",
       "      <td>00011101101</td>\n",
       "      <td>0.1668+0.0603j</td>\n",
       "      <td>0.031458</td>\n",
       "      <td>1101101</td>\n",
       "    </tr>\n",
       "    <tr>\n",
       "      <th>365</th>\n",
       "      <td>00101101101</td>\n",
       "      <td>0.1771+0.0639j</td>\n",
       "      <td>0.035448</td>\n",
       "      <td>1101101</td>\n",
       "    </tr>\n",
       "    <tr>\n",
       "      <th>493</th>\n",
       "      <td>00111101101</td>\n",
       "      <td>0.2383+0.0862j</td>\n",
       "      <td>0.064217</td>\n",
       "      <td>1101101</td>\n",
       "    </tr>\n",
       "    <tr>\n",
       "      <th>621</th>\n",
       "      <td>01001101101</td>\n",
       "      <td>0.1734+0.0628j</td>\n",
       "      <td>0.034011</td>\n",
       "      <td>1101101</td>\n",
       "    </tr>\n",
       "    <tr>\n",
       "      <th>749</th>\n",
       "      <td>01011101101</td>\n",
       "      <td>0.1811+0.0652j</td>\n",
       "      <td>0.037048</td>\n",
       "      <td>1101101</td>\n",
       "    </tr>\n",
       "    <tr>\n",
       "      <th>877</th>\n",
       "      <td>01101101101</td>\n",
       "      <td>0.1901+0.0688j</td>\n",
       "      <td>0.040871</td>\n",
       "      <td>1101101</td>\n",
       "    </tr>\n",
       "    <tr>\n",
       "      <th>1005</th>\n",
       "      <td>01111101101</td>\n",
       "      <td>0.2573+0.0929j</td>\n",
       "      <td>0.074834</td>\n",
       "      <td>1101101</td>\n",
       "    </tr>\n",
       "    <tr>\n",
       "      <th>1133</th>\n",
       "      <td>10001101101</td>\n",
       "      <td>0.1699+0.0612j</td>\n",
       "      <td>0.032611</td>\n",
       "      <td>1101101</td>\n",
       "    </tr>\n",
       "    <tr>\n",
       "      <th>1261</th>\n",
       "      <td>10011101101</td>\n",
       "      <td>0.1743+0.0632j</td>\n",
       "      <td>0.034375</td>\n",
       "      <td>1101101</td>\n",
       "    </tr>\n",
       "    <tr>\n",
       "      <th>1389</th>\n",
       "      <td>10101101101</td>\n",
       "      <td>0.1864+0.0672j</td>\n",
       "      <td>0.039261</td>\n",
       "      <td>1101101</td>\n",
       "    </tr>\n",
       "    <tr>\n",
       "      <th>1517</th>\n",
       "      <td>10111101101</td>\n",
       "      <td>0.2501+0.0904j</td>\n",
       "      <td>0.070722</td>\n",
       "      <td>1101101</td>\n",
       "    </tr>\n",
       "    <tr>\n",
       "      <th>1645</th>\n",
       "      <td>11001101101</td>\n",
       "      <td>0.2359+0.0853j</td>\n",
       "      <td>0.062925</td>\n",
       "      <td>1101101</td>\n",
       "    </tr>\n",
       "    <tr>\n",
       "      <th>1773</th>\n",
       "      <td>11011101101</td>\n",
       "      <td>0.2452+0.0885j</td>\n",
       "      <td>0.067955</td>\n",
       "      <td>1101101</td>\n",
       "    </tr>\n",
       "    <tr>\n",
       "      <th>1901</th>\n",
       "      <td>11101101101</td>\n",
       "      <td>0.2588+0.0936j</td>\n",
       "      <td>0.075738</td>\n",
       "      <td>1101101</td>\n",
       "    </tr>\n",
       "    <tr>\n",
       "      <th>2029</th>\n",
       "      <td>11111101101</td>\n",
       "      <td>0.3495+0.1263j</td>\n",
       "      <td>0.138102</td>\n",
       "      <td>1101101</td>\n",
       "    </tr>\n",
       "  </tbody>\n",
       "</table>\n",
       "</div>"
      ],
      "text/plain": [
       "            state              st    module   lambda\n",
       "109   00001101101  0.1615+0.0583j  0.029481  1101101\n",
       "237   00011101101  0.1668+0.0603j  0.031458  1101101\n",
       "365   00101101101  0.1771+0.0639j  0.035448  1101101\n",
       "493   00111101101  0.2383+0.0862j  0.064217  1101101\n",
       "621   01001101101  0.1734+0.0628j  0.034011  1101101\n",
       "749   01011101101  0.1811+0.0652j  0.037048  1101101\n",
       "877   01101101101  0.1901+0.0688j  0.040871  1101101\n",
       "1005  01111101101  0.2573+0.0929j  0.074834  1101101\n",
       "1133  10001101101  0.1699+0.0612j  0.032611  1101101\n",
       "1261  10011101101  0.1743+0.0632j  0.034375  1101101\n",
       "1389  10101101101  0.1864+0.0672j  0.039261  1101101\n",
       "1517  10111101101  0.2501+0.0904j  0.070722  1101101\n",
       "1645  11001101101  0.2359+0.0853j  0.062925  1101101\n",
       "1773  11011101101  0.2452+0.0885j  0.067955  1101101\n",
       "1901  11101101101  0.2588+0.0936j  0.075738  1101101\n",
       "2029  11111101101  0.3495+0.1263j  0.138102  1101101"
      ]
     },
     "execution_count": 40,
     "metadata": {},
     "output_type": "execute_result"
    }
   ],
   "source": [
    "df.query(\"state.str.endswith('1101101')\")"
   ]
  },
  {
   "cell_type": "markdown",
   "metadata": {},
   "source": [
    "Autovalore 1101101 =>0.71\n",
    "\n",
    "$$\\left|1101101\\right\\rangle(0.18418215|0000\\rangle+0.19025813|0001\\rangle+0.20196166|0010\\rangle+0.27183259|0011\\rangle+\n",
    "0.19782795|0100\\rangle+0.20647109|0101\\rangle+0.21686298|0110\\rangle+0.29344317|0111\\rangle+0.19371375|1000\\rangle+0.1988818|1001\\rangle+0.21254699|1010\\rangle+0.28526808|1011\\rangle+\n",
    "0.26908325|1100\\rangle+0.2796321|1101\\rangle+0.29521163|1110\\rangle+0.39863487|1111\\rangle) =$$\n",
    "\n",
    "$$\\left|1101101\\right\\rangle\\left[\\textbf{...|00}\\rangle(...|00\\rangle+...|01\\rangle+...|10\\rangle+|11\\rangle)+\\\\\n",
    "\\textbf{...|01}\\rangle(...|00\\rangle+...|01\\rangle+...|10\\rangle+|11\\rangle)+\\\\\n",
    "\\textbf{...|10}\\rangle(...|00\\rangle+...|01\\rangle+...|10\\rangle+|11\\rangle)+\\\\\n",
    "\\textbf{0.39863|11}\\rangle(0.6750|00\\rangle+0.7014|01\\rangle+0.74055|10\\rangle+|11\\rangle)\\right]\\\\\n",
    "$$\n",
    "\n",
    "$$\\sqrt{.39863}=.6313 -> 4 posizione \n",
    "\\\\\n",
    "0.6313*0.6750=0.4261-> 1 posizione\n",
    "\\\\\n",
    "0.6313*0.7014=0.44289 -> 2 posizione\n",
    "\\\\\n",
    "0.6313*0.74055=0.4675 -> 3 posizione\n",
    "$$\n",
    "\n",
    "Guardando lo statevector si vede tutti segni positivi=> tutti i valori dell'autovettore saranno positivi"
   ]
  },
  {
   "cell_type": "code",
   "execution_count": 41,
   "metadata": {},
   "outputs": [
    {
     "data": {
      "text/html": [
       "<div>\n",
       "<style scoped>\n",
       "    .dataframe tbody tr th:only-of-type {\n",
       "        vertical-align: middle;\n",
       "    }\n",
       "\n",
       "    .dataframe tbody tr th {\n",
       "        vertical-align: top;\n",
       "    }\n",
       "\n",
       "    .dataframe thead th {\n",
       "        text-align: right;\n",
       "    }\n",
       "</style>\n",
       "<table border=\"1\" class=\"dataframe\">\n",
       "  <thead>\n",
       "    <tr style=\"text-align: right;\">\n",
       "      <th></th>\n",
       "      <th>state</th>\n",
       "      <th>st</th>\n",
       "      <th>module</th>\n",
       "      <th>lambda</th>\n",
       "    </tr>\n",
       "  </thead>\n",
       "  <tbody>\n",
       "    <tr>\n",
       "      <th>32</th>\n",
       "      <td>00000100000</td>\n",
       "      <td>0.0170+0.0283j</td>\n",
       "      <td>0.001090</td>\n",
       "      <td>0100000</td>\n",
       "    </tr>\n",
       "    <tr>\n",
       "      <th>160</th>\n",
       "      <td>00010100000</td>\n",
       "      <td>-0.0061-0.0106j</td>\n",
       "      <td>0.000150</td>\n",
       "      <td>0100000</td>\n",
       "    </tr>\n",
       "    <tr>\n",
       "      <th>288</th>\n",
       "      <td>00100100000</td>\n",
       "      <td>0.0048+0.0077j</td>\n",
       "      <td>0.000082</td>\n",
       "      <td>0100000</td>\n",
       "    </tr>\n",
       "    <tr>\n",
       "      <th>416</th>\n",
       "      <td>00110100000</td>\n",
       "      <td>-0.0113-0.0195j</td>\n",
       "      <td>0.000508</td>\n",
       "      <td>0100000</td>\n",
       "    </tr>\n",
       "    <tr>\n",
       "      <th>544</th>\n",
       "      <td>01000100000</td>\n",
       "      <td>-0.0342-0.0577j</td>\n",
       "      <td>0.004499</td>\n",
       "      <td>0100000</td>\n",
       "    </tr>\n",
       "    <tr>\n",
       "      <th>672</th>\n",
       "      <td>01010100000</td>\n",
       "      <td>0.0120+0.0200j</td>\n",
       "      <td>0.000544</td>\n",
       "      <td>0100000</td>\n",
       "    </tr>\n",
       "    <tr>\n",
       "      <th>800</th>\n",
       "      <td>01100100000</td>\n",
       "      <td>-0.0102-0.0177j</td>\n",
       "      <td>0.000417</td>\n",
       "      <td>0100000</td>\n",
       "    </tr>\n",
       "    <tr>\n",
       "      <th>928</th>\n",
       "      <td>01110100000</td>\n",
       "      <td>0.0217+0.0359j</td>\n",
       "      <td>0.001760</td>\n",
       "      <td>0100000</td>\n",
       "    </tr>\n",
       "    <tr>\n",
       "      <th>1056</th>\n",
       "      <td>10000100000</td>\n",
       "      <td>0.0438+0.0731j</td>\n",
       "      <td>0.007262</td>\n",
       "      <td>0100000</td>\n",
       "    </tr>\n",
       "    <tr>\n",
       "      <th>1184</th>\n",
       "      <td>10010100000</td>\n",
       "      <td>-0.0157-0.0268j</td>\n",
       "      <td>0.000965</td>\n",
       "      <td>0100000</td>\n",
       "    </tr>\n",
       "    <tr>\n",
       "      <th>1312</th>\n",
       "      <td>10100100000</td>\n",
       "      <td>0.0125+0.0211j</td>\n",
       "      <td>0.000601</td>\n",
       "      <td>0100000</td>\n",
       "    </tr>\n",
       "    <tr>\n",
       "      <th>1440</th>\n",
       "      <td>10110100000</td>\n",
       "      <td>-0.0284-0.0484j</td>\n",
       "      <td>0.003149</td>\n",
       "      <td>0100000</td>\n",
       "    </tr>\n",
       "    <tr>\n",
       "      <th>1568</th>\n",
       "      <td>11000100000</td>\n",
       "      <td>-0.0237-0.0402j</td>\n",
       "      <td>0.002178</td>\n",
       "      <td>0100000</td>\n",
       "    </tr>\n",
       "    <tr>\n",
       "      <th>1696</th>\n",
       "      <td>11010100000</td>\n",
       "      <td>0.0080+0.0131j</td>\n",
       "      <td>0.000236</td>\n",
       "      <td>0100000</td>\n",
       "    </tr>\n",
       "    <tr>\n",
       "      <th>1824</th>\n",
       "      <td>11100100000</td>\n",
       "      <td>-0.0070-0.0124j</td>\n",
       "      <td>0.000203</td>\n",
       "      <td>0100000</td>\n",
       "    </tr>\n",
       "    <tr>\n",
       "      <th>1952</th>\n",
       "      <td>11110100000</td>\n",
       "      <td>0.0147+0.0243j</td>\n",
       "      <td>0.000807</td>\n",
       "      <td>0100000</td>\n",
       "    </tr>\n",
       "  </tbody>\n",
       "</table>\n",
       "</div>"
      ],
      "text/plain": [
       "            state              st    module   lambda\n",
       "32    00000100000  0.0170+0.0283j  0.001090  0100000\n",
       "160   00010100000 -0.0061-0.0106j  0.000150  0100000\n",
       "288   00100100000  0.0048+0.0077j  0.000082  0100000\n",
       "416   00110100000 -0.0113-0.0195j  0.000508  0100000\n",
       "544   01000100000 -0.0342-0.0577j  0.004499  0100000\n",
       "672   01010100000  0.0120+0.0200j  0.000544  0100000\n",
       "800   01100100000 -0.0102-0.0177j  0.000417  0100000\n",
       "928   01110100000  0.0217+0.0359j  0.001760  0100000\n",
       "1056  10000100000  0.0438+0.0731j  0.007262  0100000\n",
       "1184  10010100000 -0.0157-0.0268j  0.000965  0100000\n",
       "1312  10100100000  0.0125+0.0211j  0.000601  0100000\n",
       "1440  10110100000 -0.0284-0.0484j  0.003149  0100000\n",
       "1568  11000100000 -0.0237-0.0402j  0.002178  0100000\n",
       "1696  11010100000  0.0080+0.0131j  0.000236  0100000\n",
       "1824  11100100000 -0.0070-0.0124j  0.000203  0100000\n",
       "1952  11110100000  0.0147+0.0243j  0.000807  0100000"
      ]
     },
     "execution_count": 41,
     "metadata": {},
     "output_type": "execute_result"
    }
   ],
   "source": [
    "df.query(\"state.str.endswith('0100000')\")"
   ]
  },
  {
   "cell_type": "markdown",
   "metadata": {},
   "source": [
    "Autovalore 0100000 => 0.015\n",
    "\n",
    "$$\\left|0100000\\right\\rangle(0.21113212|0000\\rangle+0.07821413|0001\\rangle+0.05802859|0010\\rangle+0.14413491|0011\\rangle+\n",
    "0.42896078|0100\\rangle+0.14916345|0101\\rangle+0.130648|0110\\rangle+0.26827628|0111\\rangle+0.54499508|1000\\rangle+0.19863961|1001\\rangle+0.15684343|1010\\rangle+0.35888687|1011\\rangle+\n",
    "0.29844546|1100\\rangle+0.09816571|1101\\rangle+0.09106555|1110\\rangle+0.18162963|1111\\rangle) =$$\n",
    "\n",
    "$$\\left|1101101\\right\\rangle\\left[\\textbf{...|00}\\rangle(...|00\\rangle+...|01\\rangle+...|10\\rangle+|11\\rangle)+\\\\\n",
    "\\textbf{...|01}\\rangle(...|00\\rangle+...|01\\rangle+...|10\\rangle+|11\\rangle)+\\\\\n",
    "\\textbf{.54499508|10}\\rangle(|00\\rangle+0.3644|01\\rangle+ 0.2877|10\\rangle+0.6585|11\\rangle)+\\\\\n",
    "\\textbf{...|11}\\rangle(...|00\\rangle+...|01\\rangle+...|10\\rangle+...|11\\rangle)\\right]\\\\\n",
    "$$\n",
    "\n",
    "$$\\sqrt{.54499508}=.7382 -> 1 posizione \n",
    "\\\\\n",
    "0.7382*0.3644=0.2690-> 2 posizione\n",
    "\\\\\n",
    "0.7382*0.2877=0.2124 -> 3 posizione\n",
    "\\\\\n",
    "0.7382*0.6585=0.4861 -> 4 posizione\n",
    "$$\n",
    "\n",
    "I segni sono alternati con + e - =>> coppia di segni negativi alterni"
   ]
  },
  {
   "cell_type": "code",
   "execution_count": 42,
   "metadata": {},
   "outputs": [
    {
     "data": {
      "text/html": [
       "<div>\n",
       "<style scoped>\n",
       "    .dataframe tbody tr th:only-of-type {\n",
       "        vertical-align: middle;\n",
       "    }\n",
       "\n",
       "    .dataframe tbody tr th {\n",
       "        vertical-align: top;\n",
       "    }\n",
       "\n",
       "    .dataframe thead th {\n",
       "        text-align: right;\n",
       "    }\n",
       "</style>\n",
       "<table border=\"1\" class=\"dataframe\">\n",
       "  <thead>\n",
       "    <tr style=\"text-align: right;\">\n",
       "      <th></th>\n",
       "      <th>state</th>\n",
       "      <th>st</th>\n",
       "      <th>module</th>\n",
       "      <th>lambda</th>\n",
       "    </tr>\n",
       "  </thead>\n",
       "  <tbody>\n",
       "    <tr>\n",
       "      <th>92</th>\n",
       "      <td>00001011100</td>\n",
       "      <td>-0.0005+0.0026j</td>\n",
       "      <td>0.000007</td>\n",
       "      <td>1011100</td>\n",
       "    </tr>\n",
       "    <tr>\n",
       "      <th>220</th>\n",
       "      <td>00011011100</td>\n",
       "      <td>-0.0027+0.0129j</td>\n",
       "      <td>0.000174</td>\n",
       "      <td>1011100</td>\n",
       "    </tr>\n",
       "    <tr>\n",
       "      <th>348</th>\n",
       "      <td>00101011100</td>\n",
       "      <td>0.0021-0.0091j</td>\n",
       "      <td>0.000087</td>\n",
       "      <td>1011100</td>\n",
       "    </tr>\n",
       "    <tr>\n",
       "      <th>476</th>\n",
       "      <td>00111011100</td>\n",
       "      <td>0.0014-0.0057j</td>\n",
       "      <td>0.000034</td>\n",
       "      <td>1011100</td>\n",
       "    </tr>\n",
       "    <tr>\n",
       "      <th>604</th>\n",
       "      <td>01001011100</td>\n",
       "      <td>0.0042-0.0186j</td>\n",
       "      <td>0.000364</td>\n",
       "      <td>1011100</td>\n",
       "    </tr>\n",
       "    <tr>\n",
       "      <th>732</th>\n",
       "      <td>01011011100</td>\n",
       "      <td>0.0162-0.0738j</td>\n",
       "      <td>0.005709</td>\n",
       "      <td>1011100</td>\n",
       "    </tr>\n",
       "    <tr>\n",
       "      <th>860</th>\n",
       "      <td>01101011100</td>\n",
       "      <td>-0.0101+0.0466j</td>\n",
       "      <td>0.002274</td>\n",
       "      <td>1011100</td>\n",
       "    </tr>\n",
       "    <tr>\n",
       "      <th>988</th>\n",
       "      <td>01111011100</td>\n",
       "      <td>-0.0060+0.0280j</td>\n",
       "      <td>0.000820</td>\n",
       "      <td>1011100</td>\n",
       "    </tr>\n",
       "    <tr>\n",
       "      <th>1116</th>\n",
       "      <td>10001011100</td>\n",
       "      <td>-0.0037+0.0169j</td>\n",
       "      <td>0.000299</td>\n",
       "      <td>1011100</td>\n",
       "    </tr>\n",
       "    <tr>\n",
       "      <th>1244</th>\n",
       "      <td>10011011100</td>\n",
       "      <td>-0.0154+0.0711j</td>\n",
       "      <td>0.005292</td>\n",
       "      <td>1011100</td>\n",
       "    </tr>\n",
       "    <tr>\n",
       "      <th>1372</th>\n",
       "      <td>10101011100</td>\n",
       "      <td>0.0103-0.0465j</td>\n",
       "      <td>0.002268</td>\n",
       "      <td>1011100</td>\n",
       "    </tr>\n",
       "    <tr>\n",
       "      <th>1500</th>\n",
       "      <td>10111011100</td>\n",
       "      <td>0.0064-0.0285j</td>\n",
       "      <td>0.000853</td>\n",
       "      <td>1011100</td>\n",
       "    </tr>\n",
       "    <tr>\n",
       "      <th>1628</th>\n",
       "      <td>11001011100</td>\n",
       "      <td>0.0020-0.0084j</td>\n",
       "      <td>0.000075</td>\n",
       "      <td>1011100</td>\n",
       "    </tr>\n",
       "    <tr>\n",
       "      <th>1756</th>\n",
       "      <td>11011011100</td>\n",
       "      <td>0.0073-0.0331j</td>\n",
       "      <td>0.001149</td>\n",
       "      <td>1011100</td>\n",
       "    </tr>\n",
       "    <tr>\n",
       "      <th>1884</th>\n",
       "      <td>11101011100</td>\n",
       "      <td>-0.0043+0.0202j</td>\n",
       "      <td>0.000427</td>\n",
       "      <td>1011100</td>\n",
       "    </tr>\n",
       "    <tr>\n",
       "      <th>2012</th>\n",
       "      <td>11111011100</td>\n",
       "      <td>-0.0024+0.0116j</td>\n",
       "      <td>0.000140</td>\n",
       "      <td>1011100</td>\n",
       "    </tr>\n",
       "  </tbody>\n",
       "</table>\n",
       "</div>"
      ],
      "text/plain": [
       "            state              st    module   lambda\n",
       "92    00001011100 -0.0005+0.0026j  0.000007  1011100\n",
       "220   00011011100 -0.0027+0.0129j  0.000174  1011100\n",
       "348   00101011100  0.0021-0.0091j  0.000087  1011100\n",
       "476   00111011100  0.0014-0.0057j  0.000034  1011100\n",
       "604   01001011100  0.0042-0.0186j  0.000364  1011100\n",
       "732   01011011100  0.0162-0.0738j  0.005709  1011100\n",
       "860   01101011100 -0.0101+0.0466j  0.002274  1011100\n",
       "988   01111011100 -0.0060+0.0280j  0.000820  1011100\n",
       "1116  10001011100 -0.0037+0.0169j  0.000299  1011100\n",
       "1244  10011011100 -0.0154+0.0711j  0.005292  1011100\n",
       "1372  10101011100  0.0103-0.0465j  0.002268  1011100\n",
       "1500  10111011100  0.0064-0.0285j  0.000853  1011100\n",
       "1628  11001011100  0.0020-0.0084j  0.000075  1011100\n",
       "1756  11011011100  0.0073-0.0331j  0.001149  1011100\n",
       "1884  11101011100 -0.0043+0.0202j  0.000427  1011100\n",
       "2012  11111011100 -0.0024+0.0116j  0.000140  1011100"
      ]
     },
     "execution_count": 42,
     "metadata": {},
     "output_type": "execute_result"
    }
   ],
   "source": [
    "df.query(\"state.str.endswith('1011100')\")"
   ]
  },
  {
   "cell_type": "markdown",
   "metadata": {},
   "source": [
    "Per i segni: a vedere dallo statevector, sembra che se abbiamo valori con parte reale negativa e parte immaginaria positiva seguiti da valori con parte reale positiva e parte immaginaria negativa=> segni concordi.\n",
    "Invece, se vediamo parte reale e immaginaria negativa insieme=> segni discordi\n",
    "\n",
    "Da Verificare meglio!!!"
   ]
  },
  {
   "cell_type": "code",
   "execution_count": 178,
   "metadata": {},
   "outputs": [
    {
     "data": {
      "text/plain": [
       "(array([0.71180655, 0.22316477, 0.01821782, 0.04681086]),\n",
       " array([[ 0.42777602,  0.20326857,  0.78671927,  0.39593227],\n",
       "        [ 0.44316532,  0.78097832, -0.26649827, -0.35022284],\n",
       "        [ 0.46933345, -0.50082482,  0.22263581, -0.69233945],\n",
       "        [ 0.63272292, -0.31293648, -0.51037708,  0.49116972]]))"
      ]
     },
     "execution_count": 178,
     "metadata": {},
     "output_type": "execute_result"
    }
   ],
   "source": [
    "np.linalg.eig(example_matrix1)"
   ]
  },
  {
   "cell_type": "code",
   "execution_count": null,
   "metadata": {},
   "outputs": [],
   "source": []
  }
 ],
 "metadata": {
  "kernelspec": {
   "display_name": "Python 3 (ipykernel)",
   "language": "python",
   "name": "python3"
  },
  "language_info": {
   "codemirror_mode": {
    "name": "ipython",
    "version": 3
   },
   "file_extension": ".py",
   "mimetype": "text/x-python",
   "name": "python",
   "nbconvert_exporter": "python",
   "pygments_lexer": "ipython3",
   "version": "3.8.11"
  },
  "vscode": {
   "interpreter": {
    "hash": "3820477eeda6a2056d25dbf35341ad4ea495fec12a885dc74045ce43b88b4168"
   }
  }
 },
 "nbformat": 4,
 "nbformat_minor": 4
}
